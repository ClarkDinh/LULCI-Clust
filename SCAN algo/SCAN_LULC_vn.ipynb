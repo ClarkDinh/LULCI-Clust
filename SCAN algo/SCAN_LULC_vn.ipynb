{
 "cells": [
  {
   "cell_type": "markdown",
   "id": "7de26225",
   "metadata": {},
   "source": [
    "# SCAN Pipeline: SimCLR + Clustering on LULC Dataset\n",
    "This notebook implements Step 1 (SimCLR pretext training) and Step 2 (SCAN clustering) for unsupervised learning on a custom Land Use/Land Cover (LULC) image dataset."
   ]
  },
  {
   "cell_type": "code",
   "execution_count": 1,
   "id": "f9136a49",
   "metadata": {},
   "outputs": [],
   "source": [
    "import os\n",
    "import torch\n",
    "import numpy as np\n",
    "from PIL import Image\n",
    "from glob import glob\n",
    "from tqdm import tqdm\n",
    "from torch.utils.data import Dataset, DataLoader\n",
    "from torchvision import transforms\n",
    "from sklearn.neighbors import NearestNeighbors\n",
    "\n",
    "from simclr_utils import SimCLRDataset, train_simclr\n",
    "from simclr_loss import NTXentLoss\n",
    "from scan_model import get_backbone, ClusterHead\n",
    "from train_scan import train_scan"
   ]
  },
  {
   "cell_type": "markdown",
   "id": "fd902f91",
   "metadata": {},
   "source": [
    "## 📁 Step 0: Load Flat Folder LULC Dataset"
   ]
  },
  {
   "cell_type": "code",
   "execution_count": 2,
   "id": "31c53078",
   "metadata": {},
   "outputs": [],
   "source": [
    "class FlatFolderDataset(Dataset):\n",
    "    def __init__(self, folder_path, transform=None):\n",
    "        self.image_paths = glob(os.path.join(folder_path, '*'))\n",
    "        self.transform = transform\n",
    "\n",
    "    def __len__(self):\n",
    "        return len(self.image_paths)\n",
    "\n",
    "    def __getitem__(self, idx):\n",
    "        img_path = self.image_paths[idx]\n",
    "        img = Image.open(img_path).convert(\"RGB\")\n",
    "        if self.transform:\n",
    "            return self.transform(img)\n",
    "        return img"
   ]
  },
  {
   "cell_type": "code",
   "execution_count": 3,
   "id": "7bdb5a41",
   "metadata": {},
   "outputs": [],
   "source": [
    "# Transformations\n",
    "transform_simclr = transforms.Compose([\n",
    "    transforms.RandomResizedCrop(64),\n",
    "    transforms.RandomHorizontalFlip(),\n",
    "    transforms.ColorJitter(0.4, 0.4, 0.4, 0.1),\n",
    "    transforms.RandomGrayscale(p=0.2),\n",
    "    transforms.ToTensor()\n",
    "])\n",
    "\n",
    "base_transform = transforms.Compose([\n",
    "    transforms.Resize((64, 64)),  # ✅ Ensures all images are exactly [3, 64, 64]\n",
    "    transforms.ToTensor()\n",
    "])\n",
    "\n",
    "# Dataset path\n",
    "dataset_path = \"vietnam_jpg\"\n",
    "batch_size = 64"
   ]
  },
  {
   "cell_type": "code",
   "execution_count": 4,
   "id": "e5a35871",
   "metadata": {},
   "outputs": [],
   "source": [
    "# Load datasets\n",
    "flat_dataset = FlatFolderDataset(dataset_path, transform=None)\n",
    "simclr_dataset = SimCLRDataset(flat_dataset, transform_simclr)\n",
    "base_dataset = FlatFolderDataset(dataset_path, transform=base_transform)\n",
    "\n",
    "# Data loaders\n",
    "simclr_loader = DataLoader(simclr_dataset, batch_size=batch_size, shuffle=True, num_workers=0)\n",
    "base_loader   = DataLoader(base_dataset, batch_size=batch_size, shuffle=False, num_workers=0)"
   ]
  },
  {
   "cell_type": "markdown",
   "id": "71fcb471",
   "metadata": {},
   "source": [
    "## 🏋️‍♂️ Step 1: Train SimCLR Pretext Model"
   ]
  },
  {
   "cell_type": "code",
   "execution_count": 6,
   "id": "458222bd",
   "metadata": {},
   "outputs": [
    {
     "name": "stderr",
     "output_type": "stream",
     "text": [
      "Epoch 1/100:   0%|          | 0/1 [00:00<?, ?it/s]c:\\Users\\it08d\\.conda\\envs\\scan\\Lib\\site-packages\\PIL\\Image.py:3452: DecompressionBombWarning: Image size (95210464 pixels) exceeds limit of 89478485 pixels, could be decompression bomb DOS attack.\n",
      "  warnings.warn(\n",
      "c:\\Users\\it08d\\.conda\\envs\\scan\\Lib\\site-packages\\PIL\\Image.py:3452: DecompressionBombWarning: Image size (100419332 pixels) exceeds limit of 89478485 pixels, could be decompression bomb DOS attack.\n",
      "  warnings.warn(\n",
      "c:\\Users\\it08d\\.conda\\envs\\scan\\Lib\\site-packages\\PIL\\Image.py:3452: DecompressionBombWarning: Image size (114776326 pixels) exceeds limit of 89478485 pixels, could be decompression bomb DOS attack.\n",
      "  warnings.warn(\n",
      "c:\\Users\\it08d\\.conda\\envs\\scan\\Lib\\site-packages\\PIL\\Image.py:3452: DecompressionBombWarning: Image size (101476550 pixels) exceeds limit of 89478485 pixels, could be decompression bomb DOS attack.\n",
      "  warnings.warn(\n",
      "c:\\Users\\it08d\\.conda\\envs\\scan\\Lib\\site-packages\\PIL\\Image.py:3452: DecompressionBombWarning: Image size (91929942 pixels) exceeds limit of 89478485 pixels, could be decompression bomb DOS attack.\n",
      "  warnings.warn(\n",
      "c:\\Users\\it08d\\.conda\\envs\\scan\\Lib\\site-packages\\PIL\\Image.py:3452: DecompressionBombWarning: Image size (99584245 pixels) exceeds limit of 89478485 pixels, could be decompression bomb DOS attack.\n",
      "  warnings.warn(\n",
      "c:\\Users\\it08d\\.conda\\envs\\scan\\Lib\\site-packages\\PIL\\Image.py:3452: DecompressionBombWarning: Image size (96875520 pixels) exceeds limit of 89478485 pixels, could be decompression bomb DOS attack.\n",
      "  warnings.warn(\n",
      "c:\\Users\\it08d\\.conda\\envs\\scan\\Lib\\site-packages\\PIL\\Image.py:3452: DecompressionBombWarning: Image size (111955200 pixels) exceeds limit of 89478485 pixels, could be decompression bomb DOS attack.\n",
      "  warnings.warn(\n",
      "c:\\Users\\it08d\\.conda\\envs\\scan\\Lib\\site-packages\\PIL\\Image.py:3452: DecompressionBombWarning: Image size (94361372 pixels) exceeds limit of 89478485 pixels, could be decompression bomb DOS attack.\n",
      "  warnings.warn(\n",
      "c:\\Users\\it08d\\.conda\\envs\\scan\\Lib\\site-packages\\PIL\\Image.py:3452: DecompressionBombWarning: Image size (102320261 pixels) exceeds limit of 89478485 pixels, could be decompression bomb DOS attack.\n",
      "  warnings.warn(\n",
      "c:\\Users\\it08d\\.conda\\envs\\scan\\Lib\\site-packages\\PIL\\Image.py:3452: DecompressionBombWarning: Image size (95498442 pixels) exceeds limit of 89478485 pixels, could be decompression bomb DOS attack.\n",
      "  warnings.warn(\n",
      "c:\\Users\\it08d\\.conda\\envs\\scan\\Lib\\site-packages\\PIL\\Image.py:3452: DecompressionBombWarning: Image size (107409288 pixels) exceeds limit of 89478485 pixels, could be decompression bomb DOS attack.\n",
      "  warnings.warn(\n",
      "c:\\Users\\it08d\\.conda\\envs\\scan\\Lib\\site-packages\\PIL\\Image.py:3452: DecompressionBombWarning: Image size (94544582 pixels) exceeds limit of 89478485 pixels, could be decompression bomb DOS attack.\n",
      "  warnings.warn(\n",
      "c:\\Users\\it08d\\.conda\\envs\\scan\\Lib\\site-packages\\PIL\\Image.py:3452: DecompressionBombWarning: Image size (100498783 pixels) exceeds limit of 89478485 pixels, could be decompression bomb DOS attack.\n",
      "  warnings.warn(\n",
      "c:\\Users\\it08d\\.conda\\envs\\scan\\Lib\\site-packages\\PIL\\Image.py:3452: DecompressionBombWarning: Image size (96393158 pixels) exceeds limit of 89478485 pixels, could be decompression bomb DOS attack.\n",
      "  warnings.warn(\n",
      "c:\\Users\\it08d\\.conda\\envs\\scan\\Lib\\site-packages\\PIL\\Image.py:3452: DecompressionBombWarning: Image size (117023536 pixels) exceeds limit of 89478485 pixels, could be decompression bomb DOS attack.\n",
      "  warnings.warn(\n",
      "c:\\Users\\it08d\\.conda\\envs\\scan\\Lib\\site-packages\\PIL\\Image.py:3452: DecompressionBombWarning: Image size (106281630 pixels) exceeds limit of 89478485 pixels, could be decompression bomb DOS attack.\n",
      "  warnings.warn(\n",
      "c:\\Users\\it08d\\.conda\\envs\\scan\\Lib\\site-packages\\PIL\\Image.py:3452: DecompressionBombWarning: Image size (98496540 pixels) exceeds limit of 89478485 pixels, could be decompression bomb DOS attack.\n",
      "  warnings.warn(\n",
      "c:\\Users\\it08d\\.conda\\envs\\scan\\Lib\\site-packages\\PIL\\Image.py:3452: DecompressionBombWarning: Image size (90551248 pixels) exceeds limit of 89478485 pixels, could be decompression bomb DOS attack.\n",
      "  warnings.warn(\n",
      "c:\\Users\\it08d\\.conda\\envs\\scan\\Lib\\site-packages\\PIL\\Image.py:3452: DecompressionBombWarning: Image size (96552447 pixels) exceeds limit of 89478485 pixels, could be decompression bomb DOS attack.\n",
      "  warnings.warn(\n",
      "c:\\Users\\it08d\\.conda\\envs\\scan\\Lib\\site-packages\\PIL\\Image.py:3452: DecompressionBombWarning: Image size (89586953 pixels) exceeds limit of 89478485 pixels, could be decompression bomb DOS attack.\n",
      "  warnings.warn(\n",
      "c:\\Users\\it08d\\.conda\\envs\\scan\\Lib\\site-packages\\PIL\\Image.py:3452: DecompressionBombWarning: Image size (92049780 pixels) exceeds limit of 89478485 pixels, could be decompression bomb DOS attack.\n",
      "  warnings.warn(\n",
      "c:\\Users\\it08d\\.conda\\envs\\scan\\Lib\\site-packages\\PIL\\Image.py:3452: DecompressionBombWarning: Image size (93177520 pixels) exceeds limit of 89478485 pixels, could be decompression bomb DOS attack.\n",
      "  warnings.warn(\n",
      "c:\\Users\\it08d\\.conda\\envs\\scan\\Lib\\site-packages\\PIL\\Image.py:3452: DecompressionBombWarning: Image size (113059665 pixels) exceeds limit of 89478485 pixels, could be decompression bomb DOS attack.\n",
      "  warnings.warn(\n",
      "c:\\Users\\it08d\\.conda\\envs\\scan\\Lib\\site-packages\\PIL\\Image.py:3452: DecompressionBombWarning: Image size (111507000 pixels) exceeds limit of 89478485 pixels, could be decompression bomb DOS attack.\n",
      "  warnings.warn(\n",
      "c:\\Users\\it08d\\.conda\\envs\\scan\\Lib\\site-packages\\PIL\\Image.py:3452: DecompressionBombWarning: Image size (107515400 pixels) exceeds limit of 89478485 pixels, could be decompression bomb DOS attack.\n",
      "  warnings.warn(\n",
      "c:\\Users\\it08d\\.conda\\envs\\scan\\Lib\\site-packages\\PIL\\Image.py:3452: DecompressionBombWarning: Image size (95275621 pixels) exceeds limit of 89478485 pixels, could be decompression bomb DOS attack.\n",
      "  warnings.warn(\n",
      "c:\\Users\\it08d\\.conda\\envs\\scan\\Lib\\site-packages\\PIL\\Image.py:3452: DecompressionBombWarning: Image size (92542464 pixels) exceeds limit of 89478485 pixels, could be decompression bomb DOS attack.\n",
      "  warnings.warn(\n",
      "c:\\Users\\it08d\\.conda\\envs\\scan\\Lib\\site-packages\\PIL\\Image.py:3452: DecompressionBombWarning: Image size (93415708 pixels) exceeds limit of 89478485 pixels, could be decompression bomb DOS attack.\n",
      "  warnings.warn(\n",
      "c:\\Users\\it08d\\.conda\\envs\\scan\\Lib\\site-packages\\PIL\\Image.py:3452: DecompressionBombWarning: Image size (90822708 pixels) exceeds limit of 89478485 pixels, could be decompression bomb DOS attack.\n",
      "  warnings.warn(\n",
      "Epoch 1/100: 100%|██████████| 1/1 [02:25<00:00, 145.89s/it]\n"
     ]
    },
    {
     "name": "stdout",
     "output_type": "stream",
     "text": [
      "Epoch [1/100] Loss: 499999904.0000\n"
     ]
    },
    {
     "name": "stderr",
     "output_type": "stream",
     "text": [
      "Epoch 2/100:   0%|          | 0/1 [00:00<?, ?it/s]c:\\Users\\it08d\\.conda\\envs\\scan\\Lib\\site-packages\\PIL\\Image.py:3452: DecompressionBombWarning: Image size (104235204 pixels) exceeds limit of 89478485 pixels, could be decompression bomb DOS attack.\n",
      "  warnings.warn(\n",
      "c:\\Users\\it08d\\.conda\\envs\\scan\\Lib\\site-packages\\PIL\\Image.py:3452: DecompressionBombWarning: Image size (100203381 pixels) exceeds limit of 89478485 pixels, could be decompression bomb DOS attack.\n",
      "  warnings.warn(\n",
      "c:\\Users\\it08d\\.conda\\envs\\scan\\Lib\\site-packages\\PIL\\Image.py:3452: DecompressionBombWarning: Image size (98254035 pixels) exceeds limit of 89478485 pixels, could be decompression bomb DOS attack.\n",
      "  warnings.warn(\n",
      "c:\\Users\\it08d\\.conda\\envs\\scan\\Lib\\site-packages\\PIL\\Image.py:3452: DecompressionBombWarning: Image size (91218039 pixels) exceeds limit of 89478485 pixels, could be decompression bomb DOS attack.\n",
      "  warnings.warn(\n",
      "c:\\Users\\it08d\\.conda\\envs\\scan\\Lib\\site-packages\\PIL\\Image.py:3452: DecompressionBombWarning: Image size (104807424 pixels) exceeds limit of 89478485 pixels, could be decompression bomb DOS attack.\n",
      "  warnings.warn(\n",
      "c:\\Users\\it08d\\.conda\\envs\\scan\\Lib\\site-packages\\PIL\\Image.py:3452: DecompressionBombWarning: Image size (106804776 pixels) exceeds limit of 89478485 pixels, could be decompression bomb DOS attack.\n",
      "  warnings.warn(\n",
      "c:\\Users\\it08d\\.conda\\envs\\scan\\Lib\\site-packages\\PIL\\Image.py:3452: DecompressionBombWarning: Image size (112168316 pixels) exceeds limit of 89478485 pixels, could be decompression bomb DOS attack.\n",
      "  warnings.warn(\n",
      "c:\\Users\\it08d\\.conda\\envs\\scan\\Lib\\site-packages\\PIL\\Image.py:3452: DecompressionBombWarning: Image size (99502338 pixels) exceeds limit of 89478485 pixels, could be decompression bomb DOS attack.\n",
      "  warnings.warn(\n",
      "c:\\Users\\it08d\\.conda\\envs\\scan\\Lib\\site-packages\\PIL\\Image.py:3452: DecompressionBombWarning: Image size (95395938 pixels) exceeds limit of 89478485 pixels, could be decompression bomb DOS attack.\n",
      "  warnings.warn(\n",
      "c:\\Users\\it08d\\.conda\\envs\\scan\\Lib\\site-packages\\PIL\\Image.py:3452: DecompressionBombWarning: Image size (112747899 pixels) exceeds limit of 89478485 pixels, could be decompression bomb DOS attack.\n",
      "  warnings.warn(\n",
      "c:\\Users\\it08d\\.conda\\envs\\scan\\Lib\\site-packages\\PIL\\Image.py:3452: DecompressionBombWarning: Image size (113351720 pixels) exceeds limit of 89478485 pixels, could be decompression bomb DOS attack.\n",
      "  warnings.warn(\n",
      "c:\\Users\\it08d\\.conda\\envs\\scan\\Lib\\site-packages\\PIL\\Image.py:3452: DecompressionBombWarning: Image size (91647265 pixels) exceeds limit of 89478485 pixels, could be decompression bomb DOS attack.\n",
      "  warnings.warn(\n",
      "c:\\Users\\it08d\\.conda\\envs\\scan\\Lib\\site-packages\\PIL\\Image.py:3452: DecompressionBombWarning: Image size (105054101 pixels) exceeds limit of 89478485 pixels, could be decompression bomb DOS attack.\n",
      "  warnings.warn(\n",
      "c:\\Users\\it08d\\.conda\\envs\\scan\\Lib\\site-packages\\PIL\\Image.py:3452: DecompressionBombWarning: Image size (98914320 pixels) exceeds limit of 89478485 pixels, could be decompression bomb DOS attack.\n",
      "  warnings.warn(\n",
      "c:\\Users\\it08d\\.conda\\envs\\scan\\Lib\\site-packages\\PIL\\Image.py:3452: DecompressionBombWarning: Image size (97594310 pixels) exceeds limit of 89478485 pixels, could be decompression bomb DOS attack.\n",
      "  warnings.warn(\n",
      "c:\\Users\\it08d\\.conda\\envs\\scan\\Lib\\site-packages\\PIL\\Image.py:3452: DecompressionBombWarning: Image size (99916288 pixels) exceeds limit of 89478485 pixels, could be decompression bomb DOS attack.\n",
      "  warnings.warn(\n",
      "c:\\Users\\it08d\\.conda\\envs\\scan\\Lib\\site-packages\\PIL\\Image.py:3452: DecompressionBombWarning: Image size (100745540 pixels) exceeds limit of 89478485 pixels, could be decompression bomb DOS attack.\n",
      "  warnings.warn(\n",
      "c:\\Users\\it08d\\.conda\\envs\\scan\\Lib\\site-packages\\PIL\\Image.py:3452: DecompressionBombWarning: Image size (114175710 pixels) exceeds limit of 89478485 pixels, could be decompression bomb DOS attack.\n",
      "  warnings.warn(\n",
      "c:\\Users\\it08d\\.conda\\envs\\scan\\Lib\\site-packages\\PIL\\Image.py:3452: DecompressionBombWarning: Image size (111701997 pixels) exceeds limit of 89478485 pixels, could be decompression bomb DOS attack.\n",
      "  warnings.warn(\n",
      "c:\\Users\\it08d\\.conda\\envs\\scan\\Lib\\site-packages\\PIL\\Image.py:3452: DecompressionBombWarning: Image size (90205862 pixels) exceeds limit of 89478485 pixels, could be decompression bomb DOS attack.\n",
      "  warnings.warn(\n",
      "c:\\Users\\it08d\\.conda\\envs\\scan\\Lib\\site-packages\\PIL\\Image.py:3452: DecompressionBombWarning: Image size (104793660 pixels) exceeds limit of 89478485 pixels, could be decompression bomb DOS attack.\n",
      "  warnings.warn(\n",
      "c:\\Users\\it08d\\.conda\\envs\\scan\\Lib\\site-packages\\PIL\\Image.py:3452: DecompressionBombWarning: Image size (92218120 pixels) exceeds limit of 89478485 pixels, could be decompression bomb DOS attack.\n",
      "  warnings.warn(\n",
      "c:\\Users\\it08d\\.conda\\envs\\scan\\Lib\\site-packages\\PIL\\Image.py:3452: DecompressionBombWarning: Image size (90485920 pixels) exceeds limit of 89478485 pixels, could be decompression bomb DOS attack.\n",
      "  warnings.warn(\n",
      "c:\\Users\\it08d\\.conda\\envs\\scan\\Lib\\site-packages\\PIL\\Image.py:3452: DecompressionBombWarning: Image size (99151759 pixels) exceeds limit of 89478485 pixels, could be decompression bomb DOS attack.\n",
      "  warnings.warn(\n",
      "c:\\Users\\it08d\\.conda\\envs\\scan\\Lib\\site-packages\\PIL\\Image.py:3452: DecompressionBombWarning: Image size (99577678 pixels) exceeds limit of 89478485 pixels, could be decompression bomb DOS attack.\n",
      "  warnings.warn(\n",
      "Epoch 2/100: 100%|██████████| 1/1 [02:20<00:00, 140.96s/it]\n"
     ]
    },
    {
     "name": "stdout",
     "output_type": "stream",
     "text": [
      "Epoch [2/100] Loss: 499999904.0000\n"
     ]
    },
    {
     "name": "stderr",
     "output_type": "stream",
     "text": [
      "Epoch 3/100:   0%|          | 0/1 [00:00<?, ?it/s]c:\\Users\\it08d\\.conda\\envs\\scan\\Lib\\site-packages\\PIL\\Image.py:3452: DecompressionBombWarning: Image size (117166329 pixels) exceeds limit of 89478485 pixels, could be decompression bomb DOS attack.\n",
      "  warnings.warn(\n",
      "c:\\Users\\it08d\\.conda\\envs\\scan\\Lib\\site-packages\\PIL\\Image.py:3452: DecompressionBombWarning: Image size (105027060 pixels) exceeds limit of 89478485 pixels, could be decompression bomb DOS attack.\n",
      "  warnings.warn(\n",
      "c:\\Users\\it08d\\.conda\\envs\\scan\\Lib\\site-packages\\PIL\\Image.py:3452: DecompressionBombWarning: Image size (89674485 pixels) exceeds limit of 89478485 pixels, could be decompression bomb DOS attack.\n",
      "  warnings.warn(\n",
      "c:\\Users\\it08d\\.conda\\envs\\scan\\Lib\\site-packages\\PIL\\Image.py:3452: DecompressionBombWarning: Image size (93409296 pixels) exceeds limit of 89478485 pixels, could be decompression bomb DOS attack.\n",
      "  warnings.warn(\n",
      "c:\\Users\\it08d\\.conda\\envs\\scan\\Lib\\site-packages\\PIL\\Image.py:3452: DecompressionBombWarning: Image size (117971271 pixels) exceeds limit of 89478485 pixels, could be decompression bomb DOS attack.\n",
      "  warnings.warn(\n",
      "c:\\Users\\it08d\\.conda\\envs\\scan\\Lib\\site-packages\\PIL\\Image.py:3452: DecompressionBombWarning: Image size (102003519 pixels) exceeds limit of 89478485 pixels, could be decompression bomb DOS attack.\n",
      "  warnings.warn(\n",
      "c:\\Users\\it08d\\.conda\\envs\\scan\\Lib\\site-packages\\PIL\\Image.py:3452: DecompressionBombWarning: Image size (104669640 pixels) exceeds limit of 89478485 pixels, could be decompression bomb DOS attack.\n",
      "  warnings.warn(\n",
      "c:\\Users\\it08d\\.conda\\envs\\scan\\Lib\\site-packages\\PIL\\Image.py:3452: DecompressionBombWarning: Image size (115495500 pixels) exceeds limit of 89478485 pixels, could be decompression bomb DOS attack.\n",
      "  warnings.warn(\n",
      "c:\\Users\\it08d\\.conda\\envs\\scan\\Lib\\site-packages\\PIL\\Image.py:3452: DecompressionBombWarning: Image size (105054339 pixels) exceeds limit of 89478485 pixels, could be decompression bomb DOS attack.\n",
      "  warnings.warn(\n",
      "c:\\Users\\it08d\\.conda\\envs\\scan\\Lib\\site-packages\\PIL\\Image.py:3452: DecompressionBombWarning: Image size (93487394 pixels) exceeds limit of 89478485 pixels, could be decompression bomb DOS attack.\n",
      "  warnings.warn(\n",
      "c:\\Users\\it08d\\.conda\\envs\\scan\\Lib\\site-packages\\PIL\\Image.py:3452: DecompressionBombWarning: Image size (106350096 pixels) exceeds limit of 89478485 pixels, could be decompression bomb DOS attack.\n",
      "  warnings.warn(\n",
      "c:\\Users\\it08d\\.conda\\envs\\scan\\Lib\\site-packages\\PIL\\Image.py:3452: DecompressionBombWarning: Image size (95412143 pixels) exceeds limit of 89478485 pixels, could be decompression bomb DOS attack.\n",
      "  warnings.warn(\n",
      "c:\\Users\\it08d\\.conda\\envs\\scan\\Lib\\site-packages\\PIL\\Image.py:3452: DecompressionBombWarning: Image size (93257098 pixels) exceeds limit of 89478485 pixels, could be decompression bomb DOS attack.\n",
      "  warnings.warn(\n",
      "c:\\Users\\it08d\\.conda\\envs\\scan\\Lib\\site-packages\\PIL\\Image.py:3452: DecompressionBombWarning: Image size (101544690 pixels) exceeds limit of 89478485 pixels, could be decompression bomb DOS attack.\n",
      "  warnings.warn(\n",
      "c:\\Users\\it08d\\.conda\\envs\\scan\\Lib\\site-packages\\PIL\\Image.py:3452: DecompressionBombWarning: Image size (98141175 pixels) exceeds limit of 89478485 pixels, could be decompression bomb DOS attack.\n",
      "  warnings.warn(\n",
      "c:\\Users\\it08d\\.conda\\envs\\scan\\Lib\\site-packages\\PIL\\Image.py:3452: DecompressionBombWarning: Image size (114075589 pixels) exceeds limit of 89478485 pixels, could be decompression bomb DOS attack.\n",
      "  warnings.warn(\n",
      "c:\\Users\\it08d\\.conda\\envs\\scan\\Lib\\site-packages\\PIL\\Image.py:3452: DecompressionBombWarning: Image size (100605818 pixels) exceeds limit of 89478485 pixels, could be decompression bomb DOS attack.\n",
      "  warnings.warn(\n",
      "c:\\Users\\it08d\\.conda\\envs\\scan\\Lib\\site-packages\\PIL\\Image.py:3452: DecompressionBombWarning: Image size (103518968 pixels) exceeds limit of 89478485 pixels, could be decompression bomb DOS attack.\n",
      "  warnings.warn(\n",
      "c:\\Users\\it08d\\.conda\\envs\\scan\\Lib\\site-packages\\PIL\\Image.py:3452: DecompressionBombWarning: Image size (95012456 pixels) exceeds limit of 89478485 pixels, could be decompression bomb DOS attack.\n",
      "  warnings.warn(\n",
      "c:\\Users\\it08d\\.conda\\envs\\scan\\Lib\\site-packages\\PIL\\Image.py:3452: DecompressionBombWarning: Image size (98767968 pixels) exceeds limit of 89478485 pixels, could be decompression bomb DOS attack.\n",
      "  warnings.warn(\n",
      "Epoch 3/100: 100%|██████████| 1/1 [02:37<00:00, 157.91s/it]\n"
     ]
    },
    {
     "name": "stdout",
     "output_type": "stream",
     "text": [
      "Epoch [3/100] Loss: 499999904.0000\n"
     ]
    },
    {
     "name": "stderr",
     "output_type": "stream",
     "text": [
      "Epoch 4/100:   0%|          | 0/1 [00:00<?, ?it/s]c:\\Users\\it08d\\.conda\\envs\\scan\\Lib\\site-packages\\PIL\\Image.py:3452: DecompressionBombWarning: Image size (98359835 pixels) exceeds limit of 89478485 pixels, could be decompression bomb DOS attack.\n",
      "  warnings.warn(\n",
      "c:\\Users\\it08d\\.conda\\envs\\scan\\Lib\\site-packages\\PIL\\Image.py:3452: DecompressionBombWarning: Image size (111752055 pixels) exceeds limit of 89478485 pixels, could be decompression bomb DOS attack.\n",
      "  warnings.warn(\n",
      "c:\\Users\\it08d\\.conda\\envs\\scan\\Lib\\site-packages\\PIL\\Image.py:3452: DecompressionBombWarning: Image size (106998632 pixels) exceeds limit of 89478485 pixels, could be decompression bomb DOS attack.\n",
      "  warnings.warn(\n",
      "c:\\Users\\it08d\\.conda\\envs\\scan\\Lib\\site-packages\\PIL\\Image.py:3452: DecompressionBombWarning: Image size (103045281 pixels) exceeds limit of 89478485 pixels, could be decompression bomb DOS attack.\n",
      "  warnings.warn(\n",
      "c:\\Users\\it08d\\.conda\\envs\\scan\\Lib\\site-packages\\PIL\\Image.py:3452: DecompressionBombWarning: Image size (93056918 pixels) exceeds limit of 89478485 pixels, could be decompression bomb DOS attack.\n",
      "  warnings.warn(\n",
      "c:\\Users\\it08d\\.conda\\envs\\scan\\Lib\\site-packages\\PIL\\Image.py:3452: DecompressionBombWarning: Image size (96528861 pixels) exceeds limit of 89478485 pixels, could be decompression bomb DOS attack.\n",
      "  warnings.warn(\n",
      "c:\\Users\\it08d\\.conda\\envs\\scan\\Lib\\site-packages\\PIL\\Image.py:3452: DecompressionBombWarning: Image size (93716576 pixels) exceeds limit of 89478485 pixels, could be decompression bomb DOS attack.\n",
      "  warnings.warn(\n",
      "c:\\Users\\it08d\\.conda\\envs\\scan\\Lib\\site-packages\\PIL\\Image.py:3452: DecompressionBombWarning: Image size (116723178 pixels) exceeds limit of 89478485 pixels, could be decompression bomb DOS attack.\n",
      "  warnings.warn(\n",
      "c:\\Users\\it08d\\.conda\\envs\\scan\\Lib\\site-packages\\PIL\\Image.py:3452: DecompressionBombWarning: Image size (115185686 pixels) exceeds limit of 89478485 pixels, could be decompression bomb DOS attack.\n",
      "  warnings.warn(\n",
      "c:\\Users\\it08d\\.conda\\envs\\scan\\Lib\\site-packages\\PIL\\Image.py:3452: DecompressionBombWarning: Image size (97509110 pixels) exceeds limit of 89478485 pixels, could be decompression bomb DOS attack.\n",
      "  warnings.warn(\n",
      "c:\\Users\\it08d\\.conda\\envs\\scan\\Lib\\site-packages\\PIL\\Image.py:3452: DecompressionBombWarning: Image size (107367563 pixels) exceeds limit of 89478485 pixels, could be decompression bomb DOS attack.\n",
      "  warnings.warn(\n",
      "c:\\Users\\it08d\\.conda\\envs\\scan\\Lib\\site-packages\\PIL\\Image.py:3452: DecompressionBombWarning: Image size (103324147 pixels) exceeds limit of 89478485 pixels, could be decompression bomb DOS attack.\n",
      "  warnings.warn(\n",
      "c:\\Users\\it08d\\.conda\\envs\\scan\\Lib\\site-packages\\PIL\\Image.py:3452: DecompressionBombWarning: Image size (107075384 pixels) exceeds limit of 89478485 pixels, could be decompression bomb DOS attack.\n",
      "  warnings.warn(\n",
      "c:\\Users\\it08d\\.conda\\envs\\scan\\Lib\\site-packages\\PIL\\Image.py:3452: DecompressionBombWarning: Image size (110490762 pixels) exceeds limit of 89478485 pixels, could be decompression bomb DOS attack.\n",
      "  warnings.warn(\n",
      "c:\\Users\\it08d\\.conda\\envs\\scan\\Lib\\site-packages\\PIL\\Image.py:3452: DecompressionBombWarning: Image size (104739363 pixels) exceeds limit of 89478485 pixels, could be decompression bomb DOS attack.\n",
      "  warnings.warn(\n",
      "c:\\Users\\it08d\\.conda\\envs\\scan\\Lib\\site-packages\\PIL\\Image.py:3452: DecompressionBombWarning: Image size (99524056 pixels) exceeds limit of 89478485 pixels, could be decompression bomb DOS attack.\n",
      "  warnings.warn(\n",
      "c:\\Users\\it08d\\.conda\\envs\\scan\\Lib\\site-packages\\PIL\\Image.py:3452: DecompressionBombWarning: Image size (95583950 pixels) exceeds limit of 89478485 pixels, could be decompression bomb DOS attack.\n",
      "  warnings.warn(\n",
      "c:\\Users\\it08d\\.conda\\envs\\scan\\Lib\\site-packages\\PIL\\Image.py:3452: DecompressionBombWarning: Image size (100234925 pixels) exceeds limit of 89478485 pixels, could be decompression bomb DOS attack.\n",
      "  warnings.warn(\n",
      "c:\\Users\\it08d\\.conda\\envs\\scan\\Lib\\site-packages\\PIL\\Image.py:3452: DecompressionBombWarning: Image size (91298094 pixels) exceeds limit of 89478485 pixels, could be decompression bomb DOS attack.\n",
      "  warnings.warn(\n",
      "c:\\Users\\it08d\\.conda\\envs\\scan\\Lib\\site-packages\\PIL\\Image.py:3452: DecompressionBombWarning: Image size (104719830 pixels) exceeds limit of 89478485 pixels, could be decompression bomb DOS attack.\n",
      "  warnings.warn(\n",
      "c:\\Users\\it08d\\.conda\\envs\\scan\\Lib\\site-packages\\PIL\\Image.py:3452: DecompressionBombWarning: Image size (102043480 pixels) exceeds limit of 89478485 pixels, could be decompression bomb DOS attack.\n",
      "  warnings.warn(\n",
      "c:\\Users\\it08d\\.conda\\envs\\scan\\Lib\\site-packages\\PIL\\Image.py:3452: DecompressionBombWarning: Image size (97211520 pixels) exceeds limit of 89478485 pixels, could be decompression bomb DOS attack.\n",
      "  warnings.warn(\n",
      "c:\\Users\\it08d\\.conda\\envs\\scan\\Lib\\site-packages\\PIL\\Image.py:3452: DecompressionBombWarning: Image size (93892408 pixels) exceeds limit of 89478485 pixels, could be decompression bomb DOS attack.\n",
      "  warnings.warn(\n",
      "c:\\Users\\it08d\\.conda\\envs\\scan\\Lib\\site-packages\\PIL\\Image.py:3452: DecompressionBombWarning: Image size (107932000 pixels) exceeds limit of 89478485 pixels, could be decompression bomb DOS attack.\n",
      "  warnings.warn(\n",
      "Epoch 4/100: 100%|██████████| 1/1 [02:23<00:00, 143.42s/it]\n"
     ]
    },
    {
     "name": "stdout",
     "output_type": "stream",
     "text": [
      "Epoch [4/100] Loss: 499999904.0000\n"
     ]
    },
    {
     "name": "stderr",
     "output_type": "stream",
     "text": [
      "Epoch 5/100:   0%|          | 0/1 [00:00<?, ?it/s]c:\\Users\\it08d\\.conda\\envs\\scan\\Lib\\site-packages\\PIL\\Image.py:3452: DecompressionBombWarning: Image size (99960678 pixels) exceeds limit of 89478485 pixels, could be decompression bomb DOS attack.\n",
      "  warnings.warn(\n",
      "c:\\Users\\it08d\\.conda\\envs\\scan\\Lib\\site-packages\\PIL\\Image.py:3452: DecompressionBombWarning: Image size (101365680 pixels) exceeds limit of 89478485 pixels, could be decompression bomb DOS attack.\n",
      "  warnings.warn(\n",
      "c:\\Users\\it08d\\.conda\\envs\\scan\\Lib\\site-packages\\PIL\\Image.py:3452: DecompressionBombWarning: Image size (92113855 pixels) exceeds limit of 89478485 pixels, could be decompression bomb DOS attack.\n",
      "  warnings.warn(\n",
      "c:\\Users\\it08d\\.conda\\envs\\scan\\Lib\\site-packages\\PIL\\Image.py:3452: DecompressionBombWarning: Image size (97322855 pixels) exceeds limit of 89478485 pixels, could be decompression bomb DOS attack.\n",
      "  warnings.warn(\n",
      "c:\\Users\\it08d\\.conda\\envs\\scan\\Lib\\site-packages\\PIL\\Image.py:3452: DecompressionBombWarning: Image size (101099056 pixels) exceeds limit of 89478485 pixels, could be decompression bomb DOS attack.\n",
      "  warnings.warn(\n",
      "c:\\Users\\it08d\\.conda\\envs\\scan\\Lib\\site-packages\\PIL\\Image.py:3452: DecompressionBombWarning: Image size (115164960 pixels) exceeds limit of 89478485 pixels, could be decompression bomb DOS attack.\n",
      "  warnings.warn(\n",
      "c:\\Users\\it08d\\.conda\\envs\\scan\\Lib\\site-packages\\PIL\\Image.py:3452: DecompressionBombWarning: Image size (94474080 pixels) exceeds limit of 89478485 pixels, could be decompression bomb DOS attack.\n",
      "  warnings.warn(\n",
      "c:\\Users\\it08d\\.conda\\envs\\scan\\Lib\\site-packages\\PIL\\Image.py:3452: DecompressionBombWarning: Image size (89971642 pixels) exceeds limit of 89478485 pixels, could be decompression bomb DOS attack.\n",
      "  warnings.warn(\n",
      "c:\\Users\\it08d\\.conda\\envs\\scan\\Lib\\site-packages\\PIL\\Image.py:3452: DecompressionBombWarning: Image size (94252834 pixels) exceeds limit of 89478485 pixels, could be decompression bomb DOS attack.\n",
      "  warnings.warn(\n",
      "c:\\Users\\it08d\\.conda\\envs\\scan\\Lib\\site-packages\\PIL\\Image.py:3452: DecompressionBombWarning: Image size (103843686 pixels) exceeds limit of 89478485 pixels, could be decompression bomb DOS attack.\n",
      "  warnings.warn(\n",
      "c:\\Users\\it08d\\.conda\\envs\\scan\\Lib\\site-packages\\PIL\\Image.py:3452: DecompressionBombWarning: Image size (111408025 pixels) exceeds limit of 89478485 pixels, could be decompression bomb DOS attack.\n",
      "  warnings.warn(\n",
      "c:\\Users\\it08d\\.conda\\envs\\scan\\Lib\\site-packages\\PIL\\Image.py:3452: DecompressionBombWarning: Image size (99653617 pixels) exceeds limit of 89478485 pixels, could be decompression bomb DOS attack.\n",
      "  warnings.warn(\n",
      "c:\\Users\\it08d\\.conda\\envs\\scan\\Lib\\site-packages\\PIL\\Image.py:3452: DecompressionBombWarning: Image size (99689571 pixels) exceeds limit of 89478485 pixels, could be decompression bomb DOS attack.\n",
      "  warnings.warn(\n",
      "c:\\Users\\it08d\\.conda\\envs\\scan\\Lib\\site-packages\\PIL\\Image.py:3452: DecompressionBombWarning: Image size (109397958 pixels) exceeds limit of 89478485 pixels, could be decompression bomb DOS attack.\n",
      "  warnings.warn(\n",
      "c:\\Users\\it08d\\.conda\\envs\\scan\\Lib\\site-packages\\PIL\\Image.py:3452: DecompressionBombWarning: Image size (103107864 pixels) exceeds limit of 89478485 pixels, could be decompression bomb DOS attack.\n",
      "  warnings.warn(\n",
      "c:\\Users\\it08d\\.conda\\envs\\scan\\Lib\\site-packages\\PIL\\Image.py:3452: DecompressionBombWarning: Image size (96397392 pixels) exceeds limit of 89478485 pixels, could be decompression bomb DOS attack.\n",
      "  warnings.warn(\n",
      "c:\\Users\\it08d\\.conda\\envs\\scan\\Lib\\site-packages\\PIL\\Image.py:3452: DecompressionBombWarning: Image size (119510270 pixels) exceeds limit of 89478485 pixels, could be decompression bomb DOS attack.\n",
      "  warnings.warn(\n",
      "c:\\Users\\it08d\\.conda\\envs\\scan\\Lib\\site-packages\\PIL\\Image.py:3452: DecompressionBombWarning: Image size (102492456 pixels) exceeds limit of 89478485 pixels, could be decompression bomb DOS attack.\n",
      "  warnings.warn(\n",
      "c:\\Users\\it08d\\.conda\\envs\\scan\\Lib\\site-packages\\PIL\\Image.py:3452: DecompressionBombWarning: Image size (95879490 pixels) exceeds limit of 89478485 pixels, could be decompression bomb DOS attack.\n",
      "  warnings.warn(\n",
      "c:\\Users\\it08d\\.conda\\envs\\scan\\Lib\\site-packages\\PIL\\Image.py:3452: DecompressionBombWarning: Image size (116475506 pixels) exceeds limit of 89478485 pixels, could be decompression bomb DOS attack.\n",
      "  warnings.warn(\n",
      "c:\\Users\\it08d\\.conda\\envs\\scan\\Lib\\site-packages\\PIL\\Image.py:3452: DecompressionBombWarning: Image size (115853766 pixels) exceeds limit of 89478485 pixels, could be decompression bomb DOS attack.\n",
      "  warnings.warn(\n",
      "c:\\Users\\it08d\\.conda\\envs\\scan\\Lib\\site-packages\\PIL\\Image.py:3452: DecompressionBombWarning: Image size (116163315 pixels) exceeds limit of 89478485 pixels, could be decompression bomb DOS attack.\n",
      "  warnings.warn(\n",
      "Epoch 5/100: 100%|██████████| 1/1 [02:25<00:00, 145.77s/it]\n"
     ]
    },
    {
     "name": "stdout",
     "output_type": "stream",
     "text": [
      "Epoch [5/100] Loss: 499999904.0000\n"
     ]
    },
    {
     "name": "stderr",
     "output_type": "stream",
     "text": [
      "Epoch 6/100:   0%|          | 0/1 [00:00<?, ?it/s]c:\\Users\\it08d\\.conda\\envs\\scan\\Lib\\site-packages\\PIL\\Image.py:3452: DecompressionBombWarning: Image size (113232280 pixels) exceeds limit of 89478485 pixels, could be decompression bomb DOS attack.\n",
      "  warnings.warn(\n",
      "c:\\Users\\it08d\\.conda\\envs\\scan\\Lib\\site-packages\\PIL\\Image.py:3452: DecompressionBombWarning: Image size (110663300 pixels) exceeds limit of 89478485 pixels, could be decompression bomb DOS attack.\n",
      "  warnings.warn(\n",
      "c:\\Users\\it08d\\.conda\\envs\\scan\\Lib\\site-packages\\PIL\\Image.py:3452: DecompressionBombWarning: Image size (107163543 pixels) exceeds limit of 89478485 pixels, could be decompression bomb DOS attack.\n",
      "  warnings.warn(\n",
      "c:\\Users\\it08d\\.conda\\envs\\scan\\Lib\\site-packages\\PIL\\Image.py:3452: DecompressionBombWarning: Image size (118198703 pixels) exceeds limit of 89478485 pixels, could be decompression bomb DOS attack.\n",
      "  warnings.warn(\n",
      "c:\\Users\\it08d\\.conda\\envs\\scan\\Lib\\site-packages\\PIL\\Image.py:3452: DecompressionBombWarning: Image size (94236667 pixels) exceeds limit of 89478485 pixels, could be decompression bomb DOS attack.\n",
      "  warnings.warn(\n",
      "c:\\Users\\it08d\\.conda\\envs\\scan\\Lib\\site-packages\\PIL\\Image.py:3452: DecompressionBombWarning: Image size (91814136 pixels) exceeds limit of 89478485 pixels, could be decompression bomb DOS attack.\n",
      "  warnings.warn(\n",
      "c:\\Users\\it08d\\.conda\\envs\\scan\\Lib\\site-packages\\PIL\\Image.py:3452: DecompressionBombWarning: Image size (104889269 pixels) exceeds limit of 89478485 pixels, could be decompression bomb DOS attack.\n",
      "  warnings.warn(\n",
      "c:\\Users\\it08d\\.conda\\envs\\scan\\Lib\\site-packages\\PIL\\Image.py:3452: DecompressionBombWarning: Image size (101263050 pixels) exceeds limit of 89478485 pixels, could be decompression bomb DOS attack.\n",
      "  warnings.warn(\n",
      "c:\\Users\\it08d\\.conda\\envs\\scan\\Lib\\site-packages\\PIL\\Image.py:3452: DecompressionBombWarning: Image size (93917464 pixels) exceeds limit of 89478485 pixels, could be decompression bomb DOS attack.\n",
      "  warnings.warn(\n",
      "c:\\Users\\it08d\\.conda\\envs\\scan\\Lib\\site-packages\\PIL\\Image.py:3452: DecompressionBombWarning: Image size (103202441 pixels) exceeds limit of 89478485 pixels, could be decompression bomb DOS attack.\n",
      "  warnings.warn(\n",
      "c:\\Users\\it08d\\.conda\\envs\\scan\\Lib\\site-packages\\PIL\\Image.py:3452: DecompressionBombWarning: Image size (103104496 pixels) exceeds limit of 89478485 pixels, could be decompression bomb DOS attack.\n",
      "  warnings.warn(\n",
      "c:\\Users\\it08d\\.conda\\envs\\scan\\Lib\\site-packages\\PIL\\Image.py:3452: DecompressionBombWarning: Image size (106534760 pixels) exceeds limit of 89478485 pixels, could be decompression bomb DOS attack.\n",
      "  warnings.warn(\n",
      "c:\\Users\\it08d\\.conda\\envs\\scan\\Lib\\site-packages\\PIL\\Image.py:3452: DecompressionBombWarning: Image size (101266200 pixels) exceeds limit of 89478485 pixels, could be decompression bomb DOS attack.\n",
      "  warnings.warn(\n",
      "c:\\Users\\it08d\\.conda\\envs\\scan\\Lib\\site-packages\\PIL\\Image.py:3452: DecompressionBombWarning: Image size (109137080 pixels) exceeds limit of 89478485 pixels, could be decompression bomb DOS attack.\n",
      "  warnings.warn(\n",
      "c:\\Users\\it08d\\.conda\\envs\\scan\\Lib\\site-packages\\PIL\\Image.py:3452: DecompressionBombWarning: Image size (107915402 pixels) exceeds limit of 89478485 pixels, could be decompression bomb DOS attack.\n",
      "  warnings.warn(\n",
      "c:\\Users\\it08d\\.conda\\envs\\scan\\Lib\\site-packages\\PIL\\Image.py:3452: DecompressionBombWarning: Image size (98768592 pixels) exceeds limit of 89478485 pixels, could be decompression bomb DOS attack.\n",
      "  warnings.warn(\n",
      "c:\\Users\\it08d\\.conda\\envs\\scan\\Lib\\site-packages\\PIL\\Image.py:3452: DecompressionBombWarning: Image size (110633536 pixels) exceeds limit of 89478485 pixels, could be decompression bomb DOS attack.\n",
      "  warnings.warn(\n",
      "c:\\Users\\it08d\\.conda\\envs\\scan\\Lib\\site-packages\\PIL\\Image.py:3452: DecompressionBombWarning: Image size (96797282 pixels) exceeds limit of 89478485 pixels, could be decompression bomb DOS attack.\n",
      "  warnings.warn(\n",
      "c:\\Users\\it08d\\.conda\\envs\\scan\\Lib\\site-packages\\PIL\\Image.py:3452: DecompressionBombWarning: Image size (94362444 pixels) exceeds limit of 89478485 pixels, could be decompression bomb DOS attack.\n",
      "  warnings.warn(\n",
      "c:\\Users\\it08d\\.conda\\envs\\scan\\Lib\\site-packages\\PIL\\Image.py:3452: DecompressionBombWarning: Image size (99202785 pixels) exceeds limit of 89478485 pixels, could be decompression bomb DOS attack.\n",
      "  warnings.warn(\n",
      "c:\\Users\\it08d\\.conda\\envs\\scan\\Lib\\site-packages\\PIL\\Image.py:3452: DecompressionBombWarning: Image size (113103760 pixels) exceeds limit of 89478485 pixels, could be decompression bomb DOS attack.\n",
      "  warnings.warn(\n",
      "c:\\Users\\it08d\\.conda\\envs\\scan\\Lib\\site-packages\\PIL\\Image.py:3452: DecompressionBombWarning: Image size (114074816 pixels) exceeds limit of 89478485 pixels, could be decompression bomb DOS attack.\n",
      "  warnings.warn(\n",
      "Epoch 6/100: 100%|██████████| 1/1 [02:33<00:00, 153.23s/it]\n"
     ]
    },
    {
     "name": "stdout",
     "output_type": "stream",
     "text": [
      "Epoch [6/100] Loss: 499999904.0000\n"
     ]
    },
    {
     "name": "stderr",
     "output_type": "stream",
     "text": [
      "Epoch 7/100:   0%|          | 0/1 [00:00<?, ?it/s]c:\\Users\\it08d\\.conda\\envs\\scan\\Lib\\site-packages\\PIL\\Image.py:3452: DecompressionBombWarning: Image size (91964320 pixels) exceeds limit of 89478485 pixels, could be decompression bomb DOS attack.\n",
      "  warnings.warn(\n",
      "c:\\Users\\it08d\\.conda\\envs\\scan\\Lib\\site-packages\\PIL\\Image.py:3452: DecompressionBombWarning: Image size (90994726 pixels) exceeds limit of 89478485 pixels, could be decompression bomb DOS attack.\n",
      "  warnings.warn(\n",
      "c:\\Users\\it08d\\.conda\\envs\\scan\\Lib\\site-packages\\PIL\\Image.py:3452: DecompressionBombWarning: Image size (103482112 pixels) exceeds limit of 89478485 pixels, could be decompression bomb DOS attack.\n",
      "  warnings.warn(\n",
      "c:\\Users\\it08d\\.conda\\envs\\scan\\Lib\\site-packages\\PIL\\Image.py:3452: DecompressionBombWarning: Image size (105362655 pixels) exceeds limit of 89478485 pixels, could be decompression bomb DOS attack.\n",
      "  warnings.warn(\n",
      "c:\\Users\\it08d\\.conda\\envs\\scan\\Lib\\site-packages\\PIL\\Image.py:3452: DecompressionBombWarning: Image size (102729900 pixels) exceeds limit of 89478485 pixels, could be decompression bomb DOS attack.\n",
      "  warnings.warn(\n",
      "c:\\Users\\it08d\\.conda\\envs\\scan\\Lib\\site-packages\\PIL\\Image.py:3452: DecompressionBombWarning: Image size (94114431 pixels) exceeds limit of 89478485 pixels, could be decompression bomb DOS attack.\n",
      "  warnings.warn(\n",
      "c:\\Users\\it08d\\.conda\\envs\\scan\\Lib\\site-packages\\PIL\\Image.py:3452: DecompressionBombWarning: Image size (93528097 pixels) exceeds limit of 89478485 pixels, could be decompression bomb DOS attack.\n",
      "  warnings.warn(\n",
      "c:\\Users\\it08d\\.conda\\envs\\scan\\Lib\\site-packages\\PIL\\Image.py:3452: DecompressionBombWarning: Image size (92498870 pixels) exceeds limit of 89478485 pixels, could be decompression bomb DOS attack.\n",
      "  warnings.warn(\n",
      "c:\\Users\\it08d\\.conda\\envs\\scan\\Lib\\site-packages\\PIL\\Image.py:3452: DecompressionBombWarning: Image size (106676166 pixels) exceeds limit of 89478485 pixels, could be decompression bomb DOS attack.\n",
      "  warnings.warn(\n",
      "c:\\Users\\it08d\\.conda\\envs\\scan\\Lib\\site-packages\\PIL\\Image.py:3452: DecompressionBombWarning: Image size (105738600 pixels) exceeds limit of 89478485 pixels, could be decompression bomb DOS attack.\n",
      "  warnings.warn(\n",
      "c:\\Users\\it08d\\.conda\\envs\\scan\\Lib\\site-packages\\PIL\\Image.py:3452: DecompressionBombWarning: Image size (94149560 pixels) exceeds limit of 89478485 pixels, could be decompression bomb DOS attack.\n",
      "  warnings.warn(\n",
      "c:\\Users\\it08d\\.conda\\envs\\scan\\Lib\\site-packages\\PIL\\Image.py:3452: DecompressionBombWarning: Image size (100701940 pixels) exceeds limit of 89478485 pixels, could be decompression bomb DOS attack.\n",
      "  warnings.warn(\n",
      "c:\\Users\\it08d\\.conda\\envs\\scan\\Lib\\site-packages\\PIL\\Image.py:3452: DecompressionBombWarning: Image size (108778339 pixels) exceeds limit of 89478485 pixels, could be decompression bomb DOS attack.\n",
      "  warnings.warn(\n",
      "c:\\Users\\it08d\\.conda\\envs\\scan\\Lib\\site-packages\\PIL\\Image.py:3452: DecompressionBombWarning: Image size (94884588 pixels) exceeds limit of 89478485 pixels, could be decompression bomb DOS attack.\n",
      "  warnings.warn(\n",
      "c:\\Users\\it08d\\.conda\\envs\\scan\\Lib\\site-packages\\PIL\\Image.py:3452: DecompressionBombWarning: Image size (95324670 pixels) exceeds limit of 89478485 pixels, could be decompression bomb DOS attack.\n",
      "  warnings.warn(\n",
      "c:\\Users\\it08d\\.conda\\envs\\scan\\Lib\\site-packages\\PIL\\Image.py:3452: DecompressionBombWarning: Image size (93911818 pixels) exceeds limit of 89478485 pixels, could be decompression bomb DOS attack.\n",
      "  warnings.warn(\n",
      "c:\\Users\\it08d\\.conda\\envs\\scan\\Lib\\site-packages\\PIL\\Image.py:3452: DecompressionBombWarning: Image size (92359960 pixels) exceeds limit of 89478485 pixels, could be decompression bomb DOS attack.\n",
      "  warnings.warn(\n",
      "c:\\Users\\it08d\\.conda\\envs\\scan\\Lib\\site-packages\\PIL\\Image.py:3452: DecompressionBombWarning: Image size (109428690 pixels) exceeds limit of 89478485 pixels, could be decompression bomb DOS attack.\n",
      "  warnings.warn(\n",
      "Epoch 7/100: 100%|██████████| 1/1 [02:36<00:00, 156.70s/it]\n"
     ]
    },
    {
     "name": "stdout",
     "output_type": "stream",
     "text": [
      "Epoch [7/100] Loss: 499999904.0000\n"
     ]
    },
    {
     "name": "stderr",
     "output_type": "stream",
     "text": [
      "Epoch 8/100:   0%|          | 0/1 [00:00<?, ?it/s]c:\\Users\\it08d\\.conda\\envs\\scan\\Lib\\site-packages\\PIL\\Image.py:3452: DecompressionBombWarning: Image size (97093980 pixels) exceeds limit of 89478485 pixels, could be decompression bomb DOS attack.\n",
      "  warnings.warn(\n",
      "c:\\Users\\it08d\\.conda\\envs\\scan\\Lib\\site-packages\\PIL\\Image.py:3452: DecompressionBombWarning: Image size (100866114 pixels) exceeds limit of 89478485 pixels, could be decompression bomb DOS attack.\n",
      "  warnings.warn(\n",
      "c:\\Users\\it08d\\.conda\\envs\\scan\\Lib\\site-packages\\PIL\\Image.py:3452: DecompressionBombWarning: Image size (101584245 pixels) exceeds limit of 89478485 pixels, could be decompression bomb DOS attack.\n",
      "  warnings.warn(\n",
      "c:\\Users\\it08d\\.conda\\envs\\scan\\Lib\\site-packages\\PIL\\Image.py:3452: DecompressionBombWarning: Image size (113976967 pixels) exceeds limit of 89478485 pixels, could be decompression bomb DOS attack.\n",
      "  warnings.warn(\n",
      "c:\\Users\\it08d\\.conda\\envs\\scan\\Lib\\site-packages\\PIL\\Image.py:3452: DecompressionBombWarning: Image size (99551949 pixels) exceeds limit of 89478485 pixels, could be decompression bomb DOS attack.\n",
      "  warnings.warn(\n",
      "c:\\Users\\it08d\\.conda\\envs\\scan\\Lib\\site-packages\\PIL\\Image.py:3452: DecompressionBombWarning: Image size (111197593 pixels) exceeds limit of 89478485 pixels, could be decompression bomb DOS attack.\n",
      "  warnings.warn(\n",
      "c:\\Users\\it08d\\.conda\\envs\\scan\\Lib\\site-packages\\PIL\\Image.py:3452: DecompressionBombWarning: Image size (97258652 pixels) exceeds limit of 89478485 pixels, could be decompression bomb DOS attack.\n",
      "  warnings.warn(\n",
      "c:\\Users\\it08d\\.conda\\envs\\scan\\Lib\\site-packages\\PIL\\Image.py:3452: DecompressionBombWarning: Image size (99184959 pixels) exceeds limit of 89478485 pixels, could be decompression bomb DOS attack.\n",
      "  warnings.warn(\n",
      "c:\\Users\\it08d\\.conda\\envs\\scan\\Lib\\site-packages\\PIL\\Image.py:3452: DecompressionBombWarning: Image size (93362598 pixels) exceeds limit of 89478485 pixels, could be decompression bomb DOS attack.\n",
      "  warnings.warn(\n",
      "c:\\Users\\it08d\\.conda\\envs\\scan\\Lib\\site-packages\\PIL\\Image.py:3452: DecompressionBombWarning: Image size (91561698 pixels) exceeds limit of 89478485 pixels, could be decompression bomb DOS attack.\n",
      "  warnings.warn(\n",
      "c:\\Users\\it08d\\.conda\\envs\\scan\\Lib\\site-packages\\PIL\\Image.py:3452: DecompressionBombWarning: Image size (121451205 pixels) exceeds limit of 89478485 pixels, could be decompression bomb DOS attack.\n",
      "  warnings.warn(\n",
      "c:\\Users\\it08d\\.conda\\envs\\scan\\Lib\\site-packages\\PIL\\Image.py:3452: DecompressionBombWarning: Image size (93901500 pixels) exceeds limit of 89478485 pixels, could be decompression bomb DOS attack.\n",
      "  warnings.warn(\n",
      "c:\\Users\\it08d\\.conda\\envs\\scan\\Lib\\site-packages\\PIL\\Image.py:3452: DecompressionBombWarning: Image size (118458261 pixels) exceeds limit of 89478485 pixels, could be decompression bomb DOS attack.\n",
      "  warnings.warn(\n",
      "c:\\Users\\it08d\\.conda\\envs\\scan\\Lib\\site-packages\\PIL\\Image.py:3452: DecompressionBombWarning: Image size (97121388 pixels) exceeds limit of 89478485 pixels, could be decompression bomb DOS attack.\n",
      "  warnings.warn(\n",
      "c:\\Users\\it08d\\.conda\\envs\\scan\\Lib\\site-packages\\PIL\\Image.py:3452: DecompressionBombWarning: Image size (93189330 pixels) exceeds limit of 89478485 pixels, could be decompression bomb DOS attack.\n",
      "  warnings.warn(\n",
      "c:\\Users\\it08d\\.conda\\envs\\scan\\Lib\\site-packages\\PIL\\Image.py:3452: DecompressionBombWarning: Image size (94572000 pixels) exceeds limit of 89478485 pixels, could be decompression bomb DOS attack.\n",
      "  warnings.warn(\n",
      "c:\\Users\\it08d\\.conda\\envs\\scan\\Lib\\site-packages\\PIL\\Image.py:3452: DecompressionBombWarning: Image size (94310355 pixels) exceeds limit of 89478485 pixels, could be decompression bomb DOS attack.\n",
      "  warnings.warn(\n",
      "c:\\Users\\it08d\\.conda\\envs\\scan\\Lib\\site-packages\\PIL\\Image.py:3452: DecompressionBombWarning: Image size (115207470 pixels) exceeds limit of 89478485 pixels, could be decompression bomb DOS attack.\n",
      "  warnings.warn(\n",
      "Epoch 8/100: 100%|██████████| 1/1 [02:29<00:00, 149.81s/it]\n"
     ]
    },
    {
     "name": "stdout",
     "output_type": "stream",
     "text": [
      "Epoch [8/100] Loss: 499999904.0000\n"
     ]
    },
    {
     "name": "stderr",
     "output_type": "stream",
     "text": [
      "Epoch 9/100:   0%|          | 0/1 [00:00<?, ?it/s]c:\\Users\\it08d\\.conda\\envs\\scan\\Lib\\site-packages\\PIL\\Image.py:3452: DecompressionBombWarning: Image size (100816834 pixels) exceeds limit of 89478485 pixels, could be decompression bomb DOS attack.\n",
      "  warnings.warn(\n",
      "c:\\Users\\it08d\\.conda\\envs\\scan\\Lib\\site-packages\\PIL\\Image.py:3452: DecompressionBombWarning: Image size (95777762 pixels) exceeds limit of 89478485 pixels, could be decompression bomb DOS attack.\n",
      "  warnings.warn(\n",
      "c:\\Users\\it08d\\.conda\\envs\\scan\\Lib\\site-packages\\PIL\\Image.py:3452: DecompressionBombWarning: Image size (91170447 pixels) exceeds limit of 89478485 pixels, could be decompression bomb DOS attack.\n",
      "  warnings.warn(\n",
      "c:\\Users\\it08d\\.conda\\envs\\scan\\Lib\\site-packages\\PIL\\Image.py:3452: DecompressionBombWarning: Image size (102157320 pixels) exceeds limit of 89478485 pixels, could be decompression bomb DOS attack.\n",
      "  warnings.warn(\n",
      "c:\\Users\\it08d\\.conda\\envs\\scan\\Lib\\site-packages\\PIL\\Image.py:3452: DecompressionBombWarning: Image size (90306652 pixels) exceeds limit of 89478485 pixels, could be decompression bomb DOS attack.\n",
      "  warnings.warn(\n",
      "c:\\Users\\it08d\\.conda\\envs\\scan\\Lib\\site-packages\\PIL\\Image.py:3452: DecompressionBombWarning: Image size (100953944 pixels) exceeds limit of 89478485 pixels, could be decompression bomb DOS attack.\n",
      "  warnings.warn(\n",
      "c:\\Users\\it08d\\.conda\\envs\\scan\\Lib\\site-packages\\PIL\\Image.py:3452: DecompressionBombWarning: Image size (89962768 pixels) exceeds limit of 89478485 pixels, could be decompression bomb DOS attack.\n",
      "  warnings.warn(\n",
      "c:\\Users\\it08d\\.conda\\envs\\scan\\Lib\\site-packages\\PIL\\Image.py:3452: DecompressionBombWarning: Image size (115630310 pixels) exceeds limit of 89478485 pixels, could be decompression bomb DOS attack.\n",
      "  warnings.warn(\n",
      "c:\\Users\\it08d\\.conda\\envs\\scan\\Lib\\site-packages\\PIL\\Image.py:3452: DecompressionBombWarning: Image size (97052040 pixels) exceeds limit of 89478485 pixels, could be decompression bomb DOS attack.\n",
      "  warnings.warn(\n",
      "c:\\Users\\it08d\\.conda\\envs\\scan\\Lib\\site-packages\\PIL\\Image.py:3452: DecompressionBombWarning: Image size (90938697 pixels) exceeds limit of 89478485 pixels, could be decompression bomb DOS attack.\n",
      "  warnings.warn(\n",
      "c:\\Users\\it08d\\.conda\\envs\\scan\\Lib\\site-packages\\PIL\\Image.py:3452: DecompressionBombWarning: Image size (108138709 pixels) exceeds limit of 89478485 pixels, could be decompression bomb DOS attack.\n",
      "  warnings.warn(\n",
      "c:\\Users\\it08d\\.conda\\envs\\scan\\Lib\\site-packages\\PIL\\Image.py:3452: DecompressionBombWarning: Image size (97732158 pixels) exceeds limit of 89478485 pixels, could be decompression bomb DOS attack.\n",
      "  warnings.warn(\n",
      "c:\\Users\\it08d\\.conda\\envs\\scan\\Lib\\site-packages\\PIL\\Image.py:3452: DecompressionBombWarning: Image size (104552660 pixels) exceeds limit of 89478485 pixels, could be decompression bomb DOS attack.\n",
      "  warnings.warn(\n",
      "c:\\Users\\it08d\\.conda\\envs\\scan\\Lib\\site-packages\\PIL\\Image.py:3452: DecompressionBombWarning: Image size (105519148 pixels) exceeds limit of 89478485 pixels, could be decompression bomb DOS attack.\n",
      "  warnings.warn(\n",
      "c:\\Users\\it08d\\.conda\\envs\\scan\\Lib\\site-packages\\PIL\\Image.py:3452: DecompressionBombWarning: Image size (114771660 pixels) exceeds limit of 89478485 pixels, could be decompression bomb DOS attack.\n",
      "  warnings.warn(\n",
      "c:\\Users\\it08d\\.conda\\envs\\scan\\Lib\\site-packages\\PIL\\Image.py:3452: DecompressionBombWarning: Image size (101303611 pixels) exceeds limit of 89478485 pixels, could be decompression bomb DOS attack.\n",
      "  warnings.warn(\n",
      "c:\\Users\\it08d\\.conda\\envs\\scan\\Lib\\site-packages\\PIL\\Image.py:3452: DecompressionBombWarning: Image size (95508410 pixels) exceeds limit of 89478485 pixels, could be decompression bomb DOS attack.\n",
      "  warnings.warn(\n",
      "c:\\Users\\it08d\\.conda\\envs\\scan\\Lib\\site-packages\\PIL\\Image.py:3452: DecompressionBombWarning: Image size (112544250 pixels) exceeds limit of 89478485 pixels, could be decompression bomb DOS attack.\n",
      "  warnings.warn(\n",
      "c:\\Users\\it08d\\.conda\\envs\\scan\\Lib\\site-packages\\PIL\\Image.py:3452: DecompressionBombWarning: Image size (102779015 pixels) exceeds limit of 89478485 pixels, could be decompression bomb DOS attack.\n",
      "  warnings.warn(\n",
      "c:\\Users\\it08d\\.conda\\envs\\scan\\Lib\\site-packages\\PIL\\Image.py:3452: DecompressionBombWarning: Image size (96553872 pixels) exceeds limit of 89478485 pixels, could be decompression bomb DOS attack.\n",
      "  warnings.warn(\n",
      "c:\\Users\\it08d\\.conda\\envs\\scan\\Lib\\site-packages\\PIL\\Image.py:3452: DecompressionBombWarning: Image size (105268072 pixels) exceeds limit of 89478485 pixels, could be decompression bomb DOS attack.\n",
      "  warnings.warn(\n",
      "c:\\Users\\it08d\\.conda\\envs\\scan\\Lib\\site-packages\\PIL\\Image.py:3452: DecompressionBombWarning: Image size (96818525 pixels) exceeds limit of 89478485 pixels, could be decompression bomb DOS attack.\n",
      "  warnings.warn(\n",
      "c:\\Users\\it08d\\.conda\\envs\\scan\\Lib\\site-packages\\PIL\\Image.py:3452: DecompressionBombWarning: Image size (105430440 pixels) exceeds limit of 89478485 pixels, could be decompression bomb DOS attack.\n",
      "  warnings.warn(\n",
      "c:\\Users\\it08d\\.conda\\envs\\scan\\Lib\\site-packages\\PIL\\Image.py:3452: DecompressionBombWarning: Image size (95507496 pixels) exceeds limit of 89478485 pixels, could be decompression bomb DOS attack.\n",
      "  warnings.warn(\n",
      "c:\\Users\\it08d\\.conda\\envs\\scan\\Lib\\site-packages\\PIL\\Image.py:3452: DecompressionBombWarning: Image size (110941990 pixels) exceeds limit of 89478485 pixels, could be decompression bomb DOS attack.\n",
      "  warnings.warn(\n",
      "Epoch 9/100: 100%|██████████| 1/1 [02:47<00:00, 167.47s/it]\n"
     ]
    },
    {
     "name": "stdout",
     "output_type": "stream",
     "text": [
      "Epoch [9/100] Loss: 499999904.0000\n"
     ]
    },
    {
     "name": "stderr",
     "output_type": "stream",
     "text": [
      "Epoch 10/100:   0%|          | 0/1 [00:00<?, ?it/s]c:\\Users\\it08d\\.conda\\envs\\scan\\Lib\\site-packages\\PIL\\Image.py:3452: DecompressionBombWarning: Image size (98904446 pixels) exceeds limit of 89478485 pixels, could be decompression bomb DOS attack.\n",
      "  warnings.warn(\n",
      "c:\\Users\\it08d\\.conda\\envs\\scan\\Lib\\site-packages\\PIL\\Image.py:3452: DecompressionBombWarning: Image size (111936980 pixels) exceeds limit of 89478485 pixels, could be decompression bomb DOS attack.\n",
      "  warnings.warn(\n",
      "c:\\Users\\it08d\\.conda\\envs\\scan\\Lib\\site-packages\\PIL\\Image.py:3452: DecompressionBombWarning: Image size (105914780 pixels) exceeds limit of 89478485 pixels, could be decompression bomb DOS attack.\n",
      "  warnings.warn(\n",
      "c:\\Users\\it08d\\.conda\\envs\\scan\\Lib\\site-packages\\PIL\\Image.py:3452: DecompressionBombWarning: Image size (100361457 pixels) exceeds limit of 89478485 pixels, could be decompression bomb DOS attack.\n",
      "  warnings.warn(\n",
      "c:\\Users\\it08d\\.conda\\envs\\scan\\Lib\\site-packages\\PIL\\Image.py:3452: DecompressionBombWarning: Image size (106224768 pixels) exceeds limit of 89478485 pixels, could be decompression bomb DOS attack.\n",
      "  warnings.warn(\n",
      "c:\\Users\\it08d\\.conda\\envs\\scan\\Lib\\site-packages\\PIL\\Image.py:3452: DecompressionBombWarning: Image size (94349979 pixels) exceeds limit of 89478485 pixels, could be decompression bomb DOS attack.\n",
      "  warnings.warn(\n",
      "c:\\Users\\it08d\\.conda\\envs\\scan\\Lib\\site-packages\\PIL\\Image.py:3452: DecompressionBombWarning: Image size (89818560 pixels) exceeds limit of 89478485 pixels, could be decompression bomb DOS attack.\n",
      "  warnings.warn(\n",
      "c:\\Users\\it08d\\.conda\\envs\\scan\\Lib\\site-packages\\PIL\\Image.py:3452: DecompressionBombWarning: Image size (113821522 pixels) exceeds limit of 89478485 pixels, could be decompression bomb DOS attack.\n",
      "  warnings.warn(\n",
      "c:\\Users\\it08d\\.conda\\envs\\scan\\Lib\\site-packages\\PIL\\Image.py:3452: DecompressionBombWarning: Image size (89667726 pixels) exceeds limit of 89478485 pixels, could be decompression bomb DOS attack.\n",
      "  warnings.warn(\n",
      "c:\\Users\\it08d\\.conda\\envs\\scan\\Lib\\site-packages\\PIL\\Image.py:3452: DecompressionBombWarning: Image size (100794249 pixels) exceeds limit of 89478485 pixels, could be decompression bomb DOS attack.\n",
      "  warnings.warn(\n",
      "c:\\Users\\it08d\\.conda\\envs\\scan\\Lib\\site-packages\\PIL\\Image.py:3452: DecompressionBombWarning: Image size (94734180 pixels) exceeds limit of 89478485 pixels, could be decompression bomb DOS attack.\n",
      "  warnings.warn(\n",
      "c:\\Users\\it08d\\.conda\\envs\\scan\\Lib\\site-packages\\PIL\\Image.py:3452: DecompressionBombWarning: Image size (106646760 pixels) exceeds limit of 89478485 pixels, could be decompression bomb DOS attack.\n",
      "  warnings.warn(\n",
      "c:\\Users\\it08d\\.conda\\envs\\scan\\Lib\\site-packages\\PIL\\Image.py:3452: DecompressionBombWarning: Image size (91511005 pixels) exceeds limit of 89478485 pixels, could be decompression bomb DOS attack.\n",
      "  warnings.warn(\n",
      "c:\\Users\\it08d\\.conda\\envs\\scan\\Lib\\site-packages\\PIL\\Image.py:3452: DecompressionBombWarning: Image size (112192032 pixels) exceeds limit of 89478485 pixels, could be decompression bomb DOS attack.\n",
      "  warnings.warn(\n",
      "c:\\Users\\it08d\\.conda\\envs\\scan\\Lib\\site-packages\\PIL\\Image.py:3452: DecompressionBombWarning: Image size (92695468 pixels) exceeds limit of 89478485 pixels, could be decompression bomb DOS attack.\n",
      "  warnings.warn(\n",
      "c:\\Users\\it08d\\.conda\\envs\\scan\\Lib\\site-packages\\PIL\\Image.py:3452: DecompressionBombWarning: Image size (102442697 pixels) exceeds limit of 89478485 pixels, could be decompression bomb DOS attack.\n",
      "  warnings.warn(\n",
      "c:\\Users\\it08d\\.conda\\envs\\scan\\Lib\\site-packages\\PIL\\Image.py:3452: DecompressionBombWarning: Image size (95041184 pixels) exceeds limit of 89478485 pixels, could be decompression bomb DOS attack.\n",
      "  warnings.warn(\n",
      "c:\\Users\\it08d\\.conda\\envs\\scan\\Lib\\site-packages\\PIL\\Image.py:3452: DecompressionBombWarning: Image size (108653052 pixels) exceeds limit of 89478485 pixels, could be decompression bomb DOS attack.\n",
      "  warnings.warn(\n",
      "c:\\Users\\it08d\\.conda\\envs\\scan\\Lib\\site-packages\\PIL\\Image.py:3452: DecompressionBombWarning: Image size (90464835 pixels) exceeds limit of 89478485 pixels, could be decompression bomb DOS attack.\n",
      "  warnings.warn(\n",
      "c:\\Users\\it08d\\.conda\\envs\\scan\\Lib\\site-packages\\PIL\\Image.py:3452: DecompressionBombWarning: Image size (105108516 pixels) exceeds limit of 89478485 pixels, could be decompression bomb DOS attack.\n",
      "  warnings.warn(\n",
      "c:\\Users\\it08d\\.conda\\envs\\scan\\Lib\\site-packages\\PIL\\Image.py:3452: DecompressionBombWarning: Image size (90133320 pixels) exceeds limit of 89478485 pixels, could be decompression bomb DOS attack.\n",
      "  warnings.warn(\n",
      "c:\\Users\\it08d\\.conda\\envs\\scan\\Lib\\site-packages\\PIL\\Image.py:3452: DecompressionBombWarning: Image size (91104944 pixels) exceeds limit of 89478485 pixels, could be decompression bomb DOS attack.\n",
      "  warnings.warn(\n",
      "c:\\Users\\it08d\\.conda\\envs\\scan\\Lib\\site-packages\\PIL\\Image.py:3452: DecompressionBombWarning: Image size (95749528 pixels) exceeds limit of 89478485 pixels, could be decompression bomb DOS attack.\n",
      "  warnings.warn(\n",
      "c:\\Users\\it08d\\.conda\\envs\\scan\\Lib\\site-packages\\PIL\\Image.py:3452: DecompressionBombWarning: Image size (112705780 pixels) exceeds limit of 89478485 pixels, could be decompression bomb DOS attack.\n",
      "  warnings.warn(\n",
      "c:\\Users\\it08d\\.conda\\envs\\scan\\Lib\\site-packages\\PIL\\Image.py:3452: DecompressionBombWarning: Image size (101298836 pixels) exceeds limit of 89478485 pixels, could be decompression bomb DOS attack.\n",
      "  warnings.warn(\n",
      "c:\\Users\\it08d\\.conda\\envs\\scan\\Lib\\site-packages\\PIL\\Image.py:3452: DecompressionBombWarning: Image size (94526682 pixels) exceeds limit of 89478485 pixels, could be decompression bomb DOS attack.\n",
      "  warnings.warn(\n",
      "Epoch 10/100: 100%|██████████| 1/1 [02:41<00:00, 162.00s/it]\n"
     ]
    },
    {
     "name": "stdout",
     "output_type": "stream",
     "text": [
      "Epoch [10/100] Loss: 499999904.0000\n"
     ]
    },
    {
     "name": "stderr",
     "output_type": "stream",
     "text": [
      "Epoch 11/100:   0%|          | 0/1 [00:00<?, ?it/s]c:\\Users\\it08d\\.conda\\envs\\scan\\Lib\\site-packages\\PIL\\Image.py:3452: DecompressionBombWarning: Image size (100487583 pixels) exceeds limit of 89478485 pixels, could be decompression bomb DOS attack.\n",
      "  warnings.warn(\n",
      "c:\\Users\\it08d\\.conda\\envs\\scan\\Lib\\site-packages\\PIL\\Image.py:3452: DecompressionBombWarning: Image size (90394964 pixels) exceeds limit of 89478485 pixels, could be decompression bomb DOS attack.\n",
      "  warnings.warn(\n",
      "c:\\Users\\it08d\\.conda\\envs\\scan\\Lib\\site-packages\\PIL\\Image.py:3452: DecompressionBombWarning: Image size (97348983 pixels) exceeds limit of 89478485 pixels, could be decompression bomb DOS attack.\n",
      "  warnings.warn(\n",
      "c:\\Users\\it08d\\.conda\\envs\\scan\\Lib\\site-packages\\PIL\\Image.py:3452: DecompressionBombWarning: Image size (91861808 pixels) exceeds limit of 89478485 pixels, could be decompression bomb DOS attack.\n",
      "  warnings.warn(\n",
      "c:\\Users\\it08d\\.conda\\envs\\scan\\Lib\\site-packages\\PIL\\Image.py:3452: DecompressionBombWarning: Image size (103522272 pixels) exceeds limit of 89478485 pixels, could be decompression bomb DOS attack.\n",
      "  warnings.warn(\n",
      "c:\\Users\\it08d\\.conda\\envs\\scan\\Lib\\site-packages\\PIL\\Image.py:3452: DecompressionBombWarning: Image size (90434625 pixels) exceeds limit of 89478485 pixels, could be decompression bomb DOS attack.\n",
      "  warnings.warn(\n",
      "c:\\Users\\it08d\\.conda\\envs\\scan\\Lib\\site-packages\\PIL\\Image.py:3452: DecompressionBombWarning: Image size (90023970 pixels) exceeds limit of 89478485 pixels, could be decompression bomb DOS attack.\n",
      "  warnings.warn(\n",
      "c:\\Users\\it08d\\.conda\\envs\\scan\\Lib\\site-packages\\PIL\\Image.py:3452: DecompressionBombWarning: Image size (94339128 pixels) exceeds limit of 89478485 pixels, could be decompression bomb DOS attack.\n",
      "  warnings.warn(\n",
      "c:\\Users\\it08d\\.conda\\envs\\scan\\Lib\\site-packages\\PIL\\Image.py:3452: DecompressionBombWarning: Image size (93916340 pixels) exceeds limit of 89478485 pixels, could be decompression bomb DOS attack.\n",
      "  warnings.warn(\n",
      "c:\\Users\\it08d\\.conda\\envs\\scan\\Lib\\site-packages\\PIL\\Image.py:3452: DecompressionBombWarning: Image size (110099114 pixels) exceeds limit of 89478485 pixels, could be decompression bomb DOS attack.\n",
      "  warnings.warn(\n",
      "c:\\Users\\it08d\\.conda\\envs\\scan\\Lib\\site-packages\\PIL\\Image.py:3452: DecompressionBombWarning: Image size (92872553 pixels) exceeds limit of 89478485 pixels, could be decompression bomb DOS attack.\n",
      "  warnings.warn(\n",
      "c:\\Users\\it08d\\.conda\\envs\\scan\\Lib\\site-packages\\PIL\\Image.py:3452: DecompressionBombWarning: Image size (118011210 pixels) exceeds limit of 89478485 pixels, could be decompression bomb DOS attack.\n",
      "  warnings.warn(\n",
      "c:\\Users\\it08d\\.conda\\envs\\scan\\Lib\\site-packages\\PIL\\Image.py:3452: DecompressionBombWarning: Image size (93044740 pixels) exceeds limit of 89478485 pixels, could be decompression bomb DOS attack.\n",
      "  warnings.warn(\n",
      "c:\\Users\\it08d\\.conda\\envs\\scan\\Lib\\site-packages\\PIL\\Image.py:3452: DecompressionBombWarning: Image size (93234026 pixels) exceeds limit of 89478485 pixels, could be decompression bomb DOS attack.\n",
      "  warnings.warn(\n",
      "c:\\Users\\it08d\\.conda\\envs\\scan\\Lib\\site-packages\\PIL\\Image.py:3452: DecompressionBombWarning: Image size (94432080 pixels) exceeds limit of 89478485 pixels, could be decompression bomb DOS attack.\n",
      "  warnings.warn(\n",
      "c:\\Users\\it08d\\.conda\\envs\\scan\\Lib\\site-packages\\PIL\\Image.py:3452: DecompressionBombWarning: Image size (94202793 pixels) exceeds limit of 89478485 pixels, could be decompression bomb DOS attack.\n",
      "  warnings.warn(\n",
      "c:\\Users\\it08d\\.conda\\envs\\scan\\Lib\\site-packages\\PIL\\Image.py:3452: DecompressionBombWarning: Image size (91362732 pixels) exceeds limit of 89478485 pixels, could be decompression bomb DOS attack.\n",
      "  warnings.warn(\n",
      "c:\\Users\\it08d\\.conda\\envs\\scan\\Lib\\site-packages\\PIL\\Image.py:3452: DecompressionBombWarning: Image size (97628582 pixels) exceeds limit of 89478485 pixels, could be decompression bomb DOS attack.\n",
      "  warnings.warn(\n",
      "c:\\Users\\it08d\\.conda\\envs\\scan\\Lib\\site-packages\\PIL\\Image.py:3452: DecompressionBombWarning: Image size (120603540 pixels) exceeds limit of 89478485 pixels, could be decompression bomb DOS attack.\n",
      "  warnings.warn(\n",
      "c:\\Users\\it08d\\.conda\\envs\\scan\\Lib\\site-packages\\PIL\\Image.py:3452: DecompressionBombWarning: Image size (92217528 pixels) exceeds limit of 89478485 pixels, could be decompression bomb DOS attack.\n",
      "  warnings.warn(\n",
      "c:\\Users\\it08d\\.conda\\envs\\scan\\Lib\\site-packages\\PIL\\Image.py:3452: DecompressionBombWarning: Image size (103786124 pixels) exceeds limit of 89478485 pixels, could be decompression bomb DOS attack.\n",
      "  warnings.warn(\n",
      "c:\\Users\\it08d\\.conda\\envs\\scan\\Lib\\site-packages\\PIL\\Image.py:3452: DecompressionBombWarning: Image size (113319738 pixels) exceeds limit of 89478485 pixels, could be decompression bomb DOS attack.\n",
      "  warnings.warn(\n",
      "c:\\Users\\it08d\\.conda\\envs\\scan\\Lib\\site-packages\\PIL\\Image.py:3452: DecompressionBombWarning: Image size (98456522 pixels) exceeds limit of 89478485 pixels, could be decompression bomb DOS attack.\n",
      "  warnings.warn(\n",
      "c:\\Users\\it08d\\.conda\\envs\\scan\\Lib\\site-packages\\PIL\\Image.py:3452: DecompressionBombWarning: Image size (116017012 pixels) exceeds limit of 89478485 pixels, could be decompression bomb DOS attack.\n",
      "  warnings.warn(\n",
      "c:\\Users\\it08d\\.conda\\envs\\scan\\Lib\\site-packages\\PIL\\Image.py:3452: DecompressionBombWarning: Image size (111134322 pixels) exceeds limit of 89478485 pixels, could be decompression bomb DOS attack.\n",
      "  warnings.warn(\n",
      "Epoch 11/100: 100%|██████████| 1/1 [02:37<00:00, 157.84s/it]\n"
     ]
    },
    {
     "name": "stdout",
     "output_type": "stream",
     "text": [
      "Epoch [11/100] Loss: 499999904.0000\n"
     ]
    },
    {
     "name": "stderr",
     "output_type": "stream",
     "text": [
      "Epoch 12/100:   0%|          | 0/1 [00:00<?, ?it/s]c:\\Users\\it08d\\.conda\\envs\\scan\\Lib\\site-packages\\PIL\\Image.py:3452: DecompressionBombWarning: Image size (101571390 pixels) exceeds limit of 89478485 pixels, could be decompression bomb DOS attack.\n",
      "  warnings.warn(\n",
      "c:\\Users\\it08d\\.conda\\envs\\scan\\Lib\\site-packages\\PIL\\Image.py:3452: DecompressionBombWarning: Image size (94427700 pixels) exceeds limit of 89478485 pixels, could be decompression bomb DOS attack.\n",
      "  warnings.warn(\n",
      "c:\\Users\\it08d\\.conda\\envs\\scan\\Lib\\site-packages\\PIL\\Image.py:3452: DecompressionBombWarning: Image size (122808699 pixels) exceeds limit of 89478485 pixels, could be decompression bomb DOS attack.\n",
      "  warnings.warn(\n",
      "c:\\Users\\it08d\\.conda\\envs\\scan\\Lib\\site-packages\\PIL\\Image.py:3452: DecompressionBombWarning: Image size (93357836 pixels) exceeds limit of 89478485 pixels, could be decompression bomb DOS attack.\n",
      "  warnings.warn(\n",
      "c:\\Users\\it08d\\.conda\\envs\\scan\\Lib\\site-packages\\PIL\\Image.py:3452: DecompressionBombWarning: Image size (112649584 pixels) exceeds limit of 89478485 pixels, could be decompression bomb DOS attack.\n",
      "  warnings.warn(\n",
      "c:\\Users\\it08d\\.conda\\envs\\scan\\Lib\\site-packages\\PIL\\Image.py:3452: DecompressionBombWarning: Image size (97605484 pixels) exceeds limit of 89478485 pixels, could be decompression bomb DOS attack.\n",
      "  warnings.warn(\n",
      "c:\\Users\\it08d\\.conda\\envs\\scan\\Lib\\site-packages\\PIL\\Image.py:3452: DecompressionBombWarning: Image size (110447289 pixels) exceeds limit of 89478485 pixels, could be decompression bomb DOS attack.\n",
      "  warnings.warn(\n",
      "c:\\Users\\it08d\\.conda\\envs\\scan\\Lib\\site-packages\\PIL\\Image.py:3452: DecompressionBombWarning: Image size (97963338 pixels) exceeds limit of 89478485 pixels, could be decompression bomb DOS attack.\n",
      "  warnings.warn(\n",
      "c:\\Users\\it08d\\.conda\\envs\\scan\\Lib\\site-packages\\PIL\\Image.py:3452: DecompressionBombWarning: Image size (104165136 pixels) exceeds limit of 89478485 pixels, could be decompression bomb DOS attack.\n",
      "  warnings.warn(\n",
      "c:\\Users\\it08d\\.conda\\envs\\scan\\Lib\\site-packages\\PIL\\Image.py:3452: DecompressionBombWarning: Image size (94936258 pixels) exceeds limit of 89478485 pixels, could be decompression bomb DOS attack.\n",
      "  warnings.warn(\n",
      "c:\\Users\\it08d\\.conda\\envs\\scan\\Lib\\site-packages\\PIL\\Image.py:3452: DecompressionBombWarning: Image size (102584460 pixels) exceeds limit of 89478485 pixels, could be decompression bomb DOS attack.\n",
      "  warnings.warn(\n",
      "c:\\Users\\it08d\\.conda\\envs\\scan\\Lib\\site-packages\\PIL\\Image.py:3452: DecompressionBombWarning: Image size (94944495 pixels) exceeds limit of 89478485 pixels, could be decompression bomb DOS attack.\n",
      "  warnings.warn(\n",
      "c:\\Users\\it08d\\.conda\\envs\\scan\\Lib\\site-packages\\PIL\\Image.py:3452: DecompressionBombWarning: Image size (107889780 pixels) exceeds limit of 89478485 pixels, could be decompression bomb DOS attack.\n",
      "  warnings.warn(\n",
      "c:\\Users\\it08d\\.conda\\envs\\scan\\Lib\\site-packages\\PIL\\Image.py:3452: DecompressionBombWarning: Image size (111101508 pixels) exceeds limit of 89478485 pixels, could be decompression bomb DOS attack.\n",
      "  warnings.warn(\n",
      "c:\\Users\\it08d\\.conda\\envs\\scan\\Lib\\site-packages\\PIL\\Image.py:3452: DecompressionBombWarning: Image size (97463286 pixels) exceeds limit of 89478485 pixels, could be decompression bomb DOS attack.\n",
      "  warnings.warn(\n",
      "c:\\Users\\it08d\\.conda\\envs\\scan\\Lib\\site-packages\\PIL\\Image.py:3452: DecompressionBombWarning: Image size (104587553 pixels) exceeds limit of 89478485 pixels, could be decompression bomb DOS attack.\n",
      "  warnings.warn(\n",
      "c:\\Users\\it08d\\.conda\\envs\\scan\\Lib\\site-packages\\PIL\\Image.py:3452: DecompressionBombWarning: Image size (96912186 pixels) exceeds limit of 89478485 pixels, could be decompression bomb DOS attack.\n",
      "  warnings.warn(\n",
      "c:\\Users\\it08d\\.conda\\envs\\scan\\Lib\\site-packages\\PIL\\Image.py:3452: DecompressionBombWarning: Image size (103515338 pixels) exceeds limit of 89478485 pixels, could be decompression bomb DOS attack.\n",
      "  warnings.warn(\n",
      "c:\\Users\\it08d\\.conda\\envs\\scan\\Lib\\site-packages\\PIL\\Image.py:3452: DecompressionBombWarning: Image size (119089254 pixels) exceeds limit of 89478485 pixels, could be decompression bomb DOS attack.\n",
      "  warnings.warn(\n",
      "Epoch 12/100: 100%|██████████| 1/1 [02:24<00:00, 144.41s/it]\n"
     ]
    },
    {
     "name": "stdout",
     "output_type": "stream",
     "text": [
      "Epoch [12/100] Loss: 499999904.0000\n"
     ]
    },
    {
     "name": "stderr",
     "output_type": "stream",
     "text": [
      "Epoch 13/100:   0%|          | 0/1 [00:00<?, ?it/s]c:\\Users\\it08d\\.conda\\envs\\scan\\Lib\\site-packages\\PIL\\Image.py:3452: DecompressionBombWarning: Image size (103884792 pixels) exceeds limit of 89478485 pixels, could be decompression bomb DOS attack.\n",
      "  warnings.warn(\n",
      "c:\\Users\\it08d\\.conda\\envs\\scan\\Lib\\site-packages\\PIL\\Image.py:3452: DecompressionBombWarning: Image size (102652935 pixels) exceeds limit of 89478485 pixels, could be decompression bomb DOS attack.\n",
      "  warnings.warn(\n",
      "c:\\Users\\it08d\\.conda\\envs\\scan\\Lib\\site-packages\\PIL\\Image.py:3452: DecompressionBombWarning: Image size (90017550 pixels) exceeds limit of 89478485 pixels, could be decompression bomb DOS attack.\n",
      "  warnings.warn(\n",
      "c:\\Users\\it08d\\.conda\\envs\\scan\\Lib\\site-packages\\PIL\\Image.py:3452: DecompressionBombWarning: Image size (90954400 pixels) exceeds limit of 89478485 pixels, could be decompression bomb DOS attack.\n",
      "  warnings.warn(\n",
      "c:\\Users\\it08d\\.conda\\envs\\scan\\Lib\\site-packages\\PIL\\Image.py:3452: DecompressionBombWarning: Image size (98583177 pixels) exceeds limit of 89478485 pixels, could be decompression bomb DOS attack.\n",
      "  warnings.warn(\n",
      "c:\\Users\\it08d\\.conda\\envs\\scan\\Lib\\site-packages\\PIL\\Image.py:3452: DecompressionBombWarning: Image size (93307560 pixels) exceeds limit of 89478485 pixels, could be decompression bomb DOS attack.\n",
      "  warnings.warn(\n",
      "c:\\Users\\it08d\\.conda\\envs\\scan\\Lib\\site-packages\\PIL\\Image.py:3452: DecompressionBombWarning: Image size (99165850 pixels) exceeds limit of 89478485 pixels, could be decompression bomb DOS attack.\n",
      "  warnings.warn(\n",
      "c:\\Users\\it08d\\.conda\\envs\\scan\\Lib\\site-packages\\PIL\\Image.py:3452: DecompressionBombWarning: Image size (95653784 pixels) exceeds limit of 89478485 pixels, could be decompression bomb DOS attack.\n",
      "  warnings.warn(\n",
      "c:\\Users\\it08d\\.conda\\envs\\scan\\Lib\\site-packages\\PIL\\Image.py:3452: DecompressionBombWarning: Image size (114221080 pixels) exceeds limit of 89478485 pixels, could be decompression bomb DOS attack.\n",
      "  warnings.warn(\n",
      "c:\\Users\\it08d\\.conda\\envs\\scan\\Lib\\site-packages\\PIL\\Image.py:3452: DecompressionBombWarning: Image size (106448706 pixels) exceeds limit of 89478485 pixels, could be decompression bomb DOS attack.\n",
      "  warnings.warn(\n",
      "c:\\Users\\it08d\\.conda\\envs\\scan\\Lib\\site-packages\\PIL\\Image.py:3452: DecompressionBombWarning: Image size (95587318 pixels) exceeds limit of 89478485 pixels, could be decompression bomb DOS attack.\n",
      "  warnings.warn(\n",
      "c:\\Users\\it08d\\.conda\\envs\\scan\\Lib\\site-packages\\PIL\\Image.py:3452: DecompressionBombWarning: Image size (93179710 pixels) exceeds limit of 89478485 pixels, could be decompression bomb DOS attack.\n",
      "  warnings.warn(\n",
      "c:\\Users\\it08d\\.conda\\envs\\scan\\Lib\\site-packages\\PIL\\Image.py:3452: DecompressionBombWarning: Image size (91916064 pixels) exceeds limit of 89478485 pixels, could be decompression bomb DOS attack.\n",
      "  warnings.warn(\n",
      "c:\\Users\\it08d\\.conda\\envs\\scan\\Lib\\site-packages\\PIL\\Image.py:3452: DecompressionBombWarning: Image size (96142320 pixels) exceeds limit of 89478485 pixels, could be decompression bomb DOS attack.\n",
      "  warnings.warn(\n",
      "c:\\Users\\it08d\\.conda\\envs\\scan\\Lib\\site-packages\\PIL\\Image.py:3452: DecompressionBombWarning: Image size (96127450 pixels) exceeds limit of 89478485 pixels, could be decompression bomb DOS attack.\n",
      "  warnings.warn(\n",
      "c:\\Users\\it08d\\.conda\\envs\\scan\\Lib\\site-packages\\PIL\\Image.py:3452: DecompressionBombWarning: Image size (93679550 pixels) exceeds limit of 89478485 pixels, could be decompression bomb DOS attack.\n",
      "  warnings.warn(\n",
      "c:\\Users\\it08d\\.conda\\envs\\scan\\Lib\\site-packages\\PIL\\Image.py:3452: DecompressionBombWarning: Image size (96974820 pixels) exceeds limit of 89478485 pixels, could be decompression bomb DOS attack.\n",
      "  warnings.warn(\n",
      "c:\\Users\\it08d\\.conda\\envs\\scan\\Lib\\site-packages\\PIL\\Image.py:3452: DecompressionBombWarning: Image size (92967336 pixels) exceeds limit of 89478485 pixels, could be decompression bomb DOS attack.\n",
      "  warnings.warn(\n",
      "c:\\Users\\it08d\\.conda\\envs\\scan\\Lib\\site-packages\\PIL\\Image.py:3452: DecompressionBombWarning: Image size (121455385 pixels) exceeds limit of 89478485 pixels, could be decompression bomb DOS attack.\n",
      "  warnings.warn(\n",
      "c:\\Users\\it08d\\.conda\\envs\\scan\\Lib\\site-packages\\PIL\\Image.py:3452: DecompressionBombWarning: Image size (96390247 pixels) exceeds limit of 89478485 pixels, could be decompression bomb DOS attack.\n",
      "  warnings.warn(\n",
      "c:\\Users\\it08d\\.conda\\envs\\scan\\Lib\\site-packages\\PIL\\Image.py:3452: DecompressionBombWarning: Image size (94812388 pixels) exceeds limit of 89478485 pixels, could be decompression bomb DOS attack.\n",
      "  warnings.warn(\n",
      "c:\\Users\\it08d\\.conda\\envs\\scan\\Lib\\site-packages\\PIL\\Image.py:3452: DecompressionBombWarning: Image size (104703984 pixels) exceeds limit of 89478485 pixels, could be decompression bomb DOS attack.\n",
      "  warnings.warn(\n",
      "c:\\Users\\it08d\\.conda\\envs\\scan\\Lib\\site-packages\\PIL\\Image.py:3452: DecompressionBombWarning: Image size (96579744 pixels) exceeds limit of 89478485 pixels, could be decompression bomb DOS attack.\n",
      "  warnings.warn(\n",
      "c:\\Users\\it08d\\.conda\\envs\\scan\\Lib\\site-packages\\PIL\\Image.py:3452: DecompressionBombWarning: Image size (94632234 pixels) exceeds limit of 89478485 pixels, could be decompression bomb DOS attack.\n",
      "  warnings.warn(\n",
      "c:\\Users\\it08d\\.conda\\envs\\scan\\Lib\\site-packages\\PIL\\Image.py:3452: DecompressionBombWarning: Image size (104994386 pixels) exceeds limit of 89478485 pixels, could be decompression bomb DOS attack.\n",
      "  warnings.warn(\n",
      "c:\\Users\\it08d\\.conda\\envs\\scan\\Lib\\site-packages\\PIL\\Image.py:3452: DecompressionBombWarning: Image size (113680224 pixels) exceeds limit of 89478485 pixels, could be decompression bomb DOS attack.\n",
      "  warnings.warn(\n",
      "Epoch 13/100: 100%|██████████| 1/1 [02:23<00:00, 143.15s/it]\n"
     ]
    },
    {
     "name": "stdout",
     "output_type": "stream",
     "text": [
      "Epoch [13/100] Loss: 499999904.0000\n"
     ]
    },
    {
     "name": "stderr",
     "output_type": "stream",
     "text": [
      "Epoch 14/100:   0%|          | 0/1 [00:00<?, ?it/s]c:\\Users\\it08d\\.conda\\envs\\scan\\Lib\\site-packages\\PIL\\Image.py:3452: DecompressionBombWarning: Image size (94034700 pixels) exceeds limit of 89478485 pixels, could be decompression bomb DOS attack.\n",
      "  warnings.warn(\n",
      "c:\\Users\\it08d\\.conda\\envs\\scan\\Lib\\site-packages\\PIL\\Image.py:3452: DecompressionBombWarning: Image size (103452932 pixels) exceeds limit of 89478485 pixels, could be decompression bomb DOS attack.\n",
      "  warnings.warn(\n",
      "c:\\Users\\it08d\\.conda\\envs\\scan\\Lib\\site-packages\\PIL\\Image.py:3452: DecompressionBombWarning: Image size (102272232 pixels) exceeds limit of 89478485 pixels, could be decompression bomb DOS attack.\n",
      "  warnings.warn(\n",
      "c:\\Users\\it08d\\.conda\\envs\\scan\\Lib\\site-packages\\PIL\\Image.py:3452: DecompressionBombWarning: Image size (91243033 pixels) exceeds limit of 89478485 pixels, could be decompression bomb DOS attack.\n",
      "  warnings.warn(\n",
      "c:\\Users\\it08d\\.conda\\envs\\scan\\Lib\\site-packages\\PIL\\Image.py:3452: DecompressionBombWarning: Image size (91579221 pixels) exceeds limit of 89478485 pixels, could be decompression bomb DOS attack.\n",
      "  warnings.warn(\n",
      "c:\\Users\\it08d\\.conda\\envs\\scan\\Lib\\site-packages\\PIL\\Image.py:3452: DecompressionBombWarning: Image size (95180630 pixels) exceeds limit of 89478485 pixels, could be decompression bomb DOS attack.\n",
      "  warnings.warn(\n",
      "c:\\Users\\it08d\\.conda\\envs\\scan\\Lib\\site-packages\\PIL\\Image.py:3452: DecompressionBombWarning: Image size (112069290 pixels) exceeds limit of 89478485 pixels, could be decompression bomb DOS attack.\n",
      "  warnings.warn(\n",
      "c:\\Users\\it08d\\.conda\\envs\\scan\\Lib\\site-packages\\PIL\\Image.py:3452: DecompressionBombWarning: Image size (93533220 pixels) exceeds limit of 89478485 pixels, could be decompression bomb DOS attack.\n",
      "  warnings.warn(\n",
      "c:\\Users\\it08d\\.conda\\envs\\scan\\Lib\\site-packages\\PIL\\Image.py:3452: DecompressionBombWarning: Image size (102141045 pixels) exceeds limit of 89478485 pixels, could be decompression bomb DOS attack.\n",
      "  warnings.warn(\n",
      "c:\\Users\\it08d\\.conda\\envs\\scan\\Lib\\site-packages\\PIL\\Image.py:3452: DecompressionBombWarning: Image size (106768475 pixels) exceeds limit of 89478485 pixels, could be decompression bomb DOS attack.\n",
      "  warnings.warn(\n",
      "c:\\Users\\it08d\\.conda\\envs\\scan\\Lib\\site-packages\\PIL\\Image.py:3452: DecompressionBombWarning: Image size (92624532 pixels) exceeds limit of 89478485 pixels, could be decompression bomb DOS attack.\n",
      "  warnings.warn(\n",
      "c:\\Users\\it08d\\.conda\\envs\\scan\\Lib\\site-packages\\PIL\\Image.py:3452: DecompressionBombWarning: Image size (117536932 pixels) exceeds limit of 89478485 pixels, could be decompression bomb DOS attack.\n",
      "  warnings.warn(\n",
      "c:\\Users\\it08d\\.conda\\envs\\scan\\Lib\\site-packages\\PIL\\Image.py:3452: DecompressionBombWarning: Image size (122124072 pixels) exceeds limit of 89478485 pixels, could be decompression bomb DOS attack.\n",
      "  warnings.warn(\n",
      "c:\\Users\\it08d\\.conda\\envs\\scan\\Lib\\site-packages\\PIL\\Image.py:3452: DecompressionBombWarning: Image size (115347242 pixels) exceeds limit of 89478485 pixels, could be decompression bomb DOS attack.\n",
      "  warnings.warn(\n",
      "c:\\Users\\it08d\\.conda\\envs\\scan\\Lib\\site-packages\\PIL\\Image.py:3452: DecompressionBombWarning: Image size (114858045 pixels) exceeds limit of 89478485 pixels, could be decompression bomb DOS attack.\n",
      "  warnings.warn(\n",
      "c:\\Users\\it08d\\.conda\\envs\\scan\\Lib\\site-packages\\PIL\\Image.py:3452: DecompressionBombWarning: Image size (106664103 pixels) exceeds limit of 89478485 pixels, could be decompression bomb DOS attack.\n",
      "  warnings.warn(\n",
      "c:\\Users\\it08d\\.conda\\envs\\scan\\Lib\\site-packages\\PIL\\Image.py:3452: DecompressionBombWarning: Image size (91412541 pixels) exceeds limit of 89478485 pixels, could be decompression bomb DOS attack.\n",
      "  warnings.warn(\n",
      "Epoch 14/100: 100%|██████████| 1/1 [02:33<00:00, 153.38s/it]\n"
     ]
    },
    {
     "name": "stdout",
     "output_type": "stream",
     "text": [
      "Epoch [14/100] Loss: 499999904.0000\n"
     ]
    },
    {
     "name": "stderr",
     "output_type": "stream",
     "text": [
      "Epoch 15/100:   0%|          | 0/1 [00:00<?, ?it/s]c:\\Users\\it08d\\.conda\\envs\\scan\\Lib\\site-packages\\PIL\\Image.py:3452: DecompressionBombWarning: Image size (105460140 pixels) exceeds limit of 89478485 pixels, could be decompression bomb DOS attack.\n",
      "  warnings.warn(\n",
      "c:\\Users\\it08d\\.conda\\envs\\scan\\Lib\\site-packages\\PIL\\Image.py:3452: DecompressionBombWarning: Image size (114755850 pixels) exceeds limit of 89478485 pixels, could be decompression bomb DOS attack.\n",
      "  warnings.warn(\n",
      "c:\\Users\\it08d\\.conda\\envs\\scan\\Lib\\site-packages\\PIL\\Image.py:3452: DecompressionBombWarning: Image size (107567885 pixels) exceeds limit of 89478485 pixels, could be decompression bomb DOS attack.\n",
      "  warnings.warn(\n",
      "c:\\Users\\it08d\\.conda\\envs\\scan\\Lib\\site-packages\\PIL\\Image.py:3452: DecompressionBombWarning: Image size (92720464 pixels) exceeds limit of 89478485 pixels, could be decompression bomb DOS attack.\n",
      "  warnings.warn(\n",
      "c:\\Users\\it08d\\.conda\\envs\\scan\\Lib\\site-packages\\PIL\\Image.py:3452: DecompressionBombWarning: Image size (98923500 pixels) exceeds limit of 89478485 pixels, could be decompression bomb DOS attack.\n",
      "  warnings.warn(\n",
      "c:\\Users\\it08d\\.conda\\envs\\scan\\Lib\\site-packages\\PIL\\Image.py:3452: DecompressionBombWarning: Image size (99496080 pixels) exceeds limit of 89478485 pixels, could be decompression bomb DOS attack.\n",
      "  warnings.warn(\n",
      "c:\\Users\\it08d\\.conda\\envs\\scan\\Lib\\site-packages\\PIL\\Image.py:3452: DecompressionBombWarning: Image size (105543258 pixels) exceeds limit of 89478485 pixels, could be decompression bomb DOS attack.\n",
      "  warnings.warn(\n",
      "c:\\Users\\it08d\\.conda\\envs\\scan\\Lib\\site-packages\\PIL\\Image.py:3452: DecompressionBombWarning: Image size (99745952 pixels) exceeds limit of 89478485 pixels, could be decompression bomb DOS attack.\n",
      "  warnings.warn(\n",
      "c:\\Users\\it08d\\.conda\\envs\\scan\\Lib\\site-packages\\PIL\\Image.py:3452: DecompressionBombWarning: Image size (90636858 pixels) exceeds limit of 89478485 pixels, could be decompression bomb DOS attack.\n",
      "  warnings.warn(\n",
      "c:\\Users\\it08d\\.conda\\envs\\scan\\Lib\\site-packages\\PIL\\Image.py:3452: DecompressionBombWarning: Image size (90915363 pixels) exceeds limit of 89478485 pixels, could be decompression bomb DOS attack.\n",
      "  warnings.warn(\n",
      "c:\\Users\\it08d\\.conda\\envs\\scan\\Lib\\site-packages\\PIL\\Image.py:3452: DecompressionBombWarning: Image size (112988190 pixels) exceeds limit of 89478485 pixels, could be decompression bomb DOS attack.\n",
      "  warnings.warn(\n",
      "c:\\Users\\it08d\\.conda\\envs\\scan\\Lib\\site-packages\\PIL\\Image.py:3452: DecompressionBombWarning: Image size (90715386 pixels) exceeds limit of 89478485 pixels, could be decompression bomb DOS attack.\n",
      "  warnings.warn(\n",
      "c:\\Users\\it08d\\.conda\\envs\\scan\\Lib\\site-packages\\PIL\\Image.py:3452: DecompressionBombWarning: Image size (104270572 pixels) exceeds limit of 89478485 pixels, could be decompression bomb DOS attack.\n",
      "  warnings.warn(\n",
      "c:\\Users\\it08d\\.conda\\envs\\scan\\Lib\\site-packages\\PIL\\Image.py:3452: DecompressionBombWarning: Image size (109720380 pixels) exceeds limit of 89478485 pixels, could be decompression bomb DOS attack.\n",
      "  warnings.warn(\n",
      "c:\\Users\\it08d\\.conda\\envs\\scan\\Lib\\site-packages\\PIL\\Image.py:3452: DecompressionBombWarning: Image size (94345385 pixels) exceeds limit of 89478485 pixels, could be decompression bomb DOS attack.\n",
      "  warnings.warn(\n",
      "c:\\Users\\it08d\\.conda\\envs\\scan\\Lib\\site-packages\\PIL\\Image.py:3452: DecompressionBombWarning: Image size (100924680 pixels) exceeds limit of 89478485 pixels, could be decompression bomb DOS attack.\n",
      "  warnings.warn(\n",
      "c:\\Users\\it08d\\.conda\\envs\\scan\\Lib\\site-packages\\PIL\\Image.py:3452: DecompressionBombWarning: Image size (90924160 pixels) exceeds limit of 89478485 pixels, could be decompression bomb DOS attack.\n",
      "  warnings.warn(\n",
      "c:\\Users\\it08d\\.conda\\envs\\scan\\Lib\\site-packages\\PIL\\Image.py:3452: DecompressionBombWarning: Image size (95632992 pixels) exceeds limit of 89478485 pixels, could be decompression bomb DOS attack.\n",
      "  warnings.warn(\n",
      "c:\\Users\\it08d\\.conda\\envs\\scan\\Lib\\site-packages\\PIL\\Image.py:3452: DecompressionBombWarning: Image size (95959701 pixels) exceeds limit of 89478485 pixels, could be decompression bomb DOS attack.\n",
      "  warnings.warn(\n",
      "c:\\Users\\it08d\\.conda\\envs\\scan\\Lib\\site-packages\\PIL\\Image.py:3452: DecompressionBombWarning: Image size (99262481 pixels) exceeds limit of 89478485 pixels, could be decompression bomb DOS attack.\n",
      "  warnings.warn(\n",
      "c:\\Users\\it08d\\.conda\\envs\\scan\\Lib\\site-packages\\PIL\\Image.py:3452: DecompressionBombWarning: Image size (90704583 pixels) exceeds limit of 89478485 pixels, could be decompression bomb DOS attack.\n",
      "  warnings.warn(\n",
      "Epoch 15/100: 100%|██████████| 1/1 [02:27<00:00, 147.27s/it]\n"
     ]
    },
    {
     "name": "stdout",
     "output_type": "stream",
     "text": [
      "Epoch [15/100] Loss: 499999904.0000\n"
     ]
    },
    {
     "name": "stderr",
     "output_type": "stream",
     "text": [
      "Epoch 16/100:   0%|          | 0/1 [00:00<?, ?it/s]c:\\Users\\it08d\\.conda\\envs\\scan\\Lib\\site-packages\\PIL\\Image.py:3452: DecompressionBombWarning: Image size (111016026 pixels) exceeds limit of 89478485 pixels, could be decompression bomb DOS attack.\n",
      "  warnings.warn(\n",
      "c:\\Users\\it08d\\.conda\\envs\\scan\\Lib\\site-packages\\PIL\\Image.py:3452: DecompressionBombWarning: Image size (92851276 pixels) exceeds limit of 89478485 pixels, could be decompression bomb DOS attack.\n",
      "  warnings.warn(\n",
      "c:\\Users\\it08d\\.conda\\envs\\scan\\Lib\\site-packages\\PIL\\Image.py:3452: DecompressionBombWarning: Image size (108109019 pixels) exceeds limit of 89478485 pixels, could be decompression bomb DOS attack.\n",
      "  warnings.warn(\n",
      "c:\\Users\\it08d\\.conda\\envs\\scan\\Lib\\site-packages\\PIL\\Image.py:3452: DecompressionBombWarning: Image size (99361338 pixels) exceeds limit of 89478485 pixels, could be decompression bomb DOS attack.\n",
      "  warnings.warn(\n",
      "c:\\Users\\it08d\\.conda\\envs\\scan\\Lib\\site-packages\\PIL\\Image.py:3452: DecompressionBombWarning: Image size (95501070 pixels) exceeds limit of 89478485 pixels, could be decompression bomb DOS attack.\n",
      "  warnings.warn(\n",
      "c:\\Users\\it08d\\.conda\\envs\\scan\\Lib\\site-packages\\PIL\\Image.py:3452: DecompressionBombWarning: Image size (122024656 pixels) exceeds limit of 89478485 pixels, could be decompression bomb DOS attack.\n",
      "  warnings.warn(\n",
      "c:\\Users\\it08d\\.conda\\envs\\scan\\Lib\\site-packages\\PIL\\Image.py:3452: DecompressionBombWarning: Image size (115630106 pixels) exceeds limit of 89478485 pixels, could be decompression bomb DOS attack.\n",
      "  warnings.warn(\n",
      "c:\\Users\\it08d\\.conda\\envs\\scan\\Lib\\site-packages\\PIL\\Image.py:3452: DecompressionBombWarning: Image size (95860132 pixels) exceeds limit of 89478485 pixels, could be decompression bomb DOS attack.\n",
      "  warnings.warn(\n",
      "c:\\Users\\it08d\\.conda\\envs\\scan\\Lib\\site-packages\\PIL\\Image.py:3452: DecompressionBombWarning: Image size (115084059 pixels) exceeds limit of 89478485 pixels, could be decompression bomb DOS attack.\n",
      "  warnings.warn(\n",
      "c:\\Users\\it08d\\.conda\\envs\\scan\\Lib\\site-packages\\PIL\\Image.py:3452: DecompressionBombWarning: Image size (92269590 pixels) exceeds limit of 89478485 pixels, could be decompression bomb DOS attack.\n",
      "  warnings.warn(\n",
      "c:\\Users\\it08d\\.conda\\envs\\scan\\Lib\\site-packages\\PIL\\Image.py:3452: DecompressionBombWarning: Image size (109856466 pixels) exceeds limit of 89478485 pixels, could be decompression bomb DOS attack.\n",
      "  warnings.warn(\n",
      "c:\\Users\\it08d\\.conda\\envs\\scan\\Lib\\site-packages\\PIL\\Image.py:3452: DecompressionBombWarning: Image size (109577880 pixels) exceeds limit of 89478485 pixels, could be decompression bomb DOS attack.\n",
      "  warnings.warn(\n",
      "c:\\Users\\it08d\\.conda\\envs\\scan\\Lib\\site-packages\\PIL\\Image.py:3452: DecompressionBombWarning: Image size (93172735 pixels) exceeds limit of 89478485 pixels, could be decompression bomb DOS attack.\n",
      "  warnings.warn(\n",
      "c:\\Users\\it08d\\.conda\\envs\\scan\\Lib\\site-packages\\PIL\\Image.py:3452: DecompressionBombWarning: Image size (104030628 pixels) exceeds limit of 89478485 pixels, could be decompression bomb DOS attack.\n",
      "  warnings.warn(\n",
      "c:\\Users\\it08d\\.conda\\envs\\scan\\Lib\\site-packages\\PIL\\Image.py:3452: DecompressionBombWarning: Image size (106490322 pixels) exceeds limit of 89478485 pixels, could be decompression bomb DOS attack.\n",
      "  warnings.warn(\n",
      "c:\\Users\\it08d\\.conda\\envs\\scan\\Lib\\site-packages\\PIL\\Image.py:3452: DecompressionBombWarning: Image size (89719080 pixels) exceeds limit of 89478485 pixels, could be decompression bomb DOS attack.\n",
      "  warnings.warn(\n",
      "c:\\Users\\it08d\\.conda\\envs\\scan\\Lib\\site-packages\\PIL\\Image.py:3452: DecompressionBombWarning: Image size (91922680 pixels) exceeds limit of 89478485 pixels, could be decompression bomb DOS attack.\n",
      "  warnings.warn(\n",
      "c:\\Users\\it08d\\.conda\\envs\\scan\\Lib\\site-packages\\PIL\\Image.py:3452: DecompressionBombWarning: Image size (91927918 pixels) exceeds limit of 89478485 pixels, could be decompression bomb DOS attack.\n",
      "  warnings.warn(\n",
      "c:\\Users\\it08d\\.conda\\envs\\scan\\Lib\\site-packages\\PIL\\Image.py:3452: DecompressionBombWarning: Image size (94623615 pixels) exceeds limit of 89478485 pixels, could be decompression bomb DOS attack.\n",
      "  warnings.warn(\n",
      "c:\\Users\\it08d\\.conda\\envs\\scan\\Lib\\site-packages\\PIL\\Image.py:3452: DecompressionBombWarning: Image size (108263907 pixels) exceeds limit of 89478485 pixels, could be decompression bomb DOS attack.\n",
      "  warnings.warn(\n",
      "Epoch 16/100: 100%|██████████| 1/1 [02:36<00:00, 156.60s/it]\n"
     ]
    },
    {
     "name": "stdout",
     "output_type": "stream",
     "text": [
      "Epoch [16/100] Loss: 499999904.0000\n"
     ]
    },
    {
     "name": "stderr",
     "output_type": "stream",
     "text": [
      "Epoch 17/100:   0%|          | 0/1 [00:00<?, ?it/s]c:\\Users\\it08d\\.conda\\envs\\scan\\Lib\\site-packages\\PIL\\Image.py:3452: DecompressionBombWarning: Image size (95077980 pixels) exceeds limit of 89478485 pixels, could be decompression bomb DOS attack.\n",
      "  warnings.warn(\n",
      "c:\\Users\\it08d\\.conda\\envs\\scan\\Lib\\site-packages\\PIL\\Image.py:3452: DecompressionBombWarning: Image size (104800240 pixels) exceeds limit of 89478485 pixels, could be decompression bomb DOS attack.\n",
      "  warnings.warn(\n",
      "c:\\Users\\it08d\\.conda\\envs\\scan\\Lib\\site-packages\\PIL\\Image.py:3452: DecompressionBombWarning: Image size (93043200 pixels) exceeds limit of 89478485 pixels, could be decompression bomb DOS attack.\n",
      "  warnings.warn(\n",
      "c:\\Users\\it08d\\.conda\\envs\\scan\\Lib\\site-packages\\PIL\\Image.py:3452: DecompressionBombWarning: Image size (98888520 pixels) exceeds limit of 89478485 pixels, could be decompression bomb DOS attack.\n",
      "  warnings.warn(\n",
      "c:\\Users\\it08d\\.conda\\envs\\scan\\Lib\\site-packages\\PIL\\Image.py:3452: DecompressionBombWarning: Image size (94808620 pixels) exceeds limit of 89478485 pixels, could be decompression bomb DOS attack.\n",
      "  warnings.warn(\n",
      "c:\\Users\\it08d\\.conda\\envs\\scan\\Lib\\site-packages\\PIL\\Image.py:3452: DecompressionBombWarning: Image size (107719872 pixels) exceeds limit of 89478485 pixels, could be decompression bomb DOS attack.\n",
      "  warnings.warn(\n",
      "c:\\Users\\it08d\\.conda\\envs\\scan\\Lib\\site-packages\\PIL\\Image.py:3452: DecompressionBombWarning: Image size (112991716 pixels) exceeds limit of 89478485 pixels, could be decompression bomb DOS attack.\n",
      "  warnings.warn(\n",
      "c:\\Users\\it08d\\.conda\\envs\\scan\\Lib\\site-packages\\PIL\\Image.py:3452: DecompressionBombWarning: Image size (106491000 pixels) exceeds limit of 89478485 pixels, could be decompression bomb DOS attack.\n",
      "  warnings.warn(\n",
      "c:\\Users\\it08d\\.conda\\envs\\scan\\Lib\\site-packages\\PIL\\Image.py:3452: DecompressionBombWarning: Image size (92754909 pixels) exceeds limit of 89478485 pixels, could be decompression bomb DOS attack.\n",
      "  warnings.warn(\n",
      "c:\\Users\\it08d\\.conda\\envs\\scan\\Lib\\site-packages\\PIL\\Image.py:3452: DecompressionBombWarning: Image size (118960748 pixels) exceeds limit of 89478485 pixels, could be decompression bomb DOS attack.\n",
      "  warnings.warn(\n",
      "c:\\Users\\it08d\\.conda\\envs\\scan\\Lib\\site-packages\\PIL\\Image.py:3452: DecompressionBombWarning: Image size (102995844 pixels) exceeds limit of 89478485 pixels, could be decompression bomb DOS attack.\n",
      "  warnings.warn(\n",
      "c:\\Users\\it08d\\.conda\\envs\\scan\\Lib\\site-packages\\PIL\\Image.py:3452: DecompressionBombWarning: Image size (101408013 pixels) exceeds limit of 89478485 pixels, could be decompression bomb DOS attack.\n",
      "  warnings.warn(\n",
      "c:\\Users\\it08d\\.conda\\envs\\scan\\Lib\\site-packages\\PIL\\Image.py:3452: DecompressionBombWarning: Image size (111833551 pixels) exceeds limit of 89478485 pixels, could be decompression bomb DOS attack.\n",
      "  warnings.warn(\n",
      "c:\\Users\\it08d\\.conda\\envs\\scan\\Lib\\site-packages\\PIL\\Image.py:3452: DecompressionBombWarning: Image size (95223435 pixels) exceeds limit of 89478485 pixels, could be decompression bomb DOS attack.\n",
      "  warnings.warn(\n",
      "c:\\Users\\it08d\\.conda\\envs\\scan\\Lib\\site-packages\\PIL\\Image.py:3452: DecompressionBombWarning: Image size (91570835 pixels) exceeds limit of 89478485 pixels, could be decompression bomb DOS attack.\n",
      "  warnings.warn(\n",
      "c:\\Users\\it08d\\.conda\\envs\\scan\\Lib\\site-packages\\PIL\\Image.py:3452: DecompressionBombWarning: Image size (107125830 pixels) exceeds limit of 89478485 pixels, could be decompression bomb DOS attack.\n",
      "  warnings.warn(\n",
      "c:\\Users\\it08d\\.conda\\envs\\scan\\Lib\\site-packages\\PIL\\Image.py:3452: DecompressionBombWarning: Image size (109366043 pixels) exceeds limit of 89478485 pixels, could be decompression bomb DOS attack.\n",
      "  warnings.warn(\n",
      "c:\\Users\\it08d\\.conda\\envs\\scan\\Lib\\site-packages\\PIL\\Image.py:3452: DecompressionBombWarning: Image size (115895178 pixels) exceeds limit of 89478485 pixels, could be decompression bomb DOS attack.\n",
      "  warnings.warn(\n",
      "c:\\Users\\it08d\\.conda\\envs\\scan\\Lib\\site-packages\\PIL\\Image.py:3452: DecompressionBombWarning: Image size (92874528 pixels) exceeds limit of 89478485 pixels, could be decompression bomb DOS attack.\n",
      "  warnings.warn(\n",
      "c:\\Users\\it08d\\.conda\\envs\\scan\\Lib\\site-packages\\PIL\\Image.py:3452: DecompressionBombWarning: Image size (97660000 pixels) exceeds limit of 89478485 pixels, could be decompression bomb DOS attack.\n",
      "  warnings.warn(\n",
      "c:\\Users\\it08d\\.conda\\envs\\scan\\Lib\\site-packages\\PIL\\Image.py:3452: DecompressionBombWarning: Image size (101684132 pixels) exceeds limit of 89478485 pixels, could be decompression bomb DOS attack.\n",
      "  warnings.warn(\n",
      "c:\\Users\\it08d\\.conda\\envs\\scan\\Lib\\site-packages\\PIL\\Image.py:3452: DecompressionBombWarning: Image size (95257188 pixels) exceeds limit of 89478485 pixels, could be decompression bomb DOS attack.\n",
      "  warnings.warn(\n",
      "c:\\Users\\it08d\\.conda\\envs\\scan\\Lib\\site-packages\\PIL\\Image.py:3452: DecompressionBombWarning: Image size (92348310 pixels) exceeds limit of 89478485 pixels, could be decompression bomb DOS attack.\n",
      "  warnings.warn(\n",
      "c:\\Users\\it08d\\.conda\\envs\\scan\\Lib\\site-packages\\PIL\\Image.py:3452: DecompressionBombWarning: Image size (95427480 pixels) exceeds limit of 89478485 pixels, could be decompression bomb DOS attack.\n",
      "  warnings.warn(\n",
      "Epoch 17/100: 100%|██████████| 1/1 [03:10<00:00, 190.98s/it]\n"
     ]
    },
    {
     "name": "stdout",
     "output_type": "stream",
     "text": [
      "Epoch [17/100] Loss: 499999904.0000\n"
     ]
    },
    {
     "name": "stderr",
     "output_type": "stream",
     "text": [
      "Epoch 18/100:   0%|          | 0/1 [00:00<?, ?it/s]c:\\Users\\it08d\\.conda\\envs\\scan\\Lib\\site-packages\\PIL\\Image.py:3452: DecompressionBombWarning: Image size (114882720 pixels) exceeds limit of 89478485 pixels, could be decompression bomb DOS attack.\n",
      "  warnings.warn(\n",
      "c:\\Users\\it08d\\.conda\\envs\\scan\\Lib\\site-packages\\PIL\\Image.py:3452: DecompressionBombWarning: Image size (93497824 pixels) exceeds limit of 89478485 pixels, could be decompression bomb DOS attack.\n",
      "  warnings.warn(\n",
      "c:\\Users\\it08d\\.conda\\envs\\scan\\Lib\\site-packages\\PIL\\Image.py:3452: DecompressionBombWarning: Image size (94847067 pixels) exceeds limit of 89478485 pixels, could be decompression bomb DOS attack.\n",
      "  warnings.warn(\n",
      "c:\\Users\\it08d\\.conda\\envs\\scan\\Lib\\site-packages\\PIL\\Image.py:3452: DecompressionBombWarning: Image size (98072676 pixels) exceeds limit of 89478485 pixels, could be decompression bomb DOS attack.\n",
      "  warnings.warn(\n",
      "c:\\Users\\it08d\\.conda\\envs\\scan\\Lib\\site-packages\\PIL\\Image.py:3452: DecompressionBombWarning: Image size (104305320 pixels) exceeds limit of 89478485 pixels, could be decompression bomb DOS attack.\n",
      "  warnings.warn(\n",
      "c:\\Users\\it08d\\.conda\\envs\\scan\\Lib\\site-packages\\PIL\\Image.py:3452: DecompressionBombWarning: Image size (94711596 pixels) exceeds limit of 89478485 pixels, could be decompression bomb DOS attack.\n",
      "  warnings.warn(\n",
      "c:\\Users\\it08d\\.conda\\envs\\scan\\Lib\\site-packages\\PIL\\Image.py:3452: DecompressionBombWarning: Image size (113813130 pixels) exceeds limit of 89478485 pixels, could be decompression bomb DOS attack.\n",
      "  warnings.warn(\n",
      "c:\\Users\\it08d\\.conda\\envs\\scan\\Lib\\site-packages\\PIL\\Image.py:3452: DecompressionBombWarning: Image size (101175360 pixels) exceeds limit of 89478485 pixels, could be decompression bomb DOS attack.\n",
      "  warnings.warn(\n",
      "c:\\Users\\it08d\\.conda\\envs\\scan\\Lib\\site-packages\\PIL\\Image.py:3452: DecompressionBombWarning: Image size (111329800 pixels) exceeds limit of 89478485 pixels, could be decompression bomb DOS attack.\n",
      "  warnings.warn(\n",
      "c:\\Users\\it08d\\.conda\\envs\\scan\\Lib\\site-packages\\PIL\\Image.py:3452: DecompressionBombWarning: Image size (92532082 pixels) exceeds limit of 89478485 pixels, could be decompression bomb DOS attack.\n",
      "  warnings.warn(\n",
      "c:\\Users\\it08d\\.conda\\envs\\scan\\Lib\\site-packages\\PIL\\Image.py:3452: DecompressionBombWarning: Image size (93645424 pixels) exceeds limit of 89478485 pixels, could be decompression bomb DOS attack.\n",
      "  warnings.warn(\n",
      "c:\\Users\\it08d\\.conda\\envs\\scan\\Lib\\site-packages\\PIL\\Image.py:3452: DecompressionBombWarning: Image size (102567400 pixels) exceeds limit of 89478485 pixels, could be decompression bomb DOS attack.\n",
      "  warnings.warn(\n",
      "c:\\Users\\it08d\\.conda\\envs\\scan\\Lib\\site-packages\\PIL\\Image.py:3452: DecompressionBombWarning: Image size (98370247 pixels) exceeds limit of 89478485 pixels, could be decompression bomb DOS attack.\n",
      "  warnings.warn(\n",
      "c:\\Users\\it08d\\.conda\\envs\\scan\\Lib\\site-packages\\PIL\\Image.py:3452: DecompressionBombWarning: Image size (94094096 pixels) exceeds limit of 89478485 pixels, could be decompression bomb DOS attack.\n",
      "  warnings.warn(\n",
      "c:\\Users\\it08d\\.conda\\envs\\scan\\Lib\\site-packages\\PIL\\Image.py:3452: DecompressionBombWarning: Image size (106261662 pixels) exceeds limit of 89478485 pixels, could be decompression bomb DOS attack.\n",
      "  warnings.warn(\n",
      "c:\\Users\\it08d\\.conda\\envs\\scan\\Lib\\site-packages\\PIL\\Image.py:3452: DecompressionBombWarning: Image size (100104946 pixels) exceeds limit of 89478485 pixels, could be decompression bomb DOS attack.\n",
      "  warnings.warn(\n",
      "c:\\Users\\it08d\\.conda\\envs\\scan\\Lib\\site-packages\\PIL\\Image.py:3452: DecompressionBombWarning: Image size (113950805 pixels) exceeds limit of 89478485 pixels, could be decompression bomb DOS attack.\n",
      "  warnings.warn(\n",
      "c:\\Users\\it08d\\.conda\\envs\\scan\\Lib\\site-packages\\PIL\\Image.py:3452: DecompressionBombWarning: Image size (97796920 pixels) exceeds limit of 89478485 pixels, could be decompression bomb DOS attack.\n",
      "  warnings.warn(\n",
      "c:\\Users\\it08d\\.conda\\envs\\scan\\Lib\\site-packages\\PIL\\Image.py:3452: DecompressionBombWarning: Image size (114361156 pixels) exceeds limit of 89478485 pixels, could be decompression bomb DOS attack.\n",
      "  warnings.warn(\n",
      "c:\\Users\\it08d\\.conda\\envs\\scan\\Lib\\site-packages\\PIL\\Image.py:3452: DecompressionBombWarning: Image size (114082369 pixels) exceeds limit of 89478485 pixels, could be decompression bomb DOS attack.\n",
      "  warnings.warn(\n",
      "c:\\Users\\it08d\\.conda\\envs\\scan\\Lib\\site-packages\\PIL\\Image.py:3452: DecompressionBombWarning: Image size (105931760 pixels) exceeds limit of 89478485 pixels, could be decompression bomb DOS attack.\n",
      "  warnings.warn(\n",
      "c:\\Users\\it08d\\.conda\\envs\\scan\\Lib\\site-packages\\PIL\\Image.py:3452: DecompressionBombWarning: Image size (102216642 pixels) exceeds limit of 89478485 pixels, could be decompression bomb DOS attack.\n",
      "  warnings.warn(\n",
      "c:\\Users\\it08d\\.conda\\envs\\scan\\Lib\\site-packages\\PIL\\Image.py:3452: DecompressionBombWarning: Image size (103695152 pixels) exceeds limit of 89478485 pixels, could be decompression bomb DOS attack.\n",
      "  warnings.warn(\n",
      "c:\\Users\\it08d\\.conda\\envs\\scan\\Lib\\site-packages\\PIL\\Image.py:3452: DecompressionBombWarning: Image size (113843450 pixels) exceeds limit of 89478485 pixels, could be decompression bomb DOS attack.\n",
      "  warnings.warn(\n",
      "c:\\Users\\it08d\\.conda\\envs\\scan\\Lib\\site-packages\\PIL\\Image.py:3452: DecompressionBombWarning: Image size (93333140 pixels) exceeds limit of 89478485 pixels, could be decompression bomb DOS attack.\n",
      "  warnings.warn(\n",
      "Epoch 18/100: 100%|██████████| 1/1 [03:14<00:00, 194.15s/it]\n"
     ]
    },
    {
     "name": "stdout",
     "output_type": "stream",
     "text": [
      "Epoch [18/100] Loss: 499999904.0000\n"
     ]
    },
    {
     "name": "stderr",
     "output_type": "stream",
     "text": [
      "Epoch 19/100:   0%|          | 0/1 [00:00<?, ?it/s]c:\\Users\\it08d\\.conda\\envs\\scan\\Lib\\site-packages\\PIL\\Image.py:3452: DecompressionBombWarning: Image size (102060086 pixels) exceeds limit of 89478485 pixels, could be decompression bomb DOS attack.\n",
      "  warnings.warn(\n",
      "c:\\Users\\it08d\\.conda\\envs\\scan\\Lib\\site-packages\\PIL\\Image.py:3452: DecompressionBombWarning: Image size (94729250 pixels) exceeds limit of 89478485 pixels, could be decompression bomb DOS attack.\n",
      "  warnings.warn(\n",
      "c:\\Users\\it08d\\.conda\\envs\\scan\\Lib\\site-packages\\PIL\\Image.py:3452: DecompressionBombWarning: Image size (92809314 pixels) exceeds limit of 89478485 pixels, could be decompression bomb DOS attack.\n",
      "  warnings.warn(\n",
      "c:\\Users\\it08d\\.conda\\envs\\scan\\Lib\\site-packages\\PIL\\Image.py:3452: DecompressionBombWarning: Image size (95332290 pixels) exceeds limit of 89478485 pixels, could be decompression bomb DOS attack.\n",
      "  warnings.warn(\n",
      "c:\\Users\\it08d\\.conda\\envs\\scan\\Lib\\site-packages\\PIL\\Image.py:3452: DecompressionBombWarning: Image size (97390656 pixels) exceeds limit of 89478485 pixels, could be decompression bomb DOS attack.\n",
      "  warnings.warn(\n",
      "c:\\Users\\it08d\\.conda\\envs\\scan\\Lib\\site-packages\\PIL\\Image.py:3452: DecompressionBombWarning: Image size (110649374 pixels) exceeds limit of 89478485 pixels, could be decompression bomb DOS attack.\n",
      "  warnings.warn(\n",
      "c:\\Users\\it08d\\.conda\\envs\\scan\\Lib\\site-packages\\PIL\\Image.py:3452: DecompressionBombWarning: Image size (117818860 pixels) exceeds limit of 89478485 pixels, could be decompression bomb DOS attack.\n",
      "  warnings.warn(\n",
      "c:\\Users\\it08d\\.conda\\envs\\scan\\Lib\\site-packages\\PIL\\Image.py:3452: DecompressionBombWarning: Image size (94189692 pixels) exceeds limit of 89478485 pixels, could be decompression bomb DOS attack.\n",
      "  warnings.warn(\n",
      "c:\\Users\\it08d\\.conda\\envs\\scan\\Lib\\site-packages\\PIL\\Image.py:3452: DecompressionBombWarning: Image size (104575430 pixels) exceeds limit of 89478485 pixels, could be decompression bomb DOS attack.\n",
      "  warnings.warn(\n",
      "c:\\Users\\it08d\\.conda\\envs\\scan\\Lib\\site-packages\\PIL\\Image.py:3452: DecompressionBombWarning: Image size (104198763 pixels) exceeds limit of 89478485 pixels, could be decompression bomb DOS attack.\n",
      "  warnings.warn(\n",
      "c:\\Users\\it08d\\.conda\\envs\\scan\\Lib\\site-packages\\PIL\\Image.py:3452: DecompressionBombWarning: Image size (98544171 pixels) exceeds limit of 89478485 pixels, could be decompression bomb DOS attack.\n",
      "  warnings.warn(\n",
      "c:\\Users\\it08d\\.conda\\envs\\scan\\Lib\\site-packages\\PIL\\Image.py:3452: DecompressionBombWarning: Image size (103940140 pixels) exceeds limit of 89478485 pixels, could be decompression bomb DOS attack.\n",
      "  warnings.warn(\n",
      "c:\\Users\\it08d\\.conda\\envs\\scan\\Lib\\site-packages\\PIL\\Image.py:3452: DecompressionBombWarning: Image size (101556672 pixels) exceeds limit of 89478485 pixels, could be decompression bomb DOS attack.\n",
      "  warnings.warn(\n",
      "c:\\Users\\it08d\\.conda\\envs\\scan\\Lib\\site-packages\\PIL\\Image.py:3452: DecompressionBombWarning: Image size (93449370 pixels) exceeds limit of 89478485 pixels, could be decompression bomb DOS attack.\n",
      "  warnings.warn(\n",
      "c:\\Users\\it08d\\.conda\\envs\\scan\\Lib\\site-packages\\PIL\\Image.py:3452: DecompressionBombWarning: Image size (114907310 pixels) exceeds limit of 89478485 pixels, could be decompression bomb DOS attack.\n",
      "  warnings.warn(\n",
      "c:\\Users\\it08d\\.conda\\envs\\scan\\Lib\\site-packages\\PIL\\Image.py:3452: DecompressionBombWarning: Image size (108014942 pixels) exceeds limit of 89478485 pixels, could be decompression bomb DOS attack.\n",
      "  warnings.warn(\n",
      "c:\\Users\\it08d\\.conda\\envs\\scan\\Lib\\site-packages\\PIL\\Image.py:3452: DecompressionBombWarning: Image size (107011492 pixels) exceeds limit of 89478485 pixels, could be decompression bomb DOS attack.\n",
      "  warnings.warn(\n",
      "c:\\Users\\it08d\\.conda\\envs\\scan\\Lib\\site-packages\\PIL\\Image.py:3452: DecompressionBombWarning: Image size (98236642 pixels) exceeds limit of 89478485 pixels, could be decompression bomb DOS attack.\n",
      "  warnings.warn(\n",
      "c:\\Users\\it08d\\.conda\\envs\\scan\\Lib\\site-packages\\PIL\\Image.py:3452: DecompressionBombWarning: Image size (101505690 pixels) exceeds limit of 89478485 pixels, could be decompression bomb DOS attack.\n",
      "  warnings.warn(\n",
      "c:\\Users\\it08d\\.conda\\envs\\scan\\Lib\\site-packages\\PIL\\Image.py:3452: DecompressionBombWarning: Image size (95255160 pixels) exceeds limit of 89478485 pixels, could be decompression bomb DOS attack.\n",
      "  warnings.warn(\n",
      "c:\\Users\\it08d\\.conda\\envs\\scan\\Lib\\site-packages\\PIL\\Image.py:3452: DecompressionBombWarning: Image size (119760320 pixels) exceeds limit of 89478485 pixels, could be decompression bomb DOS attack.\n",
      "  warnings.warn(\n",
      "c:\\Users\\it08d\\.conda\\envs\\scan\\Lib\\site-packages\\PIL\\Image.py:3452: DecompressionBombWarning: Image size (95373462 pixels) exceeds limit of 89478485 pixels, could be decompression bomb DOS attack.\n",
      "  warnings.warn(\n",
      "c:\\Users\\it08d\\.conda\\envs\\scan\\Lib\\site-packages\\PIL\\Image.py:3452: DecompressionBombWarning: Image size (100903347 pixels) exceeds limit of 89478485 pixels, could be decompression bomb DOS attack.\n",
      "  warnings.warn(\n",
      "Epoch 19/100: 100%|██████████| 1/1 [03:29<00:00, 209.65s/it]\n"
     ]
    },
    {
     "name": "stdout",
     "output_type": "stream",
     "text": [
      "Epoch [19/100] Loss: 499999904.0000\n"
     ]
    },
    {
     "name": "stderr",
     "output_type": "stream",
     "text": [
      "Epoch 20/100:   0%|          | 0/1 [00:00<?, ?it/s]c:\\Users\\it08d\\.conda\\envs\\scan\\Lib\\site-packages\\PIL\\Image.py:3452: DecompressionBombWarning: Image size (91631299 pixels) exceeds limit of 89478485 pixels, could be decompression bomb DOS attack.\n",
      "  warnings.warn(\n",
      "c:\\Users\\it08d\\.conda\\envs\\scan\\Lib\\site-packages\\PIL\\Image.py:3452: DecompressionBombWarning: Image size (91612983 pixels) exceeds limit of 89478485 pixels, could be decompression bomb DOS attack.\n",
      "  warnings.warn(\n",
      "c:\\Users\\it08d\\.conda\\envs\\scan\\Lib\\site-packages\\PIL\\Image.py:3452: DecompressionBombWarning: Image size (97568112 pixels) exceeds limit of 89478485 pixels, could be decompression bomb DOS attack.\n",
      "  warnings.warn(\n",
      "c:\\Users\\it08d\\.conda\\envs\\scan\\Lib\\site-packages\\PIL\\Image.py:3452: DecompressionBombWarning: Image size (94894968 pixels) exceeds limit of 89478485 pixels, could be decompression bomb DOS attack.\n",
      "  warnings.warn(\n",
      "c:\\Users\\it08d\\.conda\\envs\\scan\\Lib\\site-packages\\PIL\\Image.py:3452: DecompressionBombWarning: Image size (89673934 pixels) exceeds limit of 89478485 pixels, could be decompression bomb DOS attack.\n",
      "  warnings.warn(\n",
      "c:\\Users\\it08d\\.conda\\envs\\scan\\Lib\\site-packages\\PIL\\Image.py:3452: DecompressionBombWarning: Image size (91808690 pixels) exceeds limit of 89478485 pixels, could be decompression bomb DOS attack.\n",
      "  warnings.warn(\n",
      "c:\\Users\\it08d\\.conda\\envs\\scan\\Lib\\site-packages\\PIL\\Image.py:3452: DecompressionBombWarning: Image size (105277728 pixels) exceeds limit of 89478485 pixels, could be decompression bomb DOS attack.\n",
      "  warnings.warn(\n",
      "c:\\Users\\it08d\\.conda\\envs\\scan\\Lib\\site-packages\\PIL\\Image.py:3452: DecompressionBombWarning: Image size (107394468 pixels) exceeds limit of 89478485 pixels, could be decompression bomb DOS attack.\n",
      "  warnings.warn(\n",
      "c:\\Users\\it08d\\.conda\\envs\\scan\\Lib\\site-packages\\PIL\\Image.py:3452: DecompressionBombWarning: Image size (95560905 pixels) exceeds limit of 89478485 pixels, could be decompression bomb DOS attack.\n",
      "  warnings.warn(\n",
      "c:\\Users\\it08d\\.conda\\envs\\scan\\Lib\\site-packages\\PIL\\Image.py:3452: DecompressionBombWarning: Image size (94035984 pixels) exceeds limit of 89478485 pixels, could be decompression bomb DOS attack.\n",
      "  warnings.warn(\n",
      "c:\\Users\\it08d\\.conda\\envs\\scan\\Lib\\site-packages\\PIL\\Image.py:3452: DecompressionBombWarning: Image size (97690563 pixels) exceeds limit of 89478485 pixels, could be decompression bomb DOS attack.\n",
      "  warnings.warn(\n",
      "c:\\Users\\it08d\\.conda\\envs\\scan\\Lib\\site-packages\\PIL\\Image.py:3452: DecompressionBombWarning: Image size (100520412 pixels) exceeds limit of 89478485 pixels, could be decompression bomb DOS attack.\n",
      "  warnings.warn(\n",
      "c:\\Users\\it08d\\.conda\\envs\\scan\\Lib\\site-packages\\PIL\\Image.py:3452: DecompressionBombWarning: Image size (89523720 pixels) exceeds limit of 89478485 pixels, could be decompression bomb DOS attack.\n",
      "  warnings.warn(\n",
      "c:\\Users\\it08d\\.conda\\envs\\scan\\Lib\\site-packages\\PIL\\Image.py:3452: DecompressionBombWarning: Image size (107131202 pixels) exceeds limit of 89478485 pixels, could be decompression bomb DOS attack.\n",
      "  warnings.warn(\n",
      "c:\\Users\\it08d\\.conda\\envs\\scan\\Lib\\site-packages\\PIL\\Image.py:3452: DecompressionBombWarning: Image size (106709160 pixels) exceeds limit of 89478485 pixels, could be decompression bomb DOS attack.\n",
      "  warnings.warn(\n",
      "c:\\Users\\it08d\\.conda\\envs\\scan\\Lib\\site-packages\\PIL\\Image.py:3452: DecompressionBombWarning: Image size (91756480 pixels) exceeds limit of 89478485 pixels, could be decompression bomb DOS attack.\n",
      "  warnings.warn(\n",
      "c:\\Users\\it08d\\.conda\\envs\\scan\\Lib\\site-packages\\PIL\\Image.py:3452: DecompressionBombWarning: Image size (94729000 pixels) exceeds limit of 89478485 pixels, could be decompression bomb DOS attack.\n",
      "  warnings.warn(\n",
      "c:\\Users\\it08d\\.conda\\envs\\scan\\Lib\\site-packages\\PIL\\Image.py:3452: DecompressionBombWarning: Image size (106888044 pixels) exceeds limit of 89478485 pixels, could be decompression bomb DOS attack.\n",
      "  warnings.warn(\n",
      "c:\\Users\\it08d\\.conda\\envs\\scan\\Lib\\site-packages\\PIL\\Image.py:3452: DecompressionBombWarning: Image size (89738022 pixels) exceeds limit of 89478485 pixels, could be decompression bomb DOS attack.\n",
      "  warnings.warn(\n",
      "c:\\Users\\it08d\\.conda\\envs\\scan\\Lib\\site-packages\\PIL\\Image.py:3452: DecompressionBombWarning: Image size (102211632 pixels) exceeds limit of 89478485 pixels, could be decompression bomb DOS attack.\n",
      "  warnings.warn(\n",
      "c:\\Users\\it08d\\.conda\\envs\\scan\\Lib\\site-packages\\PIL\\Image.py:3452: DecompressionBombWarning: Image size (105629940 pixels) exceeds limit of 89478485 pixels, could be decompression bomb DOS attack.\n",
      "  warnings.warn(\n",
      "c:\\Users\\it08d\\.conda\\envs\\scan\\Lib\\site-packages\\PIL\\Image.py:3452: DecompressionBombWarning: Image size (105655382 pixels) exceeds limit of 89478485 pixels, could be decompression bomb DOS attack.\n",
      "  warnings.warn(\n",
      "c:\\Users\\it08d\\.conda\\envs\\scan\\Lib\\site-packages\\PIL\\Image.py:3452: DecompressionBombWarning: Image size (91627578 pixels) exceeds limit of 89478485 pixels, could be decompression bomb DOS attack.\n",
      "  warnings.warn(\n",
      "c:\\Users\\it08d\\.conda\\envs\\scan\\Lib\\site-packages\\PIL\\Image.py:3452: DecompressionBombWarning: Image size (104157913 pixels) exceeds limit of 89478485 pixels, could be decompression bomb DOS attack.\n",
      "  warnings.warn(\n",
      "c:\\Users\\it08d\\.conda\\envs\\scan\\Lib\\site-packages\\PIL\\Image.py:3452: DecompressionBombWarning: Image size (94161030 pixels) exceeds limit of 89478485 pixels, could be decompression bomb DOS attack.\n",
      "  warnings.warn(\n",
      "c:\\Users\\it08d\\.conda\\envs\\scan\\Lib\\site-packages\\PIL\\Image.py:3452: DecompressionBombWarning: Image size (114487884 pixels) exceeds limit of 89478485 pixels, could be decompression bomb DOS attack.\n",
      "  warnings.warn(\n",
      "Epoch 20/100: 100%|██████████| 1/1 [03:02<00:00, 182.76s/it]\n"
     ]
    },
    {
     "name": "stdout",
     "output_type": "stream",
     "text": [
      "Epoch [20/100] Loss: 499999904.0000\n"
     ]
    },
    {
     "name": "stderr",
     "output_type": "stream",
     "text": [
      "Epoch 21/100:   0%|          | 0/1 [00:00<?, ?it/s]c:\\Users\\it08d\\.conda\\envs\\scan\\Lib\\site-packages\\PIL\\Image.py:3452: DecompressionBombWarning: Image size (100754758 pixels) exceeds limit of 89478485 pixels, could be decompression bomb DOS attack.\n",
      "  warnings.warn(\n",
      "c:\\Users\\it08d\\.conda\\envs\\scan\\Lib\\site-packages\\PIL\\Image.py:3452: DecompressionBombWarning: Image size (109103760 pixels) exceeds limit of 89478485 pixels, could be decompression bomb DOS attack.\n",
      "  warnings.warn(\n",
      "c:\\Users\\it08d\\.conda\\envs\\scan\\Lib\\site-packages\\PIL\\Image.py:3452: DecompressionBombWarning: Image size (102665108 pixels) exceeds limit of 89478485 pixels, could be decompression bomb DOS attack.\n",
      "  warnings.warn(\n",
      "c:\\Users\\it08d\\.conda\\envs\\scan\\Lib\\site-packages\\PIL\\Image.py:3452: DecompressionBombWarning: Image size (98861216 pixels) exceeds limit of 89478485 pixels, could be decompression bomb DOS attack.\n",
      "  warnings.warn(\n",
      "c:\\Users\\it08d\\.conda\\envs\\scan\\Lib\\site-packages\\PIL\\Image.py:3452: DecompressionBombWarning: Image size (93922920 pixels) exceeds limit of 89478485 pixels, could be decompression bomb DOS attack.\n",
      "  warnings.warn(\n",
      "c:\\Users\\it08d\\.conda\\envs\\scan\\Lib\\site-packages\\PIL\\Image.py:3452: DecompressionBombWarning: Image size (113291520 pixels) exceeds limit of 89478485 pixels, could be decompression bomb DOS attack.\n",
      "  warnings.warn(\n",
      "c:\\Users\\it08d\\.conda\\envs\\scan\\Lib\\site-packages\\PIL\\Image.py:3452: DecompressionBombWarning: Image size (94049954 pixels) exceeds limit of 89478485 pixels, could be decompression bomb DOS attack.\n",
      "  warnings.warn(\n",
      "c:\\Users\\it08d\\.conda\\envs\\scan\\Lib\\site-packages\\PIL\\Image.py:3452: DecompressionBombWarning: Image size (115596714 pixels) exceeds limit of 89478485 pixels, could be decompression bomb DOS attack.\n",
      "  warnings.warn(\n",
      "c:\\Users\\it08d\\.conda\\envs\\scan\\Lib\\site-packages\\PIL\\Image.py:3452: DecompressionBombWarning: Image size (97522308 pixels) exceeds limit of 89478485 pixels, could be decompression bomb DOS attack.\n",
      "  warnings.warn(\n",
      "c:\\Users\\it08d\\.conda\\envs\\scan\\Lib\\site-packages\\PIL\\Image.py:3452: DecompressionBombWarning: Image size (100625024 pixels) exceeds limit of 89478485 pixels, could be decompression bomb DOS attack.\n",
      "  warnings.warn(\n",
      "c:\\Users\\it08d\\.conda\\envs\\scan\\Lib\\site-packages\\PIL\\Image.py:3452: DecompressionBombWarning: Image size (99115506 pixels) exceeds limit of 89478485 pixels, could be decompression bomb DOS attack.\n",
      "  warnings.warn(\n",
      "c:\\Users\\it08d\\.conda\\envs\\scan\\Lib\\site-packages\\PIL\\Image.py:3452: DecompressionBombWarning: Image size (108544320 pixels) exceeds limit of 89478485 pixels, could be decompression bomb DOS attack.\n",
      "  warnings.warn(\n",
      "c:\\Users\\it08d\\.conda\\envs\\scan\\Lib\\site-packages\\PIL\\Image.py:3452: DecompressionBombWarning: Image size (103841377 pixels) exceeds limit of 89478485 pixels, could be decompression bomb DOS attack.\n",
      "  warnings.warn(\n",
      "c:\\Users\\it08d\\.conda\\envs\\scan\\Lib\\site-packages\\PIL\\Image.py:3452: DecompressionBombWarning: Image size (103759608 pixels) exceeds limit of 89478485 pixels, could be decompression bomb DOS attack.\n",
      "  warnings.warn(\n",
      "c:\\Users\\it08d\\.conda\\envs\\scan\\Lib\\site-packages\\PIL\\Image.py:3452: DecompressionBombWarning: Image size (94655626 pixels) exceeds limit of 89478485 pixels, could be decompression bomb DOS attack.\n",
      "  warnings.warn(\n",
      "c:\\Users\\it08d\\.conda\\envs\\scan\\Lib\\site-packages\\PIL\\Image.py:3452: DecompressionBombWarning: Image size (108820800 pixels) exceeds limit of 89478485 pixels, could be decompression bomb DOS attack.\n",
      "  warnings.warn(\n",
      "c:\\Users\\it08d\\.conda\\envs\\scan\\Lib\\site-packages\\PIL\\Image.py:3452: DecompressionBombWarning: Image size (111029717 pixels) exceeds limit of 89478485 pixels, could be decompression bomb DOS attack.\n",
      "  warnings.warn(\n",
      "c:\\Users\\it08d\\.conda\\envs\\scan\\Lib\\site-packages\\PIL\\Image.py:3452: DecompressionBombWarning: Image size (108711639 pixels) exceeds limit of 89478485 pixels, could be decompression bomb DOS attack.\n",
      "  warnings.warn(\n",
      "c:\\Users\\it08d\\.conda\\envs\\scan\\Lib\\site-packages\\PIL\\Image.py:3452: DecompressionBombWarning: Image size (96940626 pixels) exceeds limit of 89478485 pixels, could be decompression bomb DOS attack.\n",
      "  warnings.warn(\n",
      "Epoch 21/100: 100%|██████████| 1/1 [02:47<00:00, 167.82s/it]\n"
     ]
    },
    {
     "name": "stdout",
     "output_type": "stream",
     "text": [
      "Epoch [21/100] Loss: 499999904.0000\n"
     ]
    },
    {
     "name": "stderr",
     "output_type": "stream",
     "text": [
      "Epoch 22/100:   0%|          | 0/1 [00:00<?, ?it/s]c:\\Users\\it08d\\.conda\\envs\\scan\\Lib\\site-packages\\PIL\\Image.py:3452: DecompressionBombWarning: Image size (101901723 pixels) exceeds limit of 89478485 pixels, could be decompression bomb DOS attack.\n",
      "  warnings.warn(\n",
      "c:\\Users\\it08d\\.conda\\envs\\scan\\Lib\\site-packages\\PIL\\Image.py:3452: DecompressionBombWarning: Image size (105244440 pixels) exceeds limit of 89478485 pixels, could be decompression bomb DOS attack.\n",
      "  warnings.warn(\n",
      "c:\\Users\\it08d\\.conda\\envs\\scan\\Lib\\site-packages\\PIL\\Image.py:3452: DecompressionBombWarning: Image size (100269058 pixels) exceeds limit of 89478485 pixels, could be decompression bomb DOS attack.\n",
      "  warnings.warn(\n",
      "c:\\Users\\it08d\\.conda\\envs\\scan\\Lib\\site-packages\\PIL\\Image.py:3452: DecompressionBombWarning: Image size (91642212 pixels) exceeds limit of 89478485 pixels, could be decompression bomb DOS attack.\n",
      "  warnings.warn(\n",
      "c:\\Users\\it08d\\.conda\\envs\\scan\\Lib\\site-packages\\PIL\\Image.py:3452: DecompressionBombWarning: Image size (101485936 pixels) exceeds limit of 89478485 pixels, could be decompression bomb DOS attack.\n",
      "  warnings.warn(\n",
      "c:\\Users\\it08d\\.conda\\envs\\scan\\Lib\\site-packages\\PIL\\Image.py:3452: DecompressionBombWarning: Image size (92910450 pixels) exceeds limit of 89478485 pixels, could be decompression bomb DOS attack.\n",
      "  warnings.warn(\n",
      "c:\\Users\\it08d\\.conda\\envs\\scan\\Lib\\site-packages\\PIL\\Image.py:3452: DecompressionBombWarning: Image size (114669828 pixels) exceeds limit of 89478485 pixels, could be decompression bomb DOS attack.\n",
      "  warnings.warn(\n",
      "c:\\Users\\it08d\\.conda\\envs\\scan\\Lib\\site-packages\\PIL\\Image.py:3452: DecompressionBombWarning: Image size (103403520 pixels) exceeds limit of 89478485 pixels, could be decompression bomb DOS attack.\n",
      "  warnings.warn(\n",
      "c:\\Users\\it08d\\.conda\\envs\\scan\\Lib\\site-packages\\PIL\\Image.py:3452: DecompressionBombWarning: Image size (112376172 pixels) exceeds limit of 89478485 pixels, could be decompression bomb DOS attack.\n",
      "  warnings.warn(\n",
      "c:\\Users\\it08d\\.conda\\envs\\scan\\Lib\\site-packages\\PIL\\Image.py:3452: DecompressionBombWarning: Image size (99104915 pixels) exceeds limit of 89478485 pixels, could be decompression bomb DOS attack.\n",
      "  warnings.warn(\n",
      "c:\\Users\\it08d\\.conda\\envs\\scan\\Lib\\site-packages\\PIL\\Image.py:3452: DecompressionBombWarning: Image size (94188302 pixels) exceeds limit of 89478485 pixels, could be decompression bomb DOS attack.\n",
      "  warnings.warn(\n",
      "c:\\Users\\it08d\\.conda\\envs\\scan\\Lib\\site-packages\\PIL\\Image.py:3452: DecompressionBombWarning: Image size (114469794 pixels) exceeds limit of 89478485 pixels, could be decompression bomb DOS attack.\n",
      "  warnings.warn(\n",
      "c:\\Users\\it08d\\.conda\\envs\\scan\\Lib\\site-packages\\PIL\\Image.py:3452: DecompressionBombWarning: Image size (90395929 pixels) exceeds limit of 89478485 pixels, could be decompression bomb DOS attack.\n",
      "  warnings.warn(\n",
      "c:\\Users\\it08d\\.conda\\envs\\scan\\Lib\\site-packages\\PIL\\Image.py:3452: DecompressionBombWarning: Image size (105702624 pixels) exceeds limit of 89478485 pixels, could be decompression bomb DOS attack.\n",
      "  warnings.warn(\n",
      "c:\\Users\\it08d\\.conda\\envs\\scan\\Lib\\site-packages\\PIL\\Image.py:3452: DecompressionBombWarning: Image size (110007820 pixels) exceeds limit of 89478485 pixels, could be decompression bomb DOS attack.\n",
      "  warnings.warn(\n",
      "c:\\Users\\it08d\\.conda\\envs\\scan\\Lib\\site-packages\\PIL\\Image.py:3452: DecompressionBombWarning: Image size (93585558 pixels) exceeds limit of 89478485 pixels, could be decompression bomb DOS attack.\n",
      "  warnings.warn(\n",
      "c:\\Users\\it08d\\.conda\\envs\\scan\\Lib\\site-packages\\PIL\\Image.py:3452: DecompressionBombWarning: Image size (109235468 pixels) exceeds limit of 89478485 pixels, could be decompression bomb DOS attack.\n",
      "  warnings.warn(\n",
      "c:\\Users\\it08d\\.conda\\envs\\scan\\Lib\\site-packages\\PIL\\Image.py:3452: DecompressionBombWarning: Image size (99748962 pixels) exceeds limit of 89478485 pixels, could be decompression bomb DOS attack.\n",
      "  warnings.warn(\n",
      "c:\\Users\\it08d\\.conda\\envs\\scan\\Lib\\site-packages\\PIL\\Image.py:3452: DecompressionBombWarning: Image size (103033600 pixels) exceeds limit of 89478485 pixels, could be decompression bomb DOS attack.\n",
      "  warnings.warn(\n",
      "c:\\Users\\it08d\\.conda\\envs\\scan\\Lib\\site-packages\\PIL\\Image.py:3452: DecompressionBombWarning: Image size (106692624 pixels) exceeds limit of 89478485 pixels, could be decompression bomb DOS attack.\n",
      "  warnings.warn(\n",
      "c:\\Users\\it08d\\.conda\\envs\\scan\\Lib\\site-packages\\PIL\\Image.py:3452: DecompressionBombWarning: Image size (110096700 pixels) exceeds limit of 89478485 pixels, could be decompression bomb DOS attack.\n",
      "  warnings.warn(\n",
      "Epoch 22/100: 100%|██████████| 1/1 [02:45<00:00, 165.81s/it]\n"
     ]
    },
    {
     "name": "stdout",
     "output_type": "stream",
     "text": [
      "Epoch [22/100] Loss: 499999904.0000\n"
     ]
    },
    {
     "name": "stderr",
     "output_type": "stream",
     "text": [
      "Epoch 23/100:   0%|          | 0/1 [00:00<?, ?it/s]c:\\Users\\it08d\\.conda\\envs\\scan\\Lib\\site-packages\\PIL\\Image.py:3452: DecompressionBombWarning: Image size (93564560 pixels) exceeds limit of 89478485 pixels, could be decompression bomb DOS attack.\n",
      "  warnings.warn(\n",
      "c:\\Users\\it08d\\.conda\\envs\\scan\\Lib\\site-packages\\PIL\\Image.py:3452: DecompressionBombWarning: Image size (97307796 pixels) exceeds limit of 89478485 pixels, could be decompression bomb DOS attack.\n",
      "  warnings.warn(\n",
      "c:\\Users\\it08d\\.conda\\envs\\scan\\Lib\\site-packages\\PIL\\Image.py:3452: DecompressionBombWarning: Image size (96010257 pixels) exceeds limit of 89478485 pixels, could be decompression bomb DOS attack.\n",
      "  warnings.warn(\n",
      "c:\\Users\\it08d\\.conda\\envs\\scan\\Lib\\site-packages\\PIL\\Image.py:3452: DecompressionBombWarning: Image size (99155101 pixels) exceeds limit of 89478485 pixels, could be decompression bomb DOS attack.\n",
      "  warnings.warn(\n",
      "c:\\Users\\it08d\\.conda\\envs\\scan\\Lib\\site-packages\\PIL\\Image.py:3452: DecompressionBombWarning: Image size (110164992 pixels) exceeds limit of 89478485 pixels, could be decompression bomb DOS attack.\n",
      "  warnings.warn(\n",
      "c:\\Users\\it08d\\.conda\\envs\\scan\\Lib\\site-packages\\PIL\\Image.py:3452: DecompressionBombWarning: Image size (99754815 pixels) exceeds limit of 89478485 pixels, could be decompression bomb DOS attack.\n",
      "  warnings.warn(\n",
      "c:\\Users\\it08d\\.conda\\envs\\scan\\Lib\\site-packages\\PIL\\Image.py:3452: DecompressionBombWarning: Image size (95971868 pixels) exceeds limit of 89478485 pixels, could be decompression bomb DOS attack.\n",
      "  warnings.warn(\n",
      "c:\\Users\\it08d\\.conda\\envs\\scan\\Lib\\site-packages\\PIL\\Image.py:3452: DecompressionBombWarning: Image size (97053500 pixels) exceeds limit of 89478485 pixels, could be decompression bomb DOS attack.\n",
      "  warnings.warn(\n",
      "c:\\Users\\it08d\\.conda\\envs\\scan\\Lib\\site-packages\\PIL\\Image.py:3452: DecompressionBombWarning: Image size (112390680 pixels) exceeds limit of 89478485 pixels, could be decompression bomb DOS attack.\n",
      "  warnings.warn(\n",
      "c:\\Users\\it08d\\.conda\\envs\\scan\\Lib\\site-packages\\PIL\\Image.py:3452: DecompressionBombWarning: Image size (117711594 pixels) exceeds limit of 89478485 pixels, could be decompression bomb DOS attack.\n",
      "  warnings.warn(\n",
      "c:\\Users\\it08d\\.conda\\envs\\scan\\Lib\\site-packages\\PIL\\Image.py:3452: DecompressionBombWarning: Image size (90977418 pixels) exceeds limit of 89478485 pixels, could be decompression bomb DOS attack.\n",
      "  warnings.warn(\n",
      "c:\\Users\\it08d\\.conda\\envs\\scan\\Lib\\site-packages\\PIL\\Image.py:3452: DecompressionBombWarning: Image size (105405881 pixels) exceeds limit of 89478485 pixels, could be decompression bomb DOS attack.\n",
      "  warnings.warn(\n",
      "c:\\Users\\it08d\\.conda\\envs\\scan\\Lib\\site-packages\\PIL\\Image.py:3452: DecompressionBombWarning: Image size (106853434 pixels) exceeds limit of 89478485 pixels, could be decompression bomb DOS attack.\n",
      "  warnings.warn(\n",
      "c:\\Users\\it08d\\.conda\\envs\\scan\\Lib\\site-packages\\PIL\\Image.py:3452: DecompressionBombWarning: Image size (101031645 pixels) exceeds limit of 89478485 pixels, could be decompression bomb DOS attack.\n",
      "  warnings.warn(\n",
      "c:\\Users\\it08d\\.conda\\envs\\scan\\Lib\\site-packages\\PIL\\Image.py:3452: DecompressionBombWarning: Image size (98807918 pixels) exceeds limit of 89478485 pixels, could be decompression bomb DOS attack.\n",
      "  warnings.warn(\n",
      "c:\\Users\\it08d\\.conda\\envs\\scan\\Lib\\site-packages\\PIL\\Image.py:3452: DecompressionBombWarning: Image size (110157306 pixels) exceeds limit of 89478485 pixels, could be decompression bomb DOS attack.\n",
      "  warnings.warn(\n",
      "c:\\Users\\it08d\\.conda\\envs\\scan\\Lib\\site-packages\\PIL\\Image.py:3452: DecompressionBombWarning: Image size (91402173 pixels) exceeds limit of 89478485 pixels, could be decompression bomb DOS attack.\n",
      "  warnings.warn(\n",
      "c:\\Users\\it08d\\.conda\\envs\\scan\\Lib\\site-packages\\PIL\\Image.py:3452: DecompressionBombWarning: Image size (100945264 pixels) exceeds limit of 89478485 pixels, could be decompression bomb DOS attack.\n",
      "  warnings.warn(\n",
      "c:\\Users\\it08d\\.conda\\envs\\scan\\Lib\\site-packages\\PIL\\Image.py:3452: DecompressionBombWarning: Image size (113158980 pixels) exceeds limit of 89478485 pixels, could be decompression bomb DOS attack.\n",
      "  warnings.warn(\n",
      "c:\\Users\\it08d\\.conda\\envs\\scan\\Lib\\site-packages\\PIL\\Image.py:3452: DecompressionBombWarning: Image size (91691764 pixels) exceeds limit of 89478485 pixels, could be decompression bomb DOS attack.\n",
      "  warnings.warn(\n",
      "c:\\Users\\it08d\\.conda\\envs\\scan\\Lib\\site-packages\\PIL\\Image.py:3452: DecompressionBombWarning: Image size (89942530 pixels) exceeds limit of 89478485 pixels, could be decompression bomb DOS attack.\n",
      "  warnings.warn(\n",
      "c:\\Users\\it08d\\.conda\\envs\\scan\\Lib\\site-packages\\PIL\\Image.py:3452: DecompressionBombWarning: Image size (95224599 pixels) exceeds limit of 89478485 pixels, could be decompression bomb DOS attack.\n",
      "  warnings.warn(\n",
      "c:\\Users\\it08d\\.conda\\envs\\scan\\Lib\\site-packages\\PIL\\Image.py:3452: DecompressionBombWarning: Image size (111045162 pixels) exceeds limit of 89478485 pixels, could be decompression bomb DOS attack.\n",
      "  warnings.warn(\n",
      "c:\\Users\\it08d\\.conda\\envs\\scan\\Lib\\site-packages\\PIL\\Image.py:3452: DecompressionBombWarning: Image size (99953064 pixels) exceeds limit of 89478485 pixels, could be decompression bomb DOS attack.\n",
      "  warnings.warn(\n",
      "Epoch 23/100: 100%|██████████| 1/1 [02:57<00:00, 177.09s/it]\n"
     ]
    },
    {
     "name": "stdout",
     "output_type": "stream",
     "text": [
      "Epoch [23/100] Loss: 499999904.0000\n"
     ]
    },
    {
     "name": "stderr",
     "output_type": "stream",
     "text": [
      "Epoch 24/100:   0%|          | 0/1 [00:00<?, ?it/s]c:\\Users\\it08d\\.conda\\envs\\scan\\Lib\\site-packages\\PIL\\Image.py:3452: DecompressionBombWarning: Image size (102369163 pixels) exceeds limit of 89478485 pixels, could be decompression bomb DOS attack.\n",
      "  warnings.warn(\n",
      "c:\\Users\\it08d\\.conda\\envs\\scan\\Lib\\site-packages\\PIL\\Image.py:3452: DecompressionBombWarning: Image size (92473965 pixels) exceeds limit of 89478485 pixels, could be decompression bomb DOS attack.\n",
      "  warnings.warn(\n",
      "c:\\Users\\it08d\\.conda\\envs\\scan\\Lib\\site-packages\\PIL\\Image.py:3452: DecompressionBombWarning: Image size (94624470 pixels) exceeds limit of 89478485 pixels, could be decompression bomb DOS attack.\n",
      "  warnings.warn(\n",
      "c:\\Users\\it08d\\.conda\\envs\\scan\\Lib\\site-packages\\PIL\\Image.py:3452: DecompressionBombWarning: Image size (101507510 pixels) exceeds limit of 89478485 pixels, could be decompression bomb DOS attack.\n",
      "  warnings.warn(\n",
      "c:\\Users\\it08d\\.conda\\envs\\scan\\Lib\\site-packages\\PIL\\Image.py:3452: DecompressionBombWarning: Image size (106318586 pixels) exceeds limit of 89478485 pixels, could be decompression bomb DOS attack.\n",
      "  warnings.warn(\n",
      "c:\\Users\\it08d\\.conda\\envs\\scan\\Lib\\site-packages\\PIL\\Image.py:3452: DecompressionBombWarning: Image size (120153976 pixels) exceeds limit of 89478485 pixels, could be decompression bomb DOS attack.\n",
      "  warnings.warn(\n",
      "c:\\Users\\it08d\\.conda\\envs\\scan\\Lib\\site-packages\\PIL\\Image.py:3452: DecompressionBombWarning: Image size (94450048 pixels) exceeds limit of 89478485 pixels, could be decompression bomb DOS attack.\n",
      "  warnings.warn(\n",
      "c:\\Users\\it08d\\.conda\\envs\\scan\\Lib\\site-packages\\PIL\\Image.py:3452: DecompressionBombWarning: Image size (92034043 pixels) exceeds limit of 89478485 pixels, could be decompression bomb DOS attack.\n",
      "  warnings.warn(\n",
      "c:\\Users\\it08d\\.conda\\envs\\scan\\Lib\\site-packages\\PIL\\Image.py:3452: DecompressionBombWarning: Image size (109892000 pixels) exceeds limit of 89478485 pixels, could be decompression bomb DOS attack.\n",
      "  warnings.warn(\n",
      "c:\\Users\\it08d\\.conda\\envs\\scan\\Lib\\site-packages\\PIL\\Image.py:3452: DecompressionBombWarning: Image size (117944792 pixels) exceeds limit of 89478485 pixels, could be decompression bomb DOS attack.\n",
      "  warnings.warn(\n",
      "c:\\Users\\it08d\\.conda\\envs\\scan\\Lib\\site-packages\\PIL\\Image.py:3452: DecompressionBombWarning: Image size (89987976 pixels) exceeds limit of 89478485 pixels, could be decompression bomb DOS attack.\n",
      "  warnings.warn(\n",
      "c:\\Users\\it08d\\.conda\\envs\\scan\\Lib\\site-packages\\PIL\\Image.py:3452: DecompressionBombWarning: Image size (91081366 pixels) exceeds limit of 89478485 pixels, could be decompression bomb DOS attack.\n",
      "  warnings.warn(\n",
      "c:\\Users\\it08d\\.conda\\envs\\scan\\Lib\\site-packages\\PIL\\Image.py:3452: DecompressionBombWarning: Image size (90529824 pixels) exceeds limit of 89478485 pixels, could be decompression bomb DOS attack.\n",
      "  warnings.warn(\n",
      "c:\\Users\\it08d\\.conda\\envs\\scan\\Lib\\site-packages\\PIL\\Image.py:3452: DecompressionBombWarning: Image size (103895805 pixels) exceeds limit of 89478485 pixels, could be decompression bomb DOS attack.\n",
      "  warnings.warn(\n",
      "c:\\Users\\it08d\\.conda\\envs\\scan\\Lib\\site-packages\\PIL\\Image.py:3452: DecompressionBombWarning: Image size (89844765 pixels) exceeds limit of 89478485 pixels, could be decompression bomb DOS attack.\n",
      "  warnings.warn(\n",
      "c:\\Users\\it08d\\.conda\\envs\\scan\\Lib\\site-packages\\PIL\\Image.py:3452: DecompressionBombWarning: Image size (108903247 pixels) exceeds limit of 89478485 pixels, could be decompression bomb DOS attack.\n",
      "  warnings.warn(\n",
      "c:\\Users\\it08d\\.conda\\envs\\scan\\Lib\\site-packages\\PIL\\Image.py:3452: DecompressionBombWarning: Image size (94773312 pixels) exceeds limit of 89478485 pixels, could be decompression bomb DOS attack.\n",
      "  warnings.warn(\n",
      "c:\\Users\\it08d\\.conda\\envs\\scan\\Lib\\site-packages\\PIL\\Image.py:3452: DecompressionBombWarning: Image size (108278687 pixels) exceeds limit of 89478485 pixels, could be decompression bomb DOS attack.\n",
      "  warnings.warn(\n",
      "c:\\Users\\it08d\\.conda\\envs\\scan\\Lib\\site-packages\\PIL\\Image.py:3452: DecompressionBombWarning: Image size (98504043 pixels) exceeds limit of 89478485 pixels, could be decompression bomb DOS attack.\n",
      "  warnings.warn(\n",
      "Epoch 24/100: 100%|██████████| 1/1 [03:26<00:00, 206.15s/it]\n"
     ]
    },
    {
     "name": "stdout",
     "output_type": "stream",
     "text": [
      "Epoch [24/100] Loss: 499999904.0000\n"
     ]
    },
    {
     "name": "stderr",
     "output_type": "stream",
     "text": [
      "Epoch 25/100:   0%|          | 0/1 [00:00<?, ?it/s]c:\\Users\\it08d\\.conda\\envs\\scan\\Lib\\site-packages\\PIL\\Image.py:3452: DecompressionBombWarning: Image size (101327824 pixels) exceeds limit of 89478485 pixels, could be decompression bomb DOS attack.\n",
      "  warnings.warn(\n",
      "c:\\Users\\it08d\\.conda\\envs\\scan\\Lib\\site-packages\\PIL\\Image.py:3452: DecompressionBombWarning: Image size (90625359 pixels) exceeds limit of 89478485 pixels, could be decompression bomb DOS attack.\n",
      "  warnings.warn(\n",
      "c:\\Users\\it08d\\.conda\\envs\\scan\\Lib\\site-packages\\PIL\\Image.py:3452: DecompressionBombWarning: Image size (93694248 pixels) exceeds limit of 89478485 pixels, could be decompression bomb DOS attack.\n",
      "  warnings.warn(\n",
      "c:\\Users\\it08d\\.conda\\envs\\scan\\Lib\\site-packages\\PIL\\Image.py:3452: DecompressionBombWarning: Image size (107031045 pixels) exceeds limit of 89478485 pixels, could be decompression bomb DOS attack.\n",
      "  warnings.warn(\n",
      "c:\\Users\\it08d\\.conda\\envs\\scan\\Lib\\site-packages\\PIL\\Image.py:3452: DecompressionBombWarning: Image size (100486256 pixels) exceeds limit of 89478485 pixels, could be decompression bomb DOS attack.\n",
      "  warnings.warn(\n",
      "c:\\Users\\it08d\\.conda\\envs\\scan\\Lib\\site-packages\\PIL\\Image.py:3452: DecompressionBombWarning: Image size (92749572 pixels) exceeds limit of 89478485 pixels, could be decompression bomb DOS attack.\n",
      "  warnings.warn(\n",
      "c:\\Users\\it08d\\.conda\\envs\\scan\\Lib\\site-packages\\PIL\\Image.py:3452: DecompressionBombWarning: Image size (102584256 pixels) exceeds limit of 89478485 pixels, could be decompression bomb DOS attack.\n",
      "  warnings.warn(\n",
      "c:\\Users\\it08d\\.conda\\envs\\scan\\Lib\\site-packages\\PIL\\Image.py:3452: DecompressionBombWarning: Image size (90283249 pixels) exceeds limit of 89478485 pixels, could be decompression bomb DOS attack.\n",
      "  warnings.warn(\n",
      "c:\\Users\\it08d\\.conda\\envs\\scan\\Lib\\site-packages\\PIL\\Image.py:3452: DecompressionBombWarning: Image size (92766234 pixels) exceeds limit of 89478485 pixels, could be decompression bomb DOS attack.\n",
      "  warnings.warn(\n",
      "c:\\Users\\it08d\\.conda\\envs\\scan\\Lib\\site-packages\\PIL\\Image.py:3452: DecompressionBombWarning: Image size (108384812 pixels) exceeds limit of 89478485 pixels, could be decompression bomb DOS attack.\n",
      "  warnings.warn(\n",
      "c:\\Users\\it08d\\.conda\\envs\\scan\\Lib\\site-packages\\PIL\\Image.py:3452: DecompressionBombWarning: Image size (100330289 pixels) exceeds limit of 89478485 pixels, could be decompression bomb DOS attack.\n",
      "  warnings.warn(\n",
      "c:\\Users\\it08d\\.conda\\envs\\scan\\Lib\\site-packages\\PIL\\Image.py:3452: DecompressionBombWarning: Image size (95828224 pixels) exceeds limit of 89478485 pixels, could be decompression bomb DOS attack.\n",
      "  warnings.warn(\n",
      "c:\\Users\\it08d\\.conda\\envs\\scan\\Lib\\site-packages\\PIL\\Image.py:3452: DecompressionBombWarning: Image size (94012992 pixels) exceeds limit of 89478485 pixels, could be decompression bomb DOS attack.\n",
      "  warnings.warn(\n",
      "c:\\Users\\it08d\\.conda\\envs\\scan\\Lib\\site-packages\\PIL\\Image.py:3452: DecompressionBombWarning: Image size (89528445 pixels) exceeds limit of 89478485 pixels, could be decompression bomb DOS attack.\n",
      "  warnings.warn(\n",
      "c:\\Users\\it08d\\.conda\\envs\\scan\\Lib\\site-packages\\PIL\\Image.py:3452: DecompressionBombWarning: Image size (110505745 pixels) exceeds limit of 89478485 pixels, could be decompression bomb DOS attack.\n",
      "  warnings.warn(\n",
      "c:\\Users\\it08d\\.conda\\envs\\scan\\Lib\\site-packages\\PIL\\Image.py:3452: DecompressionBombWarning: Image size (110864650 pixels) exceeds limit of 89478485 pixels, could be decompression bomb DOS attack.\n",
      "  warnings.warn(\n",
      "c:\\Users\\it08d\\.conda\\envs\\scan\\Lib\\site-packages\\PIL\\Image.py:3452: DecompressionBombWarning: Image size (104656644 pixels) exceeds limit of 89478485 pixels, could be decompression bomb DOS attack.\n",
      "  warnings.warn(\n",
      "c:\\Users\\it08d\\.conda\\envs\\scan\\Lib\\site-packages\\PIL\\Image.py:3452: DecompressionBombWarning: Image size (96949995 pixels) exceeds limit of 89478485 pixels, could be decompression bomb DOS attack.\n",
      "  warnings.warn(\n",
      "c:\\Users\\it08d\\.conda\\envs\\scan\\Lib\\site-packages\\PIL\\Image.py:3452: DecompressionBombWarning: Image size (101292168 pixels) exceeds limit of 89478485 pixels, could be decompression bomb DOS attack.\n",
      "  warnings.warn(\n",
      "c:\\Users\\it08d\\.conda\\envs\\scan\\Lib\\site-packages\\PIL\\Image.py:3452: DecompressionBombWarning: Image size (106711108 pixels) exceeds limit of 89478485 pixels, could be decompression bomb DOS attack.\n",
      "  warnings.warn(\n",
      "c:\\Users\\it08d\\.conda\\envs\\scan\\Lib\\site-packages\\PIL\\Image.py:3452: DecompressionBombWarning: Image size (97013851 pixels) exceeds limit of 89478485 pixels, could be decompression bomb DOS attack.\n",
      "  warnings.warn(\n",
      "c:\\Users\\it08d\\.conda\\envs\\scan\\Lib\\site-packages\\PIL\\Image.py:3452: DecompressionBombWarning: Image size (91737270 pixels) exceeds limit of 89478485 pixels, could be decompression bomb DOS attack.\n",
      "  warnings.warn(\n",
      "c:\\Users\\it08d\\.conda\\envs\\scan\\Lib\\site-packages\\PIL\\Image.py:3452: DecompressionBombWarning: Image size (90352448 pixels) exceeds limit of 89478485 pixels, could be decompression bomb DOS attack.\n",
      "  warnings.warn(\n",
      "c:\\Users\\it08d\\.conda\\envs\\scan\\Lib\\site-packages\\PIL\\Image.py:3452: DecompressionBombWarning: Image size (122965080 pixels) exceeds limit of 89478485 pixels, could be decompression bomb DOS attack.\n",
      "  warnings.warn(\n",
      "c:\\Users\\it08d\\.conda\\envs\\scan\\Lib\\site-packages\\PIL\\Image.py:3452: DecompressionBombWarning: Image size (108946782 pixels) exceeds limit of 89478485 pixels, could be decompression bomb DOS attack.\n",
      "  warnings.warn(\n",
      "Epoch 25/100: 100%|██████████| 1/1 [03:14<00:00, 194.35s/it]\n"
     ]
    },
    {
     "name": "stdout",
     "output_type": "stream",
     "text": [
      "Epoch [25/100] Loss: 499999904.0000\n"
     ]
    },
    {
     "name": "stderr",
     "output_type": "stream",
     "text": [
      "Epoch 26/100:   0%|          | 0/1 [00:00<?, ?it/s]c:\\Users\\it08d\\.conda\\envs\\scan\\Lib\\site-packages\\PIL\\Image.py:3452: DecompressionBombWarning: Image size (100294442 pixels) exceeds limit of 89478485 pixels, could be decompression bomb DOS attack.\n",
      "  warnings.warn(\n",
      "c:\\Users\\it08d\\.conda\\envs\\scan\\Lib\\site-packages\\PIL\\Image.py:3452: DecompressionBombWarning: Image size (91701910 pixels) exceeds limit of 89478485 pixels, could be decompression bomb DOS attack.\n",
      "  warnings.warn(\n",
      "c:\\Users\\it08d\\.conda\\envs\\scan\\Lib\\site-packages\\PIL\\Image.py:3452: DecompressionBombWarning: Image size (92181320 pixels) exceeds limit of 89478485 pixels, could be decompression bomb DOS attack.\n",
      "  warnings.warn(\n",
      "c:\\Users\\it08d\\.conda\\envs\\scan\\Lib\\site-packages\\PIL\\Image.py:3452: DecompressionBombWarning: Image size (111371670 pixels) exceeds limit of 89478485 pixels, could be decompression bomb DOS attack.\n",
      "  warnings.warn(\n",
      "c:\\Users\\it08d\\.conda\\envs\\scan\\Lib\\site-packages\\PIL\\Image.py:3452: DecompressionBombWarning: Image size (100486440 pixels) exceeds limit of 89478485 pixels, could be decompression bomb DOS attack.\n",
      "  warnings.warn(\n",
      "c:\\Users\\it08d\\.conda\\envs\\scan\\Lib\\site-packages\\PIL\\Image.py:3452: DecompressionBombWarning: Image size (104488315 pixels) exceeds limit of 89478485 pixels, could be decompression bomb DOS attack.\n",
      "  warnings.warn(\n",
      "c:\\Users\\it08d\\.conda\\envs\\scan\\Lib\\site-packages\\PIL\\Image.py:3452: DecompressionBombWarning: Image size (100430260 pixels) exceeds limit of 89478485 pixels, could be decompression bomb DOS attack.\n",
      "  warnings.warn(\n",
      "c:\\Users\\it08d\\.conda\\envs\\scan\\Lib\\site-packages\\PIL\\Image.py:3452: DecompressionBombWarning: Image size (89678702 pixels) exceeds limit of 89478485 pixels, could be decompression bomb DOS attack.\n",
      "  warnings.warn(\n",
      "c:\\Users\\it08d\\.conda\\envs\\scan\\Lib\\site-packages\\PIL\\Image.py:3452: DecompressionBombWarning: Image size (106588860 pixels) exceeds limit of 89478485 pixels, could be decompression bomb DOS attack.\n",
      "  warnings.warn(\n",
      "c:\\Users\\it08d\\.conda\\envs\\scan\\Lib\\site-packages\\PIL\\Image.py:3452: DecompressionBombWarning: Image size (90352208 pixels) exceeds limit of 89478485 pixels, could be decompression bomb DOS attack.\n",
      "  warnings.warn(\n",
      "c:\\Users\\it08d\\.conda\\envs\\scan\\Lib\\site-packages\\PIL\\Image.py:3452: DecompressionBombWarning: Image size (101929880 pixels) exceeds limit of 89478485 pixels, could be decompression bomb DOS attack.\n",
      "  warnings.warn(\n",
      "c:\\Users\\it08d\\.conda\\envs\\scan\\Lib\\site-packages\\PIL\\Image.py:3452: DecompressionBombWarning: Image size (94872986 pixels) exceeds limit of 89478485 pixels, could be decompression bomb DOS attack.\n",
      "  warnings.warn(\n",
      "c:\\Users\\it08d\\.conda\\envs\\scan\\Lib\\site-packages\\PIL\\Image.py:3452: DecompressionBombWarning: Image size (98765568 pixels) exceeds limit of 89478485 pixels, could be decompression bomb DOS attack.\n",
      "  warnings.warn(\n",
      "c:\\Users\\it08d\\.conda\\envs\\scan\\Lib\\site-packages\\PIL\\Image.py:3452: DecompressionBombWarning: Image size (89811375 pixels) exceeds limit of 89478485 pixels, could be decompression bomb DOS attack.\n",
      "  warnings.warn(\n",
      "c:\\Users\\it08d\\.conda\\envs\\scan\\Lib\\site-packages\\PIL\\Image.py:3452: DecompressionBombWarning: Image size (90173083 pixels) exceeds limit of 89478485 pixels, could be decompression bomb DOS attack.\n",
      "  warnings.warn(\n",
      "c:\\Users\\it08d\\.conda\\envs\\scan\\Lib\\site-packages\\PIL\\Image.py:3452: DecompressionBombWarning: Image size (90576918 pixels) exceeds limit of 89478485 pixels, could be decompression bomb DOS attack.\n",
      "  warnings.warn(\n",
      "c:\\Users\\it08d\\.conda\\envs\\scan\\Lib\\site-packages\\PIL\\Image.py:3452: DecompressionBombWarning: Image size (90910754 pixels) exceeds limit of 89478485 pixels, could be decompression bomb DOS attack.\n",
      "  warnings.warn(\n",
      "c:\\Users\\it08d\\.conda\\envs\\scan\\Lib\\site-packages\\PIL\\Image.py:3452: DecompressionBombWarning: Image size (89895825 pixels) exceeds limit of 89478485 pixels, could be decompression bomb DOS attack.\n",
      "  warnings.warn(\n",
      "c:\\Users\\it08d\\.conda\\envs\\scan\\Lib\\site-packages\\PIL\\Image.py:3452: DecompressionBombWarning: Image size (99471075 pixels) exceeds limit of 89478485 pixels, could be decompression bomb DOS attack.\n",
      "  warnings.warn(\n",
      "c:\\Users\\it08d\\.conda\\envs\\scan\\Lib\\site-packages\\PIL\\Image.py:3452: DecompressionBombWarning: Image size (109649006 pixels) exceeds limit of 89478485 pixels, could be decompression bomb DOS attack.\n",
      "  warnings.warn(\n",
      "Epoch 26/100: 100%|██████████| 1/1 [03:15<00:00, 195.89s/it]\n"
     ]
    },
    {
     "name": "stdout",
     "output_type": "stream",
     "text": [
      "Epoch [26/100] Loss: 499999904.0000\n"
     ]
    },
    {
     "name": "stderr",
     "output_type": "stream",
     "text": [
      "Epoch 27/100:   0%|          | 0/1 [00:00<?, ?it/s]c:\\Users\\it08d\\.conda\\envs\\scan\\Lib\\site-packages\\PIL\\Image.py:3452: DecompressionBombWarning: Image size (97196367 pixels) exceeds limit of 89478485 pixels, could be decompression bomb DOS attack.\n",
      "  warnings.warn(\n",
      "c:\\Users\\it08d\\.conda\\envs\\scan\\Lib\\site-packages\\PIL\\Image.py:3452: DecompressionBombWarning: Image size (110916740 pixels) exceeds limit of 89478485 pixels, could be decompression bomb DOS attack.\n",
      "  warnings.warn(\n",
      "c:\\Users\\it08d\\.conda\\envs\\scan\\Lib\\site-packages\\PIL\\Image.py:3452: DecompressionBombWarning: Image size (105735448 pixels) exceeds limit of 89478485 pixels, could be decompression bomb DOS attack.\n",
      "  warnings.warn(\n",
      "c:\\Users\\it08d\\.conda\\envs\\scan\\Lib\\site-packages\\PIL\\Image.py:3452: DecompressionBombWarning: Image size (99652965 pixels) exceeds limit of 89478485 pixels, could be decompression bomb DOS attack.\n",
      "  warnings.warn(\n",
      "c:\\Users\\it08d\\.conda\\envs\\scan\\Lib\\site-packages\\PIL\\Image.py:3452: DecompressionBombWarning: Image size (101610245 pixels) exceeds limit of 89478485 pixels, could be decompression bomb DOS attack.\n",
      "  warnings.warn(\n",
      "c:\\Users\\it08d\\.conda\\envs\\scan\\Lib\\site-packages\\PIL\\Image.py:3452: DecompressionBombWarning: Image size (106654209 pixels) exceeds limit of 89478485 pixels, could be decompression bomb DOS attack.\n",
      "  warnings.warn(\n",
      "c:\\Users\\it08d\\.conda\\envs\\scan\\Lib\\site-packages\\PIL\\Image.py:3452: DecompressionBombWarning: Image size (104058962 pixels) exceeds limit of 89478485 pixels, could be decompression bomb DOS attack.\n",
      "  warnings.warn(\n",
      "c:\\Users\\it08d\\.conda\\envs\\scan\\Lib\\site-packages\\PIL\\Image.py:3452: DecompressionBombWarning: Image size (106226975 pixels) exceeds limit of 89478485 pixels, could be decompression bomb DOS attack.\n",
      "  warnings.warn(\n",
      "c:\\Users\\it08d\\.conda\\envs\\scan\\Lib\\site-packages\\PIL\\Image.py:3452: DecompressionBombWarning: Image size (95130096 pixels) exceeds limit of 89478485 pixels, could be decompression bomb DOS attack.\n",
      "  warnings.warn(\n",
      "c:\\Users\\it08d\\.conda\\envs\\scan\\Lib\\site-packages\\PIL\\Image.py:3452: DecompressionBombWarning: Image size (98996724 pixels) exceeds limit of 89478485 pixels, could be decompression bomb DOS attack.\n",
      "  warnings.warn(\n",
      "c:\\Users\\it08d\\.conda\\envs\\scan\\Lib\\site-packages\\PIL\\Image.py:3452: DecompressionBombWarning: Image size (100637055 pixels) exceeds limit of 89478485 pixels, could be decompression bomb DOS attack.\n",
      "  warnings.warn(\n",
      "c:\\Users\\it08d\\.conda\\envs\\scan\\Lib\\site-packages\\PIL\\Image.py:3452: DecompressionBombWarning: Image size (115128931 pixels) exceeds limit of 89478485 pixels, could be decompression bomb DOS attack.\n",
      "  warnings.warn(\n",
      "c:\\Users\\it08d\\.conda\\envs\\scan\\Lib\\site-packages\\PIL\\Image.py:3452: DecompressionBombWarning: Image size (99407133 pixels) exceeds limit of 89478485 pixels, could be decompression bomb DOS attack.\n",
      "  warnings.warn(\n",
      "c:\\Users\\it08d\\.conda\\envs\\scan\\Lib\\site-packages\\PIL\\Image.py:3452: DecompressionBombWarning: Image size (90204757 pixels) exceeds limit of 89478485 pixels, could be decompression bomb DOS attack.\n",
      "  warnings.warn(\n",
      "c:\\Users\\it08d\\.conda\\envs\\scan\\Lib\\site-packages\\PIL\\Image.py:3452: DecompressionBombWarning: Image size (108439243 pixels) exceeds limit of 89478485 pixels, could be decompression bomb DOS attack.\n",
      "  warnings.warn(\n",
      "c:\\Users\\it08d\\.conda\\envs\\scan\\Lib\\site-packages\\PIL\\Image.py:3452: DecompressionBombWarning: Image size (97004230 pixels) exceeds limit of 89478485 pixels, could be decompression bomb DOS attack.\n",
      "  warnings.warn(\n",
      "c:\\Users\\it08d\\.conda\\envs\\scan\\Lib\\site-packages\\PIL\\Image.py:3452: DecompressionBombWarning: Image size (95561640 pixels) exceeds limit of 89478485 pixels, could be decompression bomb DOS attack.\n",
      "  warnings.warn(\n",
      "c:\\Users\\it08d\\.conda\\envs\\scan\\Lib\\site-packages\\PIL\\Image.py:3452: DecompressionBombWarning: Image size (90551520 pixels) exceeds limit of 89478485 pixels, could be decompression bomb DOS attack.\n",
      "  warnings.warn(\n",
      "c:\\Users\\it08d\\.conda\\envs\\scan\\Lib\\site-packages\\PIL\\Image.py:3452: DecompressionBombWarning: Image size (109843965 pixels) exceeds limit of 89478485 pixels, could be decompression bomb DOS attack.\n",
      "  warnings.warn(\n",
      "c:\\Users\\it08d\\.conda\\envs\\scan\\Lib\\site-packages\\PIL\\Image.py:3452: DecompressionBombWarning: Image size (97356336 pixels) exceeds limit of 89478485 pixels, could be decompression bomb DOS attack.\n",
      "  warnings.warn(\n",
      "c:\\Users\\it08d\\.conda\\envs\\scan\\Lib\\site-packages\\PIL\\Image.py:3452: DecompressionBombWarning: Image size (109905120 pixels) exceeds limit of 89478485 pixels, could be decompression bomb DOS attack.\n",
      "  warnings.warn(\n",
      "c:\\Users\\it08d\\.conda\\envs\\scan\\Lib\\site-packages\\PIL\\Image.py:3452: DecompressionBombWarning: Image size (94588167 pixels) exceeds limit of 89478485 pixels, could be decompression bomb DOS attack.\n",
      "  warnings.warn(\n",
      "c:\\Users\\it08d\\.conda\\envs\\scan\\Lib\\site-packages\\PIL\\Image.py:3452: DecompressionBombWarning: Image size (97415304 pixels) exceeds limit of 89478485 pixels, could be decompression bomb DOS attack.\n",
      "  warnings.warn(\n",
      "Epoch 27/100: 100%|██████████| 1/1 [03:00<00:00, 180.90s/it]\n"
     ]
    },
    {
     "name": "stdout",
     "output_type": "stream",
     "text": [
      "Epoch [27/100] Loss: 499999904.0000\n"
     ]
    },
    {
     "name": "stderr",
     "output_type": "stream",
     "text": [
      "Epoch 28/100:   0%|          | 0/1 [00:00<?, ?it/s]c:\\Users\\it08d\\.conda\\envs\\scan\\Lib\\site-packages\\PIL\\Image.py:3452: DecompressionBombWarning: Image size (99359337 pixels) exceeds limit of 89478485 pixels, could be decompression bomb DOS attack.\n",
      "  warnings.warn(\n",
      "c:\\Users\\it08d\\.conda\\envs\\scan\\Lib\\site-packages\\PIL\\Image.py:3452: DecompressionBombWarning: Image size (102017375 pixels) exceeds limit of 89478485 pixels, could be decompression bomb DOS attack.\n",
      "  warnings.warn(\n",
      "c:\\Users\\it08d\\.conda\\envs\\scan\\Lib\\site-packages\\PIL\\Image.py:3452: DecompressionBombWarning: Image size (94137024 pixels) exceeds limit of 89478485 pixels, could be decompression bomb DOS attack.\n",
      "  warnings.warn(\n",
      "c:\\Users\\it08d\\.conda\\envs\\scan\\Lib\\site-packages\\PIL\\Image.py:3452: DecompressionBombWarning: Image size (101318300 pixels) exceeds limit of 89478485 pixels, could be decompression bomb DOS attack.\n",
      "  warnings.warn(\n",
      "c:\\Users\\it08d\\.conda\\envs\\scan\\Lib\\site-packages\\PIL\\Image.py:3452: DecompressionBombWarning: Image size (111358525 pixels) exceeds limit of 89478485 pixels, could be decompression bomb DOS attack.\n",
      "  warnings.warn(\n",
      "c:\\Users\\it08d\\.conda\\envs\\scan\\Lib\\site-packages\\PIL\\Image.py:3452: DecompressionBombWarning: Image size (96722730 pixels) exceeds limit of 89478485 pixels, could be decompression bomb DOS attack.\n",
      "  warnings.warn(\n",
      "c:\\Users\\it08d\\.conda\\envs\\scan\\Lib\\site-packages\\PIL\\Image.py:3452: DecompressionBombWarning: Image size (96175728 pixels) exceeds limit of 89478485 pixels, could be decompression bomb DOS attack.\n",
      "  warnings.warn(\n",
      "c:\\Users\\it08d\\.conda\\envs\\scan\\Lib\\site-packages\\PIL\\Image.py:3452: DecompressionBombWarning: Image size (96632280 pixels) exceeds limit of 89478485 pixels, could be decompression bomb DOS attack.\n",
      "  warnings.warn(\n",
      "c:\\Users\\it08d\\.conda\\envs\\scan\\Lib\\site-packages\\PIL\\Image.py:3452: DecompressionBombWarning: Image size (101142386 pixels) exceeds limit of 89478485 pixels, could be decompression bomb DOS attack.\n",
      "  warnings.warn(\n",
      "c:\\Users\\it08d\\.conda\\envs\\scan\\Lib\\site-packages\\PIL\\Image.py:3452: DecompressionBombWarning: Image size (100972800 pixels) exceeds limit of 89478485 pixels, could be decompression bomb DOS attack.\n",
      "  warnings.warn(\n",
      "c:\\Users\\it08d\\.conda\\envs\\scan\\Lib\\site-packages\\PIL\\Image.py:3452: DecompressionBombWarning: Image size (102967564 pixels) exceeds limit of 89478485 pixels, could be decompression bomb DOS attack.\n",
      "  warnings.warn(\n",
      "c:\\Users\\it08d\\.conda\\envs\\scan\\Lib\\site-packages\\PIL\\Image.py:3452: DecompressionBombWarning: Image size (109238975 pixels) exceeds limit of 89478485 pixels, could be decompression bomb DOS attack.\n",
      "  warnings.warn(\n",
      "c:\\Users\\it08d\\.conda\\envs\\scan\\Lib\\site-packages\\PIL\\Image.py:3452: DecompressionBombWarning: Image size (94342360 pixels) exceeds limit of 89478485 pixels, could be decompression bomb DOS attack.\n",
      "  warnings.warn(\n",
      "c:\\Users\\it08d\\.conda\\envs\\scan\\Lib\\site-packages\\PIL\\Image.py:3452: DecompressionBombWarning: Image size (93402489 pixels) exceeds limit of 89478485 pixels, could be decompression bomb DOS attack.\n",
      "  warnings.warn(\n",
      "c:\\Users\\it08d\\.conda\\envs\\scan\\Lib\\site-packages\\PIL\\Image.py:3452: DecompressionBombWarning: Image size (116574309 pixels) exceeds limit of 89478485 pixels, could be decompression bomb DOS attack.\n",
      "  warnings.warn(\n",
      "c:\\Users\\it08d\\.conda\\envs\\scan\\Lib\\site-packages\\PIL\\Image.py:3452: DecompressionBombWarning: Image size (95082064 pixels) exceeds limit of 89478485 pixels, could be decompression bomb DOS attack.\n",
      "  warnings.warn(\n",
      "c:\\Users\\it08d\\.conda\\envs\\scan\\Lib\\site-packages\\PIL\\Image.py:3452: DecompressionBombWarning: Image size (116583456 pixels) exceeds limit of 89478485 pixels, could be decompression bomb DOS attack.\n",
      "  warnings.warn(\n",
      "c:\\Users\\it08d\\.conda\\envs\\scan\\Lib\\site-packages\\PIL\\Image.py:3452: DecompressionBombWarning: Image size (90443304 pixels) exceeds limit of 89478485 pixels, could be decompression bomb DOS attack.\n",
      "  warnings.warn(\n",
      "c:\\Users\\it08d\\.conda\\envs\\scan\\Lib\\site-packages\\PIL\\Image.py:3452: DecompressionBombWarning: Image size (110599242 pixels) exceeds limit of 89478485 pixels, could be decompression bomb DOS attack.\n",
      "  warnings.warn(\n",
      "c:\\Users\\it08d\\.conda\\envs\\scan\\Lib\\site-packages\\PIL\\Image.py:3452: DecompressionBombWarning: Image size (93484075 pixels) exceeds limit of 89478485 pixels, could be decompression bomb DOS attack.\n",
      "  warnings.warn(\n",
      "Epoch 28/100: 100%|██████████| 1/1 [02:58<00:00, 178.45s/it]\n"
     ]
    },
    {
     "name": "stdout",
     "output_type": "stream",
     "text": [
      "Epoch [28/100] Loss: 499999904.0000\n"
     ]
    },
    {
     "name": "stderr",
     "output_type": "stream",
     "text": [
      "Epoch 29/100:   0%|          | 0/1 [00:00<?, ?it/s]c:\\Users\\it08d\\.conda\\envs\\scan\\Lib\\site-packages\\PIL\\Image.py:3452: DecompressionBombWarning: Image size (93988128 pixels) exceeds limit of 89478485 pixels, could be decompression bomb DOS attack.\n",
      "  warnings.warn(\n",
      "c:\\Users\\it08d\\.conda\\envs\\scan\\Lib\\site-packages\\PIL\\Image.py:3452: DecompressionBombWarning: Image size (117226924 pixels) exceeds limit of 89478485 pixels, could be decompression bomb DOS attack.\n",
      "  warnings.warn(\n",
      "c:\\Users\\it08d\\.conda\\envs\\scan\\Lib\\site-packages\\PIL\\Image.py:3452: DecompressionBombWarning: Image size (110023887 pixels) exceeds limit of 89478485 pixels, could be decompression bomb DOS attack.\n",
      "  warnings.warn(\n",
      "c:\\Users\\it08d\\.conda\\envs\\scan\\Lib\\site-packages\\PIL\\Image.py:3452: DecompressionBombWarning: Image size (95347200 pixels) exceeds limit of 89478485 pixels, could be decompression bomb DOS attack.\n",
      "  warnings.warn(\n",
      "c:\\Users\\it08d\\.conda\\envs\\scan\\Lib\\site-packages\\PIL\\Image.py:3452: DecompressionBombWarning: Image size (92594888 pixels) exceeds limit of 89478485 pixels, could be decompression bomb DOS attack.\n",
      "  warnings.warn(\n",
      "c:\\Users\\it08d\\.conda\\envs\\scan\\Lib\\site-packages\\PIL\\Image.py:3452: DecompressionBombWarning: Image size (108433234 pixels) exceeds limit of 89478485 pixels, could be decompression bomb DOS attack.\n",
      "  warnings.warn(\n",
      "c:\\Users\\it08d\\.conda\\envs\\scan\\Lib\\site-packages\\PIL\\Image.py:3452: DecompressionBombWarning: Image size (97024952 pixels) exceeds limit of 89478485 pixels, could be decompression bomb DOS attack.\n",
      "  warnings.warn(\n",
      "c:\\Users\\it08d\\.conda\\envs\\scan\\Lib\\site-packages\\PIL\\Image.py:3452: DecompressionBombWarning: Image size (90599040 pixels) exceeds limit of 89478485 pixels, could be decompression bomb DOS attack.\n",
      "  warnings.warn(\n",
      "c:\\Users\\it08d\\.conda\\envs\\scan\\Lib\\site-packages\\PIL\\Image.py:3452: DecompressionBombWarning: Image size (106316319 pixels) exceeds limit of 89478485 pixels, could be decompression bomb DOS attack.\n",
      "  warnings.warn(\n",
      "c:\\Users\\it08d\\.conda\\envs\\scan\\Lib\\site-packages\\PIL\\Image.py:3452: DecompressionBombWarning: Image size (104118222 pixels) exceeds limit of 89478485 pixels, could be decompression bomb DOS attack.\n",
      "  warnings.warn(\n",
      "c:\\Users\\it08d\\.conda\\envs\\scan\\Lib\\site-packages\\PIL\\Image.py:3452: DecompressionBombWarning: Image size (96511408 pixels) exceeds limit of 89478485 pixels, could be decompression bomb DOS attack.\n",
      "  warnings.warn(\n",
      "c:\\Users\\it08d\\.conda\\envs\\scan\\Lib\\site-packages\\PIL\\Image.py:3452: DecompressionBombWarning: Image size (91340235 pixels) exceeds limit of 89478485 pixels, could be decompression bomb DOS attack.\n",
      "  warnings.warn(\n",
      "c:\\Users\\it08d\\.conda\\envs\\scan\\Lib\\site-packages\\PIL\\Image.py:3452: DecompressionBombWarning: Image size (95150320 pixels) exceeds limit of 89478485 pixels, could be decompression bomb DOS attack.\n",
      "  warnings.warn(\n",
      "c:\\Users\\it08d\\.conda\\envs\\scan\\Lib\\site-packages\\PIL\\Image.py:3452: DecompressionBombWarning: Image size (95280240 pixels) exceeds limit of 89478485 pixels, could be decompression bomb DOS attack.\n",
      "  warnings.warn(\n",
      "c:\\Users\\it08d\\.conda\\envs\\scan\\Lib\\site-packages\\PIL\\Image.py:3452: DecompressionBombWarning: Image size (97190408 pixels) exceeds limit of 89478485 pixels, could be decompression bomb DOS attack.\n",
      "  warnings.warn(\n",
      "c:\\Users\\it08d\\.conda\\envs\\scan\\Lib\\site-packages\\PIL\\Image.py:3452: DecompressionBombWarning: Image size (99474675 pixels) exceeds limit of 89478485 pixels, could be decompression bomb DOS attack.\n",
      "  warnings.warn(\n",
      "c:\\Users\\it08d\\.conda\\envs\\scan\\Lib\\site-packages\\PIL\\Image.py:3452: DecompressionBombWarning: Image size (98237169 pixels) exceeds limit of 89478485 pixels, could be decompression bomb DOS attack.\n",
      "  warnings.warn(\n",
      "c:\\Users\\it08d\\.conda\\envs\\scan\\Lib\\site-packages\\PIL\\Image.py:3452: DecompressionBombWarning: Image size (111111160 pixels) exceeds limit of 89478485 pixels, could be decompression bomb DOS attack.\n",
      "  warnings.warn(\n",
      "c:\\Users\\it08d\\.conda\\envs\\scan\\Lib\\site-packages\\PIL\\Image.py:3452: DecompressionBombWarning: Image size (101316600 pixels) exceeds limit of 89478485 pixels, could be decompression bomb DOS attack.\n",
      "  warnings.warn(\n",
      "c:\\Users\\it08d\\.conda\\envs\\scan\\Lib\\site-packages\\PIL\\Image.py:3452: DecompressionBombWarning: Image size (104018975 pixels) exceeds limit of 89478485 pixels, could be decompression bomb DOS attack.\n",
      "  warnings.warn(\n",
      "c:\\Users\\it08d\\.conda\\envs\\scan\\Lib\\site-packages\\PIL\\Image.py:3452: DecompressionBombWarning: Image size (109178335 pixels) exceeds limit of 89478485 pixels, could be decompression bomb DOS attack.\n",
      "  warnings.warn(\n",
      "Epoch 29/100: 100%|██████████| 1/1 [02:52<00:00, 172.88s/it]\n"
     ]
    },
    {
     "name": "stdout",
     "output_type": "stream",
     "text": [
      "Epoch [29/100] Loss: 499999904.0000\n"
     ]
    },
    {
     "name": "stderr",
     "output_type": "stream",
     "text": [
      "Epoch 30/100:   0%|          | 0/1 [00:00<?, ?it/s]c:\\Users\\it08d\\.conda\\envs\\scan\\Lib\\site-packages\\PIL\\Image.py:3452: DecompressionBombWarning: Image size (98917687 pixels) exceeds limit of 89478485 pixels, could be decompression bomb DOS attack.\n",
      "  warnings.warn(\n",
      "c:\\Users\\it08d\\.conda\\envs\\scan\\Lib\\site-packages\\PIL\\Image.py:3452: DecompressionBombWarning: Image size (112089768 pixels) exceeds limit of 89478485 pixels, could be decompression bomb DOS attack.\n",
      "  warnings.warn(\n",
      "c:\\Users\\it08d\\.conda\\envs\\scan\\Lib\\site-packages\\PIL\\Image.py:3452: DecompressionBombWarning: Image size (108731742 pixels) exceeds limit of 89478485 pixels, could be decompression bomb DOS attack.\n",
      "  warnings.warn(\n",
      "c:\\Users\\it08d\\.conda\\envs\\scan\\Lib\\site-packages\\PIL\\Image.py:3452: DecompressionBombWarning: Image size (106429740 pixels) exceeds limit of 89478485 pixels, could be decompression bomb DOS attack.\n",
      "  warnings.warn(\n",
      "c:\\Users\\it08d\\.conda\\envs\\scan\\Lib\\site-packages\\PIL\\Image.py:3452: DecompressionBombWarning: Image size (94440888 pixels) exceeds limit of 89478485 pixels, could be decompression bomb DOS attack.\n",
      "  warnings.warn(\n",
      "c:\\Users\\it08d\\.conda\\envs\\scan\\Lib\\site-packages\\PIL\\Image.py:3452: DecompressionBombWarning: Image size (90425321 pixels) exceeds limit of 89478485 pixels, could be decompression bomb DOS attack.\n",
      "  warnings.warn(\n",
      "c:\\Users\\it08d\\.conda\\envs\\scan\\Lib\\site-packages\\PIL\\Image.py:3452: DecompressionBombWarning: Image size (117998049 pixels) exceeds limit of 89478485 pixels, could be decompression bomb DOS attack.\n",
      "  warnings.warn(\n",
      "c:\\Users\\it08d\\.conda\\envs\\scan\\Lib\\site-packages\\PIL\\Image.py:3452: DecompressionBombWarning: Image size (95788537 pixels) exceeds limit of 89478485 pixels, could be decompression bomb DOS attack.\n",
      "  warnings.warn(\n",
      "c:\\Users\\it08d\\.conda\\envs\\scan\\Lib\\site-packages\\PIL\\Image.py:3452: DecompressionBombWarning: Image size (94028144 pixels) exceeds limit of 89478485 pixels, could be decompression bomb DOS attack.\n",
      "  warnings.warn(\n",
      "c:\\Users\\it08d\\.conda\\envs\\scan\\Lib\\site-packages\\PIL\\Image.py:3452: DecompressionBombWarning: Image size (92102475 pixels) exceeds limit of 89478485 pixels, could be decompression bomb DOS attack.\n",
      "  warnings.warn(\n",
      "c:\\Users\\it08d\\.conda\\envs\\scan\\Lib\\site-packages\\PIL\\Image.py:3452: DecompressionBombWarning: Image size (101356100 pixels) exceeds limit of 89478485 pixels, could be decompression bomb DOS attack.\n",
      "  warnings.warn(\n",
      "c:\\Users\\it08d\\.conda\\envs\\scan\\Lib\\site-packages\\PIL\\Image.py:3452: DecompressionBombWarning: Image size (105519575 pixels) exceeds limit of 89478485 pixels, could be decompression bomb DOS attack.\n",
      "  warnings.warn(\n",
      "c:\\Users\\it08d\\.conda\\envs\\scan\\Lib\\site-packages\\PIL\\Image.py:3452: DecompressionBombWarning: Image size (103003759 pixels) exceeds limit of 89478485 pixels, could be decompression bomb DOS attack.\n",
      "  warnings.warn(\n",
      "c:\\Users\\it08d\\.conda\\envs\\scan\\Lib\\site-packages\\PIL\\Image.py:3452: DecompressionBombWarning: Image size (113296704 pixels) exceeds limit of 89478485 pixels, could be decompression bomb DOS attack.\n",
      "  warnings.warn(\n",
      "c:\\Users\\it08d\\.conda\\envs\\scan\\Lib\\site-packages\\PIL\\Image.py:3452: DecompressionBombWarning: Image size (95470067 pixels) exceeds limit of 89478485 pixels, could be decompression bomb DOS attack.\n",
      "  warnings.warn(\n",
      "c:\\Users\\it08d\\.conda\\envs\\scan\\Lib\\site-packages\\PIL\\Image.py:3452: DecompressionBombWarning: Image size (108236969 pixels) exceeds limit of 89478485 pixels, could be decompression bomb DOS attack.\n",
      "  warnings.warn(\n",
      "Epoch 30/100: 100%|██████████| 1/1 [02:20<00:00, 140.20s/it]\n"
     ]
    },
    {
     "name": "stdout",
     "output_type": "stream",
     "text": [
      "Epoch [30/100] Loss: 499999904.0000\n"
     ]
    },
    {
     "name": "stderr",
     "output_type": "stream",
     "text": [
      "Epoch 31/100:   0%|          | 0/1 [00:00<?, ?it/s]c:\\Users\\it08d\\.conda\\envs\\scan\\Lib\\site-packages\\PIL\\Image.py:3452: DecompressionBombWarning: Image size (100472652 pixels) exceeds limit of 89478485 pixels, could be decompression bomb DOS attack.\n",
      "  warnings.warn(\n",
      "c:\\Users\\it08d\\.conda\\envs\\scan\\Lib\\site-packages\\PIL\\Image.py:3452: DecompressionBombWarning: Image size (89677289 pixels) exceeds limit of 89478485 pixels, could be decompression bomb DOS attack.\n",
      "  warnings.warn(\n",
      "c:\\Users\\it08d\\.conda\\envs\\scan\\Lib\\site-packages\\PIL\\Image.py:3452: DecompressionBombWarning: Image size (101762928 pixels) exceeds limit of 89478485 pixels, could be decompression bomb DOS attack.\n",
      "  warnings.warn(\n",
      "c:\\Users\\it08d\\.conda\\envs\\scan\\Lib\\site-packages\\PIL\\Image.py:3452: DecompressionBombWarning: Image size (116930300 pixels) exceeds limit of 89478485 pixels, could be decompression bomb DOS attack.\n",
      "  warnings.warn(\n",
      "c:\\Users\\it08d\\.conda\\envs\\scan\\Lib\\site-packages\\PIL\\Image.py:3452: DecompressionBombWarning: Image size (97393476 pixels) exceeds limit of 89478485 pixels, could be decompression bomb DOS attack.\n",
      "  warnings.warn(\n",
      "c:\\Users\\it08d\\.conda\\envs\\scan\\Lib\\site-packages\\PIL\\Image.py:3452: DecompressionBombWarning: Image size (92723418 pixels) exceeds limit of 89478485 pixels, could be decompression bomb DOS attack.\n",
      "  warnings.warn(\n",
      "c:\\Users\\it08d\\.conda\\envs\\scan\\Lib\\site-packages\\PIL\\Image.py:3452: DecompressionBombWarning: Image size (92806560 pixels) exceeds limit of 89478485 pixels, could be decompression bomb DOS attack.\n",
      "  warnings.warn(\n",
      "c:\\Users\\it08d\\.conda\\envs\\scan\\Lib\\site-packages\\PIL\\Image.py:3452: DecompressionBombWarning: Image size (98261622 pixels) exceeds limit of 89478485 pixels, could be decompression bomb DOS attack.\n",
      "  warnings.warn(\n",
      "c:\\Users\\it08d\\.conda\\envs\\scan\\Lib\\site-packages\\PIL\\Image.py:3452: DecompressionBombWarning: Image size (98155314 pixels) exceeds limit of 89478485 pixels, could be decompression bomb DOS attack.\n",
      "  warnings.warn(\n",
      "c:\\Users\\it08d\\.conda\\envs\\scan\\Lib\\site-packages\\PIL\\Image.py:3452: DecompressionBombWarning: Image size (97512984 pixels) exceeds limit of 89478485 pixels, could be decompression bomb DOS attack.\n",
      "  warnings.warn(\n",
      "c:\\Users\\it08d\\.conda\\envs\\scan\\Lib\\site-packages\\PIL\\Image.py:3452: DecompressionBombWarning: Image size (92271340 pixels) exceeds limit of 89478485 pixels, could be decompression bomb DOS attack.\n",
      "  warnings.warn(\n",
      "c:\\Users\\it08d\\.conda\\envs\\scan\\Lib\\site-packages\\PIL\\Image.py:3452: DecompressionBombWarning: Image size (95553270 pixels) exceeds limit of 89478485 pixels, could be decompression bomb DOS attack.\n",
      "  warnings.warn(\n",
      "c:\\Users\\it08d\\.conda\\envs\\scan\\Lib\\site-packages\\PIL\\Image.py:3452: DecompressionBombWarning: Image size (100285648 pixels) exceeds limit of 89478485 pixels, could be decompression bomb DOS attack.\n",
      "  warnings.warn(\n",
      "c:\\Users\\it08d\\.conda\\envs\\scan\\Lib\\site-packages\\PIL\\Image.py:3452: DecompressionBombWarning: Image size (108009993 pixels) exceeds limit of 89478485 pixels, could be decompression bomb DOS attack.\n",
      "  warnings.warn(\n",
      "c:\\Users\\it08d\\.conda\\envs\\scan\\Lib\\site-packages\\PIL\\Image.py:3452: DecompressionBombWarning: Image size (92573260 pixels) exceeds limit of 89478485 pixels, could be decompression bomb DOS attack.\n",
      "  warnings.warn(\n",
      "c:\\Users\\it08d\\.conda\\envs\\scan\\Lib\\site-packages\\PIL\\Image.py:3452: DecompressionBombWarning: Image size (108005250 pixels) exceeds limit of 89478485 pixels, could be decompression bomb DOS attack.\n",
      "  warnings.warn(\n",
      "c:\\Users\\it08d\\.conda\\envs\\scan\\Lib\\site-packages\\PIL\\Image.py:3452: DecompressionBombWarning: Image size (94523400 pixels) exceeds limit of 89478485 pixels, could be decompression bomb DOS attack.\n",
      "  warnings.warn(\n",
      "c:\\Users\\it08d\\.conda\\envs\\scan\\Lib\\site-packages\\PIL\\Image.py:3452: DecompressionBombWarning: Image size (92368080 pixels) exceeds limit of 89478485 pixels, could be decompression bomb DOS attack.\n",
      "  warnings.warn(\n",
      "c:\\Users\\it08d\\.conda\\envs\\scan\\Lib\\site-packages\\PIL\\Image.py:3452: DecompressionBombWarning: Image size (90688290 pixels) exceeds limit of 89478485 pixels, could be decompression bomb DOS attack.\n",
      "  warnings.warn(\n",
      "c:\\Users\\it08d\\.conda\\envs\\scan\\Lib\\site-packages\\PIL\\Image.py:3452: DecompressionBombWarning: Image size (99374505 pixels) exceeds limit of 89478485 pixels, could be decompression bomb DOS attack.\n",
      "  warnings.warn(\n",
      "c:\\Users\\it08d\\.conda\\envs\\scan\\Lib\\site-packages\\PIL\\Image.py:3452: DecompressionBombWarning: Image size (95197739 pixels) exceeds limit of 89478485 pixels, could be decompression bomb DOS attack.\n",
      "  warnings.warn(\n",
      "Epoch 31/100: 100%|██████████| 1/1 [02:31<00:00, 151.93s/it]\n"
     ]
    },
    {
     "name": "stdout",
     "output_type": "stream",
     "text": [
      "Epoch [31/100] Loss: 499999904.0000\n"
     ]
    },
    {
     "name": "stderr",
     "output_type": "stream",
     "text": [
      "Epoch 32/100:   0%|          | 0/1 [00:00<?, ?it/s]c:\\Users\\it08d\\.conda\\envs\\scan\\Lib\\site-packages\\PIL\\Image.py:3452: DecompressionBombWarning: Image size (112945261 pixels) exceeds limit of 89478485 pixels, could be decompression bomb DOS attack.\n",
      "  warnings.warn(\n",
      "c:\\Users\\it08d\\.conda\\envs\\scan\\Lib\\site-packages\\PIL\\Image.py:3452: DecompressionBombWarning: Image size (97073020 pixels) exceeds limit of 89478485 pixels, could be decompression bomb DOS attack.\n",
      "  warnings.warn(\n",
      "c:\\Users\\it08d\\.conda\\envs\\scan\\Lib\\site-packages\\PIL\\Image.py:3452: DecompressionBombWarning: Image size (98194866 pixels) exceeds limit of 89478485 pixels, could be decompression bomb DOS attack.\n",
      "  warnings.warn(\n",
      "c:\\Users\\it08d\\.conda\\envs\\scan\\Lib\\site-packages\\PIL\\Image.py:3452: DecompressionBombWarning: Image size (101096136 pixels) exceeds limit of 89478485 pixels, could be decompression bomb DOS attack.\n",
      "  warnings.warn(\n",
      "c:\\Users\\it08d\\.conda\\envs\\scan\\Lib\\site-packages\\PIL\\Image.py:3452: DecompressionBombWarning: Image size (93519013 pixels) exceeds limit of 89478485 pixels, could be decompression bomb DOS attack.\n",
      "  warnings.warn(\n",
      "c:\\Users\\it08d\\.conda\\envs\\scan\\Lib\\site-packages\\PIL\\Image.py:3452: DecompressionBombWarning: Image size (95162298 pixels) exceeds limit of 89478485 pixels, could be decompression bomb DOS attack.\n",
      "  warnings.warn(\n",
      "c:\\Users\\it08d\\.conda\\envs\\scan\\Lib\\site-packages\\PIL\\Image.py:3452: DecompressionBombWarning: Image size (93467175 pixels) exceeds limit of 89478485 pixels, could be decompression bomb DOS attack.\n",
      "  warnings.warn(\n",
      "c:\\Users\\it08d\\.conda\\envs\\scan\\Lib\\site-packages\\PIL\\Image.py:3452: DecompressionBombWarning: Image size (104071968 pixels) exceeds limit of 89478485 pixels, could be decompression bomb DOS attack.\n",
      "  warnings.warn(\n",
      "c:\\Users\\it08d\\.conda\\envs\\scan\\Lib\\site-packages\\PIL\\Image.py:3452: DecompressionBombWarning: Image size (101178819 pixels) exceeds limit of 89478485 pixels, could be decompression bomb DOS attack.\n",
      "  warnings.warn(\n",
      "c:\\Users\\it08d\\.conda\\envs\\scan\\Lib\\site-packages\\PIL\\Image.py:3452: DecompressionBombWarning: Image size (101919510 pixels) exceeds limit of 89478485 pixels, could be decompression bomb DOS attack.\n",
      "  warnings.warn(\n",
      "c:\\Users\\it08d\\.conda\\envs\\scan\\Lib\\site-packages\\PIL\\Image.py:3452: DecompressionBombWarning: Image size (97640316 pixels) exceeds limit of 89478485 pixels, could be decompression bomb DOS attack.\n",
      "  warnings.warn(\n",
      "c:\\Users\\it08d\\.conda\\envs\\scan\\Lib\\site-packages\\PIL\\Image.py:3452: DecompressionBombWarning: Image size (104988304 pixels) exceeds limit of 89478485 pixels, could be decompression bomb DOS attack.\n",
      "  warnings.warn(\n",
      "c:\\Users\\it08d\\.conda\\envs\\scan\\Lib\\site-packages\\PIL\\Image.py:3452: DecompressionBombWarning: Image size (110159127 pixels) exceeds limit of 89478485 pixels, could be decompression bomb DOS attack.\n",
      "  warnings.warn(\n",
      "c:\\Users\\it08d\\.conda\\envs\\scan\\Lib\\site-packages\\PIL\\Image.py:3452: DecompressionBombWarning: Image size (105126218 pixels) exceeds limit of 89478485 pixels, could be decompression bomb DOS attack.\n",
      "  warnings.warn(\n",
      "c:\\Users\\it08d\\.conda\\envs\\scan\\Lib\\site-packages\\PIL\\Image.py:3452: DecompressionBombWarning: Image size (94726692 pixels) exceeds limit of 89478485 pixels, could be decompression bomb DOS attack.\n",
      "  warnings.warn(\n",
      "c:\\Users\\it08d\\.conda\\envs\\scan\\Lib\\site-packages\\PIL\\Image.py:3452: DecompressionBombWarning: Image size (97416750 pixels) exceeds limit of 89478485 pixels, could be decompression bomb DOS attack.\n",
      "  warnings.warn(\n",
      "c:\\Users\\it08d\\.conda\\envs\\scan\\Lib\\site-packages\\PIL\\Image.py:3452: DecompressionBombWarning: Image size (96833385 pixels) exceeds limit of 89478485 pixels, could be decompression bomb DOS attack.\n",
      "  warnings.warn(\n",
      "c:\\Users\\it08d\\.conda\\envs\\scan\\Lib\\site-packages\\PIL\\Image.py:3452: DecompressionBombWarning: Image size (105358624 pixels) exceeds limit of 89478485 pixels, could be decompression bomb DOS attack.\n",
      "  warnings.warn(\n",
      "c:\\Users\\it08d\\.conda\\envs\\scan\\Lib\\site-packages\\PIL\\Image.py:3452: DecompressionBombWarning: Image size (107410870 pixels) exceeds limit of 89478485 pixels, could be decompression bomb DOS attack.\n",
      "  warnings.warn(\n",
      "c:\\Users\\it08d\\.conda\\envs\\scan\\Lib\\site-packages\\PIL\\Image.py:3452: DecompressionBombWarning: Image size (93123558 pixels) exceeds limit of 89478485 pixels, could be decompression bomb DOS attack.\n",
      "  warnings.warn(\n",
      "c:\\Users\\it08d\\.conda\\envs\\scan\\Lib\\site-packages\\PIL\\Image.py:3452: DecompressionBombWarning: Image size (95519535 pixels) exceeds limit of 89478485 pixels, could be decompression bomb DOS attack.\n",
      "  warnings.warn(\n",
      "c:\\Users\\it08d\\.conda\\envs\\scan\\Lib\\site-packages\\PIL\\Image.py:3452: DecompressionBombWarning: Image size (100420060 pixels) exceeds limit of 89478485 pixels, could be decompression bomb DOS attack.\n",
      "  warnings.warn(\n",
      "Epoch 32/100: 100%|██████████| 1/1 [02:41<00:00, 161.59s/it]\n"
     ]
    },
    {
     "name": "stdout",
     "output_type": "stream",
     "text": [
      "Epoch [32/100] Loss: 499999904.0000\n"
     ]
    },
    {
     "name": "stderr",
     "output_type": "stream",
     "text": [
      "Epoch 33/100:   0%|          | 0/1 [00:00<?, ?it/s]c:\\Users\\it08d\\.conda\\envs\\scan\\Lib\\site-packages\\PIL\\Image.py:3452: DecompressionBombWarning: Image size (99828452 pixels) exceeds limit of 89478485 pixels, could be decompression bomb DOS attack.\n",
      "  warnings.warn(\n",
      "c:\\Users\\it08d\\.conda\\envs\\scan\\Lib\\site-packages\\PIL\\Image.py:3452: DecompressionBombWarning: Image size (94411779 pixels) exceeds limit of 89478485 pixels, could be decompression bomb DOS attack.\n",
      "  warnings.warn(\n",
      "c:\\Users\\it08d\\.conda\\envs\\scan\\Lib\\site-packages\\PIL\\Image.py:3452: DecompressionBombWarning: Image size (90407928 pixels) exceeds limit of 89478485 pixels, could be decompression bomb DOS attack.\n",
      "  warnings.warn(\n",
      "c:\\Users\\it08d\\.conda\\envs\\scan\\Lib\\site-packages\\PIL\\Image.py:3452: DecompressionBombWarning: Image size (114319700 pixels) exceeds limit of 89478485 pixels, could be decompression bomb DOS attack.\n",
      "  warnings.warn(\n",
      "c:\\Users\\it08d\\.conda\\envs\\scan\\Lib\\site-packages\\PIL\\Image.py:3452: DecompressionBombWarning: Image size (92718470 pixels) exceeds limit of 89478485 pixels, could be decompression bomb DOS attack.\n",
      "  warnings.warn(\n",
      "c:\\Users\\it08d\\.conda\\envs\\scan\\Lib\\site-packages\\PIL\\Image.py:3452: DecompressionBombWarning: Image size (91158165 pixels) exceeds limit of 89478485 pixels, could be decompression bomb DOS attack.\n",
      "  warnings.warn(\n",
      "c:\\Users\\it08d\\.conda\\envs\\scan\\Lib\\site-packages\\PIL\\Image.py:3452: DecompressionBombWarning: Image size (96351390 pixels) exceeds limit of 89478485 pixels, could be decompression bomb DOS attack.\n",
      "  warnings.warn(\n",
      "c:\\Users\\it08d\\.conda\\envs\\scan\\Lib\\site-packages\\PIL\\Image.py:3452: DecompressionBombWarning: Image size (104306916 pixels) exceeds limit of 89478485 pixels, could be decompression bomb DOS attack.\n",
      "  warnings.warn(\n",
      "c:\\Users\\it08d\\.conda\\envs\\scan\\Lib\\site-packages\\PIL\\Image.py:3452: DecompressionBombWarning: Image size (109945682 pixels) exceeds limit of 89478485 pixels, could be decompression bomb DOS attack.\n",
      "  warnings.warn(\n",
      "c:\\Users\\it08d\\.conda\\envs\\scan\\Lib\\site-packages\\PIL\\Image.py:3452: DecompressionBombWarning: Image size (95715536 pixels) exceeds limit of 89478485 pixels, could be decompression bomb DOS attack.\n",
      "  warnings.warn(\n",
      "c:\\Users\\it08d\\.conda\\envs\\scan\\Lib\\site-packages\\PIL\\Image.py:3452: DecompressionBombWarning: Image size (107875980 pixels) exceeds limit of 89478485 pixels, could be decompression bomb DOS attack.\n",
      "  warnings.warn(\n",
      "c:\\Users\\it08d\\.conda\\envs\\scan\\Lib\\site-packages\\PIL\\Image.py:3452: DecompressionBombWarning: Image size (90249979 pixels) exceeds limit of 89478485 pixels, could be decompression bomb DOS attack.\n",
      "  warnings.warn(\n",
      "c:\\Users\\it08d\\.conda\\envs\\scan\\Lib\\site-packages\\PIL\\Image.py:3452: DecompressionBombWarning: Image size (104308116 pixels) exceeds limit of 89478485 pixels, could be decompression bomb DOS attack.\n",
      "  warnings.warn(\n",
      "c:\\Users\\it08d\\.conda\\envs\\scan\\Lib\\site-packages\\PIL\\Image.py:3452: DecompressionBombWarning: Image size (98427950 pixels) exceeds limit of 89478485 pixels, could be decompression bomb DOS attack.\n",
      "  warnings.warn(\n",
      "c:\\Users\\it08d\\.conda\\envs\\scan\\Lib\\site-packages\\PIL\\Image.py:3452: DecompressionBombWarning: Image size (96973593 pixels) exceeds limit of 89478485 pixels, could be decompression bomb DOS attack.\n",
      "  warnings.warn(\n",
      "c:\\Users\\it08d\\.conda\\envs\\scan\\Lib\\site-packages\\PIL\\Image.py:3452: DecompressionBombWarning: Image size (101939292 pixels) exceeds limit of 89478485 pixels, could be decompression bomb DOS attack.\n",
      "  warnings.warn(\n",
      "c:\\Users\\it08d\\.conda\\envs\\scan\\Lib\\site-packages\\PIL\\Image.py:3452: DecompressionBombWarning: Image size (96074412 pixels) exceeds limit of 89478485 pixels, could be decompression bomb DOS attack.\n",
      "  warnings.warn(\n",
      "c:\\Users\\it08d\\.conda\\envs\\scan\\Lib\\site-packages\\PIL\\Image.py:3452: DecompressionBombWarning: Image size (93675581 pixels) exceeds limit of 89478485 pixels, could be decompression bomb DOS attack.\n",
      "  warnings.warn(\n",
      "c:\\Users\\it08d\\.conda\\envs\\scan\\Lib\\site-packages\\PIL\\Image.py:3452: DecompressionBombWarning: Image size (96221925 pixels) exceeds limit of 89478485 pixels, could be decompression bomb DOS attack.\n",
      "  warnings.warn(\n",
      "c:\\Users\\it08d\\.conda\\envs\\scan\\Lib\\site-packages\\PIL\\Image.py:3452: DecompressionBombWarning: Image size (101344818 pixels) exceeds limit of 89478485 pixels, could be decompression bomb DOS attack.\n",
      "  warnings.warn(\n",
      "c:\\Users\\it08d\\.conda\\envs\\scan\\Lib\\site-packages\\PIL\\Image.py:3452: DecompressionBombWarning: Image size (93468644 pixels) exceeds limit of 89478485 pixels, could be decompression bomb DOS attack.\n",
      "  warnings.warn(\n",
      "Epoch 33/100: 100%|██████████| 1/1 [02:44<00:00, 164.70s/it]\n"
     ]
    },
    {
     "name": "stdout",
     "output_type": "stream",
     "text": [
      "Epoch [33/100] Loss: 499999904.0000\n"
     ]
    },
    {
     "name": "stderr",
     "output_type": "stream",
     "text": [
      "Epoch 34/100:   0%|          | 0/1 [00:00<?, ?it/s]c:\\Users\\it08d\\.conda\\envs\\scan\\Lib\\site-packages\\PIL\\Image.py:3452: DecompressionBombWarning: Image size (115990964 pixels) exceeds limit of 89478485 pixels, could be decompression bomb DOS attack.\n",
      "  warnings.warn(\n",
      "c:\\Users\\it08d\\.conda\\envs\\scan\\Lib\\site-packages\\PIL\\Image.py:3452: DecompressionBombWarning: Image size (94037685 pixels) exceeds limit of 89478485 pixels, could be decompression bomb DOS attack.\n",
      "  warnings.warn(\n",
      "c:\\Users\\it08d\\.conda\\envs\\scan\\Lib\\site-packages\\PIL\\Image.py:3452: DecompressionBombWarning: Image size (115752032 pixels) exceeds limit of 89478485 pixels, could be decompression bomb DOS attack.\n",
      "  warnings.warn(\n",
      "c:\\Users\\it08d\\.conda\\envs\\scan\\Lib\\site-packages\\PIL\\Image.py:3452: DecompressionBombWarning: Image size (94282318 pixels) exceeds limit of 89478485 pixels, could be decompression bomb DOS attack.\n",
      "  warnings.warn(\n",
      "c:\\Users\\it08d\\.conda\\envs\\scan\\Lib\\site-packages\\PIL\\Image.py:3452: DecompressionBombWarning: Image size (92379953 pixels) exceeds limit of 89478485 pixels, could be decompression bomb DOS attack.\n",
      "  warnings.warn(\n",
      "c:\\Users\\it08d\\.conda\\envs\\scan\\Lib\\site-packages\\PIL\\Image.py:3452: DecompressionBombWarning: Image size (99980764 pixels) exceeds limit of 89478485 pixels, could be decompression bomb DOS attack.\n",
      "  warnings.warn(\n",
      "c:\\Users\\it08d\\.conda\\envs\\scan\\Lib\\site-packages\\PIL\\Image.py:3452: DecompressionBombWarning: Image size (106608120 pixels) exceeds limit of 89478485 pixels, could be decompression bomb DOS attack.\n",
      "  warnings.warn(\n",
      "c:\\Users\\it08d\\.conda\\envs\\scan\\Lib\\site-packages\\PIL\\Image.py:3452: DecompressionBombWarning: Image size (94768687 pixels) exceeds limit of 89478485 pixels, could be decompression bomb DOS attack.\n",
      "  warnings.warn(\n",
      "c:\\Users\\it08d\\.conda\\envs\\scan\\Lib\\site-packages\\PIL\\Image.py:3452: DecompressionBombWarning: Image size (107050048 pixels) exceeds limit of 89478485 pixels, could be decompression bomb DOS attack.\n",
      "  warnings.warn(\n",
      "c:\\Users\\it08d\\.conda\\envs\\scan\\Lib\\site-packages\\PIL\\Image.py:3452: DecompressionBombWarning: Image size (108773492 pixels) exceeds limit of 89478485 pixels, could be decompression bomb DOS attack.\n",
      "  warnings.warn(\n",
      "c:\\Users\\it08d\\.conda\\envs\\scan\\Lib\\site-packages\\PIL\\Image.py:3452: DecompressionBombWarning: Image size (117118172 pixels) exceeds limit of 89478485 pixels, could be decompression bomb DOS attack.\n",
      "  warnings.warn(\n",
      "c:\\Users\\it08d\\.conda\\envs\\scan\\Lib\\site-packages\\PIL\\Image.py:3452: DecompressionBombWarning: Image size (92972656 pixels) exceeds limit of 89478485 pixels, could be decompression bomb DOS attack.\n",
      "  warnings.warn(\n",
      "c:\\Users\\it08d\\.conda\\envs\\scan\\Lib\\site-packages\\PIL\\Image.py:3452: DecompressionBombWarning: Image size (94303998 pixels) exceeds limit of 89478485 pixels, could be decompression bomb DOS attack.\n",
      "  warnings.warn(\n",
      "c:\\Users\\it08d\\.conda\\envs\\scan\\Lib\\site-packages\\PIL\\Image.py:3452: DecompressionBombWarning: Image size (117384904 pixels) exceeds limit of 89478485 pixels, could be decompression bomb DOS attack.\n",
      "  warnings.warn(\n",
      "c:\\Users\\it08d\\.conda\\envs\\scan\\Lib\\site-packages\\PIL\\Image.py:3452: DecompressionBombWarning: Image size (97267230 pixels) exceeds limit of 89478485 pixels, could be decompression bomb DOS attack.\n",
      "  warnings.warn(\n",
      "c:\\Users\\it08d\\.conda\\envs\\scan\\Lib\\site-packages\\PIL\\Image.py:3452: DecompressionBombWarning: Image size (102440268 pixels) exceeds limit of 89478485 pixels, could be decompression bomb DOS attack.\n",
      "  warnings.warn(\n",
      "c:\\Users\\it08d\\.conda\\envs\\scan\\Lib\\site-packages\\PIL\\Image.py:3452: DecompressionBombWarning: Image size (93851846 pixels) exceeds limit of 89478485 pixels, could be decompression bomb DOS attack.\n",
      "  warnings.warn(\n",
      "c:\\Users\\it08d\\.conda\\envs\\scan\\Lib\\site-packages\\PIL\\Image.py:3452: DecompressionBombWarning: Image size (102298716 pixels) exceeds limit of 89478485 pixels, could be decompression bomb DOS attack.\n",
      "  warnings.warn(\n",
      "c:\\Users\\it08d\\.conda\\envs\\scan\\Lib\\site-packages\\PIL\\Image.py:3452: DecompressionBombWarning: Image size (108255596 pixels) exceeds limit of 89478485 pixels, could be decompression bomb DOS attack.\n",
      "  warnings.warn(\n",
      "c:\\Users\\it08d\\.conda\\envs\\scan\\Lib\\site-packages\\PIL\\Image.py:3452: DecompressionBombWarning: Image size (90138500 pixels) exceeds limit of 89478485 pixels, could be decompression bomb DOS attack.\n",
      "  warnings.warn(\n",
      "c:\\Users\\it08d\\.conda\\envs\\scan\\Lib\\site-packages\\PIL\\Image.py:3452: DecompressionBombWarning: Image size (94789365 pixels) exceeds limit of 89478485 pixels, could be decompression bomb DOS attack.\n",
      "  warnings.warn(\n",
      "Epoch 34/100: 100%|██████████| 1/1 [02:45<00:00, 165.83s/it]\n"
     ]
    },
    {
     "name": "stdout",
     "output_type": "stream",
     "text": [
      "Epoch [34/100] Loss: 499999904.0000\n"
     ]
    },
    {
     "name": "stderr",
     "output_type": "stream",
     "text": [
      "Epoch 35/100:   0%|          | 0/1 [00:00<?, ?it/s]c:\\Users\\it08d\\.conda\\envs\\scan\\Lib\\site-packages\\PIL\\Image.py:3452: DecompressionBombWarning: Image size (92617547 pixels) exceeds limit of 89478485 pixels, could be decompression bomb DOS attack.\n",
      "  warnings.warn(\n",
      "c:\\Users\\it08d\\.conda\\envs\\scan\\Lib\\site-packages\\PIL\\Image.py:3452: DecompressionBombWarning: Image size (90763242 pixels) exceeds limit of 89478485 pixels, could be decompression bomb DOS attack.\n",
      "  warnings.warn(\n",
      "c:\\Users\\it08d\\.conda\\envs\\scan\\Lib\\site-packages\\PIL\\Image.py:3452: DecompressionBombWarning: Image size (92529810 pixels) exceeds limit of 89478485 pixels, could be decompression bomb DOS attack.\n",
      "  warnings.warn(\n",
      "c:\\Users\\it08d\\.conda\\envs\\scan\\Lib\\site-packages\\PIL\\Image.py:3452: DecompressionBombWarning: Image size (93093996 pixels) exceeds limit of 89478485 pixels, could be decompression bomb DOS attack.\n",
      "  warnings.warn(\n",
      "c:\\Users\\it08d\\.conda\\envs\\scan\\Lib\\site-packages\\PIL\\Image.py:3452: DecompressionBombWarning: Image size (93354144 pixels) exceeds limit of 89478485 pixels, could be decompression bomb DOS attack.\n",
      "  warnings.warn(\n",
      "c:\\Users\\it08d\\.conda\\envs\\scan\\Lib\\site-packages\\PIL\\Image.py:3452: DecompressionBombWarning: Image size (108211976 pixels) exceeds limit of 89478485 pixels, could be decompression bomb DOS attack.\n",
      "  warnings.warn(\n",
      "c:\\Users\\it08d\\.conda\\envs\\scan\\Lib\\site-packages\\PIL\\Image.py:3452: DecompressionBombWarning: Image size (100518372 pixels) exceeds limit of 89478485 pixels, could be decompression bomb DOS attack.\n",
      "  warnings.warn(\n",
      "c:\\Users\\it08d\\.conda\\envs\\scan\\Lib\\site-packages\\PIL\\Image.py:3452: DecompressionBombWarning: Image size (101621476 pixels) exceeds limit of 89478485 pixels, could be decompression bomb DOS attack.\n",
      "  warnings.warn(\n",
      "c:\\Users\\it08d\\.conda\\envs\\scan\\Lib\\site-packages\\PIL\\Image.py:3452: DecompressionBombWarning: Image size (92902433 pixels) exceeds limit of 89478485 pixels, could be decompression bomb DOS attack.\n",
      "  warnings.warn(\n",
      "c:\\Users\\it08d\\.conda\\envs\\scan\\Lib\\site-packages\\PIL\\Image.py:3452: DecompressionBombWarning: Image size (92916000 pixels) exceeds limit of 89478485 pixels, could be decompression bomb DOS attack.\n",
      "  warnings.warn(\n",
      "c:\\Users\\it08d\\.conda\\envs\\scan\\Lib\\site-packages\\PIL\\Image.py:3452: DecompressionBombWarning: Image size (94863756 pixels) exceeds limit of 89478485 pixels, could be decompression bomb DOS attack.\n",
      "  warnings.warn(\n",
      "c:\\Users\\it08d\\.conda\\envs\\scan\\Lib\\site-packages\\PIL\\Image.py:3452: DecompressionBombWarning: Image size (112091952 pixels) exceeds limit of 89478485 pixels, could be decompression bomb DOS attack.\n",
      "  warnings.warn(\n",
      "c:\\Users\\it08d\\.conda\\envs\\scan\\Lib\\site-packages\\PIL\\Image.py:3452: DecompressionBombWarning: Image size (108519957 pixels) exceeds limit of 89478485 pixels, could be decompression bomb DOS attack.\n",
      "  warnings.warn(\n",
      "c:\\Users\\it08d\\.conda\\envs\\scan\\Lib\\site-packages\\PIL\\Image.py:3452: DecompressionBombWarning: Image size (96317100 pixels) exceeds limit of 89478485 pixels, could be decompression bomb DOS attack.\n",
      "  warnings.warn(\n",
      "c:\\Users\\it08d\\.conda\\envs\\scan\\Lib\\site-packages\\PIL\\Image.py:3452: DecompressionBombWarning: Image size (110562725 pixels) exceeds limit of 89478485 pixels, could be decompression bomb DOS attack.\n",
      "  warnings.warn(\n",
      "c:\\Users\\it08d\\.conda\\envs\\scan\\Lib\\site-packages\\PIL\\Image.py:3452: DecompressionBombWarning: Image size (118276470 pixels) exceeds limit of 89478485 pixels, could be decompression bomb DOS attack.\n",
      "  warnings.warn(\n",
      "c:\\Users\\it08d\\.conda\\envs\\scan\\Lib\\site-packages\\PIL\\Image.py:3452: DecompressionBombWarning: Image size (102130632 pixels) exceeds limit of 89478485 pixels, could be decompression bomb DOS attack.\n",
      "  warnings.warn(\n",
      "c:\\Users\\it08d\\.conda\\envs\\scan\\Lib\\site-packages\\PIL\\Image.py:3452: DecompressionBombWarning: Image size (97948084 pixels) exceeds limit of 89478485 pixels, could be decompression bomb DOS attack.\n",
      "  warnings.warn(\n",
      "c:\\Users\\it08d\\.conda\\envs\\scan\\Lib\\site-packages\\PIL\\Image.py:3452: DecompressionBombWarning: Image size (106198304 pixels) exceeds limit of 89478485 pixels, could be decompression bomb DOS attack.\n",
      "  warnings.warn(\n",
      "Epoch 35/100: 100%|██████████| 1/1 [02:59<00:00, 179.89s/it]\n"
     ]
    },
    {
     "name": "stdout",
     "output_type": "stream",
     "text": [
      "Epoch [35/100] Loss: 499999904.0000\n"
     ]
    },
    {
     "name": "stderr",
     "output_type": "stream",
     "text": [
      "Epoch 36/100:   0%|          | 0/1 [00:00<?, ?it/s]c:\\Users\\it08d\\.conda\\envs\\scan\\Lib\\site-packages\\PIL\\Image.py:3452: DecompressionBombWarning: Image size (94420120 pixels) exceeds limit of 89478485 pixels, could be decompression bomb DOS attack.\n",
      "  warnings.warn(\n",
      "c:\\Users\\it08d\\.conda\\envs\\scan\\Lib\\site-packages\\PIL\\Image.py:3452: DecompressionBombWarning: Image size (92541078 pixels) exceeds limit of 89478485 pixels, could be decompression bomb DOS attack.\n",
      "  warnings.warn(\n",
      "c:\\Users\\it08d\\.conda\\envs\\scan\\Lib\\site-packages\\PIL\\Image.py:3452: DecompressionBombWarning: Image size (101458704 pixels) exceeds limit of 89478485 pixels, could be decompression bomb DOS attack.\n",
      "  warnings.warn(\n",
      "c:\\Users\\it08d\\.conda\\envs\\scan\\Lib\\site-packages\\PIL\\Image.py:3452: DecompressionBombWarning: Image size (104450786 pixels) exceeds limit of 89478485 pixels, could be decompression bomb DOS attack.\n",
      "  warnings.warn(\n",
      "c:\\Users\\it08d\\.conda\\envs\\scan\\Lib\\site-packages\\PIL\\Image.py:3452: DecompressionBombWarning: Image size (94468796 pixels) exceeds limit of 89478485 pixels, could be decompression bomb DOS attack.\n",
      "  warnings.warn(\n",
      "c:\\Users\\it08d\\.conda\\envs\\scan\\Lib\\site-packages\\PIL\\Image.py:3452: DecompressionBombWarning: Image size (98028430 pixels) exceeds limit of 89478485 pixels, could be decompression bomb DOS attack.\n",
      "  warnings.warn(\n",
      "c:\\Users\\it08d\\.conda\\envs\\scan\\Lib\\site-packages\\PIL\\Image.py:3452: DecompressionBombWarning: Image size (107783865 pixels) exceeds limit of 89478485 pixels, could be decompression bomb DOS attack.\n",
      "  warnings.warn(\n",
      "c:\\Users\\it08d\\.conda\\envs\\scan\\Lib\\site-packages\\PIL\\Image.py:3452: DecompressionBombWarning: Image size (101306800 pixels) exceeds limit of 89478485 pixels, could be decompression bomb DOS attack.\n",
      "  warnings.warn(\n",
      "c:\\Users\\it08d\\.conda\\envs\\scan\\Lib\\site-packages\\PIL\\Image.py:3452: DecompressionBombWarning: Image size (98107882 pixels) exceeds limit of 89478485 pixels, could be decompression bomb DOS attack.\n",
      "  warnings.warn(\n",
      "c:\\Users\\it08d\\.conda\\envs\\scan\\Lib\\site-packages\\PIL\\Image.py:3452: DecompressionBombWarning: Image size (96468224 pixels) exceeds limit of 89478485 pixels, could be decompression bomb DOS attack.\n",
      "  warnings.warn(\n",
      "c:\\Users\\it08d\\.conda\\envs\\scan\\Lib\\site-packages\\PIL\\Image.py:3452: DecompressionBombWarning: Image size (105618637 pixels) exceeds limit of 89478485 pixels, could be decompression bomb DOS attack.\n",
      "  warnings.warn(\n",
      "c:\\Users\\it08d\\.conda\\envs\\scan\\Lib\\site-packages\\PIL\\Image.py:3452: DecompressionBombWarning: Image size (93666760 pixels) exceeds limit of 89478485 pixels, could be decompression bomb DOS attack.\n",
      "  warnings.warn(\n",
      "c:\\Users\\it08d\\.conda\\envs\\scan\\Lib\\site-packages\\PIL\\Image.py:3452: DecompressionBombWarning: Image size (99411648 pixels) exceeds limit of 89478485 pixels, could be decompression bomb DOS attack.\n",
      "  warnings.warn(\n",
      "c:\\Users\\it08d\\.conda\\envs\\scan\\Lib\\site-packages\\PIL\\Image.py:3452: DecompressionBombWarning: Image size (92242896 pixels) exceeds limit of 89478485 pixels, could be decompression bomb DOS attack.\n",
      "  warnings.warn(\n",
      "c:\\Users\\it08d\\.conda\\envs\\scan\\Lib\\site-packages\\PIL\\Image.py:3452: DecompressionBombWarning: Image size (103286085 pixels) exceeds limit of 89478485 pixels, could be decompression bomb DOS attack.\n",
      "  warnings.warn(\n",
      "c:\\Users\\it08d\\.conda\\envs\\scan\\Lib\\site-packages\\PIL\\Image.py:3452: DecompressionBombWarning: Image size (94844277 pixels) exceeds limit of 89478485 pixels, could be decompression bomb DOS attack.\n",
      "  warnings.warn(\n",
      "c:\\Users\\it08d\\.conda\\envs\\scan\\Lib\\site-packages\\PIL\\Image.py:3452: DecompressionBombWarning: Image size (92537776 pixels) exceeds limit of 89478485 pixels, could be decompression bomb DOS attack.\n",
      "  warnings.warn(\n",
      "c:\\Users\\it08d\\.conda\\envs\\scan\\Lib\\site-packages\\PIL\\Image.py:3452: DecompressionBombWarning: Image size (91037959 pixels) exceeds limit of 89478485 pixels, could be decompression bomb DOS attack.\n",
      "  warnings.warn(\n",
      "c:\\Users\\it08d\\.conda\\envs\\scan\\Lib\\site-packages\\PIL\\Image.py:3452: DecompressionBombWarning: Image size (99245075 pixels) exceeds limit of 89478485 pixels, could be decompression bomb DOS attack.\n",
      "  warnings.warn(\n",
      "c:\\Users\\it08d\\.conda\\envs\\scan\\Lib\\site-packages\\PIL\\Image.py:3452: DecompressionBombWarning: Image size (92287678 pixels) exceeds limit of 89478485 pixels, could be decompression bomb DOS attack.\n",
      "  warnings.warn(\n",
      "c:\\Users\\it08d\\.conda\\envs\\scan\\Lib\\site-packages\\PIL\\Image.py:3452: DecompressionBombWarning: Image size (96467793 pixels) exceeds limit of 89478485 pixels, could be decompression bomb DOS attack.\n",
      "  warnings.warn(\n",
      "c:\\Users\\it08d\\.conda\\envs\\scan\\Lib\\site-packages\\PIL\\Image.py:3452: DecompressionBombWarning: Image size (94832348 pixels) exceeds limit of 89478485 pixels, could be decompression bomb DOS attack.\n",
      "  warnings.warn(\n",
      "c:\\Users\\it08d\\.conda\\envs\\scan\\Lib\\site-packages\\PIL\\Image.py:3452: DecompressionBombWarning: Image size (104076060 pixels) exceeds limit of 89478485 pixels, could be decompression bomb DOS attack.\n",
      "  warnings.warn(\n",
      "c:\\Users\\it08d\\.conda\\envs\\scan\\Lib\\site-packages\\PIL\\Image.py:3452: DecompressionBombWarning: Image size (121821576 pixels) exceeds limit of 89478485 pixels, could be decompression bomb DOS attack.\n",
      "  warnings.warn(\n",
      "c:\\Users\\it08d\\.conda\\envs\\scan\\Lib\\site-packages\\PIL\\Image.py:3452: DecompressionBombWarning: Image size (89597445 pixels) exceeds limit of 89478485 pixels, could be decompression bomb DOS attack.\n",
      "  warnings.warn(\n",
      "c:\\Users\\it08d\\.conda\\envs\\scan\\Lib\\site-packages\\PIL\\Image.py:3452: DecompressionBombWarning: Image size (90759888 pixels) exceeds limit of 89478485 pixels, could be decompression bomb DOS attack.\n",
      "  warnings.warn(\n",
      "c:\\Users\\it08d\\.conda\\envs\\scan\\Lib\\site-packages\\PIL\\Image.py:3452: DecompressionBombWarning: Image size (107448915 pixels) exceeds limit of 89478485 pixels, could be decompression bomb DOS attack.\n",
      "  warnings.warn(\n",
      "Epoch 36/100: 100%|██████████| 1/1 [02:56<00:00, 176.87s/it]\n"
     ]
    },
    {
     "name": "stdout",
     "output_type": "stream",
     "text": [
      "Epoch [36/100] Loss: 499999904.0000\n"
     ]
    },
    {
     "name": "stderr",
     "output_type": "stream",
     "text": [
      "Epoch 37/100:   0%|          | 0/1 [00:00<?, ?it/s]c:\\Users\\it08d\\.conda\\envs\\scan\\Lib\\site-packages\\PIL\\Image.py:3452: DecompressionBombWarning: Image size (104812376 pixels) exceeds limit of 89478485 pixels, could be decompression bomb DOS attack.\n",
      "  warnings.warn(\n",
      "c:\\Users\\it08d\\.conda\\envs\\scan\\Lib\\site-packages\\PIL\\Image.py:3452: DecompressionBombWarning: Image size (89786224 pixels) exceeds limit of 89478485 pixels, could be decompression bomb DOS attack.\n",
      "  warnings.warn(\n",
      "c:\\Users\\it08d\\.conda\\envs\\scan\\Lib\\site-packages\\PIL\\Image.py:3452: DecompressionBombWarning: Image size (102300576 pixels) exceeds limit of 89478485 pixels, could be decompression bomb DOS attack.\n",
      "  warnings.warn(\n",
      "c:\\Users\\it08d\\.conda\\envs\\scan\\Lib\\site-packages\\PIL\\Image.py:3452: DecompressionBombWarning: Image size (97921010 pixels) exceeds limit of 89478485 pixels, could be decompression bomb DOS attack.\n",
      "  warnings.warn(\n",
      "c:\\Users\\it08d\\.conda\\envs\\scan\\Lib\\site-packages\\PIL\\Image.py:3452: DecompressionBombWarning: Image size (102084096 pixels) exceeds limit of 89478485 pixels, could be decompression bomb DOS attack.\n",
      "  warnings.warn(\n",
      "c:\\Users\\it08d\\.conda\\envs\\scan\\Lib\\site-packages\\PIL\\Image.py:3452: DecompressionBombWarning: Image size (90173980 pixels) exceeds limit of 89478485 pixels, could be decompression bomb DOS attack.\n",
      "  warnings.warn(\n",
      "c:\\Users\\it08d\\.conda\\envs\\scan\\Lib\\site-packages\\PIL\\Image.py:3452: DecompressionBombWarning: Image size (94629612 pixels) exceeds limit of 89478485 pixels, could be decompression bomb DOS attack.\n",
      "  warnings.warn(\n",
      "c:\\Users\\it08d\\.conda\\envs\\scan\\Lib\\site-packages\\PIL\\Image.py:3452: DecompressionBombWarning: Image size (117652920 pixels) exceeds limit of 89478485 pixels, could be decompression bomb DOS attack.\n",
      "  warnings.warn(\n",
      "c:\\Users\\it08d\\.conda\\envs\\scan\\Lib\\site-packages\\PIL\\Image.py:3452: DecompressionBombWarning: Image size (100445049 pixels) exceeds limit of 89478485 pixels, could be decompression bomb DOS attack.\n",
      "  warnings.warn(\n",
      "c:\\Users\\it08d\\.conda\\envs\\scan\\Lib\\site-packages\\PIL\\Image.py:3452: DecompressionBombWarning: Image size (96739740 pixels) exceeds limit of 89478485 pixels, could be decompression bomb DOS attack.\n",
      "  warnings.warn(\n",
      "c:\\Users\\it08d\\.conda\\envs\\scan\\Lib\\site-packages\\PIL\\Image.py:3452: DecompressionBombWarning: Image size (103113868 pixels) exceeds limit of 89478485 pixels, could be decompression bomb DOS attack.\n",
      "  warnings.warn(\n",
      "c:\\Users\\it08d\\.conda\\envs\\scan\\Lib\\site-packages\\PIL\\Image.py:3452: DecompressionBombWarning: Image size (90631170 pixels) exceeds limit of 89478485 pixels, could be decompression bomb DOS attack.\n",
      "  warnings.warn(\n",
      "c:\\Users\\it08d\\.conda\\envs\\scan\\Lib\\site-packages\\PIL\\Image.py:3452: DecompressionBombWarning: Image size (91549171 pixels) exceeds limit of 89478485 pixels, could be decompression bomb DOS attack.\n",
      "  warnings.warn(\n",
      "c:\\Users\\it08d\\.conda\\envs\\scan\\Lib\\site-packages\\PIL\\Image.py:3452: DecompressionBombWarning: Image size (90112022 pixels) exceeds limit of 89478485 pixels, could be decompression bomb DOS attack.\n",
      "  warnings.warn(\n",
      "c:\\Users\\it08d\\.conda\\envs\\scan\\Lib\\site-packages\\PIL\\Image.py:3452: DecompressionBombWarning: Image size (117714036 pixels) exceeds limit of 89478485 pixels, could be decompression bomb DOS attack.\n",
      "  warnings.warn(\n",
      "c:\\Users\\it08d\\.conda\\envs\\scan\\Lib\\site-packages\\PIL\\Image.py:3452: DecompressionBombWarning: Image size (102877188 pixels) exceeds limit of 89478485 pixels, could be decompression bomb DOS attack.\n",
      "  warnings.warn(\n",
      "c:\\Users\\it08d\\.conda\\envs\\scan\\Lib\\site-packages\\PIL\\Image.py:3452: DecompressionBombWarning: Image size (93397472 pixels) exceeds limit of 89478485 pixels, could be decompression bomb DOS attack.\n",
      "  warnings.warn(\n",
      "c:\\Users\\it08d\\.conda\\envs\\scan\\Lib\\site-packages\\PIL\\Image.py:3452: DecompressionBombWarning: Image size (98246463 pixels) exceeds limit of 89478485 pixels, could be decompression bomb DOS attack.\n",
      "  warnings.warn(\n",
      "c:\\Users\\it08d\\.conda\\envs\\scan\\Lib\\site-packages\\PIL\\Image.py:3452: DecompressionBombWarning: Image size (91101804 pixels) exceeds limit of 89478485 pixels, could be decompression bomb DOS attack.\n",
      "  warnings.warn(\n",
      "c:\\Users\\it08d\\.conda\\envs\\scan\\Lib\\site-packages\\PIL\\Image.py:3452: DecompressionBombWarning: Image size (91144911 pixels) exceeds limit of 89478485 pixels, could be decompression bomb DOS attack.\n",
      "  warnings.warn(\n",
      "c:\\Users\\it08d\\.conda\\envs\\scan\\Lib\\site-packages\\PIL\\Image.py:3452: DecompressionBombWarning: Image size (98031300 pixels) exceeds limit of 89478485 pixels, could be decompression bomb DOS attack.\n",
      "  warnings.warn(\n",
      "c:\\Users\\it08d\\.conda\\envs\\scan\\Lib\\site-packages\\PIL\\Image.py:3452: DecompressionBombWarning: Image size (94452610 pixels) exceeds limit of 89478485 pixels, could be decompression bomb DOS attack.\n",
      "  warnings.warn(\n",
      "c:\\Users\\it08d\\.conda\\envs\\scan\\Lib\\site-packages\\PIL\\Image.py:3452: DecompressionBombWarning: Image size (103093749 pixels) exceeds limit of 89478485 pixels, could be decompression bomb DOS attack.\n",
      "  warnings.warn(\n",
      "c:\\Users\\it08d\\.conda\\envs\\scan\\Lib\\site-packages\\PIL\\Image.py:3452: DecompressionBombWarning: Image size (102920976 pixels) exceeds limit of 89478485 pixels, could be decompression bomb DOS attack.\n",
      "  warnings.warn(\n",
      "c:\\Users\\it08d\\.conda\\envs\\scan\\Lib\\site-packages\\PIL\\Image.py:3452: DecompressionBombWarning: Image size (100812792 pixels) exceeds limit of 89478485 pixels, could be decompression bomb DOS attack.\n",
      "  warnings.warn(\n",
      "c:\\Users\\it08d\\.conda\\envs\\scan\\Lib\\site-packages\\PIL\\Image.py:3452: DecompressionBombWarning: Image size (94977368 pixels) exceeds limit of 89478485 pixels, could be decompression bomb DOS attack.\n",
      "  warnings.warn(\n",
      "Epoch 37/100: 100%|██████████| 1/1 [02:47<00:00, 167.40s/it]\n"
     ]
    },
    {
     "name": "stdout",
     "output_type": "stream",
     "text": [
      "Epoch [37/100] Loss: 499999904.0000\n"
     ]
    },
    {
     "name": "stderr",
     "output_type": "stream",
     "text": [
      "Epoch 38/100:   0%|          | 0/1 [00:00<?, ?it/s]c:\\Users\\it08d\\.conda\\envs\\scan\\Lib\\site-packages\\PIL\\Image.py:3452: DecompressionBombWarning: Image size (96828757 pixels) exceeds limit of 89478485 pixels, could be decompression bomb DOS attack.\n",
      "  warnings.warn(\n",
      "c:\\Users\\it08d\\.conda\\envs\\scan\\Lib\\site-packages\\PIL\\Image.py:3452: DecompressionBombWarning: Image size (103222476 pixels) exceeds limit of 89478485 pixels, could be decompression bomb DOS attack.\n",
      "  warnings.warn(\n",
      "c:\\Users\\it08d\\.conda\\envs\\scan\\Lib\\site-packages\\PIL\\Image.py:3452: DecompressionBombWarning: Image size (111036044 pixels) exceeds limit of 89478485 pixels, could be decompression bomb DOS attack.\n",
      "  warnings.warn(\n",
      "c:\\Users\\it08d\\.conda\\envs\\scan\\Lib\\site-packages\\PIL\\Image.py:3452: DecompressionBombWarning: Image size (95218548 pixels) exceeds limit of 89478485 pixels, could be decompression bomb DOS attack.\n",
      "  warnings.warn(\n",
      "c:\\Users\\it08d\\.conda\\envs\\scan\\Lib\\site-packages\\PIL\\Image.py:3452: DecompressionBombWarning: Image size (89821584 pixels) exceeds limit of 89478485 pixels, could be decompression bomb DOS attack.\n",
      "  warnings.warn(\n",
      "c:\\Users\\it08d\\.conda\\envs\\scan\\Lib\\site-packages\\PIL\\Image.py:3452: DecompressionBombWarning: Image size (97190145 pixels) exceeds limit of 89478485 pixels, could be decompression bomb DOS attack.\n",
      "  warnings.warn(\n",
      "c:\\Users\\it08d\\.conda\\envs\\scan\\Lib\\site-packages\\PIL\\Image.py:3452: DecompressionBombWarning: Image size (93237072 pixels) exceeds limit of 89478485 pixels, could be decompression bomb DOS attack.\n",
      "  warnings.warn(\n",
      "c:\\Users\\it08d\\.conda\\envs\\scan\\Lib\\site-packages\\PIL\\Image.py:3452: DecompressionBombWarning: Image size (98892536 pixels) exceeds limit of 89478485 pixels, could be decompression bomb DOS attack.\n",
      "  warnings.warn(\n",
      "c:\\Users\\it08d\\.conda\\envs\\scan\\Lib\\site-packages\\PIL\\Image.py:3452: DecompressionBombWarning: Image size (91337505 pixels) exceeds limit of 89478485 pixels, could be decompression bomb DOS attack.\n",
      "  warnings.warn(\n",
      "c:\\Users\\it08d\\.conda\\envs\\scan\\Lib\\site-packages\\PIL\\Image.py:3452: DecompressionBombWarning: Image size (105800740 pixels) exceeds limit of 89478485 pixels, could be decompression bomb DOS attack.\n",
      "  warnings.warn(\n",
      "c:\\Users\\it08d\\.conda\\envs\\scan\\Lib\\site-packages\\PIL\\Image.py:3452: DecompressionBombWarning: Image size (107020748 pixels) exceeds limit of 89478485 pixels, could be decompression bomb DOS attack.\n",
      "  warnings.warn(\n",
      "c:\\Users\\it08d\\.conda\\envs\\scan\\Lib\\site-packages\\PIL\\Image.py:3452: DecompressionBombWarning: Image size (96539338 pixels) exceeds limit of 89478485 pixels, could be decompression bomb DOS attack.\n",
      "  warnings.warn(\n",
      "c:\\Users\\it08d\\.conda\\envs\\scan\\Lib\\site-packages\\PIL\\Image.py:3452: DecompressionBombWarning: Image size (102337435 pixels) exceeds limit of 89478485 pixels, could be decompression bomb DOS attack.\n",
      "  warnings.warn(\n",
      "c:\\Users\\it08d\\.conda\\envs\\scan\\Lib\\site-packages\\PIL\\Image.py:3452: DecompressionBombWarning: Image size (100834415 pixels) exceeds limit of 89478485 pixels, could be decompression bomb DOS attack.\n",
      "  warnings.warn(\n",
      "c:\\Users\\it08d\\.conda\\envs\\scan\\Lib\\site-packages\\PIL\\Image.py:3452: DecompressionBombWarning: Image size (97254223 pixels) exceeds limit of 89478485 pixels, could be decompression bomb DOS attack.\n",
      "  warnings.warn(\n",
      "c:\\Users\\it08d\\.conda\\envs\\scan\\Lib\\site-packages\\PIL\\Image.py:3452: DecompressionBombWarning: Image size (93174744 pixels) exceeds limit of 89478485 pixels, could be decompression bomb DOS attack.\n",
      "  warnings.warn(\n",
      "c:\\Users\\it08d\\.conda\\envs\\scan\\Lib\\site-packages\\PIL\\Image.py:3452: DecompressionBombWarning: Image size (98983860 pixels) exceeds limit of 89478485 pixels, could be decompression bomb DOS attack.\n",
      "  warnings.warn(\n",
      "c:\\Users\\it08d\\.conda\\envs\\scan\\Lib\\site-packages\\PIL\\Image.py:3452: DecompressionBombWarning: Image size (100394710 pixels) exceeds limit of 89478485 pixels, could be decompression bomb DOS attack.\n",
      "  warnings.warn(\n",
      "c:\\Users\\it08d\\.conda\\envs\\scan\\Lib\\site-packages\\PIL\\Image.py:3452: DecompressionBombWarning: Image size (91278616 pixels) exceeds limit of 89478485 pixels, could be decompression bomb DOS attack.\n",
      "  warnings.warn(\n",
      "c:\\Users\\it08d\\.conda\\envs\\scan\\Lib\\site-packages\\PIL\\Image.py:3452: DecompressionBombWarning: Image size (110218502 pixels) exceeds limit of 89478485 pixels, could be decompression bomb DOS attack.\n",
      "  warnings.warn(\n",
      "c:\\Users\\it08d\\.conda\\envs\\scan\\Lib\\site-packages\\PIL\\Image.py:3452: DecompressionBombWarning: Image size (112397870 pixels) exceeds limit of 89478485 pixels, could be decompression bomb DOS attack.\n",
      "  warnings.warn(\n",
      "c:\\Users\\it08d\\.conda\\envs\\scan\\Lib\\site-packages\\PIL\\Image.py:3452: DecompressionBombWarning: Image size (93637672 pixels) exceeds limit of 89478485 pixels, could be decompression bomb DOS attack.\n",
      "  warnings.warn(\n",
      "c:\\Users\\it08d\\.conda\\envs\\scan\\Lib\\site-packages\\PIL\\Image.py:3452: DecompressionBombWarning: Image size (102177866 pixels) exceeds limit of 89478485 pixels, could be decompression bomb DOS attack.\n",
      "  warnings.warn(\n",
      "c:\\Users\\it08d\\.conda\\envs\\scan\\Lib\\site-packages\\PIL\\Image.py:3452: DecompressionBombWarning: Image size (94080406 pixels) exceeds limit of 89478485 pixels, could be decompression bomb DOS attack.\n",
      "  warnings.warn(\n",
      "c:\\Users\\it08d\\.conda\\envs\\scan\\Lib\\site-packages\\PIL\\Image.py:3452: DecompressionBombWarning: Image size (109698132 pixels) exceeds limit of 89478485 pixels, could be decompression bomb DOS attack.\n",
      "  warnings.warn(\n",
      "Epoch 38/100: 100%|██████████| 1/1 [03:20<00:00, 200.27s/it]\n"
     ]
    },
    {
     "name": "stdout",
     "output_type": "stream",
     "text": [
      "Epoch [38/100] Loss: 499999904.0000\n"
     ]
    },
    {
     "name": "stderr",
     "output_type": "stream",
     "text": [
      "Epoch 39/100:   0%|          | 0/1 [00:00<?, ?it/s]c:\\Users\\it08d\\.conda\\envs\\scan\\Lib\\site-packages\\PIL\\Image.py:3452: DecompressionBombWarning: Image size (115346375 pixels) exceeds limit of 89478485 pixels, could be decompression bomb DOS attack.\n",
      "  warnings.warn(\n",
      "c:\\Users\\it08d\\.conda\\envs\\scan\\Lib\\site-packages\\PIL\\Image.py:3452: DecompressionBombWarning: Image size (109461660 pixels) exceeds limit of 89478485 pixels, could be decompression bomb DOS attack.\n",
      "  warnings.warn(\n",
      "c:\\Users\\it08d\\.conda\\envs\\scan\\Lib\\site-packages\\PIL\\Image.py:3452: DecompressionBombWarning: Image size (102995190 pixels) exceeds limit of 89478485 pixels, could be decompression bomb DOS attack.\n",
      "  warnings.warn(\n",
      "c:\\Users\\it08d\\.conda\\envs\\scan\\Lib\\site-packages\\PIL\\Image.py:3452: DecompressionBombWarning: Image size (100889088 pixels) exceeds limit of 89478485 pixels, could be decompression bomb DOS attack.\n",
      "  warnings.warn(\n",
      "c:\\Users\\it08d\\.conda\\envs\\scan\\Lib\\site-packages\\PIL\\Image.py:3452: DecompressionBombWarning: Image size (106245839 pixels) exceeds limit of 89478485 pixels, could be decompression bomb DOS attack.\n",
      "  warnings.warn(\n",
      "c:\\Users\\it08d\\.conda\\envs\\scan\\Lib\\site-packages\\PIL\\Image.py:3452: DecompressionBombWarning: Image size (93352998 pixels) exceeds limit of 89478485 pixels, could be decompression bomb DOS attack.\n",
      "  warnings.warn(\n",
      "c:\\Users\\it08d\\.conda\\envs\\scan\\Lib\\site-packages\\PIL\\Image.py:3452: DecompressionBombWarning: Image size (98022232 pixels) exceeds limit of 89478485 pixels, could be decompression bomb DOS attack.\n",
      "  warnings.warn(\n",
      "c:\\Users\\it08d\\.conda\\envs\\scan\\Lib\\site-packages\\PIL\\Image.py:3452: DecompressionBombWarning: Image size (119705465 pixels) exceeds limit of 89478485 pixels, could be decompression bomb DOS attack.\n",
      "  warnings.warn(\n",
      "c:\\Users\\it08d\\.conda\\envs\\scan\\Lib\\site-packages\\PIL\\Image.py:3452: DecompressionBombWarning: Image size (106587400 pixels) exceeds limit of 89478485 pixels, could be decompression bomb DOS attack.\n",
      "  warnings.warn(\n",
      "c:\\Users\\it08d\\.conda\\envs\\scan\\Lib\\site-packages\\PIL\\Image.py:3452: DecompressionBombWarning: Image size (98058975 pixels) exceeds limit of 89478485 pixels, could be decompression bomb DOS attack.\n",
      "  warnings.warn(\n",
      "c:\\Users\\it08d\\.conda\\envs\\scan\\Lib\\site-packages\\PIL\\Image.py:3452: DecompressionBombWarning: Image size (120779979 pixels) exceeds limit of 89478485 pixels, could be decompression bomb DOS attack.\n",
      "  warnings.warn(\n",
      "c:\\Users\\it08d\\.conda\\envs\\scan\\Lib\\site-packages\\PIL\\Image.py:3452: DecompressionBombWarning: Image size (94902500 pixels) exceeds limit of 89478485 pixels, could be decompression bomb DOS attack.\n",
      "  warnings.warn(\n",
      "c:\\Users\\it08d\\.conda\\envs\\scan\\Lib\\site-packages\\PIL\\Image.py:3452: DecompressionBombWarning: Image size (90887984 pixels) exceeds limit of 89478485 pixels, could be decompression bomb DOS attack.\n",
      "  warnings.warn(\n",
      "c:\\Users\\it08d\\.conda\\envs\\scan\\Lib\\site-packages\\PIL\\Image.py:3452: DecompressionBombWarning: Image size (90543360 pixels) exceeds limit of 89478485 pixels, could be decompression bomb DOS attack.\n",
      "  warnings.warn(\n",
      "Epoch 39/100: 100%|██████████| 1/1 [02:56<00:00, 176.64s/it]\n"
     ]
    },
    {
     "name": "stdout",
     "output_type": "stream",
     "text": [
      "Epoch [39/100] Loss: 499999904.0000\n"
     ]
    },
    {
     "name": "stderr",
     "output_type": "stream",
     "text": [
      "Epoch 40/100:   0%|          | 0/1 [00:00<?, ?it/s]c:\\Users\\it08d\\.conda\\envs\\scan\\Lib\\site-packages\\PIL\\Image.py:3452: DecompressionBombWarning: Image size (100669296 pixels) exceeds limit of 89478485 pixels, could be decompression bomb DOS attack.\n",
      "  warnings.warn(\n",
      "c:\\Users\\it08d\\.conda\\envs\\scan\\Lib\\site-packages\\PIL\\Image.py:3452: DecompressionBombWarning: Image size (102590028 pixels) exceeds limit of 89478485 pixels, could be decompression bomb DOS attack.\n",
      "  warnings.warn(\n",
      "c:\\Users\\it08d\\.conda\\envs\\scan\\Lib\\site-packages\\PIL\\Image.py:3452: DecompressionBombWarning: Image size (93977910 pixels) exceeds limit of 89478485 pixels, could be decompression bomb DOS attack.\n",
      "  warnings.warn(\n",
      "c:\\Users\\it08d\\.conda\\envs\\scan\\Lib\\site-packages\\PIL\\Image.py:3452: DecompressionBombWarning: Image size (93675808 pixels) exceeds limit of 89478485 pixels, could be decompression bomb DOS attack.\n",
      "  warnings.warn(\n",
      "c:\\Users\\it08d\\.conda\\envs\\scan\\Lib\\site-packages\\PIL\\Image.py:3452: DecompressionBombWarning: Image size (112832253 pixels) exceeds limit of 89478485 pixels, could be decompression bomb DOS attack.\n",
      "  warnings.warn(\n",
      "c:\\Users\\it08d\\.conda\\envs\\scan\\Lib\\site-packages\\PIL\\Image.py:3452: DecompressionBombWarning: Image size (106975620 pixels) exceeds limit of 89478485 pixels, could be decompression bomb DOS attack.\n",
      "  warnings.warn(\n",
      "c:\\Users\\it08d\\.conda\\envs\\scan\\Lib\\site-packages\\PIL\\Image.py:3452: DecompressionBombWarning: Image size (94453218 pixels) exceeds limit of 89478485 pixels, could be decompression bomb DOS attack.\n",
      "  warnings.warn(\n",
      "c:\\Users\\it08d\\.conda\\envs\\scan\\Lib\\site-packages\\PIL\\Image.py:3452: DecompressionBombWarning: Image size (103132120 pixels) exceeds limit of 89478485 pixels, could be decompression bomb DOS attack.\n",
      "  warnings.warn(\n",
      "c:\\Users\\it08d\\.conda\\envs\\scan\\Lib\\site-packages\\PIL\\Image.py:3452: DecompressionBombWarning: Image size (101933208 pixels) exceeds limit of 89478485 pixels, could be decompression bomb DOS attack.\n",
      "  warnings.warn(\n",
      "c:\\Users\\it08d\\.conda\\envs\\scan\\Lib\\site-packages\\PIL\\Image.py:3452: DecompressionBombWarning: Image size (93344076 pixels) exceeds limit of 89478485 pixels, could be decompression bomb DOS attack.\n",
      "  warnings.warn(\n",
      "c:\\Users\\it08d\\.conda\\envs\\scan\\Lib\\site-packages\\PIL\\Image.py:3452: DecompressionBombWarning: Image size (106910033 pixels) exceeds limit of 89478485 pixels, could be decompression bomb DOS attack.\n",
      "  warnings.warn(\n",
      "c:\\Users\\it08d\\.conda\\envs\\scan\\Lib\\site-packages\\PIL\\Image.py:3452: DecompressionBombWarning: Image size (106068928 pixels) exceeds limit of 89478485 pixels, could be decompression bomb DOS attack.\n",
      "  warnings.warn(\n",
      "c:\\Users\\it08d\\.conda\\envs\\scan\\Lib\\site-packages\\PIL\\Image.py:3452: DecompressionBombWarning: Image size (97154334 pixels) exceeds limit of 89478485 pixels, could be decompression bomb DOS attack.\n",
      "  warnings.warn(\n",
      "c:\\Users\\it08d\\.conda\\envs\\scan\\Lib\\site-packages\\PIL\\Image.py:3452: DecompressionBombWarning: Image size (93191750 pixels) exceeds limit of 89478485 pixels, could be decompression bomb DOS attack.\n",
      "  warnings.warn(\n",
      "c:\\Users\\it08d\\.conda\\envs\\scan\\Lib\\site-packages\\PIL\\Image.py:3452: DecompressionBombWarning: Image size (117872937 pixels) exceeds limit of 89478485 pixels, could be decompression bomb DOS attack.\n",
      "  warnings.warn(\n",
      "c:\\Users\\it08d\\.conda\\envs\\scan\\Lib\\site-packages\\PIL\\Image.py:3452: DecompressionBombWarning: Image size (98855262 pixels) exceeds limit of 89478485 pixels, could be decompression bomb DOS attack.\n",
      "  warnings.warn(\n",
      "c:\\Users\\it08d\\.conda\\envs\\scan\\Lib\\site-packages\\PIL\\Image.py:3452: DecompressionBombWarning: Image size (98926212 pixels) exceeds limit of 89478485 pixels, could be decompression bomb DOS attack.\n",
      "  warnings.warn(\n",
      "c:\\Users\\it08d\\.conda\\envs\\scan\\Lib\\site-packages\\PIL\\Image.py:3452: DecompressionBombWarning: Image size (95142278 pixels) exceeds limit of 89478485 pixels, could be decompression bomb DOS attack.\n",
      "  warnings.warn(\n",
      "c:\\Users\\it08d\\.conda\\envs\\scan\\Lib\\site-packages\\PIL\\Image.py:3452: DecompressionBombWarning: Image size (102214300 pixels) exceeds limit of 89478485 pixels, could be decompression bomb DOS attack.\n",
      "  warnings.warn(\n",
      "c:\\Users\\it08d\\.conda\\envs\\scan\\Lib\\site-packages\\PIL\\Image.py:3452: DecompressionBombWarning: Image size (102399606 pixels) exceeds limit of 89478485 pixels, could be decompression bomb DOS attack.\n",
      "  warnings.warn(\n",
      "c:\\Users\\it08d\\.conda\\envs\\scan\\Lib\\site-packages\\PIL\\Image.py:3452: DecompressionBombWarning: Image size (99790854 pixels) exceeds limit of 89478485 pixels, could be decompression bomb DOS attack.\n",
      "  warnings.warn(\n",
      "c:\\Users\\it08d\\.conda\\envs\\scan\\Lib\\site-packages\\PIL\\Image.py:3452: DecompressionBombWarning: Image size (95037624 pixels) exceeds limit of 89478485 pixels, could be decompression bomb DOS attack.\n",
      "  warnings.warn(\n",
      "c:\\Users\\it08d\\.conda\\envs\\scan\\Lib\\site-packages\\PIL\\Image.py:3452: DecompressionBombWarning: Image size (92469312 pixels) exceeds limit of 89478485 pixels, could be decompression bomb DOS attack.\n",
      "  warnings.warn(\n",
      "c:\\Users\\it08d\\.conda\\envs\\scan\\Lib\\site-packages\\PIL\\Image.py:3452: DecompressionBombWarning: Image size (104558670 pixels) exceeds limit of 89478485 pixels, could be decompression bomb DOS attack.\n",
      "  warnings.warn(\n",
      "c:\\Users\\it08d\\.conda\\envs\\scan\\Lib\\site-packages\\PIL\\Image.py:3452: DecompressionBombWarning: Image size (96612075 pixels) exceeds limit of 89478485 pixels, could be decompression bomb DOS attack.\n",
      "  warnings.warn(\n",
      "c:\\Users\\it08d\\.conda\\envs\\scan\\Lib\\site-packages\\PIL\\Image.py:3452: DecompressionBombWarning: Image size (118501971 pixels) exceeds limit of 89478485 pixels, could be decompression bomb DOS attack.\n",
      "  warnings.warn(\n",
      "c:\\Users\\it08d\\.conda\\envs\\scan\\Lib\\site-packages\\PIL\\Image.py:3452: DecompressionBombWarning: Image size (95762869 pixels) exceeds limit of 89478485 pixels, could be decompression bomb DOS attack.\n",
      "  warnings.warn(\n",
      "c:\\Users\\it08d\\.conda\\envs\\scan\\Lib\\site-packages\\PIL\\Image.py:3452: DecompressionBombWarning: Image size (99195759 pixels) exceeds limit of 89478485 pixels, could be decompression bomb DOS attack.\n",
      "  warnings.warn(\n",
      "c:\\Users\\it08d\\.conda\\envs\\scan\\Lib\\site-packages\\PIL\\Image.py:3452: DecompressionBombWarning: Image size (111134016 pixels) exceeds limit of 89478485 pixels, could be decompression bomb DOS attack.\n",
      "  warnings.warn(\n",
      "c:\\Users\\it08d\\.conda\\envs\\scan\\Lib\\site-packages\\PIL\\Image.py:3452: DecompressionBombWarning: Image size (91595427 pixels) exceeds limit of 89478485 pixels, could be decompression bomb DOS attack.\n",
      "  warnings.warn(\n",
      "Epoch 40/100: 100%|██████████| 1/1 [03:05<00:00, 185.33s/it]\n"
     ]
    },
    {
     "name": "stdout",
     "output_type": "stream",
     "text": [
      "Epoch [40/100] Loss: 499999904.0000\n"
     ]
    },
    {
     "name": "stderr",
     "output_type": "stream",
     "text": [
      "Epoch 41/100:   0%|          | 0/1 [00:00<?, ?it/s]c:\\Users\\it08d\\.conda\\envs\\scan\\Lib\\site-packages\\PIL\\Image.py:3452: DecompressionBombWarning: Image size (111157167 pixels) exceeds limit of 89478485 pixels, could be decompression bomb DOS attack.\n",
      "  warnings.warn(\n",
      "c:\\Users\\it08d\\.conda\\envs\\scan\\Lib\\site-packages\\PIL\\Image.py:3452: DecompressionBombWarning: Image size (103022290 pixels) exceeds limit of 89478485 pixels, could be decompression bomb DOS attack.\n",
      "  warnings.warn(\n",
      "c:\\Users\\it08d\\.conda\\envs\\scan\\Lib\\site-packages\\PIL\\Image.py:3452: DecompressionBombWarning: Image size (89586256 pixels) exceeds limit of 89478485 pixels, could be decompression bomb DOS attack.\n",
      "  warnings.warn(\n",
      "c:\\Users\\it08d\\.conda\\envs\\scan\\Lib\\site-packages\\PIL\\Image.py:3452: DecompressionBombWarning: Image size (93678000 pixels) exceeds limit of 89478485 pixels, could be decompression bomb DOS attack.\n",
      "  warnings.warn(\n",
      "c:\\Users\\it08d\\.conda\\envs\\scan\\Lib\\site-packages\\PIL\\Image.py:3452: DecompressionBombWarning: Image size (114507558 pixels) exceeds limit of 89478485 pixels, could be decompression bomb DOS attack.\n",
      "  warnings.warn(\n",
      "c:\\Users\\it08d\\.conda\\envs\\scan\\Lib\\site-packages\\PIL\\Image.py:3452: DecompressionBombWarning: Image size (90342393 pixels) exceeds limit of 89478485 pixels, could be decompression bomb DOS attack.\n",
      "  warnings.warn(\n",
      "c:\\Users\\it08d\\.conda\\envs\\scan\\Lib\\site-packages\\PIL\\Image.py:3452: DecompressionBombWarning: Image size (89954334 pixels) exceeds limit of 89478485 pixels, could be decompression bomb DOS attack.\n",
      "  warnings.warn(\n",
      "c:\\Users\\it08d\\.conda\\envs\\scan\\Lib\\site-packages\\PIL\\Image.py:3452: DecompressionBombWarning: Image size (115010952 pixels) exceeds limit of 89478485 pixels, could be decompression bomb DOS attack.\n",
      "  warnings.warn(\n",
      "c:\\Users\\it08d\\.conda\\envs\\scan\\Lib\\site-packages\\PIL\\Image.py:3452: DecompressionBombWarning: Image size (97780946 pixels) exceeds limit of 89478485 pixels, could be decompression bomb DOS attack.\n",
      "  warnings.warn(\n",
      "c:\\Users\\it08d\\.conda\\envs\\scan\\Lib\\site-packages\\PIL\\Image.py:3452: DecompressionBombWarning: Image size (108686132 pixels) exceeds limit of 89478485 pixels, could be decompression bomb DOS attack.\n",
      "  warnings.warn(\n",
      "c:\\Users\\it08d\\.conda\\envs\\scan\\Lib\\site-packages\\PIL\\Image.py:3452: DecompressionBombWarning: Image size (92683108 pixels) exceeds limit of 89478485 pixels, could be decompression bomb DOS attack.\n",
      "  warnings.warn(\n",
      "c:\\Users\\it08d\\.conda\\envs\\scan\\Lib\\site-packages\\PIL\\Image.py:3452: DecompressionBombWarning: Image size (105451830 pixels) exceeds limit of 89478485 pixels, could be decompression bomb DOS attack.\n",
      "  warnings.warn(\n",
      "c:\\Users\\it08d\\.conda\\envs\\scan\\Lib\\site-packages\\PIL\\Image.py:3452: DecompressionBombWarning: Image size (105733605 pixels) exceeds limit of 89478485 pixels, could be decompression bomb DOS attack.\n",
      "  warnings.warn(\n",
      "c:\\Users\\it08d\\.conda\\envs\\scan\\Lib\\site-packages\\PIL\\Image.py:3452: DecompressionBombWarning: Image size (92165352 pixels) exceeds limit of 89478485 pixels, could be decompression bomb DOS attack.\n",
      "  warnings.warn(\n",
      "c:\\Users\\it08d\\.conda\\envs\\scan\\Lib\\site-packages\\PIL\\Image.py:3452: DecompressionBombWarning: Image size (101481796 pixels) exceeds limit of 89478485 pixels, could be decompression bomb DOS attack.\n",
      "  warnings.warn(\n",
      "c:\\Users\\it08d\\.conda\\envs\\scan\\Lib\\site-packages\\PIL\\Image.py:3452: DecompressionBombWarning: Image size (99128320 pixels) exceeds limit of 89478485 pixels, could be decompression bomb DOS attack.\n",
      "  warnings.warn(\n",
      "c:\\Users\\it08d\\.conda\\envs\\scan\\Lib\\site-packages\\PIL\\Image.py:3452: DecompressionBombWarning: Image size (105772212 pixels) exceeds limit of 89478485 pixels, could be decompression bomb DOS attack.\n",
      "  warnings.warn(\n",
      "c:\\Users\\it08d\\.conda\\envs\\scan\\Lib\\site-packages\\PIL\\Image.py:3452: DecompressionBombWarning: Image size (89504715 pixels) exceeds limit of 89478485 pixels, could be decompression bomb DOS attack.\n",
      "  warnings.warn(\n",
      "c:\\Users\\it08d\\.conda\\envs\\scan\\Lib\\site-packages\\PIL\\Image.py:3452: DecompressionBombWarning: Image size (101793126 pixels) exceeds limit of 89478485 pixels, could be decompression bomb DOS attack.\n",
      "  warnings.warn(\n",
      "c:\\Users\\it08d\\.conda\\envs\\scan\\Lib\\site-packages\\PIL\\Image.py:3452: DecompressionBombWarning: Image size (91077990 pixels) exceeds limit of 89478485 pixels, could be decompression bomb DOS attack.\n",
      "  warnings.warn(\n",
      "c:\\Users\\it08d\\.conda\\envs\\scan\\Lib\\site-packages\\PIL\\Image.py:3452: DecompressionBombWarning: Image size (94188484 pixels) exceeds limit of 89478485 pixels, could be decompression bomb DOS attack.\n",
      "  warnings.warn(\n",
      "c:\\Users\\it08d\\.conda\\envs\\scan\\Lib\\site-packages\\PIL\\Image.py:3452: DecompressionBombWarning: Image size (95536192 pixels) exceeds limit of 89478485 pixels, could be decompression bomb DOS attack.\n",
      "  warnings.warn(\n",
      "c:\\Users\\it08d\\.conda\\envs\\scan\\Lib\\site-packages\\PIL\\Image.py:3452: DecompressionBombWarning: Image size (103643280 pixels) exceeds limit of 89478485 pixels, could be decompression bomb DOS attack.\n",
      "  warnings.warn(\n",
      "Epoch 41/100: 100%|██████████| 1/1 [02:49<00:00, 169.11s/it]\n"
     ]
    },
    {
     "name": "stdout",
     "output_type": "stream",
     "text": [
      "Epoch [41/100] Loss: 499999904.0000\n"
     ]
    },
    {
     "name": "stderr",
     "output_type": "stream",
     "text": [
      "Epoch 42/100:   0%|          | 0/1 [00:00<?, ?it/s]c:\\Users\\it08d\\.conda\\envs\\scan\\Lib\\site-packages\\PIL\\Image.py:3452: DecompressionBombWarning: Image size (96038592 pixels) exceeds limit of 89478485 pixels, could be decompression bomb DOS attack.\n",
      "  warnings.warn(\n",
      "c:\\Users\\it08d\\.conda\\envs\\scan\\Lib\\site-packages\\PIL\\Image.py:3452: DecompressionBombWarning: Image size (103671288 pixels) exceeds limit of 89478485 pixels, could be decompression bomb DOS attack.\n",
      "  warnings.warn(\n",
      "c:\\Users\\it08d\\.conda\\envs\\scan\\Lib\\site-packages\\PIL\\Image.py:3452: DecompressionBombWarning: Image size (110020352 pixels) exceeds limit of 89478485 pixels, could be decompression bomb DOS attack.\n",
      "  warnings.warn(\n",
      "c:\\Users\\it08d\\.conda\\envs\\scan\\Lib\\site-packages\\PIL\\Image.py:3452: DecompressionBombWarning: Image size (101822006 pixels) exceeds limit of 89478485 pixels, could be decompression bomb DOS attack.\n",
      "  warnings.warn(\n",
      "c:\\Users\\it08d\\.conda\\envs\\scan\\Lib\\site-packages\\PIL\\Image.py:3452: DecompressionBombWarning: Image size (101058727 pixels) exceeds limit of 89478485 pixels, could be decompression bomb DOS attack.\n",
      "  warnings.warn(\n",
      "c:\\Users\\it08d\\.conda\\envs\\scan\\Lib\\site-packages\\PIL\\Image.py:3452: DecompressionBombWarning: Image size (112197115 pixels) exceeds limit of 89478485 pixels, could be decompression bomb DOS attack.\n",
      "  warnings.warn(\n",
      "c:\\Users\\it08d\\.conda\\envs\\scan\\Lib\\site-packages\\PIL\\Image.py:3452: DecompressionBombWarning: Image size (113264424 pixels) exceeds limit of 89478485 pixels, could be decompression bomb DOS attack.\n",
      "  warnings.warn(\n",
      "c:\\Users\\it08d\\.conda\\envs\\scan\\Lib\\site-packages\\PIL\\Image.py:3452: DecompressionBombWarning: Image size (96821990 pixels) exceeds limit of 89478485 pixels, could be decompression bomb DOS attack.\n",
      "  warnings.warn(\n",
      "c:\\Users\\it08d\\.conda\\envs\\scan\\Lib\\site-packages\\PIL\\Image.py:3452: DecompressionBombWarning: Image size (92255358 pixels) exceeds limit of 89478485 pixels, could be decompression bomb DOS attack.\n",
      "  warnings.warn(\n",
      "c:\\Users\\it08d\\.conda\\envs\\scan\\Lib\\site-packages\\PIL\\Image.py:3452: DecompressionBombWarning: Image size (91130814 pixels) exceeds limit of 89478485 pixels, could be decompression bomb DOS attack.\n",
      "  warnings.warn(\n",
      "c:\\Users\\it08d\\.conda\\envs\\scan\\Lib\\site-packages\\PIL\\Image.py:3452: DecompressionBombWarning: Image size (115675560 pixels) exceeds limit of 89478485 pixels, could be decompression bomb DOS attack.\n",
      "  warnings.warn(\n",
      "c:\\Users\\it08d\\.conda\\envs\\scan\\Lib\\site-packages\\PIL\\Image.py:3452: DecompressionBombWarning: Image size (99809792 pixels) exceeds limit of 89478485 pixels, could be decompression bomb DOS attack.\n",
      "  warnings.warn(\n",
      "c:\\Users\\it08d\\.conda\\envs\\scan\\Lib\\site-packages\\PIL\\Image.py:3452: DecompressionBombWarning: Image size (90162270 pixels) exceeds limit of 89478485 pixels, could be decompression bomb DOS attack.\n",
      "  warnings.warn(\n",
      "c:\\Users\\it08d\\.conda\\envs\\scan\\Lib\\site-packages\\PIL\\Image.py:3452: DecompressionBombWarning: Image size (91996590 pixels) exceeds limit of 89478485 pixels, could be decompression bomb DOS attack.\n",
      "  warnings.warn(\n",
      "c:\\Users\\it08d\\.conda\\envs\\scan\\Lib\\site-packages\\PIL\\Image.py:3452: DecompressionBombWarning: Image size (111865200 pixels) exceeds limit of 89478485 pixels, could be decompression bomb DOS attack.\n",
      "  warnings.warn(\n",
      "c:\\Users\\it08d\\.conda\\envs\\scan\\Lib\\site-packages\\PIL\\Image.py:3452: DecompressionBombWarning: Image size (97441246 pixels) exceeds limit of 89478485 pixels, could be decompression bomb DOS attack.\n",
      "  warnings.warn(\n",
      "c:\\Users\\it08d\\.conda\\envs\\scan\\Lib\\site-packages\\PIL\\Image.py:3452: DecompressionBombWarning: Image size (105824958 pixels) exceeds limit of 89478485 pixels, could be decompression bomb DOS attack.\n",
      "  warnings.warn(\n",
      "c:\\Users\\it08d\\.conda\\envs\\scan\\Lib\\site-packages\\PIL\\Image.py:3452: DecompressionBombWarning: Image size (99560802 pixels) exceeds limit of 89478485 pixels, could be decompression bomb DOS attack.\n",
      "  warnings.warn(\n",
      "Epoch 42/100: 100%|██████████| 1/1 [02:55<00:00, 175.79s/it]\n"
     ]
    },
    {
     "name": "stdout",
     "output_type": "stream",
     "text": [
      "Epoch [42/100] Loss: 499999904.0000\n"
     ]
    },
    {
     "name": "stderr",
     "output_type": "stream",
     "text": [
      "Epoch 43/100:   0%|          | 0/1 [00:00<?, ?it/s]c:\\Users\\it08d\\.conda\\envs\\scan\\Lib\\site-packages\\PIL\\Image.py:3452: DecompressionBombWarning: Image size (113616520 pixels) exceeds limit of 89478485 pixels, could be decompression bomb DOS attack.\n",
      "  warnings.warn(\n",
      "c:\\Users\\it08d\\.conda\\envs\\scan\\Lib\\site-packages\\PIL\\Image.py:3452: DecompressionBombWarning: Image size (108295297 pixels) exceeds limit of 89478485 pixels, could be decompression bomb DOS attack.\n",
      "  warnings.warn(\n",
      "c:\\Users\\it08d\\.conda\\envs\\scan\\Lib\\site-packages\\PIL\\Image.py:3452: DecompressionBombWarning: Image size (104570032 pixels) exceeds limit of 89478485 pixels, could be decompression bomb DOS attack.\n",
      "  warnings.warn(\n",
      "c:\\Users\\it08d\\.conda\\envs\\scan\\Lib\\site-packages\\PIL\\Image.py:3452: DecompressionBombWarning: Image size (92904636 pixels) exceeds limit of 89478485 pixels, could be decompression bomb DOS attack.\n",
      "  warnings.warn(\n",
      "c:\\Users\\it08d\\.conda\\envs\\scan\\Lib\\site-packages\\PIL\\Image.py:3452: DecompressionBombWarning: Image size (113265705 pixels) exceeds limit of 89478485 pixels, could be decompression bomb DOS attack.\n",
      "  warnings.warn(\n",
      "c:\\Users\\it08d\\.conda\\envs\\scan\\Lib\\site-packages\\PIL\\Image.py:3452: DecompressionBombWarning: Image size (98216370 pixels) exceeds limit of 89478485 pixels, could be decompression bomb DOS attack.\n",
      "  warnings.warn(\n",
      "c:\\Users\\it08d\\.conda\\envs\\scan\\Lib\\site-packages\\PIL\\Image.py:3452: DecompressionBombWarning: Image size (91855296 pixels) exceeds limit of 89478485 pixels, could be decompression bomb DOS attack.\n",
      "  warnings.warn(\n",
      "c:\\Users\\it08d\\.conda\\envs\\scan\\Lib\\site-packages\\PIL\\Image.py:3452: DecompressionBombWarning: Image size (98652258 pixels) exceeds limit of 89478485 pixels, could be decompression bomb DOS attack.\n",
      "  warnings.warn(\n",
      "c:\\Users\\it08d\\.conda\\envs\\scan\\Lib\\site-packages\\PIL\\Image.py:3452: DecompressionBombWarning: Image size (90520454 pixels) exceeds limit of 89478485 pixels, could be decompression bomb DOS attack.\n",
      "  warnings.warn(\n",
      "c:\\Users\\it08d\\.conda\\envs\\scan\\Lib\\site-packages\\PIL\\Image.py:3452: DecompressionBombWarning: Image size (116536356 pixels) exceeds limit of 89478485 pixels, could be decompression bomb DOS attack.\n",
      "  warnings.warn(\n",
      "c:\\Users\\it08d\\.conda\\envs\\scan\\Lib\\site-packages\\PIL\\Image.py:3452: DecompressionBombWarning: Image size (93840608 pixels) exceeds limit of 89478485 pixels, could be decompression bomb DOS attack.\n",
      "  warnings.warn(\n",
      "c:\\Users\\it08d\\.conda\\envs\\scan\\Lib\\site-packages\\PIL\\Image.py:3452: DecompressionBombWarning: Image size (98175238 pixels) exceeds limit of 89478485 pixels, could be decompression bomb DOS attack.\n",
      "  warnings.warn(\n",
      "c:\\Users\\it08d\\.conda\\envs\\scan\\Lib\\site-packages\\PIL\\Image.py:3452: DecompressionBombWarning: Image size (114321186 pixels) exceeds limit of 89478485 pixels, could be decompression bomb DOS attack.\n",
      "  warnings.warn(\n",
      "c:\\Users\\it08d\\.conda\\envs\\scan\\Lib\\site-packages\\PIL\\Image.py:3452: DecompressionBombWarning: Image size (93792371 pixels) exceeds limit of 89478485 pixels, could be decompression bomb DOS attack.\n",
      "  warnings.warn(\n",
      "c:\\Users\\it08d\\.conda\\envs\\scan\\Lib\\site-packages\\PIL\\Image.py:3452: DecompressionBombWarning: Image size (96801696 pixels) exceeds limit of 89478485 pixels, could be decompression bomb DOS attack.\n",
      "  warnings.warn(\n",
      "c:\\Users\\it08d\\.conda\\envs\\scan\\Lib\\site-packages\\PIL\\Image.py:3452: DecompressionBombWarning: Image size (90197832 pixels) exceeds limit of 89478485 pixels, could be decompression bomb DOS attack.\n",
      "  warnings.warn(\n",
      "c:\\Users\\it08d\\.conda\\envs\\scan\\Lib\\site-packages\\PIL\\Image.py:3452: DecompressionBombWarning: Image size (90786983 pixels) exceeds limit of 89478485 pixels, could be decompression bomb DOS attack.\n",
      "  warnings.warn(\n",
      "c:\\Users\\it08d\\.conda\\envs\\scan\\Lib\\site-packages\\PIL\\Image.py:3452: DecompressionBombWarning: Image size (101455920 pixels) exceeds limit of 89478485 pixels, could be decompression bomb DOS attack.\n",
      "  warnings.warn(\n",
      "c:\\Users\\it08d\\.conda\\envs\\scan\\Lib\\site-packages\\PIL\\Image.py:3452: DecompressionBombWarning: Image size (92160180 pixels) exceeds limit of 89478485 pixels, could be decompression bomb DOS attack.\n",
      "  warnings.warn(\n",
      "c:\\Users\\it08d\\.conda\\envs\\scan\\Lib\\site-packages\\PIL\\Image.py:3452: DecompressionBombWarning: Image size (90282348 pixels) exceeds limit of 89478485 pixels, could be decompression bomb DOS attack.\n",
      "  warnings.warn(\n",
      "c:\\Users\\it08d\\.conda\\envs\\scan\\Lib\\site-packages\\PIL\\Image.py:3452: DecompressionBombWarning: Image size (103201271 pixels) exceeds limit of 89478485 pixels, could be decompression bomb DOS attack.\n",
      "  warnings.warn(\n",
      "c:\\Users\\it08d\\.conda\\envs\\scan\\Lib\\site-packages\\PIL\\Image.py:3452: DecompressionBombWarning: Image size (114648237 pixels) exceeds limit of 89478485 pixels, could be decompression bomb DOS attack.\n",
      "  warnings.warn(\n",
      "c:\\Users\\it08d\\.conda\\envs\\scan\\Lib\\site-packages\\PIL\\Image.py:3452: DecompressionBombWarning: Image size (93644915 pixels) exceeds limit of 89478485 pixels, could be decompression bomb DOS attack.\n",
      "  warnings.warn(\n",
      "Epoch 43/100: 100%|██████████| 1/1 [02:39<00:00, 159.62s/it]\n"
     ]
    },
    {
     "name": "stdout",
     "output_type": "stream",
     "text": [
      "Epoch [43/100] Loss: 499999904.0000\n"
     ]
    },
    {
     "name": "stderr",
     "output_type": "stream",
     "text": [
      "Epoch 44/100:   0%|          | 0/1 [00:00<?, ?it/s]c:\\Users\\it08d\\.conda\\envs\\scan\\Lib\\site-packages\\PIL\\Image.py:3452: DecompressionBombWarning: Image size (115869735 pixels) exceeds limit of 89478485 pixels, could be decompression bomb DOS attack.\n",
      "  warnings.warn(\n",
      "c:\\Users\\it08d\\.conda\\envs\\scan\\Lib\\site-packages\\PIL\\Image.py:3452: DecompressionBombWarning: Image size (92546424 pixels) exceeds limit of 89478485 pixels, could be decompression bomb DOS attack.\n",
      "  warnings.warn(\n",
      "c:\\Users\\it08d\\.conda\\envs\\scan\\Lib\\site-packages\\PIL\\Image.py:3452: DecompressionBombWarning: Image size (95062275 pixels) exceeds limit of 89478485 pixels, could be decompression bomb DOS attack.\n",
      "  warnings.warn(\n",
      "c:\\Users\\it08d\\.conda\\envs\\scan\\Lib\\site-packages\\PIL\\Image.py:3452: DecompressionBombWarning: Image size (93693537 pixels) exceeds limit of 89478485 pixels, could be decompression bomb DOS attack.\n",
      "  warnings.warn(\n",
      "c:\\Users\\it08d\\.conda\\envs\\scan\\Lib\\site-packages\\PIL\\Image.py:3452: DecompressionBombWarning: Image size (104814479 pixels) exceeds limit of 89478485 pixels, could be decompression bomb DOS attack.\n",
      "  warnings.warn(\n",
      "c:\\Users\\it08d\\.conda\\envs\\scan\\Lib\\site-packages\\PIL\\Image.py:3452: DecompressionBombWarning: Image size (112226436 pixels) exceeds limit of 89478485 pixels, could be decompression bomb DOS attack.\n",
      "  warnings.warn(\n",
      "c:\\Users\\it08d\\.conda\\envs\\scan\\Lib\\site-packages\\PIL\\Image.py:3452: DecompressionBombWarning: Image size (96316543 pixels) exceeds limit of 89478485 pixels, could be decompression bomb DOS attack.\n",
      "  warnings.warn(\n",
      "c:\\Users\\it08d\\.conda\\envs\\scan\\Lib\\site-packages\\PIL\\Image.py:3452: DecompressionBombWarning: Image size (96043607 pixels) exceeds limit of 89478485 pixels, could be decompression bomb DOS attack.\n",
      "  warnings.warn(\n",
      "c:\\Users\\it08d\\.conda\\envs\\scan\\Lib\\site-packages\\PIL\\Image.py:3452: DecompressionBombWarning: Image size (96335736 pixels) exceeds limit of 89478485 pixels, could be decompression bomb DOS attack.\n",
      "  warnings.warn(\n",
      "c:\\Users\\it08d\\.conda\\envs\\scan\\Lib\\site-packages\\PIL\\Image.py:3452: DecompressionBombWarning: Image size (115936120 pixels) exceeds limit of 89478485 pixels, could be decompression bomb DOS attack.\n",
      "  warnings.warn(\n",
      "c:\\Users\\it08d\\.conda\\envs\\scan\\Lib\\site-packages\\PIL\\Image.py:3452: DecompressionBombWarning: Image size (91589580 pixels) exceeds limit of 89478485 pixels, could be decompression bomb DOS attack.\n",
      "  warnings.warn(\n",
      "c:\\Users\\it08d\\.conda\\envs\\scan\\Lib\\site-packages\\PIL\\Image.py:3452: DecompressionBombWarning: Image size (90634860 pixels) exceeds limit of 89478485 pixels, could be decompression bomb DOS attack.\n",
      "  warnings.warn(\n",
      "c:\\Users\\it08d\\.conda\\envs\\scan\\Lib\\site-packages\\PIL\\Image.py:3452: DecompressionBombWarning: Image size (104113153 pixels) exceeds limit of 89478485 pixels, could be decompression bomb DOS attack.\n",
      "  warnings.warn(\n",
      "c:\\Users\\it08d\\.conda\\envs\\scan\\Lib\\site-packages\\PIL\\Image.py:3452: DecompressionBombWarning: Image size (98730120 pixels) exceeds limit of 89478485 pixels, could be decompression bomb DOS attack.\n",
      "  warnings.warn(\n",
      "c:\\Users\\it08d\\.conda\\envs\\scan\\Lib\\site-packages\\PIL\\Image.py:3452: DecompressionBombWarning: Image size (99600442 pixels) exceeds limit of 89478485 pixels, could be decompression bomb DOS attack.\n",
      "  warnings.warn(\n",
      "c:\\Users\\it08d\\.conda\\envs\\scan\\Lib\\site-packages\\PIL\\Image.py:3452: DecompressionBombWarning: Image size (99620944 pixels) exceeds limit of 89478485 pixels, could be decompression bomb DOS attack.\n",
      "  warnings.warn(\n",
      "c:\\Users\\it08d\\.conda\\envs\\scan\\Lib\\site-packages\\PIL\\Image.py:3452: DecompressionBombWarning: Image size (90162822 pixels) exceeds limit of 89478485 pixels, could be decompression bomb DOS attack.\n",
      "  warnings.warn(\n",
      "c:\\Users\\it08d\\.conda\\envs\\scan\\Lib\\site-packages\\PIL\\Image.py:3452: DecompressionBombWarning: Image size (100438920 pixels) exceeds limit of 89478485 pixels, could be decompression bomb DOS attack.\n",
      "  warnings.warn(\n",
      "c:\\Users\\it08d\\.conda\\envs\\scan\\Lib\\site-packages\\PIL\\Image.py:3452: DecompressionBombWarning: Image size (91625781 pixels) exceeds limit of 89478485 pixels, could be decompression bomb DOS attack.\n",
      "  warnings.warn(\n",
      "c:\\Users\\it08d\\.conda\\envs\\scan\\Lib\\site-packages\\PIL\\Image.py:3452: DecompressionBombWarning: Image size (99623832 pixels) exceeds limit of 89478485 pixels, could be decompression bomb DOS attack.\n",
      "  warnings.warn(\n",
      "c:\\Users\\it08d\\.conda\\envs\\scan\\Lib\\site-packages\\PIL\\Image.py:3452: DecompressionBombWarning: Image size (113195863 pixels) exceeds limit of 89478485 pixels, could be decompression bomb DOS attack.\n",
      "  warnings.warn(\n",
      "c:\\Users\\it08d\\.conda\\envs\\scan\\Lib\\site-packages\\PIL\\Image.py:3452: DecompressionBombWarning: Image size (92296995 pixels) exceeds limit of 89478485 pixels, could be decompression bomb DOS attack.\n",
      "  warnings.warn(\n",
      "c:\\Users\\it08d\\.conda\\envs\\scan\\Lib\\site-packages\\PIL\\Image.py:3452: DecompressionBombWarning: Image size (95916136 pixels) exceeds limit of 89478485 pixels, could be decompression bomb DOS attack.\n",
      "  warnings.warn(\n",
      "c:\\Users\\it08d\\.conda\\envs\\scan\\Lib\\site-packages\\PIL\\Image.py:3452: DecompressionBombWarning: Image size (104535636 pixels) exceeds limit of 89478485 pixels, could be decompression bomb DOS attack.\n",
      "  warnings.warn(\n",
      "c:\\Users\\it08d\\.conda\\envs\\scan\\Lib\\site-packages\\PIL\\Image.py:3452: DecompressionBombWarning: Image size (93525963 pixels) exceeds limit of 89478485 pixels, could be decompression bomb DOS attack.\n",
      "  warnings.warn(\n",
      "c:\\Users\\it08d\\.conda\\envs\\scan\\Lib\\site-packages\\PIL\\Image.py:3452: DecompressionBombWarning: Image size (109288088 pixels) exceeds limit of 89478485 pixels, could be decompression bomb DOS attack.\n",
      "  warnings.warn(\n",
      "c:\\Users\\it08d\\.conda\\envs\\scan\\Lib\\site-packages\\PIL\\Image.py:3452: DecompressionBombWarning: Image size (114111354 pixels) exceeds limit of 89478485 pixels, could be decompression bomb DOS attack.\n",
      "  warnings.warn(\n",
      "c:\\Users\\it08d\\.conda\\envs\\scan\\Lib\\site-packages\\PIL\\Image.py:3452: DecompressionBombWarning: Image size (89819807 pixels) exceeds limit of 89478485 pixels, could be decompression bomb DOS attack.\n",
      "  warnings.warn(\n",
      "Epoch 44/100: 100%|██████████| 1/1 [02:46<00:00, 166.66s/it]\n"
     ]
    },
    {
     "name": "stdout",
     "output_type": "stream",
     "text": [
      "Epoch [44/100] Loss: 499999904.0000\n"
     ]
    },
    {
     "name": "stderr",
     "output_type": "stream",
     "text": [
      "Epoch 45/100:   0%|          | 0/1 [00:00<?, ?it/s]c:\\Users\\it08d\\.conda\\envs\\scan\\Lib\\site-packages\\PIL\\Image.py:3452: DecompressionBombWarning: Image size (111169856 pixels) exceeds limit of 89478485 pixels, could be decompression bomb DOS attack.\n",
      "  warnings.warn(\n",
      "c:\\Users\\it08d\\.conda\\envs\\scan\\Lib\\site-packages\\PIL\\Image.py:3452: DecompressionBombWarning: Image size (114616710 pixels) exceeds limit of 89478485 pixels, could be decompression bomb DOS attack.\n",
      "  warnings.warn(\n",
      "c:\\Users\\it08d\\.conda\\envs\\scan\\Lib\\site-packages\\PIL\\Image.py:3452: DecompressionBombWarning: Image size (103953720 pixels) exceeds limit of 89478485 pixels, could be decompression bomb DOS attack.\n",
      "  warnings.warn(\n",
      "c:\\Users\\it08d\\.conda\\envs\\scan\\Lib\\site-packages\\PIL\\Image.py:3452: DecompressionBombWarning: Image size (102384528 pixels) exceeds limit of 89478485 pixels, could be decompression bomb DOS attack.\n",
      "  warnings.warn(\n",
      "c:\\Users\\it08d\\.conda\\envs\\scan\\Lib\\site-packages\\PIL\\Image.py:3452: DecompressionBombWarning: Image size (110308590 pixels) exceeds limit of 89478485 pixels, could be decompression bomb DOS attack.\n",
      "  warnings.warn(\n",
      "c:\\Users\\it08d\\.conda\\envs\\scan\\Lib\\site-packages\\PIL\\Image.py:3452: DecompressionBombWarning: Image size (91555944 pixels) exceeds limit of 89478485 pixels, could be decompression bomb DOS attack.\n",
      "  warnings.warn(\n",
      "c:\\Users\\it08d\\.conda\\envs\\scan\\Lib\\site-packages\\PIL\\Image.py:3452: DecompressionBombWarning: Image size (114427088 pixels) exceeds limit of 89478485 pixels, could be decompression bomb DOS attack.\n",
      "  warnings.warn(\n",
      "c:\\Users\\it08d\\.conda\\envs\\scan\\Lib\\site-packages\\PIL\\Image.py:3452: DecompressionBombWarning: Image size (100799856 pixels) exceeds limit of 89478485 pixels, could be decompression bomb DOS attack.\n",
      "  warnings.warn(\n",
      "c:\\Users\\it08d\\.conda\\envs\\scan\\Lib\\site-packages\\PIL\\Image.py:3452: DecompressionBombWarning: Image size (90403782 pixels) exceeds limit of 89478485 pixels, could be decompression bomb DOS attack.\n",
      "  warnings.warn(\n",
      "c:\\Users\\it08d\\.conda\\envs\\scan\\Lib\\site-packages\\PIL\\Image.py:3452: DecompressionBombWarning: Image size (97675200 pixels) exceeds limit of 89478485 pixels, could be decompression bomb DOS attack.\n",
      "  warnings.warn(\n",
      "c:\\Users\\it08d\\.conda\\envs\\scan\\Lib\\site-packages\\PIL\\Image.py:3452: DecompressionBombWarning: Image size (111553344 pixels) exceeds limit of 89478485 pixels, could be decompression bomb DOS attack.\n",
      "  warnings.warn(\n",
      "c:\\Users\\it08d\\.conda\\envs\\scan\\Lib\\site-packages\\PIL\\Image.py:3452: DecompressionBombWarning: Image size (112287150 pixels) exceeds limit of 89478485 pixels, could be decompression bomb DOS attack.\n",
      "  warnings.warn(\n",
      "c:\\Users\\it08d\\.conda\\envs\\scan\\Lib\\site-packages\\PIL\\Image.py:3452: DecompressionBombWarning: Image size (100712352 pixels) exceeds limit of 89478485 pixels, could be decompression bomb DOS attack.\n",
      "  warnings.warn(\n",
      "c:\\Users\\it08d\\.conda\\envs\\scan\\Lib\\site-packages\\PIL\\Image.py:3452: DecompressionBombWarning: Image size (92224958 pixels) exceeds limit of 89478485 pixels, could be decompression bomb DOS attack.\n",
      "  warnings.warn(\n",
      "c:\\Users\\it08d\\.conda\\envs\\scan\\Lib\\site-packages\\PIL\\Image.py:3452: DecompressionBombWarning: Image size (119097172 pixels) exceeds limit of 89478485 pixels, could be decompression bomb DOS attack.\n",
      "  warnings.warn(\n",
      "c:\\Users\\it08d\\.conda\\envs\\scan\\Lib\\site-packages\\PIL\\Image.py:3452: DecompressionBombWarning: Image size (90772407 pixels) exceeds limit of 89478485 pixels, could be decompression bomb DOS attack.\n",
      "  warnings.warn(\n",
      "Epoch 45/100: 100%|██████████| 1/1 [03:28<00:00, 208.21s/it]\n"
     ]
    },
    {
     "name": "stdout",
     "output_type": "stream",
     "text": [
      "Epoch [45/100] Loss: 499999904.0000\n"
     ]
    },
    {
     "name": "stderr",
     "output_type": "stream",
     "text": [
      "Epoch 46/100:   0%|          | 0/1 [00:00<?, ?it/s]c:\\Users\\it08d\\.conda\\envs\\scan\\Lib\\site-packages\\PIL\\Image.py:3452: DecompressionBombWarning: Image size (98236812 pixels) exceeds limit of 89478485 pixels, could be decompression bomb DOS attack.\n",
      "  warnings.warn(\n",
      "c:\\Users\\it08d\\.conda\\envs\\scan\\Lib\\site-packages\\PIL\\Image.py:3452: DecompressionBombWarning: Image size (100153557 pixels) exceeds limit of 89478485 pixels, could be decompression bomb DOS attack.\n",
      "  warnings.warn(\n",
      "c:\\Users\\it08d\\.conda\\envs\\scan\\Lib\\site-packages\\PIL\\Image.py:3452: DecompressionBombWarning: Image size (109070001 pixels) exceeds limit of 89478485 pixels, could be decompression bomb DOS attack.\n",
      "  warnings.warn(\n",
      "c:\\Users\\it08d\\.conda\\envs\\scan\\Lib\\site-packages\\PIL\\Image.py:3452: DecompressionBombWarning: Image size (91956950 pixels) exceeds limit of 89478485 pixels, could be decompression bomb DOS attack.\n",
      "  warnings.warn(\n",
      "c:\\Users\\it08d\\.conda\\envs\\scan\\Lib\\site-packages\\PIL\\Image.py:3452: DecompressionBombWarning: Image size (110522587 pixels) exceeds limit of 89478485 pixels, could be decompression bomb DOS attack.\n",
      "  warnings.warn(\n",
      "c:\\Users\\it08d\\.conda\\envs\\scan\\Lib\\site-packages\\PIL\\Image.py:3452: DecompressionBombWarning: Image size (96429825 pixels) exceeds limit of 89478485 pixels, could be decompression bomb DOS attack.\n",
      "  warnings.warn(\n",
      "c:\\Users\\it08d\\.conda\\envs\\scan\\Lib\\site-packages\\PIL\\Image.py:3452: DecompressionBombWarning: Image size (114060198 pixels) exceeds limit of 89478485 pixels, could be decompression bomb DOS attack.\n",
      "  warnings.warn(\n",
      "c:\\Users\\it08d\\.conda\\envs\\scan\\Lib\\site-packages\\PIL\\Image.py:3452: DecompressionBombWarning: Image size (110445000 pixels) exceeds limit of 89478485 pixels, could be decompression bomb DOS attack.\n",
      "  warnings.warn(\n",
      "c:\\Users\\it08d\\.conda\\envs\\scan\\Lib\\site-packages\\PIL\\Image.py:3452: DecompressionBombWarning: Image size (104775254 pixels) exceeds limit of 89478485 pixels, could be decompression bomb DOS attack.\n",
      "  warnings.warn(\n",
      "c:\\Users\\it08d\\.conda\\envs\\scan\\Lib\\site-packages\\PIL\\Image.py:3452: DecompressionBombWarning: Image size (101162852 pixels) exceeds limit of 89478485 pixels, could be decompression bomb DOS attack.\n",
      "  warnings.warn(\n",
      "c:\\Users\\it08d\\.conda\\envs\\scan\\Lib\\site-packages\\PIL\\Image.py:3452: DecompressionBombWarning: Image size (92124154 pixels) exceeds limit of 89478485 pixels, could be decompression bomb DOS attack.\n",
      "  warnings.warn(\n",
      "c:\\Users\\it08d\\.conda\\envs\\scan\\Lib\\site-packages\\PIL\\Image.py:3452: DecompressionBombWarning: Image size (118600280 pixels) exceeds limit of 89478485 pixels, could be decompression bomb DOS attack.\n",
      "  warnings.warn(\n",
      "c:\\Users\\it08d\\.conda\\envs\\scan\\Lib\\site-packages\\PIL\\Image.py:3452: DecompressionBombWarning: Image size (92212362 pixels) exceeds limit of 89478485 pixels, could be decompression bomb DOS attack.\n",
      "  warnings.warn(\n",
      "c:\\Users\\it08d\\.conda\\envs\\scan\\Lib\\site-packages\\PIL\\Image.py:3452: DecompressionBombWarning: Image size (102254320 pixels) exceeds limit of 89478485 pixels, could be decompression bomb DOS attack.\n",
      "  warnings.warn(\n",
      "Epoch 46/100: 100%|██████████| 1/1 [02:53<00:00, 173.66s/it]\n"
     ]
    },
    {
     "name": "stdout",
     "output_type": "stream",
     "text": [
      "Epoch [46/100] Loss: 499999904.0000\n"
     ]
    },
    {
     "name": "stderr",
     "output_type": "stream",
     "text": [
      "Epoch 47/100:   0%|          | 0/1 [00:00<?, ?it/s]c:\\Users\\it08d\\.conda\\envs\\scan\\Lib\\site-packages\\PIL\\Image.py:3452: DecompressionBombWarning: Image size (97004250 pixels) exceeds limit of 89478485 pixels, could be decompression bomb DOS attack.\n",
      "  warnings.warn(\n",
      "c:\\Users\\it08d\\.conda\\envs\\scan\\Lib\\site-packages\\PIL\\Image.py:3452: DecompressionBombWarning: Image size (111323679 pixels) exceeds limit of 89478485 pixels, could be decompression bomb DOS attack.\n",
      "  warnings.warn(\n",
      "c:\\Users\\it08d\\.conda\\envs\\scan\\Lib\\site-packages\\PIL\\Image.py:3452: DecompressionBombWarning: Image size (114095214 pixels) exceeds limit of 89478485 pixels, could be decompression bomb DOS attack.\n",
      "  warnings.warn(\n",
      "c:\\Users\\it08d\\.conda\\envs\\scan\\Lib\\site-packages\\PIL\\Image.py:3452: DecompressionBombWarning: Image size (99051342 pixels) exceeds limit of 89478485 pixels, could be decompression bomb DOS attack.\n",
      "  warnings.warn(\n",
      "c:\\Users\\it08d\\.conda\\envs\\scan\\Lib\\site-packages\\PIL\\Image.py:3452: DecompressionBombWarning: Image size (114311610 pixels) exceeds limit of 89478485 pixels, could be decompression bomb DOS attack.\n",
      "  warnings.warn(\n",
      "c:\\Users\\it08d\\.conda\\envs\\scan\\Lib\\site-packages\\PIL\\Image.py:3452: DecompressionBombWarning: Image size (105274438 pixels) exceeds limit of 89478485 pixels, could be decompression bomb DOS attack.\n",
      "  warnings.warn(\n",
      "c:\\Users\\it08d\\.conda\\envs\\scan\\Lib\\site-packages\\PIL\\Image.py:3452: DecompressionBombWarning: Image size (99069192 pixels) exceeds limit of 89478485 pixels, could be decompression bomb DOS attack.\n",
      "  warnings.warn(\n",
      "c:\\Users\\it08d\\.conda\\envs\\scan\\Lib\\site-packages\\PIL\\Image.py:3452: DecompressionBombWarning: Image size (110350070 pixels) exceeds limit of 89478485 pixels, could be decompression bomb DOS attack.\n",
      "  warnings.warn(\n",
      "c:\\Users\\it08d\\.conda\\envs\\scan\\Lib\\site-packages\\PIL\\Image.py:3452: DecompressionBombWarning: Image size (107548151 pixels) exceeds limit of 89478485 pixels, could be decompression bomb DOS attack.\n",
      "  warnings.warn(\n",
      "c:\\Users\\it08d\\.conda\\envs\\scan\\Lib\\site-packages\\PIL\\Image.py:3452: DecompressionBombWarning: Image size (94536421 pixels) exceeds limit of 89478485 pixels, could be decompression bomb DOS attack.\n",
      "  warnings.warn(\n",
      "c:\\Users\\it08d\\.conda\\envs\\scan\\Lib\\site-packages\\PIL\\Image.py:3452: DecompressionBombWarning: Image size (95736184 pixels) exceeds limit of 89478485 pixels, could be decompression bomb DOS attack.\n",
      "  warnings.warn(\n",
      "c:\\Users\\it08d\\.conda\\envs\\scan\\Lib\\site-packages\\PIL\\Image.py:3452: DecompressionBombWarning: Image size (91943005 pixels) exceeds limit of 89478485 pixels, could be decompression bomb DOS attack.\n",
      "  warnings.warn(\n",
      "c:\\Users\\it08d\\.conda\\envs\\scan\\Lib\\site-packages\\PIL\\Image.py:3452: DecompressionBombWarning: Image size (119165280 pixels) exceeds limit of 89478485 pixels, could be decompression bomb DOS attack.\n",
      "  warnings.warn(\n",
      "c:\\Users\\it08d\\.conda\\envs\\scan\\Lib\\site-packages\\PIL\\Image.py:3452: DecompressionBombWarning: Image size (116800416 pixels) exceeds limit of 89478485 pixels, could be decompression bomb DOS attack.\n",
      "  warnings.warn(\n",
      "c:\\Users\\it08d\\.conda\\envs\\scan\\Lib\\site-packages\\PIL\\Image.py:3452: DecompressionBombWarning: Image size (100056006 pixels) exceeds limit of 89478485 pixels, could be decompression bomb DOS attack.\n",
      "  warnings.warn(\n",
      "c:\\Users\\it08d\\.conda\\envs\\scan\\Lib\\site-packages\\PIL\\Image.py:3452: DecompressionBombWarning: Image size (113736675 pixels) exceeds limit of 89478485 pixels, could be decompression bomb DOS attack.\n",
      "  warnings.warn(\n",
      "c:\\Users\\it08d\\.conda\\envs\\scan\\Lib\\site-packages\\PIL\\Image.py:3452: DecompressionBombWarning: Image size (90867480 pixels) exceeds limit of 89478485 pixels, could be decompression bomb DOS attack.\n",
      "  warnings.warn(\n",
      "c:\\Users\\it08d\\.conda\\envs\\scan\\Lib\\site-packages\\PIL\\Image.py:3452: DecompressionBombWarning: Image size (115538501 pixels) exceeds limit of 89478485 pixels, could be decompression bomb DOS attack.\n",
      "  warnings.warn(\n",
      "Epoch 47/100: 100%|██████████| 1/1 [03:12<00:00, 192.85s/it]\n"
     ]
    },
    {
     "name": "stdout",
     "output_type": "stream",
     "text": [
      "Epoch [47/100] Loss: 499999904.0000\n"
     ]
    },
    {
     "name": "stderr",
     "output_type": "stream",
     "text": [
      "Epoch 48/100:   0%|          | 0/1 [00:00<?, ?it/s]c:\\Users\\it08d\\.conda\\envs\\scan\\Lib\\site-packages\\PIL\\Image.py:3452: DecompressionBombWarning: Image size (111534900 pixels) exceeds limit of 89478485 pixels, could be decompression bomb DOS attack.\n",
      "  warnings.warn(\n",
      "c:\\Users\\it08d\\.conda\\envs\\scan\\Lib\\site-packages\\PIL\\Image.py:3452: DecompressionBombWarning: Image size (95477232 pixels) exceeds limit of 89478485 pixels, could be decompression bomb DOS attack.\n",
      "  warnings.warn(\n",
      "c:\\Users\\it08d\\.conda\\envs\\scan\\Lib\\site-packages\\PIL\\Image.py:3452: DecompressionBombWarning: Image size (108281750 pixels) exceeds limit of 89478485 pixels, could be decompression bomb DOS attack.\n",
      "  warnings.warn(\n",
      "c:\\Users\\it08d\\.conda\\envs\\scan\\Lib\\site-packages\\PIL\\Image.py:3452: DecompressionBombWarning: Image size (90081500 pixels) exceeds limit of 89478485 pixels, could be decompression bomb DOS attack.\n",
      "  warnings.warn(\n",
      "c:\\Users\\it08d\\.conda\\envs\\scan\\Lib\\site-packages\\PIL\\Image.py:3452: DecompressionBombWarning: Image size (102288898 pixels) exceeds limit of 89478485 pixels, could be decompression bomb DOS attack.\n",
      "  warnings.warn(\n",
      "c:\\Users\\it08d\\.conda\\envs\\scan\\Lib\\site-packages\\PIL\\Image.py:3452: DecompressionBombWarning: Image size (98147922 pixels) exceeds limit of 89478485 pixels, could be decompression bomb DOS attack.\n",
      "  warnings.warn(\n",
      "c:\\Users\\it08d\\.conda\\envs\\scan\\Lib\\site-packages\\PIL\\Image.py:3452: DecompressionBombWarning: Image size (99978213 pixels) exceeds limit of 89478485 pixels, could be decompression bomb DOS attack.\n",
      "  warnings.warn(\n",
      "c:\\Users\\it08d\\.conda\\envs\\scan\\Lib\\site-packages\\PIL\\Image.py:3452: DecompressionBombWarning: Image size (100282208 pixels) exceeds limit of 89478485 pixels, could be decompression bomb DOS attack.\n",
      "  warnings.warn(\n",
      "c:\\Users\\it08d\\.conda\\envs\\scan\\Lib\\site-packages\\PIL\\Image.py:3452: DecompressionBombWarning: Image size (89723805 pixels) exceeds limit of 89478485 pixels, could be decompression bomb DOS attack.\n",
      "  warnings.warn(\n",
      "c:\\Users\\it08d\\.conda\\envs\\scan\\Lib\\site-packages\\PIL\\Image.py:3452: DecompressionBombWarning: Image size (90397020 pixels) exceeds limit of 89478485 pixels, could be decompression bomb DOS attack.\n",
      "  warnings.warn(\n",
      "c:\\Users\\it08d\\.conda\\envs\\scan\\Lib\\site-packages\\PIL\\Image.py:3452: DecompressionBombWarning: Image size (110030306 pixels) exceeds limit of 89478485 pixels, could be decompression bomb DOS attack.\n",
      "  warnings.warn(\n",
      "c:\\Users\\it08d\\.conda\\envs\\scan\\Lib\\site-packages\\PIL\\Image.py:3452: DecompressionBombWarning: Image size (101911326 pixels) exceeds limit of 89478485 pixels, could be decompression bomb DOS attack.\n",
      "  warnings.warn(\n",
      "c:\\Users\\it08d\\.conda\\envs\\scan\\Lib\\site-packages\\PIL\\Image.py:3452: DecompressionBombWarning: Image size (100913904 pixels) exceeds limit of 89478485 pixels, could be decompression bomb DOS attack.\n",
      "  warnings.warn(\n",
      "c:\\Users\\it08d\\.conda\\envs\\scan\\Lib\\site-packages\\PIL\\Image.py:3452: DecompressionBombWarning: Image size (96762282 pixels) exceeds limit of 89478485 pixels, could be decompression bomb DOS attack.\n",
      "  warnings.warn(\n",
      "c:\\Users\\it08d\\.conda\\envs\\scan\\Lib\\site-packages\\PIL\\Image.py:3452: DecompressionBombWarning: Image size (100932325 pixels) exceeds limit of 89478485 pixels, could be decompression bomb DOS attack.\n",
      "  warnings.warn(\n",
      "c:\\Users\\it08d\\.conda\\envs\\scan\\Lib\\site-packages\\PIL\\Image.py:3452: DecompressionBombWarning: Image size (114784254 pixels) exceeds limit of 89478485 pixels, could be decompression bomb DOS attack.\n",
      "  warnings.warn(\n",
      "c:\\Users\\it08d\\.conda\\envs\\scan\\Lib\\site-packages\\PIL\\Image.py:3452: DecompressionBombWarning: Image size (95670936 pixels) exceeds limit of 89478485 pixels, could be decompression bomb DOS attack.\n",
      "  warnings.warn(\n",
      "c:\\Users\\it08d\\.conda\\envs\\scan\\Lib\\site-packages\\PIL\\Image.py:3452: DecompressionBombWarning: Image size (90515479 pixels) exceeds limit of 89478485 pixels, could be decompression bomb DOS attack.\n",
      "  warnings.warn(\n",
      "c:\\Users\\it08d\\.conda\\envs\\scan\\Lib\\site-packages\\PIL\\Image.py:3452: DecompressionBombWarning: Image size (115474792 pixels) exceeds limit of 89478485 pixels, could be decompression bomb DOS attack.\n",
      "  warnings.warn(\n",
      "c:\\Users\\it08d\\.conda\\envs\\scan\\Lib\\site-packages\\PIL\\Image.py:3452: DecompressionBombWarning: Image size (116460736 pixels) exceeds limit of 89478485 pixels, could be decompression bomb DOS attack.\n",
      "  warnings.warn(\n",
      "c:\\Users\\it08d\\.conda\\envs\\scan\\Lib\\site-packages\\PIL\\Image.py:3452: DecompressionBombWarning: Image size (102959028 pixels) exceeds limit of 89478485 pixels, could be decompression bomb DOS attack.\n",
      "  warnings.warn(\n",
      "c:\\Users\\it08d\\.conda\\envs\\scan\\Lib\\site-packages\\PIL\\Image.py:3452: DecompressionBombWarning: Image size (95087610 pixels) exceeds limit of 89478485 pixels, could be decompression bomb DOS attack.\n",
      "  warnings.warn(\n",
      "Epoch 48/100: 100%|██████████| 1/1 [03:25<00:00, 205.74s/it]\n"
     ]
    },
    {
     "name": "stdout",
     "output_type": "stream",
     "text": [
      "Epoch [48/100] Loss: 499999904.0000\n"
     ]
    },
    {
     "name": "stderr",
     "output_type": "stream",
     "text": [
      "Epoch 49/100:   0%|          | 0/1 [00:00<?, ?it/s]c:\\Users\\it08d\\.conda\\envs\\scan\\Lib\\site-packages\\PIL\\Image.py:3452: DecompressionBombWarning: Image size (93932608 pixels) exceeds limit of 89478485 pixels, could be decompression bomb DOS attack.\n",
      "  warnings.warn(\n",
      "c:\\Users\\it08d\\.conda\\envs\\scan\\Lib\\site-packages\\PIL\\Image.py:3452: DecompressionBombWarning: Image size (98177625 pixels) exceeds limit of 89478485 pixels, could be decompression bomb DOS attack.\n",
      "  warnings.warn(\n",
      "c:\\Users\\it08d\\.conda\\envs\\scan\\Lib\\site-packages\\PIL\\Image.py:3452: DecompressionBombWarning: Image size (92868080 pixels) exceeds limit of 89478485 pixels, could be decompression bomb DOS attack.\n",
      "  warnings.warn(\n",
      "c:\\Users\\it08d\\.conda\\envs\\scan\\Lib\\site-packages\\PIL\\Image.py:3452: DecompressionBombWarning: Image size (103370746 pixels) exceeds limit of 89478485 pixels, could be decompression bomb DOS attack.\n",
      "  warnings.warn(\n",
      "c:\\Users\\it08d\\.conda\\envs\\scan\\Lib\\site-packages\\PIL\\Image.py:3452: DecompressionBombWarning: Image size (97037976 pixels) exceeds limit of 89478485 pixels, could be decompression bomb DOS attack.\n",
      "  warnings.warn(\n",
      "c:\\Users\\it08d\\.conda\\envs\\scan\\Lib\\site-packages\\PIL\\Image.py:3452: DecompressionBombWarning: Image size (99902271 pixels) exceeds limit of 89478485 pixels, could be decompression bomb DOS attack.\n",
      "  warnings.warn(\n",
      "c:\\Users\\it08d\\.conda\\envs\\scan\\Lib\\site-packages\\PIL\\Image.py:3452: DecompressionBombWarning: Image size (91924419 pixels) exceeds limit of 89478485 pixels, could be decompression bomb DOS attack.\n",
      "  warnings.warn(\n",
      "c:\\Users\\it08d\\.conda\\envs\\scan\\Lib\\site-packages\\PIL\\Image.py:3452: DecompressionBombWarning: Image size (102223907 pixels) exceeds limit of 89478485 pixels, could be decompression bomb DOS attack.\n",
      "  warnings.warn(\n",
      "c:\\Users\\it08d\\.conda\\envs\\scan\\Lib\\site-packages\\PIL\\Image.py:3452: DecompressionBombWarning: Image size (113672935 pixels) exceeds limit of 89478485 pixels, could be decompression bomb DOS attack.\n",
      "  warnings.warn(\n",
      "c:\\Users\\it08d\\.conda\\envs\\scan\\Lib\\site-packages\\PIL\\Image.py:3452: DecompressionBombWarning: Image size (107345140 pixels) exceeds limit of 89478485 pixels, could be decompression bomb DOS attack.\n",
      "  warnings.warn(\n",
      "c:\\Users\\it08d\\.conda\\envs\\scan\\Lib\\site-packages\\PIL\\Image.py:3452: DecompressionBombWarning: Image size (100579805 pixels) exceeds limit of 89478485 pixels, could be decompression bomb DOS attack.\n",
      "  warnings.warn(\n",
      "c:\\Users\\it08d\\.conda\\envs\\scan\\Lib\\site-packages\\PIL\\Image.py:3452: DecompressionBombWarning: Image size (96296366 pixels) exceeds limit of 89478485 pixels, could be decompression bomb DOS attack.\n",
      "  warnings.warn(\n",
      "c:\\Users\\it08d\\.conda\\envs\\scan\\Lib\\site-packages\\PIL\\Image.py:3452: DecompressionBombWarning: Image size (91722308 pixels) exceeds limit of 89478485 pixels, could be decompression bomb DOS attack.\n",
      "  warnings.warn(\n",
      "c:\\Users\\it08d\\.conda\\envs\\scan\\Lib\\site-packages\\PIL\\Image.py:3452: DecompressionBombWarning: Image size (103816593 pixels) exceeds limit of 89478485 pixels, could be decompression bomb DOS attack.\n",
      "  warnings.warn(\n",
      "c:\\Users\\it08d\\.conda\\envs\\scan\\Lib\\site-packages\\PIL\\Image.py:3452: DecompressionBombWarning: Image size (100948187 pixels) exceeds limit of 89478485 pixels, could be decompression bomb DOS attack.\n",
      "  warnings.warn(\n",
      "c:\\Users\\it08d\\.conda\\envs\\scan\\Lib\\site-packages\\PIL\\Image.py:3452: DecompressionBombWarning: Image size (106032642 pixels) exceeds limit of 89478485 pixels, could be decompression bomb DOS attack.\n",
      "  warnings.warn(\n",
      "c:\\Users\\it08d\\.conda\\envs\\scan\\Lib\\site-packages\\PIL\\Image.py:3452: DecompressionBombWarning: Image size (90828675 pixels) exceeds limit of 89478485 pixels, could be decompression bomb DOS attack.\n",
      "  warnings.warn(\n",
      "c:\\Users\\it08d\\.conda\\envs\\scan\\Lib\\site-packages\\PIL\\Image.py:3452: DecompressionBombWarning: Image size (101851749 pixels) exceeds limit of 89478485 pixels, could be decompression bomb DOS attack.\n",
      "  warnings.warn(\n",
      "c:\\Users\\it08d\\.conda\\envs\\scan\\Lib\\site-packages\\PIL\\Image.py:3452: DecompressionBombWarning: Image size (91482498 pixels) exceeds limit of 89478485 pixels, could be decompression bomb DOS attack.\n",
      "  warnings.warn(\n",
      "c:\\Users\\it08d\\.conda\\envs\\scan\\Lib\\site-packages\\PIL\\Image.py:3452: DecompressionBombWarning: Image size (114983600 pixels) exceeds limit of 89478485 pixels, could be decompression bomb DOS attack.\n",
      "  warnings.warn(\n",
      "c:\\Users\\it08d\\.conda\\envs\\scan\\Lib\\site-packages\\PIL\\Image.py:3452: DecompressionBombWarning: Image size (118473230 pixels) exceeds limit of 89478485 pixels, could be decompression bomb DOS attack.\n",
      "  warnings.warn(\n",
      "c:\\Users\\it08d\\.conda\\envs\\scan\\Lib\\site-packages\\PIL\\Image.py:3452: DecompressionBombWarning: Image size (96222672 pixels) exceeds limit of 89478485 pixels, could be decompression bomb DOS attack.\n",
      "  warnings.warn(\n",
      "Epoch 49/100: 100%|██████████| 1/1 [02:58<00:00, 178.62s/it]\n"
     ]
    },
    {
     "name": "stdout",
     "output_type": "stream",
     "text": [
      "Epoch [49/100] Loss: 499999904.0000\n"
     ]
    },
    {
     "name": "stderr",
     "output_type": "stream",
     "text": [
      "Epoch 50/100:   0%|          | 0/1 [00:00<?, ?it/s]c:\\Users\\it08d\\.conda\\envs\\scan\\Lib\\site-packages\\PIL\\Image.py:3452: DecompressionBombWarning: Image size (94472170 pixels) exceeds limit of 89478485 pixels, could be decompression bomb DOS attack.\n",
      "  warnings.warn(\n",
      "c:\\Users\\it08d\\.conda\\envs\\scan\\Lib\\site-packages\\PIL\\Image.py:3452: DecompressionBombWarning: Image size (103388690 pixels) exceeds limit of 89478485 pixels, could be decompression bomb DOS attack.\n",
      "  warnings.warn(\n",
      "c:\\Users\\it08d\\.conda\\envs\\scan\\Lib\\site-packages\\PIL\\Image.py:3452: DecompressionBombWarning: Image size (98946501 pixels) exceeds limit of 89478485 pixels, could be decompression bomb DOS attack.\n",
      "  warnings.warn(\n",
      "c:\\Users\\it08d\\.conda\\envs\\scan\\Lib\\site-packages\\PIL\\Image.py:3452: DecompressionBombWarning: Image size (93941364 pixels) exceeds limit of 89478485 pixels, could be decompression bomb DOS attack.\n",
      "  warnings.warn(\n",
      "c:\\Users\\it08d\\.conda\\envs\\scan\\Lib\\site-packages\\PIL\\Image.py:3452: DecompressionBombWarning: Image size (112573752 pixels) exceeds limit of 89478485 pixels, could be decompression bomb DOS attack.\n",
      "  warnings.warn(\n",
      "c:\\Users\\it08d\\.conda\\envs\\scan\\Lib\\site-packages\\PIL\\Image.py:3452: DecompressionBombWarning: Image size (96029028 pixels) exceeds limit of 89478485 pixels, could be decompression bomb DOS attack.\n",
      "  warnings.warn(\n",
      "c:\\Users\\it08d\\.conda\\envs\\scan\\Lib\\site-packages\\PIL\\Image.py:3452: DecompressionBombWarning: Image size (112462180 pixels) exceeds limit of 89478485 pixels, could be decompression bomb DOS attack.\n",
      "  warnings.warn(\n",
      "c:\\Users\\it08d\\.conda\\envs\\scan\\Lib\\site-packages\\PIL\\Image.py:3452: DecompressionBombWarning: Image size (106711552 pixels) exceeds limit of 89478485 pixels, could be decompression bomb DOS attack.\n",
      "  warnings.warn(\n",
      "c:\\Users\\it08d\\.conda\\envs\\scan\\Lib\\site-packages\\PIL\\Image.py:3452: DecompressionBombWarning: Image size (101915814 pixels) exceeds limit of 89478485 pixels, could be decompression bomb DOS attack.\n",
      "  warnings.warn(\n",
      "c:\\Users\\it08d\\.conda\\envs\\scan\\Lib\\site-packages\\PIL\\Image.py:3452: DecompressionBombWarning: Image size (96356304 pixels) exceeds limit of 89478485 pixels, could be decompression bomb DOS attack.\n",
      "  warnings.warn(\n",
      "c:\\Users\\it08d\\.conda\\envs\\scan\\Lib\\site-packages\\PIL\\Image.py:3452: DecompressionBombWarning: Image size (95183596 pixels) exceeds limit of 89478485 pixels, could be decompression bomb DOS attack.\n",
      "  warnings.warn(\n",
      "c:\\Users\\it08d\\.conda\\envs\\scan\\Lib\\site-packages\\PIL\\Image.py:3452: DecompressionBombWarning: Image size (100936829 pixels) exceeds limit of 89478485 pixels, could be decompression bomb DOS attack.\n",
      "  warnings.warn(\n",
      "c:\\Users\\it08d\\.conda\\envs\\scan\\Lib\\site-packages\\PIL\\Image.py:3452: DecompressionBombWarning: Image size (105788263 pixels) exceeds limit of 89478485 pixels, could be decompression bomb DOS attack.\n",
      "  warnings.warn(\n",
      "c:\\Users\\it08d\\.conda\\envs\\scan\\Lib\\site-packages\\PIL\\Image.py:3452: DecompressionBombWarning: Image size (98103678 pixels) exceeds limit of 89478485 pixels, could be decompression bomb DOS attack.\n",
      "  warnings.warn(\n",
      "c:\\Users\\it08d\\.conda\\envs\\scan\\Lib\\site-packages\\PIL\\Image.py:3452: DecompressionBombWarning: Image size (92923233 pixels) exceeds limit of 89478485 pixels, could be decompression bomb DOS attack.\n",
      "  warnings.warn(\n",
      "c:\\Users\\it08d\\.conda\\envs\\scan\\Lib\\site-packages\\PIL\\Image.py:3452: DecompressionBombWarning: Image size (107981790 pixels) exceeds limit of 89478485 pixels, could be decompression bomb DOS attack.\n",
      "  warnings.warn(\n",
      "c:\\Users\\it08d\\.conda\\envs\\scan\\Lib\\site-packages\\PIL\\Image.py:3452: DecompressionBombWarning: Image size (105411289 pixels) exceeds limit of 89478485 pixels, could be decompression bomb DOS attack.\n",
      "  warnings.warn(\n",
      "c:\\Users\\it08d\\.conda\\envs\\scan\\Lib\\site-packages\\PIL\\Image.py:3452: DecompressionBombWarning: Image size (117895764 pixels) exceeds limit of 89478485 pixels, could be decompression bomb DOS attack.\n",
      "  warnings.warn(\n",
      "c:\\Users\\it08d\\.conda\\envs\\scan\\Lib\\site-packages\\PIL\\Image.py:3452: DecompressionBombWarning: Image size (99235150 pixels) exceeds limit of 89478485 pixels, could be decompression bomb DOS attack.\n",
      "  warnings.warn(\n",
      "c:\\Users\\it08d\\.conda\\envs\\scan\\Lib\\site-packages\\PIL\\Image.py:3452: DecompressionBombWarning: Image size (108049884 pixels) exceeds limit of 89478485 pixels, could be decompression bomb DOS attack.\n",
      "  warnings.warn(\n",
      "c:\\Users\\it08d\\.conda\\envs\\scan\\Lib\\site-packages\\PIL\\Image.py:3452: DecompressionBombWarning: Image size (101895138 pixels) exceeds limit of 89478485 pixels, could be decompression bomb DOS attack.\n",
      "  warnings.warn(\n",
      "c:\\Users\\it08d\\.conda\\envs\\scan\\Lib\\site-packages\\PIL\\Image.py:3452: DecompressionBombWarning: Image size (119081226 pixels) exceeds limit of 89478485 pixels, could be decompression bomb DOS attack.\n",
      "  warnings.warn(\n",
      "c:\\Users\\it08d\\.conda\\envs\\scan\\Lib\\site-packages\\PIL\\Image.py:3452: DecompressionBombWarning: Image size (95209520 pixels) exceeds limit of 89478485 pixels, could be decompression bomb DOS attack.\n",
      "  warnings.warn(\n",
      "c:\\Users\\it08d\\.conda\\envs\\scan\\Lib\\site-packages\\PIL\\Image.py:3452: DecompressionBombWarning: Image size (90932992 pixels) exceeds limit of 89478485 pixels, could be decompression bomb DOS attack.\n",
      "  warnings.warn(\n",
      "c:\\Users\\it08d\\.conda\\envs\\scan\\Lib\\site-packages\\PIL\\Image.py:3452: DecompressionBombWarning: Image size (95463676 pixels) exceeds limit of 89478485 pixels, could be decompression bomb DOS attack.\n",
      "  warnings.warn(\n",
      "c:\\Users\\it08d\\.conda\\envs\\scan\\Lib\\site-packages\\PIL\\Image.py:3452: DecompressionBombWarning: Image size (99510858 pixels) exceeds limit of 89478485 pixels, could be decompression bomb DOS attack.\n",
      "  warnings.warn(\n",
      "Epoch 50/100: 100%|██████████| 1/1 [03:43<00:00, 223.20s/it]\n"
     ]
    },
    {
     "name": "stdout",
     "output_type": "stream",
     "text": [
      "Epoch [50/100] Loss: 499999904.0000\n"
     ]
    },
    {
     "name": "stderr",
     "output_type": "stream",
     "text": [
      "Epoch 51/100:   0%|          | 0/1 [00:00<?, ?it/s]c:\\Users\\it08d\\.conda\\envs\\scan\\Lib\\site-packages\\PIL\\Image.py:3452: DecompressionBombWarning: Image size (99123740 pixels) exceeds limit of 89478485 pixels, could be decompression bomb DOS attack.\n",
      "  warnings.warn(\n",
      "c:\\Users\\it08d\\.conda\\envs\\scan\\Lib\\site-packages\\PIL\\Image.py:3452: DecompressionBombWarning: Image size (90929163 pixels) exceeds limit of 89478485 pixels, could be decompression bomb DOS attack.\n",
      "  warnings.warn(\n",
      "c:\\Users\\it08d\\.conda\\envs\\scan\\Lib\\site-packages\\PIL\\Image.py:3452: DecompressionBombWarning: Image size (105656094 pixels) exceeds limit of 89478485 pixels, could be decompression bomb DOS attack.\n",
      "  warnings.warn(\n",
      "c:\\Users\\it08d\\.conda\\envs\\scan\\Lib\\site-packages\\PIL\\Image.py:3452: DecompressionBombWarning: Image size (100834990 pixels) exceeds limit of 89478485 pixels, could be decompression bomb DOS attack.\n",
      "  warnings.warn(\n",
      "c:\\Users\\it08d\\.conda\\envs\\scan\\Lib\\site-packages\\PIL\\Image.py:3452: DecompressionBombWarning: Image size (91194300 pixels) exceeds limit of 89478485 pixels, could be decompression bomb DOS attack.\n",
      "  warnings.warn(\n",
      "c:\\Users\\it08d\\.conda\\envs\\scan\\Lib\\site-packages\\PIL\\Image.py:3452: DecompressionBombWarning: Image size (96969020 pixels) exceeds limit of 89478485 pixels, could be decompression bomb DOS attack.\n",
      "  warnings.warn(\n",
      "c:\\Users\\it08d\\.conda\\envs\\scan\\Lib\\site-packages\\PIL\\Image.py:3452: DecompressionBombWarning: Image size (93492321 pixels) exceeds limit of 89478485 pixels, could be decompression bomb DOS attack.\n",
      "  warnings.warn(\n",
      "c:\\Users\\it08d\\.conda\\envs\\scan\\Lib\\site-packages\\PIL\\Image.py:3452: DecompressionBombWarning: Image size (113694742 pixels) exceeds limit of 89478485 pixels, could be decompression bomb DOS attack.\n",
      "  warnings.warn(\n",
      "c:\\Users\\it08d\\.conda\\envs\\scan\\Lib\\site-packages\\PIL\\Image.py:3452: DecompressionBombWarning: Image size (116695652 pixels) exceeds limit of 89478485 pixels, could be decompression bomb DOS attack.\n",
      "  warnings.warn(\n",
      "c:\\Users\\it08d\\.conda\\envs\\scan\\Lib\\site-packages\\PIL\\Image.py:3452: DecompressionBombWarning: Image size (91155722 pixels) exceeds limit of 89478485 pixels, could be decompression bomb DOS attack.\n",
      "  warnings.warn(\n",
      "c:\\Users\\it08d\\.conda\\envs\\scan\\Lib\\site-packages\\PIL\\Image.py:3452: DecompressionBombWarning: Image size (93397555 pixels) exceeds limit of 89478485 pixels, could be decompression bomb DOS attack.\n",
      "  warnings.warn(\n",
      "c:\\Users\\it08d\\.conda\\envs\\scan\\Lib\\site-packages\\PIL\\Image.py:3452: DecompressionBombWarning: Image size (107383255 pixels) exceeds limit of 89478485 pixels, could be decompression bomb DOS attack.\n",
      "  warnings.warn(\n",
      "c:\\Users\\it08d\\.conda\\envs\\scan\\Lib\\site-packages\\PIL\\Image.py:3452: DecompressionBombWarning: Image size (97750884 pixels) exceeds limit of 89478485 pixels, could be decompression bomb DOS attack.\n",
      "  warnings.warn(\n",
      "c:\\Users\\it08d\\.conda\\envs\\scan\\Lib\\site-packages\\PIL\\Image.py:3452: DecompressionBombWarning: Image size (95593820 pixels) exceeds limit of 89478485 pixels, could be decompression bomb DOS attack.\n",
      "  warnings.warn(\n",
      "c:\\Users\\it08d\\.conda\\envs\\scan\\Lib\\site-packages\\PIL\\Image.py:3452: DecompressionBombWarning: Image size (111918190 pixels) exceeds limit of 89478485 pixels, could be decompression bomb DOS attack.\n",
      "  warnings.warn(\n",
      "c:\\Users\\it08d\\.conda\\envs\\scan\\Lib\\site-packages\\PIL\\Image.py:3452: DecompressionBombWarning: Image size (100167840 pixels) exceeds limit of 89478485 pixels, could be decompression bomb DOS attack.\n",
      "  warnings.warn(\n",
      "c:\\Users\\it08d\\.conda\\envs\\scan\\Lib\\site-packages\\PIL\\Image.py:3452: DecompressionBombWarning: Image size (94035408 pixels) exceeds limit of 89478485 pixels, could be decompression bomb DOS attack.\n",
      "  warnings.warn(\n",
      "c:\\Users\\it08d\\.conda\\envs\\scan\\Lib\\site-packages\\PIL\\Image.py:3452: DecompressionBombWarning: Image size (92121523 pixels) exceeds limit of 89478485 pixels, could be decompression bomb DOS attack.\n",
      "  warnings.warn(\n",
      "Epoch 51/100: 100%|██████████| 1/1 [02:40<00:00, 160.76s/it]\n"
     ]
    },
    {
     "name": "stdout",
     "output_type": "stream",
     "text": [
      "Epoch [51/100] Loss: 499999904.0000\n"
     ]
    },
    {
     "name": "stderr",
     "output_type": "stream",
     "text": [
      "Epoch 52/100:   0%|          | 0/1 [00:00<?, ?it/s]c:\\Users\\it08d\\.conda\\envs\\scan\\Lib\\site-packages\\PIL\\Image.py:3452: DecompressionBombWarning: Image size (100926784 pixels) exceeds limit of 89478485 pixels, could be decompression bomb DOS attack.\n",
      "  warnings.warn(\n",
      "c:\\Users\\it08d\\.conda\\envs\\scan\\Lib\\site-packages\\PIL\\Image.py:3452: DecompressionBombWarning: Image size (107656878 pixels) exceeds limit of 89478485 pixels, could be decompression bomb DOS attack.\n",
      "  warnings.warn(\n",
      "c:\\Users\\it08d\\.conda\\envs\\scan\\Lib\\site-packages\\PIL\\Image.py:3452: DecompressionBombWarning: Image size (102860640 pixels) exceeds limit of 89478485 pixels, could be decompression bomb DOS attack.\n",
      "  warnings.warn(\n",
      "c:\\Users\\it08d\\.conda\\envs\\scan\\Lib\\site-packages\\PIL\\Image.py:3452: DecompressionBombWarning: Image size (94933740 pixels) exceeds limit of 89478485 pixels, could be decompression bomb DOS attack.\n",
      "  warnings.warn(\n",
      "c:\\Users\\it08d\\.conda\\envs\\scan\\Lib\\site-packages\\PIL\\Image.py:3452: DecompressionBombWarning: Image size (92982599 pixels) exceeds limit of 89478485 pixels, could be decompression bomb DOS attack.\n",
      "  warnings.warn(\n",
      "c:\\Users\\it08d\\.conda\\envs\\scan\\Lib\\site-packages\\PIL\\Image.py:3452: DecompressionBombWarning: Image size (96498350 pixels) exceeds limit of 89478485 pixels, could be decompression bomb DOS attack.\n",
      "  warnings.warn(\n",
      "c:\\Users\\it08d\\.conda\\envs\\scan\\Lib\\site-packages\\PIL\\Image.py:3452: DecompressionBombWarning: Image size (101167872 pixels) exceeds limit of 89478485 pixels, could be decompression bomb DOS attack.\n",
      "  warnings.warn(\n",
      "c:\\Users\\it08d\\.conda\\envs\\scan\\Lib\\site-packages\\PIL\\Image.py:3452: DecompressionBombWarning: Image size (98171541 pixels) exceeds limit of 89478485 pixels, could be decompression bomb DOS attack.\n",
      "  warnings.warn(\n",
      "c:\\Users\\it08d\\.conda\\envs\\scan\\Lib\\site-packages\\PIL\\Image.py:3452: DecompressionBombWarning: Image size (116755616 pixels) exceeds limit of 89478485 pixels, could be decompression bomb DOS attack.\n",
      "  warnings.warn(\n",
      "c:\\Users\\it08d\\.conda\\envs\\scan\\Lib\\site-packages\\PIL\\Image.py:3452: DecompressionBombWarning: Image size (91373940 pixels) exceeds limit of 89478485 pixels, could be decompression bomb DOS attack.\n",
      "  warnings.warn(\n",
      "c:\\Users\\it08d\\.conda\\envs\\scan\\Lib\\site-packages\\PIL\\Image.py:3452: DecompressionBombWarning: Image size (102790710 pixels) exceeds limit of 89478485 pixels, could be decompression bomb DOS attack.\n",
      "  warnings.warn(\n",
      "c:\\Users\\it08d\\.conda\\envs\\scan\\Lib\\site-packages\\PIL\\Image.py:3452: DecompressionBombWarning: Image size (99111208 pixels) exceeds limit of 89478485 pixels, could be decompression bomb DOS attack.\n",
      "  warnings.warn(\n",
      "c:\\Users\\it08d\\.conda\\envs\\scan\\Lib\\site-packages\\PIL\\Image.py:3452: DecompressionBombWarning: Image size (90584108 pixels) exceeds limit of 89478485 pixels, could be decompression bomb DOS attack.\n",
      "  warnings.warn(\n",
      "c:\\Users\\it08d\\.conda\\envs\\scan\\Lib\\site-packages\\PIL\\Image.py:3452: DecompressionBombWarning: Image size (96079800 pixels) exceeds limit of 89478485 pixels, could be decompression bomb DOS attack.\n",
      "  warnings.warn(\n",
      "c:\\Users\\it08d\\.conda\\envs\\scan\\Lib\\site-packages\\PIL\\Image.py:3452: DecompressionBombWarning: Image size (91187280 pixels) exceeds limit of 89478485 pixels, could be decompression bomb DOS attack.\n",
      "  warnings.warn(\n",
      "c:\\Users\\it08d\\.conda\\envs\\scan\\Lib\\site-packages\\PIL\\Image.py:3452: DecompressionBombWarning: Image size (97687376 pixels) exceeds limit of 89478485 pixels, could be decompression bomb DOS attack.\n",
      "  warnings.warn(\n",
      "c:\\Users\\it08d\\.conda\\envs\\scan\\Lib\\site-packages\\PIL\\Image.py:3452: DecompressionBombWarning: Image size (91485820 pixels) exceeds limit of 89478485 pixels, could be decompression bomb DOS attack.\n",
      "  warnings.warn(\n",
      "c:\\Users\\it08d\\.conda\\envs\\scan\\Lib\\site-packages\\PIL\\Image.py:3452: DecompressionBombWarning: Image size (100829652 pixels) exceeds limit of 89478485 pixels, could be decompression bomb DOS attack.\n",
      "  warnings.warn(\n",
      "c:\\Users\\it08d\\.conda\\envs\\scan\\Lib\\site-packages\\PIL\\Image.py:3452: DecompressionBombWarning: Image size (106453016 pixels) exceeds limit of 89478485 pixels, could be decompression bomb DOS attack.\n",
      "  warnings.warn(\n",
      "c:\\Users\\it08d\\.conda\\envs\\scan\\Lib\\site-packages\\PIL\\Image.py:3452: DecompressionBombWarning: Image size (114674583 pixels) exceeds limit of 89478485 pixels, could be decompression bomb DOS attack.\n",
      "  warnings.warn(\n",
      "c:\\Users\\it08d\\.conda\\envs\\scan\\Lib\\site-packages\\PIL\\Image.py:3452: DecompressionBombWarning: Image size (115444008 pixels) exceeds limit of 89478485 pixels, could be decompression bomb DOS attack.\n",
      "  warnings.warn(\n",
      "c:\\Users\\it08d\\.conda\\envs\\scan\\Lib\\site-packages\\PIL\\Image.py:3452: DecompressionBombWarning: Image size (92188668 pixels) exceeds limit of 89478485 pixels, could be decompression bomb DOS attack.\n",
      "  warnings.warn(\n",
      "Epoch 52/100: 100%|██████████| 1/1 [03:02<00:00, 182.22s/it]\n"
     ]
    },
    {
     "name": "stdout",
     "output_type": "stream",
     "text": [
      "Epoch [52/100] Loss: 499999904.0000\n"
     ]
    },
    {
     "name": "stderr",
     "output_type": "stream",
     "text": [
      "Epoch 53/100:   0%|          | 0/1 [00:00<?, ?it/s]c:\\Users\\it08d\\.conda\\envs\\scan\\Lib\\site-packages\\PIL\\Image.py:3452: DecompressionBombWarning: Image size (114590438 pixels) exceeds limit of 89478485 pixels, could be decompression bomb DOS attack.\n",
      "  warnings.warn(\n",
      "c:\\Users\\it08d\\.conda\\envs\\scan\\Lib\\site-packages\\PIL\\Image.py:3452: DecompressionBombWarning: Image size (102123760 pixels) exceeds limit of 89478485 pixels, could be decompression bomb DOS attack.\n",
      "  warnings.warn(\n",
      "c:\\Users\\it08d\\.conda\\envs\\scan\\Lib\\site-packages\\PIL\\Image.py:3452: DecompressionBombWarning: Image size (104543129 pixels) exceeds limit of 89478485 pixels, could be decompression bomb DOS attack.\n",
      "  warnings.warn(\n",
      "c:\\Users\\it08d\\.conda\\envs\\scan\\Lib\\site-packages\\PIL\\Image.py:3452: DecompressionBombWarning: Image size (100436078 pixels) exceeds limit of 89478485 pixels, could be decompression bomb DOS attack.\n",
      "  warnings.warn(\n",
      "c:\\Users\\it08d\\.conda\\envs\\scan\\Lib\\site-packages\\PIL\\Image.py:3452: DecompressionBombWarning: Image size (105277818 pixels) exceeds limit of 89478485 pixels, could be decompression bomb DOS attack.\n",
      "  warnings.warn(\n",
      "c:\\Users\\it08d\\.conda\\envs\\scan\\Lib\\site-packages\\PIL\\Image.py:3452: DecompressionBombWarning: Image size (94065990 pixels) exceeds limit of 89478485 pixels, could be decompression bomb DOS attack.\n",
      "  warnings.warn(\n",
      "c:\\Users\\it08d\\.conda\\envs\\scan\\Lib\\site-packages\\PIL\\Image.py:3452: DecompressionBombWarning: Image size (105410586 pixels) exceeds limit of 89478485 pixels, could be decompression bomb DOS attack.\n",
      "  warnings.warn(\n",
      "c:\\Users\\it08d\\.conda\\envs\\scan\\Lib\\site-packages\\PIL\\Image.py:3452: DecompressionBombWarning: Image size (96364706 pixels) exceeds limit of 89478485 pixels, could be decompression bomb DOS attack.\n",
      "  warnings.warn(\n",
      "c:\\Users\\it08d\\.conda\\envs\\scan\\Lib\\site-packages\\PIL\\Image.py:3452: DecompressionBombWarning: Image size (92144325 pixels) exceeds limit of 89478485 pixels, could be decompression bomb DOS attack.\n",
      "  warnings.warn(\n",
      "c:\\Users\\it08d\\.conda\\envs\\scan\\Lib\\site-packages\\PIL\\Image.py:3452: DecompressionBombWarning: Image size (93643106 pixels) exceeds limit of 89478485 pixels, could be decompression bomb DOS attack.\n",
      "  warnings.warn(\n",
      "c:\\Users\\it08d\\.conda\\envs\\scan\\Lib\\site-packages\\PIL\\Image.py:3452: DecompressionBombWarning: Image size (110966076 pixels) exceeds limit of 89478485 pixels, could be decompression bomb DOS attack.\n",
      "  warnings.warn(\n",
      "c:\\Users\\it08d\\.conda\\envs\\scan\\Lib\\site-packages\\PIL\\Image.py:3452: DecompressionBombWarning: Image size (97837350 pixels) exceeds limit of 89478485 pixels, could be decompression bomb DOS attack.\n",
      "  warnings.warn(\n",
      "c:\\Users\\it08d\\.conda\\envs\\scan\\Lib\\site-packages\\PIL\\Image.py:3452: DecompressionBombWarning: Image size (96819415 pixels) exceeds limit of 89478485 pixels, could be decompression bomb DOS attack.\n",
      "  warnings.warn(\n",
      "c:\\Users\\it08d\\.conda\\envs\\scan\\Lib\\site-packages\\PIL\\Image.py:3452: DecompressionBombWarning: Image size (96160812 pixels) exceeds limit of 89478485 pixels, could be decompression bomb DOS attack.\n",
      "  warnings.warn(\n",
      "c:\\Users\\it08d\\.conda\\envs\\scan\\Lib\\site-packages\\PIL\\Image.py:3452: DecompressionBombWarning: Image size (95046232 pixels) exceeds limit of 89478485 pixels, could be decompression bomb DOS attack.\n",
      "  warnings.warn(\n",
      "c:\\Users\\it08d\\.conda\\envs\\scan\\Lib\\site-packages\\PIL\\Image.py:3452: DecompressionBombWarning: Image size (109945638 pixels) exceeds limit of 89478485 pixels, could be decompression bomb DOS attack.\n",
      "  warnings.warn(\n",
      "c:\\Users\\it08d\\.conda\\envs\\scan\\Lib\\site-packages\\PIL\\Image.py:3452: DecompressionBombWarning: Image size (95502156 pixels) exceeds limit of 89478485 pixels, could be decompression bomb DOS attack.\n",
      "  warnings.warn(\n",
      "c:\\Users\\it08d\\.conda\\envs\\scan\\Lib\\site-packages\\PIL\\Image.py:3452: DecompressionBombWarning: Image size (94279526 pixels) exceeds limit of 89478485 pixels, could be decompression bomb DOS attack.\n",
      "  warnings.warn(\n",
      "c:\\Users\\it08d\\.conda\\envs\\scan\\Lib\\site-packages\\PIL\\Image.py:3452: DecompressionBombWarning: Image size (110180900 pixels) exceeds limit of 89478485 pixels, could be decompression bomb DOS attack.\n",
      "  warnings.warn(\n",
      "c:\\Users\\it08d\\.conda\\envs\\scan\\Lib\\site-packages\\PIL\\Image.py:3452: DecompressionBombWarning: Image size (96361352 pixels) exceeds limit of 89478485 pixels, could be decompression bomb DOS attack.\n",
      "  warnings.warn(\n",
      "c:\\Users\\it08d\\.conda\\envs\\scan\\Lib\\site-packages\\PIL\\Image.py:3452: DecompressionBombWarning: Image size (95214325 pixels) exceeds limit of 89478485 pixels, could be decompression bomb DOS attack.\n",
      "  warnings.warn(\n",
      "c:\\Users\\it08d\\.conda\\envs\\scan\\Lib\\site-packages\\PIL\\Image.py:3452: DecompressionBombWarning: Image size (90496035 pixels) exceeds limit of 89478485 pixels, could be decompression bomb DOS attack.\n",
      "  warnings.warn(\n",
      "Epoch 53/100: 100%|██████████| 1/1 [03:07<00:00, 187.56s/it]\n"
     ]
    },
    {
     "name": "stdout",
     "output_type": "stream",
     "text": [
      "Epoch [53/100] Loss: 499999904.0000\n"
     ]
    },
    {
     "name": "stderr",
     "output_type": "stream",
     "text": [
      "Epoch 54/100:   0%|          | 0/1 [00:00<?, ?it/s]c:\\Users\\it08d\\.conda\\envs\\scan\\Lib\\site-packages\\PIL\\Image.py:3452: DecompressionBombWarning: Image size (91610960 pixels) exceeds limit of 89478485 pixels, could be decompression bomb DOS attack.\n",
      "  warnings.warn(\n",
      "c:\\Users\\it08d\\.conda\\envs\\scan\\Lib\\site-packages\\PIL\\Image.py:3452: DecompressionBombWarning: Image size (90799532 pixels) exceeds limit of 89478485 pixels, could be decompression bomb DOS attack.\n",
      "  warnings.warn(\n",
      "c:\\Users\\it08d\\.conda\\envs\\scan\\Lib\\site-packages\\PIL\\Image.py:3452: DecompressionBombWarning: Image size (101078615 pixels) exceeds limit of 89478485 pixels, could be decompression bomb DOS attack.\n",
      "  warnings.warn(\n",
      "c:\\Users\\it08d\\.conda\\envs\\scan\\Lib\\site-packages\\PIL\\Image.py:3452: DecompressionBombWarning: Image size (100928256 pixels) exceeds limit of 89478485 pixels, could be decompression bomb DOS attack.\n",
      "  warnings.warn(\n",
      "c:\\Users\\it08d\\.conda\\envs\\scan\\Lib\\site-packages\\PIL\\Image.py:3452: DecompressionBombWarning: Image size (99395877 pixels) exceeds limit of 89478485 pixels, could be decompression bomb DOS attack.\n",
      "  warnings.warn(\n",
      "c:\\Users\\it08d\\.conda\\envs\\scan\\Lib\\site-packages\\PIL\\Image.py:3452: DecompressionBombWarning: Image size (97339300 pixels) exceeds limit of 89478485 pixels, could be decompression bomb DOS attack.\n",
      "  warnings.warn(\n",
      "c:\\Users\\it08d\\.conda\\envs\\scan\\Lib\\site-packages\\PIL\\Image.py:3452: DecompressionBombWarning: Image size (95087462 pixels) exceeds limit of 89478485 pixels, could be decompression bomb DOS attack.\n",
      "  warnings.warn(\n",
      "c:\\Users\\it08d\\.conda\\envs\\scan\\Lib\\site-packages\\PIL\\Image.py:3452: DecompressionBombWarning: Image size (91324780 pixels) exceeds limit of 89478485 pixels, could be decompression bomb DOS attack.\n",
      "  warnings.warn(\n",
      "c:\\Users\\it08d\\.conda\\envs\\scan\\Lib\\site-packages\\PIL\\Image.py:3452: DecompressionBombWarning: Image size (103722085 pixels) exceeds limit of 89478485 pixels, could be decompression bomb DOS attack.\n",
      "  warnings.warn(\n",
      "c:\\Users\\it08d\\.conda\\envs\\scan\\Lib\\site-packages\\PIL\\Image.py:3452: DecompressionBombWarning: Image size (105678255 pixels) exceeds limit of 89478485 pixels, could be decompression bomb DOS attack.\n",
      "  warnings.warn(\n",
      "c:\\Users\\it08d\\.conda\\envs\\scan\\Lib\\site-packages\\PIL\\Image.py:3452: DecompressionBombWarning: Image size (91616360 pixels) exceeds limit of 89478485 pixels, could be decompression bomb DOS attack.\n",
      "  warnings.warn(\n",
      "c:\\Users\\it08d\\.conda\\envs\\scan\\Lib\\site-packages\\PIL\\Image.py:3452: DecompressionBombWarning: Image size (98639640 pixels) exceeds limit of 89478485 pixels, could be decompression bomb DOS attack.\n",
      "  warnings.warn(\n",
      "c:\\Users\\it08d\\.conda\\envs\\scan\\Lib\\site-packages\\PIL\\Image.py:3452: DecompressionBombWarning: Image size (90350260 pixels) exceeds limit of 89478485 pixels, could be decompression bomb DOS attack.\n",
      "  warnings.warn(\n",
      "c:\\Users\\it08d\\.conda\\envs\\scan\\Lib\\site-packages\\PIL\\Image.py:3452: DecompressionBombWarning: Image size (117180624 pixels) exceeds limit of 89478485 pixels, could be decompression bomb DOS attack.\n",
      "  warnings.warn(\n",
      "c:\\Users\\it08d\\.conda\\envs\\scan\\Lib\\site-packages\\PIL\\Image.py:3452: DecompressionBombWarning: Image size (110597541 pixels) exceeds limit of 89478485 pixels, could be decompression bomb DOS attack.\n",
      "  warnings.warn(\n",
      "c:\\Users\\it08d\\.conda\\envs\\scan\\Lib\\site-packages\\PIL\\Image.py:3452: DecompressionBombWarning: Image size (110940753 pixels) exceeds limit of 89478485 pixels, could be decompression bomb DOS attack.\n",
      "  warnings.warn(\n",
      "Epoch 54/100: 100%|██████████| 1/1 [03:23<00:00, 203.78s/it]\n"
     ]
    },
    {
     "name": "stdout",
     "output_type": "stream",
     "text": [
      "Epoch [54/100] Loss: 499999904.0000\n"
     ]
    },
    {
     "name": "stderr",
     "output_type": "stream",
     "text": [
      "Epoch 55/100:   0%|          | 0/1 [00:00<?, ?it/s]c:\\Users\\it08d\\.conda\\envs\\scan\\Lib\\site-packages\\PIL\\Image.py:3452: DecompressionBombWarning: Image size (91283640 pixels) exceeds limit of 89478485 pixels, could be decompression bomb DOS attack.\n",
      "  warnings.warn(\n",
      "c:\\Users\\it08d\\.conda\\envs\\scan\\Lib\\site-packages\\PIL\\Image.py:3452: DecompressionBombWarning: Image size (109707528 pixels) exceeds limit of 89478485 pixels, could be decompression bomb DOS attack.\n",
      "  warnings.warn(\n",
      "c:\\Users\\it08d\\.conda\\envs\\scan\\Lib\\site-packages\\PIL\\Image.py:3452: DecompressionBombWarning: Image size (99140825 pixels) exceeds limit of 89478485 pixels, could be decompression bomb DOS attack.\n",
      "  warnings.warn(\n",
      "c:\\Users\\it08d\\.conda\\envs\\scan\\Lib\\site-packages\\PIL\\Image.py:3452: DecompressionBombWarning: Image size (103995216 pixels) exceeds limit of 89478485 pixels, could be decompression bomb DOS attack.\n",
      "  warnings.warn(\n",
      "c:\\Users\\it08d\\.conda\\envs\\scan\\Lib\\site-packages\\PIL\\Image.py:3452: DecompressionBombWarning: Image size (104928362 pixels) exceeds limit of 89478485 pixels, could be decompression bomb DOS attack.\n",
      "  warnings.warn(\n",
      "c:\\Users\\it08d\\.conda\\envs\\scan\\Lib\\site-packages\\PIL\\Image.py:3452: DecompressionBombWarning: Image size (92290536 pixels) exceeds limit of 89478485 pixels, could be decompression bomb DOS attack.\n",
      "  warnings.warn(\n",
      "c:\\Users\\it08d\\.conda\\envs\\scan\\Lib\\site-packages\\PIL\\Image.py:3452: DecompressionBombWarning: Image size (97348564 pixels) exceeds limit of 89478485 pixels, could be decompression bomb DOS attack.\n",
      "  warnings.warn(\n",
      "c:\\Users\\it08d\\.conda\\envs\\scan\\Lib\\site-packages\\PIL\\Image.py:3452: DecompressionBombWarning: Image size (89719330 pixels) exceeds limit of 89478485 pixels, could be decompression bomb DOS attack.\n",
      "  warnings.warn(\n",
      "c:\\Users\\it08d\\.conda\\envs\\scan\\Lib\\site-packages\\PIL\\Image.py:3452: DecompressionBombWarning: Image size (89556702 pixels) exceeds limit of 89478485 pixels, could be decompression bomb DOS attack.\n",
      "  warnings.warn(\n",
      "c:\\Users\\it08d\\.conda\\envs\\scan\\Lib\\site-packages\\PIL\\Image.py:3452: DecompressionBombWarning: Image size (100493736 pixels) exceeds limit of 89478485 pixels, could be decompression bomb DOS attack.\n",
      "  warnings.warn(\n",
      "c:\\Users\\it08d\\.conda\\envs\\scan\\Lib\\site-packages\\PIL\\Image.py:3452: DecompressionBombWarning: Image size (90174114 pixels) exceeds limit of 89478485 pixels, could be decompression bomb DOS attack.\n",
      "  warnings.warn(\n",
      "c:\\Users\\it08d\\.conda\\envs\\scan\\Lib\\site-packages\\PIL\\Image.py:3452: DecompressionBombWarning: Image size (91915065 pixels) exceeds limit of 89478485 pixels, could be decompression bomb DOS attack.\n",
      "  warnings.warn(\n",
      "c:\\Users\\it08d\\.conda\\envs\\scan\\Lib\\site-packages\\PIL\\Image.py:3452: DecompressionBombWarning: Image size (115020296 pixels) exceeds limit of 89478485 pixels, could be decompression bomb DOS attack.\n",
      "  warnings.warn(\n",
      "c:\\Users\\it08d\\.conda\\envs\\scan\\Lib\\site-packages\\PIL\\Image.py:3452: DecompressionBombWarning: Image size (115802262 pixels) exceeds limit of 89478485 pixels, could be decompression bomb DOS attack.\n",
      "  warnings.warn(\n",
      "c:\\Users\\it08d\\.conda\\envs\\scan\\Lib\\site-packages\\PIL\\Image.py:3452: DecompressionBombWarning: Image size (95840604 pixels) exceeds limit of 89478485 pixels, could be decompression bomb DOS attack.\n",
      "  warnings.warn(\n",
      "c:\\Users\\it08d\\.conda\\envs\\scan\\Lib\\site-packages\\PIL\\Image.py:3452: DecompressionBombWarning: Image size (90980208 pixels) exceeds limit of 89478485 pixels, could be decompression bomb DOS attack.\n",
      "  warnings.warn(\n",
      "c:\\Users\\it08d\\.conda\\envs\\scan\\Lib\\site-packages\\PIL\\Image.py:3452: DecompressionBombWarning: Image size (101721631 pixels) exceeds limit of 89478485 pixels, could be decompression bomb DOS attack.\n",
      "  warnings.warn(\n",
      "c:\\Users\\it08d\\.conda\\envs\\scan\\Lib\\site-packages\\PIL\\Image.py:3452: DecompressionBombWarning: Image size (94799612 pixels) exceeds limit of 89478485 pixels, could be decompression bomb DOS attack.\n",
      "  warnings.warn(\n",
      "c:\\Users\\it08d\\.conda\\envs\\scan\\Lib\\site-packages\\PIL\\Image.py:3452: DecompressionBombWarning: Image size (106562230 pixels) exceeds limit of 89478485 pixels, could be decompression bomb DOS attack.\n",
      "  warnings.warn(\n",
      "c:\\Users\\it08d\\.conda\\envs\\scan\\Lib\\site-packages\\PIL\\Image.py:3452: DecompressionBombWarning: Image size (101054800 pixels) exceeds limit of 89478485 pixels, could be decompression bomb DOS attack.\n",
      "  warnings.warn(\n",
      "c:\\Users\\it08d\\.conda\\envs\\scan\\Lib\\site-packages\\PIL\\Image.py:3452: DecompressionBombWarning: Image size (100280376 pixels) exceeds limit of 89478485 pixels, could be decompression bomb DOS attack.\n",
      "  warnings.warn(\n",
      "c:\\Users\\it08d\\.conda\\envs\\scan\\Lib\\site-packages\\PIL\\Image.py:3452: DecompressionBombWarning: Image size (110375928 pixels) exceeds limit of 89478485 pixels, could be decompression bomb DOS attack.\n",
      "  warnings.warn(\n",
      "c:\\Users\\it08d\\.conda\\envs\\scan\\Lib\\site-packages\\PIL\\Image.py:3452: DecompressionBombWarning: Image size (105375510 pixels) exceeds limit of 89478485 pixels, could be decompression bomb DOS attack.\n",
      "  warnings.warn(\n",
      "c:\\Users\\it08d\\.conda\\envs\\scan\\Lib\\site-packages\\PIL\\Image.py:3452: DecompressionBombWarning: Image size (103930000 pixels) exceeds limit of 89478485 pixels, could be decompression bomb DOS attack.\n",
      "  warnings.warn(\n",
      "c:\\Users\\it08d\\.conda\\envs\\scan\\Lib\\site-packages\\PIL\\Image.py:3452: DecompressionBombWarning: Image size (98351790 pixels) exceeds limit of 89478485 pixels, could be decompression bomb DOS attack.\n",
      "  warnings.warn(\n",
      "c:\\Users\\it08d\\.conda\\envs\\scan\\Lib\\site-packages\\PIL\\Image.py:3452: DecompressionBombWarning: Image size (93335096 pixels) exceeds limit of 89478485 pixels, could be decompression bomb DOS attack.\n",
      "  warnings.warn(\n",
      "Epoch 55/100: 100%|██████████| 1/1 [03:28<00:00, 208.06s/it]\n"
     ]
    },
    {
     "name": "stdout",
     "output_type": "stream",
     "text": [
      "Epoch [55/100] Loss: 499999904.0000\n"
     ]
    },
    {
     "name": "stderr",
     "output_type": "stream",
     "text": [
      "Epoch 56/100:   0%|          | 0/1 [00:00<?, ?it/s]c:\\Users\\it08d\\.conda\\envs\\scan\\Lib\\site-packages\\PIL\\Image.py:3452: DecompressionBombWarning: Image size (98847177 pixels) exceeds limit of 89478485 pixels, could be decompression bomb DOS attack.\n",
      "  warnings.warn(\n",
      "c:\\Users\\it08d\\.conda\\envs\\scan\\Lib\\site-packages\\PIL\\Image.py:3452: DecompressionBombWarning: Image size (107230968 pixels) exceeds limit of 89478485 pixels, could be decompression bomb DOS attack.\n",
      "  warnings.warn(\n",
      "c:\\Users\\it08d\\.conda\\envs\\scan\\Lib\\site-packages\\PIL\\Image.py:3452: DecompressionBombWarning: Image size (103626036 pixels) exceeds limit of 89478485 pixels, could be decompression bomb DOS attack.\n",
      "  warnings.warn(\n",
      "c:\\Users\\it08d\\.conda\\envs\\scan\\Lib\\site-packages\\PIL\\Image.py:3452: DecompressionBombWarning: Image size (112063044 pixels) exceeds limit of 89478485 pixels, could be decompression bomb DOS attack.\n",
      "  warnings.warn(\n",
      "c:\\Users\\it08d\\.conda\\envs\\scan\\Lib\\site-packages\\PIL\\Image.py:3452: DecompressionBombWarning: Image size (91336695 pixels) exceeds limit of 89478485 pixels, could be decompression bomb DOS attack.\n",
      "  warnings.warn(\n",
      "c:\\Users\\it08d\\.conda\\envs\\scan\\Lib\\site-packages\\PIL\\Image.py:3452: DecompressionBombWarning: Image size (95068160 pixels) exceeds limit of 89478485 pixels, could be decompression bomb DOS attack.\n",
      "  warnings.warn(\n",
      "c:\\Users\\it08d\\.conda\\envs\\scan\\Lib\\site-packages\\PIL\\Image.py:3452: DecompressionBombWarning: Image size (111417255 pixels) exceeds limit of 89478485 pixels, could be decompression bomb DOS attack.\n",
      "  warnings.warn(\n",
      "c:\\Users\\it08d\\.conda\\envs\\scan\\Lib\\site-packages\\PIL\\Image.py:3452: DecompressionBombWarning: Image size (91435740 pixels) exceeds limit of 89478485 pixels, could be decompression bomb DOS attack.\n",
      "  warnings.warn(\n",
      "c:\\Users\\it08d\\.conda\\envs\\scan\\Lib\\site-packages\\PIL\\Image.py:3452: DecompressionBombWarning: Image size (105197275 pixels) exceeds limit of 89478485 pixels, could be decompression bomb DOS attack.\n",
      "  warnings.warn(\n",
      "c:\\Users\\it08d\\.conda\\envs\\scan\\Lib\\site-packages\\PIL\\Image.py:3452: DecompressionBombWarning: Image size (108412765 pixels) exceeds limit of 89478485 pixels, could be decompression bomb DOS attack.\n",
      "  warnings.warn(\n",
      "c:\\Users\\it08d\\.conda\\envs\\scan\\Lib\\site-packages\\PIL\\Image.py:3452: DecompressionBombWarning: Image size (109367422 pixels) exceeds limit of 89478485 pixels, could be decompression bomb DOS attack.\n",
      "  warnings.warn(\n",
      "c:\\Users\\it08d\\.conda\\envs\\scan\\Lib\\site-packages\\PIL\\Image.py:3452: DecompressionBombWarning: Image size (94502696 pixels) exceeds limit of 89478485 pixels, could be decompression bomb DOS attack.\n",
      "  warnings.warn(\n",
      "c:\\Users\\it08d\\.conda\\envs\\scan\\Lib\\site-packages\\PIL\\Image.py:3452: DecompressionBombWarning: Image size (93809204 pixels) exceeds limit of 89478485 pixels, could be decompression bomb DOS attack.\n",
      "  warnings.warn(\n",
      "c:\\Users\\it08d\\.conda\\envs\\scan\\Lib\\site-packages\\PIL\\Image.py:3452: DecompressionBombWarning: Image size (102729172 pixels) exceeds limit of 89478485 pixels, could be decompression bomb DOS attack.\n",
      "  warnings.warn(\n",
      "c:\\Users\\it08d\\.conda\\envs\\scan\\Lib\\site-packages\\PIL\\Image.py:3452: DecompressionBombWarning: Image size (96908220 pixels) exceeds limit of 89478485 pixels, could be decompression bomb DOS attack.\n",
      "  warnings.warn(\n",
      "c:\\Users\\it08d\\.conda\\envs\\scan\\Lib\\site-packages\\PIL\\Image.py:3452: DecompressionBombWarning: Image size (114607872 pixels) exceeds limit of 89478485 pixels, could be decompression bomb DOS attack.\n",
      "  warnings.warn(\n",
      "c:\\Users\\it08d\\.conda\\envs\\scan\\Lib\\site-packages\\PIL\\Image.py:3452: DecompressionBombWarning: Image size (97634680 pixels) exceeds limit of 89478485 pixels, could be decompression bomb DOS attack.\n",
      "  warnings.warn(\n",
      "c:\\Users\\it08d\\.conda\\envs\\scan\\Lib\\site-packages\\PIL\\Image.py:3452: DecompressionBombWarning: Image size (92942885 pixels) exceeds limit of 89478485 pixels, could be decompression bomb DOS attack.\n",
      "  warnings.warn(\n",
      "c:\\Users\\it08d\\.conda\\envs\\scan\\Lib\\site-packages\\PIL\\Image.py:3452: DecompressionBombWarning: Image size (98779640 pixels) exceeds limit of 89478485 pixels, could be decompression bomb DOS attack.\n",
      "  warnings.warn(\n",
      "c:\\Users\\it08d\\.conda\\envs\\scan\\Lib\\site-packages\\PIL\\Image.py:3452: DecompressionBombWarning: Image size (90488450 pixels) exceeds limit of 89478485 pixels, could be decompression bomb DOS attack.\n",
      "  warnings.warn(\n",
      "c:\\Users\\it08d\\.conda\\envs\\scan\\Lib\\site-packages\\PIL\\Image.py:3452: DecompressionBombWarning: Image size (97437104 pixels) exceeds limit of 89478485 pixels, could be decompression bomb DOS attack.\n",
      "  warnings.warn(\n",
      "c:\\Users\\it08d\\.conda\\envs\\scan\\Lib\\site-packages\\PIL\\Image.py:3452: DecompressionBombWarning: Image size (96672424 pixels) exceeds limit of 89478485 pixels, could be decompression bomb DOS attack.\n",
      "  warnings.warn(\n",
      "c:\\Users\\it08d\\.conda\\envs\\scan\\Lib\\site-packages\\PIL\\Image.py:3452: DecompressionBombWarning: Image size (98736632 pixels) exceeds limit of 89478485 pixels, could be decompression bomb DOS attack.\n",
      "  warnings.warn(\n",
      "c:\\Users\\it08d\\.conda\\envs\\scan\\Lib\\site-packages\\PIL\\Image.py:3452: DecompressionBombWarning: Image size (91792312 pixels) exceeds limit of 89478485 pixels, could be decompression bomb DOS attack.\n",
      "  warnings.warn(\n",
      "Epoch 56/100: 100%|██████████| 1/1 [03:26<00:00, 206.54s/it]\n"
     ]
    },
    {
     "name": "stdout",
     "output_type": "stream",
     "text": [
      "Epoch [56/100] Loss: 499999904.0000\n"
     ]
    },
    {
     "name": "stderr",
     "output_type": "stream",
     "text": [
      "Epoch 57/100:   0%|          | 0/1 [00:00<?, ?it/s]c:\\Users\\it08d\\.conda\\envs\\scan\\Lib\\site-packages\\PIL\\Image.py:3452: DecompressionBombWarning: Image size (114794752 pixels) exceeds limit of 89478485 pixels, could be decompression bomb DOS attack.\n",
      "  warnings.warn(\n",
      "c:\\Users\\it08d\\.conda\\envs\\scan\\Lib\\site-packages\\PIL\\Image.py:3452: DecompressionBombWarning: Image size (96097292 pixels) exceeds limit of 89478485 pixels, could be decompression bomb DOS attack.\n",
      "  warnings.warn(\n",
      "c:\\Users\\it08d\\.conda\\envs\\scan\\Lib\\site-packages\\PIL\\Image.py:3452: DecompressionBombWarning: Image size (95662020 pixels) exceeds limit of 89478485 pixels, could be decompression bomb DOS attack.\n",
      "  warnings.warn(\n",
      "c:\\Users\\it08d\\.conda\\envs\\scan\\Lib\\site-packages\\PIL\\Image.py:3452: DecompressionBombWarning: Image size (110932634 pixels) exceeds limit of 89478485 pixels, could be decompression bomb DOS attack.\n",
      "  warnings.warn(\n",
      "c:\\Users\\it08d\\.conda\\envs\\scan\\Lib\\site-packages\\PIL\\Image.py:3452: DecompressionBombWarning: Image size (103011188 pixels) exceeds limit of 89478485 pixels, could be decompression bomb DOS attack.\n",
      "  warnings.warn(\n",
      "c:\\Users\\it08d\\.conda\\envs\\scan\\Lib\\site-packages\\PIL\\Image.py:3452: DecompressionBombWarning: Image size (94559322 pixels) exceeds limit of 89478485 pixels, could be decompression bomb DOS attack.\n",
      "  warnings.warn(\n",
      "c:\\Users\\it08d\\.conda\\envs\\scan\\Lib\\site-packages\\PIL\\Image.py:3452: DecompressionBombWarning: Image size (119948888 pixels) exceeds limit of 89478485 pixels, could be decompression bomb DOS attack.\n",
      "  warnings.warn(\n",
      "c:\\Users\\it08d\\.conda\\envs\\scan\\Lib\\site-packages\\PIL\\Image.py:3452: DecompressionBombWarning: Image size (90358416 pixels) exceeds limit of 89478485 pixels, could be decompression bomb DOS attack.\n",
      "  warnings.warn(\n",
      "c:\\Users\\it08d\\.conda\\envs\\scan\\Lib\\site-packages\\PIL\\Image.py:3452: DecompressionBombWarning: Image size (102807866 pixels) exceeds limit of 89478485 pixels, could be decompression bomb DOS attack.\n",
      "  warnings.warn(\n",
      "c:\\Users\\it08d\\.conda\\envs\\scan\\Lib\\site-packages\\PIL\\Image.py:3452: DecompressionBombWarning: Image size (93969061 pixels) exceeds limit of 89478485 pixels, could be decompression bomb DOS attack.\n",
      "  warnings.warn(\n",
      "c:\\Users\\it08d\\.conda\\envs\\scan\\Lib\\site-packages\\PIL\\Image.py:3452: DecompressionBombWarning: Image size (102359940 pixels) exceeds limit of 89478485 pixels, could be decompression bomb DOS attack.\n",
      "  warnings.warn(\n",
      "c:\\Users\\it08d\\.conda\\envs\\scan\\Lib\\site-packages\\PIL\\Image.py:3452: DecompressionBombWarning: Image size (106722848 pixels) exceeds limit of 89478485 pixels, could be decompression bomb DOS attack.\n",
      "  warnings.warn(\n",
      "c:\\Users\\it08d\\.conda\\envs\\scan\\Lib\\site-packages\\PIL\\Image.py:3452: DecompressionBombWarning: Image size (90798818 pixels) exceeds limit of 89478485 pixels, could be decompression bomb DOS attack.\n",
      "  warnings.warn(\n",
      "c:\\Users\\it08d\\.conda\\envs\\scan\\Lib\\site-packages\\PIL\\Image.py:3452: DecompressionBombWarning: Image size (97614640 pixels) exceeds limit of 89478485 pixels, could be decompression bomb DOS attack.\n",
      "  warnings.warn(\n",
      "c:\\Users\\it08d\\.conda\\envs\\scan\\Lib\\site-packages\\PIL\\Image.py:3452: DecompressionBombWarning: Image size (90490070 pixels) exceeds limit of 89478485 pixels, could be decompression bomb DOS attack.\n",
      "  warnings.warn(\n",
      "c:\\Users\\it08d\\.conda\\envs\\scan\\Lib\\site-packages\\PIL\\Image.py:3452: DecompressionBombWarning: Image size (90160984 pixels) exceeds limit of 89478485 pixels, could be decompression bomb DOS attack.\n",
      "  warnings.warn(\n",
      "c:\\Users\\it08d\\.conda\\envs\\scan\\Lib\\site-packages\\PIL\\Image.py:3452: DecompressionBombWarning: Image size (104348430 pixels) exceeds limit of 89478485 pixels, could be decompression bomb DOS attack.\n",
      "  warnings.warn(\n",
      "c:\\Users\\it08d\\.conda\\envs\\scan\\Lib\\site-packages\\PIL\\Image.py:3452: DecompressionBombWarning: Image size (98313040 pixels) exceeds limit of 89478485 pixels, could be decompression bomb DOS attack.\n",
      "  warnings.warn(\n",
      "c:\\Users\\it08d\\.conda\\envs\\scan\\Lib\\site-packages\\PIL\\Image.py:3452: DecompressionBombWarning: Image size (114418240 pixels) exceeds limit of 89478485 pixels, could be decompression bomb DOS attack.\n",
      "  warnings.warn(\n",
      "Epoch 57/100: 100%|██████████| 1/1 [03:22<00:00, 202.54s/it]\n"
     ]
    },
    {
     "name": "stdout",
     "output_type": "stream",
     "text": [
      "Epoch [57/100] Loss: 499999904.0000\n"
     ]
    },
    {
     "name": "stderr",
     "output_type": "stream",
     "text": [
      "Epoch 58/100:   0%|          | 0/1 [00:00<?, ?it/s]c:\\Users\\it08d\\.conda\\envs\\scan\\Lib\\site-packages\\PIL\\Image.py:3452: DecompressionBombWarning: Image size (90618041 pixels) exceeds limit of 89478485 pixels, could be decompression bomb DOS attack.\n",
      "  warnings.warn(\n",
      "c:\\Users\\it08d\\.conda\\envs\\scan\\Lib\\site-packages\\PIL\\Image.py:3452: DecompressionBombWarning: Image size (104868000 pixels) exceeds limit of 89478485 pixels, could be decompression bomb DOS attack.\n",
      "  warnings.warn(\n",
      "c:\\Users\\it08d\\.conda\\envs\\scan\\Lib\\site-packages\\PIL\\Image.py:3452: DecompressionBombWarning: Image size (100006648 pixels) exceeds limit of 89478485 pixels, could be decompression bomb DOS attack.\n",
      "  warnings.warn(\n",
      "c:\\Users\\it08d\\.conda\\envs\\scan\\Lib\\site-packages\\PIL\\Image.py:3452: DecompressionBombWarning: Image size (89859438 pixels) exceeds limit of 89478485 pixels, could be decompression bomb DOS attack.\n",
      "  warnings.warn(\n",
      "c:\\Users\\it08d\\.conda\\envs\\scan\\Lib\\site-packages\\PIL\\Image.py:3452: DecompressionBombWarning: Image size (113480150 pixels) exceeds limit of 89478485 pixels, could be decompression bomb DOS attack.\n",
      "  warnings.warn(\n",
      "c:\\Users\\it08d\\.conda\\envs\\scan\\Lib\\site-packages\\PIL\\Image.py:3452: DecompressionBombWarning: Image size (95704112 pixels) exceeds limit of 89478485 pixels, could be decompression bomb DOS attack.\n",
      "  warnings.warn(\n",
      "c:\\Users\\it08d\\.conda\\envs\\scan\\Lib\\site-packages\\PIL\\Image.py:3452: DecompressionBombWarning: Image size (90200910 pixels) exceeds limit of 89478485 pixels, could be decompression bomb DOS attack.\n",
      "  warnings.warn(\n",
      "c:\\Users\\it08d\\.conda\\envs\\scan\\Lib\\site-packages\\PIL\\Image.py:3452: DecompressionBombWarning: Image size (91770354 pixels) exceeds limit of 89478485 pixels, could be decompression bomb DOS attack.\n",
      "  warnings.warn(\n",
      "c:\\Users\\it08d\\.conda\\envs\\scan\\Lib\\site-packages\\PIL\\Image.py:3452: DecompressionBombWarning: Image size (103797988 pixels) exceeds limit of 89478485 pixels, could be decompression bomb DOS attack.\n",
      "  warnings.warn(\n",
      "c:\\Users\\it08d\\.conda\\envs\\scan\\Lib\\site-packages\\PIL\\Image.py:3452: DecompressionBombWarning: Image size (90101102 pixels) exceeds limit of 89478485 pixels, could be decompression bomb DOS attack.\n",
      "  warnings.warn(\n",
      "c:\\Users\\it08d\\.conda\\envs\\scan\\Lib\\site-packages\\PIL\\Image.py:3452: DecompressionBombWarning: Image size (90780800 pixels) exceeds limit of 89478485 pixels, could be decompression bomb DOS attack.\n",
      "  warnings.warn(\n",
      "c:\\Users\\it08d\\.conda\\envs\\scan\\Lib\\site-packages\\PIL\\Image.py:3452: DecompressionBombWarning: Image size (105054196 pixels) exceeds limit of 89478485 pixels, could be decompression bomb DOS attack.\n",
      "  warnings.warn(\n",
      "c:\\Users\\it08d\\.conda\\envs\\scan\\Lib\\site-packages\\PIL\\Image.py:3452: DecompressionBombWarning: Image size (91927966 pixels) exceeds limit of 89478485 pixels, could be decompression bomb DOS attack.\n",
      "  warnings.warn(\n",
      "c:\\Users\\it08d\\.conda\\envs\\scan\\Lib\\site-packages\\PIL\\Image.py:3452: DecompressionBombWarning: Image size (91168330 pixels) exceeds limit of 89478485 pixels, could be decompression bomb DOS attack.\n",
      "  warnings.warn(\n",
      "c:\\Users\\it08d\\.conda\\envs\\scan\\Lib\\site-packages\\PIL\\Image.py:3452: DecompressionBombWarning: Image size (96814600 pixels) exceeds limit of 89478485 pixels, could be decompression bomb DOS attack.\n",
      "  warnings.warn(\n",
      "c:\\Users\\it08d\\.conda\\envs\\scan\\Lib\\site-packages\\PIL\\Image.py:3452: DecompressionBombWarning: Image size (100992234 pixels) exceeds limit of 89478485 pixels, could be decompression bomb DOS attack.\n",
      "  warnings.warn(\n",
      "c:\\Users\\it08d\\.conda\\envs\\scan\\Lib\\site-packages\\PIL\\Image.py:3452: DecompressionBombWarning: Image size (110675556 pixels) exceeds limit of 89478485 pixels, could be decompression bomb DOS attack.\n",
      "  warnings.warn(\n",
      "c:\\Users\\it08d\\.conda\\envs\\scan\\Lib\\site-packages\\PIL\\Image.py:3452: DecompressionBombWarning: Image size (99805424 pixels) exceeds limit of 89478485 pixels, could be decompression bomb DOS attack.\n",
      "  warnings.warn(\n",
      "c:\\Users\\it08d\\.conda\\envs\\scan\\Lib\\site-packages\\PIL\\Image.py:3452: DecompressionBombWarning: Image size (95981184 pixels) exceeds limit of 89478485 pixels, could be decompression bomb DOS attack.\n",
      "  warnings.warn(\n",
      "c:\\Users\\it08d\\.conda\\envs\\scan\\Lib\\site-packages\\PIL\\Image.py:3452: DecompressionBombWarning: Image size (92984409 pixels) exceeds limit of 89478485 pixels, could be decompression bomb DOS attack.\n",
      "  warnings.warn(\n",
      "c:\\Users\\it08d\\.conda\\envs\\scan\\Lib\\site-packages\\PIL\\Image.py:3452: DecompressionBombWarning: Image size (101609761 pixels) exceeds limit of 89478485 pixels, could be decompression bomb DOS attack.\n",
      "  warnings.warn(\n",
      "c:\\Users\\it08d\\.conda\\envs\\scan\\Lib\\site-packages\\PIL\\Image.py:3452: DecompressionBombWarning: Image size (112444956 pixels) exceeds limit of 89478485 pixels, could be decompression bomb DOS attack.\n",
      "  warnings.warn(\n",
      "c:\\Users\\it08d\\.conda\\envs\\scan\\Lib\\site-packages\\PIL\\Image.py:3452: DecompressionBombWarning: Image size (113506527 pixels) exceeds limit of 89478485 pixels, could be decompression bomb DOS attack.\n",
      "  warnings.warn(\n",
      "c:\\Users\\it08d\\.conda\\envs\\scan\\Lib\\site-packages\\PIL\\Image.py:3452: DecompressionBombWarning: Image size (97361680 pixels) exceeds limit of 89478485 pixels, could be decompression bomb DOS attack.\n",
      "  warnings.warn(\n",
      "c:\\Users\\it08d\\.conda\\envs\\scan\\Lib\\site-packages\\PIL\\Image.py:3452: DecompressionBombWarning: Image size (103515550 pixels) exceeds limit of 89478485 pixels, could be decompression bomb DOS attack.\n",
      "  warnings.warn(\n",
      "c:\\Users\\it08d\\.conda\\envs\\scan\\Lib\\site-packages\\PIL\\Image.py:3452: DecompressionBombWarning: Image size (96617976 pixels) exceeds limit of 89478485 pixels, could be decompression bomb DOS attack.\n",
      "  warnings.warn(\n",
      "c:\\Users\\it08d\\.conda\\envs\\scan\\Lib\\site-packages\\PIL\\Image.py:3452: DecompressionBombWarning: Image size (106884271 pixels) exceeds limit of 89478485 pixels, could be decompression bomb DOS attack.\n",
      "  warnings.warn(\n",
      "c:\\Users\\it08d\\.conda\\envs\\scan\\Lib\\site-packages\\PIL\\Image.py:3452: DecompressionBombWarning: Image size (90099996 pixels) exceeds limit of 89478485 pixels, could be decompression bomb DOS attack.\n",
      "  warnings.warn(\n",
      "c:\\Users\\it08d\\.conda\\envs\\scan\\Lib\\site-packages\\PIL\\Image.py:3452: DecompressionBombWarning: Image size (91638840 pixels) exceeds limit of 89478485 pixels, could be decompression bomb DOS attack.\n",
      "  warnings.warn(\n",
      "c:\\Users\\it08d\\.conda\\envs\\scan\\Lib\\site-packages\\PIL\\Image.py:3452: DecompressionBombWarning: Image size (122564337 pixels) exceeds limit of 89478485 pixels, could be decompression bomb DOS attack.\n",
      "  warnings.warn(\n",
      "Epoch 58/100: 100%|██████████| 1/1 [02:57<00:00, 177.48s/it]\n"
     ]
    },
    {
     "name": "stdout",
     "output_type": "stream",
     "text": [
      "Epoch [58/100] Loss: 499999904.0000\n"
     ]
    },
    {
     "name": "stderr",
     "output_type": "stream",
     "text": [
      "Epoch 59/100:   0%|          | 0/1 [00:00<?, ?it/s]c:\\Users\\it08d\\.conda\\envs\\scan\\Lib\\site-packages\\PIL\\Image.py:3452: DecompressionBombWarning: Image size (93446815 pixels) exceeds limit of 89478485 pixels, could be decompression bomb DOS attack.\n",
      "  warnings.warn(\n",
      "c:\\Users\\it08d\\.conda\\envs\\scan\\Lib\\site-packages\\PIL\\Image.py:3452: DecompressionBombWarning: Image size (113491060 pixels) exceeds limit of 89478485 pixels, could be decompression bomb DOS attack.\n",
      "  warnings.warn(\n",
      "c:\\Users\\it08d\\.conda\\envs\\scan\\Lib\\site-packages\\PIL\\Image.py:3452: DecompressionBombWarning: Image size (115180704 pixels) exceeds limit of 89478485 pixels, could be decompression bomb DOS attack.\n",
      "  warnings.warn(\n",
      "c:\\Users\\it08d\\.conda\\envs\\scan\\Lib\\site-packages\\PIL\\Image.py:3452: DecompressionBombWarning: Image size (96336575 pixels) exceeds limit of 89478485 pixels, could be decompression bomb DOS attack.\n",
      "  warnings.warn(\n",
      "c:\\Users\\it08d\\.conda\\envs\\scan\\Lib\\site-packages\\PIL\\Image.py:3452: DecompressionBombWarning: Image size (95143752 pixels) exceeds limit of 89478485 pixels, could be decompression bomb DOS attack.\n",
      "  warnings.warn(\n",
      "c:\\Users\\it08d\\.conda\\envs\\scan\\Lib\\site-packages\\PIL\\Image.py:3452: DecompressionBombWarning: Image size (91217376 pixels) exceeds limit of 89478485 pixels, could be decompression bomb DOS attack.\n",
      "  warnings.warn(\n",
      "c:\\Users\\it08d\\.conda\\envs\\scan\\Lib\\site-packages\\PIL\\Image.py:3452: DecompressionBombWarning: Image size (96964140 pixels) exceeds limit of 89478485 pixels, could be decompression bomb DOS attack.\n",
      "  warnings.warn(\n",
      "c:\\Users\\it08d\\.conda\\envs\\scan\\Lib\\site-packages\\PIL\\Image.py:3452: DecompressionBombWarning: Image size (94683840 pixels) exceeds limit of 89478485 pixels, could be decompression bomb DOS attack.\n",
      "  warnings.warn(\n",
      "c:\\Users\\it08d\\.conda\\envs\\scan\\Lib\\site-packages\\PIL\\Image.py:3452: DecompressionBombWarning: Image size (107361840 pixels) exceeds limit of 89478485 pixels, could be decompression bomb DOS attack.\n",
      "  warnings.warn(\n",
      "c:\\Users\\it08d\\.conda\\envs\\scan\\Lib\\site-packages\\PIL\\Image.py:3452: DecompressionBombWarning: Image size (99670592 pixels) exceeds limit of 89478485 pixels, could be decompression bomb DOS attack.\n",
      "  warnings.warn(\n",
      "c:\\Users\\it08d\\.conda\\envs\\scan\\Lib\\site-packages\\PIL\\Image.py:3452: DecompressionBombWarning: Image size (94654005 pixels) exceeds limit of 89478485 pixels, could be decompression bomb DOS attack.\n",
      "  warnings.warn(\n",
      "c:\\Users\\it08d\\.conda\\envs\\scan\\Lib\\site-packages\\PIL\\Image.py:3452: DecompressionBombWarning: Image size (99709416 pixels) exceeds limit of 89478485 pixels, could be decompression bomb DOS attack.\n",
      "  warnings.warn(\n",
      "c:\\Users\\it08d\\.conda\\envs\\scan\\Lib\\site-packages\\PIL\\Image.py:3452: DecompressionBombWarning: Image size (95445156 pixels) exceeds limit of 89478485 pixels, could be decompression bomb DOS attack.\n",
      "  warnings.warn(\n",
      "c:\\Users\\it08d\\.conda\\envs\\scan\\Lib\\site-packages\\PIL\\Image.py:3452: DecompressionBombWarning: Image size (113340600 pixels) exceeds limit of 89478485 pixels, could be decompression bomb DOS attack.\n",
      "  warnings.warn(\n",
      "c:\\Users\\it08d\\.conda\\envs\\scan\\Lib\\site-packages\\PIL\\Image.py:3452: DecompressionBombWarning: Image size (111491256 pixels) exceeds limit of 89478485 pixels, could be decompression bomb DOS attack.\n",
      "  warnings.warn(\n",
      "c:\\Users\\it08d\\.conda\\envs\\scan\\Lib\\site-packages\\PIL\\Image.py:3452: DecompressionBombWarning: Image size (98668173 pixels) exceeds limit of 89478485 pixels, could be decompression bomb DOS attack.\n",
      "  warnings.warn(\n",
      "c:\\Users\\it08d\\.conda\\envs\\scan\\Lib\\site-packages\\PIL\\Image.py:3452: DecompressionBombWarning: Image size (94007600 pixels) exceeds limit of 89478485 pixels, could be decompression bomb DOS attack.\n",
      "  warnings.warn(\n",
      "c:\\Users\\it08d\\.conda\\envs\\scan\\Lib\\site-packages\\PIL\\Image.py:3452: DecompressionBombWarning: Image size (101384740 pixels) exceeds limit of 89478485 pixels, could be decompression bomb DOS attack.\n",
      "  warnings.warn(\n",
      "c:\\Users\\it08d\\.conda\\envs\\scan\\Lib\\site-packages\\PIL\\Image.py:3452: DecompressionBombWarning: Image size (98880840 pixels) exceeds limit of 89478485 pixels, could be decompression bomb DOS attack.\n",
      "  warnings.warn(\n",
      "c:\\Users\\it08d\\.conda\\envs\\scan\\Lib\\site-packages\\PIL\\Image.py:3452: DecompressionBombWarning: Image size (94163104 pixels) exceeds limit of 89478485 pixels, could be decompression bomb DOS attack.\n",
      "  warnings.warn(\n",
      "c:\\Users\\it08d\\.conda\\envs\\scan\\Lib\\site-packages\\PIL\\Image.py:3452: DecompressionBombWarning: Image size (90913625 pixels) exceeds limit of 89478485 pixels, could be decompression bomb DOS attack.\n",
      "  warnings.warn(\n",
      "c:\\Users\\it08d\\.conda\\envs\\scan\\Lib\\site-packages\\PIL\\Image.py:3452: DecompressionBombWarning: Image size (103790001 pixels) exceeds limit of 89478485 pixels, could be decompression bomb DOS attack.\n",
      "  warnings.warn(\n",
      "c:\\Users\\it08d\\.conda\\envs\\scan\\Lib\\site-packages\\PIL\\Image.py:3452: DecompressionBombWarning: Image size (90059524 pixels) exceeds limit of 89478485 pixels, could be decompression bomb DOS attack.\n",
      "  warnings.warn(\n",
      "c:\\Users\\it08d\\.conda\\envs\\scan\\Lib\\site-packages\\PIL\\Image.py:3452: DecompressionBombWarning: Image size (110390526 pixels) exceeds limit of 89478485 pixels, could be decompression bomb DOS attack.\n",
      "  warnings.warn(\n",
      "c:\\Users\\it08d\\.conda\\envs\\scan\\Lib\\site-packages\\PIL\\Image.py:3452: DecompressionBombWarning: Image size (93305290 pixels) exceeds limit of 89478485 pixels, could be decompression bomb DOS attack.\n",
      "  warnings.warn(\n",
      "c:\\Users\\it08d\\.conda\\envs\\scan\\Lib\\site-packages\\PIL\\Image.py:3452: DecompressionBombWarning: Image size (92987136 pixels) exceeds limit of 89478485 pixels, could be decompression bomb DOS attack.\n",
      "  warnings.warn(\n",
      "c:\\Users\\it08d\\.conda\\envs\\scan\\Lib\\site-packages\\PIL\\Image.py:3452: DecompressionBombWarning: Image size (94205040 pixels) exceeds limit of 89478485 pixels, could be decompression bomb DOS attack.\n",
      "  warnings.warn(\n",
      "c:\\Users\\it08d\\.conda\\envs\\scan\\Lib\\site-packages\\PIL\\Image.py:3452: DecompressionBombWarning: Image size (100518698 pixels) exceeds limit of 89478485 pixels, could be decompression bomb DOS attack.\n",
      "  warnings.warn(\n",
      "Epoch 59/100: 100%|██████████| 1/1 [02:39<00:00, 159.50s/it]\n"
     ]
    },
    {
     "name": "stdout",
     "output_type": "stream",
     "text": [
      "Epoch [59/100] Loss: 499999904.0000\n"
     ]
    },
    {
     "name": "stderr",
     "output_type": "stream",
     "text": [
      "Epoch 60/100:   0%|          | 0/1 [00:00<?, ?it/s]c:\\Users\\it08d\\.conda\\envs\\scan\\Lib\\site-packages\\PIL\\Image.py:3452: DecompressionBombWarning: Image size (116378460 pixels) exceeds limit of 89478485 pixels, could be decompression bomb DOS attack.\n",
      "  warnings.warn(\n",
      "c:\\Users\\it08d\\.conda\\envs\\scan\\Lib\\site-packages\\PIL\\Image.py:3452: DecompressionBombWarning: Image size (97368937 pixels) exceeds limit of 89478485 pixels, could be decompression bomb DOS attack.\n",
      "  warnings.warn(\n",
      "c:\\Users\\it08d\\.conda\\envs\\scan\\Lib\\site-packages\\PIL\\Image.py:3452: DecompressionBombWarning: Image size (90037090 pixels) exceeds limit of 89478485 pixels, could be decompression bomb DOS attack.\n",
      "  warnings.warn(\n",
      "c:\\Users\\it08d\\.conda\\envs\\scan\\Lib\\site-packages\\PIL\\Image.py:3452: DecompressionBombWarning: Image size (96802285 pixels) exceeds limit of 89478485 pixels, could be decompression bomb DOS attack.\n",
      "  warnings.warn(\n",
      "c:\\Users\\it08d\\.conda\\envs\\scan\\Lib\\site-packages\\PIL\\Image.py:3452: DecompressionBombWarning: Image size (95046030 pixels) exceeds limit of 89478485 pixels, could be decompression bomb DOS attack.\n",
      "  warnings.warn(\n",
      "c:\\Users\\it08d\\.conda\\envs\\scan\\Lib\\site-packages\\PIL\\Image.py:3452: DecompressionBombWarning: Image size (105406245 pixels) exceeds limit of 89478485 pixels, could be decompression bomb DOS attack.\n",
      "  warnings.warn(\n",
      "c:\\Users\\it08d\\.conda\\envs\\scan\\Lib\\site-packages\\PIL\\Image.py:3452: DecompressionBombWarning: Image size (105438186 pixels) exceeds limit of 89478485 pixels, could be decompression bomb DOS attack.\n",
      "  warnings.warn(\n",
      "c:\\Users\\it08d\\.conda\\envs\\scan\\Lib\\site-packages\\PIL\\Image.py:3452: DecompressionBombWarning: Image size (114070680 pixels) exceeds limit of 89478485 pixels, could be decompression bomb DOS attack.\n",
      "  warnings.warn(\n",
      "c:\\Users\\it08d\\.conda\\envs\\scan\\Lib\\site-packages\\PIL\\Image.py:3452: DecompressionBombWarning: Image size (96735372 pixels) exceeds limit of 89478485 pixels, could be decompression bomb DOS attack.\n",
      "  warnings.warn(\n",
      "c:\\Users\\it08d\\.conda\\envs\\scan\\Lib\\site-packages\\PIL\\Image.py:3452: DecompressionBombWarning: Image size (109113140 pixels) exceeds limit of 89478485 pixels, could be decompression bomb DOS attack.\n",
      "  warnings.warn(\n",
      "c:\\Users\\it08d\\.conda\\envs\\scan\\Lib\\site-packages\\PIL\\Image.py:3452: DecompressionBombWarning: Image size (103195950 pixels) exceeds limit of 89478485 pixels, could be decompression bomb DOS attack.\n",
      "  warnings.warn(\n",
      "c:\\Users\\it08d\\.conda\\envs\\scan\\Lib\\site-packages\\PIL\\Image.py:3452: DecompressionBombWarning: Image size (101432640 pixels) exceeds limit of 89478485 pixels, could be decompression bomb DOS attack.\n",
      "  warnings.warn(\n",
      "c:\\Users\\it08d\\.conda\\envs\\scan\\Lib\\site-packages\\PIL\\Image.py:3452: DecompressionBombWarning: Image size (89894484 pixels) exceeds limit of 89478485 pixels, could be decompression bomb DOS attack.\n",
      "  warnings.warn(\n",
      "c:\\Users\\it08d\\.conda\\envs\\scan\\Lib\\site-packages\\PIL\\Image.py:3452: DecompressionBombWarning: Image size (109064627 pixels) exceeds limit of 89478485 pixels, could be decompression bomb DOS attack.\n",
      "  warnings.warn(\n",
      "c:\\Users\\it08d\\.conda\\envs\\scan\\Lib\\site-packages\\PIL\\Image.py:3452: DecompressionBombWarning: Image size (102699531 pixels) exceeds limit of 89478485 pixels, could be decompression bomb DOS attack.\n",
      "  warnings.warn(\n",
      "c:\\Users\\it08d\\.conda\\envs\\scan\\Lib\\site-packages\\PIL\\Image.py:3452: DecompressionBombWarning: Image size (109503904 pixels) exceeds limit of 89478485 pixels, could be decompression bomb DOS attack.\n",
      "  warnings.warn(\n",
      "c:\\Users\\it08d\\.conda\\envs\\scan\\Lib\\site-packages\\PIL\\Image.py:3452: DecompressionBombWarning: Image size (104431830 pixels) exceeds limit of 89478485 pixels, could be decompression bomb DOS attack.\n",
      "  warnings.warn(\n",
      "c:\\Users\\it08d\\.conda\\envs\\scan\\Lib\\site-packages\\PIL\\Image.py:3452: DecompressionBombWarning: Image size (105661062 pixels) exceeds limit of 89478485 pixels, could be decompression bomb DOS attack.\n",
      "  warnings.warn(\n",
      "c:\\Users\\it08d\\.conda\\envs\\scan\\Lib\\site-packages\\PIL\\Image.py:3452: DecompressionBombWarning: Image size (102573359 pixels) exceeds limit of 89478485 pixels, could be decompression bomb DOS attack.\n",
      "  warnings.warn(\n",
      "c:\\Users\\it08d\\.conda\\envs\\scan\\Lib\\site-packages\\PIL\\Image.py:3452: DecompressionBombWarning: Image size (104668164 pixels) exceeds limit of 89478485 pixels, could be decompression bomb DOS attack.\n",
      "  warnings.warn(\n",
      "c:\\Users\\it08d\\.conda\\envs\\scan\\Lib\\site-packages\\PIL\\Image.py:3452: DecompressionBombWarning: Image size (95058990 pixels) exceeds limit of 89478485 pixels, could be decompression bomb DOS attack.\n",
      "  warnings.warn(\n",
      "c:\\Users\\it08d\\.conda\\envs\\scan\\Lib\\site-packages\\PIL\\Image.py:3452: DecompressionBombWarning: Image size (116061660 pixels) exceeds limit of 89478485 pixels, could be decompression bomb DOS attack.\n",
      "  warnings.warn(\n",
      "c:\\Users\\it08d\\.conda\\envs\\scan\\Lib\\site-packages\\PIL\\Image.py:3452: DecompressionBombWarning: Image size (91427820 pixels) exceeds limit of 89478485 pixels, could be decompression bomb DOS attack.\n",
      "  warnings.warn(\n",
      "c:\\Users\\it08d\\.conda\\envs\\scan\\Lib\\site-packages\\PIL\\Image.py:3452: DecompressionBombWarning: Image size (94400670 pixels) exceeds limit of 89478485 pixels, could be decompression bomb DOS attack.\n",
      "  warnings.warn(\n",
      "c:\\Users\\it08d\\.conda\\envs\\scan\\Lib\\site-packages\\PIL\\Image.py:3452: DecompressionBombWarning: Image size (108454104 pixels) exceeds limit of 89478485 pixels, could be decompression bomb DOS attack.\n",
      "  warnings.warn(\n",
      "Epoch 60/100: 100%|██████████| 1/1 [02:31<00:00, 151.88s/it]\n"
     ]
    },
    {
     "name": "stdout",
     "output_type": "stream",
     "text": [
      "Epoch [60/100] Loss: 499999904.0000\n"
     ]
    },
    {
     "name": "stderr",
     "output_type": "stream",
     "text": [
      "Epoch 61/100:   0%|          | 0/1 [00:00<?, ?it/s]c:\\Users\\it08d\\.conda\\envs\\scan\\Lib\\site-packages\\PIL\\Image.py:3452: DecompressionBombWarning: Image size (92218837 pixels) exceeds limit of 89478485 pixels, could be decompression bomb DOS attack.\n",
      "  warnings.warn(\n",
      "c:\\Users\\it08d\\.conda\\envs\\scan\\Lib\\site-packages\\PIL\\Image.py:3452: DecompressionBombWarning: Image size (98333893 pixels) exceeds limit of 89478485 pixels, could be decompression bomb DOS attack.\n",
      "  warnings.warn(\n",
      "c:\\Users\\it08d\\.conda\\envs\\scan\\Lib\\site-packages\\PIL\\Image.py:3452: DecompressionBombWarning: Image size (109989480 pixels) exceeds limit of 89478485 pixels, could be decompression bomb DOS attack.\n",
      "  warnings.warn(\n",
      "c:\\Users\\it08d\\.conda\\envs\\scan\\Lib\\site-packages\\PIL\\Image.py:3452: DecompressionBombWarning: Image size (108421733 pixels) exceeds limit of 89478485 pixels, could be decompression bomb DOS attack.\n",
      "  warnings.warn(\n",
      "c:\\Users\\it08d\\.conda\\envs\\scan\\Lib\\site-packages\\PIL\\Image.py:3452: DecompressionBombWarning: Image size (94605632 pixels) exceeds limit of 89478485 pixels, could be decompression bomb DOS attack.\n",
      "  warnings.warn(\n",
      "c:\\Users\\it08d\\.conda\\envs\\scan\\Lib\\site-packages\\PIL\\Image.py:3452: DecompressionBombWarning: Image size (108851550 pixels) exceeds limit of 89478485 pixels, could be decompression bomb DOS attack.\n",
      "  warnings.warn(\n",
      "c:\\Users\\it08d\\.conda\\envs\\scan\\Lib\\site-packages\\PIL\\Image.py:3452: DecompressionBombWarning: Image size (95633419 pixels) exceeds limit of 89478485 pixels, could be decompression bomb DOS attack.\n",
      "  warnings.warn(\n",
      "c:\\Users\\it08d\\.conda\\envs\\scan\\Lib\\site-packages\\PIL\\Image.py:3452: DecompressionBombWarning: Image size (97094400 pixels) exceeds limit of 89478485 pixels, could be decompression bomb DOS attack.\n",
      "  warnings.warn(\n",
      "c:\\Users\\it08d\\.conda\\envs\\scan\\Lib\\site-packages\\PIL\\Image.py:3452: DecompressionBombWarning: Image size (102778963 pixels) exceeds limit of 89478485 pixels, could be decompression bomb DOS attack.\n",
      "  warnings.warn(\n",
      "c:\\Users\\it08d\\.conda\\envs\\scan\\Lib\\site-packages\\PIL\\Image.py:3452: DecompressionBombWarning: Image size (95525252 pixels) exceeds limit of 89478485 pixels, could be decompression bomb DOS attack.\n",
      "  warnings.warn(\n",
      "c:\\Users\\it08d\\.conda\\envs\\scan\\Lib\\site-packages\\PIL\\Image.py:3452: DecompressionBombWarning: Image size (108891802 pixels) exceeds limit of 89478485 pixels, could be decompression bomb DOS attack.\n",
      "  warnings.warn(\n",
      "c:\\Users\\it08d\\.conda\\envs\\scan\\Lib\\site-packages\\PIL\\Image.py:3452: DecompressionBombWarning: Image size (96323160 pixels) exceeds limit of 89478485 pixels, could be decompression bomb DOS attack.\n",
      "  warnings.warn(\n",
      "c:\\Users\\it08d\\.conda\\envs\\scan\\Lib\\site-packages\\PIL\\Image.py:3452: DecompressionBombWarning: Image size (95193272 pixels) exceeds limit of 89478485 pixels, could be decompression bomb DOS attack.\n",
      "  warnings.warn(\n",
      "c:\\Users\\it08d\\.conda\\envs\\scan\\Lib\\site-packages\\PIL\\Image.py:3452: DecompressionBombWarning: Image size (104930424 pixels) exceeds limit of 89478485 pixels, could be decompression bomb DOS attack.\n",
      "  warnings.warn(\n",
      "c:\\Users\\it08d\\.conda\\envs\\scan\\Lib\\site-packages\\PIL\\Image.py:3452: DecompressionBombWarning: Image size (94344796 pixels) exceeds limit of 89478485 pixels, could be decompression bomb DOS attack.\n",
      "  warnings.warn(\n",
      "c:\\Users\\it08d\\.conda\\envs\\scan\\Lib\\site-packages\\PIL\\Image.py:3452: DecompressionBombWarning: Image size (91613258 pixels) exceeds limit of 89478485 pixels, could be decompression bomb DOS attack.\n",
      "  warnings.warn(\n",
      "c:\\Users\\it08d\\.conda\\envs\\scan\\Lib\\site-packages\\PIL\\Image.py:3452: DecompressionBombWarning: Image size (103078782 pixels) exceeds limit of 89478485 pixels, could be decompression bomb DOS attack.\n",
      "  warnings.warn(\n",
      "c:\\Users\\it08d\\.conda\\envs\\scan\\Lib\\site-packages\\PIL\\Image.py:3452: DecompressionBombWarning: Image size (99255545 pixels) exceeds limit of 89478485 pixels, could be decompression bomb DOS attack.\n",
      "  warnings.warn(\n",
      "c:\\Users\\it08d\\.conda\\envs\\scan\\Lib\\site-packages\\PIL\\Image.py:3452: DecompressionBombWarning: Image size (104984880 pixels) exceeds limit of 89478485 pixels, could be decompression bomb DOS attack.\n",
      "  warnings.warn(\n",
      "c:\\Users\\it08d\\.conda\\envs\\scan\\Lib\\site-packages\\PIL\\Image.py:3452: DecompressionBombWarning: Image size (93747143 pixels) exceeds limit of 89478485 pixels, could be decompression bomb DOS attack.\n",
      "  warnings.warn(\n",
      "c:\\Users\\it08d\\.conda\\envs\\scan\\Lib\\site-packages\\PIL\\Image.py:3452: DecompressionBombWarning: Image size (94888662 pixels) exceeds limit of 89478485 pixels, could be decompression bomb DOS attack.\n",
      "  warnings.warn(\n",
      "c:\\Users\\it08d\\.conda\\envs\\scan\\Lib\\site-packages\\PIL\\Image.py:3452: DecompressionBombWarning: Image size (109683423 pixels) exceeds limit of 89478485 pixels, could be decompression bomb DOS attack.\n",
      "  warnings.warn(\n",
      "Epoch 61/100: 100%|██████████| 1/1 [02:37<00:00, 157.97s/it]\n"
     ]
    },
    {
     "name": "stdout",
     "output_type": "stream",
     "text": [
      "Epoch [61/100] Loss: 499999904.0000\n"
     ]
    },
    {
     "name": "stderr",
     "output_type": "stream",
     "text": [
      "Epoch 62/100:   0%|          | 0/1 [00:00<?, ?it/s]c:\\Users\\it08d\\.conda\\envs\\scan\\Lib\\site-packages\\PIL\\Image.py:3452: DecompressionBombWarning: Image size (110821114 pixels) exceeds limit of 89478485 pixels, could be decompression bomb DOS attack.\n",
      "  warnings.warn(\n",
      "c:\\Users\\it08d\\.conda\\envs\\scan\\Lib\\site-packages\\PIL\\Image.py:3452: DecompressionBombWarning: Image size (112094880 pixels) exceeds limit of 89478485 pixels, could be decompression bomb DOS attack.\n",
      "  warnings.warn(\n",
      "c:\\Users\\it08d\\.conda\\envs\\scan\\Lib\\site-packages\\PIL\\Image.py:3452: DecompressionBombWarning: Image size (101224523 pixels) exceeds limit of 89478485 pixels, could be decompression bomb DOS attack.\n",
      "  warnings.warn(\n",
      "c:\\Users\\it08d\\.conda\\envs\\scan\\Lib\\site-packages\\PIL\\Image.py:3452: DecompressionBombWarning: Image size (111162240 pixels) exceeds limit of 89478485 pixels, could be decompression bomb DOS attack.\n",
      "  warnings.warn(\n",
      "c:\\Users\\it08d\\.conda\\envs\\scan\\Lib\\site-packages\\PIL\\Image.py:3452: DecompressionBombWarning: Image size (95481422 pixels) exceeds limit of 89478485 pixels, could be decompression bomb DOS attack.\n",
      "  warnings.warn(\n",
      "c:\\Users\\it08d\\.conda\\envs\\scan\\Lib\\site-packages\\PIL\\Image.py:3452: DecompressionBombWarning: Image size (117584592 pixels) exceeds limit of 89478485 pixels, could be decompression bomb DOS attack.\n",
      "  warnings.warn(\n",
      "c:\\Users\\it08d\\.conda\\envs\\scan\\Lib\\site-packages\\PIL\\Image.py:3452: DecompressionBombWarning: Image size (115918495 pixels) exceeds limit of 89478485 pixels, could be decompression bomb DOS attack.\n",
      "  warnings.warn(\n",
      "c:\\Users\\it08d\\.conda\\envs\\scan\\Lib\\site-packages\\PIL\\Image.py:3452: DecompressionBombWarning: Image size (104241277 pixels) exceeds limit of 89478485 pixels, could be decompression bomb DOS attack.\n",
      "  warnings.warn(\n",
      "c:\\Users\\it08d\\.conda\\envs\\scan\\Lib\\site-packages\\PIL\\Image.py:3452: DecompressionBombWarning: Image size (107364096 pixels) exceeds limit of 89478485 pixels, could be decompression bomb DOS attack.\n",
      "  warnings.warn(\n",
      "c:\\Users\\it08d\\.conda\\envs\\scan\\Lib\\site-packages\\PIL\\Image.py:3452: DecompressionBombWarning: Image size (109118075 pixels) exceeds limit of 89478485 pixels, could be decompression bomb DOS attack.\n",
      "  warnings.warn(\n",
      "c:\\Users\\it08d\\.conda\\envs\\scan\\Lib\\site-packages\\PIL\\Image.py:3452: DecompressionBombWarning: Image size (99066412 pixels) exceeds limit of 89478485 pixels, could be decompression bomb DOS attack.\n",
      "  warnings.warn(\n",
      "c:\\Users\\it08d\\.conda\\envs\\scan\\Lib\\site-packages\\PIL\\Image.py:3452: DecompressionBombWarning: Image size (90525512 pixels) exceeds limit of 89478485 pixels, could be decompression bomb DOS attack.\n",
      "  warnings.warn(\n",
      "c:\\Users\\it08d\\.conda\\envs\\scan\\Lib\\site-packages\\PIL\\Image.py:3452: DecompressionBombWarning: Image size (100859760 pixels) exceeds limit of 89478485 pixels, could be decompression bomb DOS attack.\n",
      "  warnings.warn(\n",
      "c:\\Users\\it08d\\.conda\\envs\\scan\\Lib\\site-packages\\PIL\\Image.py:3452: DecompressionBombWarning: Image size (97920824 pixels) exceeds limit of 89478485 pixels, could be decompression bomb DOS attack.\n",
      "  warnings.warn(\n",
      "c:\\Users\\it08d\\.conda\\envs\\scan\\Lib\\site-packages\\PIL\\Image.py:3452: DecompressionBombWarning: Image size (115088056 pixels) exceeds limit of 89478485 pixels, could be decompression bomb DOS attack.\n",
      "  warnings.warn(\n",
      "c:\\Users\\it08d\\.conda\\envs\\scan\\Lib\\site-packages\\PIL\\Image.py:3452: DecompressionBombWarning: Image size (117420336 pixels) exceeds limit of 89478485 pixels, could be decompression bomb DOS attack.\n",
      "  warnings.warn(\n",
      "c:\\Users\\it08d\\.conda\\envs\\scan\\Lib\\site-packages\\PIL\\Image.py:3452: DecompressionBombWarning: Image size (100667160 pixels) exceeds limit of 89478485 pixels, could be decompression bomb DOS attack.\n",
      "  warnings.warn(\n",
      "c:\\Users\\it08d\\.conda\\envs\\scan\\Lib\\site-packages\\PIL\\Image.py:3452: DecompressionBombWarning: Image size (121184622 pixels) exceeds limit of 89478485 pixels, could be decompression bomb DOS attack.\n",
      "  warnings.warn(\n",
      "c:\\Users\\it08d\\.conda\\envs\\scan\\Lib\\site-packages\\PIL\\Image.py:3452: DecompressionBombWarning: Image size (94751488 pixels) exceeds limit of 89478485 pixels, could be decompression bomb DOS attack.\n",
      "  warnings.warn(\n",
      "c:\\Users\\it08d\\.conda\\envs\\scan\\Lib\\site-packages\\PIL\\Image.py:3452: DecompressionBombWarning: Image size (94170900 pixels) exceeds limit of 89478485 pixels, could be decompression bomb DOS attack.\n",
      "  warnings.warn(\n",
      "c:\\Users\\it08d\\.conda\\envs\\scan\\Lib\\site-packages\\PIL\\Image.py:3452: DecompressionBombWarning: Image size (116617776 pixels) exceeds limit of 89478485 pixels, could be decompression bomb DOS attack.\n",
      "  warnings.warn(\n",
      "c:\\Users\\it08d\\.conda\\envs\\scan\\Lib\\site-packages\\PIL\\Image.py:3452: DecompressionBombWarning: Image size (108678081 pixels) exceeds limit of 89478485 pixels, could be decompression bomb DOS attack.\n",
      "  warnings.warn(\n",
      "c:\\Users\\it08d\\.conda\\envs\\scan\\Lib\\site-packages\\PIL\\Image.py:3452: DecompressionBombWarning: Image size (102008830 pixels) exceeds limit of 89478485 pixels, could be decompression bomb DOS attack.\n",
      "  warnings.warn(\n",
      "c:\\Users\\it08d\\.conda\\envs\\scan\\Lib\\site-packages\\PIL\\Image.py:3452: DecompressionBombWarning: Image size (100264406 pixels) exceeds limit of 89478485 pixels, could be decompression bomb DOS attack.\n",
      "  warnings.warn(\n",
      "c:\\Users\\it08d\\.conda\\envs\\scan\\Lib\\site-packages\\PIL\\Image.py:3452: DecompressionBombWarning: Image size (101346588 pixels) exceeds limit of 89478485 pixels, could be decompression bomb DOS attack.\n",
      "  warnings.warn(\n",
      "c:\\Users\\it08d\\.conda\\envs\\scan\\Lib\\site-packages\\PIL\\Image.py:3452: DecompressionBombWarning: Image size (101243233 pixels) exceeds limit of 89478485 pixels, could be decompression bomb DOS attack.\n",
      "  warnings.warn(\n",
      "c:\\Users\\it08d\\.conda\\envs\\scan\\Lib\\site-packages\\PIL\\Image.py:3452: DecompressionBombWarning: Image size (103296754 pixels) exceeds limit of 89478485 pixels, could be decompression bomb DOS attack.\n",
      "  warnings.warn(\n",
      "Epoch 62/100: 100%|██████████| 1/1 [02:44<00:00, 164.69s/it]\n"
     ]
    },
    {
     "name": "stdout",
     "output_type": "stream",
     "text": [
      "Epoch [62/100] Loss: 499999904.0000\n"
     ]
    },
    {
     "name": "stderr",
     "output_type": "stream",
     "text": [
      "Epoch 63/100:   0%|          | 0/1 [00:00<?, ?it/s]c:\\Users\\it08d\\.conda\\envs\\scan\\Lib\\site-packages\\PIL\\Image.py:3452: DecompressionBombWarning: Image size (91523980 pixels) exceeds limit of 89478485 pixels, could be decompression bomb DOS attack.\n",
      "  warnings.warn(\n",
      "c:\\Users\\it08d\\.conda\\envs\\scan\\Lib\\site-packages\\PIL\\Image.py:3452: DecompressionBombWarning: Image size (108168960 pixels) exceeds limit of 89478485 pixels, could be decompression bomb DOS attack.\n",
      "  warnings.warn(\n",
      "c:\\Users\\it08d\\.conda\\envs\\scan\\Lib\\site-packages\\PIL\\Image.py:3452: DecompressionBombWarning: Image size (105764796 pixels) exceeds limit of 89478485 pixels, could be decompression bomb DOS attack.\n",
      "  warnings.warn(\n",
      "c:\\Users\\it08d\\.conda\\envs\\scan\\Lib\\site-packages\\PIL\\Image.py:3452: DecompressionBombWarning: Image size (107788227 pixels) exceeds limit of 89478485 pixels, could be decompression bomb DOS attack.\n",
      "  warnings.warn(\n",
      "c:\\Users\\it08d\\.conda\\envs\\scan\\Lib\\site-packages\\PIL\\Image.py:3452: DecompressionBombWarning: Image size (93414048 pixels) exceeds limit of 89478485 pixels, could be decompression bomb DOS attack.\n",
      "  warnings.warn(\n",
      "c:\\Users\\it08d\\.conda\\envs\\scan\\Lib\\site-packages\\PIL\\Image.py:3452: DecompressionBombWarning: Image size (99603802 pixels) exceeds limit of 89478485 pixels, could be decompression bomb DOS attack.\n",
      "  warnings.warn(\n",
      "c:\\Users\\it08d\\.conda\\envs\\scan\\Lib\\site-packages\\PIL\\Image.py:3452: DecompressionBombWarning: Image size (91953540 pixels) exceeds limit of 89478485 pixels, could be decompression bomb DOS attack.\n",
      "  warnings.warn(\n",
      "c:\\Users\\it08d\\.conda\\envs\\scan\\Lib\\site-packages\\PIL\\Image.py:3452: DecompressionBombWarning: Image size (105059864 pixels) exceeds limit of 89478485 pixels, could be decompression bomb DOS attack.\n",
      "  warnings.warn(\n",
      "c:\\Users\\it08d\\.conda\\envs\\scan\\Lib\\site-packages\\PIL\\Image.py:3452: DecompressionBombWarning: Image size (101200400 pixels) exceeds limit of 89478485 pixels, could be decompression bomb DOS attack.\n",
      "  warnings.warn(\n",
      "c:\\Users\\it08d\\.conda\\envs\\scan\\Lib\\site-packages\\PIL\\Image.py:3452: DecompressionBombWarning: Image size (92595100 pixels) exceeds limit of 89478485 pixels, could be decompression bomb DOS attack.\n",
      "  warnings.warn(\n",
      "c:\\Users\\it08d\\.conda\\envs\\scan\\Lib\\site-packages\\PIL\\Image.py:3452: DecompressionBombWarning: Image size (114497460 pixels) exceeds limit of 89478485 pixels, could be decompression bomb DOS attack.\n",
      "  warnings.warn(\n",
      "c:\\Users\\it08d\\.conda\\envs\\scan\\Lib\\site-packages\\PIL\\Image.py:3452: DecompressionBombWarning: Image size (92964800 pixels) exceeds limit of 89478485 pixels, could be decompression bomb DOS attack.\n",
      "  warnings.warn(\n",
      "c:\\Users\\it08d\\.conda\\envs\\scan\\Lib\\site-packages\\PIL\\Image.py:3452: DecompressionBombWarning: Image size (95618682 pixels) exceeds limit of 89478485 pixels, could be decompression bomb DOS attack.\n",
      "  warnings.warn(\n",
      "c:\\Users\\it08d\\.conda\\envs\\scan\\Lib\\site-packages\\PIL\\Image.py:3452: DecompressionBombWarning: Image size (89885050 pixels) exceeds limit of 89478485 pixels, could be decompression bomb DOS attack.\n",
      "  warnings.warn(\n",
      "c:\\Users\\it08d\\.conda\\envs\\scan\\Lib\\site-packages\\PIL\\Image.py:3452: DecompressionBombWarning: Image size (96648090 pixels) exceeds limit of 89478485 pixels, could be decompression bomb DOS attack.\n",
      "  warnings.warn(\n",
      "c:\\Users\\it08d\\.conda\\envs\\scan\\Lib\\site-packages\\PIL\\Image.py:3452: DecompressionBombWarning: Image size (94249920 pixels) exceeds limit of 89478485 pixels, could be decompression bomb DOS attack.\n",
      "  warnings.warn(\n",
      "c:\\Users\\it08d\\.conda\\envs\\scan\\Lib\\site-packages\\PIL\\Image.py:3452: DecompressionBombWarning: Image size (99162010 pixels) exceeds limit of 89478485 pixels, could be decompression bomb DOS attack.\n",
      "  warnings.warn(\n",
      "c:\\Users\\it08d\\.conda\\envs\\scan\\Lib\\site-packages\\PIL\\Image.py:3452: DecompressionBombWarning: Image size (94885648 pixels) exceeds limit of 89478485 pixels, could be decompression bomb DOS attack.\n",
      "  warnings.warn(\n",
      "c:\\Users\\it08d\\.conda\\envs\\scan\\Lib\\site-packages\\PIL\\Image.py:3452: DecompressionBombWarning: Image size (94552955 pixels) exceeds limit of 89478485 pixels, could be decompression bomb DOS attack.\n",
      "  warnings.warn(\n",
      "c:\\Users\\it08d\\.conda\\envs\\scan\\Lib\\site-packages\\PIL\\Image.py:3452: DecompressionBombWarning: Image size (108169295 pixels) exceeds limit of 89478485 pixels, could be decompression bomb DOS attack.\n",
      "  warnings.warn(\n",
      "c:\\Users\\it08d\\.conda\\envs\\scan\\Lib\\site-packages\\PIL\\Image.py:3452: DecompressionBombWarning: Image size (89563107 pixels) exceeds limit of 89478485 pixels, could be decompression bomb DOS attack.\n",
      "  warnings.warn(\n",
      "c:\\Users\\it08d\\.conda\\envs\\scan\\Lib\\site-packages\\PIL\\Image.py:3452: DecompressionBombWarning: Image size (95578080 pixels) exceeds limit of 89478485 pixels, could be decompression bomb DOS attack.\n",
      "  warnings.warn(\n",
      "c:\\Users\\it08d\\.conda\\envs\\scan\\Lib\\site-packages\\PIL\\Image.py:3452: DecompressionBombWarning: Image size (89552000 pixels) exceeds limit of 89478485 pixels, could be decompression bomb DOS attack.\n",
      "  warnings.warn(\n",
      "c:\\Users\\it08d\\.conda\\envs\\scan\\Lib\\site-packages\\PIL\\Image.py:3452: DecompressionBombWarning: Image size (96120570 pixels) exceeds limit of 89478485 pixels, could be decompression bomb DOS attack.\n",
      "  warnings.warn(\n",
      "c:\\Users\\it08d\\.conda\\envs\\scan\\Lib\\site-packages\\PIL\\Image.py:3452: DecompressionBombWarning: Image size (96100143 pixels) exceeds limit of 89478485 pixels, could be decompression bomb DOS attack.\n",
      "  warnings.warn(\n",
      "Epoch 63/100: 100%|██████████| 1/1 [02:34<00:00, 154.69s/it]\n"
     ]
    },
    {
     "name": "stdout",
     "output_type": "stream",
     "text": [
      "Epoch [63/100] Loss: 499999904.0000\n"
     ]
    },
    {
     "name": "stderr",
     "output_type": "stream",
     "text": [
      "Epoch 64/100:   0%|          | 0/1 [00:00<?, ?it/s]c:\\Users\\it08d\\.conda\\envs\\scan\\Lib\\site-packages\\PIL\\Image.py:3452: DecompressionBombWarning: Image size (94514168 pixels) exceeds limit of 89478485 pixels, could be decompression bomb DOS attack.\n",
      "  warnings.warn(\n",
      "c:\\Users\\it08d\\.conda\\envs\\scan\\Lib\\site-packages\\PIL\\Image.py:3452: DecompressionBombWarning: Image size (99152504 pixels) exceeds limit of 89478485 pixels, could be decompression bomb DOS attack.\n",
      "  warnings.warn(\n",
      "c:\\Users\\it08d\\.conda\\envs\\scan\\Lib\\site-packages\\PIL\\Image.py:3452: DecompressionBombWarning: Image size (112140134 pixels) exceeds limit of 89478485 pixels, could be decompression bomb DOS attack.\n",
      "  warnings.warn(\n",
      "c:\\Users\\it08d\\.conda\\envs\\scan\\Lib\\site-packages\\PIL\\Image.py:3452: DecompressionBombWarning: Image size (100361222 pixels) exceeds limit of 89478485 pixels, could be decompression bomb DOS attack.\n",
      "  warnings.warn(\n",
      "c:\\Users\\it08d\\.conda\\envs\\scan\\Lib\\site-packages\\PIL\\Image.py:3452: DecompressionBombWarning: Image size (108672003 pixels) exceeds limit of 89478485 pixels, could be decompression bomb DOS attack.\n",
      "  warnings.warn(\n",
      "c:\\Users\\it08d\\.conda\\envs\\scan\\Lib\\site-packages\\PIL\\Image.py:3452: DecompressionBombWarning: Image size (100659328 pixels) exceeds limit of 89478485 pixels, could be decompression bomb DOS attack.\n",
      "  warnings.warn(\n",
      "c:\\Users\\it08d\\.conda\\envs\\scan\\Lib\\site-packages\\PIL\\Image.py:3452: DecompressionBombWarning: Image size (106708575 pixels) exceeds limit of 89478485 pixels, could be decompression bomb DOS attack.\n",
      "  warnings.warn(\n",
      "c:\\Users\\it08d\\.conda\\envs\\scan\\Lib\\site-packages\\PIL\\Image.py:3452: DecompressionBombWarning: Image size (104902212 pixels) exceeds limit of 89478485 pixels, could be decompression bomb DOS attack.\n",
      "  warnings.warn(\n",
      "c:\\Users\\it08d\\.conda\\envs\\scan\\Lib\\site-packages\\PIL\\Image.py:3452: DecompressionBombWarning: Image size (100546020 pixels) exceeds limit of 89478485 pixels, could be decompression bomb DOS attack.\n",
      "  warnings.warn(\n",
      "c:\\Users\\it08d\\.conda\\envs\\scan\\Lib\\site-packages\\PIL\\Image.py:3452: DecompressionBombWarning: Image size (97461440 pixels) exceeds limit of 89478485 pixels, could be decompression bomb DOS attack.\n",
      "  warnings.warn(\n",
      "c:\\Users\\it08d\\.conda\\envs\\scan\\Lib\\site-packages\\PIL\\Image.py:3452: DecompressionBombWarning: Image size (90253647 pixels) exceeds limit of 89478485 pixels, could be decompression bomb DOS attack.\n",
      "  warnings.warn(\n",
      "c:\\Users\\it08d\\.conda\\envs\\scan\\Lib\\site-packages\\PIL\\Image.py:3452: DecompressionBombWarning: Image size (111702720 pixels) exceeds limit of 89478485 pixels, could be decompression bomb DOS attack.\n",
      "  warnings.warn(\n",
      "c:\\Users\\it08d\\.conda\\envs\\scan\\Lib\\site-packages\\PIL\\Image.py:3452: DecompressionBombWarning: Image size (90400596 pixels) exceeds limit of 89478485 pixels, could be decompression bomb DOS attack.\n",
      "  warnings.warn(\n",
      "c:\\Users\\it08d\\.conda\\envs\\scan\\Lib\\site-packages\\PIL\\Image.py:3452: DecompressionBombWarning: Image size (99249042 pixels) exceeds limit of 89478485 pixels, could be decompression bomb DOS attack.\n",
      "  warnings.warn(\n",
      "c:\\Users\\it08d\\.conda\\envs\\scan\\Lib\\site-packages\\PIL\\Image.py:3452: DecompressionBombWarning: Image size (116326668 pixels) exceeds limit of 89478485 pixels, could be decompression bomb DOS attack.\n",
      "  warnings.warn(\n",
      "c:\\Users\\it08d\\.conda\\envs\\scan\\Lib\\site-packages\\PIL\\Image.py:3452: DecompressionBombWarning: Image size (98456116 pixels) exceeds limit of 89478485 pixels, could be decompression bomb DOS attack.\n",
      "  warnings.warn(\n",
      "c:\\Users\\it08d\\.conda\\envs\\scan\\Lib\\site-packages\\PIL\\Image.py:3452: DecompressionBombWarning: Image size (97076769 pixels) exceeds limit of 89478485 pixels, could be decompression bomb DOS attack.\n",
      "  warnings.warn(\n",
      "c:\\Users\\it08d\\.conda\\envs\\scan\\Lib\\site-packages\\PIL\\Image.py:3452: DecompressionBombWarning: Image size (104083896 pixels) exceeds limit of 89478485 pixels, could be decompression bomb DOS attack.\n",
      "  warnings.warn(\n",
      "c:\\Users\\it08d\\.conda\\envs\\scan\\Lib\\site-packages\\PIL\\Image.py:3452: DecompressionBombWarning: Image size (120283500 pixels) exceeds limit of 89478485 pixels, could be decompression bomb DOS attack.\n",
      "  warnings.warn(\n",
      "c:\\Users\\it08d\\.conda\\envs\\scan\\Lib\\site-packages\\PIL\\Image.py:3452: DecompressionBombWarning: Image size (99116656 pixels) exceeds limit of 89478485 pixels, could be decompression bomb DOS attack.\n",
      "  warnings.warn(\n",
      "c:\\Users\\it08d\\.conda\\envs\\scan\\Lib\\site-packages\\PIL\\Image.py:3452: DecompressionBombWarning: Image size (107835960 pixels) exceeds limit of 89478485 pixels, could be decompression bomb DOS attack.\n",
      "  warnings.warn(\n",
      "c:\\Users\\it08d\\.conda\\envs\\scan\\Lib\\site-packages\\PIL\\Image.py:3452: DecompressionBombWarning: Image size (103091582 pixels) exceeds limit of 89478485 pixels, could be decompression bomb DOS attack.\n",
      "  warnings.warn(\n",
      "c:\\Users\\it08d\\.conda\\envs\\scan\\Lib\\site-packages\\PIL\\Image.py:3452: DecompressionBombWarning: Image size (99462810 pixels) exceeds limit of 89478485 pixels, could be decompression bomb DOS attack.\n",
      "  warnings.warn(\n",
      "c:\\Users\\it08d\\.conda\\envs\\scan\\Lib\\site-packages\\PIL\\Image.py:3452: DecompressionBombWarning: Image size (89548092 pixels) exceeds limit of 89478485 pixels, could be decompression bomb DOS attack.\n",
      "  warnings.warn(\n",
      "c:\\Users\\it08d\\.conda\\envs\\scan\\Lib\\site-packages\\PIL\\Image.py:3452: DecompressionBombWarning: Image size (110416543 pixels) exceeds limit of 89478485 pixels, could be decompression bomb DOS attack.\n",
      "  warnings.warn(\n",
      "c:\\Users\\it08d\\.conda\\envs\\scan\\Lib\\site-packages\\PIL\\Image.py:3452: DecompressionBombWarning: Image size (96051972 pixels) exceeds limit of 89478485 pixels, could be decompression bomb DOS attack.\n",
      "  warnings.warn(\n",
      "Epoch 64/100: 100%|██████████| 1/1 [02:26<00:00, 146.69s/it]\n"
     ]
    },
    {
     "name": "stdout",
     "output_type": "stream",
     "text": [
      "Epoch [64/100] Loss: 499999904.0000\n"
     ]
    },
    {
     "name": "stderr",
     "output_type": "stream",
     "text": [
      "Epoch 65/100:   0%|          | 0/1 [00:00<?, ?it/s]c:\\Users\\it08d\\.conda\\envs\\scan\\Lib\\site-packages\\PIL\\Image.py:3452: DecompressionBombWarning: Image size (90204590 pixels) exceeds limit of 89478485 pixels, could be decompression bomb DOS attack.\n",
      "  warnings.warn(\n",
      "c:\\Users\\it08d\\.conda\\envs\\scan\\Lib\\site-packages\\PIL\\Image.py:3452: DecompressionBombWarning: Image size (92868770 pixels) exceeds limit of 89478485 pixels, could be decompression bomb DOS attack.\n",
      "  warnings.warn(\n",
      "c:\\Users\\it08d\\.conda\\envs\\scan\\Lib\\site-packages\\PIL\\Image.py:3452: DecompressionBombWarning: Image size (105141013 pixels) exceeds limit of 89478485 pixels, could be decompression bomb DOS attack.\n",
      "  warnings.warn(\n",
      "c:\\Users\\it08d\\.conda\\envs\\scan\\Lib\\site-packages\\PIL\\Image.py:3452: DecompressionBombWarning: Image size (100899616 pixels) exceeds limit of 89478485 pixels, could be decompression bomb DOS attack.\n",
      "  warnings.warn(\n",
      "c:\\Users\\it08d\\.conda\\envs\\scan\\Lib\\site-packages\\PIL\\Image.py:3452: DecompressionBombWarning: Image size (117991581 pixels) exceeds limit of 89478485 pixels, could be decompression bomb DOS attack.\n",
      "  warnings.warn(\n",
      "c:\\Users\\it08d\\.conda\\envs\\scan\\Lib\\site-packages\\PIL\\Image.py:3452: DecompressionBombWarning: Image size (119600226 pixels) exceeds limit of 89478485 pixels, could be decompression bomb DOS attack.\n",
      "  warnings.warn(\n",
      "c:\\Users\\it08d\\.conda\\envs\\scan\\Lib\\site-packages\\PIL\\Image.py:3452: DecompressionBombWarning: Image size (94425062 pixels) exceeds limit of 89478485 pixels, could be decompression bomb DOS attack.\n",
      "  warnings.warn(\n",
      "c:\\Users\\it08d\\.conda\\envs\\scan\\Lib\\site-packages\\PIL\\Image.py:3452: DecompressionBombWarning: Image size (94419793 pixels) exceeds limit of 89478485 pixels, could be decompression bomb DOS attack.\n",
      "  warnings.warn(\n",
      "c:\\Users\\it08d\\.conda\\envs\\scan\\Lib\\site-packages\\PIL\\Image.py:3452: DecompressionBombWarning: Image size (89705945 pixels) exceeds limit of 89478485 pixels, could be decompression bomb DOS attack.\n",
      "  warnings.warn(\n",
      "c:\\Users\\it08d\\.conda\\envs\\scan\\Lib\\site-packages\\PIL\\Image.py:3452: DecompressionBombWarning: Image size (101634000 pixels) exceeds limit of 89478485 pixels, could be decompression bomb DOS attack.\n",
      "  warnings.warn(\n",
      "c:\\Users\\it08d\\.conda\\envs\\scan\\Lib\\site-packages\\PIL\\Image.py:3452: DecompressionBombWarning: Image size (94030706 pixels) exceeds limit of 89478485 pixels, could be decompression bomb DOS attack.\n",
      "  warnings.warn(\n",
      "c:\\Users\\it08d\\.conda\\envs\\scan\\Lib\\site-packages\\PIL\\Image.py:3452: DecompressionBombWarning: Image size (101474100 pixels) exceeds limit of 89478485 pixels, could be decompression bomb DOS attack.\n",
      "  warnings.warn(\n",
      "c:\\Users\\it08d\\.conda\\envs\\scan\\Lib\\site-packages\\PIL\\Image.py:3452: DecompressionBombWarning: Image size (113673556 pixels) exceeds limit of 89478485 pixels, could be decompression bomb DOS attack.\n",
      "  warnings.warn(\n",
      "c:\\Users\\it08d\\.conda\\envs\\scan\\Lib\\site-packages\\PIL\\Image.py:3452: DecompressionBombWarning: Image size (103835872 pixels) exceeds limit of 89478485 pixels, could be decompression bomb DOS attack.\n",
      "  warnings.warn(\n",
      "c:\\Users\\it08d\\.conda\\envs\\scan\\Lib\\site-packages\\PIL\\Image.py:3452: DecompressionBombWarning: Image size (107059830 pixels) exceeds limit of 89478485 pixels, could be decompression bomb DOS attack.\n",
      "  warnings.warn(\n",
      "c:\\Users\\it08d\\.conda\\envs\\scan\\Lib\\site-packages\\PIL\\Image.py:3452: DecompressionBombWarning: Image size (110143152 pixels) exceeds limit of 89478485 pixels, could be decompression bomb DOS attack.\n",
      "  warnings.warn(\n",
      "c:\\Users\\it08d\\.conda\\envs\\scan\\Lib\\site-packages\\PIL\\Image.py:3452: DecompressionBombWarning: Image size (114710118 pixels) exceeds limit of 89478485 pixels, could be decompression bomb DOS attack.\n",
      "  warnings.warn(\n",
      "c:\\Users\\it08d\\.conda\\envs\\scan\\Lib\\site-packages\\PIL\\Image.py:3452: DecompressionBombWarning: Image size (107135298 pixels) exceeds limit of 89478485 pixels, could be decompression bomb DOS attack.\n",
      "  warnings.warn(\n",
      "c:\\Users\\it08d\\.conda\\envs\\scan\\Lib\\site-packages\\PIL\\Image.py:3452: DecompressionBombWarning: Image size (110223785 pixels) exceeds limit of 89478485 pixels, could be decompression bomb DOS attack.\n",
      "  warnings.warn(\n",
      "c:\\Users\\it08d\\.conda\\envs\\scan\\Lib\\site-packages\\PIL\\Image.py:3452: DecompressionBombWarning: Image size (101594992 pixels) exceeds limit of 89478485 pixels, could be decompression bomb DOS attack.\n",
      "  warnings.warn(\n",
      "c:\\Users\\it08d\\.conda\\envs\\scan\\Lib\\site-packages\\PIL\\Image.py:3452: DecompressionBombWarning: Image size (115612416 pixels) exceeds limit of 89478485 pixels, could be decompression bomb DOS attack.\n",
      "  warnings.warn(\n",
      "c:\\Users\\it08d\\.conda\\envs\\scan\\Lib\\site-packages\\PIL\\Image.py:3452: DecompressionBombWarning: Image size (94799054 pixels) exceeds limit of 89478485 pixels, could be decompression bomb DOS attack.\n",
      "  warnings.warn(\n",
      "c:\\Users\\it08d\\.conda\\envs\\scan\\Lib\\site-packages\\PIL\\Image.py:3452: DecompressionBombWarning: Image size (89655735 pixels) exceeds limit of 89478485 pixels, could be decompression bomb DOS attack.\n",
      "  warnings.warn(\n",
      "c:\\Users\\it08d\\.conda\\envs\\scan\\Lib\\site-packages\\PIL\\Image.py:3452: DecompressionBombWarning: Image size (113703660 pixels) exceeds limit of 89478485 pixels, could be decompression bomb DOS attack.\n",
      "  warnings.warn(\n",
      "Epoch 65/100: 100%|██████████| 1/1 [03:07<00:00, 187.84s/it]\n"
     ]
    },
    {
     "name": "stdout",
     "output_type": "stream",
     "text": [
      "Epoch [65/100] Loss: 499999904.0000\n"
     ]
    },
    {
     "name": "stderr",
     "output_type": "stream",
     "text": [
      "Epoch 66/100:   0%|          | 0/1 [00:00<?, ?it/s]c:\\Users\\it08d\\.conda\\envs\\scan\\Lib\\site-packages\\PIL\\Image.py:3452: DecompressionBombWarning: Image size (110202675 pixels) exceeds limit of 89478485 pixels, could be decompression bomb DOS attack.\n",
      "  warnings.warn(\n",
      "c:\\Users\\it08d\\.conda\\envs\\scan\\Lib\\site-packages\\PIL\\Image.py:3452: DecompressionBombWarning: Image size (93174312 pixels) exceeds limit of 89478485 pixels, could be decompression bomb DOS attack.\n",
      "  warnings.warn(\n",
      "c:\\Users\\it08d\\.conda\\envs\\scan\\Lib\\site-packages\\PIL\\Image.py:3452: DecompressionBombWarning: Image size (92952882 pixels) exceeds limit of 89478485 pixels, could be decompression bomb DOS attack.\n",
      "  warnings.warn(\n",
      "c:\\Users\\it08d\\.conda\\envs\\scan\\Lib\\site-packages\\PIL\\Image.py:3452: DecompressionBombWarning: Image size (91688049 pixels) exceeds limit of 89478485 pixels, could be decompression bomb DOS attack.\n",
      "  warnings.warn(\n",
      "c:\\Users\\it08d\\.conda\\envs\\scan\\Lib\\site-packages\\PIL\\Image.py:3452: DecompressionBombWarning: Image size (113931235 pixels) exceeds limit of 89478485 pixels, could be decompression bomb DOS attack.\n",
      "  warnings.warn(\n",
      "c:\\Users\\it08d\\.conda\\envs\\scan\\Lib\\site-packages\\PIL\\Image.py:3452: DecompressionBombWarning: Image size (104974848 pixels) exceeds limit of 89478485 pixels, could be decompression bomb DOS attack.\n",
      "  warnings.warn(\n",
      "c:\\Users\\it08d\\.conda\\envs\\scan\\Lib\\site-packages\\PIL\\Image.py:3452: DecompressionBombWarning: Image size (99983322 pixels) exceeds limit of 89478485 pixels, could be decompression bomb DOS attack.\n",
      "  warnings.warn(\n",
      "c:\\Users\\it08d\\.conda\\envs\\scan\\Lib\\site-packages\\PIL\\Image.py:3452: DecompressionBombWarning: Image size (91999908 pixels) exceeds limit of 89478485 pixels, could be decompression bomb DOS attack.\n",
      "  warnings.warn(\n",
      "c:\\Users\\it08d\\.conda\\envs\\scan\\Lib\\site-packages\\PIL\\Image.py:3452: DecompressionBombWarning: Image size (118879832 pixels) exceeds limit of 89478485 pixels, could be decompression bomb DOS attack.\n",
      "  warnings.warn(\n",
      "c:\\Users\\it08d\\.conda\\envs\\scan\\Lib\\site-packages\\PIL\\Image.py:3452: DecompressionBombWarning: Image size (94317700 pixels) exceeds limit of 89478485 pixels, could be decompression bomb DOS attack.\n",
      "  warnings.warn(\n",
      "c:\\Users\\it08d\\.conda\\envs\\scan\\Lib\\site-packages\\PIL\\Image.py:3452: DecompressionBombWarning: Image size (95319314 pixels) exceeds limit of 89478485 pixels, could be decompression bomb DOS attack.\n",
      "  warnings.warn(\n",
      "c:\\Users\\it08d\\.conda\\envs\\scan\\Lib\\site-packages\\PIL\\Image.py:3452: DecompressionBombWarning: Image size (90441663 pixels) exceeds limit of 89478485 pixels, could be decompression bomb DOS attack.\n",
      "  warnings.warn(\n",
      "c:\\Users\\it08d\\.conda\\envs\\scan\\Lib\\site-packages\\PIL\\Image.py:3452: DecompressionBombWarning: Image size (100726912 pixels) exceeds limit of 89478485 pixels, could be decompression bomb DOS attack.\n",
      "  warnings.warn(\n",
      "c:\\Users\\it08d\\.conda\\envs\\scan\\Lib\\site-packages\\PIL\\Image.py:3452: DecompressionBombWarning: Image size (91752237 pixels) exceeds limit of 89478485 pixels, could be decompression bomb DOS attack.\n",
      "  warnings.warn(\n",
      "c:\\Users\\it08d\\.conda\\envs\\scan\\Lib\\site-packages\\PIL\\Image.py:3452: DecompressionBombWarning: Image size (89497683 pixels) exceeds limit of 89478485 pixels, could be decompression bomb DOS attack.\n",
      "  warnings.warn(\n",
      "c:\\Users\\it08d\\.conda\\envs\\scan\\Lib\\site-packages\\PIL\\Image.py:3452: DecompressionBombWarning: Image size (90904408 pixels) exceeds limit of 89478485 pixels, could be decompression bomb DOS attack.\n",
      "  warnings.warn(\n",
      "c:\\Users\\it08d\\.conda\\envs\\scan\\Lib\\site-packages\\PIL\\Image.py:3452: DecompressionBombWarning: Image size (99760626 pixels) exceeds limit of 89478485 pixels, could be decompression bomb DOS attack.\n",
      "  warnings.warn(\n",
      "c:\\Users\\it08d\\.conda\\envs\\scan\\Lib\\site-packages\\PIL\\Image.py:3452: DecompressionBombWarning: Image size (92827827 pixels) exceeds limit of 89478485 pixels, could be decompression bomb DOS attack.\n",
      "  warnings.warn(\n",
      "c:\\Users\\it08d\\.conda\\envs\\scan\\Lib\\site-packages\\PIL\\Image.py:3452: DecompressionBombWarning: Image size (98959340 pixels) exceeds limit of 89478485 pixels, could be decompression bomb DOS attack.\n",
      "  warnings.warn(\n",
      "Epoch 66/100: 100%|██████████| 1/1 [02:51<00:00, 171.29s/it]\n"
     ]
    },
    {
     "name": "stdout",
     "output_type": "stream",
     "text": [
      "Epoch [66/100] Loss: 499999904.0000\n"
     ]
    },
    {
     "name": "stderr",
     "output_type": "stream",
     "text": [
      "Epoch 67/100:   0%|          | 0/1 [00:00<?, ?it/s]c:\\Users\\it08d\\.conda\\envs\\scan\\Lib\\site-packages\\PIL\\Image.py:3452: DecompressionBombWarning: Image size (90277277 pixels) exceeds limit of 89478485 pixels, could be decompression bomb DOS attack.\n",
      "  warnings.warn(\n",
      "c:\\Users\\it08d\\.conda\\envs\\scan\\Lib\\site-packages\\PIL\\Image.py:3452: DecompressionBombWarning: Image size (115219788 pixels) exceeds limit of 89478485 pixels, could be decompression bomb DOS attack.\n",
      "  warnings.warn(\n",
      "c:\\Users\\it08d\\.conda\\envs\\scan\\Lib\\site-packages\\PIL\\Image.py:3452: DecompressionBombWarning: Image size (102907009 pixels) exceeds limit of 89478485 pixels, could be decompression bomb DOS attack.\n",
      "  warnings.warn(\n",
      "c:\\Users\\it08d\\.conda\\envs\\scan\\Lib\\site-packages\\PIL\\Image.py:3452: DecompressionBombWarning: Image size (97014554 pixels) exceeds limit of 89478485 pixels, could be decompression bomb DOS attack.\n",
      "  warnings.warn(\n",
      "c:\\Users\\it08d\\.conda\\envs\\scan\\Lib\\site-packages\\PIL\\Image.py:3452: DecompressionBombWarning: Image size (90585730 pixels) exceeds limit of 89478485 pixels, could be decompression bomb DOS attack.\n",
      "  warnings.warn(\n",
      "c:\\Users\\it08d\\.conda\\envs\\scan\\Lib\\site-packages\\PIL\\Image.py:3452: DecompressionBombWarning: Image size (118189170 pixels) exceeds limit of 89478485 pixels, could be decompression bomb DOS attack.\n",
      "  warnings.warn(\n",
      "c:\\Users\\it08d\\.conda\\envs\\scan\\Lib\\site-packages\\PIL\\Image.py:3452: DecompressionBombWarning: Image size (101586268 pixels) exceeds limit of 89478485 pixels, could be decompression bomb DOS attack.\n",
      "  warnings.warn(\n",
      "c:\\Users\\it08d\\.conda\\envs\\scan\\Lib\\site-packages\\PIL\\Image.py:3452: DecompressionBombWarning: Image size (98829072 pixels) exceeds limit of 89478485 pixels, could be decompression bomb DOS attack.\n",
      "  warnings.warn(\n",
      "c:\\Users\\it08d\\.conda\\envs\\scan\\Lib\\site-packages\\PIL\\Image.py:3452: DecompressionBombWarning: Image size (99071856 pixels) exceeds limit of 89478485 pixels, could be decompression bomb DOS attack.\n",
      "  warnings.warn(\n",
      "c:\\Users\\it08d\\.conda\\envs\\scan\\Lib\\site-packages\\PIL\\Image.py:3452: DecompressionBombWarning: Image size (94068920 pixels) exceeds limit of 89478485 pixels, could be decompression bomb DOS attack.\n",
      "  warnings.warn(\n",
      "c:\\Users\\it08d\\.conda\\envs\\scan\\Lib\\site-packages\\PIL\\Image.py:3452: DecompressionBombWarning: Image size (89511912 pixels) exceeds limit of 89478485 pixels, could be decompression bomb DOS attack.\n",
      "  warnings.warn(\n",
      "c:\\Users\\it08d\\.conda\\envs\\scan\\Lib\\site-packages\\PIL\\Image.py:3452: DecompressionBombWarning: Image size (91663258 pixels) exceeds limit of 89478485 pixels, could be decompression bomb DOS attack.\n",
      "  warnings.warn(\n",
      "c:\\Users\\it08d\\.conda\\envs\\scan\\Lib\\site-packages\\PIL\\Image.py:3452: DecompressionBombWarning: Image size (113678194 pixels) exceeds limit of 89478485 pixels, could be decompression bomb DOS attack.\n",
      "  warnings.warn(\n",
      "c:\\Users\\it08d\\.conda\\envs\\scan\\Lib\\site-packages\\PIL\\Image.py:3452: DecompressionBombWarning: Image size (104225548 pixels) exceeds limit of 89478485 pixels, could be decompression bomb DOS attack.\n",
      "  warnings.warn(\n",
      "c:\\Users\\it08d\\.conda\\envs\\scan\\Lib\\site-packages\\PIL\\Image.py:3452: DecompressionBombWarning: Image size (99585720 pixels) exceeds limit of 89478485 pixels, could be decompression bomb DOS attack.\n",
      "  warnings.warn(\n",
      "Epoch 67/100: 100%|██████████| 1/1 [03:24<00:00, 204.90s/it]\n"
     ]
    },
    {
     "name": "stdout",
     "output_type": "stream",
     "text": [
      "Epoch [67/100] Loss: 499999904.0000\n"
     ]
    },
    {
     "name": "stderr",
     "output_type": "stream",
     "text": [
      "Epoch 68/100:   0%|          | 0/1 [00:00<?, ?it/s]c:\\Users\\it08d\\.conda\\envs\\scan\\Lib\\site-packages\\PIL\\Image.py:3452: DecompressionBombWarning: Image size (104416716 pixels) exceeds limit of 89478485 pixels, could be decompression bomb DOS attack.\n",
      "  warnings.warn(\n",
      "c:\\Users\\it08d\\.conda\\envs\\scan\\Lib\\site-packages\\PIL\\Image.py:3452: DecompressionBombWarning: Image size (89674704 pixels) exceeds limit of 89478485 pixels, could be decompression bomb DOS attack.\n",
      "  warnings.warn(\n",
      "c:\\Users\\it08d\\.conda\\envs\\scan\\Lib\\site-packages\\PIL\\Image.py:3452: DecompressionBombWarning: Image size (90400660 pixels) exceeds limit of 89478485 pixels, could be decompression bomb DOS attack.\n",
      "  warnings.warn(\n",
      "c:\\Users\\it08d\\.conda\\envs\\scan\\Lib\\site-packages\\PIL\\Image.py:3452: DecompressionBombWarning: Image size (93051322 pixels) exceeds limit of 89478485 pixels, could be decompression bomb DOS attack.\n",
      "  warnings.warn(\n",
      "c:\\Users\\it08d\\.conda\\envs\\scan\\Lib\\site-packages\\PIL\\Image.py:3452: DecompressionBombWarning: Image size (100269120 pixels) exceeds limit of 89478485 pixels, could be decompression bomb DOS attack.\n",
      "  warnings.warn(\n",
      "c:\\Users\\it08d\\.conda\\envs\\scan\\Lib\\site-packages\\PIL\\Image.py:3452: DecompressionBombWarning: Image size (111878800 pixels) exceeds limit of 89478485 pixels, could be decompression bomb DOS attack.\n",
      "  warnings.warn(\n",
      "c:\\Users\\it08d\\.conda\\envs\\scan\\Lib\\site-packages\\PIL\\Image.py:3452: DecompressionBombWarning: Image size (110083902 pixels) exceeds limit of 89478485 pixels, could be decompression bomb DOS attack.\n",
      "  warnings.warn(\n",
      "c:\\Users\\it08d\\.conda\\envs\\scan\\Lib\\site-packages\\PIL\\Image.py:3452: DecompressionBombWarning: Image size (93256404 pixels) exceeds limit of 89478485 pixels, could be decompression bomb DOS attack.\n",
      "  warnings.warn(\n",
      "c:\\Users\\it08d\\.conda\\envs\\scan\\Lib\\site-packages\\PIL\\Image.py:3452: DecompressionBombWarning: Image size (91580666 pixels) exceeds limit of 89478485 pixels, could be decompression bomb DOS attack.\n",
      "  warnings.warn(\n",
      "c:\\Users\\it08d\\.conda\\envs\\scan\\Lib\\site-packages\\PIL\\Image.py:3452: DecompressionBombWarning: Image size (100407812 pixels) exceeds limit of 89478485 pixels, could be decompression bomb DOS attack.\n",
      "  warnings.warn(\n",
      "c:\\Users\\it08d\\.conda\\envs\\scan\\Lib\\site-packages\\PIL\\Image.py:3452: DecompressionBombWarning: Image size (98054820 pixels) exceeds limit of 89478485 pixels, could be decompression bomb DOS attack.\n",
      "  warnings.warn(\n",
      "c:\\Users\\it08d\\.conda\\envs\\scan\\Lib\\site-packages\\PIL\\Image.py:3452: DecompressionBombWarning: Image size (104753909 pixels) exceeds limit of 89478485 pixels, could be decompression bomb DOS attack.\n",
      "  warnings.warn(\n",
      "c:\\Users\\it08d\\.conda\\envs\\scan\\Lib\\site-packages\\PIL\\Image.py:3452: DecompressionBombWarning: Image size (116945284 pixels) exceeds limit of 89478485 pixels, could be decompression bomb DOS attack.\n",
      "  warnings.warn(\n",
      "c:\\Users\\it08d\\.conda\\envs\\scan\\Lib\\site-packages\\PIL\\Image.py:3452: DecompressionBombWarning: Image size (92050574 pixels) exceeds limit of 89478485 pixels, could be decompression bomb DOS attack.\n",
      "  warnings.warn(\n",
      "c:\\Users\\it08d\\.conda\\envs\\scan\\Lib\\site-packages\\PIL\\Image.py:3452: DecompressionBombWarning: Image size (93729048 pixels) exceeds limit of 89478485 pixels, could be decompression bomb DOS attack.\n",
      "  warnings.warn(\n",
      "c:\\Users\\it08d\\.conda\\envs\\scan\\Lib\\site-packages\\PIL\\Image.py:3452: DecompressionBombWarning: Image size (102225215 pixels) exceeds limit of 89478485 pixels, could be decompression bomb DOS attack.\n",
      "  warnings.warn(\n",
      "c:\\Users\\it08d\\.conda\\envs\\scan\\Lib\\site-packages\\PIL\\Image.py:3452: DecompressionBombWarning: Image size (98759562 pixels) exceeds limit of 89478485 pixels, could be decompression bomb DOS attack.\n",
      "  warnings.warn(\n",
      "c:\\Users\\it08d\\.conda\\envs\\scan\\Lib\\site-packages\\PIL\\Image.py:3452: DecompressionBombWarning: Image size (91159008 pixels) exceeds limit of 89478485 pixels, could be decompression bomb DOS attack.\n",
      "  warnings.warn(\n",
      "c:\\Users\\it08d\\.conda\\envs\\scan\\Lib\\site-packages\\PIL\\Image.py:3452: DecompressionBombWarning: Image size (102132128 pixels) exceeds limit of 89478485 pixels, could be decompression bomb DOS attack.\n",
      "  warnings.warn(\n",
      "c:\\Users\\it08d\\.conda\\envs\\scan\\Lib\\site-packages\\PIL\\Image.py:3452: DecompressionBombWarning: Image size (113614085 pixels) exceeds limit of 89478485 pixels, could be decompression bomb DOS attack.\n",
      "  warnings.warn(\n",
      "c:\\Users\\it08d\\.conda\\envs\\scan\\Lib\\site-packages\\PIL\\Image.py:3452: DecompressionBombWarning: Image size (102210998 pixels) exceeds limit of 89478485 pixels, could be decompression bomb DOS attack.\n",
      "  warnings.warn(\n",
      "c:\\Users\\it08d\\.conda\\envs\\scan\\Lib\\site-packages\\PIL\\Image.py:3452: DecompressionBombWarning: Image size (102138820 pixels) exceeds limit of 89478485 pixels, could be decompression bomb DOS attack.\n",
      "  warnings.warn(\n",
      "Epoch 68/100: 100%|██████████| 1/1 [02:53<00:00, 173.12s/it]\n"
     ]
    },
    {
     "name": "stdout",
     "output_type": "stream",
     "text": [
      "Epoch [68/100] Loss: 499999904.0000\n"
     ]
    },
    {
     "name": "stderr",
     "output_type": "stream",
     "text": [
      "Epoch 69/100:   0%|          | 0/1 [00:00<?, ?it/s]c:\\Users\\it08d\\.conda\\envs\\scan\\Lib\\site-packages\\PIL\\Image.py:3452: DecompressionBombWarning: Image size (122710896 pixels) exceeds limit of 89478485 pixels, could be decompression bomb DOS attack.\n",
      "  warnings.warn(\n",
      "c:\\Users\\it08d\\.conda\\envs\\scan\\Lib\\site-packages\\PIL\\Image.py:3452: DecompressionBombWarning: Image size (92477525 pixels) exceeds limit of 89478485 pixels, could be decompression bomb DOS attack.\n",
      "  warnings.warn(\n",
      "c:\\Users\\it08d\\.conda\\envs\\scan\\Lib\\site-packages\\PIL\\Image.py:3452: DecompressionBombWarning: Image size (89649924 pixels) exceeds limit of 89478485 pixels, could be decompression bomb DOS attack.\n",
      "  warnings.warn(\n",
      "c:\\Users\\it08d\\.conda\\envs\\scan\\Lib\\site-packages\\PIL\\Image.py:3452: DecompressionBombWarning: Image size (92924244 pixels) exceeds limit of 89478485 pixels, could be decompression bomb DOS attack.\n",
      "  warnings.warn(\n",
      "c:\\Users\\it08d\\.conda\\envs\\scan\\Lib\\site-packages\\PIL\\Image.py:3452: DecompressionBombWarning: Image size (113313665 pixels) exceeds limit of 89478485 pixels, could be decompression bomb DOS attack.\n",
      "  warnings.warn(\n",
      "c:\\Users\\it08d\\.conda\\envs\\scan\\Lib\\site-packages\\PIL\\Image.py:3452: DecompressionBombWarning: Image size (93457990 pixels) exceeds limit of 89478485 pixels, could be decompression bomb DOS attack.\n",
      "  warnings.warn(\n",
      "c:\\Users\\it08d\\.conda\\envs\\scan\\Lib\\site-packages\\PIL\\Image.py:3452: DecompressionBombWarning: Image size (95769223 pixels) exceeds limit of 89478485 pixels, could be decompression bomb DOS attack.\n",
      "  warnings.warn(\n",
      "c:\\Users\\it08d\\.conda\\envs\\scan\\Lib\\site-packages\\PIL\\Image.py:3452: DecompressionBombWarning: Image size (120510692 pixels) exceeds limit of 89478485 pixels, could be decompression bomb DOS attack.\n",
      "  warnings.warn(\n",
      "c:\\Users\\it08d\\.conda\\envs\\scan\\Lib\\site-packages\\PIL\\Image.py:3452: DecompressionBombWarning: Image size (98844066 pixels) exceeds limit of 89478485 pixels, could be decompression bomb DOS attack.\n",
      "  warnings.warn(\n",
      "c:\\Users\\it08d\\.conda\\envs\\scan\\Lib\\site-packages\\PIL\\Image.py:3452: DecompressionBombWarning: Image size (104872456 pixels) exceeds limit of 89478485 pixels, could be decompression bomb DOS attack.\n",
      "  warnings.warn(\n",
      "c:\\Users\\it08d\\.conda\\envs\\scan\\Lib\\site-packages\\PIL\\Image.py:3452: DecompressionBombWarning: Image size (90125178 pixels) exceeds limit of 89478485 pixels, could be decompression bomb DOS attack.\n",
      "  warnings.warn(\n",
      "c:\\Users\\it08d\\.conda\\envs\\scan\\Lib\\site-packages\\PIL\\Image.py:3452: DecompressionBombWarning: Image size (103159315 pixels) exceeds limit of 89478485 pixels, could be decompression bomb DOS attack.\n",
      "  warnings.warn(\n",
      "c:\\Users\\it08d\\.conda\\envs\\scan\\Lib\\site-packages\\PIL\\Image.py:3452: DecompressionBombWarning: Image size (101822265 pixels) exceeds limit of 89478485 pixels, could be decompression bomb DOS attack.\n",
      "  warnings.warn(\n",
      "c:\\Users\\it08d\\.conda\\envs\\scan\\Lib\\site-packages\\PIL\\Image.py:3452: DecompressionBombWarning: Image size (92101592 pixels) exceeds limit of 89478485 pixels, could be decompression bomb DOS attack.\n",
      "  warnings.warn(\n",
      "c:\\Users\\it08d\\.conda\\envs\\scan\\Lib\\site-packages\\PIL\\Image.py:3452: DecompressionBombWarning: Image size (103786664 pixels) exceeds limit of 89478485 pixels, could be decompression bomb DOS attack.\n",
      "  warnings.warn(\n",
      "c:\\Users\\it08d\\.conda\\envs\\scan\\Lib\\site-packages\\PIL\\Image.py:3452: DecompressionBombWarning: Image size (91647704 pixels) exceeds limit of 89478485 pixels, could be decompression bomb DOS attack.\n",
      "  warnings.warn(\n",
      "c:\\Users\\it08d\\.conda\\envs\\scan\\Lib\\site-packages\\PIL\\Image.py:3452: DecompressionBombWarning: Image size (102758726 pixels) exceeds limit of 89478485 pixels, could be decompression bomb DOS attack.\n",
      "  warnings.warn(\n",
      "c:\\Users\\it08d\\.conda\\envs\\scan\\Lib\\site-packages\\PIL\\Image.py:3452: DecompressionBombWarning: Image size (97780270 pixels) exceeds limit of 89478485 pixels, could be decompression bomb DOS attack.\n",
      "  warnings.warn(\n",
      "c:\\Users\\it08d\\.conda\\envs\\scan\\Lib\\site-packages\\PIL\\Image.py:3452: DecompressionBombWarning: Image size (110436996 pixels) exceeds limit of 89478485 pixels, could be decompression bomb DOS attack.\n",
      "  warnings.warn(\n",
      "c:\\Users\\it08d\\.conda\\envs\\scan\\Lib\\site-packages\\PIL\\Image.py:3452: DecompressionBombWarning: Image size (109410174 pixels) exceeds limit of 89478485 pixels, could be decompression bomb DOS attack.\n",
      "  warnings.warn(\n",
      "c:\\Users\\it08d\\.conda\\envs\\scan\\Lib\\site-packages\\PIL\\Image.py:3452: DecompressionBombWarning: Image size (97895238 pixels) exceeds limit of 89478485 pixels, could be decompression bomb DOS attack.\n",
      "  warnings.warn(\n",
      "Epoch 69/100: 100%|██████████| 1/1 [02:53<00:00, 173.99s/it]\n"
     ]
    },
    {
     "name": "stdout",
     "output_type": "stream",
     "text": [
      "Epoch [69/100] Loss: 499999904.0000\n"
     ]
    },
    {
     "name": "stderr",
     "output_type": "stream",
     "text": [
      "Epoch 70/100:   0%|          | 0/1 [00:00<?, ?it/s]c:\\Users\\it08d\\.conda\\envs\\scan\\Lib\\site-packages\\PIL\\Image.py:3452: DecompressionBombWarning: Image size (97496630 pixels) exceeds limit of 89478485 pixels, could be decompression bomb DOS attack.\n",
      "  warnings.warn(\n",
      "c:\\Users\\it08d\\.conda\\envs\\scan\\Lib\\site-packages\\PIL\\Image.py:3452: DecompressionBombWarning: Image size (96178375 pixels) exceeds limit of 89478485 pixels, could be decompression bomb DOS attack.\n",
      "  warnings.warn(\n",
      "c:\\Users\\it08d\\.conda\\envs\\scan\\Lib\\site-packages\\PIL\\Image.py:3452: DecompressionBombWarning: Image size (102359896 pixels) exceeds limit of 89478485 pixels, could be decompression bomb DOS attack.\n",
      "  warnings.warn(\n",
      "c:\\Users\\it08d\\.conda\\envs\\scan\\Lib\\site-packages\\PIL\\Image.py:3452: DecompressionBombWarning: Image size (94192623 pixels) exceeds limit of 89478485 pixels, could be decompression bomb DOS attack.\n",
      "  warnings.warn(\n",
      "c:\\Users\\it08d\\.conda\\envs\\scan\\Lib\\site-packages\\PIL\\Image.py:3452: DecompressionBombWarning: Image size (90704866 pixels) exceeds limit of 89478485 pixels, could be decompression bomb DOS attack.\n",
      "  warnings.warn(\n",
      "c:\\Users\\it08d\\.conda\\envs\\scan\\Lib\\site-packages\\PIL\\Image.py:3452: DecompressionBombWarning: Image size (95470254 pixels) exceeds limit of 89478485 pixels, could be decompression bomb DOS attack.\n",
      "  warnings.warn(\n",
      "c:\\Users\\it08d\\.conda\\envs\\scan\\Lib\\site-packages\\PIL\\Image.py:3452: DecompressionBombWarning: Image size (94770117 pixels) exceeds limit of 89478485 pixels, could be decompression bomb DOS attack.\n",
      "  warnings.warn(\n",
      "c:\\Users\\it08d\\.conda\\envs\\scan\\Lib\\site-packages\\PIL\\Image.py:3452: DecompressionBombWarning: Image size (104822460 pixels) exceeds limit of 89478485 pixels, could be decompression bomb DOS attack.\n",
      "  warnings.warn(\n",
      "c:\\Users\\it08d\\.conda\\envs\\scan\\Lib\\site-packages\\PIL\\Image.py:3452: DecompressionBombWarning: Image size (98401888 pixels) exceeds limit of 89478485 pixels, could be decompression bomb DOS attack.\n",
      "  warnings.warn(\n",
      "c:\\Users\\it08d\\.conda\\envs\\scan\\Lib\\site-packages\\PIL\\Image.py:3452: DecompressionBombWarning: Image size (96941952 pixels) exceeds limit of 89478485 pixels, could be decompression bomb DOS attack.\n",
      "  warnings.warn(\n",
      "c:\\Users\\it08d\\.conda\\envs\\scan\\Lib\\site-packages\\PIL\\Image.py:3452: DecompressionBombWarning: Image size (92375744 pixels) exceeds limit of 89478485 pixels, could be decompression bomb DOS attack.\n",
      "  warnings.warn(\n",
      "c:\\Users\\it08d\\.conda\\envs\\scan\\Lib\\site-packages\\PIL\\Image.py:3452: DecompressionBombWarning: Image size (93448152 pixels) exceeds limit of 89478485 pixels, could be decompression bomb DOS attack.\n",
      "  warnings.warn(\n",
      "c:\\Users\\it08d\\.conda\\envs\\scan\\Lib\\site-packages\\PIL\\Image.py:3452: DecompressionBombWarning: Image size (112677471 pixels) exceeds limit of 89478485 pixels, could be decompression bomb DOS attack.\n",
      "  warnings.warn(\n",
      "c:\\Users\\it08d\\.conda\\envs\\scan\\Lib\\site-packages\\PIL\\Image.py:3452: DecompressionBombWarning: Image size (97835535 pixels) exceeds limit of 89478485 pixels, could be decompression bomb DOS attack.\n",
      "  warnings.warn(\n",
      "c:\\Users\\it08d\\.conda\\envs\\scan\\Lib\\site-packages\\PIL\\Image.py:3452: DecompressionBombWarning: Image size (91521100 pixels) exceeds limit of 89478485 pixels, could be decompression bomb DOS attack.\n",
      "  warnings.warn(\n",
      "c:\\Users\\it08d\\.conda\\envs\\scan\\Lib\\site-packages\\PIL\\Image.py:3452: DecompressionBombWarning: Image size (109404375 pixels) exceeds limit of 89478485 pixels, could be decompression bomb DOS attack.\n",
      "  warnings.warn(\n",
      "c:\\Users\\it08d\\.conda\\envs\\scan\\Lib\\site-packages\\PIL\\Image.py:3452: DecompressionBombWarning: Image size (100210560 pixels) exceeds limit of 89478485 pixels, could be decompression bomb DOS attack.\n",
      "  warnings.warn(\n",
      "c:\\Users\\it08d\\.conda\\envs\\scan\\Lib\\site-packages\\PIL\\Image.py:3452: DecompressionBombWarning: Image size (110557829 pixels) exceeds limit of 89478485 pixels, could be decompression bomb DOS attack.\n",
      "  warnings.warn(\n",
      "c:\\Users\\it08d\\.conda\\envs\\scan\\Lib\\site-packages\\PIL\\Image.py:3452: DecompressionBombWarning: Image size (96825551 pixels) exceeds limit of 89478485 pixels, could be decompression bomb DOS attack.\n",
      "  warnings.warn(\n",
      "c:\\Users\\it08d\\.conda\\envs\\scan\\Lib\\site-packages\\PIL\\Image.py:3452: DecompressionBombWarning: Image size (92165520 pixels) exceeds limit of 89478485 pixels, could be decompression bomb DOS attack.\n",
      "  warnings.warn(\n",
      "c:\\Users\\it08d\\.conda\\envs\\scan\\Lib\\site-packages\\PIL\\Image.py:3452: DecompressionBombWarning: Image size (98637968 pixels) exceeds limit of 89478485 pixels, could be decompression bomb DOS attack.\n",
      "  warnings.warn(\n",
      "c:\\Users\\it08d\\.conda\\envs\\scan\\Lib\\site-packages\\PIL\\Image.py:3452: DecompressionBombWarning: Image size (96804360 pixels) exceeds limit of 89478485 pixels, could be decompression bomb DOS attack.\n",
      "  warnings.warn(\n",
      "Epoch 70/100: 100%|██████████| 1/1 [03:23<00:00, 203.28s/it]\n"
     ]
    },
    {
     "name": "stdout",
     "output_type": "stream",
     "text": [
      "Epoch [70/100] Loss: 499999904.0000\n"
     ]
    },
    {
     "name": "stderr",
     "output_type": "stream",
     "text": [
      "Epoch 71/100:   0%|          | 0/1 [00:00<?, ?it/s]c:\\Users\\it08d\\.conda\\envs\\scan\\Lib\\site-packages\\PIL\\Image.py:3452: DecompressionBombWarning: Image size (103058308 pixels) exceeds limit of 89478485 pixels, could be decompression bomb DOS attack.\n",
      "  warnings.warn(\n",
      "c:\\Users\\it08d\\.conda\\envs\\scan\\Lib\\site-packages\\PIL\\Image.py:3452: DecompressionBombWarning: Image size (91821171 pixels) exceeds limit of 89478485 pixels, could be decompression bomb DOS attack.\n",
      "  warnings.warn(\n",
      "c:\\Users\\it08d\\.conda\\envs\\scan\\Lib\\site-packages\\PIL\\Image.py:3452: DecompressionBombWarning: Image size (112322100 pixels) exceeds limit of 89478485 pixels, could be decompression bomb DOS attack.\n",
      "  warnings.warn(\n",
      "c:\\Users\\it08d\\.conda\\envs\\scan\\Lib\\site-packages\\PIL\\Image.py:3452: DecompressionBombWarning: Image size (91526130 pixels) exceeds limit of 89478485 pixels, could be decompression bomb DOS attack.\n",
      "  warnings.warn(\n",
      "c:\\Users\\it08d\\.conda\\envs\\scan\\Lib\\site-packages\\PIL\\Image.py:3452: DecompressionBombWarning: Image size (96979800 pixels) exceeds limit of 89478485 pixels, could be decompression bomb DOS attack.\n",
      "  warnings.warn(\n",
      "c:\\Users\\it08d\\.conda\\envs\\scan\\Lib\\site-packages\\PIL\\Image.py:3452: DecompressionBombWarning: Image size (104103767 pixels) exceeds limit of 89478485 pixels, could be decompression bomb DOS attack.\n",
      "  warnings.warn(\n",
      "c:\\Users\\it08d\\.conda\\envs\\scan\\Lib\\site-packages\\PIL\\Image.py:3452: DecompressionBombWarning: Image size (94902225 pixels) exceeds limit of 89478485 pixels, could be decompression bomb DOS attack.\n",
      "  warnings.warn(\n",
      "c:\\Users\\it08d\\.conda\\envs\\scan\\Lib\\site-packages\\PIL\\Image.py:3452: DecompressionBombWarning: Image size (114158790 pixels) exceeds limit of 89478485 pixels, could be decompression bomb DOS attack.\n",
      "  warnings.warn(\n",
      "c:\\Users\\it08d\\.conda\\envs\\scan\\Lib\\site-packages\\PIL\\Image.py:3452: DecompressionBombWarning: Image size (98739162 pixels) exceeds limit of 89478485 pixels, could be decompression bomb DOS attack.\n",
      "  warnings.warn(\n",
      "c:\\Users\\it08d\\.conda\\envs\\scan\\Lib\\site-packages\\PIL\\Image.py:3452: DecompressionBombWarning: Image size (93160093 pixels) exceeds limit of 89478485 pixels, could be decompression bomb DOS attack.\n",
      "  warnings.warn(\n",
      "c:\\Users\\it08d\\.conda\\envs\\scan\\Lib\\site-packages\\PIL\\Image.py:3452: DecompressionBombWarning: Image size (95365160 pixels) exceeds limit of 89478485 pixels, could be decompression bomb DOS attack.\n",
      "  warnings.warn(\n",
      "c:\\Users\\it08d\\.conda\\envs\\scan\\Lib\\site-packages\\PIL\\Image.py:3452: DecompressionBombWarning: Image size (103071696 pixels) exceeds limit of 89478485 pixels, could be decompression bomb DOS attack.\n",
      "  warnings.warn(\n",
      "c:\\Users\\it08d\\.conda\\envs\\scan\\Lib\\site-packages\\PIL\\Image.py:3452: DecompressionBombWarning: Image size (95210580 pixels) exceeds limit of 89478485 pixels, could be decompression bomb DOS attack.\n",
      "  warnings.warn(\n",
      "c:\\Users\\it08d\\.conda\\envs\\scan\\Lib\\site-packages\\PIL\\Image.py:3452: DecompressionBombWarning: Image size (96884824 pixels) exceeds limit of 89478485 pixels, could be decompression bomb DOS attack.\n",
      "  warnings.warn(\n",
      "c:\\Users\\it08d\\.conda\\envs\\scan\\Lib\\site-packages\\PIL\\Image.py:3452: DecompressionBombWarning: Image size (93392258 pixels) exceeds limit of 89478485 pixels, could be decompression bomb DOS attack.\n",
      "  warnings.warn(\n",
      "c:\\Users\\it08d\\.conda\\envs\\scan\\Lib\\site-packages\\PIL\\Image.py:3452: DecompressionBombWarning: Image size (102570200 pixels) exceeds limit of 89478485 pixels, could be decompression bomb DOS attack.\n",
      "  warnings.warn(\n",
      "c:\\Users\\it08d\\.conda\\envs\\scan\\Lib\\site-packages\\PIL\\Image.py:3452: DecompressionBombWarning: Image size (95274156 pixels) exceeds limit of 89478485 pixels, could be decompression bomb DOS attack.\n",
      "  warnings.warn(\n",
      "c:\\Users\\it08d\\.conda\\envs\\scan\\Lib\\site-packages\\PIL\\Image.py:3452: DecompressionBombWarning: Image size (96783696 pixels) exceeds limit of 89478485 pixels, could be decompression bomb DOS attack.\n",
      "  warnings.warn(\n",
      "c:\\Users\\it08d\\.conda\\envs\\scan\\Lib\\site-packages\\PIL\\Image.py:3452: DecompressionBombWarning: Image size (93153436 pixels) exceeds limit of 89478485 pixels, could be decompression bomb DOS attack.\n",
      "  warnings.warn(\n",
      "c:\\Users\\it08d\\.conda\\envs\\scan\\Lib\\site-packages\\PIL\\Image.py:3452: DecompressionBombWarning: Image size (92123525 pixels) exceeds limit of 89478485 pixels, could be decompression bomb DOS attack.\n",
      "  warnings.warn(\n",
      "c:\\Users\\it08d\\.conda\\envs\\scan\\Lib\\site-packages\\PIL\\Image.py:3452: DecompressionBombWarning: Image size (112304244 pixels) exceeds limit of 89478485 pixels, could be decompression bomb DOS attack.\n",
      "  warnings.warn(\n",
      "c:\\Users\\it08d\\.conda\\envs\\scan\\Lib\\site-packages\\PIL\\Image.py:3452: DecompressionBombWarning: Image size (93175264 pixels) exceeds limit of 89478485 pixels, could be decompression bomb DOS attack.\n",
      "  warnings.warn(\n",
      "c:\\Users\\it08d\\.conda\\envs\\scan\\Lib\\site-packages\\PIL\\Image.py:3452: DecompressionBombWarning: Image size (100499520 pixels) exceeds limit of 89478485 pixels, could be decompression bomb DOS attack.\n",
      "  warnings.warn(\n",
      "c:\\Users\\it08d\\.conda\\envs\\scan\\Lib\\site-packages\\PIL\\Image.py:3452: DecompressionBombWarning: Image size (100317340 pixels) exceeds limit of 89478485 pixels, could be decompression bomb DOS attack.\n",
      "  warnings.warn(\n",
      "c:\\Users\\it08d\\.conda\\envs\\scan\\Lib\\site-packages\\PIL\\Image.py:3452: DecompressionBombWarning: Image size (107500036 pixels) exceeds limit of 89478485 pixels, could be decompression bomb DOS attack.\n",
      "  warnings.warn(\n",
      "c:\\Users\\it08d\\.conda\\envs\\scan\\Lib\\site-packages\\PIL\\Image.py:3452: DecompressionBombWarning: Image size (94585948 pixels) exceeds limit of 89478485 pixels, could be decompression bomb DOS attack.\n",
      "  warnings.warn(\n",
      "c:\\Users\\it08d\\.conda\\envs\\scan\\Lib\\site-packages\\PIL\\Image.py:3452: DecompressionBombWarning: Image size (101745175 pixels) exceeds limit of 89478485 pixels, could be decompression bomb DOS attack.\n",
      "  warnings.warn(\n",
      "c:\\Users\\it08d\\.conda\\envs\\scan\\Lib\\site-packages\\PIL\\Image.py:3452: DecompressionBombWarning: Image size (101693856 pixels) exceeds limit of 89478485 pixels, could be decompression bomb DOS attack.\n",
      "  warnings.warn(\n",
      "c:\\Users\\it08d\\.conda\\envs\\scan\\Lib\\site-packages\\PIL\\Image.py:3452: DecompressionBombWarning: Image size (100825974 pixels) exceeds limit of 89478485 pixels, could be decompression bomb DOS attack.\n",
      "  warnings.warn(\n",
      "c:\\Users\\it08d\\.conda\\envs\\scan\\Lib\\site-packages\\PIL\\Image.py:3452: DecompressionBombWarning: Image size (96696592 pixels) exceeds limit of 89478485 pixels, could be decompression bomb DOS attack.\n",
      "  warnings.warn(\n",
      "c:\\Users\\it08d\\.conda\\envs\\scan\\Lib\\site-packages\\PIL\\Image.py:3452: DecompressionBombWarning: Image size (107161272 pixels) exceeds limit of 89478485 pixels, could be decompression bomb DOS attack.\n",
      "  warnings.warn(\n",
      "Epoch 71/100: 100%|██████████| 1/1 [02:46<00:00, 166.48s/it]\n"
     ]
    },
    {
     "name": "stdout",
     "output_type": "stream",
     "text": [
      "Epoch [71/100] Loss: 499999904.0000\n"
     ]
    },
    {
     "name": "stderr",
     "output_type": "stream",
     "text": [
      "Epoch 72/100:   0%|          | 0/1 [00:00<?, ?it/s]c:\\Users\\it08d\\.conda\\envs\\scan\\Lib\\site-packages\\PIL\\Image.py:3452: DecompressionBombWarning: Image size (92895350 pixels) exceeds limit of 89478485 pixels, could be decompression bomb DOS attack.\n",
      "  warnings.warn(\n",
      "c:\\Users\\it08d\\.conda\\envs\\scan\\Lib\\site-packages\\PIL\\Image.py:3452: DecompressionBombWarning: Image size (103921146 pixels) exceeds limit of 89478485 pixels, could be decompression bomb DOS attack.\n",
      "  warnings.warn(\n",
      "c:\\Users\\it08d\\.conda\\envs\\scan\\Lib\\site-packages\\PIL\\Image.py:3452: DecompressionBombWarning: Image size (106308468 pixels) exceeds limit of 89478485 pixels, could be decompression bomb DOS attack.\n",
      "  warnings.warn(\n",
      "c:\\Users\\it08d\\.conda\\envs\\scan\\Lib\\site-packages\\PIL\\Image.py:3452: DecompressionBombWarning: Image size (110496906 pixels) exceeds limit of 89478485 pixels, could be decompression bomb DOS attack.\n",
      "  warnings.warn(\n",
      "c:\\Users\\it08d\\.conda\\envs\\scan\\Lib\\site-packages\\PIL\\Image.py:3452: DecompressionBombWarning: Image size (109673184 pixels) exceeds limit of 89478485 pixels, could be decompression bomb DOS attack.\n",
      "  warnings.warn(\n",
      "c:\\Users\\it08d\\.conda\\envs\\scan\\Lib\\site-packages\\PIL\\Image.py:3452: DecompressionBombWarning: Image size (99334515 pixels) exceeds limit of 89478485 pixels, could be decompression bomb DOS attack.\n",
      "  warnings.warn(\n",
      "c:\\Users\\it08d\\.conda\\envs\\scan\\Lib\\site-packages\\PIL\\Image.py:3452: DecompressionBombWarning: Image size (105866406 pixels) exceeds limit of 89478485 pixels, could be decompression bomb DOS attack.\n",
      "  warnings.warn(\n",
      "c:\\Users\\it08d\\.conda\\envs\\scan\\Lib\\site-packages\\PIL\\Image.py:3452: DecompressionBombWarning: Image size (93770470 pixels) exceeds limit of 89478485 pixels, could be decompression bomb DOS attack.\n",
      "  warnings.warn(\n",
      "c:\\Users\\it08d\\.conda\\envs\\scan\\Lib\\site-packages\\PIL\\Image.py:3452: DecompressionBombWarning: Image size (105337318 pixels) exceeds limit of 89478485 pixels, could be decompression bomb DOS attack.\n",
      "  warnings.warn(\n",
      "c:\\Users\\it08d\\.conda\\envs\\scan\\Lib\\site-packages\\PIL\\Image.py:3452: DecompressionBombWarning: Image size (110526759 pixels) exceeds limit of 89478485 pixels, could be decompression bomb DOS attack.\n",
      "  warnings.warn(\n",
      "c:\\Users\\it08d\\.conda\\envs\\scan\\Lib\\site-packages\\PIL\\Image.py:3452: DecompressionBombWarning: Image size (91655776 pixels) exceeds limit of 89478485 pixels, could be decompression bomb DOS attack.\n",
      "  warnings.warn(\n",
      "c:\\Users\\it08d\\.conda\\envs\\scan\\Lib\\site-packages\\PIL\\Image.py:3452: DecompressionBombWarning: Image size (90563508 pixels) exceeds limit of 89478485 pixels, could be decompression bomb DOS attack.\n",
      "  warnings.warn(\n",
      "c:\\Users\\it08d\\.conda\\envs\\scan\\Lib\\site-packages\\PIL\\Image.py:3452: DecompressionBombWarning: Image size (111539346 pixels) exceeds limit of 89478485 pixels, could be decompression bomb DOS attack.\n",
      "  warnings.warn(\n",
      "c:\\Users\\it08d\\.conda\\envs\\scan\\Lib\\site-packages\\PIL\\Image.py:3452: DecompressionBombWarning: Image size (101426427 pixels) exceeds limit of 89478485 pixels, could be decompression bomb DOS attack.\n",
      "  warnings.warn(\n",
      "c:\\Users\\it08d\\.conda\\envs\\scan\\Lib\\site-packages\\PIL\\Image.py:3452: DecompressionBombWarning: Image size (106053624 pixels) exceeds limit of 89478485 pixels, could be decompression bomb DOS attack.\n",
      "  warnings.warn(\n",
      "c:\\Users\\it08d\\.conda\\envs\\scan\\Lib\\site-packages\\PIL\\Image.py:3452: DecompressionBombWarning: Image size (92204684 pixels) exceeds limit of 89478485 pixels, could be decompression bomb DOS attack.\n",
      "  warnings.warn(\n",
      "c:\\Users\\it08d\\.conda\\envs\\scan\\Lib\\site-packages\\PIL\\Image.py:3452: DecompressionBombWarning: Image size (96951582 pixels) exceeds limit of 89478485 pixels, could be decompression bomb DOS attack.\n",
      "  warnings.warn(\n",
      "c:\\Users\\it08d\\.conda\\envs\\scan\\Lib\\site-packages\\PIL\\Image.py:3452: DecompressionBombWarning: Image size (101387732 pixels) exceeds limit of 89478485 pixels, could be decompression bomb DOS attack.\n",
      "  warnings.warn(\n",
      "c:\\Users\\it08d\\.conda\\envs\\scan\\Lib\\site-packages\\PIL\\Image.py:3452: DecompressionBombWarning: Image size (104112288 pixels) exceeds limit of 89478485 pixels, could be decompression bomb DOS attack.\n",
      "  warnings.warn(\n",
      "Epoch 72/100: 100%|██████████| 1/1 [02:35<00:00, 155.72s/it]\n"
     ]
    },
    {
     "name": "stdout",
     "output_type": "stream",
     "text": [
      "Epoch [72/100] Loss: 499999904.0000\n"
     ]
    },
    {
     "name": "stderr",
     "output_type": "stream",
     "text": [
      "Epoch 73/100:   0%|          | 0/1 [00:00<?, ?it/s]c:\\Users\\it08d\\.conda\\envs\\scan\\Lib\\site-packages\\PIL\\Image.py:3452: DecompressionBombWarning: Image size (108409623 pixels) exceeds limit of 89478485 pixels, could be decompression bomb DOS attack.\n",
      "  warnings.warn(\n",
      "c:\\Users\\it08d\\.conda\\envs\\scan\\Lib\\site-packages\\PIL\\Image.py:3452: DecompressionBombWarning: Image size (96961452 pixels) exceeds limit of 89478485 pixels, could be decompression bomb DOS attack.\n",
      "  warnings.warn(\n",
      "c:\\Users\\it08d\\.conda\\envs\\scan\\Lib\\site-packages\\PIL\\Image.py:3452: DecompressionBombWarning: Image size (92872857 pixels) exceeds limit of 89478485 pixels, could be decompression bomb DOS attack.\n",
      "  warnings.warn(\n",
      "c:\\Users\\it08d\\.conda\\envs\\scan\\Lib\\site-packages\\PIL\\Image.py:3452: DecompressionBombWarning: Image size (91196160 pixels) exceeds limit of 89478485 pixels, could be decompression bomb DOS attack.\n",
      "  warnings.warn(\n",
      "c:\\Users\\it08d\\.conda\\envs\\scan\\Lib\\site-packages\\PIL\\Image.py:3452: DecompressionBombWarning: Image size (112776670 pixels) exceeds limit of 89478485 pixels, could be decompression bomb DOS attack.\n",
      "  warnings.warn(\n",
      "c:\\Users\\it08d\\.conda\\envs\\scan\\Lib\\site-packages\\PIL\\Image.py:3452: DecompressionBombWarning: Image size (96213183 pixels) exceeds limit of 89478485 pixels, could be decompression bomb DOS attack.\n",
      "  warnings.warn(\n",
      "c:\\Users\\it08d\\.conda\\envs\\scan\\Lib\\site-packages\\PIL\\Image.py:3452: DecompressionBombWarning: Image size (115321896 pixels) exceeds limit of 89478485 pixels, could be decompression bomb DOS attack.\n",
      "  warnings.warn(\n",
      "c:\\Users\\it08d\\.conda\\envs\\scan\\Lib\\site-packages\\PIL\\Image.py:3452: DecompressionBombWarning: Image size (92232730 pixels) exceeds limit of 89478485 pixels, could be decompression bomb DOS attack.\n",
      "  warnings.warn(\n",
      "c:\\Users\\it08d\\.conda\\envs\\scan\\Lib\\site-packages\\PIL\\Image.py:3452: DecompressionBombWarning: Image size (102945996 pixels) exceeds limit of 89478485 pixels, could be decompression bomb DOS attack.\n",
      "  warnings.warn(\n",
      "c:\\Users\\it08d\\.conda\\envs\\scan\\Lib\\site-packages\\PIL\\Image.py:3452: DecompressionBombWarning: Image size (99097708 pixels) exceeds limit of 89478485 pixels, could be decompression bomb DOS attack.\n",
      "  warnings.warn(\n",
      "c:\\Users\\it08d\\.conda\\envs\\scan\\Lib\\site-packages\\PIL\\Image.py:3452: DecompressionBombWarning: Image size (110715330 pixels) exceeds limit of 89478485 pixels, could be decompression bomb DOS attack.\n",
      "  warnings.warn(\n",
      "c:\\Users\\it08d\\.conda\\envs\\scan\\Lib\\site-packages\\PIL\\Image.py:3452: DecompressionBombWarning: Image size (99631476 pixels) exceeds limit of 89478485 pixels, could be decompression bomb DOS attack.\n",
      "  warnings.warn(\n",
      "c:\\Users\\it08d\\.conda\\envs\\scan\\Lib\\site-packages\\PIL\\Image.py:3452: DecompressionBombWarning: Image size (92152932 pixels) exceeds limit of 89478485 pixels, could be decompression bomb DOS attack.\n",
      "  warnings.warn(\n",
      "c:\\Users\\it08d\\.conda\\envs\\scan\\Lib\\site-packages\\PIL\\Image.py:3452: DecompressionBombWarning: Image size (94977760 pixels) exceeds limit of 89478485 pixels, could be decompression bomb DOS attack.\n",
      "  warnings.warn(\n",
      "c:\\Users\\it08d\\.conda\\envs\\scan\\Lib\\site-packages\\PIL\\Image.py:3452: DecompressionBombWarning: Image size (90950648 pixels) exceeds limit of 89478485 pixels, could be decompression bomb DOS attack.\n",
      "  warnings.warn(\n",
      "c:\\Users\\it08d\\.conda\\envs\\scan\\Lib\\site-packages\\PIL\\Image.py:3452: DecompressionBombWarning: Image size (95643900 pixels) exceeds limit of 89478485 pixels, could be decompression bomb DOS attack.\n",
      "  warnings.warn(\n",
      "Epoch 73/100: 100%|██████████| 1/1 [02:33<00:00, 153.42s/it]\n"
     ]
    },
    {
     "name": "stdout",
     "output_type": "stream",
     "text": [
      "Epoch [73/100] Loss: 499999904.0000\n"
     ]
    },
    {
     "name": "stderr",
     "output_type": "stream",
     "text": [
      "Epoch 74/100:   0%|          | 0/1 [00:00<?, ?it/s]c:\\Users\\it08d\\.conda\\envs\\scan\\Lib\\site-packages\\PIL\\Image.py:3452: DecompressionBombWarning: Image size (102596112 pixels) exceeds limit of 89478485 pixels, could be decompression bomb DOS attack.\n",
      "  warnings.warn(\n",
      "c:\\Users\\it08d\\.conda\\envs\\scan\\Lib\\site-packages\\PIL\\Image.py:3452: DecompressionBombWarning: Image size (108884043 pixels) exceeds limit of 89478485 pixels, could be decompression bomb DOS attack.\n",
      "  warnings.warn(\n",
      "c:\\Users\\it08d\\.conda\\envs\\scan\\Lib\\site-packages\\PIL\\Image.py:3452: DecompressionBombWarning: Image size (97899648 pixels) exceeds limit of 89478485 pixels, could be decompression bomb DOS attack.\n",
      "  warnings.warn(\n",
      "c:\\Users\\it08d\\.conda\\envs\\scan\\Lib\\site-packages\\PIL\\Image.py:3452: DecompressionBombWarning: Image size (105797720 pixels) exceeds limit of 89478485 pixels, could be decompression bomb DOS attack.\n",
      "  warnings.warn(\n",
      "c:\\Users\\it08d\\.conda\\envs\\scan\\Lib\\site-packages\\PIL\\Image.py:3452: DecompressionBombWarning: Image size (101159072 pixels) exceeds limit of 89478485 pixels, could be decompression bomb DOS attack.\n",
      "  warnings.warn(\n",
      "c:\\Users\\it08d\\.conda\\envs\\scan\\Lib\\site-packages\\PIL\\Image.py:3452: DecompressionBombWarning: Image size (101419904 pixels) exceeds limit of 89478485 pixels, could be decompression bomb DOS attack.\n",
      "  warnings.warn(\n",
      "c:\\Users\\it08d\\.conda\\envs\\scan\\Lib\\site-packages\\PIL\\Image.py:3452: DecompressionBombWarning: Image size (105973098 pixels) exceeds limit of 89478485 pixels, could be decompression bomb DOS attack.\n",
      "  warnings.warn(\n",
      "c:\\Users\\it08d\\.conda\\envs\\scan\\Lib\\site-packages\\PIL\\Image.py:3452: DecompressionBombWarning: Image size (91898248 pixels) exceeds limit of 89478485 pixels, could be decompression bomb DOS attack.\n",
      "  warnings.warn(\n",
      "c:\\Users\\it08d\\.conda\\envs\\scan\\Lib\\site-packages\\PIL\\Image.py:3452: DecompressionBombWarning: Image size (97043670 pixels) exceeds limit of 89478485 pixels, could be decompression bomb DOS attack.\n",
      "  warnings.warn(\n",
      "c:\\Users\\it08d\\.conda\\envs\\scan\\Lib\\site-packages\\PIL\\Image.py:3452: DecompressionBombWarning: Image size (89670388 pixels) exceeds limit of 89478485 pixels, could be decompression bomb DOS attack.\n",
      "  warnings.warn(\n",
      "c:\\Users\\it08d\\.conda\\envs\\scan\\Lib\\site-packages\\PIL\\Image.py:3452: DecompressionBombWarning: Image size (118788798 pixels) exceeds limit of 89478485 pixels, could be decompression bomb DOS attack.\n",
      "  warnings.warn(\n",
      "c:\\Users\\it08d\\.conda\\envs\\scan\\Lib\\site-packages\\PIL\\Image.py:3452: DecompressionBombWarning: Image size (92063043 pixels) exceeds limit of 89478485 pixels, could be decompression bomb DOS attack.\n",
      "  warnings.warn(\n",
      "c:\\Users\\it08d\\.conda\\envs\\scan\\Lib\\site-packages\\PIL\\Image.py:3452: DecompressionBombWarning: Image size (102616728 pixels) exceeds limit of 89478485 pixels, could be decompression bomb DOS attack.\n",
      "  warnings.warn(\n",
      "c:\\Users\\it08d\\.conda\\envs\\scan\\Lib\\site-packages\\PIL\\Image.py:3452: DecompressionBombWarning: Image size (115837788 pixels) exceeds limit of 89478485 pixels, could be decompression bomb DOS attack.\n",
      "  warnings.warn(\n",
      "c:\\Users\\it08d\\.conda\\envs\\scan\\Lib\\site-packages\\PIL\\Image.py:3452: DecompressionBombWarning: Image size (106888383 pixels) exceeds limit of 89478485 pixels, could be decompression bomb DOS attack.\n",
      "  warnings.warn(\n",
      "c:\\Users\\it08d\\.conda\\envs\\scan\\Lib\\site-packages\\PIL\\Image.py:3452: DecompressionBombWarning: Image size (109824960 pixels) exceeds limit of 89478485 pixels, could be decompression bomb DOS attack.\n",
      "  warnings.warn(\n",
      "c:\\Users\\it08d\\.conda\\envs\\scan\\Lib\\site-packages\\PIL\\Image.py:3452: DecompressionBombWarning: Image size (101458773 pixels) exceeds limit of 89478485 pixels, could be decompression bomb DOS attack.\n",
      "  warnings.warn(\n",
      "c:\\Users\\it08d\\.conda\\envs\\scan\\Lib\\site-packages\\PIL\\Image.py:3452: DecompressionBombWarning: Image size (103038750 pixels) exceeds limit of 89478485 pixels, could be decompression bomb DOS attack.\n",
      "  warnings.warn(\n",
      "c:\\Users\\it08d\\.conda\\envs\\scan\\Lib\\site-packages\\PIL\\Image.py:3452: DecompressionBombWarning: Image size (97852188 pixels) exceeds limit of 89478485 pixels, could be decompression bomb DOS attack.\n",
      "  warnings.warn(\n",
      "c:\\Users\\it08d\\.conda\\envs\\scan\\Lib\\site-packages\\PIL\\Image.py:3452: DecompressionBombWarning: Image size (103516308 pixels) exceeds limit of 89478485 pixels, could be decompression bomb DOS attack.\n",
      "  warnings.warn(\n",
      "c:\\Users\\it08d\\.conda\\envs\\scan\\Lib\\site-packages\\PIL\\Image.py:3452: DecompressionBombWarning: Image size (103614448 pixels) exceeds limit of 89478485 pixels, could be decompression bomb DOS attack.\n",
      "  warnings.warn(\n",
      "Epoch 74/100: 100%|██████████| 1/1 [02:38<00:00, 158.02s/it]\n"
     ]
    },
    {
     "name": "stdout",
     "output_type": "stream",
     "text": [
      "Epoch [74/100] Loss: 499999904.0000\n"
     ]
    },
    {
     "name": "stderr",
     "output_type": "stream",
     "text": [
      "Epoch 75/100:   0%|          | 0/1 [00:00<?, ?it/s]c:\\Users\\it08d\\.conda\\envs\\scan\\Lib\\site-packages\\PIL\\Image.py:3452: DecompressionBombWarning: Image size (90673140 pixels) exceeds limit of 89478485 pixels, could be decompression bomb DOS attack.\n",
      "  warnings.warn(\n",
      "c:\\Users\\it08d\\.conda\\envs\\scan\\Lib\\site-packages\\PIL\\Image.py:3452: DecompressionBombWarning: Image size (90467115 pixels) exceeds limit of 89478485 pixels, could be decompression bomb DOS attack.\n",
      "  warnings.warn(\n",
      "c:\\Users\\it08d\\.conda\\envs\\scan\\Lib\\site-packages\\PIL\\Image.py:3452: DecompressionBombWarning: Image size (116632167 pixels) exceeds limit of 89478485 pixels, could be decompression bomb DOS attack.\n",
      "  warnings.warn(\n",
      "c:\\Users\\it08d\\.conda\\envs\\scan\\Lib\\site-packages\\PIL\\Image.py:3452: DecompressionBombWarning: Image size (106425848 pixels) exceeds limit of 89478485 pixels, could be decompression bomb DOS attack.\n",
      "  warnings.warn(\n",
      "c:\\Users\\it08d\\.conda\\envs\\scan\\Lib\\site-packages\\PIL\\Image.py:3452: DecompressionBombWarning: Image size (91092716 pixels) exceeds limit of 89478485 pixels, could be decompression bomb DOS attack.\n",
      "  warnings.warn(\n",
      "c:\\Users\\it08d\\.conda\\envs\\scan\\Lib\\site-packages\\PIL\\Image.py:3452: DecompressionBombWarning: Image size (116123565 pixels) exceeds limit of 89478485 pixels, could be decompression bomb DOS attack.\n",
      "  warnings.warn(\n",
      "c:\\Users\\it08d\\.conda\\envs\\scan\\Lib\\site-packages\\PIL\\Image.py:3452: DecompressionBombWarning: Image size (106040121 pixels) exceeds limit of 89478485 pixels, could be decompression bomb DOS attack.\n",
      "  warnings.warn(\n",
      "c:\\Users\\it08d\\.conda\\envs\\scan\\Lib\\site-packages\\PIL\\Image.py:3452: DecompressionBombWarning: Image size (91668488 pixels) exceeds limit of 89478485 pixels, could be decompression bomb DOS attack.\n",
      "  warnings.warn(\n",
      "c:\\Users\\it08d\\.conda\\envs\\scan\\Lib\\site-packages\\PIL\\Image.py:3452: DecompressionBombWarning: Image size (97102180 pixels) exceeds limit of 89478485 pixels, could be decompression bomb DOS attack.\n",
      "  warnings.warn(\n",
      "c:\\Users\\it08d\\.conda\\envs\\scan\\Lib\\site-packages\\PIL\\Image.py:3452: DecompressionBombWarning: Image size (104539120 pixels) exceeds limit of 89478485 pixels, could be decompression bomb DOS attack.\n",
      "  warnings.warn(\n",
      "c:\\Users\\it08d\\.conda\\envs\\scan\\Lib\\site-packages\\PIL\\Image.py:3452: DecompressionBombWarning: Image size (90604305 pixels) exceeds limit of 89478485 pixels, could be decompression bomb DOS attack.\n",
      "  warnings.warn(\n",
      "c:\\Users\\it08d\\.conda\\envs\\scan\\Lib\\site-packages\\PIL\\Image.py:3452: DecompressionBombWarning: Image size (114518586 pixels) exceeds limit of 89478485 pixels, could be decompression bomb DOS attack.\n",
      "  warnings.warn(\n",
      "c:\\Users\\it08d\\.conda\\envs\\scan\\Lib\\site-packages\\PIL\\Image.py:3452: DecompressionBombWarning: Image size (96558663 pixels) exceeds limit of 89478485 pixels, could be decompression bomb DOS attack.\n",
      "  warnings.warn(\n",
      "c:\\Users\\it08d\\.conda\\envs\\scan\\Lib\\site-packages\\PIL\\Image.py:3452: DecompressionBombWarning: Image size (97044048 pixels) exceeds limit of 89478485 pixels, could be decompression bomb DOS attack.\n",
      "  warnings.warn(\n",
      "c:\\Users\\it08d\\.conda\\envs\\scan\\Lib\\site-packages\\PIL\\Image.py:3452: DecompressionBombWarning: Image size (94520000 pixels) exceeds limit of 89478485 pixels, could be decompression bomb DOS attack.\n",
      "  warnings.warn(\n",
      "c:\\Users\\it08d\\.conda\\envs\\scan\\Lib\\site-packages\\PIL\\Image.py:3452: DecompressionBombWarning: Image size (98745371 pixels) exceeds limit of 89478485 pixels, could be decompression bomb DOS attack.\n",
      "  warnings.warn(\n",
      "c:\\Users\\it08d\\.conda\\envs\\scan\\Lib\\site-packages\\PIL\\Image.py:3452: DecompressionBombWarning: Image size (114915548 pixels) exceeds limit of 89478485 pixels, could be decompression bomb DOS attack.\n",
      "  warnings.warn(\n",
      "Epoch 75/100: 100%|██████████| 1/1 [02:38<00:00, 158.74s/it]\n"
     ]
    },
    {
     "name": "stdout",
     "output_type": "stream",
     "text": [
      "Epoch [75/100] Loss: 499999904.0000\n"
     ]
    },
    {
     "name": "stderr",
     "output_type": "stream",
     "text": [
      "Epoch 76/100:   0%|          | 0/1 [00:00<?, ?it/s]c:\\Users\\it08d\\.conda\\envs\\scan\\Lib\\site-packages\\PIL\\Image.py:3452: DecompressionBombWarning: Image size (107299600 pixels) exceeds limit of 89478485 pixels, could be decompression bomb DOS attack.\n",
      "  warnings.warn(\n",
      "c:\\Users\\it08d\\.conda\\envs\\scan\\Lib\\site-packages\\PIL\\Image.py:3452: DecompressionBombWarning: Image size (96124828 pixels) exceeds limit of 89478485 pixels, could be decompression bomb DOS attack.\n",
      "  warnings.warn(\n",
      "c:\\Users\\it08d\\.conda\\envs\\scan\\Lib\\site-packages\\PIL\\Image.py:3452: DecompressionBombWarning: Image size (92145564 pixels) exceeds limit of 89478485 pixels, could be decompression bomb DOS attack.\n",
      "  warnings.warn(\n",
      "c:\\Users\\it08d\\.conda\\envs\\scan\\Lib\\site-packages\\PIL\\Image.py:3452: DecompressionBombWarning: Image size (89527080 pixels) exceeds limit of 89478485 pixels, could be decompression bomb DOS attack.\n",
      "  warnings.warn(\n",
      "c:\\Users\\it08d\\.conda\\envs\\scan\\Lib\\site-packages\\PIL\\Image.py:3452: DecompressionBombWarning: Image size (99262800 pixels) exceeds limit of 89478485 pixels, could be decompression bomb DOS attack.\n",
      "  warnings.warn(\n",
      "c:\\Users\\it08d\\.conda\\envs\\scan\\Lib\\site-packages\\PIL\\Image.py:3452: DecompressionBombWarning: Image size (97636500 pixels) exceeds limit of 89478485 pixels, could be decompression bomb DOS attack.\n",
      "  warnings.warn(\n",
      "c:\\Users\\it08d\\.conda\\envs\\scan\\Lib\\site-packages\\PIL\\Image.py:3452: DecompressionBombWarning: Image size (100057705 pixels) exceeds limit of 89478485 pixels, could be decompression bomb DOS attack.\n",
      "  warnings.warn(\n",
      "c:\\Users\\it08d\\.conda\\envs\\scan\\Lib\\site-packages\\PIL\\Image.py:3452: DecompressionBombWarning: Image size (107167281 pixels) exceeds limit of 89478485 pixels, could be decompression bomb DOS attack.\n",
      "  warnings.warn(\n",
      "c:\\Users\\it08d\\.conda\\envs\\scan\\Lib\\site-packages\\PIL\\Image.py:3452: DecompressionBombWarning: Image size (110964000 pixels) exceeds limit of 89478485 pixels, could be decompression bomb DOS attack.\n",
      "  warnings.warn(\n",
      "c:\\Users\\it08d\\.conda\\envs\\scan\\Lib\\site-packages\\PIL\\Image.py:3452: DecompressionBombWarning: Image size (101411492 pixels) exceeds limit of 89478485 pixels, could be decompression bomb DOS attack.\n",
      "  warnings.warn(\n",
      "c:\\Users\\it08d\\.conda\\envs\\scan\\Lib\\site-packages\\PIL\\Image.py:3452: DecompressionBombWarning: Image size (93299820 pixels) exceeds limit of 89478485 pixels, could be decompression bomb DOS attack.\n",
      "  warnings.warn(\n",
      "c:\\Users\\it08d\\.conda\\envs\\scan\\Lib\\site-packages\\PIL\\Image.py:3452: DecompressionBombWarning: Image size (104908320 pixels) exceeds limit of 89478485 pixels, could be decompression bomb DOS attack.\n",
      "  warnings.warn(\n",
      "c:\\Users\\it08d\\.conda\\envs\\scan\\Lib\\site-packages\\PIL\\Image.py:3452: DecompressionBombWarning: Image size (104898706 pixels) exceeds limit of 89478485 pixels, could be decompression bomb DOS attack.\n",
      "  warnings.warn(\n",
      "c:\\Users\\it08d\\.conda\\envs\\scan\\Lib\\site-packages\\PIL\\Image.py:3452: DecompressionBombWarning: Image size (90902535 pixels) exceeds limit of 89478485 pixels, could be decompression bomb DOS attack.\n",
      "  warnings.warn(\n",
      "c:\\Users\\it08d\\.conda\\envs\\scan\\Lib\\site-packages\\PIL\\Image.py:3452: DecompressionBombWarning: Image size (99544008 pixels) exceeds limit of 89478485 pixels, could be decompression bomb DOS attack.\n",
      "  warnings.warn(\n",
      "c:\\Users\\it08d\\.conda\\envs\\scan\\Lib\\site-packages\\PIL\\Image.py:3452: DecompressionBombWarning: Image size (91763514 pixels) exceeds limit of 89478485 pixels, could be decompression bomb DOS attack.\n",
      "  warnings.warn(\n",
      "c:\\Users\\it08d\\.conda\\envs\\scan\\Lib\\site-packages\\PIL\\Image.py:3452: DecompressionBombWarning: Image size (106236474 pixels) exceeds limit of 89478485 pixels, could be decompression bomb DOS attack.\n",
      "  warnings.warn(\n",
      "c:\\Users\\it08d\\.conda\\envs\\scan\\Lib\\site-packages\\PIL\\Image.py:3452: DecompressionBombWarning: Image size (96421875 pixels) exceeds limit of 89478485 pixels, could be decompression bomb DOS attack.\n",
      "  warnings.warn(\n",
      "c:\\Users\\it08d\\.conda\\envs\\scan\\Lib\\site-packages\\PIL\\Image.py:3452: DecompressionBombWarning: Image size (91195640 pixels) exceeds limit of 89478485 pixels, could be decompression bomb DOS attack.\n",
      "  warnings.warn(\n",
      "c:\\Users\\it08d\\.conda\\envs\\scan\\Lib\\site-packages\\PIL\\Image.py:3452: DecompressionBombWarning: Image size (91722956 pixels) exceeds limit of 89478485 pixels, could be decompression bomb DOS attack.\n",
      "  warnings.warn(\n",
      "Epoch 76/100: 100%|██████████| 1/1 [03:04<00:00, 184.44s/it]\n"
     ]
    },
    {
     "name": "stdout",
     "output_type": "stream",
     "text": [
      "Epoch [76/100] Loss: 499999904.0000\n"
     ]
    },
    {
     "name": "stderr",
     "output_type": "stream",
     "text": [
      "Epoch 77/100:   0%|          | 0/1 [00:00<?, ?it/s]c:\\Users\\it08d\\.conda\\envs\\scan\\Lib\\site-packages\\PIL\\Image.py:3452: DecompressionBombWarning: Image size (91965395 pixels) exceeds limit of 89478485 pixels, could be decompression bomb DOS attack.\n",
      "  warnings.warn(\n",
      "c:\\Users\\it08d\\.conda\\envs\\scan\\Lib\\site-packages\\PIL\\Image.py:3452: DecompressionBombWarning: Image size (97031758 pixels) exceeds limit of 89478485 pixels, could be decompression bomb DOS attack.\n",
      "  warnings.warn(\n",
      "c:\\Users\\it08d\\.conda\\envs\\scan\\Lib\\site-packages\\PIL\\Image.py:3452: DecompressionBombWarning: Image size (115645886 pixels) exceeds limit of 89478485 pixels, could be decompression bomb DOS attack.\n",
      "  warnings.warn(\n",
      "c:\\Users\\it08d\\.conda\\envs\\scan\\Lib\\site-packages\\PIL\\Image.py:3452: DecompressionBombWarning: Image size (102168890 pixels) exceeds limit of 89478485 pixels, could be decompression bomb DOS attack.\n",
      "  warnings.warn(\n",
      "c:\\Users\\it08d\\.conda\\envs\\scan\\Lib\\site-packages\\PIL\\Image.py:3452: DecompressionBombWarning: Image size (91506039 pixels) exceeds limit of 89478485 pixels, could be decompression bomb DOS attack.\n",
      "  warnings.warn(\n",
      "c:\\Users\\it08d\\.conda\\envs\\scan\\Lib\\site-packages\\PIL\\Image.py:3452: DecompressionBombWarning: Image size (102640148 pixels) exceeds limit of 89478485 pixels, could be decompression bomb DOS attack.\n",
      "  warnings.warn(\n",
      "c:\\Users\\it08d\\.conda\\envs\\scan\\Lib\\site-packages\\PIL\\Image.py:3452: DecompressionBombWarning: Image size (114165200 pixels) exceeds limit of 89478485 pixels, could be decompression bomb DOS attack.\n",
      "  warnings.warn(\n",
      "c:\\Users\\it08d\\.conda\\envs\\scan\\Lib\\site-packages\\PIL\\Image.py:3452: DecompressionBombWarning: Image size (89961744 pixels) exceeds limit of 89478485 pixels, could be decompression bomb DOS attack.\n",
      "  warnings.warn(\n",
      "c:\\Users\\it08d\\.conda\\envs\\scan\\Lib\\site-packages\\PIL\\Image.py:3452: DecompressionBombWarning: Image size (89627479 pixels) exceeds limit of 89478485 pixels, could be decompression bomb DOS attack.\n",
      "  warnings.warn(\n",
      "c:\\Users\\it08d\\.conda\\envs\\scan\\Lib\\site-packages\\PIL\\Image.py:3452: DecompressionBombWarning: Image size (90893124 pixels) exceeds limit of 89478485 pixels, could be decompression bomb DOS attack.\n",
      "  warnings.warn(\n",
      "c:\\Users\\it08d\\.conda\\envs\\scan\\Lib\\site-packages\\PIL\\Image.py:3452: DecompressionBombWarning: Image size (92170920 pixels) exceeds limit of 89478485 pixels, could be decompression bomb DOS attack.\n",
      "  warnings.warn(\n",
      "c:\\Users\\it08d\\.conda\\envs\\scan\\Lib\\site-packages\\PIL\\Image.py:3452: DecompressionBombWarning: Image size (106626614 pixels) exceeds limit of 89478485 pixels, could be decompression bomb DOS attack.\n",
      "  warnings.warn(\n",
      "c:\\Users\\it08d\\.conda\\envs\\scan\\Lib\\site-packages\\PIL\\Image.py:3452: DecompressionBombWarning: Image size (90515040 pixels) exceeds limit of 89478485 pixels, could be decompression bomb DOS attack.\n",
      "  warnings.warn(\n",
      "c:\\Users\\it08d\\.conda\\envs\\scan\\Lib\\site-packages\\PIL\\Image.py:3452: DecompressionBombWarning: Image size (107956415 pixels) exceeds limit of 89478485 pixels, could be decompression bomb DOS attack.\n",
      "  warnings.warn(\n",
      "c:\\Users\\it08d\\.conda\\envs\\scan\\Lib\\site-packages\\PIL\\Image.py:3452: DecompressionBombWarning: Image size (93911489 pixels) exceeds limit of 89478485 pixels, could be decompression bomb DOS attack.\n",
      "  warnings.warn(\n",
      "c:\\Users\\it08d\\.conda\\envs\\scan\\Lib\\site-packages\\PIL\\Image.py:3452: DecompressionBombWarning: Image size (113917450 pixels) exceeds limit of 89478485 pixels, could be decompression bomb DOS attack.\n",
      "  warnings.warn(\n",
      "c:\\Users\\it08d\\.conda\\envs\\scan\\Lib\\site-packages\\PIL\\Image.py:3452: DecompressionBombWarning: Image size (102386240 pixels) exceeds limit of 89478485 pixels, could be decompression bomb DOS attack.\n",
      "  warnings.warn(\n",
      "c:\\Users\\it08d\\.conda\\envs\\scan\\Lib\\site-packages\\PIL\\Image.py:3452: DecompressionBombWarning: Image size (94471455 pixels) exceeds limit of 89478485 pixels, could be decompression bomb DOS attack.\n",
      "  warnings.warn(\n",
      "c:\\Users\\it08d\\.conda\\envs\\scan\\Lib\\site-packages\\PIL\\Image.py:3452: DecompressionBombWarning: Image size (102823070 pixels) exceeds limit of 89478485 pixels, could be decompression bomb DOS attack.\n",
      "  warnings.warn(\n",
      "c:\\Users\\it08d\\.conda\\envs\\scan\\Lib\\site-packages\\PIL\\Image.py:3452: DecompressionBombWarning: Image size (98878104 pixels) exceeds limit of 89478485 pixels, could be decompression bomb DOS attack.\n",
      "  warnings.warn(\n",
      "c:\\Users\\it08d\\.conda\\envs\\scan\\Lib\\site-packages\\PIL\\Image.py:3452: DecompressionBombWarning: Image size (98707869 pixels) exceeds limit of 89478485 pixels, could be decompression bomb DOS attack.\n",
      "  warnings.warn(\n",
      "c:\\Users\\it08d\\.conda\\envs\\scan\\Lib\\site-packages\\PIL\\Image.py:3452: DecompressionBombWarning: Image size (100169888 pixels) exceeds limit of 89478485 pixels, could be decompression bomb DOS attack.\n",
      "  warnings.warn(\n",
      "c:\\Users\\it08d\\.conda\\envs\\scan\\Lib\\site-packages\\PIL\\Image.py:3452: DecompressionBombWarning: Image size (96616443 pixels) exceeds limit of 89478485 pixels, could be decompression bomb DOS attack.\n",
      "  warnings.warn(\n",
      "c:\\Users\\it08d\\.conda\\envs\\scan\\Lib\\site-packages\\PIL\\Image.py:3452: DecompressionBombWarning: Image size (107561696 pixels) exceeds limit of 89478485 pixels, could be decompression bomb DOS attack.\n",
      "  warnings.warn(\n",
      "c:\\Users\\it08d\\.conda\\envs\\scan\\Lib\\site-packages\\PIL\\Image.py:3452: DecompressionBombWarning: Image size (90271435 pixels) exceeds limit of 89478485 pixels, could be decompression bomb DOS attack.\n",
      "  warnings.warn(\n",
      "c:\\Users\\it08d\\.conda\\envs\\scan\\Lib\\site-packages\\PIL\\Image.py:3452: DecompressionBombWarning: Image size (89494290 pixels) exceeds limit of 89478485 pixels, could be decompression bomb DOS attack.\n",
      "  warnings.warn(\n",
      "Epoch 77/100: 100%|██████████| 1/1 [03:50<00:00, 230.57s/it]\n"
     ]
    },
    {
     "name": "stdout",
     "output_type": "stream",
     "text": [
      "Epoch [77/100] Loss: 499999904.0000\n"
     ]
    },
    {
     "name": "stderr",
     "output_type": "stream",
     "text": [
      "Epoch 78/100:   0%|          | 0/1 [00:00<?, ?it/s]c:\\Users\\it08d\\.conda\\envs\\scan\\Lib\\site-packages\\PIL\\Image.py:3452: DecompressionBombWarning: Image size (99449178 pixels) exceeds limit of 89478485 pixels, could be decompression bomb DOS attack.\n",
      "  warnings.warn(\n",
      "c:\\Users\\it08d\\.conda\\envs\\scan\\Lib\\site-packages\\PIL\\Image.py:3452: DecompressionBombWarning: Image size (101289232 pixels) exceeds limit of 89478485 pixels, could be decompression bomb DOS attack.\n",
      "  warnings.warn(\n",
      "c:\\Users\\it08d\\.conda\\envs\\scan\\Lib\\site-packages\\PIL\\Image.py:3452: DecompressionBombWarning: Image size (96572854 pixels) exceeds limit of 89478485 pixels, could be decompression bomb DOS attack.\n",
      "  warnings.warn(\n",
      "c:\\Users\\it08d\\.conda\\envs\\scan\\Lib\\site-packages\\PIL\\Image.py:3452: DecompressionBombWarning: Image size (101136193 pixels) exceeds limit of 89478485 pixels, could be decompression bomb DOS attack.\n",
      "  warnings.warn(\n",
      "c:\\Users\\it08d\\.conda\\envs\\scan\\Lib\\site-packages\\PIL\\Image.py:3452: DecompressionBombWarning: Image size (106298040 pixels) exceeds limit of 89478485 pixels, could be decompression bomb DOS attack.\n",
      "  warnings.warn(\n",
      "c:\\Users\\it08d\\.conda\\envs\\scan\\Lib\\site-packages\\PIL\\Image.py:3452: DecompressionBombWarning: Image size (117579111 pixels) exceeds limit of 89478485 pixels, could be decompression bomb DOS attack.\n",
      "  warnings.warn(\n",
      "c:\\Users\\it08d\\.conda\\envs\\scan\\Lib\\site-packages\\PIL\\Image.py:3452: DecompressionBombWarning: Image size (92212315 pixels) exceeds limit of 89478485 pixels, could be decompression bomb DOS attack.\n",
      "  warnings.warn(\n",
      "c:\\Users\\it08d\\.conda\\envs\\scan\\Lib\\site-packages\\PIL\\Image.py:3452: DecompressionBombWarning: Image size (98461926 pixels) exceeds limit of 89478485 pixels, could be decompression bomb DOS attack.\n",
      "  warnings.warn(\n",
      "c:\\Users\\it08d\\.conda\\envs\\scan\\Lib\\site-packages\\PIL\\Image.py:3452: DecompressionBombWarning: Image size (100753700 pixels) exceeds limit of 89478485 pixels, could be decompression bomb DOS attack.\n",
      "  warnings.warn(\n",
      "c:\\Users\\it08d\\.conda\\envs\\scan\\Lib\\site-packages\\PIL\\Image.py:3452: DecompressionBombWarning: Image size (102242096 pixels) exceeds limit of 89478485 pixels, could be decompression bomb DOS attack.\n",
      "  warnings.warn(\n",
      "c:\\Users\\it08d\\.conda\\envs\\scan\\Lib\\site-packages\\PIL\\Image.py:3452: DecompressionBombWarning: Image size (110607525 pixels) exceeds limit of 89478485 pixels, could be decompression bomb DOS attack.\n",
      "  warnings.warn(\n",
      "c:\\Users\\it08d\\.conda\\envs\\scan\\Lib\\site-packages\\PIL\\Image.py:3452: DecompressionBombWarning: Image size (96935760 pixels) exceeds limit of 89478485 pixels, could be decompression bomb DOS attack.\n",
      "  warnings.warn(\n",
      "c:\\Users\\it08d\\.conda\\envs\\scan\\Lib\\site-packages\\PIL\\Image.py:3452: DecompressionBombWarning: Image size (96739656 pixels) exceeds limit of 89478485 pixels, could be decompression bomb DOS attack.\n",
      "  warnings.warn(\n",
      "c:\\Users\\it08d\\.conda\\envs\\scan\\Lib\\site-packages\\PIL\\Image.py:3452: DecompressionBombWarning: Image size (107243514 pixels) exceeds limit of 89478485 pixels, could be decompression bomb DOS attack.\n",
      "  warnings.warn(\n",
      "c:\\Users\\it08d\\.conda\\envs\\scan\\Lib\\site-packages\\PIL\\Image.py:3452: DecompressionBombWarning: Image size (92100375 pixels) exceeds limit of 89478485 pixels, could be decompression bomb DOS attack.\n",
      "  warnings.warn(\n",
      "c:\\Users\\it08d\\.conda\\envs\\scan\\Lib\\site-packages\\PIL\\Image.py:3452: DecompressionBombWarning: Image size (93993302 pixels) exceeds limit of 89478485 pixels, could be decompression bomb DOS attack.\n",
      "  warnings.warn(\n",
      "c:\\Users\\it08d\\.conda\\envs\\scan\\Lib\\site-packages\\PIL\\Image.py:3452: DecompressionBombWarning: Image size (119218968 pixels) exceeds limit of 89478485 pixels, could be decompression bomb DOS attack.\n",
      "  warnings.warn(\n",
      "c:\\Users\\it08d\\.conda\\envs\\scan\\Lib\\site-packages\\PIL\\Image.py:3452: DecompressionBombWarning: Image size (95124726 pixels) exceeds limit of 89478485 pixels, could be decompression bomb DOS attack.\n",
      "  warnings.warn(\n",
      "c:\\Users\\it08d\\.conda\\envs\\scan\\Lib\\site-packages\\PIL\\Image.py:3452: DecompressionBombWarning: Image size (117969192 pixels) exceeds limit of 89478485 pixels, could be decompression bomb DOS attack.\n",
      "  warnings.warn(\n",
      "c:\\Users\\it08d\\.conda\\envs\\scan\\Lib\\site-packages\\PIL\\Image.py:3452: DecompressionBombWarning: Image size (96286848 pixels) exceeds limit of 89478485 pixels, could be decompression bomb DOS attack.\n",
      "  warnings.warn(\n",
      "c:\\Users\\it08d\\.conda\\envs\\scan\\Lib\\site-packages\\PIL\\Image.py:3452: DecompressionBombWarning: Image size (91929264 pixels) exceeds limit of 89478485 pixels, could be decompression bomb DOS attack.\n",
      "  warnings.warn(\n",
      "c:\\Users\\it08d\\.conda\\envs\\scan\\Lib\\site-packages\\PIL\\Image.py:3452: DecompressionBombWarning: Image size (91377873 pixels) exceeds limit of 89478485 pixels, could be decompression bomb DOS attack.\n",
      "  warnings.warn(\n",
      "c:\\Users\\it08d\\.conda\\envs\\scan\\Lib\\site-packages\\PIL\\Image.py:3452: DecompressionBombWarning: Image size (95186700 pixels) exceeds limit of 89478485 pixels, could be decompression bomb DOS attack.\n",
      "  warnings.warn(\n",
      "Epoch 78/100: 100%|██████████| 1/1 [02:55<00:00, 175.59s/it]\n"
     ]
    },
    {
     "name": "stdout",
     "output_type": "stream",
     "text": [
      "Epoch [78/100] Loss: 499999904.0000\n"
     ]
    },
    {
     "name": "stderr",
     "output_type": "stream",
     "text": [
      "Epoch 79/100:   0%|          | 0/1 [00:00<?, ?it/s]c:\\Users\\it08d\\.conda\\envs\\scan\\Lib\\site-packages\\PIL\\Image.py:3452: DecompressionBombWarning: Image size (94974758 pixels) exceeds limit of 89478485 pixels, could be decompression bomb DOS attack.\n",
      "  warnings.warn(\n",
      "c:\\Users\\it08d\\.conda\\envs\\scan\\Lib\\site-packages\\PIL\\Image.py:3452: DecompressionBombWarning: Image size (98622453 pixels) exceeds limit of 89478485 pixels, could be decompression bomb DOS attack.\n",
      "  warnings.warn(\n",
      "c:\\Users\\it08d\\.conda\\envs\\scan\\Lib\\site-packages\\PIL\\Image.py:3452: DecompressionBombWarning: Image size (111876864 pixels) exceeds limit of 89478485 pixels, could be decompression bomb DOS attack.\n",
      "  warnings.warn(\n",
      "c:\\Users\\it08d\\.conda\\envs\\scan\\Lib\\site-packages\\PIL\\Image.py:3452: DecompressionBombWarning: Image size (91414457 pixels) exceeds limit of 89478485 pixels, could be decompression bomb DOS attack.\n",
      "  warnings.warn(\n",
      "c:\\Users\\it08d\\.conda\\envs\\scan\\Lib\\site-packages\\PIL\\Image.py:3452: DecompressionBombWarning: Image size (108843894 pixels) exceeds limit of 89478485 pixels, could be decompression bomb DOS attack.\n",
      "  warnings.warn(\n",
      "c:\\Users\\it08d\\.conda\\envs\\scan\\Lib\\site-packages\\PIL\\Image.py:3452: DecompressionBombWarning: Image size (110209099 pixels) exceeds limit of 89478485 pixels, could be decompression bomb DOS attack.\n",
      "  warnings.warn(\n",
      "c:\\Users\\it08d\\.conda\\envs\\scan\\Lib\\site-packages\\PIL\\Image.py:3452: DecompressionBombWarning: Image size (111635384 pixels) exceeds limit of 89478485 pixels, could be decompression bomb DOS attack.\n",
      "  warnings.warn(\n",
      "c:\\Users\\it08d\\.conda\\envs\\scan\\Lib\\site-packages\\PIL\\Image.py:3452: DecompressionBombWarning: Image size (89546760 pixels) exceeds limit of 89478485 pixels, could be decompression bomb DOS attack.\n",
      "  warnings.warn(\n",
      "c:\\Users\\it08d\\.conda\\envs\\scan\\Lib\\site-packages\\PIL\\Image.py:3452: DecompressionBombWarning: Image size (100878764 pixels) exceeds limit of 89478485 pixels, could be decompression bomb DOS attack.\n",
      "  warnings.warn(\n",
      "c:\\Users\\it08d\\.conda\\envs\\scan\\Lib\\site-packages\\PIL\\Image.py:3452: DecompressionBombWarning: Image size (96252328 pixels) exceeds limit of 89478485 pixels, could be decompression bomb DOS attack.\n",
      "  warnings.warn(\n",
      "c:\\Users\\it08d\\.conda\\envs\\scan\\Lib\\site-packages\\PIL\\Image.py:3452: DecompressionBombWarning: Image size (99236650 pixels) exceeds limit of 89478485 pixels, could be decompression bomb DOS attack.\n",
      "  warnings.warn(\n",
      "c:\\Users\\it08d\\.conda\\envs\\scan\\Lib\\site-packages\\PIL\\Image.py:3452: DecompressionBombWarning: Image size (102683130 pixels) exceeds limit of 89478485 pixels, could be decompression bomb DOS attack.\n",
      "  warnings.warn(\n",
      "c:\\Users\\it08d\\.conda\\envs\\scan\\Lib\\site-packages\\PIL\\Image.py:3452: DecompressionBombWarning: Image size (98038884 pixels) exceeds limit of 89478485 pixels, could be decompression bomb DOS attack.\n",
      "  warnings.warn(\n",
      "c:\\Users\\it08d\\.conda\\envs\\scan\\Lib\\site-packages\\PIL\\Image.py:3452: DecompressionBombWarning: Image size (99873590 pixels) exceeds limit of 89478485 pixels, could be decompression bomb DOS attack.\n",
      "  warnings.warn(\n",
      "c:\\Users\\it08d\\.conda\\envs\\scan\\Lib\\site-packages\\PIL\\Image.py:3452: DecompressionBombWarning: Image size (94887335 pixels) exceeds limit of 89478485 pixels, could be decompression bomb DOS attack.\n",
      "  warnings.warn(\n",
      "c:\\Users\\it08d\\.conda\\envs\\scan\\Lib\\site-packages\\PIL\\Image.py:3452: DecompressionBombWarning: Image size (99314464 pixels) exceeds limit of 89478485 pixels, could be decompression bomb DOS attack.\n",
      "  warnings.warn(\n",
      "c:\\Users\\it08d\\.conda\\envs\\scan\\Lib\\site-packages\\PIL\\Image.py:3452: DecompressionBombWarning: Image size (97718378 pixels) exceeds limit of 89478485 pixels, could be decompression bomb DOS attack.\n",
      "  warnings.warn(\n",
      "Epoch 79/100: 100%|██████████| 1/1 [03:04<00:00, 184.91s/it]\n"
     ]
    },
    {
     "name": "stdout",
     "output_type": "stream",
     "text": [
      "Epoch [79/100] Loss: 499999904.0000\n"
     ]
    },
    {
     "name": "stderr",
     "output_type": "stream",
     "text": [
      "Epoch 80/100:   0%|          | 0/1 [00:00<?, ?it/s]c:\\Users\\it08d\\.conda\\envs\\scan\\Lib\\site-packages\\PIL\\Image.py:3452: DecompressionBombWarning: Image size (106832880 pixels) exceeds limit of 89478485 pixels, could be decompression bomb DOS attack.\n",
      "  warnings.warn(\n",
      "c:\\Users\\it08d\\.conda\\envs\\scan\\Lib\\site-packages\\PIL\\Image.py:3452: DecompressionBombWarning: Image size (102260491 pixels) exceeds limit of 89478485 pixels, could be decompression bomb DOS attack.\n",
      "  warnings.warn(\n",
      "c:\\Users\\it08d\\.conda\\envs\\scan\\Lib\\site-packages\\PIL\\Image.py:3452: DecompressionBombWarning: Image size (93310574 pixels) exceeds limit of 89478485 pixels, could be decompression bomb DOS attack.\n",
      "  warnings.warn(\n",
      "c:\\Users\\it08d\\.conda\\envs\\scan\\Lib\\site-packages\\PIL\\Image.py:3452: DecompressionBombWarning: Image size (109856699 pixels) exceeds limit of 89478485 pixels, could be decompression bomb DOS attack.\n",
      "  warnings.warn(\n",
      "c:\\Users\\it08d\\.conda\\envs\\scan\\Lib\\site-packages\\PIL\\Image.py:3452: DecompressionBombWarning: Image size (89682044 pixels) exceeds limit of 89478485 pixels, could be decompression bomb DOS attack.\n",
      "  warnings.warn(\n",
      "c:\\Users\\it08d\\.conda\\envs\\scan\\Lib\\site-packages\\PIL\\Image.py:3452: DecompressionBombWarning: Image size (107812815 pixels) exceeds limit of 89478485 pixels, could be decompression bomb DOS attack.\n",
      "  warnings.warn(\n",
      "c:\\Users\\it08d\\.conda\\envs\\scan\\Lib\\site-packages\\PIL\\Image.py:3452: DecompressionBombWarning: Image size (102563930 pixels) exceeds limit of 89478485 pixels, could be decompression bomb DOS attack.\n",
      "  warnings.warn(\n",
      "c:\\Users\\it08d\\.conda\\envs\\scan\\Lib\\site-packages\\PIL\\Image.py:3452: DecompressionBombWarning: Image size (89822308 pixels) exceeds limit of 89478485 pixels, could be decompression bomb DOS attack.\n",
      "  warnings.warn(\n",
      "c:\\Users\\it08d\\.conda\\envs\\scan\\Lib\\site-packages\\PIL\\Image.py:3452: DecompressionBombWarning: Image size (93990272 pixels) exceeds limit of 89478485 pixels, could be decompression bomb DOS attack.\n",
      "  warnings.warn(\n",
      "c:\\Users\\it08d\\.conda\\envs\\scan\\Lib\\site-packages\\PIL\\Image.py:3452: DecompressionBombWarning: Image size (102545755 pixels) exceeds limit of 89478485 pixels, could be decompression bomb DOS attack.\n",
      "  warnings.warn(\n",
      "c:\\Users\\it08d\\.conda\\envs\\scan\\Lib\\site-packages\\PIL\\Image.py:3452: DecompressionBombWarning: Image size (101033842 pixels) exceeds limit of 89478485 pixels, could be decompression bomb DOS attack.\n",
      "  warnings.warn(\n",
      "c:\\Users\\it08d\\.conda\\envs\\scan\\Lib\\site-packages\\PIL\\Image.py:3452: DecompressionBombWarning: Image size (91451139 pixels) exceeds limit of 89478485 pixels, could be decompression bomb DOS attack.\n",
      "  warnings.warn(\n",
      "c:\\Users\\it08d\\.conda\\envs\\scan\\Lib\\site-packages\\PIL\\Image.py:3452: DecompressionBombWarning: Image size (102483010 pixels) exceeds limit of 89478485 pixels, could be decompression bomb DOS attack.\n",
      "  warnings.warn(\n",
      "c:\\Users\\it08d\\.conda\\envs\\scan\\Lib\\site-packages\\PIL\\Image.py:3452: DecompressionBombWarning: Image size (90622890 pixels) exceeds limit of 89478485 pixels, could be decompression bomb DOS attack.\n",
      "  warnings.warn(\n",
      "c:\\Users\\it08d\\.conda\\envs\\scan\\Lib\\site-packages\\PIL\\Image.py:3452: DecompressionBombWarning: Image size (117548843 pixels) exceeds limit of 89478485 pixels, could be decompression bomb DOS attack.\n",
      "  warnings.warn(\n",
      "Epoch 80/100: 100%|██████████| 1/1 [03:19<00:00, 199.02s/it]\n"
     ]
    },
    {
     "name": "stdout",
     "output_type": "stream",
     "text": [
      "Epoch [80/100] Loss: 499999904.0000\n"
     ]
    },
    {
     "name": "stderr",
     "output_type": "stream",
     "text": [
      "Epoch 81/100:   0%|          | 0/1 [00:00<?, ?it/s]c:\\Users\\it08d\\.conda\\envs\\scan\\Lib\\site-packages\\PIL\\Image.py:3452: DecompressionBombWarning: Image size (100653138 pixels) exceeds limit of 89478485 pixels, could be decompression bomb DOS attack.\n",
      "  warnings.warn(\n",
      "c:\\Users\\it08d\\.conda\\envs\\scan\\Lib\\site-packages\\PIL\\Image.py:3452: DecompressionBombWarning: Image size (100038276 pixels) exceeds limit of 89478485 pixels, could be decompression bomb DOS attack.\n",
      "  warnings.warn(\n",
      "c:\\Users\\it08d\\.conda\\envs\\scan\\Lib\\site-packages\\PIL\\Image.py:3452: DecompressionBombWarning: Image size (91314370 pixels) exceeds limit of 89478485 pixels, could be decompression bomb DOS attack.\n",
      "  warnings.warn(\n",
      "c:\\Users\\it08d\\.conda\\envs\\scan\\Lib\\site-packages\\PIL\\Image.py:3452: DecompressionBombWarning: Image size (95359734 pixels) exceeds limit of 89478485 pixels, could be decompression bomb DOS attack.\n",
      "  warnings.warn(\n",
      "c:\\Users\\it08d\\.conda\\envs\\scan\\Lib\\site-packages\\PIL\\Image.py:3452: DecompressionBombWarning: Image size (99002739 pixels) exceeds limit of 89478485 pixels, could be decompression bomb DOS attack.\n",
      "  warnings.warn(\n",
      "c:\\Users\\it08d\\.conda\\envs\\scan\\Lib\\site-packages\\PIL\\Image.py:3452: DecompressionBombWarning: Image size (102648216 pixels) exceeds limit of 89478485 pixels, could be decompression bomb DOS attack.\n",
      "  warnings.warn(\n",
      "c:\\Users\\it08d\\.conda\\envs\\scan\\Lib\\site-packages\\PIL\\Image.py:3452: DecompressionBombWarning: Image size (94026948 pixels) exceeds limit of 89478485 pixels, could be decompression bomb DOS attack.\n",
      "  warnings.warn(\n",
      "c:\\Users\\it08d\\.conda\\envs\\scan\\Lib\\site-packages\\PIL\\Image.py:3452: DecompressionBombWarning: Image size (119979156 pixels) exceeds limit of 89478485 pixels, could be decompression bomb DOS attack.\n",
      "  warnings.warn(\n",
      "c:\\Users\\it08d\\.conda\\envs\\scan\\Lib\\site-packages\\PIL\\Image.py:3452: DecompressionBombWarning: Image size (102285904 pixels) exceeds limit of 89478485 pixels, could be decompression bomb DOS attack.\n",
      "  warnings.warn(\n",
      "c:\\Users\\it08d\\.conda\\envs\\scan\\Lib\\site-packages\\PIL\\Image.py:3452: DecompressionBombWarning: Image size (90719544 pixels) exceeds limit of 89478485 pixels, could be decompression bomb DOS attack.\n",
      "  warnings.warn(\n",
      "c:\\Users\\it08d\\.conda\\envs\\scan\\Lib\\site-packages\\PIL\\Image.py:3452: DecompressionBombWarning: Image size (98463520 pixels) exceeds limit of 89478485 pixels, could be decompression bomb DOS attack.\n",
      "  warnings.warn(\n",
      "c:\\Users\\it08d\\.conda\\envs\\scan\\Lib\\site-packages\\PIL\\Image.py:3452: DecompressionBombWarning: Image size (95170590 pixels) exceeds limit of 89478485 pixels, could be decompression bomb DOS attack.\n",
      "  warnings.warn(\n",
      "c:\\Users\\it08d\\.conda\\envs\\scan\\Lib\\site-packages\\PIL\\Image.py:3452: DecompressionBombWarning: Image size (100847978 pixels) exceeds limit of 89478485 pixels, could be decompression bomb DOS attack.\n",
      "  warnings.warn(\n",
      "c:\\Users\\it08d\\.conda\\envs\\scan\\Lib\\site-packages\\PIL\\Image.py:3452: DecompressionBombWarning: Image size (114758112 pixels) exceeds limit of 89478485 pixels, could be decompression bomb DOS attack.\n",
      "  warnings.warn(\n",
      "c:\\Users\\it08d\\.conda\\envs\\scan\\Lib\\site-packages\\PIL\\Image.py:3452: DecompressionBombWarning: Image size (91275300 pixels) exceeds limit of 89478485 pixels, could be decompression bomb DOS attack.\n",
      "  warnings.warn(\n",
      "c:\\Users\\it08d\\.conda\\envs\\scan\\Lib\\site-packages\\PIL\\Image.py:3452: DecompressionBombWarning: Image size (90187957 pixels) exceeds limit of 89478485 pixels, could be decompression bomb DOS attack.\n",
      "  warnings.warn(\n",
      "c:\\Users\\it08d\\.conda\\envs\\scan\\Lib\\site-packages\\PIL\\Image.py:3452: DecompressionBombWarning: Image size (91159332 pixels) exceeds limit of 89478485 pixels, could be decompression bomb DOS attack.\n",
      "  warnings.warn(\n",
      "c:\\Users\\it08d\\.conda\\envs\\scan\\Lib\\site-packages\\PIL\\Image.py:3452: DecompressionBombWarning: Image size (94461726 pixels) exceeds limit of 89478485 pixels, could be decompression bomb DOS attack.\n",
      "  warnings.warn(\n",
      "c:\\Users\\it08d\\.conda\\envs\\scan\\Lib\\site-packages\\PIL\\Image.py:3452: DecompressionBombWarning: Image size (91307028 pixels) exceeds limit of 89478485 pixels, could be decompression bomb DOS attack.\n",
      "  warnings.warn(\n",
      "c:\\Users\\it08d\\.conda\\envs\\scan\\Lib\\site-packages\\PIL\\Image.py:3452: DecompressionBombWarning: Image size (92847750 pixels) exceeds limit of 89478485 pixels, could be decompression bomb DOS attack.\n",
      "  warnings.warn(\n",
      "Epoch 81/100: 100%|██████████| 1/1 [02:56<00:00, 176.11s/it]\n"
     ]
    },
    {
     "name": "stdout",
     "output_type": "stream",
     "text": [
      "Epoch [81/100] Loss: 499999904.0000\n"
     ]
    },
    {
     "name": "stderr",
     "output_type": "stream",
     "text": [
      "Epoch 82/100:   0%|          | 0/1 [00:00<?, ?it/s]c:\\Users\\it08d\\.conda\\envs\\scan\\Lib\\site-packages\\PIL\\Image.py:3452: DecompressionBombWarning: Image size (97593750 pixels) exceeds limit of 89478485 pixels, could be decompression bomb DOS attack.\n",
      "  warnings.warn(\n",
      "c:\\Users\\it08d\\.conda\\envs\\scan\\Lib\\site-packages\\PIL\\Image.py:3452: DecompressionBombWarning: Image size (90867918 pixels) exceeds limit of 89478485 pixels, could be decompression bomb DOS attack.\n",
      "  warnings.warn(\n",
      "c:\\Users\\it08d\\.conda\\envs\\scan\\Lib\\site-packages\\PIL\\Image.py:3452: DecompressionBombWarning: Image size (94116049 pixels) exceeds limit of 89478485 pixels, could be decompression bomb DOS attack.\n",
      "  warnings.warn(\n",
      "c:\\Users\\it08d\\.conda\\envs\\scan\\Lib\\site-packages\\PIL\\Image.py:3452: DecompressionBombWarning: Image size (108655248 pixels) exceeds limit of 89478485 pixels, could be decompression bomb DOS attack.\n",
      "  warnings.warn(\n",
      "c:\\Users\\it08d\\.conda\\envs\\scan\\Lib\\site-packages\\PIL\\Image.py:3452: DecompressionBombWarning: Image size (103752726 pixels) exceeds limit of 89478485 pixels, could be decompression bomb DOS attack.\n",
      "  warnings.warn(\n",
      "c:\\Users\\it08d\\.conda\\envs\\scan\\Lib\\site-packages\\PIL\\Image.py:3452: DecompressionBombWarning: Image size (95625884 pixels) exceeds limit of 89478485 pixels, could be decompression bomb DOS attack.\n",
      "  warnings.warn(\n",
      "c:\\Users\\it08d\\.conda\\envs\\scan\\Lib\\site-packages\\PIL\\Image.py:3452: DecompressionBombWarning: Image size (90470250 pixels) exceeds limit of 89478485 pixels, could be decompression bomb DOS attack.\n",
      "  warnings.warn(\n",
      "c:\\Users\\it08d\\.conda\\envs\\scan\\Lib\\site-packages\\PIL\\Image.py:3452: DecompressionBombWarning: Image size (94419920 pixels) exceeds limit of 89478485 pixels, could be decompression bomb DOS attack.\n",
      "  warnings.warn(\n",
      "c:\\Users\\it08d\\.conda\\envs\\scan\\Lib\\site-packages\\PIL\\Image.py:3452: DecompressionBombWarning: Image size (116510427 pixels) exceeds limit of 89478485 pixels, could be decompression bomb DOS attack.\n",
      "  warnings.warn(\n",
      "c:\\Users\\it08d\\.conda\\envs\\scan\\Lib\\site-packages\\PIL\\Image.py:3452: DecompressionBombWarning: Image size (119152972 pixels) exceeds limit of 89478485 pixels, could be decompression bomb DOS attack.\n",
      "  warnings.warn(\n",
      "c:\\Users\\it08d\\.conda\\envs\\scan\\Lib\\site-packages\\PIL\\Image.py:3452: DecompressionBombWarning: Image size (116684645 pixels) exceeds limit of 89478485 pixels, could be decompression bomb DOS attack.\n",
      "  warnings.warn(\n",
      "c:\\Users\\it08d\\.conda\\envs\\scan\\Lib\\site-packages\\PIL\\Image.py:3452: DecompressionBombWarning: Image size (89618550 pixels) exceeds limit of 89478485 pixels, could be decompression bomb DOS attack.\n",
      "  warnings.warn(\n",
      "c:\\Users\\it08d\\.conda\\envs\\scan\\Lib\\site-packages\\PIL\\Image.py:3452: DecompressionBombWarning: Image size (95037240 pixels) exceeds limit of 89478485 pixels, could be decompression bomb DOS attack.\n",
      "  warnings.warn(\n",
      "c:\\Users\\it08d\\.conda\\envs\\scan\\Lib\\site-packages\\PIL\\Image.py:3452: DecompressionBombWarning: Image size (111597800 pixels) exceeds limit of 89478485 pixels, could be decompression bomb DOS attack.\n",
      "  warnings.warn(\n",
      "c:\\Users\\it08d\\.conda\\envs\\scan\\Lib\\site-packages\\PIL\\Image.py:3452: DecompressionBombWarning: Image size (96755753 pixels) exceeds limit of 89478485 pixels, could be decompression bomb DOS attack.\n",
      "  warnings.warn(\n",
      "c:\\Users\\it08d\\.conda\\envs\\scan\\Lib\\site-packages\\PIL\\Image.py:3452: DecompressionBombWarning: Image size (109372566 pixels) exceeds limit of 89478485 pixels, could be decompression bomb DOS attack.\n",
      "  warnings.warn(\n",
      "c:\\Users\\it08d\\.conda\\envs\\scan\\Lib\\site-packages\\PIL\\Image.py:3452: DecompressionBombWarning: Image size (90070361 pixels) exceeds limit of 89478485 pixels, could be decompression bomb DOS attack.\n",
      "  warnings.warn(\n",
      "c:\\Users\\it08d\\.conda\\envs\\scan\\Lib\\site-packages\\PIL\\Image.py:3452: DecompressionBombWarning: Image size (108433592 pixels) exceeds limit of 89478485 pixels, could be decompression bomb DOS attack.\n",
      "  warnings.warn(\n",
      "c:\\Users\\it08d\\.conda\\envs\\scan\\Lib\\site-packages\\PIL\\Image.py:3452: DecompressionBombWarning: Image size (101742576 pixels) exceeds limit of 89478485 pixels, could be decompression bomb DOS attack.\n",
      "  warnings.warn(\n",
      "c:\\Users\\it08d\\.conda\\envs\\scan\\Lib\\site-packages\\PIL\\Image.py:3452: DecompressionBombWarning: Image size (92184741 pixels) exceeds limit of 89478485 pixels, could be decompression bomb DOS attack.\n",
      "  warnings.warn(\n",
      "c:\\Users\\it08d\\.conda\\envs\\scan\\Lib\\site-packages\\PIL\\Image.py:3452: DecompressionBombWarning: Image size (96037305 pixels) exceeds limit of 89478485 pixels, could be decompression bomb DOS attack.\n",
      "  warnings.warn(\n",
      "c:\\Users\\it08d\\.conda\\envs\\scan\\Lib\\site-packages\\PIL\\Image.py:3452: DecompressionBombWarning: Image size (99895920 pixels) exceeds limit of 89478485 pixels, could be decompression bomb DOS attack.\n",
      "  warnings.warn(\n",
      "Epoch 82/100: 100%|██████████| 1/1 [02:42<00:00, 162.09s/it]\n"
     ]
    },
    {
     "name": "stdout",
     "output_type": "stream",
     "text": [
      "Epoch [82/100] Loss: 499999904.0000\n"
     ]
    },
    {
     "name": "stderr",
     "output_type": "stream",
     "text": [
      "Epoch 83/100:   0%|          | 0/1 [00:00<?, ?it/s]c:\\Users\\it08d\\.conda\\envs\\scan\\Lib\\site-packages\\PIL\\Image.py:3452: DecompressionBombWarning: Image size (97438428 pixels) exceeds limit of 89478485 pixels, could be decompression bomb DOS attack.\n",
      "  warnings.warn(\n",
      "c:\\Users\\it08d\\.conda\\envs\\scan\\Lib\\site-packages\\PIL\\Image.py:3452: DecompressionBombWarning: Image size (111852059 pixels) exceeds limit of 89478485 pixels, could be decompression bomb DOS attack.\n",
      "  warnings.warn(\n",
      "c:\\Users\\it08d\\.conda\\envs\\scan\\Lib\\site-packages\\PIL\\Image.py:3452: DecompressionBombWarning: Image size (103380615 pixels) exceeds limit of 89478485 pixels, could be decompression bomb DOS attack.\n",
      "  warnings.warn(\n",
      "c:\\Users\\it08d\\.conda\\envs\\scan\\Lib\\site-packages\\PIL\\Image.py:3452: DecompressionBombWarning: Image size (114823820 pixels) exceeds limit of 89478485 pixels, could be decompression bomb DOS attack.\n",
      "  warnings.warn(\n",
      "c:\\Users\\it08d\\.conda\\envs\\scan\\Lib\\site-packages\\PIL\\Image.py:3452: DecompressionBombWarning: Image size (106553586 pixels) exceeds limit of 89478485 pixels, could be decompression bomb DOS attack.\n",
      "  warnings.warn(\n",
      "c:\\Users\\it08d\\.conda\\envs\\scan\\Lib\\site-packages\\PIL\\Image.py:3452: DecompressionBombWarning: Image size (90681904 pixels) exceeds limit of 89478485 pixels, could be decompression bomb DOS attack.\n",
      "  warnings.warn(\n",
      "c:\\Users\\it08d\\.conda\\envs\\scan\\Lib\\site-packages\\PIL\\Image.py:3452: DecompressionBombWarning: Image size (108345432 pixels) exceeds limit of 89478485 pixels, could be decompression bomb DOS attack.\n",
      "  warnings.warn(\n",
      "c:\\Users\\it08d\\.conda\\envs\\scan\\Lib\\site-packages\\PIL\\Image.py:3452: DecompressionBombWarning: Image size (91250400 pixels) exceeds limit of 89478485 pixels, could be decompression bomb DOS attack.\n",
      "  warnings.warn(\n",
      "c:\\Users\\it08d\\.conda\\envs\\scan\\Lib\\site-packages\\PIL\\Image.py:3452: DecompressionBombWarning: Image size (94860846 pixels) exceeds limit of 89478485 pixels, could be decompression bomb DOS attack.\n",
      "  warnings.warn(\n",
      "c:\\Users\\it08d\\.conda\\envs\\scan\\Lib\\site-packages\\PIL\\Image.py:3452: DecompressionBombWarning: Image size (100355760 pixels) exceeds limit of 89478485 pixels, could be decompression bomb DOS attack.\n",
      "  warnings.warn(\n",
      "c:\\Users\\it08d\\.conda\\envs\\scan\\Lib\\site-packages\\PIL\\Image.py:3452: DecompressionBombWarning: Image size (106601968 pixels) exceeds limit of 89478485 pixels, could be decompression bomb DOS attack.\n",
      "  warnings.warn(\n",
      "c:\\Users\\it08d\\.conda\\envs\\scan\\Lib\\site-packages\\PIL\\Image.py:3452: DecompressionBombWarning: Image size (95851208 pixels) exceeds limit of 89478485 pixels, could be decompression bomb DOS attack.\n",
      "  warnings.warn(\n",
      "c:\\Users\\it08d\\.conda\\envs\\scan\\Lib\\site-packages\\PIL\\Image.py:3452: DecompressionBombWarning: Image size (110837766 pixels) exceeds limit of 89478485 pixels, could be decompression bomb DOS attack.\n",
      "  warnings.warn(\n",
      "c:\\Users\\it08d\\.conda\\envs\\scan\\Lib\\site-packages\\PIL\\Image.py:3452: DecompressionBombWarning: Image size (116082414 pixels) exceeds limit of 89478485 pixels, could be decompression bomb DOS attack.\n",
      "  warnings.warn(\n",
      "c:\\Users\\it08d\\.conda\\envs\\scan\\Lib\\site-packages\\PIL\\Image.py:3452: DecompressionBombWarning: Image size (99832722 pixels) exceeds limit of 89478485 pixels, could be decompression bomb DOS attack.\n",
      "  warnings.warn(\n",
      "c:\\Users\\it08d\\.conda\\envs\\scan\\Lib\\site-packages\\PIL\\Image.py:3452: DecompressionBombWarning: Image size (101029545 pixels) exceeds limit of 89478485 pixels, could be decompression bomb DOS attack.\n",
      "  warnings.warn(\n",
      "c:\\Users\\it08d\\.conda\\envs\\scan\\Lib\\site-packages\\PIL\\Image.py:3452: DecompressionBombWarning: Image size (92086710 pixels) exceeds limit of 89478485 pixels, could be decompression bomb DOS attack.\n",
      "  warnings.warn(\n",
      "c:\\Users\\it08d\\.conda\\envs\\scan\\Lib\\site-packages\\PIL\\Image.py:3452: DecompressionBombWarning: Image size (94412565 pixels) exceeds limit of 89478485 pixels, could be decompression bomb DOS attack.\n",
      "  warnings.warn(\n",
      "c:\\Users\\it08d\\.conda\\envs\\scan\\Lib\\site-packages\\PIL\\Image.py:3452: DecompressionBombWarning: Image size (104404392 pixels) exceeds limit of 89478485 pixels, could be decompression bomb DOS attack.\n",
      "  warnings.warn(\n",
      "c:\\Users\\it08d\\.conda\\envs\\scan\\Lib\\site-packages\\PIL\\Image.py:3452: DecompressionBombWarning: Image size (92394640 pixels) exceeds limit of 89478485 pixels, could be decompression bomb DOS attack.\n",
      "  warnings.warn(\n",
      "c:\\Users\\it08d\\.conda\\envs\\scan\\Lib\\site-packages\\PIL\\Image.py:3452: DecompressionBombWarning: Image size (100606000 pixels) exceeds limit of 89478485 pixels, could be decompression bomb DOS attack.\n",
      "  warnings.warn(\n",
      "c:\\Users\\it08d\\.conda\\envs\\scan\\Lib\\site-packages\\PIL\\Image.py:3452: DecompressionBombWarning: Image size (91406905 pixels) exceeds limit of 89478485 pixels, could be decompression bomb DOS attack.\n",
      "  warnings.warn(\n",
      "c:\\Users\\it08d\\.conda\\envs\\scan\\Lib\\site-packages\\PIL\\Image.py:3452: DecompressionBombWarning: Image size (97635968 pixels) exceeds limit of 89478485 pixels, could be decompression bomb DOS attack.\n",
      "  warnings.warn(\n",
      "c:\\Users\\it08d\\.conda\\envs\\scan\\Lib\\site-packages\\PIL\\Image.py:3452: DecompressionBombWarning: Image size (91814856 pixels) exceeds limit of 89478485 pixels, could be decompression bomb DOS attack.\n",
      "  warnings.warn(\n",
      "c:\\Users\\it08d\\.conda\\envs\\scan\\Lib\\site-packages\\PIL\\Image.py:3452: DecompressionBombWarning: Image size (95056984 pixels) exceeds limit of 89478485 pixels, could be decompression bomb DOS attack.\n",
      "  warnings.warn(\n",
      "c:\\Users\\it08d\\.conda\\envs\\scan\\Lib\\site-packages\\PIL\\Image.py:3452: DecompressionBombWarning: Image size (97308789 pixels) exceeds limit of 89478485 pixels, could be decompression bomb DOS attack.\n",
      "  warnings.warn(\n",
      "c:\\Users\\it08d\\.conda\\envs\\scan\\Lib\\site-packages\\PIL\\Image.py:3452: DecompressionBombWarning: Image size (117050661 pixels) exceeds limit of 89478485 pixels, could be decompression bomb DOS attack.\n",
      "  warnings.warn(\n",
      "c:\\Users\\it08d\\.conda\\envs\\scan\\Lib\\site-packages\\PIL\\Image.py:3452: DecompressionBombWarning: Image size (116495680 pixels) exceeds limit of 89478485 pixels, could be decompression bomb DOS attack.\n",
      "  warnings.warn(\n",
      "c:\\Users\\it08d\\.conda\\envs\\scan\\Lib\\site-packages\\PIL\\Image.py:3452: DecompressionBombWarning: Image size (106686641 pixels) exceeds limit of 89478485 pixels, could be decompression bomb DOS attack.\n",
      "  warnings.warn(\n",
      "c:\\Users\\it08d\\.conda\\envs\\scan\\Lib\\site-packages\\PIL\\Image.py:3452: DecompressionBombWarning: Image size (102899610 pixels) exceeds limit of 89478485 pixels, could be decompression bomb DOS attack.\n",
      "  warnings.warn(\n",
      "Epoch 83/100: 100%|██████████| 1/1 [03:00<00:00, 180.96s/it]\n"
     ]
    },
    {
     "name": "stdout",
     "output_type": "stream",
     "text": [
      "Epoch [83/100] Loss: 499999904.0000\n"
     ]
    },
    {
     "name": "stderr",
     "output_type": "stream",
     "text": [
      "Epoch 84/100:   0%|          | 0/1 [00:00<?, ?it/s]c:\\Users\\it08d\\.conda\\envs\\scan\\Lib\\site-packages\\PIL\\Image.py:3452: DecompressionBombWarning: Image size (109922190 pixels) exceeds limit of 89478485 pixels, could be decompression bomb DOS attack.\n",
      "  warnings.warn(\n",
      "c:\\Users\\it08d\\.conda\\envs\\scan\\Lib\\site-packages\\PIL\\Image.py:3452: DecompressionBombWarning: Image size (90396800 pixels) exceeds limit of 89478485 pixels, could be decompression bomb DOS attack.\n",
      "  warnings.warn(\n",
      "c:\\Users\\it08d\\.conda\\envs\\scan\\Lib\\site-packages\\PIL\\Image.py:3452: DecompressionBombWarning: Image size (90605498 pixels) exceeds limit of 89478485 pixels, could be decompression bomb DOS attack.\n",
      "  warnings.warn(\n",
      "c:\\Users\\it08d\\.conda\\envs\\scan\\Lib\\site-packages\\PIL\\Image.py:3452: DecompressionBombWarning: Image size (113862930 pixels) exceeds limit of 89478485 pixels, could be decompression bomb DOS attack.\n",
      "  warnings.warn(\n",
      "c:\\Users\\it08d\\.conda\\envs\\scan\\Lib\\site-packages\\PIL\\Image.py:3452: DecompressionBombWarning: Image size (91556235 pixels) exceeds limit of 89478485 pixels, could be decompression bomb DOS attack.\n",
      "  warnings.warn(\n",
      "c:\\Users\\it08d\\.conda\\envs\\scan\\Lib\\site-packages\\PIL\\Image.py:3452: DecompressionBombWarning: Image size (96803550 pixels) exceeds limit of 89478485 pixels, could be decompression bomb DOS attack.\n",
      "  warnings.warn(\n",
      "c:\\Users\\it08d\\.conda\\envs\\scan\\Lib\\site-packages\\PIL\\Image.py:3452: DecompressionBombWarning: Image size (117249299 pixels) exceeds limit of 89478485 pixels, could be decompression bomb DOS attack.\n",
      "  warnings.warn(\n",
      "c:\\Users\\it08d\\.conda\\envs\\scan\\Lib\\site-packages\\PIL\\Image.py:3452: DecompressionBombWarning: Image size (119792400 pixels) exceeds limit of 89478485 pixels, could be decompression bomb DOS attack.\n",
      "  warnings.warn(\n",
      "c:\\Users\\it08d\\.conda\\envs\\scan\\Lib\\site-packages\\PIL\\Image.py:3452: DecompressionBombWarning: Image size (114701700 pixels) exceeds limit of 89478485 pixels, could be decompression bomb DOS attack.\n",
      "  warnings.warn(\n",
      "c:\\Users\\it08d\\.conda\\envs\\scan\\Lib\\site-packages\\PIL\\Image.py:3452: DecompressionBombWarning: Image size (91946712 pixels) exceeds limit of 89478485 pixels, could be decompression bomb DOS attack.\n",
      "  warnings.warn(\n",
      "c:\\Users\\it08d\\.conda\\envs\\scan\\Lib\\site-packages\\PIL\\Image.py:3452: DecompressionBombWarning: Image size (92672576 pixels) exceeds limit of 89478485 pixels, could be decompression bomb DOS attack.\n",
      "  warnings.warn(\n",
      "c:\\Users\\it08d\\.conda\\envs\\scan\\Lib\\site-packages\\PIL\\Image.py:3452: DecompressionBombWarning: Image size (100575706 pixels) exceeds limit of 89478485 pixels, could be decompression bomb DOS attack.\n",
      "  warnings.warn(\n",
      "c:\\Users\\it08d\\.conda\\envs\\scan\\Lib\\site-packages\\PIL\\Image.py:3452: DecompressionBombWarning: Image size (107194962 pixels) exceeds limit of 89478485 pixels, could be decompression bomb DOS attack.\n",
      "  warnings.warn(\n",
      "c:\\Users\\it08d\\.conda\\envs\\scan\\Lib\\site-packages\\PIL\\Image.py:3452: DecompressionBombWarning: Image size (112221862 pixels) exceeds limit of 89478485 pixels, could be decompression bomb DOS attack.\n",
      "  warnings.warn(\n",
      "c:\\Users\\it08d\\.conda\\envs\\scan\\Lib\\site-packages\\PIL\\Image.py:3452: DecompressionBombWarning: Image size (102937311 pixels) exceeds limit of 89478485 pixels, could be decompression bomb DOS attack.\n",
      "  warnings.warn(\n",
      "Epoch 84/100: 100%|██████████| 1/1 [03:01<00:00, 181.31s/it]\n"
     ]
    },
    {
     "name": "stdout",
     "output_type": "stream",
     "text": [
      "Epoch [84/100] Loss: 499999904.0000\n"
     ]
    },
    {
     "name": "stderr",
     "output_type": "stream",
     "text": [
      "Epoch 85/100:   0%|          | 0/1 [00:00<?, ?it/s]c:\\Users\\it08d\\.conda\\envs\\scan\\Lib\\site-packages\\PIL\\Image.py:3452: DecompressionBombWarning: Image size (103281093 pixels) exceeds limit of 89478485 pixels, could be decompression bomb DOS attack.\n",
      "  warnings.warn(\n",
      "c:\\Users\\it08d\\.conda\\envs\\scan\\Lib\\site-packages\\PIL\\Image.py:3452: DecompressionBombWarning: Image size (118651208 pixels) exceeds limit of 89478485 pixels, could be decompression bomb DOS attack.\n",
      "  warnings.warn(\n",
      "c:\\Users\\it08d\\.conda\\envs\\scan\\Lib\\site-packages\\PIL\\Image.py:3452: DecompressionBombWarning: Image size (97109280 pixels) exceeds limit of 89478485 pixels, could be decompression bomb DOS attack.\n",
      "  warnings.warn(\n",
      "c:\\Users\\it08d\\.conda\\envs\\scan\\Lib\\site-packages\\PIL\\Image.py:3452: DecompressionBombWarning: Image size (114552184 pixels) exceeds limit of 89478485 pixels, could be decompression bomb DOS attack.\n",
      "  warnings.warn(\n",
      "c:\\Users\\it08d\\.conda\\envs\\scan\\Lib\\site-packages\\PIL\\Image.py:3452: DecompressionBombWarning: Image size (99425700 pixels) exceeds limit of 89478485 pixels, could be decompression bomb DOS attack.\n",
      "  warnings.warn(\n",
      "c:\\Users\\it08d\\.conda\\envs\\scan\\Lib\\site-packages\\PIL\\Image.py:3452: DecompressionBombWarning: Image size (112053770 pixels) exceeds limit of 89478485 pixels, could be decompression bomb DOS attack.\n",
      "  warnings.warn(\n",
      "c:\\Users\\it08d\\.conda\\envs\\scan\\Lib\\site-packages\\PIL\\Image.py:3452: DecompressionBombWarning: Image size (92738616 pixels) exceeds limit of 89478485 pixels, could be decompression bomb DOS attack.\n",
      "  warnings.warn(\n",
      "c:\\Users\\it08d\\.conda\\envs\\scan\\Lib\\site-packages\\PIL\\Image.py:3452: DecompressionBombWarning: Image size (98445555 pixels) exceeds limit of 89478485 pixels, could be decompression bomb DOS attack.\n",
      "  warnings.warn(\n",
      "c:\\Users\\it08d\\.conda\\envs\\scan\\Lib\\site-packages\\PIL\\Image.py:3452: DecompressionBombWarning: Image size (99223551 pixels) exceeds limit of 89478485 pixels, could be decompression bomb DOS attack.\n",
      "  warnings.warn(\n",
      "c:\\Users\\it08d\\.conda\\envs\\scan\\Lib\\site-packages\\PIL\\Image.py:3452: DecompressionBombWarning: Image size (97131888 pixels) exceeds limit of 89478485 pixels, could be decompression bomb DOS attack.\n",
      "  warnings.warn(\n",
      "c:\\Users\\it08d\\.conda\\envs\\scan\\Lib\\site-packages\\PIL\\Image.py:3452: DecompressionBombWarning: Image size (111915945 pixels) exceeds limit of 89478485 pixels, could be decompression bomb DOS attack.\n",
      "  warnings.warn(\n",
      "c:\\Users\\it08d\\.conda\\envs\\scan\\Lib\\site-packages\\PIL\\Image.py:3452: DecompressionBombWarning: Image size (102031776 pixels) exceeds limit of 89478485 pixels, could be decompression bomb DOS attack.\n",
      "  warnings.warn(\n",
      "c:\\Users\\it08d\\.conda\\envs\\scan\\Lib\\site-packages\\PIL\\Image.py:3452: DecompressionBombWarning: Image size (95980984 pixels) exceeds limit of 89478485 pixels, could be decompression bomb DOS attack.\n",
      "  warnings.warn(\n",
      "c:\\Users\\it08d\\.conda\\envs\\scan\\Lib\\site-packages\\PIL\\Image.py:3452: DecompressionBombWarning: Image size (122363488 pixels) exceeds limit of 89478485 pixels, could be decompression bomb DOS attack.\n",
      "  warnings.warn(\n",
      "c:\\Users\\it08d\\.conda\\envs\\scan\\Lib\\site-packages\\PIL\\Image.py:3452: DecompressionBombWarning: Image size (111867280 pixels) exceeds limit of 89478485 pixels, could be decompression bomb DOS attack.\n",
      "  warnings.warn(\n",
      "c:\\Users\\it08d\\.conda\\envs\\scan\\Lib\\site-packages\\PIL\\Image.py:3452: DecompressionBombWarning: Image size (112023938 pixels) exceeds limit of 89478485 pixels, could be decompression bomb DOS attack.\n",
      "  warnings.warn(\n",
      "c:\\Users\\it08d\\.conda\\envs\\scan\\Lib\\site-packages\\PIL\\Image.py:3452: DecompressionBombWarning: Image size (98250422 pixels) exceeds limit of 89478485 pixels, could be decompression bomb DOS attack.\n",
      "  warnings.warn(\n",
      "c:\\Users\\it08d\\.conda\\envs\\scan\\Lib\\site-packages\\PIL\\Image.py:3452: DecompressionBombWarning: Image size (106448982 pixels) exceeds limit of 89478485 pixels, could be decompression bomb DOS attack.\n",
      "  warnings.warn(\n",
      "c:\\Users\\it08d\\.conda\\envs\\scan\\Lib\\site-packages\\PIL\\Image.py:3452: DecompressionBombWarning: Image size (111365773 pixels) exceeds limit of 89478485 pixels, could be decompression bomb DOS attack.\n",
      "  warnings.warn(\n",
      "c:\\Users\\it08d\\.conda\\envs\\scan\\Lib\\site-packages\\PIL\\Image.py:3452: DecompressionBombWarning: Image size (94315836 pixels) exceeds limit of 89478485 pixels, could be decompression bomb DOS attack.\n",
      "  warnings.warn(\n",
      "Epoch 85/100: 100%|██████████| 1/1 [02:51<00:00, 171.74s/it]\n"
     ]
    },
    {
     "name": "stdout",
     "output_type": "stream",
     "text": [
      "Epoch [85/100] Loss: 499999904.0000\n"
     ]
    },
    {
     "name": "stderr",
     "output_type": "stream",
     "text": [
      "Epoch 86/100:   0%|          | 0/1 [00:00<?, ?it/s]c:\\Users\\it08d\\.conda\\envs\\scan\\Lib\\site-packages\\PIL\\Image.py:3452: DecompressionBombWarning: Image size (111495912 pixels) exceeds limit of 89478485 pixels, could be decompression bomb DOS attack.\n",
      "  warnings.warn(\n",
      "c:\\Users\\it08d\\.conda\\envs\\scan\\Lib\\site-packages\\PIL\\Image.py:3452: DecompressionBombWarning: Image size (117635850 pixels) exceeds limit of 89478485 pixels, could be decompression bomb DOS attack.\n",
      "  warnings.warn(\n",
      "c:\\Users\\it08d\\.conda\\envs\\scan\\Lib\\site-packages\\PIL\\Image.py:3452: DecompressionBombWarning: Image size (99325086 pixels) exceeds limit of 89478485 pixels, could be decompression bomb DOS attack.\n",
      "  warnings.warn(\n",
      "c:\\Users\\it08d\\.conda\\envs\\scan\\Lib\\site-packages\\PIL\\Image.py:3452: DecompressionBombWarning: Image size (101681160 pixels) exceeds limit of 89478485 pixels, could be decompression bomb DOS attack.\n",
      "  warnings.warn(\n",
      "c:\\Users\\it08d\\.conda\\envs\\scan\\Lib\\site-packages\\PIL\\Image.py:3452: DecompressionBombWarning: Image size (99847930 pixels) exceeds limit of 89478485 pixels, could be decompression bomb DOS attack.\n",
      "  warnings.warn(\n",
      "c:\\Users\\it08d\\.conda\\envs\\scan\\Lib\\site-packages\\PIL\\Image.py:3452: DecompressionBombWarning: Image size (89601234 pixels) exceeds limit of 89478485 pixels, could be decompression bomb DOS attack.\n",
      "  warnings.warn(\n",
      "c:\\Users\\it08d\\.conda\\envs\\scan\\Lib\\site-packages\\PIL\\Image.py:3452: DecompressionBombWarning: Image size (94301919 pixels) exceeds limit of 89478485 pixels, could be decompression bomb DOS attack.\n",
      "  warnings.warn(\n",
      "c:\\Users\\it08d\\.conda\\envs\\scan\\Lib\\site-packages\\PIL\\Image.py:3452: DecompressionBombWarning: Image size (94255272 pixels) exceeds limit of 89478485 pixels, could be decompression bomb DOS attack.\n",
      "  warnings.warn(\n",
      "c:\\Users\\it08d\\.conda\\envs\\scan\\Lib\\site-packages\\PIL\\Image.py:3452: DecompressionBombWarning: Image size (92388519 pixels) exceeds limit of 89478485 pixels, could be decompression bomb DOS attack.\n",
      "  warnings.warn(\n",
      "c:\\Users\\it08d\\.conda\\envs\\scan\\Lib\\site-packages\\PIL\\Image.py:3452: DecompressionBombWarning: Image size (92031300 pixels) exceeds limit of 89478485 pixels, could be decompression bomb DOS attack.\n",
      "  warnings.warn(\n",
      "c:\\Users\\it08d\\.conda\\envs\\scan\\Lib\\site-packages\\PIL\\Image.py:3452: DecompressionBombWarning: Image size (109041400 pixels) exceeds limit of 89478485 pixels, could be decompression bomb DOS attack.\n",
      "  warnings.warn(\n",
      "c:\\Users\\it08d\\.conda\\envs\\scan\\Lib\\site-packages\\PIL\\Image.py:3452: DecompressionBombWarning: Image size (121680752 pixels) exceeds limit of 89478485 pixels, could be decompression bomb DOS attack.\n",
      "  warnings.warn(\n",
      "c:\\Users\\it08d\\.conda\\envs\\scan\\Lib\\site-packages\\PIL\\Image.py:3452: DecompressionBombWarning: Image size (101097480 pixels) exceeds limit of 89478485 pixels, could be decompression bomb DOS attack.\n",
      "  warnings.warn(\n",
      "c:\\Users\\it08d\\.conda\\envs\\scan\\Lib\\site-packages\\PIL\\Image.py:3452: DecompressionBombWarning: Image size (102350085 pixels) exceeds limit of 89478485 pixels, could be decompression bomb DOS attack.\n",
      "  warnings.warn(\n",
      "c:\\Users\\it08d\\.conda\\envs\\scan\\Lib\\site-packages\\PIL\\Image.py:3452: DecompressionBombWarning: Image size (104102360 pixels) exceeds limit of 89478485 pixels, could be decompression bomb DOS attack.\n",
      "  warnings.warn(\n",
      "c:\\Users\\it08d\\.conda\\envs\\scan\\Lib\\site-packages\\PIL\\Image.py:3452: DecompressionBombWarning: Image size (93200919 pixels) exceeds limit of 89478485 pixels, could be decompression bomb DOS attack.\n",
      "  warnings.warn(\n",
      "c:\\Users\\it08d\\.conda\\envs\\scan\\Lib\\site-packages\\PIL\\Image.py:3452: DecompressionBombWarning: Image size (100462932 pixels) exceeds limit of 89478485 pixels, could be decompression bomb DOS attack.\n",
      "  warnings.warn(\n",
      "c:\\Users\\it08d\\.conda\\envs\\scan\\Lib\\site-packages\\PIL\\Image.py:3452: DecompressionBombWarning: Image size (111396984 pixels) exceeds limit of 89478485 pixels, could be decompression bomb DOS attack.\n",
      "  warnings.warn(\n",
      "c:\\Users\\it08d\\.conda\\envs\\scan\\Lib\\site-packages\\PIL\\Image.py:3452: DecompressionBombWarning: Image size (90832428 pixels) exceeds limit of 89478485 pixels, could be decompression bomb DOS attack.\n",
      "  warnings.warn(\n",
      "c:\\Users\\it08d\\.conda\\envs\\scan\\Lib\\site-packages\\PIL\\Image.py:3452: DecompressionBombWarning: Image size (116756760 pixels) exceeds limit of 89478485 pixels, could be decompression bomb DOS attack.\n",
      "  warnings.warn(\n",
      "c:\\Users\\it08d\\.conda\\envs\\scan\\Lib\\site-packages\\PIL\\Image.py:3452: DecompressionBombWarning: Image size (121560318 pixels) exceeds limit of 89478485 pixels, could be decompression bomb DOS attack.\n",
      "  warnings.warn(\n",
      "c:\\Users\\it08d\\.conda\\envs\\scan\\Lib\\site-packages\\PIL\\Image.py:3452: DecompressionBombWarning: Image size (98714687 pixels) exceeds limit of 89478485 pixels, could be decompression bomb DOS attack.\n",
      "  warnings.warn(\n",
      "c:\\Users\\it08d\\.conda\\envs\\scan\\Lib\\site-packages\\PIL\\Image.py:3452: DecompressionBombWarning: Image size (91757386 pixels) exceeds limit of 89478485 pixels, could be decompression bomb DOS attack.\n",
      "  warnings.warn(\n",
      "c:\\Users\\it08d\\.conda\\envs\\scan\\Lib\\site-packages\\PIL\\Image.py:3452: DecompressionBombWarning: Image size (103344824 pixels) exceeds limit of 89478485 pixels, could be decompression bomb DOS attack.\n",
      "  warnings.warn(\n",
      "Epoch 86/100: 100%|██████████| 1/1 [02:44<00:00, 164.07s/it]\n"
     ]
    },
    {
     "name": "stdout",
     "output_type": "stream",
     "text": [
      "Epoch [86/100] Loss: 499999904.0000\n"
     ]
    },
    {
     "name": "stderr",
     "output_type": "stream",
     "text": [
      "Epoch 87/100:   0%|          | 0/1 [00:00<?, ?it/s]c:\\Users\\it08d\\.conda\\envs\\scan\\Lib\\site-packages\\PIL\\Image.py:3452: DecompressionBombWarning: Image size (103610544 pixels) exceeds limit of 89478485 pixels, could be decompression bomb DOS attack.\n",
      "  warnings.warn(\n",
      "c:\\Users\\it08d\\.conda\\envs\\scan\\Lib\\site-packages\\PIL\\Image.py:3452: DecompressionBombWarning: Image size (112959765 pixels) exceeds limit of 89478485 pixels, could be decompression bomb DOS attack.\n",
      "  warnings.warn(\n",
      "c:\\Users\\it08d\\.conda\\envs\\scan\\Lib\\site-packages\\PIL\\Image.py:3452: DecompressionBombWarning: Image size (101040024 pixels) exceeds limit of 89478485 pixels, could be decompression bomb DOS attack.\n",
      "  warnings.warn(\n",
      "c:\\Users\\it08d\\.conda\\envs\\scan\\Lib\\site-packages\\PIL\\Image.py:3452: DecompressionBombWarning: Image size (107286720 pixels) exceeds limit of 89478485 pixels, could be decompression bomb DOS attack.\n",
      "  warnings.warn(\n",
      "c:\\Users\\it08d\\.conda\\envs\\scan\\Lib\\site-packages\\PIL\\Image.py:3452: DecompressionBombWarning: Image size (94216980 pixels) exceeds limit of 89478485 pixels, could be decompression bomb DOS attack.\n",
      "  warnings.warn(\n",
      "c:\\Users\\it08d\\.conda\\envs\\scan\\Lib\\site-packages\\PIL\\Image.py:3452: DecompressionBombWarning: Image size (91286030 pixels) exceeds limit of 89478485 pixels, could be decompression bomb DOS attack.\n",
      "  warnings.warn(\n",
      "c:\\Users\\it08d\\.conda\\envs\\scan\\Lib\\site-packages\\PIL\\Image.py:3452: DecompressionBombWarning: Image size (114935310 pixels) exceeds limit of 89478485 pixels, could be decompression bomb DOS attack.\n",
      "  warnings.warn(\n",
      "c:\\Users\\it08d\\.conda\\envs\\scan\\Lib\\site-packages\\PIL\\Image.py:3452: DecompressionBombWarning: Image size (99776440 pixels) exceeds limit of 89478485 pixels, could be decompression bomb DOS attack.\n",
      "  warnings.warn(\n",
      "c:\\Users\\it08d\\.conda\\envs\\scan\\Lib\\site-packages\\PIL\\Image.py:3452: DecompressionBombWarning: Image size (95344822 pixels) exceeds limit of 89478485 pixels, could be decompression bomb DOS attack.\n",
      "  warnings.warn(\n",
      "c:\\Users\\it08d\\.conda\\envs\\scan\\Lib\\site-packages\\PIL\\Image.py:3452: DecompressionBombWarning: Image size (97745373 pixels) exceeds limit of 89478485 pixels, could be decompression bomb DOS attack.\n",
      "  warnings.warn(\n",
      "c:\\Users\\it08d\\.conda\\envs\\scan\\Lib\\site-packages\\PIL\\Image.py:3452: DecompressionBombWarning: Image size (96313280 pixels) exceeds limit of 89478485 pixels, could be decompression bomb DOS attack.\n",
      "  warnings.warn(\n",
      "c:\\Users\\it08d\\.conda\\envs\\scan\\Lib\\site-packages\\PIL\\Image.py:3452: DecompressionBombWarning: Image size (102855300 pixels) exceeds limit of 89478485 pixels, could be decompression bomb DOS attack.\n",
      "  warnings.warn(\n",
      "c:\\Users\\it08d\\.conda\\envs\\scan\\Lib\\site-packages\\PIL\\Image.py:3452: DecompressionBombWarning: Image size (112655488 pixels) exceeds limit of 89478485 pixels, could be decompression bomb DOS attack.\n",
      "  warnings.warn(\n",
      "c:\\Users\\it08d\\.conda\\envs\\scan\\Lib\\site-packages\\PIL\\Image.py:3452: DecompressionBombWarning: Image size (91099456 pixels) exceeds limit of 89478485 pixels, could be decompression bomb DOS attack.\n",
      "  warnings.warn(\n",
      "c:\\Users\\it08d\\.conda\\envs\\scan\\Lib\\site-packages\\PIL\\Image.py:3452: DecompressionBombWarning: Image size (89485039 pixels) exceeds limit of 89478485 pixels, could be decompression bomb DOS attack.\n",
      "  warnings.warn(\n",
      "c:\\Users\\it08d\\.conda\\envs\\scan\\Lib\\site-packages\\PIL\\Image.py:3452: DecompressionBombWarning: Image size (94764579 pixels) exceeds limit of 89478485 pixels, could be decompression bomb DOS attack.\n",
      "  warnings.warn(\n",
      "c:\\Users\\it08d\\.conda\\envs\\scan\\Lib\\site-packages\\PIL\\Image.py:3452: DecompressionBombWarning: Image size (102103676 pixels) exceeds limit of 89478485 pixels, could be decompression bomb DOS attack.\n",
      "  warnings.warn(\n",
      "c:\\Users\\it08d\\.conda\\envs\\scan\\Lib\\site-packages\\PIL\\Image.py:3452: DecompressionBombWarning: Image size (96206400 pixels) exceeds limit of 89478485 pixels, could be decompression bomb DOS attack.\n",
      "  warnings.warn(\n",
      "Epoch 87/100: 100%|██████████| 1/1 [02:42<00:00, 162.45s/it]\n"
     ]
    },
    {
     "name": "stdout",
     "output_type": "stream",
     "text": [
      "Epoch [87/100] Loss: 499999904.0000\n"
     ]
    },
    {
     "name": "stderr",
     "output_type": "stream",
     "text": [
      "Epoch 88/100:   0%|          | 0/1 [00:00<?, ?it/s]c:\\Users\\it08d\\.conda\\envs\\scan\\Lib\\site-packages\\PIL\\Image.py:3452: DecompressionBombWarning: Image size (118991881 pixels) exceeds limit of 89478485 pixels, could be decompression bomb DOS attack.\n",
      "  warnings.warn(\n",
      "c:\\Users\\it08d\\.conda\\envs\\scan\\Lib\\site-packages\\PIL\\Image.py:3452: DecompressionBombWarning: Image size (106973025 pixels) exceeds limit of 89478485 pixels, could be decompression bomb DOS attack.\n",
      "  warnings.warn(\n",
      "c:\\Users\\it08d\\.conda\\envs\\scan\\Lib\\site-packages\\PIL\\Image.py:3452: DecompressionBombWarning: Image size (110682714 pixels) exceeds limit of 89478485 pixels, could be decompression bomb DOS attack.\n",
      "  warnings.warn(\n",
      "c:\\Users\\it08d\\.conda\\envs\\scan\\Lib\\site-packages\\PIL\\Image.py:3452: DecompressionBombWarning: Image size (91601622 pixels) exceeds limit of 89478485 pixels, could be decompression bomb DOS attack.\n",
      "  warnings.warn(\n",
      "c:\\Users\\it08d\\.conda\\envs\\scan\\Lib\\site-packages\\PIL\\Image.py:3452: DecompressionBombWarning: Image size (97175400 pixels) exceeds limit of 89478485 pixels, could be decompression bomb DOS attack.\n",
      "  warnings.warn(\n",
      "c:\\Users\\it08d\\.conda\\envs\\scan\\Lib\\site-packages\\PIL\\Image.py:3452: DecompressionBombWarning: Image size (97878231 pixels) exceeds limit of 89478485 pixels, could be decompression bomb DOS attack.\n",
      "  warnings.warn(\n",
      "c:\\Users\\it08d\\.conda\\envs\\scan\\Lib\\site-packages\\PIL\\Image.py:3452: DecompressionBombWarning: Image size (120599563 pixels) exceeds limit of 89478485 pixels, could be decompression bomb DOS attack.\n",
      "  warnings.warn(\n",
      "c:\\Users\\it08d\\.conda\\envs\\scan\\Lib\\site-packages\\PIL\\Image.py:3452: DecompressionBombWarning: Image size (90866349 pixels) exceeds limit of 89478485 pixels, could be decompression bomb DOS attack.\n",
      "  warnings.warn(\n",
      "c:\\Users\\it08d\\.conda\\envs\\scan\\Lib\\site-packages\\PIL\\Image.py:3452: DecompressionBombWarning: Image size (100596725 pixels) exceeds limit of 89478485 pixels, could be decompression bomb DOS attack.\n",
      "  warnings.warn(\n",
      "c:\\Users\\it08d\\.conda\\envs\\scan\\Lib\\site-packages\\PIL\\Image.py:3452: DecompressionBombWarning: Image size (103096576 pixels) exceeds limit of 89478485 pixels, could be decompression bomb DOS attack.\n",
      "  warnings.warn(\n",
      "c:\\Users\\it08d\\.conda\\envs\\scan\\Lib\\site-packages\\PIL\\Image.py:3452: DecompressionBombWarning: Image size (97222194 pixels) exceeds limit of 89478485 pixels, could be decompression bomb DOS attack.\n",
      "  warnings.warn(\n",
      "c:\\Users\\it08d\\.conda\\envs\\scan\\Lib\\site-packages\\PIL\\Image.py:3452: DecompressionBombWarning: Image size (93940380 pixels) exceeds limit of 89478485 pixels, could be decompression bomb DOS attack.\n",
      "  warnings.warn(\n",
      "c:\\Users\\it08d\\.conda\\envs\\scan\\Lib\\site-packages\\PIL\\Image.py:3452: DecompressionBombWarning: Image size (98988690 pixels) exceeds limit of 89478485 pixels, could be decompression bomb DOS attack.\n",
      "  warnings.warn(\n",
      "c:\\Users\\it08d\\.conda\\envs\\scan\\Lib\\site-packages\\PIL\\Image.py:3452: DecompressionBombWarning: Image size (93905994 pixels) exceeds limit of 89478485 pixels, could be decompression bomb DOS attack.\n",
      "  warnings.warn(\n",
      "c:\\Users\\it08d\\.conda\\envs\\scan\\Lib\\site-packages\\PIL\\Image.py:3452: DecompressionBombWarning: Image size (104488843 pixels) exceeds limit of 89478485 pixels, could be decompression bomb DOS attack.\n",
      "  warnings.warn(\n",
      "c:\\Users\\it08d\\.conda\\envs\\scan\\Lib\\site-packages\\PIL\\Image.py:3452: DecompressionBombWarning: Image size (98341005 pixels) exceeds limit of 89478485 pixels, could be decompression bomb DOS attack.\n",
      "  warnings.warn(\n",
      "c:\\Users\\it08d\\.conda\\envs\\scan\\Lib\\site-packages\\PIL\\Image.py:3452: DecompressionBombWarning: Image size (94771800 pixels) exceeds limit of 89478485 pixels, could be decompression bomb DOS attack.\n",
      "  warnings.warn(\n",
      "Epoch 88/100: 100%|██████████| 1/1 [02:55<00:00, 175.67s/it]\n"
     ]
    },
    {
     "name": "stdout",
     "output_type": "stream",
     "text": [
      "Epoch [88/100] Loss: 499999904.0000\n"
     ]
    },
    {
     "name": "stderr",
     "output_type": "stream",
     "text": [
      "Epoch 89/100:   0%|          | 0/1 [00:00<?, ?it/s]c:\\Users\\it08d\\.conda\\envs\\scan\\Lib\\site-packages\\PIL\\Image.py:3452: DecompressionBombWarning: Image size (121636032 pixels) exceeds limit of 89478485 pixels, could be decompression bomb DOS attack.\n",
      "  warnings.warn(\n",
      "c:\\Users\\it08d\\.conda\\envs\\scan\\Lib\\site-packages\\PIL\\Image.py:3452: DecompressionBombWarning: Image size (98707455 pixels) exceeds limit of 89478485 pixels, could be decompression bomb DOS attack.\n",
      "  warnings.warn(\n",
      "c:\\Users\\it08d\\.conda\\envs\\scan\\Lib\\site-packages\\PIL\\Image.py:3452: DecompressionBombWarning: Image size (91678521 pixels) exceeds limit of 89478485 pixels, could be decompression bomb DOS attack.\n",
      "  warnings.warn(\n",
      "c:\\Users\\it08d\\.conda\\envs\\scan\\Lib\\site-packages\\PIL\\Image.py:3452: DecompressionBombWarning: Image size (103278217 pixels) exceeds limit of 89478485 pixels, could be decompression bomb DOS attack.\n",
      "  warnings.warn(\n",
      "c:\\Users\\it08d\\.conda\\envs\\scan\\Lib\\site-packages\\PIL\\Image.py:3452: DecompressionBombWarning: Image size (96011526 pixels) exceeds limit of 89478485 pixels, could be decompression bomb DOS attack.\n",
      "  warnings.warn(\n",
      "c:\\Users\\it08d\\.conda\\envs\\scan\\Lib\\site-packages\\PIL\\Image.py:3452: DecompressionBombWarning: Image size (116800437 pixels) exceeds limit of 89478485 pixels, could be decompression bomb DOS attack.\n",
      "  warnings.warn(\n",
      "c:\\Users\\it08d\\.conda\\envs\\scan\\Lib\\site-packages\\PIL\\Image.py:3452: DecompressionBombWarning: Image size (99342900 pixels) exceeds limit of 89478485 pixels, could be decompression bomb DOS attack.\n",
      "  warnings.warn(\n",
      "c:\\Users\\it08d\\.conda\\envs\\scan\\Lib\\site-packages\\PIL\\Image.py:3452: DecompressionBombWarning: Image size (105549648 pixels) exceeds limit of 89478485 pixels, could be decompression bomb DOS attack.\n",
      "  warnings.warn(\n",
      "c:\\Users\\it08d\\.conda\\envs\\scan\\Lib\\site-packages\\PIL\\Image.py:3452: DecompressionBombWarning: Image size (99033272 pixels) exceeds limit of 89478485 pixels, could be decompression bomb DOS attack.\n",
      "  warnings.warn(\n",
      "c:\\Users\\it08d\\.conda\\envs\\scan\\Lib\\site-packages\\PIL\\Image.py:3452: DecompressionBombWarning: Image size (109862690 pixels) exceeds limit of 89478485 pixels, could be decompression bomb DOS attack.\n",
      "  warnings.warn(\n",
      "c:\\Users\\it08d\\.conda\\envs\\scan\\Lib\\site-packages\\PIL\\Image.py:3452: DecompressionBombWarning: Image size (100696656 pixels) exceeds limit of 89478485 pixels, could be decompression bomb DOS attack.\n",
      "  warnings.warn(\n",
      "c:\\Users\\it08d\\.conda\\envs\\scan\\Lib\\site-packages\\PIL\\Image.py:3452: DecompressionBombWarning: Image size (95262255 pixels) exceeds limit of 89478485 pixels, could be decompression bomb DOS attack.\n",
      "  warnings.warn(\n",
      "c:\\Users\\it08d\\.conda\\envs\\scan\\Lib\\site-packages\\PIL\\Image.py:3452: DecompressionBombWarning: Image size (103692542 pixels) exceeds limit of 89478485 pixels, could be decompression bomb DOS attack.\n",
      "  warnings.warn(\n",
      "c:\\Users\\it08d\\.conda\\envs\\scan\\Lib\\site-packages\\PIL\\Image.py:3452: DecompressionBombWarning: Image size (113999710 pixels) exceeds limit of 89478485 pixels, could be decompression bomb DOS attack.\n",
      "  warnings.warn(\n",
      "c:\\Users\\it08d\\.conda\\envs\\scan\\Lib\\site-packages\\PIL\\Image.py:3452: DecompressionBombWarning: Image size (102773880 pixels) exceeds limit of 89478485 pixels, could be decompression bomb DOS attack.\n",
      "  warnings.warn(\n",
      "c:\\Users\\it08d\\.conda\\envs\\scan\\Lib\\site-packages\\PIL\\Image.py:3452: DecompressionBombWarning: Image size (94542903 pixels) exceeds limit of 89478485 pixels, could be decompression bomb DOS attack.\n",
      "  warnings.warn(\n",
      "c:\\Users\\it08d\\.conda\\envs\\scan\\Lib\\site-packages\\PIL\\Image.py:3452: DecompressionBombWarning: Image size (100771434 pixels) exceeds limit of 89478485 pixels, could be decompression bomb DOS attack.\n",
      "  warnings.warn(\n",
      "c:\\Users\\it08d\\.conda\\envs\\scan\\Lib\\site-packages\\PIL\\Image.py:3452: DecompressionBombWarning: Image size (96272305 pixels) exceeds limit of 89478485 pixels, could be decompression bomb DOS attack.\n",
      "  warnings.warn(\n",
      "c:\\Users\\it08d\\.conda\\envs\\scan\\Lib\\site-packages\\PIL\\Image.py:3452: DecompressionBombWarning: Image size (99504816 pixels) exceeds limit of 89478485 pixels, could be decompression bomb DOS attack.\n",
      "  warnings.warn(\n",
      "c:\\Users\\it08d\\.conda\\envs\\scan\\Lib\\site-packages\\PIL\\Image.py:3452: DecompressionBombWarning: Image size (93980023 pixels) exceeds limit of 89478485 pixels, could be decompression bomb DOS attack.\n",
      "  warnings.warn(\n",
      "c:\\Users\\it08d\\.conda\\envs\\scan\\Lib\\site-packages\\PIL\\Image.py:3452: DecompressionBombWarning: Image size (90347712 pixels) exceeds limit of 89478485 pixels, could be decompression bomb DOS attack.\n",
      "  warnings.warn(\n",
      "c:\\Users\\it08d\\.conda\\envs\\scan\\Lib\\site-packages\\PIL\\Image.py:3452: DecompressionBombWarning: Image size (98971308 pixels) exceeds limit of 89478485 pixels, could be decompression bomb DOS attack.\n",
      "  warnings.warn(\n",
      "Epoch 89/100: 100%|██████████| 1/1 [02:54<00:00, 174.85s/it]\n"
     ]
    },
    {
     "name": "stdout",
     "output_type": "stream",
     "text": [
      "Epoch [89/100] Loss: 499999904.0000\n"
     ]
    },
    {
     "name": "stderr",
     "output_type": "stream",
     "text": [
      "Epoch 90/100:   0%|          | 0/1 [00:00<?, ?it/s]c:\\Users\\it08d\\.conda\\envs\\scan\\Lib\\site-packages\\PIL\\Image.py:3452: DecompressionBombWarning: Image size (99255870 pixels) exceeds limit of 89478485 pixels, could be decompression bomb DOS attack.\n",
      "  warnings.warn(\n",
      "c:\\Users\\it08d\\.conda\\envs\\scan\\Lib\\site-packages\\PIL\\Image.py:3452: DecompressionBombWarning: Image size (109674752 pixels) exceeds limit of 89478485 pixels, could be decompression bomb DOS attack.\n",
      "  warnings.warn(\n",
      "c:\\Users\\it08d\\.conda\\envs\\scan\\Lib\\site-packages\\PIL\\Image.py:3452: DecompressionBombWarning: Image size (106822280 pixels) exceeds limit of 89478485 pixels, could be decompression bomb DOS attack.\n",
      "  warnings.warn(\n",
      "c:\\Users\\it08d\\.conda\\envs\\scan\\Lib\\site-packages\\PIL\\Image.py:3452: DecompressionBombWarning: Image size (100613658 pixels) exceeds limit of 89478485 pixels, could be decompression bomb DOS attack.\n",
      "  warnings.warn(\n",
      "c:\\Users\\it08d\\.conda\\envs\\scan\\Lib\\site-packages\\PIL\\Image.py:3452: DecompressionBombWarning: Image size (89886861 pixels) exceeds limit of 89478485 pixels, could be decompression bomb DOS attack.\n",
      "  warnings.warn(\n",
      "c:\\Users\\it08d\\.conda\\envs\\scan\\Lib\\site-packages\\PIL\\Image.py:3452: DecompressionBombWarning: Image size (91664442 pixels) exceeds limit of 89478485 pixels, could be decompression bomb DOS attack.\n",
      "  warnings.warn(\n",
      "c:\\Users\\it08d\\.conda\\envs\\scan\\Lib\\site-packages\\PIL\\Image.py:3452: DecompressionBombWarning: Image size (101110209 pixels) exceeds limit of 89478485 pixels, could be decompression bomb DOS attack.\n",
      "  warnings.warn(\n",
      "c:\\Users\\it08d\\.conda\\envs\\scan\\Lib\\site-packages\\PIL\\Image.py:3452: DecompressionBombWarning: Image size (111081002 pixels) exceeds limit of 89478485 pixels, could be decompression bomb DOS attack.\n",
      "  warnings.warn(\n",
      "c:\\Users\\it08d\\.conda\\envs\\scan\\Lib\\site-packages\\PIL\\Image.py:3452: DecompressionBombWarning: Image size (90019755 pixels) exceeds limit of 89478485 pixels, could be decompression bomb DOS attack.\n",
      "  warnings.warn(\n",
      "c:\\Users\\it08d\\.conda\\envs\\scan\\Lib\\site-packages\\PIL\\Image.py:3452: DecompressionBombWarning: Image size (101759016 pixels) exceeds limit of 89478485 pixels, could be decompression bomb DOS attack.\n",
      "  warnings.warn(\n",
      "c:\\Users\\it08d\\.conda\\envs\\scan\\Lib\\site-packages\\PIL\\Image.py:3452: DecompressionBombWarning: Image size (92505532 pixels) exceeds limit of 89478485 pixels, could be decompression bomb DOS attack.\n",
      "  warnings.warn(\n",
      "c:\\Users\\it08d\\.conda\\envs\\scan\\Lib\\site-packages\\PIL\\Image.py:3452: DecompressionBombWarning: Image size (92472240 pixels) exceeds limit of 89478485 pixels, could be decompression bomb DOS attack.\n",
      "  warnings.warn(\n",
      "c:\\Users\\it08d\\.conda\\envs\\scan\\Lib\\site-packages\\PIL\\Image.py:3452: DecompressionBombWarning: Image size (91417824 pixels) exceeds limit of 89478485 pixels, could be decompression bomb DOS attack.\n",
      "  warnings.warn(\n",
      "c:\\Users\\it08d\\.conda\\envs\\scan\\Lib\\site-packages\\PIL\\Image.py:3452: DecompressionBombWarning: Image size (99949640 pixels) exceeds limit of 89478485 pixels, could be decompression bomb DOS attack.\n",
      "  warnings.warn(\n",
      "c:\\Users\\it08d\\.conda\\envs\\scan\\Lib\\site-packages\\PIL\\Image.py:3452: DecompressionBombWarning: Image size (96530719 pixels) exceeds limit of 89478485 pixels, could be decompression bomb DOS attack.\n",
      "  warnings.warn(\n",
      "c:\\Users\\it08d\\.conda\\envs\\scan\\Lib\\site-packages\\PIL\\Image.py:3452: DecompressionBombWarning: Image size (107410121 pixels) exceeds limit of 89478485 pixels, could be decompression bomb DOS attack.\n",
      "  warnings.warn(\n",
      "c:\\Users\\it08d\\.conda\\envs\\scan\\Lib\\site-packages\\PIL\\Image.py:3452: DecompressionBombWarning: Image size (101102355 pixels) exceeds limit of 89478485 pixels, could be decompression bomb DOS attack.\n",
      "  warnings.warn(\n",
      "c:\\Users\\it08d\\.conda\\envs\\scan\\Lib\\site-packages\\PIL\\Image.py:3452: DecompressionBombWarning: Image size (104947710 pixels) exceeds limit of 89478485 pixels, could be decompression bomb DOS attack.\n",
      "  warnings.warn(\n",
      "c:\\Users\\it08d\\.conda\\envs\\scan\\Lib\\site-packages\\PIL\\Image.py:3452: DecompressionBombWarning: Image size (95836650 pixels) exceeds limit of 89478485 pixels, could be decompression bomb DOS attack.\n",
      "  warnings.warn(\n",
      "c:\\Users\\it08d\\.conda\\envs\\scan\\Lib\\site-packages\\PIL\\Image.py:3452: DecompressionBombWarning: Image size (111677319 pixels) exceeds limit of 89478485 pixels, could be decompression bomb DOS attack.\n",
      "  warnings.warn(\n",
      "c:\\Users\\it08d\\.conda\\envs\\scan\\Lib\\site-packages\\PIL\\Image.py:3452: DecompressionBombWarning: Image size (101066700 pixels) exceeds limit of 89478485 pixels, could be decompression bomb DOS attack.\n",
      "  warnings.warn(\n",
      "c:\\Users\\it08d\\.conda\\envs\\scan\\Lib\\site-packages\\PIL\\Image.py:3452: DecompressionBombWarning: Image size (90164384 pixels) exceeds limit of 89478485 pixels, could be decompression bomb DOS attack.\n",
      "  warnings.warn(\n",
      "c:\\Users\\it08d\\.conda\\envs\\scan\\Lib\\site-packages\\PIL\\Image.py:3452: DecompressionBombWarning: Image size (97384560 pixels) exceeds limit of 89478485 pixels, could be decompression bomb DOS attack.\n",
      "  warnings.warn(\n",
      "c:\\Users\\it08d\\.conda\\envs\\scan\\Lib\\site-packages\\PIL\\Image.py:3452: DecompressionBombWarning: Image size (96696600 pixels) exceeds limit of 89478485 pixels, could be decompression bomb DOS attack.\n",
      "  warnings.warn(\n",
      "c:\\Users\\it08d\\.conda\\envs\\scan\\Lib\\site-packages\\PIL\\Image.py:3452: DecompressionBombWarning: Image size (93673180 pixels) exceeds limit of 89478485 pixels, could be decompression bomb DOS attack.\n",
      "  warnings.warn(\n",
      "c:\\Users\\it08d\\.conda\\envs\\scan\\Lib\\site-packages\\PIL\\Image.py:3452: DecompressionBombWarning: Image size (89513976 pixels) exceeds limit of 89478485 pixels, could be decompression bomb DOS attack.\n",
      "  warnings.warn(\n",
      "Epoch 90/100: 100%|██████████| 1/1 [02:53<00:00, 173.94s/it]\n"
     ]
    },
    {
     "name": "stdout",
     "output_type": "stream",
     "text": [
      "Epoch [90/100] Loss: 499999904.0000\n"
     ]
    },
    {
     "name": "stderr",
     "output_type": "stream",
     "text": [
      "Epoch 91/100:   0%|          | 0/1 [00:00<?, ?it/s]c:\\Users\\it08d\\.conda\\envs\\scan\\Lib\\site-packages\\PIL\\Image.py:3452: DecompressionBombWarning: Image size (105615680 pixels) exceeds limit of 89478485 pixels, could be decompression bomb DOS attack.\n",
      "  warnings.warn(\n",
      "c:\\Users\\it08d\\.conda\\envs\\scan\\Lib\\site-packages\\PIL\\Image.py:3452: DecompressionBombWarning: Image size (112927241 pixels) exceeds limit of 89478485 pixels, could be decompression bomb DOS attack.\n",
      "  warnings.warn(\n",
      "c:\\Users\\it08d\\.conda\\envs\\scan\\Lib\\site-packages\\PIL\\Image.py:3452: DecompressionBombWarning: Image size (91888510 pixels) exceeds limit of 89478485 pixels, could be decompression bomb DOS attack.\n",
      "  warnings.warn(\n",
      "c:\\Users\\it08d\\.conda\\envs\\scan\\Lib\\site-packages\\PIL\\Image.py:3452: DecompressionBombWarning: Image size (110660000 pixels) exceeds limit of 89478485 pixels, could be decompression bomb DOS attack.\n",
      "  warnings.warn(\n",
      "c:\\Users\\it08d\\.conda\\envs\\scan\\Lib\\site-packages\\PIL\\Image.py:3452: DecompressionBombWarning: Image size (100033636 pixels) exceeds limit of 89478485 pixels, could be decompression bomb DOS attack.\n",
      "  warnings.warn(\n",
      "c:\\Users\\it08d\\.conda\\envs\\scan\\Lib\\site-packages\\PIL\\Image.py:3452: DecompressionBombWarning: Image size (91920140 pixels) exceeds limit of 89478485 pixels, could be decompression bomb DOS attack.\n",
      "  warnings.warn(\n",
      "c:\\Users\\it08d\\.conda\\envs\\scan\\Lib\\site-packages\\PIL\\Image.py:3452: DecompressionBombWarning: Image size (102385514 pixels) exceeds limit of 89478485 pixels, could be decompression bomb DOS attack.\n",
      "  warnings.warn(\n",
      "c:\\Users\\it08d\\.conda\\envs\\scan\\Lib\\site-packages\\PIL\\Image.py:3452: DecompressionBombWarning: Image size (116684574 pixels) exceeds limit of 89478485 pixels, could be decompression bomb DOS attack.\n",
      "  warnings.warn(\n",
      "c:\\Users\\it08d\\.conda\\envs\\scan\\Lib\\site-packages\\PIL\\Image.py:3452: DecompressionBombWarning: Image size (95429761 pixels) exceeds limit of 89478485 pixels, could be decompression bomb DOS attack.\n",
      "  warnings.warn(\n",
      "c:\\Users\\it08d\\.conda\\envs\\scan\\Lib\\site-packages\\PIL\\Image.py:3452: DecompressionBombWarning: Image size (90754716 pixels) exceeds limit of 89478485 pixels, could be decompression bomb DOS attack.\n",
      "  warnings.warn(\n",
      "c:\\Users\\it08d\\.conda\\envs\\scan\\Lib\\site-packages\\PIL\\Image.py:3452: DecompressionBombWarning: Image size (107612736 pixels) exceeds limit of 89478485 pixels, could be decompression bomb DOS attack.\n",
      "  warnings.warn(\n",
      "c:\\Users\\it08d\\.conda\\envs\\scan\\Lib\\site-packages\\PIL\\Image.py:3452: DecompressionBombWarning: Image size (106237074 pixels) exceeds limit of 89478485 pixels, could be decompression bomb DOS attack.\n",
      "  warnings.warn(\n",
      "c:\\Users\\it08d\\.conda\\envs\\scan\\Lib\\site-packages\\PIL\\Image.py:3452: DecompressionBombWarning: Image size (93464810 pixels) exceeds limit of 89478485 pixels, could be decompression bomb DOS attack.\n",
      "  warnings.warn(\n",
      "c:\\Users\\it08d\\.conda\\envs\\scan\\Lib\\site-packages\\PIL\\Image.py:3452: DecompressionBombWarning: Image size (92199925 pixels) exceeds limit of 89478485 pixels, could be decompression bomb DOS attack.\n",
      "  warnings.warn(\n",
      "c:\\Users\\it08d\\.conda\\envs\\scan\\Lib\\site-packages\\PIL\\Image.py:3452: DecompressionBombWarning: Image size (107970408 pixels) exceeds limit of 89478485 pixels, could be decompression bomb DOS attack.\n",
      "  warnings.warn(\n",
      "c:\\Users\\it08d\\.conda\\envs\\scan\\Lib\\site-packages\\PIL\\Image.py:3452: DecompressionBombWarning: Image size (95398633 pixels) exceeds limit of 89478485 pixels, could be decompression bomb DOS attack.\n",
      "  warnings.warn(\n",
      "c:\\Users\\it08d\\.conda\\envs\\scan\\Lib\\site-packages\\PIL\\Image.py:3452: DecompressionBombWarning: Image size (96230758 pixels) exceeds limit of 89478485 pixels, could be decompression bomb DOS attack.\n",
      "  warnings.warn(\n",
      "c:\\Users\\it08d\\.conda\\envs\\scan\\Lib\\site-packages\\PIL\\Image.py:3452: DecompressionBombWarning: Image size (93794769 pixels) exceeds limit of 89478485 pixels, could be decompression bomb DOS attack.\n",
      "  warnings.warn(\n",
      "c:\\Users\\it08d\\.conda\\envs\\scan\\Lib\\site-packages\\PIL\\Image.py:3452: DecompressionBombWarning: Image size (93350900 pixels) exceeds limit of 89478485 pixels, could be decompression bomb DOS attack.\n",
      "  warnings.warn(\n",
      "c:\\Users\\it08d\\.conda\\envs\\scan\\Lib\\site-packages\\PIL\\Image.py:3452: DecompressionBombWarning: Image size (110701195 pixels) exceeds limit of 89478485 pixels, could be decompression bomb DOS attack.\n",
      "  warnings.warn(\n",
      "c:\\Users\\it08d\\.conda\\envs\\scan\\Lib\\site-packages\\PIL\\Image.py:3452: DecompressionBombWarning: Image size (91760633 pixels) exceeds limit of 89478485 pixels, could be decompression bomb DOS attack.\n",
      "  warnings.warn(\n",
      "c:\\Users\\it08d\\.conda\\envs\\scan\\Lib\\site-packages\\PIL\\Image.py:3452: DecompressionBombWarning: Image size (101130771 pixels) exceeds limit of 89478485 pixels, could be decompression bomb DOS attack.\n",
      "  warnings.warn(\n",
      "c:\\Users\\it08d\\.conda\\envs\\scan\\Lib\\site-packages\\PIL\\Image.py:3452: DecompressionBombWarning: Image size (97707137 pixels) exceeds limit of 89478485 pixels, could be decompression bomb DOS attack.\n",
      "  warnings.warn(\n",
      "c:\\Users\\it08d\\.conda\\envs\\scan\\Lib\\site-packages\\PIL\\Image.py:3452: DecompressionBombWarning: Image size (90438658 pixels) exceeds limit of 89478485 pixels, could be decompression bomb DOS attack.\n",
      "  warnings.warn(\n",
      "c:\\Users\\it08d\\.conda\\envs\\scan\\Lib\\site-packages\\PIL\\Image.py:3452: DecompressionBombWarning: Image size (106486056 pixels) exceeds limit of 89478485 pixels, could be decompression bomb DOS attack.\n",
      "  warnings.warn(\n",
      "c:\\Users\\it08d\\.conda\\envs\\scan\\Lib\\site-packages\\PIL\\Image.py:3452: DecompressionBombWarning: Image size (92395612 pixels) exceeds limit of 89478485 pixels, could be decompression bomb DOS attack.\n",
      "  warnings.warn(\n",
      "c:\\Users\\it08d\\.conda\\envs\\scan\\Lib\\site-packages\\PIL\\Image.py:3452: DecompressionBombWarning: Image size (105001888 pixels) exceeds limit of 89478485 pixels, could be decompression bomb DOS attack.\n",
      "  warnings.warn(\n",
      "c:\\Users\\it08d\\.conda\\envs\\scan\\Lib\\site-packages\\PIL\\Image.py:3452: DecompressionBombWarning: Image size (95253669 pixels) exceeds limit of 89478485 pixels, could be decompression bomb DOS attack.\n",
      "  warnings.warn(\n",
      "Epoch 91/100: 100%|██████████| 1/1 [02:59<00:00, 179.57s/it]\n"
     ]
    },
    {
     "name": "stdout",
     "output_type": "stream",
     "text": [
      "Epoch [91/100] Loss: 499999904.0000\n"
     ]
    },
    {
     "name": "stderr",
     "output_type": "stream",
     "text": [
      "Epoch 92/100:   0%|          | 0/1 [00:00<?, ?it/s]c:\\Users\\it08d\\.conda\\envs\\scan\\Lib\\site-packages\\PIL\\Image.py:3452: DecompressionBombWarning: Image size (89745015 pixels) exceeds limit of 89478485 pixels, could be decompression bomb DOS attack.\n",
      "  warnings.warn(\n",
      "c:\\Users\\it08d\\.conda\\envs\\scan\\Lib\\site-packages\\PIL\\Image.py:3452: DecompressionBombWarning: Image size (100919017 pixels) exceeds limit of 89478485 pixels, could be decompression bomb DOS attack.\n",
      "  warnings.warn(\n",
      "c:\\Users\\it08d\\.conda\\envs\\scan\\Lib\\site-packages\\PIL\\Image.py:3452: DecompressionBombWarning: Image size (108209024 pixels) exceeds limit of 89478485 pixels, could be decompression bomb DOS attack.\n",
      "  warnings.warn(\n",
      "c:\\Users\\it08d\\.conda\\envs\\scan\\Lib\\site-packages\\PIL\\Image.py:3452: DecompressionBombWarning: Image size (117278496 pixels) exceeds limit of 89478485 pixels, could be decompression bomb DOS attack.\n",
      "  warnings.warn(\n",
      "c:\\Users\\it08d\\.conda\\envs\\scan\\Lib\\site-packages\\PIL\\Image.py:3452: DecompressionBombWarning: Image size (106093152 pixels) exceeds limit of 89478485 pixels, could be decompression bomb DOS attack.\n",
      "  warnings.warn(\n",
      "c:\\Users\\it08d\\.conda\\envs\\scan\\Lib\\site-packages\\PIL\\Image.py:3452: DecompressionBombWarning: Image size (91293147 pixels) exceeds limit of 89478485 pixels, could be decompression bomb DOS attack.\n",
      "  warnings.warn(\n",
      "c:\\Users\\it08d\\.conda\\envs\\scan\\Lib\\site-packages\\PIL\\Image.py:3452: DecompressionBombWarning: Image size (102944160 pixels) exceeds limit of 89478485 pixels, could be decompression bomb DOS attack.\n",
      "  warnings.warn(\n",
      "c:\\Users\\it08d\\.conda\\envs\\scan\\Lib\\site-packages\\PIL\\Image.py:3452: DecompressionBombWarning: Image size (90153000 pixels) exceeds limit of 89478485 pixels, could be decompression bomb DOS attack.\n",
      "  warnings.warn(\n",
      "c:\\Users\\it08d\\.conda\\envs\\scan\\Lib\\site-packages\\PIL\\Image.py:3452: DecompressionBombWarning: Image size (95268334 pixels) exceeds limit of 89478485 pixels, could be decompression bomb DOS attack.\n",
      "  warnings.warn(\n",
      "c:\\Users\\it08d\\.conda\\envs\\scan\\Lib\\site-packages\\PIL\\Image.py:3452: DecompressionBombWarning: Image size (92353180 pixels) exceeds limit of 89478485 pixels, could be decompression bomb DOS attack.\n",
      "  warnings.warn(\n",
      "c:\\Users\\it08d\\.conda\\envs\\scan\\Lib\\site-packages\\PIL\\Image.py:3452: DecompressionBombWarning: Image size (96947640 pixels) exceeds limit of 89478485 pixels, could be decompression bomb DOS attack.\n",
      "  warnings.warn(\n",
      "c:\\Users\\it08d\\.conda\\envs\\scan\\Lib\\site-packages\\PIL\\Image.py:3452: DecompressionBombWarning: Image size (98819277 pixels) exceeds limit of 89478485 pixels, could be decompression bomb DOS attack.\n",
      "  warnings.warn(\n",
      "c:\\Users\\it08d\\.conda\\envs\\scan\\Lib\\site-packages\\PIL\\Image.py:3452: DecompressionBombWarning: Image size (103606125 pixels) exceeds limit of 89478485 pixels, could be decompression bomb DOS attack.\n",
      "  warnings.warn(\n",
      "c:\\Users\\it08d\\.conda\\envs\\scan\\Lib\\site-packages\\PIL\\Image.py:3452: DecompressionBombWarning: Image size (100560720 pixels) exceeds limit of 89478485 pixels, could be decompression bomb DOS attack.\n",
      "  warnings.warn(\n",
      "c:\\Users\\it08d\\.conda\\envs\\scan\\Lib\\site-packages\\PIL\\Image.py:3452: DecompressionBombWarning: Image size (116250918 pixels) exceeds limit of 89478485 pixels, could be decompression bomb DOS attack.\n",
      "  warnings.warn(\n",
      "c:\\Users\\it08d\\.conda\\envs\\scan\\Lib\\site-packages\\PIL\\Image.py:3452: DecompressionBombWarning: Image size (107820567 pixels) exceeds limit of 89478485 pixels, could be decompression bomb DOS attack.\n",
      "  warnings.warn(\n",
      "c:\\Users\\it08d\\.conda\\envs\\scan\\Lib\\site-packages\\PIL\\Image.py:3452: DecompressionBombWarning: Image size (94851000 pixels) exceeds limit of 89478485 pixels, could be decompression bomb DOS attack.\n",
      "  warnings.warn(\n",
      "c:\\Users\\it08d\\.conda\\envs\\scan\\Lib\\site-packages\\PIL\\Image.py:3452: DecompressionBombWarning: Image size (113576835 pixels) exceeds limit of 89478485 pixels, could be decompression bomb DOS attack.\n",
      "  warnings.warn(\n",
      "c:\\Users\\it08d\\.conda\\envs\\scan\\Lib\\site-packages\\PIL\\Image.py:3452: DecompressionBombWarning: Image size (101331168 pixels) exceeds limit of 89478485 pixels, could be decompression bomb DOS attack.\n",
      "  warnings.warn(\n",
      "c:\\Users\\it08d\\.conda\\envs\\scan\\Lib\\site-packages\\PIL\\Image.py:3452: DecompressionBombWarning: Image size (94504852 pixels) exceeds limit of 89478485 pixels, could be decompression bomb DOS attack.\n",
      "  warnings.warn(\n",
      "c:\\Users\\it08d\\.conda\\envs\\scan\\Lib\\site-packages\\PIL\\Image.py:3452: DecompressionBombWarning: Image size (121925475 pixels) exceeds limit of 89478485 pixels, could be decompression bomb DOS attack.\n",
      "  warnings.warn(\n",
      "c:\\Users\\it08d\\.conda\\envs\\scan\\Lib\\site-packages\\PIL\\Image.py:3452: DecompressionBombWarning: Image size (113190672 pixels) exceeds limit of 89478485 pixels, could be decompression bomb DOS attack.\n",
      "  warnings.warn(\n",
      "c:\\Users\\it08d\\.conda\\envs\\scan\\Lib\\site-packages\\PIL\\Image.py:3452: DecompressionBombWarning: Image size (103424552 pixels) exceeds limit of 89478485 pixels, could be decompression bomb DOS attack.\n",
      "  warnings.warn(\n",
      "c:\\Users\\it08d\\.conda\\envs\\scan\\Lib\\site-packages\\PIL\\Image.py:3452: DecompressionBombWarning: Image size (97940675 pixels) exceeds limit of 89478485 pixels, could be decompression bomb DOS attack.\n",
      "  warnings.warn(\n",
      "Epoch 92/100: 100%|██████████| 1/1 [02:59<00:00, 179.92s/it]\n"
     ]
    },
    {
     "name": "stdout",
     "output_type": "stream",
     "text": [
      "Epoch [92/100] Loss: 499999904.0000\n"
     ]
    },
    {
     "name": "stderr",
     "output_type": "stream",
     "text": [
      "Epoch 93/100:   0%|          | 0/1 [00:00<?, ?it/s]c:\\Users\\it08d\\.conda\\envs\\scan\\Lib\\site-packages\\PIL\\Image.py:3452: DecompressionBombWarning: Image size (91705378 pixels) exceeds limit of 89478485 pixels, could be decompression bomb DOS attack.\n",
      "  warnings.warn(\n",
      "c:\\Users\\it08d\\.conda\\envs\\scan\\Lib\\site-packages\\PIL\\Image.py:3452: DecompressionBombWarning: Image size (96968874 pixels) exceeds limit of 89478485 pixels, could be decompression bomb DOS attack.\n",
      "  warnings.warn(\n",
      "c:\\Users\\it08d\\.conda\\envs\\scan\\Lib\\site-packages\\PIL\\Image.py:3452: DecompressionBombWarning: Image size (113264460 pixels) exceeds limit of 89478485 pixels, could be decompression bomb DOS attack.\n",
      "  warnings.warn(\n",
      "c:\\Users\\it08d\\.conda\\envs\\scan\\Lib\\site-packages\\PIL\\Image.py:3452: DecompressionBombWarning: Image size (90472842 pixels) exceeds limit of 89478485 pixels, could be decompression bomb DOS attack.\n",
      "  warnings.warn(\n",
      "c:\\Users\\it08d\\.conda\\envs\\scan\\Lib\\site-packages\\PIL\\Image.py:3452: DecompressionBombWarning: Image size (111914000 pixels) exceeds limit of 89478485 pixels, could be decompression bomb DOS attack.\n",
      "  warnings.warn(\n",
      "c:\\Users\\it08d\\.conda\\envs\\scan\\Lib\\site-packages\\PIL\\Image.py:3452: DecompressionBombWarning: Image size (91333424 pixels) exceeds limit of 89478485 pixels, could be decompression bomb DOS attack.\n",
      "  warnings.warn(\n",
      "c:\\Users\\it08d\\.conda\\envs\\scan\\Lib\\site-packages\\PIL\\Image.py:3452: DecompressionBombWarning: Image size (93670133 pixels) exceeds limit of 89478485 pixels, could be decompression bomb DOS attack.\n",
      "  warnings.warn(\n",
      "c:\\Users\\it08d\\.conda\\envs\\scan\\Lib\\site-packages\\PIL\\Image.py:3452: DecompressionBombWarning: Image size (104763665 pixels) exceeds limit of 89478485 pixels, could be decompression bomb DOS attack.\n",
      "  warnings.warn(\n",
      "c:\\Users\\it08d\\.conda\\envs\\scan\\Lib\\site-packages\\PIL\\Image.py:3452: DecompressionBombWarning: Image size (98115682 pixels) exceeds limit of 89478485 pixels, could be decompression bomb DOS attack.\n",
      "  warnings.warn(\n",
      "c:\\Users\\it08d\\.conda\\envs\\scan\\Lib\\site-packages\\PIL\\Image.py:3452: DecompressionBombWarning: Image size (99895264 pixels) exceeds limit of 89478485 pixels, could be decompression bomb DOS attack.\n",
      "  warnings.warn(\n",
      "c:\\Users\\it08d\\.conda\\envs\\scan\\Lib\\site-packages\\PIL\\Image.py:3452: DecompressionBombWarning: Image size (116154396 pixels) exceeds limit of 89478485 pixels, could be decompression bomb DOS attack.\n",
      "  warnings.warn(\n",
      "c:\\Users\\it08d\\.conda\\envs\\scan\\Lib\\site-packages\\PIL\\Image.py:3452: DecompressionBombWarning: Image size (92787360 pixels) exceeds limit of 89478485 pixels, could be decompression bomb DOS attack.\n",
      "  warnings.warn(\n",
      "c:\\Users\\it08d\\.conda\\envs\\scan\\Lib\\site-packages\\PIL\\Image.py:3452: DecompressionBombWarning: Image size (95754505 pixels) exceeds limit of 89478485 pixels, could be decompression bomb DOS attack.\n",
      "  warnings.warn(\n",
      "c:\\Users\\it08d\\.conda\\envs\\scan\\Lib\\site-packages\\PIL\\Image.py:3452: DecompressionBombWarning: Image size (100950948 pixels) exceeds limit of 89478485 pixels, could be decompression bomb DOS attack.\n",
      "  warnings.warn(\n",
      "c:\\Users\\it08d\\.conda\\envs\\scan\\Lib\\site-packages\\PIL\\Image.py:3452: DecompressionBombWarning: Image size (100523202 pixels) exceeds limit of 89478485 pixels, could be decompression bomb DOS attack.\n",
      "  warnings.warn(\n",
      "c:\\Users\\it08d\\.conda\\envs\\scan\\Lib\\site-packages\\PIL\\Image.py:3452: DecompressionBombWarning: Image size (95690935 pixels) exceeds limit of 89478485 pixels, could be decompression bomb DOS attack.\n",
      "  warnings.warn(\n",
      "c:\\Users\\it08d\\.conda\\envs\\scan\\Lib\\site-packages\\PIL\\Image.py:3452: DecompressionBombWarning: Image size (91271196 pixels) exceeds limit of 89478485 pixels, could be decompression bomb DOS attack.\n",
      "  warnings.warn(\n",
      "c:\\Users\\it08d\\.conda\\envs\\scan\\Lib\\site-packages\\PIL\\Image.py:3452: DecompressionBombWarning: Image size (104876016 pixels) exceeds limit of 89478485 pixels, could be decompression bomb DOS attack.\n",
      "  warnings.warn(\n",
      "c:\\Users\\it08d\\.conda\\envs\\scan\\Lib\\site-packages\\PIL\\Image.py:3452: DecompressionBombWarning: Image size (104423088 pixels) exceeds limit of 89478485 pixels, could be decompression bomb DOS attack.\n",
      "  warnings.warn(\n",
      "c:\\Users\\it08d\\.conda\\envs\\scan\\Lib\\site-packages\\PIL\\Image.py:3452: DecompressionBombWarning: Image size (97470502 pixels) exceeds limit of 89478485 pixels, could be decompression bomb DOS attack.\n",
      "  warnings.warn(\n",
      "c:\\Users\\it08d\\.conda\\envs\\scan\\Lib\\site-packages\\PIL\\Image.py:3452: DecompressionBombWarning: Image size (97228332 pixels) exceeds limit of 89478485 pixels, could be decompression bomb DOS attack.\n",
      "  warnings.warn(\n",
      "c:\\Users\\it08d\\.conda\\envs\\scan\\Lib\\site-packages\\PIL\\Image.py:3452: DecompressionBombWarning: Image size (91771636 pixels) exceeds limit of 89478485 pixels, could be decompression bomb DOS attack.\n",
      "  warnings.warn(\n",
      "c:\\Users\\it08d\\.conda\\envs\\scan\\Lib\\site-packages\\PIL\\Image.py:3452: DecompressionBombWarning: Image size (96802420 pixels) exceeds limit of 89478485 pixels, could be decompression bomb DOS attack.\n",
      "  warnings.warn(\n",
      "c:\\Users\\it08d\\.conda\\envs\\scan\\Lib\\site-packages\\PIL\\Image.py:3452: DecompressionBombWarning: Image size (101604453 pixels) exceeds limit of 89478485 pixels, could be decompression bomb DOS attack.\n",
      "  warnings.warn(\n",
      "c:\\Users\\it08d\\.conda\\envs\\scan\\Lib\\site-packages\\PIL\\Image.py:3452: DecompressionBombWarning: Image size (90400240 pixels) exceeds limit of 89478485 pixels, could be decompression bomb DOS attack.\n",
      "  warnings.warn(\n",
      "Epoch 93/100: 100%|██████████| 1/1 [02:58<00:00, 178.36s/it]\n"
     ]
    },
    {
     "name": "stdout",
     "output_type": "stream",
     "text": [
      "Epoch [93/100] Loss: 499999904.0000\n"
     ]
    },
    {
     "name": "stderr",
     "output_type": "stream",
     "text": [
      "Epoch 94/100:   0%|          | 0/1 [00:00<?, ?it/s]c:\\Users\\it08d\\.conda\\envs\\scan\\Lib\\site-packages\\PIL\\Image.py:3452: DecompressionBombWarning: Image size (98677000 pixels) exceeds limit of 89478485 pixels, could be decompression bomb DOS attack.\n",
      "  warnings.warn(\n",
      "c:\\Users\\it08d\\.conda\\envs\\scan\\Lib\\site-packages\\PIL\\Image.py:3452: DecompressionBombWarning: Image size (104335738 pixels) exceeds limit of 89478485 pixels, could be decompression bomb DOS attack.\n",
      "  warnings.warn(\n",
      "c:\\Users\\it08d\\.conda\\envs\\scan\\Lib\\site-packages\\PIL\\Image.py:3452: DecompressionBombWarning: Image size (101062416 pixels) exceeds limit of 89478485 pixels, could be decompression bomb DOS attack.\n",
      "  warnings.warn(\n",
      "c:\\Users\\it08d\\.conda\\envs\\scan\\Lib\\site-packages\\PIL\\Image.py:3452: DecompressionBombWarning: Image size (102795543 pixels) exceeds limit of 89478485 pixels, could be decompression bomb DOS attack.\n",
      "  warnings.warn(\n",
      "c:\\Users\\it08d\\.conda\\envs\\scan\\Lib\\site-packages\\PIL\\Image.py:3452: DecompressionBombWarning: Image size (97406860 pixels) exceeds limit of 89478485 pixels, could be decompression bomb DOS attack.\n",
      "  warnings.warn(\n",
      "c:\\Users\\it08d\\.conda\\envs\\scan\\Lib\\site-packages\\PIL\\Image.py:3452: DecompressionBombWarning: Image size (93408865 pixels) exceeds limit of 89478485 pixels, could be decompression bomb DOS attack.\n",
      "  warnings.warn(\n",
      "c:\\Users\\it08d\\.conda\\envs\\scan\\Lib\\site-packages\\PIL\\Image.py:3452: DecompressionBombWarning: Image size (99769202 pixels) exceeds limit of 89478485 pixels, could be decompression bomb DOS attack.\n",
      "  warnings.warn(\n",
      "c:\\Users\\it08d\\.conda\\envs\\scan\\Lib\\site-packages\\PIL\\Image.py:3452: DecompressionBombWarning: Image size (113009992 pixels) exceeds limit of 89478485 pixels, could be decompression bomb DOS attack.\n",
      "  warnings.warn(\n",
      "c:\\Users\\it08d\\.conda\\envs\\scan\\Lib\\site-packages\\PIL\\Image.py:3452: DecompressionBombWarning: Image size (90517526 pixels) exceeds limit of 89478485 pixels, could be decompression bomb DOS attack.\n",
      "  warnings.warn(\n",
      "c:\\Users\\it08d\\.conda\\envs\\scan\\Lib\\site-packages\\PIL\\Image.py:3452: DecompressionBombWarning: Image size (100643256 pixels) exceeds limit of 89478485 pixels, could be decompression bomb DOS attack.\n",
      "  warnings.warn(\n",
      "c:\\Users\\it08d\\.conda\\envs\\scan\\Lib\\site-packages\\PIL\\Image.py:3452: DecompressionBombWarning: Image size (106254285 pixels) exceeds limit of 89478485 pixels, could be decompression bomb DOS attack.\n",
      "  warnings.warn(\n",
      "c:\\Users\\it08d\\.conda\\envs\\scan\\Lib\\site-packages\\PIL\\Image.py:3452: DecompressionBombWarning: Image size (100657238 pixels) exceeds limit of 89478485 pixels, could be decompression bomb DOS attack.\n",
      "  warnings.warn(\n",
      "c:\\Users\\it08d\\.conda\\envs\\scan\\Lib\\site-packages\\PIL\\Image.py:3452: DecompressionBombWarning: Image size (94740840 pixels) exceeds limit of 89478485 pixels, could be decompression bomb DOS attack.\n",
      "  warnings.warn(\n",
      "c:\\Users\\it08d\\.conda\\envs\\scan\\Lib\\site-packages\\PIL\\Image.py:3452: DecompressionBombWarning: Image size (89962067 pixels) exceeds limit of 89478485 pixels, could be decompression bomb DOS attack.\n",
      "  warnings.warn(\n",
      "c:\\Users\\it08d\\.conda\\envs\\scan\\Lib\\site-packages\\PIL\\Image.py:3452: DecompressionBombWarning: Image size (93723732 pixels) exceeds limit of 89478485 pixels, could be decompression bomb DOS attack.\n",
      "  warnings.warn(\n",
      "c:\\Users\\it08d\\.conda\\envs\\scan\\Lib\\site-packages\\PIL\\Image.py:3452: DecompressionBombWarning: Image size (107381820 pixels) exceeds limit of 89478485 pixels, could be decompression bomb DOS attack.\n",
      "  warnings.warn(\n",
      "c:\\Users\\it08d\\.conda\\envs\\scan\\Lib\\site-packages\\PIL\\Image.py:3452: DecompressionBombWarning: Image size (108769456 pixels) exceeds limit of 89478485 pixels, could be decompression bomb DOS attack.\n",
      "  warnings.warn(\n",
      "c:\\Users\\it08d\\.conda\\envs\\scan\\Lib\\site-packages\\PIL\\Image.py:3452: DecompressionBombWarning: Image size (96309360 pixels) exceeds limit of 89478485 pixels, could be decompression bomb DOS attack.\n",
      "  warnings.warn(\n",
      "c:\\Users\\it08d\\.conda\\envs\\scan\\Lib\\site-packages\\PIL\\Image.py:3452: DecompressionBombWarning: Image size (103502736 pixels) exceeds limit of 89478485 pixels, could be decompression bomb DOS attack.\n",
      "  warnings.warn(\n",
      "c:\\Users\\it08d\\.conda\\envs\\scan\\Lib\\site-packages\\PIL\\Image.py:3452: DecompressionBombWarning: Image size (114969951 pixels) exceeds limit of 89478485 pixels, could be decompression bomb DOS attack.\n",
      "  warnings.warn(\n",
      "c:\\Users\\it08d\\.conda\\envs\\scan\\Lib\\site-packages\\PIL\\Image.py:3452: DecompressionBombWarning: Image size (119145060 pixels) exceeds limit of 89478485 pixels, could be decompression bomb DOS attack.\n",
      "  warnings.warn(\n",
      "c:\\Users\\it08d\\.conda\\envs\\scan\\Lib\\site-packages\\PIL\\Image.py:3452: DecompressionBombWarning: Image size (99148374 pixels) exceeds limit of 89478485 pixels, could be decompression bomb DOS attack.\n",
      "  warnings.warn(\n",
      "c:\\Users\\it08d\\.conda\\envs\\scan\\Lib\\site-packages\\PIL\\Image.py:3452: DecompressionBombWarning: Image size (93653136 pixels) exceeds limit of 89478485 pixels, could be decompression bomb DOS attack.\n",
      "  warnings.warn(\n",
      "Epoch 94/100: 100%|██████████| 1/1 [02:36<00:00, 156.88s/it]\n"
     ]
    },
    {
     "name": "stdout",
     "output_type": "stream",
     "text": [
      "Epoch [94/100] Loss: 499999904.0000\n"
     ]
    },
    {
     "name": "stderr",
     "output_type": "stream",
     "text": [
      "Epoch 95/100:   0%|          | 0/1 [00:00<?, ?it/s]c:\\Users\\it08d\\.conda\\envs\\scan\\Lib\\site-packages\\PIL\\Image.py:3452: DecompressionBombWarning: Image size (113571810 pixels) exceeds limit of 89478485 pixels, could be decompression bomb DOS attack.\n",
      "  warnings.warn(\n",
      "c:\\Users\\it08d\\.conda\\envs\\scan\\Lib\\site-packages\\PIL\\Image.py:3452: DecompressionBombWarning: Image size (109814304 pixels) exceeds limit of 89478485 pixels, could be decompression bomb DOS attack.\n",
      "  warnings.warn(\n",
      "c:\\Users\\it08d\\.conda\\envs\\scan\\Lib\\site-packages\\PIL\\Image.py:3452: DecompressionBombWarning: Image size (115799110 pixels) exceeds limit of 89478485 pixels, could be decompression bomb DOS attack.\n",
      "  warnings.warn(\n",
      "c:\\Users\\it08d\\.conda\\envs\\scan\\Lib\\site-packages\\PIL\\Image.py:3452: DecompressionBombWarning: Image size (105990248 pixels) exceeds limit of 89478485 pixels, could be decompression bomb DOS attack.\n",
      "  warnings.warn(\n",
      "c:\\Users\\it08d\\.conda\\envs\\scan\\Lib\\site-packages\\PIL\\Image.py:3452: DecompressionBombWarning: Image size (108028404 pixels) exceeds limit of 89478485 pixels, could be decompression bomb DOS attack.\n",
      "  warnings.warn(\n",
      "c:\\Users\\it08d\\.conda\\envs\\scan\\Lib\\site-packages\\PIL\\Image.py:3452: DecompressionBombWarning: Image size (95073403 pixels) exceeds limit of 89478485 pixels, could be decompression bomb DOS attack.\n",
      "  warnings.warn(\n",
      "c:\\Users\\it08d\\.conda\\envs\\scan\\Lib\\site-packages\\PIL\\Image.py:3452: DecompressionBombWarning: Image size (94889656 pixels) exceeds limit of 89478485 pixels, could be decompression bomb DOS attack.\n",
      "  warnings.warn(\n",
      "c:\\Users\\it08d\\.conda\\envs\\scan\\Lib\\site-packages\\PIL\\Image.py:3452: DecompressionBombWarning: Image size (91674064 pixels) exceeds limit of 89478485 pixels, could be decompression bomb DOS attack.\n",
      "  warnings.warn(\n",
      "c:\\Users\\it08d\\.conda\\envs\\scan\\Lib\\site-packages\\PIL\\Image.py:3452: DecompressionBombWarning: Image size (97567085 pixels) exceeds limit of 89478485 pixels, could be decompression bomb DOS attack.\n",
      "  warnings.warn(\n",
      "c:\\Users\\it08d\\.conda\\envs\\scan\\Lib\\site-packages\\PIL\\Image.py:3452: DecompressionBombWarning: Image size (94191414 pixels) exceeds limit of 89478485 pixels, could be decompression bomb DOS attack.\n",
      "  warnings.warn(\n",
      "c:\\Users\\it08d\\.conda\\envs\\scan\\Lib\\site-packages\\PIL\\Image.py:3452: DecompressionBombWarning: Image size (90958146 pixels) exceeds limit of 89478485 pixels, could be decompression bomb DOS attack.\n",
      "  warnings.warn(\n",
      "c:\\Users\\it08d\\.conda\\envs\\scan\\Lib\\site-packages\\PIL\\Image.py:3452: DecompressionBombWarning: Image size (107818944 pixels) exceeds limit of 89478485 pixels, could be decompression bomb DOS attack.\n",
      "  warnings.warn(\n",
      "c:\\Users\\it08d\\.conda\\envs\\scan\\Lib\\site-packages\\PIL\\Image.py:3452: DecompressionBombWarning: Image size (101918267 pixels) exceeds limit of 89478485 pixels, could be decompression bomb DOS attack.\n",
      "  warnings.warn(\n",
      "c:\\Users\\it08d\\.conda\\envs\\scan\\Lib\\site-packages\\PIL\\Image.py:3452: DecompressionBombWarning: Image size (104980300 pixels) exceeds limit of 89478485 pixels, could be decompression bomb DOS attack.\n",
      "  warnings.warn(\n",
      "c:\\Users\\it08d\\.conda\\envs\\scan\\Lib\\site-packages\\PIL\\Image.py:3452: DecompressionBombWarning: Image size (109866995 pixels) exceeds limit of 89478485 pixels, could be decompression bomb DOS attack.\n",
      "  warnings.warn(\n",
      "c:\\Users\\it08d\\.conda\\envs\\scan\\Lib\\site-packages\\PIL\\Image.py:3452: DecompressionBombWarning: Image size (96711711 pixels) exceeds limit of 89478485 pixels, could be decompression bomb DOS attack.\n",
      "  warnings.warn(\n",
      "c:\\Users\\it08d\\.conda\\envs\\scan\\Lib\\site-packages\\PIL\\Image.py:3452: DecompressionBombWarning: Image size (93479652 pixels) exceeds limit of 89478485 pixels, could be decompression bomb DOS attack.\n",
      "  warnings.warn(\n",
      "c:\\Users\\it08d\\.conda\\envs\\scan\\Lib\\site-packages\\PIL\\Image.py:3452: DecompressionBombWarning: Image size (94509118 pixels) exceeds limit of 89478485 pixels, could be decompression bomb DOS attack.\n",
      "  warnings.warn(\n",
      "c:\\Users\\it08d\\.conda\\envs\\scan\\Lib\\site-packages\\PIL\\Image.py:3452: DecompressionBombWarning: Image size (113839004 pixels) exceeds limit of 89478485 pixels, could be decompression bomb DOS attack.\n",
      "  warnings.warn(\n",
      "c:\\Users\\it08d\\.conda\\envs\\scan\\Lib\\site-packages\\PIL\\Image.py:3452: DecompressionBombWarning: Image size (96112569 pixels) exceeds limit of 89478485 pixels, could be decompression bomb DOS attack.\n",
      "  warnings.warn(\n",
      "c:\\Users\\it08d\\.conda\\envs\\scan\\Lib\\site-packages\\PIL\\Image.py:3452: DecompressionBombWarning: Image size (93744343 pixels) exceeds limit of 89478485 pixels, could be decompression bomb DOS attack.\n",
      "  warnings.warn(\n",
      "c:\\Users\\it08d\\.conda\\envs\\scan\\Lib\\site-packages\\PIL\\Image.py:3452: DecompressionBombWarning: Image size (103673222 pixels) exceeds limit of 89478485 pixels, could be decompression bomb DOS attack.\n",
      "  warnings.warn(\n",
      "c:\\Users\\it08d\\.conda\\envs\\scan\\Lib\\site-packages\\PIL\\Image.py:3452: DecompressionBombWarning: Image size (106840023 pixels) exceeds limit of 89478485 pixels, could be decompression bomb DOS attack.\n",
      "  warnings.warn(\n",
      "Epoch 95/100: 100%|██████████| 1/1 [03:23<00:00, 203.82s/it]\n"
     ]
    },
    {
     "name": "stdout",
     "output_type": "stream",
     "text": [
      "Epoch [95/100] Loss: 499999904.0000\n"
     ]
    },
    {
     "name": "stderr",
     "output_type": "stream",
     "text": [
      "Epoch 96/100:   0%|          | 0/1 [00:00<?, ?it/s]c:\\Users\\it08d\\.conda\\envs\\scan\\Lib\\site-packages\\PIL\\Image.py:3452: DecompressionBombWarning: Image size (102376344 pixels) exceeds limit of 89478485 pixels, could be decompression bomb DOS attack.\n",
      "  warnings.warn(\n",
      "c:\\Users\\it08d\\.conda\\envs\\scan\\Lib\\site-packages\\PIL\\Image.py:3452: DecompressionBombWarning: Image size (101203152 pixels) exceeds limit of 89478485 pixels, could be decompression bomb DOS attack.\n",
      "  warnings.warn(\n",
      "c:\\Users\\it08d\\.conda\\envs\\scan\\Lib\\site-packages\\PIL\\Image.py:3452: DecompressionBombWarning: Image size (91534058 pixels) exceeds limit of 89478485 pixels, could be decompression bomb DOS attack.\n",
      "  warnings.warn(\n",
      "c:\\Users\\it08d\\.conda\\envs\\scan\\Lib\\site-packages\\PIL\\Image.py:3452: DecompressionBombWarning: Image size (92982161 pixels) exceeds limit of 89478485 pixels, could be decompression bomb DOS attack.\n",
      "  warnings.warn(\n",
      "c:\\Users\\it08d\\.conda\\envs\\scan\\Lib\\site-packages\\PIL\\Image.py:3452: DecompressionBombWarning: Image size (105714056 pixels) exceeds limit of 89478485 pixels, could be decompression bomb DOS attack.\n",
      "  warnings.warn(\n",
      "c:\\Users\\it08d\\.conda\\envs\\scan\\Lib\\site-packages\\PIL\\Image.py:3452: DecompressionBombWarning: Image size (89893948 pixels) exceeds limit of 89478485 pixels, could be decompression bomb DOS attack.\n",
      "  warnings.warn(\n",
      "c:\\Users\\it08d\\.conda\\envs\\scan\\Lib\\site-packages\\PIL\\Image.py:3452: DecompressionBombWarning: Image size (109246592 pixels) exceeds limit of 89478485 pixels, could be decompression bomb DOS attack.\n",
      "  warnings.warn(\n",
      "c:\\Users\\it08d\\.conda\\envs\\scan\\Lib\\site-packages\\PIL\\Image.py:3452: DecompressionBombWarning: Image size (97280340 pixels) exceeds limit of 89478485 pixels, could be decompression bomb DOS attack.\n",
      "  warnings.warn(\n",
      "c:\\Users\\it08d\\.conda\\envs\\scan\\Lib\\site-packages\\PIL\\Image.py:3452: DecompressionBombWarning: Image size (110999526 pixels) exceeds limit of 89478485 pixels, could be decompression bomb DOS attack.\n",
      "  warnings.warn(\n",
      "c:\\Users\\it08d\\.conda\\envs\\scan\\Lib\\site-packages\\PIL\\Image.py:3452: DecompressionBombWarning: Image size (95689802 pixels) exceeds limit of 89478485 pixels, could be decompression bomb DOS attack.\n",
      "  warnings.warn(\n",
      "c:\\Users\\it08d\\.conda\\envs\\scan\\Lib\\site-packages\\PIL\\Image.py:3452: DecompressionBombWarning: Image size (94543260 pixels) exceeds limit of 89478485 pixels, could be decompression bomb DOS attack.\n",
      "  warnings.warn(\n",
      "c:\\Users\\it08d\\.conda\\envs\\scan\\Lib\\site-packages\\PIL\\Image.py:3452: DecompressionBombWarning: Image size (99738800 pixels) exceeds limit of 89478485 pixels, could be decompression bomb DOS attack.\n",
      "  warnings.warn(\n",
      "c:\\Users\\it08d\\.conda\\envs\\scan\\Lib\\site-packages\\PIL\\Image.py:3452: DecompressionBombWarning: Image size (96987276 pixels) exceeds limit of 89478485 pixels, could be decompression bomb DOS attack.\n",
      "  warnings.warn(\n",
      "c:\\Users\\it08d\\.conda\\envs\\scan\\Lib\\site-packages\\PIL\\Image.py:3452: DecompressionBombWarning: Image size (104416725 pixels) exceeds limit of 89478485 pixels, could be decompression bomb DOS attack.\n",
      "  warnings.warn(\n",
      "c:\\Users\\it08d\\.conda\\envs\\scan\\Lib\\site-packages\\PIL\\Image.py:3452: DecompressionBombWarning: Image size (101199249 pixels) exceeds limit of 89478485 pixels, could be decompression bomb DOS attack.\n",
      "  warnings.warn(\n",
      "c:\\Users\\it08d\\.conda\\envs\\scan\\Lib\\site-packages\\PIL\\Image.py:3452: DecompressionBombWarning: Image size (111299742 pixels) exceeds limit of 89478485 pixels, could be decompression bomb DOS attack.\n",
      "  warnings.warn(\n",
      "c:\\Users\\it08d\\.conda\\envs\\scan\\Lib\\site-packages\\PIL\\Image.py:3452: DecompressionBombWarning: Image size (106894078 pixels) exceeds limit of 89478485 pixels, could be decompression bomb DOS attack.\n",
      "  warnings.warn(\n",
      "c:\\Users\\it08d\\.conda\\envs\\scan\\Lib\\site-packages\\PIL\\Image.py:3452: DecompressionBombWarning: Image size (90426840 pixels) exceeds limit of 89478485 pixels, could be decompression bomb DOS attack.\n",
      "  warnings.warn(\n",
      "c:\\Users\\it08d\\.conda\\envs\\scan\\Lib\\site-packages\\PIL\\Image.py:3452: DecompressionBombWarning: Image size (116532591 pixels) exceeds limit of 89478485 pixels, could be decompression bomb DOS attack.\n",
      "  warnings.warn(\n",
      "c:\\Users\\it08d\\.conda\\envs\\scan\\Lib\\site-packages\\PIL\\Image.py:3452: DecompressionBombWarning: Image size (95648330 pixels) exceeds limit of 89478485 pixels, could be decompression bomb DOS attack.\n",
      "  warnings.warn(\n",
      "c:\\Users\\it08d\\.conda\\envs\\scan\\Lib\\site-packages\\PIL\\Image.py:3452: DecompressionBombWarning: Image size (89684004 pixels) exceeds limit of 89478485 pixels, could be decompression bomb DOS attack.\n",
      "  warnings.warn(\n",
      "c:\\Users\\it08d\\.conda\\envs\\scan\\Lib\\site-packages\\PIL\\Image.py:3452: DecompressionBombWarning: Image size (102949301 pixels) exceeds limit of 89478485 pixels, could be decompression bomb DOS attack.\n",
      "  warnings.warn(\n",
      "c:\\Users\\it08d\\.conda\\envs\\scan\\Lib\\site-packages\\PIL\\Image.py:3452: DecompressionBombWarning: Image size (92562900 pixels) exceeds limit of 89478485 pixels, could be decompression bomb DOS attack.\n",
      "  warnings.warn(\n",
      "c:\\Users\\it08d\\.conda\\envs\\scan\\Lib\\site-packages\\PIL\\Image.py:3452: DecompressionBombWarning: Image size (90415218 pixels) exceeds limit of 89478485 pixels, could be decompression bomb DOS attack.\n",
      "  warnings.warn(\n",
      "Epoch 96/100: 100%|██████████| 1/1 [03:10<00:00, 190.96s/it]\n"
     ]
    },
    {
     "name": "stdout",
     "output_type": "stream",
     "text": [
      "Epoch [96/100] Loss: 499999904.0000\n"
     ]
    },
    {
     "name": "stderr",
     "output_type": "stream",
     "text": [
      "Epoch 97/100:   0%|          | 0/1 [00:00<?, ?it/s]c:\\Users\\it08d\\.conda\\envs\\scan\\Lib\\site-packages\\PIL\\Image.py:3452: DecompressionBombWarning: Image size (94237409 pixels) exceeds limit of 89478485 pixels, could be decompression bomb DOS attack.\n",
      "  warnings.warn(\n",
      "c:\\Users\\it08d\\.conda\\envs\\scan\\Lib\\site-packages\\PIL\\Image.py:3452: DecompressionBombWarning: Image size (90127580 pixels) exceeds limit of 89478485 pixels, could be decompression bomb DOS attack.\n",
      "  warnings.warn(\n",
      "c:\\Users\\it08d\\.conda\\envs\\scan\\Lib\\site-packages\\PIL\\Image.py:3452: DecompressionBombWarning: Image size (91184922 pixels) exceeds limit of 89478485 pixels, could be decompression bomb DOS attack.\n",
      "  warnings.warn(\n",
      "c:\\Users\\it08d\\.conda\\envs\\scan\\Lib\\site-packages\\PIL\\Image.py:3452: DecompressionBombWarning: Image size (102776544 pixels) exceeds limit of 89478485 pixels, could be decompression bomb DOS attack.\n",
      "  warnings.warn(\n",
      "c:\\Users\\it08d\\.conda\\envs\\scan\\Lib\\site-packages\\PIL\\Image.py:3452: DecompressionBombWarning: Image size (91047000 pixels) exceeds limit of 89478485 pixels, could be decompression bomb DOS attack.\n",
      "  warnings.warn(\n",
      "c:\\Users\\it08d\\.conda\\envs\\scan\\Lib\\site-packages\\PIL\\Image.py:3452: DecompressionBombWarning: Image size (114244148 pixels) exceeds limit of 89478485 pixels, could be decompression bomb DOS attack.\n",
      "  warnings.warn(\n",
      "c:\\Users\\it08d\\.conda\\envs\\scan\\Lib\\site-packages\\PIL\\Image.py:3452: DecompressionBombWarning: Image size (98994780 pixels) exceeds limit of 89478485 pixels, could be decompression bomb DOS attack.\n",
      "  warnings.warn(\n",
      "c:\\Users\\it08d\\.conda\\envs\\scan\\Lib\\site-packages\\PIL\\Image.py:3452: DecompressionBombWarning: Image size (104865066 pixels) exceeds limit of 89478485 pixels, could be decompression bomb DOS attack.\n",
      "  warnings.warn(\n",
      "c:\\Users\\it08d\\.conda\\envs\\scan\\Lib\\site-packages\\PIL\\Image.py:3452: DecompressionBombWarning: Image size (109030306 pixels) exceeds limit of 89478485 pixels, could be decompression bomb DOS attack.\n",
      "  warnings.warn(\n",
      "c:\\Users\\it08d\\.conda\\envs\\scan\\Lib\\site-packages\\PIL\\Image.py:3452: DecompressionBombWarning: Image size (95305122 pixels) exceeds limit of 89478485 pixels, could be decompression bomb DOS attack.\n",
      "  warnings.warn(\n",
      "c:\\Users\\it08d\\.conda\\envs\\scan\\Lib\\site-packages\\PIL\\Image.py:3452: DecompressionBombWarning: Image size (102501570 pixels) exceeds limit of 89478485 pixels, could be decompression bomb DOS attack.\n",
      "  warnings.warn(\n",
      "c:\\Users\\it08d\\.conda\\envs\\scan\\Lib\\site-packages\\PIL\\Image.py:3452: DecompressionBombWarning: Image size (105899409 pixels) exceeds limit of 89478485 pixels, could be decompression bomb DOS attack.\n",
      "  warnings.warn(\n",
      "c:\\Users\\it08d\\.conda\\envs\\scan\\Lib\\site-packages\\PIL\\Image.py:3452: DecompressionBombWarning: Image size (106623903 pixels) exceeds limit of 89478485 pixels, could be decompression bomb DOS attack.\n",
      "  warnings.warn(\n",
      "c:\\Users\\it08d\\.conda\\envs\\scan\\Lib\\site-packages\\PIL\\Image.py:3452: DecompressionBombWarning: Image size (104759608 pixels) exceeds limit of 89478485 pixels, could be decompression bomb DOS attack.\n",
      "  warnings.warn(\n",
      "c:\\Users\\it08d\\.conda\\envs\\scan\\Lib\\site-packages\\PIL\\Image.py:3452: DecompressionBombWarning: Image size (95465182 pixels) exceeds limit of 89478485 pixels, could be decompression bomb DOS attack.\n",
      "  warnings.warn(\n",
      "c:\\Users\\it08d\\.conda\\envs\\scan\\Lib\\site-packages\\PIL\\Image.py:3452: DecompressionBombWarning: Image size (103935491 pixels) exceeds limit of 89478485 pixels, could be decompression bomb DOS attack.\n",
      "  warnings.warn(\n",
      "c:\\Users\\it08d\\.conda\\envs\\scan\\Lib\\site-packages\\PIL\\Image.py:3452: DecompressionBombWarning: Image size (105789240 pixels) exceeds limit of 89478485 pixels, could be decompression bomb DOS attack.\n",
      "  warnings.warn(\n",
      "c:\\Users\\it08d\\.conda\\envs\\scan\\Lib\\site-packages\\PIL\\Image.py:3452: DecompressionBombWarning: Image size (96326688 pixels) exceeds limit of 89478485 pixels, could be decompression bomb DOS attack.\n",
      "  warnings.warn(\n",
      "c:\\Users\\it08d\\.conda\\envs\\scan\\Lib\\site-packages\\PIL\\Image.py:3452: DecompressionBombWarning: Image size (116021955 pixels) exceeds limit of 89478485 pixels, could be decompression bomb DOS attack.\n",
      "  warnings.warn(\n",
      "c:\\Users\\it08d\\.conda\\envs\\scan\\Lib\\site-packages\\PIL\\Image.py:3452: DecompressionBombWarning: Image size (100078710 pixels) exceeds limit of 89478485 pixels, could be decompression bomb DOS attack.\n",
      "  warnings.warn(\n",
      "c:\\Users\\it08d\\.conda\\envs\\scan\\Lib\\site-packages\\PIL\\Image.py:3452: DecompressionBombWarning: Image size (95820016 pixels) exceeds limit of 89478485 pixels, could be decompression bomb DOS attack.\n",
      "  warnings.warn(\n",
      "c:\\Users\\it08d\\.conda\\envs\\scan\\Lib\\site-packages\\PIL\\Image.py:3452: DecompressionBombWarning: Image size (99357370 pixels) exceeds limit of 89478485 pixels, could be decompression bomb DOS attack.\n",
      "  warnings.warn(\n",
      "c:\\Users\\it08d\\.conda\\envs\\scan\\Lib\\site-packages\\PIL\\Image.py:3452: DecompressionBombWarning: Image size (99496875 pixels) exceeds limit of 89478485 pixels, could be decompression bomb DOS attack.\n",
      "  warnings.warn(\n",
      "c:\\Users\\it08d\\.conda\\envs\\scan\\Lib\\site-packages\\PIL\\Image.py:3452: DecompressionBombWarning: Image size (110897972 pixels) exceeds limit of 89478485 pixels, could be decompression bomb DOS attack.\n",
      "  warnings.warn(\n",
      "c:\\Users\\it08d\\.conda\\envs\\scan\\Lib\\site-packages\\PIL\\Image.py:3452: DecompressionBombWarning: Image size (108840100 pixels) exceeds limit of 89478485 pixels, could be decompression bomb DOS attack.\n",
      "  warnings.warn(\n",
      "c:\\Users\\it08d\\.conda\\envs\\scan\\Lib\\site-packages\\PIL\\Image.py:3452: DecompressionBombWarning: Image size (105994847 pixels) exceeds limit of 89478485 pixels, could be decompression bomb DOS attack.\n",
      "  warnings.warn(\n",
      "c:\\Users\\it08d\\.conda\\envs\\scan\\Lib\\site-packages\\PIL\\Image.py:3452: DecompressionBombWarning: Image size (90277194 pixels) exceeds limit of 89478485 pixels, could be decompression bomb DOS attack.\n",
      "  warnings.warn(\n",
      "Epoch 97/100: 100%|██████████| 1/1 [03:16<00:00, 196.32s/it]\n"
     ]
    },
    {
     "name": "stdout",
     "output_type": "stream",
     "text": [
      "Epoch [97/100] Loss: 499999904.0000\n"
     ]
    },
    {
     "name": "stderr",
     "output_type": "stream",
     "text": [
      "Epoch 98/100:   0%|          | 0/1 [00:00<?, ?it/s]c:\\Users\\it08d\\.conda\\envs\\scan\\Lib\\site-packages\\PIL\\Image.py:3452: DecompressionBombWarning: Image size (95412499 pixels) exceeds limit of 89478485 pixels, could be decompression bomb DOS attack.\n",
      "  warnings.warn(\n",
      "c:\\Users\\it08d\\.conda\\envs\\scan\\Lib\\site-packages\\PIL\\Image.py:3452: DecompressionBombWarning: Image size (93904650 pixels) exceeds limit of 89478485 pixels, could be decompression bomb DOS attack.\n",
      "  warnings.warn(\n",
      "c:\\Users\\it08d\\.conda\\envs\\scan\\Lib\\site-packages\\PIL\\Image.py:3452: DecompressionBombWarning: Image size (100922700 pixels) exceeds limit of 89478485 pixels, could be decompression bomb DOS attack.\n",
      "  warnings.warn(\n",
      "c:\\Users\\it08d\\.conda\\envs\\scan\\Lib\\site-packages\\PIL\\Image.py:3452: DecompressionBombWarning: Image size (94827966 pixels) exceeds limit of 89478485 pixels, could be decompression bomb DOS attack.\n",
      "  warnings.warn(\n",
      "c:\\Users\\it08d\\.conda\\envs\\scan\\Lib\\site-packages\\PIL\\Image.py:3452: DecompressionBombWarning: Image size (106126020 pixels) exceeds limit of 89478485 pixels, could be decompression bomb DOS attack.\n",
      "  warnings.warn(\n",
      "c:\\Users\\it08d\\.conda\\envs\\scan\\Lib\\site-packages\\PIL\\Image.py:3452: DecompressionBombWarning: Image size (99477676 pixels) exceeds limit of 89478485 pixels, could be decompression bomb DOS attack.\n",
      "  warnings.warn(\n",
      "c:\\Users\\it08d\\.conda\\envs\\scan\\Lib\\site-packages\\PIL\\Image.py:3452: DecompressionBombWarning: Image size (98980680 pixels) exceeds limit of 89478485 pixels, could be decompression bomb DOS attack.\n",
      "  warnings.warn(\n",
      "c:\\Users\\it08d\\.conda\\envs\\scan\\Lib\\site-packages\\PIL\\Image.py:3452: DecompressionBombWarning: Image size (107375464 pixels) exceeds limit of 89478485 pixels, could be decompression bomb DOS attack.\n",
      "  warnings.warn(\n",
      "c:\\Users\\it08d\\.conda\\envs\\scan\\Lib\\site-packages\\PIL\\Image.py:3452: DecompressionBombWarning: Image size (89969184 pixels) exceeds limit of 89478485 pixels, could be decompression bomb DOS attack.\n",
      "  warnings.warn(\n",
      "c:\\Users\\it08d\\.conda\\envs\\scan\\Lib\\site-packages\\PIL\\Image.py:3452: DecompressionBombWarning: Image size (98429572 pixels) exceeds limit of 89478485 pixels, could be decompression bomb DOS attack.\n",
      "  warnings.warn(\n",
      "c:\\Users\\it08d\\.conda\\envs\\scan\\Lib\\site-packages\\PIL\\Image.py:3452: DecompressionBombWarning: Image size (99419813 pixels) exceeds limit of 89478485 pixels, could be decompression bomb DOS attack.\n",
      "  warnings.warn(\n",
      "c:\\Users\\it08d\\.conda\\envs\\scan\\Lib\\site-packages\\PIL\\Image.py:3452: DecompressionBombWarning: Image size (100565718 pixels) exceeds limit of 89478485 pixels, could be decompression bomb DOS attack.\n",
      "  warnings.warn(\n",
      "c:\\Users\\it08d\\.conda\\envs\\scan\\Lib\\site-packages\\PIL\\Image.py:3452: DecompressionBombWarning: Image size (96406200 pixels) exceeds limit of 89478485 pixels, could be decompression bomb DOS attack.\n",
      "  warnings.warn(\n",
      "c:\\Users\\it08d\\.conda\\envs\\scan\\Lib\\site-packages\\PIL\\Image.py:3452: DecompressionBombWarning: Image size (115017979 pixels) exceeds limit of 89478485 pixels, could be decompression bomb DOS attack.\n",
      "  warnings.warn(\n",
      "c:\\Users\\it08d\\.conda\\envs\\scan\\Lib\\site-packages\\PIL\\Image.py:3452: DecompressionBombWarning: Image size (95678528 pixels) exceeds limit of 89478485 pixels, could be decompression bomb DOS attack.\n",
      "  warnings.warn(\n",
      "c:\\Users\\it08d\\.conda\\envs\\scan\\Lib\\site-packages\\PIL\\Image.py:3452: DecompressionBombWarning: Image size (101695692 pixels) exceeds limit of 89478485 pixels, could be decompression bomb DOS attack.\n",
      "  warnings.warn(\n",
      "c:\\Users\\it08d\\.conda\\envs\\scan\\Lib\\site-packages\\PIL\\Image.py:3452: DecompressionBombWarning: Image size (95400976 pixels) exceeds limit of 89478485 pixels, could be decompression bomb DOS attack.\n",
      "  warnings.warn(\n",
      "c:\\Users\\it08d\\.conda\\envs\\scan\\Lib\\site-packages\\PIL\\Image.py:3452: DecompressionBombWarning: Image size (99412722 pixels) exceeds limit of 89478485 pixels, could be decompression bomb DOS attack.\n",
      "  warnings.warn(\n",
      "c:\\Users\\it08d\\.conda\\envs\\scan\\Lib\\site-packages\\PIL\\Image.py:3452: DecompressionBombWarning: Image size (96429168 pixels) exceeds limit of 89478485 pixels, could be decompression bomb DOS attack.\n",
      "  warnings.warn(\n",
      "c:\\Users\\it08d\\.conda\\envs\\scan\\Lib\\site-packages\\PIL\\Image.py:3452: DecompressionBombWarning: Image size (93529620 pixels) exceeds limit of 89478485 pixels, could be decompression bomb DOS attack.\n",
      "  warnings.warn(\n",
      "c:\\Users\\it08d\\.conda\\envs\\scan\\Lib\\site-packages\\PIL\\Image.py:3452: DecompressionBombWarning: Image size (98010964 pixels) exceeds limit of 89478485 pixels, could be decompression bomb DOS attack.\n",
      "  warnings.warn(\n",
      "c:\\Users\\it08d\\.conda\\envs\\scan\\Lib\\site-packages\\PIL\\Image.py:3452: DecompressionBombWarning: Image size (115108598 pixels) exceeds limit of 89478485 pixels, could be decompression bomb DOS attack.\n",
      "  warnings.warn(\n",
      "c:\\Users\\it08d\\.conda\\envs\\scan\\Lib\\site-packages\\PIL\\Image.py:3452: DecompressionBombWarning: Image size (106694148 pixels) exceeds limit of 89478485 pixels, could be decompression bomb DOS attack.\n",
      "  warnings.warn(\n",
      "c:\\Users\\it08d\\.conda\\envs\\scan\\Lib\\site-packages\\PIL\\Image.py:3452: DecompressionBombWarning: Image size (108012834 pixels) exceeds limit of 89478485 pixels, could be decompression bomb DOS attack.\n",
      "  warnings.warn(\n",
      "c:\\Users\\it08d\\.conda\\envs\\scan\\Lib\\site-packages\\PIL\\Image.py:3452: DecompressionBombWarning: Image size (105562675 pixels) exceeds limit of 89478485 pixels, could be decompression bomb DOS attack.\n",
      "  warnings.warn(\n",
      "c:\\Users\\it08d\\.conda\\envs\\scan\\Lib\\site-packages\\PIL\\Image.py:3452: DecompressionBombWarning: Image size (92544336 pixels) exceeds limit of 89478485 pixels, could be decompression bomb DOS attack.\n",
      "  warnings.warn(\n",
      "Epoch 98/100: 100%|██████████| 1/1 [03:31<00:00, 211.35s/it]\n"
     ]
    },
    {
     "name": "stdout",
     "output_type": "stream",
     "text": [
      "Epoch [98/100] Loss: 499999904.0000\n"
     ]
    },
    {
     "name": "stderr",
     "output_type": "stream",
     "text": [
      "Epoch 99/100:   0%|          | 0/1 [00:00<?, ?it/s]c:\\Users\\it08d\\.conda\\envs\\scan\\Lib\\site-packages\\PIL\\Image.py:3452: DecompressionBombWarning: Image size (101457696 pixels) exceeds limit of 89478485 pixels, could be decompression bomb DOS attack.\n",
      "  warnings.warn(\n",
      "c:\\Users\\it08d\\.conda\\envs\\scan\\Lib\\site-packages\\PIL\\Image.py:3452: DecompressionBombWarning: Image size (92108996 pixels) exceeds limit of 89478485 pixels, could be decompression bomb DOS attack.\n",
      "  warnings.warn(\n",
      "c:\\Users\\it08d\\.conda\\envs\\scan\\Lib\\site-packages\\PIL\\Image.py:3452: DecompressionBombWarning: Image size (103874480 pixels) exceeds limit of 89478485 pixels, could be decompression bomb DOS attack.\n",
      "  warnings.warn(\n",
      "c:\\Users\\it08d\\.conda\\envs\\scan\\Lib\\site-packages\\PIL\\Image.py:3452: DecompressionBombWarning: Image size (95241609 pixels) exceeds limit of 89478485 pixels, could be decompression bomb DOS attack.\n",
      "  warnings.warn(\n",
      "c:\\Users\\it08d\\.conda\\envs\\scan\\Lib\\site-packages\\PIL\\Image.py:3452: DecompressionBombWarning: Image size (119960875 pixels) exceeds limit of 89478485 pixels, could be decompression bomb DOS attack.\n",
      "  warnings.warn(\n",
      "c:\\Users\\it08d\\.conda\\envs\\scan\\Lib\\site-packages\\PIL\\Image.py:3452: DecompressionBombWarning: Image size (104629750 pixels) exceeds limit of 89478485 pixels, could be decompression bomb DOS attack.\n",
      "  warnings.warn(\n",
      "c:\\Users\\it08d\\.conda\\envs\\scan\\Lib\\site-packages\\PIL\\Image.py:3452: DecompressionBombWarning: Image size (97962453 pixels) exceeds limit of 89478485 pixels, could be decompression bomb DOS attack.\n",
      "  warnings.warn(\n",
      "c:\\Users\\it08d\\.conda\\envs\\scan\\Lib\\site-packages\\PIL\\Image.py:3452: DecompressionBombWarning: Image size (93119367 pixels) exceeds limit of 89478485 pixels, could be decompression bomb DOS attack.\n",
      "  warnings.warn(\n",
      "c:\\Users\\it08d\\.conda\\envs\\scan\\Lib\\site-packages\\PIL\\Image.py:3452: DecompressionBombWarning: Image size (96313623 pixels) exceeds limit of 89478485 pixels, could be decompression bomb DOS attack.\n",
      "  warnings.warn(\n",
      "c:\\Users\\it08d\\.conda\\envs\\scan\\Lib\\site-packages\\PIL\\Image.py:3452: DecompressionBombWarning: Image size (98425600 pixels) exceeds limit of 89478485 pixels, could be decompression bomb DOS attack.\n",
      "  warnings.warn(\n",
      "c:\\Users\\it08d\\.conda\\envs\\scan\\Lib\\site-packages\\PIL\\Image.py:3452: DecompressionBombWarning: Image size (98629650 pixels) exceeds limit of 89478485 pixels, could be decompression bomb DOS attack.\n",
      "  warnings.warn(\n",
      "c:\\Users\\it08d\\.conda\\envs\\scan\\Lib\\site-packages\\PIL\\Image.py:3452: DecompressionBombWarning: Image size (96209920 pixels) exceeds limit of 89478485 pixels, could be decompression bomb DOS attack.\n",
      "  warnings.warn(\n",
      "c:\\Users\\it08d\\.conda\\envs\\scan\\Lib\\site-packages\\PIL\\Image.py:3452: DecompressionBombWarning: Image size (98277480 pixels) exceeds limit of 89478485 pixels, could be decompression bomb DOS attack.\n",
      "  warnings.warn(\n",
      "c:\\Users\\it08d\\.conda\\envs\\scan\\Lib\\site-packages\\PIL\\Image.py:3452: DecompressionBombWarning: Image size (109614258 pixels) exceeds limit of 89478485 pixels, could be decompression bomb DOS attack.\n",
      "  warnings.warn(\n",
      "c:\\Users\\it08d\\.conda\\envs\\scan\\Lib\\site-packages\\PIL\\Image.py:3452: DecompressionBombWarning: Image size (96718318 pixels) exceeds limit of 89478485 pixels, could be decompression bomb DOS attack.\n",
      "  warnings.warn(\n",
      "c:\\Users\\it08d\\.conda\\envs\\scan\\Lib\\site-packages\\PIL\\Image.py:3452: DecompressionBombWarning: Image size (97919514 pixels) exceeds limit of 89478485 pixels, could be decompression bomb DOS attack.\n",
      "  warnings.warn(\n",
      "c:\\Users\\it08d\\.conda\\envs\\scan\\Lib\\site-packages\\PIL\\Image.py:3452: DecompressionBombWarning: Image size (98618266 pixels) exceeds limit of 89478485 pixels, could be decompression bomb DOS attack.\n",
      "  warnings.warn(\n",
      "c:\\Users\\it08d\\.conda\\envs\\scan\\Lib\\site-packages\\PIL\\Image.py:3452: DecompressionBombWarning: Image size (101345680 pixels) exceeds limit of 89478485 pixels, could be decompression bomb DOS attack.\n",
      "  warnings.warn(\n",
      "c:\\Users\\it08d\\.conda\\envs\\scan\\Lib\\site-packages\\PIL\\Image.py:3452: DecompressionBombWarning: Image size (95782910 pixels) exceeds limit of 89478485 pixels, could be decompression bomb DOS attack.\n",
      "  warnings.warn(\n",
      "c:\\Users\\it08d\\.conda\\envs\\scan\\Lib\\site-packages\\PIL\\Image.py:3452: DecompressionBombWarning: Image size (117287840 pixels) exceeds limit of 89478485 pixels, could be decompression bomb DOS attack.\n",
      "  warnings.warn(\n",
      "c:\\Users\\it08d\\.conda\\envs\\scan\\Lib\\site-packages\\PIL\\Image.py:3452: DecompressionBombWarning: Image size (92995150 pixels) exceeds limit of 89478485 pixels, could be decompression bomb DOS attack.\n",
      "  warnings.warn(\n",
      "c:\\Users\\it08d\\.conda\\envs\\scan\\Lib\\site-packages\\PIL\\Image.py:3452: DecompressionBombWarning: Image size (95801608 pixels) exceeds limit of 89478485 pixels, could be decompression bomb DOS attack.\n",
      "  warnings.warn(\n",
      "c:\\Users\\it08d\\.conda\\envs\\scan\\Lib\\site-packages\\PIL\\Image.py:3452: DecompressionBombWarning: Image size (91104768 pixels) exceeds limit of 89478485 pixels, could be decompression bomb DOS attack.\n",
      "  warnings.warn(\n",
      "c:\\Users\\it08d\\.conda\\envs\\scan\\Lib\\site-packages\\PIL\\Image.py:3452: DecompressionBombWarning: Image size (105237144 pixels) exceeds limit of 89478485 pixels, could be decompression bomb DOS attack.\n",
      "  warnings.warn(\n",
      "c:\\Users\\it08d\\.conda\\envs\\scan\\Lib\\site-packages\\PIL\\Image.py:3452: DecompressionBombWarning: Image size (105828238 pixels) exceeds limit of 89478485 pixels, could be decompression bomb DOS attack.\n",
      "  warnings.warn(\n",
      "c:\\Users\\it08d\\.conda\\envs\\scan\\Lib\\site-packages\\PIL\\Image.py:3452: DecompressionBombWarning: Image size (95412270 pixels) exceeds limit of 89478485 pixels, could be decompression bomb DOS attack.\n",
      "  warnings.warn(\n",
      "c:\\Users\\it08d\\.conda\\envs\\scan\\Lib\\site-packages\\PIL\\Image.py:3452: DecompressionBombWarning: Image size (93362014 pixels) exceeds limit of 89478485 pixels, could be decompression bomb DOS attack.\n",
      "  warnings.warn(\n",
      "c:\\Users\\it08d\\.conda\\envs\\scan\\Lib\\site-packages\\PIL\\Image.py:3452: DecompressionBombWarning: Image size (91762056 pixels) exceeds limit of 89478485 pixels, could be decompression bomb DOS attack.\n",
      "  warnings.warn(\n",
      "Epoch 99/100: 100%|██████████| 1/1 [03:13<00:00, 193.06s/it]\n"
     ]
    },
    {
     "name": "stdout",
     "output_type": "stream",
     "text": [
      "Epoch [99/100] Loss: 499999904.0000\n"
     ]
    },
    {
     "name": "stderr",
     "output_type": "stream",
     "text": [
      "Epoch 100/100:   0%|          | 0/1 [00:00<?, ?it/s]c:\\Users\\it08d\\.conda\\envs\\scan\\Lib\\site-packages\\PIL\\Image.py:3452: DecompressionBombWarning: Image size (108790062 pixels) exceeds limit of 89478485 pixels, could be decompression bomb DOS attack.\n",
      "  warnings.warn(\n",
      "c:\\Users\\it08d\\.conda\\envs\\scan\\Lib\\site-packages\\PIL\\Image.py:3452: DecompressionBombWarning: Image size (104484285 pixels) exceeds limit of 89478485 pixels, could be decompression bomb DOS attack.\n",
      "  warnings.warn(\n",
      "c:\\Users\\it08d\\.conda\\envs\\scan\\Lib\\site-packages\\PIL\\Image.py:3452: DecompressionBombWarning: Image size (112722924 pixels) exceeds limit of 89478485 pixels, could be decompression bomb DOS attack.\n",
      "  warnings.warn(\n",
      "c:\\Users\\it08d\\.conda\\envs\\scan\\Lib\\site-packages\\PIL\\Image.py:3452: DecompressionBombWarning: Image size (92459380 pixels) exceeds limit of 89478485 pixels, could be decompression bomb DOS attack.\n",
      "  warnings.warn(\n",
      "c:\\Users\\it08d\\.conda\\envs\\scan\\Lib\\site-packages\\PIL\\Image.py:3452: DecompressionBombWarning: Image size (92670358 pixels) exceeds limit of 89478485 pixels, could be decompression bomb DOS attack.\n",
      "  warnings.warn(\n",
      "c:\\Users\\it08d\\.conda\\envs\\scan\\Lib\\site-packages\\PIL\\Image.py:3452: DecompressionBombWarning: Image size (96414792 pixels) exceeds limit of 89478485 pixels, could be decompression bomb DOS attack.\n",
      "  warnings.warn(\n",
      "c:\\Users\\it08d\\.conda\\envs\\scan\\Lib\\site-packages\\PIL\\Image.py:3452: DecompressionBombWarning: Image size (103491227 pixels) exceeds limit of 89478485 pixels, could be decompression bomb DOS attack.\n",
      "  warnings.warn(\n",
      "c:\\Users\\it08d\\.conda\\envs\\scan\\Lib\\site-packages\\PIL\\Image.py:3452: DecompressionBombWarning: Image size (107608697 pixels) exceeds limit of 89478485 pixels, could be decompression bomb DOS attack.\n",
      "  warnings.warn(\n",
      "c:\\Users\\it08d\\.conda\\envs\\scan\\Lib\\site-packages\\PIL\\Image.py:3452: DecompressionBombWarning: Image size (99228206 pixels) exceeds limit of 89478485 pixels, could be decompression bomb DOS attack.\n",
      "  warnings.warn(\n",
      "c:\\Users\\it08d\\.conda\\envs\\scan\\Lib\\site-packages\\PIL\\Image.py:3452: DecompressionBombWarning: Image size (96239805 pixels) exceeds limit of 89478485 pixels, could be decompression bomb DOS attack.\n",
      "  warnings.warn(\n",
      "c:\\Users\\it08d\\.conda\\envs\\scan\\Lib\\site-packages\\PIL\\Image.py:3452: DecompressionBombWarning: Image size (102440960 pixels) exceeds limit of 89478485 pixels, could be decompression bomb DOS attack.\n",
      "  warnings.warn(\n",
      "c:\\Users\\it08d\\.conda\\envs\\scan\\Lib\\site-packages\\PIL\\Image.py:3452: DecompressionBombWarning: Image size (102755040 pixels) exceeds limit of 89478485 pixels, could be decompression bomb DOS attack.\n",
      "  warnings.warn(\n",
      "c:\\Users\\it08d\\.conda\\envs\\scan\\Lib\\site-packages\\PIL\\Image.py:3452: DecompressionBombWarning: Image size (91658554 pixels) exceeds limit of 89478485 pixels, could be decompression bomb DOS attack.\n",
      "  warnings.warn(\n",
      "c:\\Users\\it08d\\.conda\\envs\\scan\\Lib\\site-packages\\PIL\\Image.py:3452: DecompressionBombWarning: Image size (105256800 pixels) exceeds limit of 89478485 pixels, could be decompression bomb DOS attack.\n",
      "  warnings.warn(\n",
      "c:\\Users\\it08d\\.conda\\envs\\scan\\Lib\\site-packages\\PIL\\Image.py:3452: DecompressionBombWarning: Image size (107777789 pixels) exceeds limit of 89478485 pixels, could be decompression bomb DOS attack.\n",
      "  warnings.warn(\n",
      "c:\\Users\\it08d\\.conda\\envs\\scan\\Lib\\site-packages\\PIL\\Image.py:3452: DecompressionBombWarning: Image size (98903808 pixels) exceeds limit of 89478485 pixels, could be decompression bomb DOS attack.\n",
      "  warnings.warn(\n",
      "c:\\Users\\it08d\\.conda\\envs\\scan\\Lib\\site-packages\\PIL\\Image.py:3452: DecompressionBombWarning: Image size (102906730 pixels) exceeds limit of 89478485 pixels, could be decompression bomb DOS attack.\n",
      "  warnings.warn(\n",
      "c:\\Users\\it08d\\.conda\\envs\\scan\\Lib\\site-packages\\PIL\\Image.py:3452: DecompressionBombWarning: Image size (98792544 pixels) exceeds limit of 89478485 pixels, could be decompression bomb DOS attack.\n",
      "  warnings.warn(\n",
      "c:\\Users\\it08d\\.conda\\envs\\scan\\Lib\\site-packages\\PIL\\Image.py:3452: DecompressionBombWarning: Image size (93328827 pixels) exceeds limit of 89478485 pixels, could be decompression bomb DOS attack.\n",
      "  warnings.warn(\n",
      "c:\\Users\\it08d\\.conda\\envs\\scan\\Lib\\site-packages\\PIL\\Image.py:3452: DecompressionBombWarning: Image size (98325776 pixels) exceeds limit of 89478485 pixels, could be decompression bomb DOS attack.\n",
      "  warnings.warn(\n",
      "c:\\Users\\it08d\\.conda\\envs\\scan\\Lib\\site-packages\\PIL\\Image.py:3452: DecompressionBombWarning: Image size (111106560 pixels) exceeds limit of 89478485 pixels, could be decompression bomb DOS attack.\n",
      "  warnings.warn(\n",
      "c:\\Users\\it08d\\.conda\\envs\\scan\\Lib\\site-packages\\PIL\\Image.py:3452: DecompressionBombWarning: Image size (97391385 pixels) exceeds limit of 89478485 pixels, could be decompression bomb DOS attack.\n",
      "  warnings.warn(\n",
      "c:\\Users\\it08d\\.conda\\envs\\scan\\Lib\\site-packages\\PIL\\Image.py:3452: DecompressionBombWarning: Image size (109021142 pixels) exceeds limit of 89478485 pixels, could be decompression bomb DOS attack.\n",
      "  warnings.warn(\n",
      "c:\\Users\\it08d\\.conda\\envs\\scan\\Lib\\site-packages\\PIL\\Image.py:3452: DecompressionBombWarning: Image size (101523312 pixels) exceeds limit of 89478485 pixels, could be decompression bomb DOS attack.\n",
      "  warnings.warn(\n",
      "c:\\Users\\it08d\\.conda\\envs\\scan\\Lib\\site-packages\\PIL\\Image.py:3452: DecompressionBombWarning: Image size (97432518 pixels) exceeds limit of 89478485 pixels, could be decompression bomb DOS attack.\n",
      "  warnings.warn(\n",
      "c:\\Users\\it08d\\.conda\\envs\\scan\\Lib\\site-packages\\PIL\\Image.py:3452: DecompressionBombWarning: Image size (95547484 pixels) exceeds limit of 89478485 pixels, could be decompression bomb DOS attack.\n",
      "  warnings.warn(\n",
      "c:\\Users\\it08d\\.conda\\envs\\scan\\Lib\\site-packages\\PIL\\Image.py:3452: DecompressionBombWarning: Image size (95658675 pixels) exceeds limit of 89478485 pixels, could be decompression bomb DOS attack.\n",
      "  warnings.warn(\n",
      "c:\\Users\\it08d\\.conda\\envs\\scan\\Lib\\site-packages\\PIL\\Image.py:3452: DecompressionBombWarning: Image size (102676464 pixels) exceeds limit of 89478485 pixels, could be decompression bomb DOS attack.\n",
      "  warnings.warn(\n",
      "c:\\Users\\it08d\\.conda\\envs\\scan\\Lib\\site-packages\\PIL\\Image.py:3452: DecompressionBombWarning: Image size (96868112 pixels) exceeds limit of 89478485 pixels, could be decompression bomb DOS attack.\n",
      "  warnings.warn(\n",
      "c:\\Users\\it08d\\.conda\\envs\\scan\\Lib\\site-packages\\PIL\\Image.py:3452: DecompressionBombWarning: Image size (92676080 pixels) exceeds limit of 89478485 pixels, could be decompression bomb DOS attack.\n",
      "  warnings.warn(\n",
      "Epoch 100/100: 100%|██████████| 1/1 [03:40<00:00, 220.97s/it]\n"
     ]
    },
    {
     "name": "stdout",
     "output_type": "stream",
     "text": [
      "Epoch [100/100] Loss: 499999904.0000\n"
     ]
    }
   ],
   "source": [
    "feature_dim = 128\n",
    "device = torch.device(\"cuda\" if torch.cuda.is_available() else \"cpu\")\n",
    "\n",
    "backbone = get_backbone(name='resnet18', dim=feature_dim).to(device)\n",
    "criterion = NTXentLoss(temperature=0.5)\n",
    "\n",
    "device = torch.device(\"cuda\" if torch.cuda.is_available() else \"cpu\")\n",
    "criterion = NTXentLoss(temperature=0.5, device=device)\n",
    "\n",
    "train_simclr(backbone, simclr_loader, criterion, epochs=100, device=device)\n",
    "torch.save(backbone.state_dict(), \"simclr_lulc_resnet18_epoch100_pretrained.pth\")\n"
   ]
  },
  {
   "cell_type": "markdown",
   "id": "da88ca17",
   "metadata": {},
   "source": [
    "## 🔍 Step 2: Extract Features and Build k-NN Graph"
   ]
  },
  {
   "cell_type": "code",
   "execution_count": 7,
   "id": "acb2d869",
   "metadata": {},
   "outputs": [
    {
     "name": "stderr",
     "output_type": "stream",
     "text": [
      "100%|██████████| 1/1 [03:29<00:00, 209.44s/it]\n"
     ]
    }
   ],
   "source": [
    "# Extract features\n",
    "backbone.eval()\n",
    "features = []\n",
    "\n",
    "with torch.no_grad():\n",
    "    for x in tqdm(base_loader):\n",
    "        x = x.to(device)\n",
    "        z = backbone(x)\n",
    "        z = torch.nn.functional.normalize(z, dim=1)\n",
    "        features.append(z.cpu())\n",
    "\n",
    "features = torch.cat(features, dim=0)\n",
    "np.save(\"simclr_lulc_resnet18_epoch100_feature.npy\", features.numpy())"
   ]
  },
  {
   "cell_type": "markdown",
   "id": "debbec0f",
   "metadata": {},
   "source": [
    "## 🔗 Step 2: Train SCAN Clustering Head"
   ]
  },
  {
   "cell_type": "code",
   "execution_count": 8,
   "id": "00d05f93",
   "metadata": {},
   "outputs": [
    {
     "name": "stdout",
     "output_type": "stream",
     "text": [
      "\n",
      "🔁 Training SCAN for n_clusters = 5\n"
     ]
    },
    {
     "name": "stderr",
     "output_type": "stream",
     "text": [
      "Epoch 1/50: 100%|██████████| 1/1 [00:00<00:00,  3.55it/s]\n"
     ]
    },
    {
     "name": "stdout",
     "output_type": "stream",
     "text": [
      "[SCAN] Epoch 1: Loss = -6.4381\n"
     ]
    },
    {
     "name": "stderr",
     "output_type": "stream",
     "text": [
      "Epoch 2/50: 100%|██████████| 1/1 [00:00<00:00,  7.74it/s]\n"
     ]
    },
    {
     "name": "stdout",
     "output_type": "stream",
     "text": [
      "[SCAN] Epoch 2: Loss = -6.4383\n"
     ]
    },
    {
     "name": "stderr",
     "output_type": "stream",
     "text": [
      "Epoch 3/50: 100%|██████████| 1/1 [00:00<00:00,  8.00it/s]\n"
     ]
    },
    {
     "name": "stdout",
     "output_type": "stream",
     "text": [
      "[SCAN] Epoch 3: Loss = -6.4386\n"
     ]
    },
    {
     "name": "stderr",
     "output_type": "stream",
     "text": [
      "Epoch 4/50: 100%|██████████| 1/1 [00:00<00:00,  5.65it/s]\n"
     ]
    },
    {
     "name": "stdout",
     "output_type": "stream",
     "text": [
      "[SCAN] Epoch 4: Loss = -6.4389\n"
     ]
    },
    {
     "name": "stderr",
     "output_type": "stream",
     "text": [
      "Epoch 5/50: 100%|██████████| 1/1 [00:00<00:00,  5.24it/s]\n"
     ]
    },
    {
     "name": "stdout",
     "output_type": "stream",
     "text": [
      "[SCAN] Epoch 5: Loss = -6.4392\n"
     ]
    },
    {
     "name": "stderr",
     "output_type": "stream",
     "text": [
      "Epoch 6/50: 100%|██████████| 1/1 [00:00<00:00,  6.19it/s]\n"
     ]
    },
    {
     "name": "stdout",
     "output_type": "stream",
     "text": [
      "[SCAN] Epoch 6: Loss = -6.4395\n"
     ]
    },
    {
     "name": "stderr",
     "output_type": "stream",
     "text": [
      "Epoch 7/50: 100%|██████████| 1/1 [00:00<00:00,  6.21it/s]\n"
     ]
    },
    {
     "name": "stdout",
     "output_type": "stream",
     "text": [
      "[SCAN] Epoch 7: Loss = -6.4399\n"
     ]
    },
    {
     "name": "stderr",
     "output_type": "stream",
     "text": [
      "Epoch 8/50: 100%|██████████| 1/1 [00:00<00:00,  5.09it/s]\n"
     ]
    },
    {
     "name": "stdout",
     "output_type": "stream",
     "text": [
      "[SCAN] Epoch 8: Loss = -6.4402\n"
     ]
    },
    {
     "name": "stderr",
     "output_type": "stream",
     "text": [
      "Epoch 9/50: 100%|██████████| 1/1 [00:00<00:00,  5.75it/s]\n"
     ]
    },
    {
     "name": "stdout",
     "output_type": "stream",
     "text": [
      "[SCAN] Epoch 9: Loss = -6.4406\n"
     ]
    },
    {
     "name": "stderr",
     "output_type": "stream",
     "text": [
      "Epoch 10/50: 100%|██████████| 1/1 [00:00<00:00,  5.81it/s]\n"
     ]
    },
    {
     "name": "stdout",
     "output_type": "stream",
     "text": [
      "[SCAN] Epoch 10: Loss = -6.4410\n"
     ]
    },
    {
     "name": "stderr",
     "output_type": "stream",
     "text": [
      "Epoch 11/50: 100%|██████████| 1/1 [00:00<00:00,  6.39it/s]\n"
     ]
    },
    {
     "name": "stdout",
     "output_type": "stream",
     "text": [
      "[SCAN] Epoch 11: Loss = -6.4414\n"
     ]
    },
    {
     "name": "stderr",
     "output_type": "stream",
     "text": [
      "Epoch 12/50: 100%|██████████| 1/1 [00:00<00:00,  7.10it/s]\n"
     ]
    },
    {
     "name": "stdout",
     "output_type": "stream",
     "text": [
      "[SCAN] Epoch 12: Loss = -6.4419\n"
     ]
    },
    {
     "name": "stderr",
     "output_type": "stream",
     "text": [
      "Epoch 13/50: 100%|██████████| 1/1 [00:00<00:00,  6.97it/s]\n"
     ]
    },
    {
     "name": "stdout",
     "output_type": "stream",
     "text": [
      "[SCAN] Epoch 13: Loss = -6.4423\n"
     ]
    },
    {
     "name": "stderr",
     "output_type": "stream",
     "text": [
      "Epoch 14/50: 100%|██████████| 1/1 [00:00<00:00,  5.57it/s]\n"
     ]
    },
    {
     "name": "stdout",
     "output_type": "stream",
     "text": [
      "[SCAN] Epoch 14: Loss = -6.4428\n"
     ]
    },
    {
     "name": "stderr",
     "output_type": "stream",
     "text": [
      "Epoch 15/50: 100%|██████████| 1/1 [00:00<00:00,  7.79it/s]\n"
     ]
    },
    {
     "name": "stdout",
     "output_type": "stream",
     "text": [
      "[SCAN] Epoch 15: Loss = -6.4434\n"
     ]
    },
    {
     "name": "stderr",
     "output_type": "stream",
     "text": [
      "Epoch 16/50: 100%|██████████| 1/1 [00:00<00:00,  6.58it/s]\n"
     ]
    },
    {
     "name": "stdout",
     "output_type": "stream",
     "text": [
      "[SCAN] Epoch 16: Loss = -6.4439\n"
     ]
    },
    {
     "name": "stderr",
     "output_type": "stream",
     "text": [
      "Epoch 17/50: 100%|██████████| 1/1 [00:00<00:00,  5.41it/s]\n"
     ]
    },
    {
     "name": "stdout",
     "output_type": "stream",
     "text": [
      "[SCAN] Epoch 17: Loss = -6.4445\n"
     ]
    },
    {
     "name": "stderr",
     "output_type": "stream",
     "text": [
      "Epoch 18/50: 100%|██████████| 1/1 [00:00<00:00,  4.93it/s]\n"
     ]
    },
    {
     "name": "stdout",
     "output_type": "stream",
     "text": [
      "[SCAN] Epoch 18: Loss = -6.4451\n"
     ]
    },
    {
     "name": "stderr",
     "output_type": "stream",
     "text": [
      "Epoch 19/50: 100%|██████████| 1/1 [00:00<00:00,  4.82it/s]\n"
     ]
    },
    {
     "name": "stdout",
     "output_type": "stream",
     "text": [
      "[SCAN] Epoch 19: Loss = -6.4458\n"
     ]
    },
    {
     "name": "stderr",
     "output_type": "stream",
     "text": [
      "Epoch 20/50: 100%|██████████| 1/1 [00:00<00:00,  3.52it/s]\n"
     ]
    },
    {
     "name": "stdout",
     "output_type": "stream",
     "text": [
      "[SCAN] Epoch 20: Loss = -6.4464\n"
     ]
    },
    {
     "name": "stderr",
     "output_type": "stream",
     "text": [
      "Epoch 21/50: 100%|██████████| 1/1 [00:00<00:00,  6.14it/s]\n"
     ]
    },
    {
     "name": "stdout",
     "output_type": "stream",
     "text": [
      "[SCAN] Epoch 21: Loss = -6.4471\n"
     ]
    },
    {
     "name": "stderr",
     "output_type": "stream",
     "text": [
      "Epoch 22/50: 100%|██████████| 1/1 [00:00<00:00,  6.01it/s]\n"
     ]
    },
    {
     "name": "stdout",
     "output_type": "stream",
     "text": [
      "[SCAN] Epoch 22: Loss = -6.4479\n"
     ]
    },
    {
     "name": "stderr",
     "output_type": "stream",
     "text": [
      "Epoch 23/50: 100%|██████████| 1/1 [00:00<00:00,  6.24it/s]\n"
     ]
    },
    {
     "name": "stdout",
     "output_type": "stream",
     "text": [
      "[SCAN] Epoch 23: Loss = -6.4487\n"
     ]
    },
    {
     "name": "stderr",
     "output_type": "stream",
     "text": [
      "Epoch 24/50: 100%|██████████| 1/1 [00:00<00:00,  6.25it/s]\n"
     ]
    },
    {
     "name": "stdout",
     "output_type": "stream",
     "text": [
      "[SCAN] Epoch 24: Loss = -6.4495\n"
     ]
    },
    {
     "name": "stderr",
     "output_type": "stream",
     "text": [
      "Epoch 25/50: 100%|██████████| 1/1 [00:00<00:00,  6.27it/s]\n"
     ]
    },
    {
     "name": "stdout",
     "output_type": "stream",
     "text": [
      "[SCAN] Epoch 25: Loss = -6.4504\n"
     ]
    },
    {
     "name": "stderr",
     "output_type": "stream",
     "text": [
      "Epoch 26/50: 100%|██████████| 1/1 [00:00<00:00,  6.07it/s]\n"
     ]
    },
    {
     "name": "stdout",
     "output_type": "stream",
     "text": [
      "[SCAN] Epoch 26: Loss = -6.4513\n"
     ]
    },
    {
     "name": "stderr",
     "output_type": "stream",
     "text": [
      "Epoch 27/50: 100%|██████████| 1/1 [00:00<00:00,  5.96it/s]\n"
     ]
    },
    {
     "name": "stdout",
     "output_type": "stream",
     "text": [
      "[SCAN] Epoch 27: Loss = -6.4522\n"
     ]
    },
    {
     "name": "stderr",
     "output_type": "stream",
     "text": [
      "Epoch 28/50: 100%|██████████| 1/1 [00:00<00:00,  5.91it/s]\n"
     ]
    },
    {
     "name": "stdout",
     "output_type": "stream",
     "text": [
      "[SCAN] Epoch 28: Loss = -6.4532\n"
     ]
    },
    {
     "name": "stderr",
     "output_type": "stream",
     "text": [
      "Epoch 29/50: 100%|██████████| 1/1 [00:00<00:00,  5.90it/s]\n"
     ]
    },
    {
     "name": "stdout",
     "output_type": "stream",
     "text": [
      "[SCAN] Epoch 29: Loss = -6.4543\n"
     ]
    },
    {
     "name": "stderr",
     "output_type": "stream",
     "text": [
      "Epoch 30/50: 100%|██████████| 1/1 [00:00<00:00,  5.92it/s]\n"
     ]
    },
    {
     "name": "stdout",
     "output_type": "stream",
     "text": [
      "[SCAN] Epoch 30: Loss = -6.4554\n"
     ]
    },
    {
     "name": "stderr",
     "output_type": "stream",
     "text": [
      "Epoch 31/50: 100%|██████████| 1/1 [00:00<00:00,  5.61it/s]\n"
     ]
    },
    {
     "name": "stdout",
     "output_type": "stream",
     "text": [
      "[SCAN] Epoch 31: Loss = -6.4565\n"
     ]
    },
    {
     "name": "stderr",
     "output_type": "stream",
     "text": [
      "Epoch 32/50: 100%|██████████| 1/1 [00:00<00:00,  5.43it/s]\n"
     ]
    },
    {
     "name": "stdout",
     "output_type": "stream",
     "text": [
      "[SCAN] Epoch 32: Loss = -6.4577\n"
     ]
    },
    {
     "name": "stderr",
     "output_type": "stream",
     "text": [
      "Epoch 33/50: 100%|██████████| 1/1 [00:00<00:00,  6.54it/s]\n"
     ]
    },
    {
     "name": "stdout",
     "output_type": "stream",
     "text": [
      "[SCAN] Epoch 33: Loss = -6.4589\n"
     ]
    },
    {
     "name": "stderr",
     "output_type": "stream",
     "text": [
      "Epoch 34/50: 100%|██████████| 1/1 [00:00<00:00,  6.39it/s]\n"
     ]
    },
    {
     "name": "stdout",
     "output_type": "stream",
     "text": [
      "[SCAN] Epoch 34: Loss = -6.4602\n"
     ]
    },
    {
     "name": "stderr",
     "output_type": "stream",
     "text": [
      "Epoch 35/50: 100%|██████████| 1/1 [00:00<00:00,  5.93it/s]\n"
     ]
    },
    {
     "name": "stdout",
     "output_type": "stream",
     "text": [
      "[SCAN] Epoch 35: Loss = -6.4615\n"
     ]
    },
    {
     "name": "stderr",
     "output_type": "stream",
     "text": [
      "Epoch 36/50: 100%|██████████| 1/1 [00:00<00:00,  4.78it/s]\n"
     ]
    },
    {
     "name": "stdout",
     "output_type": "stream",
     "text": [
      "[SCAN] Epoch 36: Loss = -6.4628\n"
     ]
    },
    {
     "name": "stderr",
     "output_type": "stream",
     "text": [
      "Epoch 37/50: 100%|██████████| 1/1 [00:00<00:00,  5.50it/s]\n"
     ]
    },
    {
     "name": "stdout",
     "output_type": "stream",
     "text": [
      "[SCAN] Epoch 37: Loss = -6.4642\n"
     ]
    },
    {
     "name": "stderr",
     "output_type": "stream",
     "text": [
      "Epoch 38/50: 100%|██████████| 1/1 [00:00<00:00,  5.41it/s]\n"
     ]
    },
    {
     "name": "stdout",
     "output_type": "stream",
     "text": [
      "[SCAN] Epoch 38: Loss = -6.4657\n"
     ]
    },
    {
     "name": "stderr",
     "output_type": "stream",
     "text": [
      "Epoch 39/50: 100%|██████████| 1/1 [00:00<00:00,  5.10it/s]\n"
     ]
    },
    {
     "name": "stdout",
     "output_type": "stream",
     "text": [
      "[SCAN] Epoch 39: Loss = -6.4672\n"
     ]
    },
    {
     "name": "stderr",
     "output_type": "stream",
     "text": [
      "Epoch 40/50: 100%|██████████| 1/1 [00:00<00:00,  5.40it/s]\n"
     ]
    },
    {
     "name": "stdout",
     "output_type": "stream",
     "text": [
      "[SCAN] Epoch 40: Loss = -6.4688\n"
     ]
    },
    {
     "name": "stderr",
     "output_type": "stream",
     "text": [
      "Epoch 41/50: 100%|██████████| 1/1 [00:00<00:00,  8.30it/s]\n"
     ]
    },
    {
     "name": "stdout",
     "output_type": "stream",
     "text": [
      "[SCAN] Epoch 41: Loss = -6.4704\n"
     ]
    },
    {
     "name": "stderr",
     "output_type": "stream",
     "text": [
      "Epoch 42/50: 100%|██████████| 1/1 [00:00<00:00,  6.50it/s]\n"
     ]
    },
    {
     "name": "stdout",
     "output_type": "stream",
     "text": [
      "[SCAN] Epoch 42: Loss = -6.4720\n"
     ]
    },
    {
     "name": "stderr",
     "output_type": "stream",
     "text": [
      "Epoch 43/50: 100%|██████████| 1/1 [00:00<00:00,  9.06it/s]\n"
     ]
    },
    {
     "name": "stdout",
     "output_type": "stream",
     "text": [
      "[SCAN] Epoch 43: Loss = -6.4738\n"
     ]
    },
    {
     "name": "stderr",
     "output_type": "stream",
     "text": [
      "Epoch 44/50: 100%|██████████| 1/1 [00:00<00:00,  5.62it/s]\n"
     ]
    },
    {
     "name": "stdout",
     "output_type": "stream",
     "text": [
      "[SCAN] Epoch 44: Loss = -6.4755\n"
     ]
    },
    {
     "name": "stderr",
     "output_type": "stream",
     "text": [
      "Epoch 45/50: 100%|██████████| 1/1 [00:00<00:00,  5.61it/s]\n"
     ]
    },
    {
     "name": "stdout",
     "output_type": "stream",
     "text": [
      "[SCAN] Epoch 45: Loss = -6.4773\n"
     ]
    },
    {
     "name": "stderr",
     "output_type": "stream",
     "text": [
      "Epoch 46/50: 100%|██████████| 1/1 [00:00<00:00,  8.05it/s]\n"
     ]
    },
    {
     "name": "stdout",
     "output_type": "stream",
     "text": [
      "[SCAN] Epoch 46: Loss = -6.4792\n"
     ]
    },
    {
     "name": "stderr",
     "output_type": "stream",
     "text": [
      "Epoch 47/50: 100%|██████████| 1/1 [00:00<00:00,  9.44it/s]\n"
     ]
    },
    {
     "name": "stdout",
     "output_type": "stream",
     "text": [
      "[SCAN] Epoch 47: Loss = -6.4811\n"
     ]
    },
    {
     "name": "stderr",
     "output_type": "stream",
     "text": [
      "Epoch 48/50: 100%|██████████| 1/1 [00:00<00:00,  8.68it/s]\n"
     ]
    },
    {
     "name": "stdout",
     "output_type": "stream",
     "text": [
      "[SCAN] Epoch 48: Loss = -6.4830\n"
     ]
    },
    {
     "name": "stderr",
     "output_type": "stream",
     "text": [
      "Epoch 49/50: 100%|██████████| 1/1 [00:00<00:00,  7.78it/s]\n"
     ]
    },
    {
     "name": "stdout",
     "output_type": "stream",
     "text": [
      "[SCAN] Epoch 49: Loss = -6.4850\n"
     ]
    },
    {
     "name": "stderr",
     "output_type": "stream",
     "text": [
      "Epoch 50/50: 100%|██████████| 1/1 [00:00<00:00,  7.66it/s]\n"
     ]
    },
    {
     "name": "stdout",
     "output_type": "stream",
     "text": [
      "[SCAN] Epoch 50: Loss = -6.4871\n",
      "\n",
      "🔁 Training SCAN for n_clusters = 6\n"
     ]
    },
    {
     "name": "stderr",
     "output_type": "stream",
     "text": [
      "Epoch 1/50: 100%|██████████| 1/1 [00:00<00:00,  5.83it/s]\n"
     ]
    },
    {
     "name": "stdout",
     "output_type": "stream",
     "text": [
      "[SCAN] Epoch 1: Loss = -7.1638\n"
     ]
    },
    {
     "name": "stderr",
     "output_type": "stream",
     "text": [
      "Epoch 2/50: 100%|██████████| 1/1 [00:00<00:00,  6.79it/s]\n"
     ]
    },
    {
     "name": "stdout",
     "output_type": "stream",
     "text": [
      "[SCAN] Epoch 2: Loss = -7.1643\n"
     ]
    },
    {
     "name": "stderr",
     "output_type": "stream",
     "text": [
      "Epoch 3/50: 100%|██████████| 1/1 [00:00<00:00,  7.63it/s]\n"
     ]
    },
    {
     "name": "stdout",
     "output_type": "stream",
     "text": [
      "[SCAN] Epoch 3: Loss = -7.1648\n"
     ]
    },
    {
     "name": "stderr",
     "output_type": "stream",
     "text": [
      "Epoch 4/50: 100%|██████████| 1/1 [00:00<00:00,  5.73it/s]\n"
     ]
    },
    {
     "name": "stdout",
     "output_type": "stream",
     "text": [
      "[SCAN] Epoch 4: Loss = -7.1653\n"
     ]
    },
    {
     "name": "stderr",
     "output_type": "stream",
     "text": [
      "Epoch 5/50: 100%|██████████| 1/1 [00:00<00:00,  6.17it/s]\n"
     ]
    },
    {
     "name": "stdout",
     "output_type": "stream",
     "text": [
      "[SCAN] Epoch 5: Loss = -7.1658\n"
     ]
    },
    {
     "name": "stderr",
     "output_type": "stream",
     "text": [
      "Epoch 6/50: 100%|██████████| 1/1 [00:00<00:00,  6.32it/s]\n"
     ]
    },
    {
     "name": "stdout",
     "output_type": "stream",
     "text": [
      "[SCAN] Epoch 6: Loss = -7.1663\n"
     ]
    },
    {
     "name": "stderr",
     "output_type": "stream",
     "text": [
      "Epoch 7/50: 100%|██████████| 1/1 [00:00<00:00,  5.57it/s]\n"
     ]
    },
    {
     "name": "stdout",
     "output_type": "stream",
     "text": [
      "[SCAN] Epoch 7: Loss = -7.1669\n"
     ]
    },
    {
     "name": "stderr",
     "output_type": "stream",
     "text": [
      "Epoch 8/50: 100%|██████████| 1/1 [00:00<00:00,  6.02it/s]\n"
     ]
    },
    {
     "name": "stdout",
     "output_type": "stream",
     "text": [
      "[SCAN] Epoch 8: Loss = -7.1674\n"
     ]
    },
    {
     "name": "stderr",
     "output_type": "stream",
     "text": [
      "Epoch 9/50: 100%|██████████| 1/1 [00:00<00:00,  7.48it/s]\n"
     ]
    },
    {
     "name": "stdout",
     "output_type": "stream",
     "text": [
      "[SCAN] Epoch 9: Loss = -7.1680\n"
     ]
    },
    {
     "name": "stderr",
     "output_type": "stream",
     "text": [
      "Epoch 10/50: 100%|██████████| 1/1 [00:00<00:00,  7.69it/s]\n"
     ]
    },
    {
     "name": "stdout",
     "output_type": "stream",
     "text": [
      "[SCAN] Epoch 10: Loss = -7.1686\n"
     ]
    },
    {
     "name": "stderr",
     "output_type": "stream",
     "text": [
      "Epoch 11/50: 100%|██████████| 1/1 [00:00<00:00,  7.56it/s]\n"
     ]
    },
    {
     "name": "stdout",
     "output_type": "stream",
     "text": [
      "[SCAN] Epoch 11: Loss = -7.1692\n"
     ]
    },
    {
     "name": "stderr",
     "output_type": "stream",
     "text": [
      "Epoch 12/50: 100%|██████████| 1/1 [00:00<00:00,  6.07it/s]\n"
     ]
    },
    {
     "name": "stdout",
     "output_type": "stream",
     "text": [
      "[SCAN] Epoch 12: Loss = -7.1698\n"
     ]
    },
    {
     "name": "stderr",
     "output_type": "stream",
     "text": [
      "Epoch 13/50: 100%|██████████| 1/1 [00:00<00:00,  6.43it/s]\n"
     ]
    },
    {
     "name": "stdout",
     "output_type": "stream",
     "text": [
      "[SCAN] Epoch 13: Loss = -7.1705\n"
     ]
    },
    {
     "name": "stderr",
     "output_type": "stream",
     "text": [
      "Epoch 14/50: 100%|██████████| 1/1 [00:00<00:00,  7.28it/s]\n"
     ]
    },
    {
     "name": "stdout",
     "output_type": "stream",
     "text": [
      "[SCAN] Epoch 14: Loss = -7.1712\n"
     ]
    },
    {
     "name": "stderr",
     "output_type": "stream",
     "text": [
      "Epoch 15/50: 100%|██████████| 1/1 [00:00<00:00,  7.03it/s]\n"
     ]
    },
    {
     "name": "stdout",
     "output_type": "stream",
     "text": [
      "[SCAN] Epoch 15: Loss = -7.1719\n"
     ]
    },
    {
     "name": "stderr",
     "output_type": "stream",
     "text": [
      "Epoch 16/50: 100%|██████████| 1/1 [00:00<00:00,  6.42it/s]\n"
     ]
    },
    {
     "name": "stdout",
     "output_type": "stream",
     "text": [
      "[SCAN] Epoch 16: Loss = -7.1726\n"
     ]
    },
    {
     "name": "stderr",
     "output_type": "stream",
     "text": [
      "Epoch 17/50: 100%|██████████| 1/1 [00:00<00:00,  5.12it/s]\n"
     ]
    },
    {
     "name": "stdout",
     "output_type": "stream",
     "text": [
      "[SCAN] Epoch 17: Loss = -7.1733\n"
     ]
    },
    {
     "name": "stderr",
     "output_type": "stream",
     "text": [
      "Epoch 18/50: 100%|██████████| 1/1 [00:00<00:00,  4.42it/s]\n"
     ]
    },
    {
     "name": "stdout",
     "output_type": "stream",
     "text": [
      "[SCAN] Epoch 18: Loss = -7.1741\n"
     ]
    },
    {
     "name": "stderr",
     "output_type": "stream",
     "text": [
      "Epoch 19/50: 100%|██████████| 1/1 [00:00<00:00,  4.69it/s]\n"
     ]
    },
    {
     "name": "stdout",
     "output_type": "stream",
     "text": [
      "[SCAN] Epoch 19: Loss = -7.1749\n"
     ]
    },
    {
     "name": "stderr",
     "output_type": "stream",
     "text": [
      "Epoch 20/50: 100%|██████████| 1/1 [00:00<00:00,  5.95it/s]\n"
     ]
    },
    {
     "name": "stdout",
     "output_type": "stream",
     "text": [
      "[SCAN] Epoch 20: Loss = -7.1757\n"
     ]
    },
    {
     "name": "stderr",
     "output_type": "stream",
     "text": [
      "Epoch 21/50: 100%|██████████| 1/1 [00:00<00:00,  5.76it/s]\n"
     ]
    },
    {
     "name": "stdout",
     "output_type": "stream",
     "text": [
      "[SCAN] Epoch 21: Loss = -7.1766\n"
     ]
    },
    {
     "name": "stderr",
     "output_type": "stream",
     "text": [
      "Epoch 22/50: 100%|██████████| 1/1 [00:00<00:00,  5.50it/s]\n"
     ]
    },
    {
     "name": "stdout",
     "output_type": "stream",
     "text": [
      "[SCAN] Epoch 22: Loss = -7.1775\n"
     ]
    },
    {
     "name": "stderr",
     "output_type": "stream",
     "text": [
      "Epoch 23/50: 100%|██████████| 1/1 [00:00<00:00,  6.46it/s]\n"
     ]
    },
    {
     "name": "stdout",
     "output_type": "stream",
     "text": [
      "[SCAN] Epoch 23: Loss = -7.1784\n"
     ]
    },
    {
     "name": "stderr",
     "output_type": "stream",
     "text": [
      "Epoch 24/50: 100%|██████████| 1/1 [00:00<00:00,  6.61it/s]\n"
     ]
    },
    {
     "name": "stdout",
     "output_type": "stream",
     "text": [
      "[SCAN] Epoch 24: Loss = -7.1793\n"
     ]
    },
    {
     "name": "stderr",
     "output_type": "stream",
     "text": [
      "Epoch 25/50: 100%|██████████| 1/1 [00:00<00:00,  6.75it/s]\n"
     ]
    },
    {
     "name": "stdout",
     "output_type": "stream",
     "text": [
      "[SCAN] Epoch 25: Loss = -7.1803\n"
     ]
    },
    {
     "name": "stderr",
     "output_type": "stream",
     "text": [
      "Epoch 26/50: 100%|██████████| 1/1 [00:00<00:00,  5.43it/s]\n"
     ]
    },
    {
     "name": "stdout",
     "output_type": "stream",
     "text": [
      "[SCAN] Epoch 26: Loss = -7.1813\n"
     ]
    },
    {
     "name": "stderr",
     "output_type": "stream",
     "text": [
      "Epoch 27/50: 100%|██████████| 1/1 [00:00<00:00,  5.97it/s]\n"
     ]
    },
    {
     "name": "stdout",
     "output_type": "stream",
     "text": [
      "[SCAN] Epoch 27: Loss = -7.1824\n"
     ]
    },
    {
     "name": "stderr",
     "output_type": "stream",
     "text": [
      "Epoch 28/50: 100%|██████████| 1/1 [00:00<00:00,  7.39it/s]\n"
     ]
    },
    {
     "name": "stdout",
     "output_type": "stream",
     "text": [
      "[SCAN] Epoch 28: Loss = -7.1835\n"
     ]
    },
    {
     "name": "stderr",
     "output_type": "stream",
     "text": [
      "Epoch 29/50: 100%|██████████| 1/1 [00:00<00:00,  5.18it/s]\n"
     ]
    },
    {
     "name": "stdout",
     "output_type": "stream",
     "text": [
      "[SCAN] Epoch 29: Loss = -7.1846\n"
     ]
    },
    {
     "name": "stderr",
     "output_type": "stream",
     "text": [
      "Epoch 30/50: 100%|██████████| 1/1 [00:00<00:00,  5.63it/s]\n"
     ]
    },
    {
     "name": "stdout",
     "output_type": "stream",
     "text": [
      "[SCAN] Epoch 30: Loss = -7.1858\n"
     ]
    },
    {
     "name": "stderr",
     "output_type": "stream",
     "text": [
      "Epoch 31/50: 100%|██████████| 1/1 [00:00<00:00,  5.21it/s]\n"
     ]
    },
    {
     "name": "stdout",
     "output_type": "stream",
     "text": [
      "[SCAN] Epoch 31: Loss = -7.1870\n"
     ]
    },
    {
     "name": "stderr",
     "output_type": "stream",
     "text": [
      "Epoch 32/50: 100%|██████████| 1/1 [00:00<00:00,  4.44it/s]\n"
     ]
    },
    {
     "name": "stdout",
     "output_type": "stream",
     "text": [
      "[SCAN] Epoch 32: Loss = -7.1883\n"
     ]
    },
    {
     "name": "stderr",
     "output_type": "stream",
     "text": [
      "Epoch 33/50: 100%|██████████| 1/1 [00:00<00:00,  5.16it/s]"
     ]
    },
    {
     "name": "stdout",
     "output_type": "stream",
     "text": [
      "[SCAN] Epoch 33: Loss = -7.1896\n"
     ]
    },
    {
     "name": "stderr",
     "output_type": "stream",
     "text": [
      "\n",
      "Epoch 34/50: 100%|██████████| 1/1 [00:00<00:00,  5.29it/s]\n"
     ]
    },
    {
     "name": "stdout",
     "output_type": "stream",
     "text": [
      "[SCAN] Epoch 34: Loss = -7.1909\n"
     ]
    },
    {
     "name": "stderr",
     "output_type": "stream",
     "text": [
      "Epoch 35/50: 100%|██████████| 1/1 [00:00<00:00,  6.04it/s]\n"
     ]
    },
    {
     "name": "stdout",
     "output_type": "stream",
     "text": [
      "[SCAN] Epoch 35: Loss = -7.1923\n"
     ]
    },
    {
     "name": "stderr",
     "output_type": "stream",
     "text": [
      "Epoch 36/50: 100%|██████████| 1/1 [00:00<00:00,  3.88it/s]\n"
     ]
    },
    {
     "name": "stdout",
     "output_type": "stream",
     "text": [
      "[SCAN] Epoch 36: Loss = -7.1938\n"
     ]
    },
    {
     "name": "stderr",
     "output_type": "stream",
     "text": [
      "Epoch 37/50: 100%|██████████| 1/1 [00:00<00:00,  6.29it/s]\n"
     ]
    },
    {
     "name": "stdout",
     "output_type": "stream",
     "text": [
      "[SCAN] Epoch 37: Loss = -7.1953\n"
     ]
    },
    {
     "name": "stderr",
     "output_type": "stream",
     "text": [
      "Epoch 38/50: 100%|██████████| 1/1 [00:00<00:00,  6.65it/s]\n"
     ]
    },
    {
     "name": "stdout",
     "output_type": "stream",
     "text": [
      "[SCAN] Epoch 38: Loss = -7.1968\n"
     ]
    },
    {
     "name": "stderr",
     "output_type": "stream",
     "text": [
      "Epoch 39/50: 100%|██████████| 1/1 [00:00<00:00,  5.46it/s]\n"
     ]
    },
    {
     "name": "stdout",
     "output_type": "stream",
     "text": [
      "[SCAN] Epoch 39: Loss = -7.1984\n"
     ]
    },
    {
     "name": "stderr",
     "output_type": "stream",
     "text": [
      "Epoch 40/50: 100%|██████████| 1/1 [00:00<00:00,  5.93it/s]\n"
     ]
    },
    {
     "name": "stdout",
     "output_type": "stream",
     "text": [
      "[SCAN] Epoch 40: Loss = -7.2001\n"
     ]
    },
    {
     "name": "stderr",
     "output_type": "stream",
     "text": [
      "Epoch 41/50: 100%|██████████| 1/1 [00:00<00:00,  7.19it/s]\n"
     ]
    },
    {
     "name": "stdout",
     "output_type": "stream",
     "text": [
      "[SCAN] Epoch 41: Loss = -7.2017\n"
     ]
    },
    {
     "name": "stderr",
     "output_type": "stream",
     "text": [
      "Epoch 42/50: 100%|██████████| 1/1 [00:00<00:00,  7.54it/s]\n"
     ]
    },
    {
     "name": "stdout",
     "output_type": "stream",
     "text": [
      "[SCAN] Epoch 42: Loss = -7.2035\n"
     ]
    },
    {
     "name": "stderr",
     "output_type": "stream",
     "text": [
      "Epoch 43/50: 100%|██████████| 1/1 [00:00<00:00,  5.91it/s]\n"
     ]
    },
    {
     "name": "stdout",
     "output_type": "stream",
     "text": [
      "[SCAN] Epoch 43: Loss = -7.2053\n"
     ]
    },
    {
     "name": "stderr",
     "output_type": "stream",
     "text": [
      "Epoch 44/50: 100%|██████████| 1/1 [00:00<00:00,  5.30it/s]\n"
     ]
    },
    {
     "name": "stdout",
     "output_type": "stream",
     "text": [
      "[SCAN] Epoch 44: Loss = -7.2071\n"
     ]
    },
    {
     "name": "stderr",
     "output_type": "stream",
     "text": [
      "Epoch 45/50: 100%|██████████| 1/1 [00:00<00:00,  6.04it/s]\n"
     ]
    },
    {
     "name": "stdout",
     "output_type": "stream",
     "text": [
      "[SCAN] Epoch 45: Loss = -7.2091\n"
     ]
    },
    {
     "name": "stderr",
     "output_type": "stream",
     "text": [
      "Epoch 46/50: 100%|██████████| 1/1 [00:00<00:00,  6.74it/s]\n"
     ]
    },
    {
     "name": "stdout",
     "output_type": "stream",
     "text": [
      "[SCAN] Epoch 46: Loss = -7.2110\n"
     ]
    },
    {
     "name": "stderr",
     "output_type": "stream",
     "text": [
      "Epoch 47/50: 100%|██████████| 1/1 [00:00<00:00,  6.37it/s]\n"
     ]
    },
    {
     "name": "stdout",
     "output_type": "stream",
     "text": [
      "[SCAN] Epoch 47: Loss = -7.2130\n"
     ]
    },
    {
     "name": "stderr",
     "output_type": "stream",
     "text": [
      "Epoch 48/50: 100%|██████████| 1/1 [00:00<00:00,  5.84it/s]\n"
     ]
    },
    {
     "name": "stdout",
     "output_type": "stream",
     "text": [
      "[SCAN] Epoch 48: Loss = -7.2151\n"
     ]
    },
    {
     "name": "stderr",
     "output_type": "stream",
     "text": [
      "Epoch 49/50: 100%|██████████| 1/1 [00:00<00:00,  3.80it/s]\n"
     ]
    },
    {
     "name": "stdout",
     "output_type": "stream",
     "text": [
      "[SCAN] Epoch 49: Loss = -7.2172\n"
     ]
    },
    {
     "name": "stderr",
     "output_type": "stream",
     "text": [
      "Epoch 50/50: 100%|██████████| 1/1 [00:00<00:00,  2.94it/s]\n"
     ]
    },
    {
     "name": "stdout",
     "output_type": "stream",
     "text": [
      "[SCAN] Epoch 50: Loss = -7.2194\n",
      "\n",
      "🔁 Training SCAN for n_clusters = 7\n"
     ]
    },
    {
     "name": "stderr",
     "output_type": "stream",
     "text": [
      "Epoch 1/50: 100%|██████████| 1/1 [00:00<00:00,  3.21it/s]\n"
     ]
    },
    {
     "name": "stdout",
     "output_type": "stream",
     "text": [
      "[SCAN] Epoch 1: Loss = -7.7818\n"
     ]
    },
    {
     "name": "stderr",
     "output_type": "stream",
     "text": [
      "Epoch 2/50: 100%|██████████| 1/1 [00:00<00:00,  4.64it/s]\n"
     ]
    },
    {
     "name": "stdout",
     "output_type": "stream",
     "text": [
      "[SCAN] Epoch 2: Loss = -7.7824\n"
     ]
    },
    {
     "name": "stderr",
     "output_type": "stream",
     "text": [
      "Epoch 3/50: 100%|██████████| 1/1 [00:00<00:00,  6.09it/s]\n"
     ]
    },
    {
     "name": "stdout",
     "output_type": "stream",
     "text": [
      "[SCAN] Epoch 3: Loss = -7.7830\n"
     ]
    },
    {
     "name": "stderr",
     "output_type": "stream",
     "text": [
      "Epoch 4/50: 100%|██████████| 1/1 [00:00<00:00,  7.29it/s]\n"
     ]
    },
    {
     "name": "stdout",
     "output_type": "stream",
     "text": [
      "[SCAN] Epoch 4: Loss = -7.7836\n"
     ]
    },
    {
     "name": "stderr",
     "output_type": "stream",
     "text": [
      "Epoch 5/50: 100%|██████████| 1/1 [00:00<00:00,  7.20it/s]\n"
     ]
    },
    {
     "name": "stdout",
     "output_type": "stream",
     "text": [
      "[SCAN] Epoch 5: Loss = -7.7842\n"
     ]
    },
    {
     "name": "stderr",
     "output_type": "stream",
     "text": [
      "Epoch 6/50: 100%|██████████| 1/1 [00:00<00:00,  7.68it/s]\n"
     ]
    },
    {
     "name": "stdout",
     "output_type": "stream",
     "text": [
      "[SCAN] Epoch 6: Loss = -7.7848\n"
     ]
    },
    {
     "name": "stderr",
     "output_type": "stream",
     "text": [
      "Epoch 7/50: 100%|██████████| 1/1 [00:00<00:00,  7.01it/s]\n"
     ]
    },
    {
     "name": "stdout",
     "output_type": "stream",
     "text": [
      "[SCAN] Epoch 7: Loss = -7.7854\n"
     ]
    },
    {
     "name": "stderr",
     "output_type": "stream",
     "text": [
      "Epoch 8/50: 100%|██████████| 1/1 [00:00<00:00,  7.82it/s]\n"
     ]
    },
    {
     "name": "stdout",
     "output_type": "stream",
     "text": [
      "[SCAN] Epoch 8: Loss = -7.7861\n"
     ]
    },
    {
     "name": "stderr",
     "output_type": "stream",
     "text": [
      "Epoch 9/50: 100%|██████████| 1/1 [00:00<00:00,  6.86it/s]\n"
     ]
    },
    {
     "name": "stdout",
     "output_type": "stream",
     "text": [
      "[SCAN] Epoch 9: Loss = -7.7868\n"
     ]
    },
    {
     "name": "stderr",
     "output_type": "stream",
     "text": [
      "Epoch 10/50: 100%|██████████| 1/1 [00:00<00:00,  6.45it/s]\n"
     ]
    },
    {
     "name": "stdout",
     "output_type": "stream",
     "text": [
      "[SCAN] Epoch 10: Loss = -7.7874\n"
     ]
    },
    {
     "name": "stderr",
     "output_type": "stream",
     "text": [
      "Epoch 11/50: 100%|██████████| 1/1 [00:00<00:00,  3.69it/s]\n"
     ]
    },
    {
     "name": "stdout",
     "output_type": "stream",
     "text": [
      "[SCAN] Epoch 11: Loss = -7.7881\n"
     ]
    },
    {
     "name": "stderr",
     "output_type": "stream",
     "text": [
      "Epoch 12/50: 100%|██████████| 1/1 [00:00<00:00,  8.08it/s]\n"
     ]
    },
    {
     "name": "stdout",
     "output_type": "stream",
     "text": [
      "[SCAN] Epoch 12: Loss = -7.7888\n"
     ]
    },
    {
     "name": "stderr",
     "output_type": "stream",
     "text": [
      "Epoch 13/50: 100%|██████████| 1/1 [00:00<00:00,  7.35it/s]\n"
     ]
    },
    {
     "name": "stdout",
     "output_type": "stream",
     "text": [
      "[SCAN] Epoch 13: Loss = -7.7895\n"
     ]
    },
    {
     "name": "stderr",
     "output_type": "stream",
     "text": [
      "Epoch 14/50: 100%|██████████| 1/1 [00:00<00:00,  5.92it/s]\n"
     ]
    },
    {
     "name": "stdout",
     "output_type": "stream",
     "text": [
      "[SCAN] Epoch 14: Loss = -7.7903\n"
     ]
    },
    {
     "name": "stderr",
     "output_type": "stream",
     "text": [
      "Epoch 15/50: 100%|██████████| 1/1 [00:00<00:00,  6.01it/s]\n"
     ]
    },
    {
     "name": "stdout",
     "output_type": "stream",
     "text": [
      "[SCAN] Epoch 15: Loss = -7.7910\n"
     ]
    },
    {
     "name": "stderr",
     "output_type": "stream",
     "text": [
      "Epoch 16/50: 100%|██████████| 1/1 [00:00<00:00,  6.81it/s]\n"
     ]
    },
    {
     "name": "stdout",
     "output_type": "stream",
     "text": [
      "[SCAN] Epoch 16: Loss = -7.7918\n"
     ]
    },
    {
     "name": "stderr",
     "output_type": "stream",
     "text": [
      "Epoch 17/50: 100%|██████████| 1/1 [00:00<00:00,  5.92it/s]\n"
     ]
    },
    {
     "name": "stdout",
     "output_type": "stream",
     "text": [
      "[SCAN] Epoch 17: Loss = -7.7926\n"
     ]
    },
    {
     "name": "stderr",
     "output_type": "stream",
     "text": [
      "Epoch 18/50: 100%|██████████| 1/1 [00:00<00:00,  7.59it/s]\n"
     ]
    },
    {
     "name": "stdout",
     "output_type": "stream",
     "text": [
      "[SCAN] Epoch 18: Loss = -7.7934\n"
     ]
    },
    {
     "name": "stderr",
     "output_type": "stream",
     "text": [
      "Epoch 19/50: 100%|██████████| 1/1 [00:00<00:00,  8.32it/s]\n"
     ]
    },
    {
     "name": "stdout",
     "output_type": "stream",
     "text": [
      "[SCAN] Epoch 19: Loss = -7.7943\n"
     ]
    },
    {
     "name": "stderr",
     "output_type": "stream",
     "text": [
      "Epoch 20/50: 100%|██████████| 1/1 [00:00<00:00,  8.23it/s]\n"
     ]
    },
    {
     "name": "stdout",
     "output_type": "stream",
     "text": [
      "[SCAN] Epoch 20: Loss = -7.7951\n"
     ]
    },
    {
     "name": "stderr",
     "output_type": "stream",
     "text": [
      "Epoch 21/50: 100%|██████████| 1/1 [00:00<00:00,  8.51it/s]\n"
     ]
    },
    {
     "name": "stdout",
     "output_type": "stream",
     "text": [
      "[SCAN] Epoch 21: Loss = -7.7960\n"
     ]
    },
    {
     "name": "stderr",
     "output_type": "stream",
     "text": [
      "Epoch 22/50: 100%|██████████| 1/1 [00:00<00:00,  8.82it/s]\n"
     ]
    },
    {
     "name": "stdout",
     "output_type": "stream",
     "text": [
      "[SCAN] Epoch 22: Loss = -7.7970\n"
     ]
    },
    {
     "name": "stderr",
     "output_type": "stream",
     "text": [
      "Epoch 23/50: 100%|██████████| 1/1 [00:00<00:00, 10.10it/s]\n"
     ]
    },
    {
     "name": "stdout",
     "output_type": "stream",
     "text": [
      "[SCAN] Epoch 23: Loss = -7.7979\n"
     ]
    },
    {
     "name": "stderr",
     "output_type": "stream",
     "text": [
      "Epoch 24/50: 100%|██████████| 1/1 [00:00<00:00,  9.31it/s]\n"
     ]
    },
    {
     "name": "stdout",
     "output_type": "stream",
     "text": [
      "[SCAN] Epoch 24: Loss = -7.7989\n"
     ]
    },
    {
     "name": "stderr",
     "output_type": "stream",
     "text": [
      "Epoch 25/50: 100%|██████████| 1/1 [00:00<00:00,  9.03it/s]\n"
     ]
    },
    {
     "name": "stdout",
     "output_type": "stream",
     "text": [
      "[SCAN] Epoch 25: Loss = -7.7999\n"
     ]
    },
    {
     "name": "stderr",
     "output_type": "stream",
     "text": [
      "Epoch 26/50: 100%|██████████| 1/1 [00:00<00:00,  9.39it/s]\n"
     ]
    },
    {
     "name": "stdout",
     "output_type": "stream",
     "text": [
      "[SCAN] Epoch 26: Loss = -7.8009\n"
     ]
    },
    {
     "name": "stderr",
     "output_type": "stream",
     "text": [
      "Epoch 27/50: 100%|██████████| 1/1 [00:00<00:00,  8.53it/s]\n"
     ]
    },
    {
     "name": "stdout",
     "output_type": "stream",
     "text": [
      "[SCAN] Epoch 27: Loss = -7.8020\n"
     ]
    },
    {
     "name": "stderr",
     "output_type": "stream",
     "text": [
      "Epoch 28/50: 100%|██████████| 1/1 [00:00<00:00,  8.18it/s]\n"
     ]
    },
    {
     "name": "stdout",
     "output_type": "stream",
     "text": [
      "[SCAN] Epoch 28: Loss = -7.8031\n"
     ]
    },
    {
     "name": "stderr",
     "output_type": "stream",
     "text": [
      "Epoch 29/50: 100%|██████████| 1/1 [00:00<00:00,  4.04it/s]\n"
     ]
    },
    {
     "name": "stdout",
     "output_type": "stream",
     "text": [
      "[SCAN] Epoch 29: Loss = -7.8043\n"
     ]
    },
    {
     "name": "stderr",
     "output_type": "stream",
     "text": [
      "Epoch 30/50: 100%|██████████| 1/1 [00:00<00:00,  6.63it/s]\n"
     ]
    },
    {
     "name": "stdout",
     "output_type": "stream",
     "text": [
      "[SCAN] Epoch 30: Loss = -7.8054\n"
     ]
    },
    {
     "name": "stderr",
     "output_type": "stream",
     "text": [
      "Epoch 31/50: 100%|██████████| 1/1 [00:00<00:00,  7.62it/s]\n"
     ]
    },
    {
     "name": "stdout",
     "output_type": "stream",
     "text": [
      "[SCAN] Epoch 31: Loss = -7.8066\n"
     ]
    },
    {
     "name": "stderr",
     "output_type": "stream",
     "text": [
      "Epoch 32/50: 100%|██████████| 1/1 [00:00<00:00,  7.88it/s]\n"
     ]
    },
    {
     "name": "stdout",
     "output_type": "stream",
     "text": [
      "[SCAN] Epoch 32: Loss = -7.8079\n"
     ]
    },
    {
     "name": "stderr",
     "output_type": "stream",
     "text": [
      "Epoch 33/50: 100%|██████████| 1/1 [00:00<00:00,  8.28it/s]\n"
     ]
    },
    {
     "name": "stdout",
     "output_type": "stream",
     "text": [
      "[SCAN] Epoch 33: Loss = -7.8092\n"
     ]
    },
    {
     "name": "stderr",
     "output_type": "stream",
     "text": [
      "Epoch 34/50: 100%|██████████| 1/1 [00:00<00:00,  6.37it/s]\n"
     ]
    },
    {
     "name": "stdout",
     "output_type": "stream",
     "text": [
      "[SCAN] Epoch 34: Loss = -7.8105\n"
     ]
    },
    {
     "name": "stderr",
     "output_type": "stream",
     "text": [
      "Epoch 35/50: 100%|██████████| 1/1 [00:00<00:00,  6.07it/s]\n"
     ]
    },
    {
     "name": "stdout",
     "output_type": "stream",
     "text": [
      "[SCAN] Epoch 35: Loss = -7.8119\n"
     ]
    },
    {
     "name": "stderr",
     "output_type": "stream",
     "text": [
      "Epoch 36/50: 100%|██████████| 1/1 [00:00<00:00,  6.40it/s]\n"
     ]
    },
    {
     "name": "stdout",
     "output_type": "stream",
     "text": [
      "[SCAN] Epoch 36: Loss = -7.8133\n"
     ]
    },
    {
     "name": "stderr",
     "output_type": "stream",
     "text": [
      "Epoch 37/50: 100%|██████████| 1/1 [00:00<00:00,  7.57it/s]\n"
     ]
    },
    {
     "name": "stdout",
     "output_type": "stream",
     "text": [
      "[SCAN] Epoch 37: Loss = -7.8148\n"
     ]
    },
    {
     "name": "stderr",
     "output_type": "stream",
     "text": [
      "Epoch 38/50: 100%|██████████| 1/1 [00:00<00:00,  7.87it/s]\n"
     ]
    },
    {
     "name": "stdout",
     "output_type": "stream",
     "text": [
      "[SCAN] Epoch 38: Loss = -7.8162\n"
     ]
    },
    {
     "name": "stderr",
     "output_type": "stream",
     "text": [
      "Epoch 39/50: 100%|██████████| 1/1 [00:00<00:00,  7.68it/s]\n"
     ]
    },
    {
     "name": "stdout",
     "output_type": "stream",
     "text": [
      "[SCAN] Epoch 39: Loss = -7.8178\n"
     ]
    },
    {
     "name": "stderr",
     "output_type": "stream",
     "text": [
      "Epoch 40/50: 100%|██████████| 1/1 [00:00<00:00,  7.36it/s]\n"
     ]
    },
    {
     "name": "stdout",
     "output_type": "stream",
     "text": [
      "[SCAN] Epoch 40: Loss = -7.8194\n"
     ]
    },
    {
     "name": "stderr",
     "output_type": "stream",
     "text": [
      "Epoch 41/50: 100%|██████████| 1/1 [00:00<00:00,  6.50it/s]\n"
     ]
    },
    {
     "name": "stdout",
     "output_type": "stream",
     "text": [
      "[SCAN] Epoch 41: Loss = -7.8210\n"
     ]
    },
    {
     "name": "stderr",
     "output_type": "stream",
     "text": [
      "Epoch 42/50: 100%|██████████| 1/1 [00:00<00:00,  6.73it/s]\n"
     ]
    },
    {
     "name": "stdout",
     "output_type": "stream",
     "text": [
      "[SCAN] Epoch 42: Loss = -7.8227\n"
     ]
    },
    {
     "name": "stderr",
     "output_type": "stream",
     "text": [
      "Epoch 43/50: 100%|██████████| 1/1 [00:00<00:00,  4.27it/s]\n"
     ]
    },
    {
     "name": "stdout",
     "output_type": "stream",
     "text": [
      "[SCAN] Epoch 43: Loss = -7.8244\n"
     ]
    },
    {
     "name": "stderr",
     "output_type": "stream",
     "text": [
      "Epoch 44/50: 100%|██████████| 1/1 [00:00<00:00,  5.86it/s]\n"
     ]
    },
    {
     "name": "stdout",
     "output_type": "stream",
     "text": [
      "[SCAN] Epoch 44: Loss = -7.8261\n"
     ]
    },
    {
     "name": "stderr",
     "output_type": "stream",
     "text": [
      "Epoch 45/50: 100%|██████████| 1/1 [00:00<00:00,  6.99it/s]\n"
     ]
    },
    {
     "name": "stdout",
     "output_type": "stream",
     "text": [
      "[SCAN] Epoch 45: Loss = -7.8280\n"
     ]
    },
    {
     "name": "stderr",
     "output_type": "stream",
     "text": [
      "Epoch 46/50: 100%|██████████| 1/1 [00:00<00:00,  8.76it/s]\n"
     ]
    },
    {
     "name": "stdout",
     "output_type": "stream",
     "text": [
      "[SCAN] Epoch 46: Loss = -7.8298\n"
     ]
    },
    {
     "name": "stderr",
     "output_type": "stream",
     "text": [
      "Epoch 47/50: 100%|██████████| 1/1 [00:00<00:00,  8.89it/s]\n"
     ]
    },
    {
     "name": "stdout",
     "output_type": "stream",
     "text": [
      "[SCAN] Epoch 47: Loss = -7.8317\n"
     ]
    },
    {
     "name": "stderr",
     "output_type": "stream",
     "text": [
      "Epoch 48/50: 100%|██████████| 1/1 [00:00<00:00,  7.90it/s]\n"
     ]
    },
    {
     "name": "stdout",
     "output_type": "stream",
     "text": [
      "[SCAN] Epoch 48: Loss = -7.8337\n"
     ]
    },
    {
     "name": "stderr",
     "output_type": "stream",
     "text": [
      "Epoch 49/50: 100%|██████████| 1/1 [00:00<00:00, 10.61it/s]\n"
     ]
    },
    {
     "name": "stdout",
     "output_type": "stream",
     "text": [
      "[SCAN] Epoch 49: Loss = -7.8357\n"
     ]
    },
    {
     "name": "stderr",
     "output_type": "stream",
     "text": [
      "Epoch 50/50: 100%|██████████| 1/1 [00:00<00:00, 11.61it/s]\n"
     ]
    },
    {
     "name": "stdout",
     "output_type": "stream",
     "text": [
      "[SCAN] Epoch 50: Loss = -7.8377\n",
      "\n",
      "🔁 Training SCAN for n_clusters = 8\n"
     ]
    },
    {
     "name": "stderr",
     "output_type": "stream",
     "text": [
      "Epoch 1/50: 100%|██████████| 1/1 [00:00<00:00, 16.80it/s]\n"
     ]
    },
    {
     "name": "stdout",
     "output_type": "stream",
     "text": [
      "[SCAN] Epoch 1: Loss = -8.3134\n"
     ]
    },
    {
     "name": "stderr",
     "output_type": "stream",
     "text": [
      "Epoch 2/50: 100%|██████████| 1/1 [00:00<00:00, 19.17it/s]\n"
     ]
    },
    {
     "name": "stdout",
     "output_type": "stream",
     "text": [
      "[SCAN] Epoch 2: Loss = -8.3139\n"
     ]
    },
    {
     "name": "stderr",
     "output_type": "stream",
     "text": [
      "Epoch 3/50: 100%|██████████| 1/1 [00:00<00:00, 18.66it/s]\n"
     ]
    },
    {
     "name": "stdout",
     "output_type": "stream",
     "text": [
      "[SCAN] Epoch 3: Loss = -8.3144\n"
     ]
    },
    {
     "name": "stderr",
     "output_type": "stream",
     "text": [
      "Epoch 4/50: 100%|██████████| 1/1 [00:00<00:00,  9.01it/s]\n"
     ]
    },
    {
     "name": "stdout",
     "output_type": "stream",
     "text": [
      "[SCAN] Epoch 4: Loss = -8.3149\n"
     ]
    },
    {
     "name": "stderr",
     "output_type": "stream",
     "text": [
      "Epoch 5/50: 100%|██████████| 1/1 [00:00<00:00, 15.28it/s]\n"
     ]
    },
    {
     "name": "stdout",
     "output_type": "stream",
     "text": [
      "[SCAN] Epoch 5: Loss = -8.3153\n"
     ]
    },
    {
     "name": "stderr",
     "output_type": "stream",
     "text": [
      "Epoch 6/50: 100%|██████████| 1/1 [00:00<00:00, 16.43it/s]\n"
     ]
    },
    {
     "name": "stdout",
     "output_type": "stream",
     "text": [
      "[SCAN] Epoch 6: Loss = -8.3158\n"
     ]
    },
    {
     "name": "stderr",
     "output_type": "stream",
     "text": [
      "Epoch 7/50: 100%|██████████| 1/1 [00:00<00:00, 15.74it/s]\n"
     ]
    },
    {
     "name": "stdout",
     "output_type": "stream",
     "text": [
      "[SCAN] Epoch 7: Loss = -8.3163\n"
     ]
    },
    {
     "name": "stderr",
     "output_type": "stream",
     "text": [
      "Epoch 8/50: 100%|██████████| 1/1 [00:00<00:00, 15.79it/s]\n"
     ]
    },
    {
     "name": "stdout",
     "output_type": "stream",
     "text": [
      "[SCAN] Epoch 8: Loss = -8.3169\n"
     ]
    },
    {
     "name": "stderr",
     "output_type": "stream",
     "text": [
      "Epoch 9/50: 100%|██████████| 1/1 [00:00<00:00, 13.35it/s]\n"
     ]
    },
    {
     "name": "stdout",
     "output_type": "stream",
     "text": [
      "[SCAN] Epoch 9: Loss = -8.3174\n"
     ]
    },
    {
     "name": "stderr",
     "output_type": "stream",
     "text": [
      "Epoch 10/50: 100%|██████████| 1/1 [00:00<00:00, 14.52it/s]\n"
     ]
    },
    {
     "name": "stdout",
     "output_type": "stream",
     "text": [
      "[SCAN] Epoch 10: Loss = -8.3180\n"
     ]
    },
    {
     "name": "stderr",
     "output_type": "stream",
     "text": [
      "Epoch 11/50: 100%|██████████| 1/1 [00:00<00:00, 16.07it/s]\n"
     ]
    },
    {
     "name": "stdout",
     "output_type": "stream",
     "text": [
      "[SCAN] Epoch 11: Loss = -8.3185\n"
     ]
    },
    {
     "name": "stderr",
     "output_type": "stream",
     "text": [
      "Epoch 12/50: 100%|██████████| 1/1 [00:00<00:00, 15.90it/s]\n"
     ]
    },
    {
     "name": "stdout",
     "output_type": "stream",
     "text": [
      "[SCAN] Epoch 12: Loss = -8.3191\n"
     ]
    },
    {
     "name": "stderr",
     "output_type": "stream",
     "text": [
      "Epoch 13/50: 100%|██████████| 1/1 [00:00<00:00, 17.72it/s]\n"
     ]
    },
    {
     "name": "stdout",
     "output_type": "stream",
     "text": [
      "[SCAN] Epoch 13: Loss = -8.3197\n"
     ]
    },
    {
     "name": "stderr",
     "output_type": "stream",
     "text": [
      "Epoch 14/50: 100%|██████████| 1/1 [00:00<00:00, 18.39it/s]\n"
     ]
    },
    {
     "name": "stdout",
     "output_type": "stream",
     "text": [
      "[SCAN] Epoch 14: Loss = -8.3203\n"
     ]
    },
    {
     "name": "stderr",
     "output_type": "stream",
     "text": [
      "Epoch 15/50: 100%|██████████| 1/1 [00:00<00:00, 11.39it/s]\n"
     ]
    },
    {
     "name": "stdout",
     "output_type": "stream",
     "text": [
      "[SCAN] Epoch 15: Loss = -8.3209\n"
     ]
    },
    {
     "name": "stderr",
     "output_type": "stream",
     "text": [
      "Epoch 16/50: 100%|██████████| 1/1 [00:00<00:00, 12.30it/s]\n"
     ]
    },
    {
     "name": "stdout",
     "output_type": "stream",
     "text": [
      "[SCAN] Epoch 16: Loss = -8.3216\n"
     ]
    },
    {
     "name": "stderr",
     "output_type": "stream",
     "text": [
      "Epoch 17/50: 100%|██████████| 1/1 [00:00<00:00, 15.41it/s]\n"
     ]
    },
    {
     "name": "stdout",
     "output_type": "stream",
     "text": [
      "[SCAN] Epoch 17: Loss = -8.3223\n"
     ]
    },
    {
     "name": "stderr",
     "output_type": "stream",
     "text": [
      "Epoch 18/50: 100%|██████████| 1/1 [00:00<00:00, 16.66it/s]\n"
     ]
    },
    {
     "name": "stdout",
     "output_type": "stream",
     "text": [
      "[SCAN] Epoch 18: Loss = -8.3230\n"
     ]
    },
    {
     "name": "stderr",
     "output_type": "stream",
     "text": [
      "Epoch 19/50: 100%|██████████| 1/1 [00:00<00:00, 15.86it/s]\n"
     ]
    },
    {
     "name": "stdout",
     "output_type": "stream",
     "text": [
      "[SCAN] Epoch 19: Loss = -8.3237\n"
     ]
    },
    {
     "name": "stderr",
     "output_type": "stream",
     "text": [
      "Epoch 20/50: 100%|██████████| 1/1 [00:00<00:00, 13.59it/s]\n"
     ]
    },
    {
     "name": "stdout",
     "output_type": "stream",
     "text": [
      "[SCAN] Epoch 20: Loss = -8.3245\n"
     ]
    },
    {
     "name": "stderr",
     "output_type": "stream",
     "text": [
      "Epoch 21/50: 100%|██████████| 1/1 [00:00<00:00, 15.34it/s]\n"
     ]
    },
    {
     "name": "stdout",
     "output_type": "stream",
     "text": [
      "[SCAN] Epoch 21: Loss = -8.3253\n"
     ]
    },
    {
     "name": "stderr",
     "output_type": "stream",
     "text": [
      "Epoch 22/50: 100%|██████████| 1/1 [00:00<00:00, 18.27it/s]\n"
     ]
    },
    {
     "name": "stdout",
     "output_type": "stream",
     "text": [
      "[SCAN] Epoch 22: Loss = -8.3261\n"
     ]
    },
    {
     "name": "stderr",
     "output_type": "stream",
     "text": [
      "Epoch 23/50: 100%|██████████| 1/1 [00:00<00:00, 18.09it/s]\n"
     ]
    },
    {
     "name": "stdout",
     "output_type": "stream",
     "text": [
      "[SCAN] Epoch 23: Loss = -8.3270\n"
     ]
    },
    {
     "name": "stderr",
     "output_type": "stream",
     "text": [
      "Epoch 24/50: 100%|██████████| 1/1 [00:00<00:00, 17.61it/s]\n"
     ]
    },
    {
     "name": "stdout",
     "output_type": "stream",
     "text": [
      "[SCAN] Epoch 24: Loss = -8.3278\n"
     ]
    },
    {
     "name": "stderr",
     "output_type": "stream",
     "text": [
      "Epoch 25/50: 100%|██████████| 1/1 [00:00<00:00, 14.65it/s]\n"
     ]
    },
    {
     "name": "stdout",
     "output_type": "stream",
     "text": [
      "[SCAN] Epoch 25: Loss = -8.3288\n"
     ]
    },
    {
     "name": "stderr",
     "output_type": "stream",
     "text": [
      "Epoch 26/50: 100%|██████████| 1/1 [00:00<00:00, 17.24it/s]\n"
     ]
    },
    {
     "name": "stdout",
     "output_type": "stream",
     "text": [
      "[SCAN] Epoch 26: Loss = -8.3297\n"
     ]
    },
    {
     "name": "stderr",
     "output_type": "stream",
     "text": [
      "Epoch 27/50: 100%|██████████| 1/1 [00:00<00:00, 10.20it/s]\n"
     ]
    },
    {
     "name": "stdout",
     "output_type": "stream",
     "text": [
      "[SCAN] Epoch 27: Loss = -8.3307\n"
     ]
    },
    {
     "name": "stderr",
     "output_type": "stream",
     "text": [
      "Epoch 28/50: 100%|██████████| 1/1 [00:00<00:00, 13.73it/s]\n"
     ]
    },
    {
     "name": "stdout",
     "output_type": "stream",
     "text": [
      "[SCAN] Epoch 28: Loss = -8.3317\n"
     ]
    },
    {
     "name": "stderr",
     "output_type": "stream",
     "text": [
      "Epoch 29/50: 100%|██████████| 1/1 [00:00<00:00, 16.87it/s]\n"
     ]
    },
    {
     "name": "stdout",
     "output_type": "stream",
     "text": [
      "[SCAN] Epoch 29: Loss = -8.3328\n"
     ]
    },
    {
     "name": "stderr",
     "output_type": "stream",
     "text": [
      "Epoch 30/50: 100%|██████████| 1/1 [00:00<00:00, 16.45it/s]\n"
     ]
    },
    {
     "name": "stdout",
     "output_type": "stream",
     "text": [
      "[SCAN] Epoch 30: Loss = -8.3339\n"
     ]
    },
    {
     "name": "stderr",
     "output_type": "stream",
     "text": [
      "Epoch 31/50: 100%|██████████| 1/1 [00:00<00:00, 15.61it/s]\n"
     ]
    },
    {
     "name": "stdout",
     "output_type": "stream",
     "text": [
      "[SCAN] Epoch 31: Loss = -8.3350\n"
     ]
    },
    {
     "name": "stderr",
     "output_type": "stream",
     "text": [
      "Epoch 32/50: 100%|██████████| 1/1 [00:00<00:00, 14.71it/s]\n"
     ]
    },
    {
     "name": "stdout",
     "output_type": "stream",
     "text": [
      "[SCAN] Epoch 32: Loss = -8.3362\n"
     ]
    },
    {
     "name": "stderr",
     "output_type": "stream",
     "text": [
      "Epoch 33/50: 100%|██████████| 1/1 [00:00<00:00, 15.62it/s]\n"
     ]
    },
    {
     "name": "stdout",
     "output_type": "stream",
     "text": [
      "[SCAN] Epoch 33: Loss = -8.3375\n"
     ]
    },
    {
     "name": "stderr",
     "output_type": "stream",
     "text": [
      "Epoch 34/50: 100%|██████████| 1/1 [00:00<00:00, 16.84it/s]\n"
     ]
    },
    {
     "name": "stdout",
     "output_type": "stream",
     "text": [
      "[SCAN] Epoch 34: Loss = -8.3387\n"
     ]
    },
    {
     "name": "stderr",
     "output_type": "stream",
     "text": [
      "Epoch 35/50: 100%|██████████| 1/1 [00:00<00:00, 16.39it/s]\n"
     ]
    },
    {
     "name": "stdout",
     "output_type": "stream",
     "text": [
      "[SCAN] Epoch 35: Loss = -8.3400\n"
     ]
    },
    {
     "name": "stderr",
     "output_type": "stream",
     "text": [
      "Epoch 36/50: 100%|██████████| 1/1 [00:00<00:00, 16.74it/s]\n"
     ]
    },
    {
     "name": "stdout",
     "output_type": "stream",
     "text": [
      "[SCAN] Epoch 36: Loss = -8.3414\n"
     ]
    },
    {
     "name": "stderr",
     "output_type": "stream",
     "text": [
      "Epoch 37/50: 100%|██████████| 1/1 [00:00<00:00, 16.61it/s]\n"
     ]
    },
    {
     "name": "stdout",
     "output_type": "stream",
     "text": [
      "[SCAN] Epoch 37: Loss = -8.3428\n"
     ]
    },
    {
     "name": "stderr",
     "output_type": "stream",
     "text": [
      "Epoch 38/50: 100%|██████████| 1/1 [00:00<00:00, 16.80it/s]\n"
     ]
    },
    {
     "name": "stdout",
     "output_type": "stream",
     "text": [
      "[SCAN] Epoch 38: Loss = -8.3442\n"
     ]
    },
    {
     "name": "stderr",
     "output_type": "stream",
     "text": [
      "Epoch 39/50: 100%|██████████| 1/1 [00:00<00:00,  7.84it/s]\n"
     ]
    },
    {
     "name": "stdout",
     "output_type": "stream",
     "text": [
      "[SCAN] Epoch 39: Loss = -8.3457\n"
     ]
    },
    {
     "name": "stderr",
     "output_type": "stream",
     "text": [
      "Epoch 40/50: 100%|██████████| 1/1 [00:00<00:00, 10.46it/s]\n"
     ]
    },
    {
     "name": "stdout",
     "output_type": "stream",
     "text": [
      "[SCAN] Epoch 40: Loss = -8.3473\n"
     ]
    },
    {
     "name": "stderr",
     "output_type": "stream",
     "text": [
      "Epoch 41/50: 100%|██████████| 1/1 [00:00<00:00, 15.05it/s]\n"
     ]
    },
    {
     "name": "stdout",
     "output_type": "stream",
     "text": [
      "[SCAN] Epoch 41: Loss = -8.3488\n"
     ]
    },
    {
     "name": "stderr",
     "output_type": "stream",
     "text": [
      "Epoch 42/50: 100%|██████████| 1/1 [00:00<00:00, 15.49it/s]\n"
     ]
    },
    {
     "name": "stdout",
     "output_type": "stream",
     "text": [
      "[SCAN] Epoch 42: Loss = -8.3505\n"
     ]
    },
    {
     "name": "stderr",
     "output_type": "stream",
     "text": [
      "Epoch 43/50: 100%|██████████| 1/1 [00:00<00:00, 16.02it/s]\n"
     ]
    },
    {
     "name": "stdout",
     "output_type": "stream",
     "text": [
      "[SCAN] Epoch 43: Loss = -8.3521\n"
     ]
    },
    {
     "name": "stderr",
     "output_type": "stream",
     "text": [
      "Epoch 44/50: 100%|██████████| 1/1 [00:00<00:00, 18.14it/s]\n"
     ]
    },
    {
     "name": "stdout",
     "output_type": "stream",
     "text": [
      "[SCAN] Epoch 44: Loss = -8.3538\n"
     ]
    },
    {
     "name": "stderr",
     "output_type": "stream",
     "text": [
      "Epoch 45/50: 100%|██████████| 1/1 [00:00<00:00, 14.71it/s]\n"
     ]
    },
    {
     "name": "stdout",
     "output_type": "stream",
     "text": [
      "[SCAN] Epoch 45: Loss = -8.3556\n"
     ]
    },
    {
     "name": "stderr",
     "output_type": "stream",
     "text": [
      "Epoch 46/50: 100%|██████████| 1/1 [00:00<00:00, 14.37it/s]\n"
     ]
    },
    {
     "name": "stdout",
     "output_type": "stream",
     "text": [
      "[SCAN] Epoch 46: Loss = -8.3574\n"
     ]
    },
    {
     "name": "stderr",
     "output_type": "stream",
     "text": [
      "Epoch 47/50: 100%|██████████| 1/1 [00:00<00:00, 16.61it/s]\n"
     ]
    },
    {
     "name": "stdout",
     "output_type": "stream",
     "text": [
      "[SCAN] Epoch 47: Loss = -8.3593\n"
     ]
    },
    {
     "name": "stderr",
     "output_type": "stream",
     "text": [
      "Epoch 48/50: 100%|██████████| 1/1 [00:00<00:00, 15.54it/s]\n"
     ]
    },
    {
     "name": "stdout",
     "output_type": "stream",
     "text": [
      "[SCAN] Epoch 48: Loss = -8.3612\n"
     ]
    },
    {
     "name": "stderr",
     "output_type": "stream",
     "text": [
      "Epoch 49/50: 100%|██████████| 1/1 [00:00<00:00, 18.89it/s]\n"
     ]
    },
    {
     "name": "stdout",
     "output_type": "stream",
     "text": [
      "[SCAN] Epoch 49: Loss = -8.3631\n"
     ]
    },
    {
     "name": "stderr",
     "output_type": "stream",
     "text": [
      "Epoch 50/50: 100%|██████████| 1/1 [00:00<00:00, 19.41it/s]\n"
     ]
    },
    {
     "name": "stdout",
     "output_type": "stream",
     "text": [
      "[SCAN] Epoch 50: Loss = -8.3651\n",
      "\n",
      "🔁 Training SCAN for n_clusters = 9\n"
     ]
    },
    {
     "name": "stderr",
     "output_type": "stream",
     "text": [
      "Epoch 1/50: 100%|██████████| 1/1 [00:00<00:00, 10.66it/s]\n"
     ]
    },
    {
     "name": "stdout",
     "output_type": "stream",
     "text": [
      "[SCAN] Epoch 1: Loss = -8.7867\n"
     ]
    },
    {
     "name": "stderr",
     "output_type": "stream",
     "text": [
      "Epoch 2/50: 100%|██████████| 1/1 [00:00<00:00, 15.47it/s]\n"
     ]
    },
    {
     "name": "stdout",
     "output_type": "stream",
     "text": [
      "[SCAN] Epoch 2: Loss = -8.7872\n"
     ]
    },
    {
     "name": "stderr",
     "output_type": "stream",
     "text": [
      "Epoch 3/50: 100%|██████████| 1/1 [00:00<00:00, 18.45it/s]\n"
     ]
    },
    {
     "name": "stdout",
     "output_type": "stream",
     "text": [
      "[SCAN] Epoch 3: Loss = -8.7877\n"
     ]
    },
    {
     "name": "stderr",
     "output_type": "stream",
     "text": [
      "Epoch 4/50: 100%|██████████| 1/1 [00:00<00:00, 16.87it/s]\n"
     ]
    },
    {
     "name": "stdout",
     "output_type": "stream",
     "text": [
      "[SCAN] Epoch 4: Loss = -8.7882\n"
     ]
    },
    {
     "name": "stderr",
     "output_type": "stream",
     "text": [
      "Epoch 5/50: 100%|██████████| 1/1 [00:00<00:00, 16.78it/s]\n"
     ]
    },
    {
     "name": "stdout",
     "output_type": "stream",
     "text": [
      "[SCAN] Epoch 5: Loss = -8.7887\n"
     ]
    },
    {
     "name": "stderr",
     "output_type": "stream",
     "text": [
      "Epoch 6/50: 100%|██████████| 1/1 [00:00<00:00, 17.80it/s]\n"
     ]
    },
    {
     "name": "stdout",
     "output_type": "stream",
     "text": [
      "[SCAN] Epoch 6: Loss = -8.7893\n"
     ]
    },
    {
     "name": "stderr",
     "output_type": "stream",
     "text": [
      "Epoch 7/50: 100%|██████████| 1/1 [00:00<00:00, 16.77it/s]\n"
     ]
    },
    {
     "name": "stdout",
     "output_type": "stream",
     "text": [
      "[SCAN] Epoch 7: Loss = -8.7898\n"
     ]
    },
    {
     "name": "stderr",
     "output_type": "stream",
     "text": [
      "Epoch 8/50: 100%|██████████| 1/1 [00:00<00:00, 17.71it/s]\n"
     ]
    },
    {
     "name": "stdout",
     "output_type": "stream",
     "text": [
      "[SCAN] Epoch 8: Loss = -8.7904\n"
     ]
    },
    {
     "name": "stderr",
     "output_type": "stream",
     "text": [
      "Epoch 9/50: 100%|██████████| 1/1 [00:00<00:00, 16.08it/s]\n"
     ]
    },
    {
     "name": "stdout",
     "output_type": "stream",
     "text": [
      "[SCAN] Epoch 9: Loss = -8.7909\n"
     ]
    },
    {
     "name": "stderr",
     "output_type": "stream",
     "text": [
      "Epoch 10/50: 100%|██████████| 1/1 [00:00<00:00, 14.50it/s]\n"
     ]
    },
    {
     "name": "stdout",
     "output_type": "stream",
     "text": [
      "[SCAN] Epoch 10: Loss = -8.7915\n"
     ]
    },
    {
     "name": "stderr",
     "output_type": "stream",
     "text": [
      "Epoch 11/50: 100%|██████████| 1/1 [00:00<00:00, 10.48it/s]\n"
     ]
    },
    {
     "name": "stdout",
     "output_type": "stream",
     "text": [
      "[SCAN] Epoch 11: Loss = -8.7921\n"
     ]
    },
    {
     "name": "stderr",
     "output_type": "stream",
     "text": [
      "Epoch 12/50: 100%|██████████| 1/1 [00:00<00:00, 11.58it/s]\n"
     ]
    },
    {
     "name": "stdout",
     "output_type": "stream",
     "text": [
      "[SCAN] Epoch 12: Loss = -8.7927\n"
     ]
    },
    {
     "name": "stderr",
     "output_type": "stream",
     "text": [
      "Epoch 13/50: 100%|██████████| 1/1 [00:00<00:00, 16.83it/s]\n"
     ]
    },
    {
     "name": "stdout",
     "output_type": "stream",
     "text": [
      "[SCAN] Epoch 13: Loss = -8.7934\n"
     ]
    },
    {
     "name": "stderr",
     "output_type": "stream",
     "text": [
      "Epoch 14/50: 100%|██████████| 1/1 [00:00<00:00,  7.48it/s]\n"
     ]
    },
    {
     "name": "stdout",
     "output_type": "stream",
     "text": [
      "[SCAN] Epoch 14: Loss = -8.7940\n"
     ]
    },
    {
     "name": "stderr",
     "output_type": "stream",
     "text": [
      "Epoch 15/50: 100%|██████████| 1/1 [00:00<00:00,  8.98it/s]\n"
     ]
    },
    {
     "name": "stdout",
     "output_type": "stream",
     "text": [
      "[SCAN] Epoch 15: Loss = -8.7947\n"
     ]
    },
    {
     "name": "stderr",
     "output_type": "stream",
     "text": [
      "Epoch 16/50: 100%|██████████| 1/1 [00:00<00:00, 15.81it/s]\n"
     ]
    },
    {
     "name": "stdout",
     "output_type": "stream",
     "text": [
      "[SCAN] Epoch 16: Loss = -8.7954\n"
     ]
    },
    {
     "name": "stderr",
     "output_type": "stream",
     "text": [
      "Epoch 17/50: 100%|██████████| 1/1 [00:00<00:00, 15.63it/s]\n"
     ]
    },
    {
     "name": "stdout",
     "output_type": "stream",
     "text": [
      "[SCAN] Epoch 17: Loss = -8.7961\n"
     ]
    },
    {
     "name": "stderr",
     "output_type": "stream",
     "text": [
      "Epoch 18/50: 100%|██████████| 1/1 [00:00<00:00, 12.95it/s]\n"
     ]
    },
    {
     "name": "stdout",
     "output_type": "stream",
     "text": [
      "[SCAN] Epoch 18: Loss = -8.7969\n"
     ]
    },
    {
     "name": "stderr",
     "output_type": "stream",
     "text": [
      "Epoch 19/50: 100%|██████████| 1/1 [00:00<00:00, 12.40it/s]\n"
     ]
    },
    {
     "name": "stdout",
     "output_type": "stream",
     "text": [
      "[SCAN] Epoch 19: Loss = -8.7976\n"
     ]
    },
    {
     "name": "stderr",
     "output_type": "stream",
     "text": [
      "Epoch 20/50: 100%|██████████| 1/1 [00:00<00:00, 19.33it/s]\n"
     ]
    },
    {
     "name": "stdout",
     "output_type": "stream",
     "text": [
      "[SCAN] Epoch 20: Loss = -8.7984\n"
     ]
    },
    {
     "name": "stderr",
     "output_type": "stream",
     "text": [
      "Epoch 21/50: 100%|██████████| 1/1 [00:00<00:00, 19.47it/s]\n"
     ]
    },
    {
     "name": "stdout",
     "output_type": "stream",
     "text": [
      "[SCAN] Epoch 21: Loss = -8.7993\n"
     ]
    },
    {
     "name": "stderr",
     "output_type": "stream",
     "text": [
      "Epoch 22/50: 100%|██████████| 1/1 [00:00<00:00, 17.98it/s]\n"
     ]
    },
    {
     "name": "stdout",
     "output_type": "stream",
     "text": [
      "[SCAN] Epoch 22: Loss = -8.8001\n"
     ]
    },
    {
     "name": "stderr",
     "output_type": "stream",
     "text": [
      "Epoch 23/50: 100%|██████████| 1/1 [00:00<00:00, 16.78it/s]\n"
     ]
    },
    {
     "name": "stdout",
     "output_type": "stream",
     "text": [
      "[SCAN] Epoch 23: Loss = -8.8010\n"
     ]
    },
    {
     "name": "stderr",
     "output_type": "stream",
     "text": [
      "Epoch 24/50: 100%|██████████| 1/1 [00:00<00:00, 16.66it/s]\n"
     ]
    },
    {
     "name": "stdout",
     "output_type": "stream",
     "text": [
      "[SCAN] Epoch 24: Loss = -8.8019\n"
     ]
    },
    {
     "name": "stderr",
     "output_type": "stream",
     "text": [
      "Epoch 25/50: 100%|██████████| 1/1 [00:00<00:00, 15.13it/s]\n"
     ]
    },
    {
     "name": "stdout",
     "output_type": "stream",
     "text": [
      "[SCAN] Epoch 25: Loss = -8.8029\n"
     ]
    },
    {
     "name": "stderr",
     "output_type": "stream",
     "text": [
      "Epoch 26/50: 100%|██████████| 1/1 [00:00<00:00, 14.00it/s]\n"
     ]
    },
    {
     "name": "stdout",
     "output_type": "stream",
     "text": [
      "[SCAN] Epoch 26: Loss = -8.8038\n"
     ]
    },
    {
     "name": "stderr",
     "output_type": "stream",
     "text": [
      "Epoch 27/50: 100%|██████████| 1/1 [00:00<00:00, 10.13it/s]\n"
     ]
    },
    {
     "name": "stdout",
     "output_type": "stream",
     "text": [
      "[SCAN] Epoch 27: Loss = -8.8048\n"
     ]
    },
    {
     "name": "stderr",
     "output_type": "stream",
     "text": [
      "Epoch 28/50: 100%|██████████| 1/1 [00:00<00:00,  9.69it/s]\n"
     ]
    },
    {
     "name": "stdout",
     "output_type": "stream",
     "text": [
      "[SCAN] Epoch 28: Loss = -8.8059\n"
     ]
    },
    {
     "name": "stderr",
     "output_type": "stream",
     "text": [
      "Epoch 29/50: 100%|██████████| 1/1 [00:00<00:00, 14.99it/s]\n"
     ]
    },
    {
     "name": "stdout",
     "output_type": "stream",
     "text": [
      "[SCAN] Epoch 29: Loss = -8.8070\n"
     ]
    },
    {
     "name": "stderr",
     "output_type": "stream",
     "text": [
      "Epoch 30/50: 100%|██████████| 1/1 [00:00<00:00, 15.65it/s]\n"
     ]
    },
    {
     "name": "stdout",
     "output_type": "stream",
     "text": [
      "[SCAN] Epoch 30: Loss = -8.8081\n"
     ]
    },
    {
     "name": "stderr",
     "output_type": "stream",
     "text": [
      "Epoch 31/50: 100%|██████████| 1/1 [00:00<00:00,  7.33it/s]\n"
     ]
    },
    {
     "name": "stdout",
     "output_type": "stream",
     "text": [
      "[SCAN] Epoch 31: Loss = -8.8093\n"
     ]
    },
    {
     "name": "stderr",
     "output_type": "stream",
     "text": [
      "Epoch 32/50: 100%|██████████| 1/1 [00:00<00:00, 13.82it/s]\n"
     ]
    },
    {
     "name": "stdout",
     "output_type": "stream",
     "text": [
      "[SCAN] Epoch 32: Loss = -8.8105\n"
     ]
    },
    {
     "name": "stderr",
     "output_type": "stream",
     "text": [
      "Epoch 33/50: 100%|██████████| 1/1 [00:00<00:00, 12.68it/s]\n"
     ]
    },
    {
     "name": "stdout",
     "output_type": "stream",
     "text": [
      "[SCAN] Epoch 33: Loss = -8.8117\n"
     ]
    },
    {
     "name": "stderr",
     "output_type": "stream",
     "text": [
      "Epoch 34/50: 100%|██████████| 1/1 [00:00<00:00, 13.12it/s]\n"
     ]
    },
    {
     "name": "stdout",
     "output_type": "stream",
     "text": [
      "[SCAN] Epoch 34: Loss = -8.8130\n"
     ]
    },
    {
     "name": "stderr",
     "output_type": "stream",
     "text": [
      "Epoch 35/50: 100%|██████████| 1/1 [00:00<00:00, 15.15it/s]\n"
     ]
    },
    {
     "name": "stdout",
     "output_type": "stream",
     "text": [
      "[SCAN] Epoch 35: Loss = -8.8143\n"
     ]
    },
    {
     "name": "stderr",
     "output_type": "stream",
     "text": [
      "Epoch 36/50: 100%|██████████| 1/1 [00:00<00:00, 15.68it/s]\n"
     ]
    },
    {
     "name": "stdout",
     "output_type": "stream",
     "text": [
      "[SCAN] Epoch 36: Loss = -8.8157\n"
     ]
    },
    {
     "name": "stderr",
     "output_type": "stream",
     "text": [
      "Epoch 37/50: 100%|██████████| 1/1 [00:00<00:00, 13.89it/s]\n"
     ]
    },
    {
     "name": "stdout",
     "output_type": "stream",
     "text": [
      "[SCAN] Epoch 37: Loss = -8.8171\n"
     ]
    },
    {
     "name": "stderr",
     "output_type": "stream",
     "text": [
      "Epoch 38/50: 100%|██████████| 1/1 [00:00<00:00, 13.80it/s]\n"
     ]
    },
    {
     "name": "stdout",
     "output_type": "stream",
     "text": [
      "[SCAN] Epoch 38: Loss = -8.8186\n"
     ]
    },
    {
     "name": "stderr",
     "output_type": "stream",
     "text": [
      "Epoch 39/50: 100%|██████████| 1/1 [00:00<00:00, 12.39it/s]\n"
     ]
    },
    {
     "name": "stdout",
     "output_type": "stream",
     "text": [
      "[SCAN] Epoch 39: Loss = -8.8201\n"
     ]
    },
    {
     "name": "stderr",
     "output_type": "stream",
     "text": [
      "Epoch 40/50: 100%|██████████| 1/1 [00:00<00:00, 14.63it/s]\n"
     ]
    },
    {
     "name": "stdout",
     "output_type": "stream",
     "text": [
      "[SCAN] Epoch 40: Loss = -8.8217\n"
     ]
    },
    {
     "name": "stderr",
     "output_type": "stream",
     "text": [
      "Epoch 41/50: 100%|██████████| 1/1 [00:00<00:00, 14.69it/s]\n"
     ]
    },
    {
     "name": "stdout",
     "output_type": "stream",
     "text": [
      "[SCAN] Epoch 41: Loss = -8.8233\n"
     ]
    },
    {
     "name": "stderr",
     "output_type": "stream",
     "text": [
      "Epoch 42/50: 100%|██████████| 1/1 [00:00<00:00, 15.83it/s]\n"
     ]
    },
    {
     "name": "stdout",
     "output_type": "stream",
     "text": [
      "[SCAN] Epoch 42: Loss = -8.8249\n"
     ]
    },
    {
     "name": "stderr",
     "output_type": "stream",
     "text": [
      "Epoch 43/50: 100%|██████████| 1/1 [00:00<00:00, 11.77it/s]\n"
     ]
    },
    {
     "name": "stdout",
     "output_type": "stream",
     "text": [
      "[SCAN] Epoch 43: Loss = -8.8267\n"
     ]
    },
    {
     "name": "stderr",
     "output_type": "stream",
     "text": [
      "Epoch 44/50: 100%|██████████| 1/1 [00:00<00:00,  8.26it/s]\n"
     ]
    },
    {
     "name": "stdout",
     "output_type": "stream",
     "text": [
      "[SCAN] Epoch 44: Loss = -8.8284\n"
     ]
    },
    {
     "name": "stderr",
     "output_type": "stream",
     "text": [
      "Epoch 45/50: 100%|██████████| 1/1 [00:00<00:00,  5.60it/s]\n"
     ]
    },
    {
     "name": "stdout",
     "output_type": "stream",
     "text": [
      "[SCAN] Epoch 45: Loss = -8.8302\n"
     ]
    },
    {
     "name": "stderr",
     "output_type": "stream",
     "text": [
      "Epoch 46/50: 100%|██████████| 1/1 [00:00<00:00,  9.60it/s]\n"
     ]
    },
    {
     "name": "stdout",
     "output_type": "stream",
     "text": [
      "[SCAN] Epoch 46: Loss = -8.8321\n"
     ]
    },
    {
     "name": "stderr",
     "output_type": "stream",
     "text": [
      "Epoch 47/50: 100%|██████████| 1/1 [00:00<00:00, 16.88it/s]\n"
     ]
    },
    {
     "name": "stdout",
     "output_type": "stream",
     "text": [
      "[SCAN] Epoch 47: Loss = -8.8340\n"
     ]
    },
    {
     "name": "stderr",
     "output_type": "stream",
     "text": [
      "Epoch 48/50: 100%|██████████| 1/1 [00:00<00:00, 17.83it/s]\n"
     ]
    },
    {
     "name": "stdout",
     "output_type": "stream",
     "text": [
      "[SCAN] Epoch 48: Loss = -8.8360\n"
     ]
    },
    {
     "name": "stderr",
     "output_type": "stream",
     "text": [
      "Epoch 49/50: 100%|██████████| 1/1 [00:00<00:00, 17.14it/s]\n"
     ]
    },
    {
     "name": "stdout",
     "output_type": "stream",
     "text": [
      "[SCAN] Epoch 49: Loss = -8.8380\n"
     ]
    },
    {
     "name": "stderr",
     "output_type": "stream",
     "text": [
      "Epoch 50/50: 100%|██████████| 1/1 [00:00<00:00, 17.31it/s]\n"
     ]
    },
    {
     "name": "stdout",
     "output_type": "stream",
     "text": [
      "[SCAN] Epoch 50: Loss = -8.8401\n",
      "\n",
      "🔁 Training SCAN for n_clusters = 10\n"
     ]
    },
    {
     "name": "stderr",
     "output_type": "stream",
     "text": [
      "Epoch 1/50: 100%|██████████| 1/1 [00:00<00:00, 17.99it/s]\n"
     ]
    },
    {
     "name": "stdout",
     "output_type": "stream",
     "text": [
      "[SCAN] Epoch 1: Loss = -9.2084\n"
     ]
    },
    {
     "name": "stderr",
     "output_type": "stream",
     "text": [
      "Epoch 2/50: 100%|██████████| 1/1 [00:00<00:00, 17.93it/s]\n"
     ]
    },
    {
     "name": "stdout",
     "output_type": "stream",
     "text": [
      "[SCAN] Epoch 2: Loss = -9.2088\n"
     ]
    },
    {
     "name": "stderr",
     "output_type": "stream",
     "text": [
      "Epoch 3/50: 100%|██████████| 1/1 [00:00<00:00, 18.71it/s]\n"
     ]
    },
    {
     "name": "stdout",
     "output_type": "stream",
     "text": [
      "[SCAN] Epoch 3: Loss = -9.2093\n"
     ]
    },
    {
     "name": "stderr",
     "output_type": "stream",
     "text": [
      "Epoch 4/50: 100%|██████████| 1/1 [00:00<00:00, 17.46it/s]\n"
     ]
    },
    {
     "name": "stdout",
     "output_type": "stream",
     "text": [
      "[SCAN] Epoch 4: Loss = -9.2098\n"
     ]
    },
    {
     "name": "stderr",
     "output_type": "stream",
     "text": [
      "Epoch 5/50: 100%|██████████| 1/1 [00:00<00:00, 17.64it/s]\n"
     ]
    },
    {
     "name": "stdout",
     "output_type": "stream",
     "text": [
      "[SCAN] Epoch 5: Loss = -9.2103\n"
     ]
    },
    {
     "name": "stderr",
     "output_type": "stream",
     "text": [
      "Epoch 6/50: 100%|██████████| 1/1 [00:00<00:00, 17.66it/s]\n"
     ]
    },
    {
     "name": "stdout",
     "output_type": "stream",
     "text": [
      "[SCAN] Epoch 6: Loss = -9.2108\n"
     ]
    },
    {
     "name": "stderr",
     "output_type": "stream",
     "text": [
      "Epoch 7/50: 100%|██████████| 1/1 [00:00<00:00, 12.10it/s]\n"
     ]
    },
    {
     "name": "stdout",
     "output_type": "stream",
     "text": [
      "[SCAN] Epoch 7: Loss = -9.2113\n"
     ]
    },
    {
     "name": "stderr",
     "output_type": "stream",
     "text": [
      "Epoch 8/50: 100%|██████████| 1/1 [00:00<00:00, 12.95it/s]\n"
     ]
    },
    {
     "name": "stdout",
     "output_type": "stream",
     "text": [
      "[SCAN] Epoch 8: Loss = -9.2118\n"
     ]
    },
    {
     "name": "stderr",
     "output_type": "stream",
     "text": [
      "Epoch 9/50: 100%|██████████| 1/1 [00:00<00:00, 20.27it/s]\n"
     ]
    },
    {
     "name": "stdout",
     "output_type": "stream",
     "text": [
      "[SCAN] Epoch 9: Loss = -9.2123\n"
     ]
    },
    {
     "name": "stderr",
     "output_type": "stream",
     "text": [
      "Epoch 10/50: 100%|██████████| 1/1 [00:00<00:00, 18.97it/s]\n"
     ]
    },
    {
     "name": "stdout",
     "output_type": "stream",
     "text": [
      "[SCAN] Epoch 10: Loss = -9.2128\n"
     ]
    },
    {
     "name": "stderr",
     "output_type": "stream",
     "text": [
      "Epoch 11/50: 100%|██████████| 1/1 [00:00<00:00, 19.68it/s]\n"
     ]
    },
    {
     "name": "stdout",
     "output_type": "stream",
     "text": [
      "[SCAN] Epoch 11: Loss = -9.2134\n"
     ]
    },
    {
     "name": "stderr",
     "output_type": "stream",
     "text": [
      "Epoch 12/50: 100%|██████████| 1/1 [00:00<00:00, 20.18it/s]\n"
     ]
    },
    {
     "name": "stdout",
     "output_type": "stream",
     "text": [
      "[SCAN] Epoch 12: Loss = -9.2140\n"
     ]
    },
    {
     "name": "stderr",
     "output_type": "stream",
     "text": [
      "Epoch 13/50: 100%|██████████| 1/1 [00:00<00:00, 18.58it/s]\n"
     ]
    },
    {
     "name": "stdout",
     "output_type": "stream",
     "text": [
      "[SCAN] Epoch 13: Loss = -9.2146\n"
     ]
    },
    {
     "name": "stderr",
     "output_type": "stream",
     "text": [
      "Epoch 14/50: 100%|██████████| 1/1 [00:00<00:00, 18.37it/s]\n"
     ]
    },
    {
     "name": "stdout",
     "output_type": "stream",
     "text": [
      "[SCAN] Epoch 14: Loss = -9.2152\n"
     ]
    },
    {
     "name": "stderr",
     "output_type": "stream",
     "text": [
      "Epoch 15/50: 100%|██████████| 1/1 [00:00<00:00, 17.47it/s]\n"
     ]
    },
    {
     "name": "stdout",
     "output_type": "stream",
     "text": [
      "[SCAN] Epoch 15: Loss = -9.2158\n"
     ]
    },
    {
     "name": "stderr",
     "output_type": "stream",
     "text": [
      "Epoch 16/50: 100%|██████████| 1/1 [00:00<00:00, 15.55it/s]\n"
     ]
    },
    {
     "name": "stdout",
     "output_type": "stream",
     "text": [
      "[SCAN] Epoch 16: Loss = -9.2165\n"
     ]
    },
    {
     "name": "stderr",
     "output_type": "stream",
     "text": [
      "Epoch 17/50: 100%|██████████| 1/1 [00:00<00:00, 16.08it/s]\n"
     ]
    },
    {
     "name": "stdout",
     "output_type": "stream",
     "text": [
      "[SCAN] Epoch 17: Loss = -9.2171\n"
     ]
    },
    {
     "name": "stderr",
     "output_type": "stream",
     "text": [
      "Epoch 18/50: 100%|██████████| 1/1 [00:00<00:00, 16.90it/s]\n"
     ]
    },
    {
     "name": "stdout",
     "output_type": "stream",
     "text": [
      "[SCAN] Epoch 18: Loss = -9.2178\n"
     ]
    },
    {
     "name": "stderr",
     "output_type": "stream",
     "text": [
      "Epoch 19/50: 100%|██████████| 1/1 [00:00<00:00, 17.68it/s]\n"
     ]
    },
    {
     "name": "stdout",
     "output_type": "stream",
     "text": [
      "[SCAN] Epoch 19: Loss = -9.2186\n"
     ]
    },
    {
     "name": "stderr",
     "output_type": "stream",
     "text": [
      "Epoch 20/50: 100%|██████████| 1/1 [00:00<00:00, 17.03it/s]\n"
     ]
    },
    {
     "name": "stdout",
     "output_type": "stream",
     "text": [
      "[SCAN] Epoch 20: Loss = -9.2193\n"
     ]
    },
    {
     "name": "stderr",
     "output_type": "stream",
     "text": [
      "Epoch 21/50: 100%|██████████| 1/1 [00:00<00:00, 14.82it/s]\n"
     ]
    },
    {
     "name": "stdout",
     "output_type": "stream",
     "text": [
      "[SCAN] Epoch 21: Loss = -9.2201\n"
     ]
    },
    {
     "name": "stderr",
     "output_type": "stream",
     "text": [
      "Epoch 22/50: 100%|██████████| 1/1 [00:00<00:00, 18.22it/s]\n"
     ]
    },
    {
     "name": "stdout",
     "output_type": "stream",
     "text": [
      "[SCAN] Epoch 22: Loss = -9.2209\n"
     ]
    },
    {
     "name": "stderr",
     "output_type": "stream",
     "text": [
      "Epoch 23/50: 100%|██████████| 1/1 [00:00<00:00,  9.83it/s]\n"
     ]
    },
    {
     "name": "stdout",
     "output_type": "stream",
     "text": [
      "[SCAN] Epoch 23: Loss = -9.2217\n"
     ]
    },
    {
     "name": "stderr",
     "output_type": "stream",
     "text": [
      "Epoch 24/50: 100%|██████████| 1/1 [00:00<00:00, 15.81it/s]\n"
     ]
    },
    {
     "name": "stdout",
     "output_type": "stream",
     "text": [
      "[SCAN] Epoch 24: Loss = -9.2226\n"
     ]
    },
    {
     "name": "stderr",
     "output_type": "stream",
     "text": [
      "Epoch 25/50: 100%|██████████| 1/1 [00:00<00:00, 18.93it/s]\n"
     ]
    },
    {
     "name": "stdout",
     "output_type": "stream",
     "text": [
      "[SCAN] Epoch 25: Loss = -9.2235\n"
     ]
    },
    {
     "name": "stderr",
     "output_type": "stream",
     "text": [
      "Epoch 26/50: 100%|██████████| 1/1 [00:00<00:00, 21.17it/s]\n"
     ]
    },
    {
     "name": "stdout",
     "output_type": "stream",
     "text": [
      "[SCAN] Epoch 26: Loss = -9.2245\n"
     ]
    },
    {
     "name": "stderr",
     "output_type": "stream",
     "text": [
      "Epoch 27/50: 100%|██████████| 1/1 [00:00<00:00, 15.82it/s]\n"
     ]
    },
    {
     "name": "stdout",
     "output_type": "stream",
     "text": [
      "[SCAN] Epoch 27: Loss = -9.2255\n"
     ]
    },
    {
     "name": "stderr",
     "output_type": "stream",
     "text": [
      "Epoch 28/50: 100%|██████████| 1/1 [00:00<00:00, 13.31it/s]\n"
     ]
    },
    {
     "name": "stdout",
     "output_type": "stream",
     "text": [
      "[SCAN] Epoch 28: Loss = -9.2265\n"
     ]
    },
    {
     "name": "stderr",
     "output_type": "stream",
     "text": [
      "Epoch 29/50: 100%|██████████| 1/1 [00:00<00:00, 17.57it/s]\n"
     ]
    },
    {
     "name": "stdout",
     "output_type": "stream",
     "text": [
      "[SCAN] Epoch 29: Loss = -9.2275\n"
     ]
    },
    {
     "name": "stderr",
     "output_type": "stream",
     "text": [
      "Epoch 30/50: 100%|██████████| 1/1 [00:00<00:00, 20.93it/s]\n"
     ]
    },
    {
     "name": "stdout",
     "output_type": "stream",
     "text": [
      "[SCAN] Epoch 30: Loss = -9.2286\n"
     ]
    },
    {
     "name": "stderr",
     "output_type": "stream",
     "text": [
      "Epoch 31/50: 100%|██████████| 1/1 [00:00<00:00, 19.15it/s]\n"
     ]
    },
    {
     "name": "stdout",
     "output_type": "stream",
     "text": [
      "[SCAN] Epoch 31: Loss = -9.2298\n"
     ]
    },
    {
     "name": "stderr",
     "output_type": "stream",
     "text": [
      "Epoch 32/50: 100%|██████████| 1/1 [00:00<00:00, 21.77it/s]\n"
     ]
    },
    {
     "name": "stdout",
     "output_type": "stream",
     "text": [
      "[SCAN] Epoch 32: Loss = -9.2310\n"
     ]
    },
    {
     "name": "stderr",
     "output_type": "stream",
     "text": [
      "Epoch 33/50: 100%|██████████| 1/1 [00:00<00:00, 20.27it/s]\n"
     ]
    },
    {
     "name": "stdout",
     "output_type": "stream",
     "text": [
      "[SCAN] Epoch 33: Loss = -9.2322\n"
     ]
    },
    {
     "name": "stderr",
     "output_type": "stream",
     "text": [
      "Epoch 34/50: 100%|██████████| 1/1 [00:00<00:00, 18.80it/s]\n"
     ]
    },
    {
     "name": "stdout",
     "output_type": "stream",
     "text": [
      "[SCAN] Epoch 34: Loss = -9.2335\n"
     ]
    },
    {
     "name": "stderr",
     "output_type": "stream",
     "text": [
      "Epoch 35/50: 100%|██████████| 1/1 [00:00<00:00, 17.37it/s]\n"
     ]
    },
    {
     "name": "stdout",
     "output_type": "stream",
     "text": [
      "[SCAN] Epoch 35: Loss = -9.2348\n"
     ]
    },
    {
     "name": "stderr",
     "output_type": "stream",
     "text": [
      "Epoch 36/50: 100%|██████████| 1/1 [00:00<00:00, 18.32it/s]\n"
     ]
    },
    {
     "name": "stdout",
     "output_type": "stream",
     "text": [
      "[SCAN] Epoch 36: Loss = -9.2361\n"
     ]
    },
    {
     "name": "stderr",
     "output_type": "stream",
     "text": [
      "Epoch 37/50: 100%|██████████| 1/1 [00:00<00:00, 10.58it/s]\n"
     ]
    },
    {
     "name": "stdout",
     "output_type": "stream",
     "text": [
      "[SCAN] Epoch 37: Loss = -9.2376\n"
     ]
    },
    {
     "name": "stderr",
     "output_type": "stream",
     "text": [
      "Epoch 38/50: 100%|██████████| 1/1 [00:00<00:00, 13.39it/s]\n"
     ]
    },
    {
     "name": "stdout",
     "output_type": "stream",
     "text": [
      "[SCAN] Epoch 38: Loss = -9.2390\n"
     ]
    },
    {
     "name": "stderr",
     "output_type": "stream",
     "text": [
      "Epoch 39/50: 100%|██████████| 1/1 [00:00<00:00, 18.91it/s]\n"
     ]
    },
    {
     "name": "stdout",
     "output_type": "stream",
     "text": [
      "[SCAN] Epoch 39: Loss = -9.2405\n"
     ]
    },
    {
     "name": "stderr",
     "output_type": "stream",
     "text": [
      "Epoch 40/50: 100%|██████████| 1/1 [00:00<00:00, 18.94it/s]\n"
     ]
    },
    {
     "name": "stdout",
     "output_type": "stream",
     "text": [
      "[SCAN] Epoch 40: Loss = -9.2421\n"
     ]
    },
    {
     "name": "stderr",
     "output_type": "stream",
     "text": [
      "Epoch 41/50: 100%|██████████| 1/1 [00:00<00:00, 18.94it/s]\n"
     ]
    },
    {
     "name": "stdout",
     "output_type": "stream",
     "text": [
      "[SCAN] Epoch 41: Loss = -9.2437\n"
     ]
    },
    {
     "name": "stderr",
     "output_type": "stream",
     "text": [
      "Epoch 42/50: 100%|██████████| 1/1 [00:00<00:00, 19.05it/s]\n"
     ]
    },
    {
     "name": "stdout",
     "output_type": "stream",
     "text": [
      "[SCAN] Epoch 42: Loss = -9.2454\n"
     ]
    },
    {
     "name": "stderr",
     "output_type": "stream",
     "text": [
      "Epoch 43/50: 100%|██████████| 1/1 [00:00<00:00, 18.43it/s]\n"
     ]
    },
    {
     "name": "stdout",
     "output_type": "stream",
     "text": [
      "[SCAN] Epoch 43: Loss = -9.2471\n"
     ]
    },
    {
     "name": "stderr",
     "output_type": "stream",
     "text": [
      "Epoch 44/50: 100%|██████████| 1/1 [00:00<00:00, 17.00it/s]\n"
     ]
    },
    {
     "name": "stdout",
     "output_type": "stream",
     "text": [
      "[SCAN] Epoch 44: Loss = -9.2489\n"
     ]
    },
    {
     "name": "stderr",
     "output_type": "stream",
     "text": [
      "Epoch 45/50: 100%|██████████| 1/1 [00:00<00:00, 17.14it/s]\n"
     ]
    },
    {
     "name": "stdout",
     "output_type": "stream",
     "text": [
      "[SCAN] Epoch 45: Loss = -9.2507\n"
     ]
    },
    {
     "name": "stderr",
     "output_type": "stream",
     "text": [
      "Epoch 46/50: 100%|██████████| 1/1 [00:00<00:00, 17.68it/s]\n"
     ]
    },
    {
     "name": "stdout",
     "output_type": "stream",
     "text": [
      "[SCAN] Epoch 46: Loss = -9.2526\n"
     ]
    },
    {
     "name": "stderr",
     "output_type": "stream",
     "text": [
      "Epoch 47/50: 100%|██████████| 1/1 [00:00<00:00, 16.43it/s]\n"
     ]
    },
    {
     "name": "stdout",
     "output_type": "stream",
     "text": [
      "[SCAN] Epoch 47: Loss = -9.2545\n"
     ]
    },
    {
     "name": "stderr",
     "output_type": "stream",
     "text": [
      "Epoch 48/50: 100%|██████████| 1/1 [00:00<00:00, 17.34it/s]\n"
     ]
    },
    {
     "name": "stdout",
     "output_type": "stream",
     "text": [
      "[SCAN] Epoch 48: Loss = -9.2565\n"
     ]
    },
    {
     "name": "stderr",
     "output_type": "stream",
     "text": [
      "Epoch 49/50: 100%|██████████| 1/1 [00:00<00:00, 16.48it/s]\n"
     ]
    },
    {
     "name": "stdout",
     "output_type": "stream",
     "text": [
      "[SCAN] Epoch 49: Loss = -9.2585\n"
     ]
    },
    {
     "name": "stderr",
     "output_type": "stream",
     "text": [
      "Epoch 50/50: 100%|██████████| 1/1 [00:00<00:00, 17.80it/s]\n"
     ]
    },
    {
     "name": "stdout",
     "output_type": "stream",
     "text": [
      "[SCAN] Epoch 50: Loss = -9.2606\n",
      "\n",
      "✅ SCAN clustering evaluation complete. Results saved to:\n",
      "[Testcase 18]_SCAN.csv\n"
     ]
    }
   ],
   "source": [
    "import numpy as np\n",
    "import pandas as pd\n",
    "from sklearn.metrics import silhouette_score, davies_bouldin_score, calinski_harabasz_score\n",
    "from sklearn.neighbors import NearestNeighbors\n",
    "from tqdm import tqdm\n",
    "import torch\n",
    "\n",
    "from train_scan import train_scan\n",
    "from scan_model import ClusterHead\n",
    "\n",
    "# Load precomputed features\n",
    "features = np.load(\"simclr_lulc_resnet18_epoch100_feature.npy\")\n",
    "features_tensor = torch.tensor(features, dtype=torch.float32)\n",
    "device = torch.device(\"cuda\" if torch.cuda.is_available() else \"cpu\")\n",
    "\n",
    "# ✅ Build neighbors once (before the loop)\n",
    "N = features.shape[0]\n",
    "k = min(5, N - 1)\n",
    "neighbors = NearestNeighbors(n_neighbors=k + 1, algorithm='auto').fit(features)\n",
    "_, indices = neighbors.kneighbors(features)\n",
    "neighbors_indices = [inds[1:] for inds in indices]  # Exclude self\n",
    "\n",
    "# Store results\n",
    "results = []\n",
    "\n",
    "for n_clusters in range(5, 11):\n",
    "    print(f\"\\n🔁 Training SCAN for n_clusters = {n_clusters}\")\n",
    "\n",
    "    # Build new cluster head\n",
    "    cluster_head = ClusterHead(n_clusters=n_clusters, feature_dim=features.shape[1]).to(device)\n",
    "\n",
    "    # Train SCAN\n",
    "    train_scan(features_tensor, neighbors_indices, cluster_head, epochs=50, device=device)\n",
    "\n",
    "    # Get predictions\n",
    "    with torch.no_grad():\n",
    "        preds = cluster_head(features_tensor.to(device)).cpu()\n",
    "        labels = preds.argmax(dim=1).numpy()\n",
    "\n",
    "    # Internal validation metrics\n",
    "    sil_score = silhouette_score(features, labels)\n",
    "    db_score = davies_bouldin_score(features, labels)\n",
    "    ch_score = calinski_harabasz_score(features, labels)\n",
    "\n",
    "    results.append({\n",
    "        'n_clusters': n_clusters,\n",
    "        'avg_silhouette_score': sil_score,\n",
    "        'avg_davies_bouldin_index': db_score,\n",
    "        'avg_calinski_harabasz_score': ch_score\n",
    "    })\n",
    "\n",
    "# Save results\n",
    "results_df = pd.DataFrame(results)\n",
    "output_path = \"[Testcase 18]_SCAN.csv\"\n",
    "results_df.to_csv(output_path, index=False)\n",
    "\n",
    "print(f\"\\n✅ SCAN clustering evaluation complete. Results saved to:\\n{output_path}\")"
   ]
  }
 ],
 "metadata": {
  "kernelspec": {
   "display_name": "scan",
   "language": "python",
   "name": "python3"
  },
  "language_info": {
   "codemirror_mode": {
    "name": "ipython",
    "version": 3
   },
   "file_extension": ".py",
   "mimetype": "text/x-python",
   "name": "python",
   "nbconvert_exporter": "python",
   "pygments_lexer": "ipython3",
   "version": "3.13.5"
  }
 },
 "nbformat": 4,
 "nbformat_minor": 5
}
